{
 "cells": [
  {
   "cell_type": "markdown",
   "id": "64f0e0e2ae285f0c",
   "metadata": {},
   "source": [
    "Used for testing both HiSCroll 12 inside Pump Locker"
   ]
  },
  {
   "cell_type": "markdown",
   "id": "d0263005",
   "metadata": {},
   "source": [
    "# Dual Vacuum Pump Control System\n",
    "\n",
    "This notebook provides control and monitoring capabilities for two vacuum pumps with pressure sensors.\n",
    "\n",
    "## Features:\n",
    "- Control for 2 HiScroll12 vacuum pumps\n",
    "- Monitoring for 2 TPG366 pressure sensors\n",
    "- Comprehensive logging using loguru\n",
    "- Cancelable continuous monitoring\n",
    "- Real-time data visualization"
   ]
  },
  {
   "cell_type": "markdown",
   "id": "d205c49e",
   "metadata": {},
   "source": [
    "## 1. Import Required Libraries and Setup"
   ]
  },
  {
   "cell_type": "code",
   "execution_count": 1,
   "id": "c2e905a6",
   "metadata": {
    "ExecuteTime": {
     "end_time": "2025-07-14T08:49:01.807983Z",
     "start_time": "2025-07-14T08:49:00.702232Z"
    }
   },
   "outputs": [],
   "source": [
    "import sys\n",
    "import threading\n",
    "import time\n",
    "from datetime import datetime\n",
    "import asyncio\n",
    "from typing import Dict, Optional, Any\n",
    "import pandas as pd\n",
    "import matplotlib.pyplot as plt\n",
    "from IPython.display import display, clear_output\n",
    "import ipywidgets as widgets\n",
    "\n",
    "\n",
    "from loguru import logger\n",
    "import os\n",
    "\n",
    "# Add path to custom modules\n",
    "sys.path.append(r'C:\\Users\\ESIBDlab\\PycharmProjects\\esibd_pfeiffervacuum')\n",
    "\n",
    "# Import pump and sensor modules\n",
    "from scrollpump import HiScroll12\n",
    "from pressure_readout import TPG366"
   ]
  },
  {
   "cell_type": "markdown",
   "id": "34ca174d",
   "metadata": {},
   "source": [
    "## 2. Install and Setup Logging with Loguru"
   ]
  },
  {
   "cell_type": "code",
   "execution_count": 2,
   "id": "7b1c57c6",
   "metadata": {
    "ExecuteTime": {
     "end_time": "2025-07-14T08:49:02.581888Z",
     "start_time": "2025-07-14T08:49:02.572023Z"
    }
   },
   "outputs": [
    {
     "name": "stderr",
     "output_type": "stream",
     "text": [
      "2025-07-14 10:49:02 | INFO | Dual pump control system initialized\n"
     ]
    },
    {
     "name": "stdout",
     "output_type": "stream",
     "text": [
      "Repository root: C:\\Users\\ESIBDlab\\PycharmProjects\\pump_locker_test\n",
      "Logs will be saved to: C:\\Users\\ESIBDlab\\PycharmProjects\\pump_locker_test\\logs\\pump_control_{time:YYYY-MM-DD}.log\n"
     ]
    }
   ],
   "source": [
    "# Get the current working directory (repository root)\n",
    "repo_root = os.getcwd()\n",
    "\n",
    "# Create logs directory within the repository if it doesn't exist\n",
    "log_dir = os.path.join(repo_root, \"logs\")\n",
    "if not os.path.exists(log_dir):\n",
    "    os.makedirs(log_dir)\n",
    "    print(f\"Created logs directory: {log_dir}\")\n",
    "\n",
    "# Configure logger with rotation and retention\n",
    "log_file = os.path.join(log_dir, \"pump_control_{time:YYYY-MM-DD}.log\")\n",
    "\n",
    "# Remove default logger\n",
    "logger.remove()\n",
    "\n",
    "# Add console logger with INFO level\n",
    "logger.add(sys.stderr, level=\"INFO\", format=\"{time:YYYY-MM-DD HH:mm:ss} | {level} | {message}\")\n",
    "\n",
    "# Add file logger with DEBUG level\n",
    "logger.add(\n",
    "    log_file,\n",
    "    level=\"DEBUG\",\n",
    "    format=\"{time:YYYY-MM-DD HH:mm:ss.SSS} | {level} | {name}:{function}:{line} | {message}\",\n",
    "    rotation=\"1 day\",\n",
    "    retention=\"30 days\",\n",
    "    compression=\"zip\"\n",
    ")\n",
    "\n",
    "logger.info(\"Dual pump control system initialized\")\n",
    "print(f\"Repository root: {repo_root}\")\n",
    "print(f\"Logs will be saved to: {os.path.abspath(log_file)}\")"
   ]
  },
  {
   "cell_type": "markdown",
   "id": "7cc5015a",
   "metadata": {},
   "source": [
    "## 3. Pump Control Class Definition"
   ]
  },
  {
   "cell_type": "code",
   "execution_count": 3,
   "id": "8c96311c",
   "metadata": {
    "ExecuteTime": {
     "end_time": "2025-07-14T08:49:04.328183Z",
     "start_time": "2025-07-14T08:49:04.319772Z"
    }
   },
   "outputs": [
    {
     "name": "stderr",
     "output_type": "stream",
     "text": [
      "2025-07-14 10:49:04 | INFO | DualPumpController initialized\n"
     ]
    }
   ],
   "source": [
    "class DualPumpController:\n",
    "    \"\"\"Controller class for managing two vacuum pumps and their pressure sensors\"\"\"\n",
    "    \n",
    "    def __init__(self):\n",
    "        self.pump1: Optional[HiScroll12] = None\n",
    "        self.pump2: Optional[HiScroll12] = None\n",
    "        self.pressure_controller: Optional[TPG366] = None  # Single controller for both sensors\n",
    "        \n",
    "        # Monitoring control\n",
    "        self.monitoring_active = False\n",
    "        self.monitoring_thread = None\n",
    "        self.monitoring_stop_event = threading.Event()\n",
    "        \n",
    "        # Data storage\n",
    "        self.monitoring_data = []\n",
    "        \n",
    "        logger.info(\"DualPumpController initialized\")\n",
    "    \n",
    "    def connect_pumps(self, pump1_com: str, pump1_addr: int, pump2_com: str, pump2_addr: int):\n",
    "        \"\"\"Connect to both vacuum pumps\"\"\"\n",
    "        try:\n",
    "            logger.info(f\"Connecting to Pump 1 on {pump1_com}, address {pump1_addr}\")\n",
    "            self.pump1 = HiScroll12(pump1_com, pump1_addr)\n",
    "            \n",
    "            logger.info(f\"Connecting to Pump 2 on {pump2_com}, address {pump2_addr}\")\n",
    "            self.pump2 = HiScroll12(pump2_com, pump2_addr)\n",
    "            \n",
    "            logger.success(\"Both pumps connected successfully\")\n",
    "            return True\n",
    "            \n",
    "        except Exception as e:\n",
    "            logger.error(f\"Failed to connect pumps: {e}\")\n",
    "            return False\n",
    "    \n",
    "    def connect_pressure_controller(self, com_port: str, address: int):\n",
    "        \"\"\"Connect to the pressure readout controller (handles both sensors)\"\"\"\n",
    "        try:\n",
    "            logger.info(f\"Connecting to pressure controller on {com_port}, address {address}\")\n",
    "            self.pressure_controller = TPG366(com_port, address)\n",
    "            \n",
    "            logger.success(\"Pressure controller connected successfully\")\n",
    "            return True\n",
    "            \n",
    "        except Exception as e:\n",
    "            logger.error(f\"Failed to connect pressure controller: {e}\")\n",
    "            return False\n",
    "    \n",
    "    def disconnect_all(self):\n",
    "        \"\"\"Safely disconnect all devices\"\"\"\n",
    "        logger.info(\"Disconnecting all devices...\")\n",
    "        \n",
    "        # Stop monitoring first\n",
    "        self.stop_monitoring()\n",
    "        \n",
    "        # Disconnect pumps\n",
    "        if self.pump1:\n",
    "            try:\n",
    "                self.pump1.close()\n",
    "                logger.info(\"Pump 1 disconnected\")\n",
    "            except Exception as e:\n",
    "                logger.error(f\"Error disconnecting Pump 1: {e}\")\n",
    "        \n",
    "        if self.pump2:\n",
    "            try:\n",
    "                self.pump2.close()\n",
    "                logger.info(\"Pump 2 disconnected\")\n",
    "            except Exception as e:\n",
    "                logger.error(f\"Error disconnecting Pump 2: {e}\")\n",
    "        \n",
    "        # Disconnect pressure controller\n",
    "        if self.pressure_controller:\n",
    "            try:\n",
    "                self.pressure_controller.close()\n",
    "                logger.info(\"Pressure controller disconnected\")\n",
    "            except Exception as e:\n",
    "                logger.error(f\"Error disconnecting pressure controller: {e}\")\n",
    "        \n",
    "        logger.success(\"All devices disconnected\")\n",
    "\n",
    "# Create global controller instance\n",
    "controller = DualPumpController()"
   ]
  },
  {
   "cell_type": "markdown",
   "id": "5d31cdad",
   "metadata": {},
   "source": [
    "## 4. Pump Monitoring Functions"
   ]
  },
  {
   "cell_type": "code",
   "execution_count": 5,
   "id": "a5915be2",
   "metadata": {
    "ExecuteTime": {
     "end_time": "2025-07-14T08:49:12.381724Z",
     "start_time": "2025-07-14T08:49:12.368250Z"
    }
   },
   "outputs": [
    {
     "name": "stdout",
     "output_type": "stream",
     "text": [
      "Monitoring functions defined successfully\n"
     ]
    }
   ],
   "source": [
    "def monitor_single_pump(pump: HiScroll12, pump_id: str) -> Dict[str, Any]:\n",
    "    \"\"\"\n",
    "    Monitor a single pump and return its status parameters.\n",
    "    \n",
    "    Parameters:\n",
    "    - pump: HiScroll12 pump instance\n",
    "    - pump_id: Identifier string for the pump\n",
    "    \n",
    "    Returns:\n",
    "    - Dictionary containing pump parameters\n",
    "    \n",
    "    TODO: Implement specific monitoring functions\n",
    "    Parameters to monitor:\n",
    "    - Temperature\n",
    "    - Rotation speed (RPM)\n",
    "    - Enable status\n",
    "    - Error codes\n",
    "    - Operating hours\n",
    "    - Power consumption\n",
    "    \"\"\"\n",
    "    \n",
    "    try:\n",
    "        logger.debug(f\"Monitoring {pump_id}...\")\n",
    "        \n",
    "        # Placeholder data structure - replace with actual pump methods\n",
    "        pump_data = {\n",
    "            'timestamp': datetime.now(),\n",
    "            'pump_id': pump_id,\n",
    "            'temp_Motor': None,  # TODO: pump.get_temperature()\n",
    "            'temp_Elec': None,  # TODO: pump.get_temperature()\n",
    "            'temp_PwrStg': None,  # TODO: pump.get_temperature()\n",
    "            'rotation_speed_rpm': None,  # TODO: pump.get_actRotSpd_rpm()\n",
    "            'enable_status': None,  # TODO: pump.get_Pmp_Enable()\n",
    "            'error_codes': None,  # TODO: pump.get_error_codes()\n",
    "            'operating_hours': None,  # TODO: pump.get_operating_hours()\n",
    "            'power_consumption': None,  # TODO: pump.get_power_consumption()\n",
    "            'status': 'OK'  # Placeholder\n",
    "        }\n",
    "        \n",
    "        # Example of actual implementation (uncomment when ready):\n",
    "        pump_data['rotation_speed_rpm'] = int(pump.get_actRotSpd_rpm())\n",
    "        pump_data['enable_status'] = pump.get_Pmp_Enable()\n",
    "        pump_data['power_consumption'] = int(pump.get_drvPwr())\n",
    "        pump_data['temp_Motor'] = int(pump.get_TempMotor())\n",
    "        pump_data['temp_Elec'] = int(pump.get_TempElec())\n",
    "        pump_data['temp_PwrStg'] = int(pump.get_TempPwrStg())\n",
    "\n",
    "        logger.info(f\"{pump_id} RotSpeed    = {pump_data['rotation_speed_rpm']} // rpm\")\n",
    "        logger.info(f\"{pump_id} Enable_Stat = {pump_data['enable_status']}\")\n",
    "        logger.info(f\"{pump_id} Power       = {pump_data['power_consumption']} // W\")\n",
    "        logger.info(f\"{pump_id} Temp_Motor  = {pump_data['temp_Motor']} // degC\")\n",
    "        logger.info(f\"{pump_id} Temp_Elec   = {pump_data['temp_Elec']} // degC\")\n",
    "        logger.info(f\"{pump_id} Temp_PwrStr = {pump_data['temp_PwrStg']} // degC\")\n",
    "        logger.debug(f\"{pump_id} monitoring completed successfully\")\n",
    "        return pump_data\n",
    "        \n",
    "    except Exception as e:\n",
    "        logger.error(f\"Error monitoring {pump_id}: {e}\")\n",
    "        return {\n",
    "            'timestamp': datetime.now(),\n",
    "            'pump_id': pump_id,\n",
    "            'error': str(e),\n",
    "            'status': 'ERROR'\n",
    "        }\n",
    "\n",
    "def monitor_pressure(pressure_controller: TPG366, sensor_id: str, channel: int) -> Dict[str, Any]:\n",
    "    \"\"\"\n",
    "    Monitor pressure from a specific sensor channel.\n",
    "    \n",
    "    Parameters:\n",
    "    - pressure_controller: TPG366 pressure controller instance\n",
    "    - sensor_id: Identifier string for the sensor (e.g., \"Sensor_1\", \"Sensor_2\")\n",
    "    - channel: Sensor channel to read from (1 or 2)\n",
    "    \n",
    "    Returns:\n",
    "    - Dictionary containing pressure data with float pressure value\n",
    "    \"\"\"\n",
    "    \n",
    "    try:\n",
    "        logger.debug(f\"Reading pressure from {sensor_id}, channel {channel}...\")\n",
    "        \n",
    "        # Get actual pressure reading (returns float)\n",
    "        pressure_value = pressure_controller.measure_p(channel)\n",
    "        \n",
    "        # Get sensor name for this channel\n",
    "        sensor_name = pressure_controller.get_sens_name(channel)\n",
    "        \n",
    "        # Create data structure with actual values\n",
    "        pressure_data = {\n",
    "            'timestamp': datetime.now(),\n",
    "            'sensor_id': sensor_id,\n",
    "            'channel': channel,\n",
    "            'pressure_value': pressure_value,  # Float value from measure_p()\n",
    "            'sensor_name': sensor_name,  # Sensor name from get_sens_name()\n",
    "            'firmware_version': None,  # Will be set once during connection\n",
    "            'status': 'OK'\n",
    "        }\n",
    "        \n",
    "        logger.debug(f\"{sensor_id} pressure reading: {pressure_value} (type: {type(pressure_value).__name__})\")\n",
    "        return pressure_data\n",
    "        \n",
    "    except Exception as e:\n",
    "        logger.error(f\"Error reading pressure from {sensor_id}: {e}\")\n",
    "        return {\n",
    "            'timestamp': datetime.now(),\n",
    "            'sensor_id': sensor_id,\n",
    "            'channel': channel,\n",
    "            'pressure_value': None,\n",
    "            'error': str(e),\n",
    "            'status': 'ERROR'\n",
    "        }\n",
    "\n",
    "print(\"Monitoring functions defined successfully\")"
   ]
  },
  {
   "cell_type": "markdown",
   "id": "2bd805a8",
   "metadata": {},
   "source": [
    "## 5. Continuous Monitoring System"
   ]
  },
  {
   "cell_type": "code",
   "execution_count": 6,
   "id": "66418d2a",
   "metadata": {
    "ExecuteTime": {
     "end_time": "2025-07-14T08:49:13.920167Z",
     "start_time": "2025-07-14T08:49:13.910527Z"
    }
   },
   "outputs": [
    {
     "name": "stdout",
     "output_type": "stream",
     "text": [
      "Continuous monitoring system ready\n"
     ]
    }
   ],
   "source": [
    "def continuous_monitoring_worker(controller: DualPumpController, interval: float = 5.0):\n",
    "    \"\"\"\n",
    "    Worker function for continuous monitoring that runs in a separate thread.\n",
    "    This function can be cancelled without shutting down the kernel.\n",
    "    \"\"\"\n",
    "    logger.info(f\"Starting continuous monitoring with {interval}s interval\")\n",
    "    \n",
    "    while not controller.monitoring_stop_event.is_set():\n",
    "        try:\n",
    "            monitoring_cycle_data = {\n",
    "                'cycle_timestamp': datetime.now(),\n",
    "                'pump1_data': None,\n",
    "                'pump2_data': None,\n",
    "                'sensor1_data': None,\n",
    "                'sensor2_data': None\n",
    "            }\n",
    "            \n",
    "            # Monitor pumps if connected\n",
    "            if controller.pump1:\n",
    "                monitoring_cycle_data['pump1_data'] = monitor_single_pump(controller.pump1, \"Pump_1\")\n",
    "            \n",
    "            if controller.pump2:\n",
    "                monitoring_cycle_data['pump2_data'] = monitor_single_pump(controller.pump2, \"Pump_2\")\n",
    "            \n",
    "            # Monitor pressure sensors if controller is connected\n",
    "            if controller.pressure_controller:\n",
    "                # Read from sensor 1 (channel 1)\n",
    "                monitoring_cycle_data['sensor1_data'] = monitor_pressure(\n",
    "                    controller.pressure_controller, \"Sensor_1\", channel=1\n",
    "                )\n",
    "                \n",
    "                # Read from sensor 2 (channel 2) \n",
    "                monitoring_cycle_data['sensor2_data'] = monitor_pressure(\n",
    "                    controller.pressure_controller, \"Sensor_2\", channel=2\n",
    "                )\n",
    "            \n",
    "            # Store data\n",
    "            controller.monitoring_data.append(monitoring_cycle_data)\n",
    "            \n",
    "            # Log summary with pressure values if available\n",
    "            log_msg = f\"Monitoring cycle completed at {monitoring_cycle_data['cycle_timestamp']}\"\n",
    "            if monitoring_cycle_data['sensor1_data'] and monitoring_cycle_data['sensor2_data']:\n",
    "                p1 = monitoring_cycle_data['sensor1_data'].get('pressure_value')\n",
    "                p2 = monitoring_cycle_data['sensor2_data'].get('pressure_value')\n",
    "                log_msg += f\" | Pressures: S1={p1}, S2={p2}\"\n",
    "            logger.info(log_msg)\n",
    "            \n",
    "            # Wait for next cycle or stop signal\n",
    "            if controller.monitoring_stop_event.wait(timeout=interval):\n",
    "                break  # Stop event was set\n",
    "                \n",
    "        except Exception as e:\n",
    "            logger.error(f\"Error in monitoring cycle: {e}\")\n",
    "            # Continue monitoring even if one cycle fails\n",
    "            time.sleep(interval)\n",
    "    \n",
    "    logger.info(\"Continuous monitoring stopped\")\n",
    "\n",
    "def start_monitoring(controller: DualPumpController, interval: float = 5.0):\n",
    "    \"\"\"\n",
    "    Start continuous monitoring in a separate thread.\n",
    "    \n",
    "    Parameters:\n",
    "    - controller: DualPumpController instance\n",
    "    - interval: Monitoring interval in seconds\n",
    "    \"\"\"\n",
    "    if controller.monitoring_active:\n",
    "        logger.warning(\"Monitoring is already active\")\n",
    "        return False\n",
    "    \n",
    "    # Reset stop event and clear old data\n",
    "    controller.monitoring_stop_event.clear()\n",
    "    controller.monitoring_data.clear()\n",
    "    \n",
    "    # Start monitoring thread\n",
    "    controller.monitoring_thread = threading.Thread(\n",
    "        target=continuous_monitoring_worker,\n",
    "        args=(controller, interval),\n",
    "        daemon=True  # Dies when main thread dies\n",
    "    )\n",
    "    \n",
    "    controller.monitoring_thread.start()\n",
    "    controller.monitoring_active = True\n",
    "    \n",
    "    logger.success(f\"Continuous monitoring started with {interval}s interval\")\n",
    "    return True\n",
    "\n",
    "def stop_monitoring(controller: DualPumpController):\n",
    "    \"\"\"\n",
    "    Stop continuous monitoring gracefully without affecting device connections.\n",
    "    \"\"\"\n",
    "    if not controller.monitoring_active:\n",
    "        logger.info(\"Monitoring is not currently active\")\n",
    "        return\n",
    "    \n",
    "    logger.info(\"Stopping continuous monitoring...\")\n",
    "    \n",
    "    # Signal the monitoring thread to stop\n",
    "    controller.monitoring_stop_event.set()\n",
    "    \n",
    "    # Wait for thread to finish (with timeout)\n",
    "    if controller.monitoring_thread and controller.monitoring_thread.is_alive():\n",
    "        controller.monitoring_thread.join(timeout=10.0)\n",
    "        \n",
    "        if controller.monitoring_thread.is_alive():\n",
    "            logger.warning(\"Monitoring thread did not stop gracefully\")\n",
    "        else:\n",
    "            logger.success(\"Monitoring thread stopped successfully\")\n",
    "    \n",
    "    controller.monitoring_active = False\n",
    "    controller.monitoring_thread = None\n",
    "\n",
    "# Add methods to controller class\n",
    "controller.start_monitoring = lambda interval=5.0: start_monitoring(controller, interval)\n",
    "controller.stop_monitoring = lambda: stop_monitoring(controller)\n",
    "\n",
    "print(\"Continuous monitoring system ready\")"
   ]
  },
  {
   "cell_type": "markdown",
   "id": "303f2043",
   "metadata": {},
   "source": [
    "## 6. Device Connection Setup"
   ]
  },
  {
   "cell_type": "code",
   "execution_count": 7,
   "id": "cf94eb00",
   "metadata": {
    "ExecuteTime": {
     "end_time": "2025-07-14T08:49:15.637823Z",
     "start_time": "2025-07-14T08:49:15.633314Z"
    }
   },
   "outputs": [
    {
     "name": "stdout",
     "output_type": "stream",
     "text": [
      "Device configuration loaded:\n",
      "Pump 1: COM19, Address 2\n",
      "Pump 2: COM21, Address 2\n",
      "Pressure Controller: COM22, Address 1\n",
      "  -> Sensor 1: Channel 1\n",
      "  -> Sensor 2: Channel 2\n"
     ]
    }
   ],
   "source": [
    "# Configuration for your devices\n",
    "# Modify these values according to your setup\n",
    "\n",
    "PUMP1_COM = 'COM19'    # Adjust to your pump 1 COM port\n",
    "PUMP1_ADDR = 2         # Adjust to your pump 1 address\n",
    "\n",
    "PUMP2_COM = 'COM21'    # Adjust to your pump 2 COM port\n",
    "PUMP2_ADDR = 2         # Adjust to your pump 2 address\n",
    "\n",
    "# Single pressure controller handles both sensors\n",
    "PRESSURE_COM = 'COM22'  # Pressure controller COM port (based on your debugging notebook)\n",
    "PRESSURE_ADDR = 1       # Pressure controller address (based on your debugging notebook)\n",
    "\n",
    "print(\"Device configuration loaded:\")\n",
    "print(f\"Pump 1: {PUMP1_COM}, Address {PUMP1_ADDR}\")\n",
    "print(f\"Pump 2: {PUMP2_COM}, Address {PUMP2_ADDR}\")\n",
    "print(f\"Pressure Controller: {PRESSURE_COM}, Address {PRESSURE_ADDR}\")\n",
    "print(f\"  -> Sensor 1: Channel 1\")\n",
    "print(f\"  -> Sensor 2: Channel 2\")"
   ]
  },
  {
   "cell_type": "code",
   "execution_count": 8,
   "id": "d7211cce",
   "metadata": {
    "ExecuteTime": {
     "end_time": "2025-07-14T08:49:16.514184Z",
     "start_time": "2025-07-14T08:49:16.412650Z"
    }
   },
   "outputs": [
    {
     "name": "stderr",
     "output_type": "stream",
     "text": [
      "2025-07-14 10:49:16 | INFO | Connecting to Pump 1 on COM19, address 2\n",
      "2025-07-14 10:49:16 | INFO | Connecting to Pump 2 on COM21, address 2\n",
      "2025-07-14 10:49:16 | SUCCESS | Both pumps connected successfully\n"
     ]
    },
    {
     "name": "stdout",
     "output_type": "stream",
     "text": [
      "✅ Pumps connected successfully\n"
     ]
    }
   ],
   "source": [
    "# Connect to pumps\n",
    "pump_connection = controller.connect_pumps(PUMP1_COM, PUMP1_ADDR, PUMP2_COM, PUMP2_ADDR)\n",
    "\n",
    "if pump_connection:\n",
    "    print(\"✅ Pumps connected successfully\")\n",
    "else:\n",
    "    print(\"❌ Failed to connect to pumps\")"
   ]
  },
  {
   "cell_type": "code",
   "execution_count": 9,
   "id": "54f7f7e5",
   "metadata": {
    "ExecuteTime": {
     "end_time": "2025-07-14T08:49:17.395540Z",
     "start_time": "2025-07-14T08:49:17.340527Z"
    }
   },
   "outputs": [
    {
     "name": "stderr",
     "output_type": "stream",
     "text": [
      "2025-07-14 10:49:17 | INFO | Connecting to pressure controller on COM22, address 1\n",
      "2025-07-14 10:49:17 | SUCCESS | Pressure controller connected successfully\n"
     ]
    },
    {
     "name": "stdout",
     "output_type": "stream",
     "text": [
      "✅ Pressure controller connected successfully\n",
      "   Both sensors accessible via channels 1 and 2\n"
     ]
    }
   ],
   "source": [
    "# Connect to pressure controller\n",
    "pressure_connection = controller.connect_pressure_controller(PRESSURE_COM, PRESSURE_ADDR)\n",
    "\n",
    "if pressure_connection:\n",
    "    print(\"✅ Pressure controller connected successfully\")\n",
    "    print(\"   Both sensors accessible via channels 1 and 2\")\n",
    "else:\n",
    "    print(\"❌ Failed to connect to pressure controller\")"
   ]
  },
  {
   "cell_type": "markdown",
   "id": "49ea0040",
   "metadata": {},
   "source": [
    "## 7. Manual Testing and Device Status"
   ]
  },
  {
   "cell_type": "code",
   "execution_count": 10,
   "id": "52e48fac",
   "metadata": {
    "ExecuteTime": {
     "end_time": "2025-07-14T08:49:19.225390Z",
     "start_time": "2025-07-14T08:49:19.058518Z"
    }
   },
   "outputs": [
    {
     "name": "stdout",
     "output_type": "stream",
     "text": [
      "Testing Pump 1:\n",
      "  Software Version: 010700\n",
      "  Rotation Speed: 0 RPM\n",
      "  Electric Serial Number: 72163743        \n",
      "  Pump 1 tests completed\n"
     ]
    }
   ],
   "source": [
    "# Test individual pump functions (similar to your debugging notebook)\n",
    "if controller.pump1:\n",
    "    try:\n",
    "        print(\"Testing Pump 1:\")\n",
    "        # Add actual tests here similar to your debugging notebook\n",
    "        sw_version = controller.pump1.get_swVers()\n",
    "        print(f\"  Software Version: {sw_version}\")\n",
    "        # \n",
    "        # enable_status = controller.pump1.get_Pmp_Enable()\n",
    "        # print(f\"  Pump Enable: {enable_status}\")\n",
    "        # \n",
    "        rotation_speed = int(controller.pump1.get_actRotSpd_rpm())\n",
    "        print(f\"  Rotation Speed: {rotation_speed} RPM\")\n",
    "\n",
    "        elecSN = controller.pump1.get_serial_nrr()\n",
    "        print(f\"  Electric Serial Number: {elecSN}\")\n",
    "        \n",
    "        print(\"  Pump 1 tests completed\")\n",
    "        \n",
    "    except Exception as e:\n",
    "        logger.error(f\"Error testing Pump 1: {e}\")\n",
    "        print(f\"  ❌ Error testing Pump 1: {e}\")\n",
    "else:\n",
    "    print(\"Pump 1 not connected\")"
   ]
  },
  {
   "cell_type": "code",
   "execution_count": 11,
   "id": "65650c5a97363a19",
   "metadata": {
    "ExecuteTime": {
     "end_time": "2025-07-14T08:49:20.468475Z",
     "start_time": "2025-07-14T08:49:20.304545Z"
    }
   },
   "outputs": [
    {
     "name": "stdout",
     "output_type": "stream",
     "text": [
      "Testing Pump 2:\n",
      "  Software Version: 010700\n",
      "  Rotation Speed: 000000 RPM\n",
      "  Electric Serial Number: 72164481        \n",
      "  Pump 2 tests completed\n"
     ]
    }
   ],
   "source": [
    "# Test individual pump functions (similar to your debugging notebook)\n",
    "if controller.pump2:\n",
    "    try:\n",
    "        print(\"Testing Pump 2:\")\n",
    "        # Add actual tests here similar to your debugging notebook\n",
    "        sw_version = controller.pump2.get_swVers()\n",
    "        print(f\"  Software Version: {sw_version}\")\n",
    "        #\n",
    "        # enable_status = controller.pump1.get_Pmp_Enable()\n",
    "        # print(f\"  Pump Enable: {enable_status}\")\n",
    "        #\n",
    "        rotation_speed = controller.pump2.get_actRotSpd_rpm()\n",
    "        print(f\"  Rotation Speed: {rotation_speed} RPM\")\n",
    "\n",
    "        elecSN = controller.pump2.get_serial_nrr()\n",
    "        print(f\"  Electric Serial Number: {elecSN}\")\n",
    "\n",
    "        print(\"  Pump 2 tests completed\")\n",
    "\n",
    "    except Exception as e:\n",
    "        logger.error(f\"Error testing Pump 2: {e}\")\n",
    "        print(f\"  ❌ Error testing Pump 2: {e}\")\n",
    "else:\n",
    "    print(\"Pump 2 not connected\")"
   ]
  },
  {
   "cell_type": "code",
   "execution_count": 12,
   "id": "1d4d46ec",
   "metadata": {
    "ExecuteTime": {
     "end_time": "2025-07-14T08:49:22.002368Z",
     "start_time": "2025-07-14T08:49:21.701771Z"
    }
   },
   "outputs": [
    {
     "name": "stdout",
     "output_type": "stream",
     "text": [
      "Testing Pressure Controller:\n",
      "  Firmware Version: 010400\n",
      "\n",
      "  Testing Sensor 1 (Channel 1):\n",
      "    Sensor Name: TPR   \n",
      "    Pressure: 17.6 (type: float)\n",
      "\n",
      "  Testing Sensor 2 (Channel 2):\n",
      "    Sensor Name: TPR   \n",
      "    Pressure: 1019.0 (type: float)\n",
      "\n",
      "  ✅ Serial connection is open and working\n",
      "\n",
      "  Pressure controller tests completed successfully\n"
     ]
    }
   ],
   "source": [
    "# Test pressure controller and sensors\n",
    "if controller.pressure_controller:\n",
    "    try:\n",
    "        print(\"Testing Pressure Controller:\")\n",
    "        \n",
    "        # Get firmware version\n",
    "        fw_version = controller.pressure_controller.get_fw_vers()\n",
    "        print(f\"  Firmware Version: {fw_version}\")\n",
    "        \n",
    "        # Test Sensor 1 (Channel 1)\n",
    "        print(\"\\n  Testing Sensor 1 (Channel 1):\")\n",
    "        sensor1_name = controller.pressure_controller.get_sens_name(1)\n",
    "        print(f\"    Sensor Name: {sensor1_name}\")\n",
    "        \n",
    "        pressure1 = controller.pressure_controller.measure_p(1)\n",
    "        print(f\"    Pressure: {pressure1} (type: {type(pressure1).__name__})\")\n",
    "        \n",
    "        # Test Sensor 2 (Channel 2) \n",
    "        print(\"\\n  Testing Sensor 2 (Channel 2):\")\n",
    "        sensor2_name = controller.pressure_controller.get_sens_name(2)\n",
    "        print(f\"    Sensor Name: {sensor2_name}\")\n",
    "        \n",
    "        pressure2 = controller.pressure_controller.measure_p(2)\n",
    "        print(f\"    Pressure: {pressure2} (type: {type(pressure2).__name__})\")\n",
    "        \n",
    "        # Check if connection is still open\n",
    "        if controller.pressure_controller.unit.isOpen():\n",
    "            print(\"\\n  ✅ Serial connection is open and working\")\n",
    "        \n",
    "        print(\"\\n  Pressure controller tests completed successfully\")\n",
    "        \n",
    "    except Exception as e:\n",
    "        logger.error(f\"Error testing pressure controller: {e}\")\n",
    "        print(f\"  ❌ Error testing pressure controller: {e}\")\n",
    "else:\n",
    "    print(\"Pressure controller not connected\")"
   ]
  },
  {
   "cell_type": "code",
   "execution_count": 13,
   "id": "2730c324",
   "metadata": {
    "ExecuteTime": {
     "end_time": "2025-07-14T08:49:23.073360Z",
     "start_time": "2025-07-14T08:49:22.943477Z"
    }
   },
   "outputs": [
    {
     "name": "stdout",
     "output_type": "stream",
     "text": [
      "Quick Pressure Test:\n",
      "Sensor 1 pressure: 17.64 (type: float)\n",
      "Sensor 2 pressure: 1019.0 (type: float)\n",
      "✅ Pressure readings successful\n"
     ]
    }
   ],
   "source": [
    "# Quick test: Read pressures individually (similar to your debugging notebook)\n",
    "if controller.pressure_controller:\n",
    "    try:\n",
    "        print(\"Quick Pressure Test:\")\n",
    "        \n",
    "        # Read pressure from sensor 1 (same as debugging notebook cell 11)\n",
    "        p1 = controller.pressure_controller.measure_p(1)\n",
    "        print(f\"Sensor 1 pressure: {p1} (type: {type(p1).__name__})\")\n",
    "        \n",
    "        # Read pressure from sensor 2 (same as debugging notebook cell 12)  \n",
    "        p2 = controller.pressure_controller.measure_p(2)\n",
    "        print(f\"Sensor 2 pressure: {p2} (type: {type(p2).__name__})\")\n",
    "        \n",
    "        print(\"✅ Pressure readings successful\")\n",
    "        \n",
    "    except Exception as e:\n",
    "        print(f\"❌ Error reading pressures: {e}\")\n",
    "else:\n",
    "    print(\"❌ Pressure controller not connected\")"
   ]
  },
  {
   "cell_type": "markdown",
   "id": "ff92e78a",
   "metadata": {},
   "source": [
    "## 8. Monitoring Control Interface"
   ]
  },
  {
   "cell_type": "code",
   "execution_count": 14,
   "id": "62279cc2",
   "metadata": {
    "ExecuteTime": {
     "end_time": "2025-07-14T08:49:26.584743Z",
     "start_time": "2025-07-14T08:49:26.561738Z"
    }
   },
   "outputs": [
    {
     "data": {
      "application/vnd.jupyter.widget-view+json": {
       "model_id": "6132f1a823da4c15b5f83da02b9324e6",
       "version_major": 2,
       "version_minor": 0
      },
      "text/plain": [
       "VBox(children=(Label(value='Monitoring Controls:'), FloatSlider(value=5.0, description='Interval (s):', max=15…"
      ]
     },
     "metadata": {},
     "output_type": "display_data"
    }
   ],
   "source": [
    "# Create interactive controls for monitoring\n",
    "start_button = widgets.Button(description=\"Start Monitoring\", button_style='success')\n",
    "stop_button = widgets.Button(description=\"Stop Monitoring\", button_style='danger')\n",
    "interval_slider = widgets.FloatSlider(\n",
    "    value=5.0,\n",
    "    min=1.0,\n",
    "    max=15.0,\n",
    "    step=1.0,\n",
    "    description='Interval (s):',\n",
    "    style={'description_width': 'initial'}\n",
    ")\n",
    "status_output = widgets.Output()\n",
    "\n",
    "def on_start_clicked(b):\n",
    "    with status_output:\n",
    "        clear_output(wait=True)\n",
    "        success = controller.start_monitoring(interval_slider.value)\n",
    "        if success:\n",
    "            print(f\"✅ Monitoring started with {interval_slider.value}s interval\")\n",
    "        else:\n",
    "            print(\"❌ Failed to start monitoring (already running?)\")\n",
    "\n",
    "def on_stop_clicked(b):\n",
    "    with status_output:\n",
    "        clear_output(wait=True)\n",
    "        controller.stop_monitoring()\n",
    "        print(\"🛑 Monitoring stopped\")\n",
    "\n",
    "start_button.on_click(on_start_clicked)\n",
    "stop_button.on_click(on_stop_clicked)\n",
    "\n",
    "# Display controls\n",
    "controls = widgets.VBox([\n",
    "    widgets.Label(\"Monitoring Controls:\"),\n",
    "    interval_slider,\n",
    "    widgets.HBox([start_button, stop_button]),\n",
    "    status_output\n",
    "])\n",
    "\n",
    "display(controls)"
   ]
  },
  {
   "cell_type": "code",
   "execution_count": 23,
   "id": "8672a3e9bb62c2a5",
   "metadata": {
    "ExecuteTime": {
     "end_time": "2025-07-14T09:01:08.972024Z",
     "start_time": "2025-07-14T09:01:08.859922Z"
    }
   },
   "outputs": [],
   "source": [
    "controller.pump1.enable_Pmp()\n",
    "controller.pump2.enable_Pmp()\n"
   ]
  },
  {
   "cell_type": "code",
   "execution_count": 27,
   "id": "33521c6d20273236",
   "metadata": {
    "ExecuteTime": {
     "end_time": "2025-07-14T09:15:20.085287Z",
     "start_time": "2025-07-14T09:15:20.031112Z"
    }
   },
   "outputs": [],
   "source": [
    "controller.pump2.enable_Pmp()"
   ]
  },
  {
   "cell_type": "code",
   "execution_count": 30,
   "id": "2b95fdd894334f04",
   "metadata": {
    "ExecuteTime": {
     "end_time": "2025-07-14T11:35:31.057767Z",
     "start_time": "2025-07-14T11:35:31.006701Z"
    }
   },
   "outputs": [],
   "source": [
    "controller.pump1.disable_Pmp()"
   ]
  },
  {
   "cell_type": "code",
   "execution_count": 31,
   "id": "4ef43675a5c2e38b",
   "metadata": {
    "ExecuteTime": {
     "end_time": "2025-07-14T11:35:32.955908Z",
     "start_time": "2025-07-14T11:35:32.902896Z"
    }
   },
   "outputs": [],
   "source": [
    "controller.pump2.disable_Pmp()"
   ]
  },
  {
   "cell_type": "code",
   "execution_count": 28,
   "id": "fc43bc939ac33fbb",
   "metadata": {
    "ExecuteTime": {
     "end_time": "2025-07-14T11:34:18.777018Z",
     "start_time": "2025-07-14T11:34:18.551307Z"
    }
   },
   "outputs": [
    {
     "ename": "InvalidCharError",
     "evalue": "Cannot decode character. This issue may sometimes be resolved by ignoring invalid characters. Enable the filter globally by running the function `pfeiffer_vacuum_protocol.enable_valid_char_filter()` after the import statement.",
     "output_type": "error",
     "traceback": [
      "\u001b[31m---------------------------------------------------------------------------\u001b[39m",
      "\u001b[31mUnicodeDecodeError\u001b[39m                        Traceback (most recent call last)",
      "\u001b[36mFile \u001b[39m\u001b[32m~\\PycharmProjects\\esibd_pfeiffervacuum\\common\\pfeifferVacuumProtocol.py:68\u001b[39m, in \u001b[36m_read_gauge_response\u001b[39m\u001b[34m(s, valid_char_filter)\u001b[39m\n\u001b[32m     67\u001b[39m \u001b[38;5;28;01mtry\u001b[39;00m:\n\u001b[32m---> \u001b[39m\u001b[32m68\u001b[39m     r += c.decode(\u001b[33m\"\u001b[39m\u001b[33mascii\u001b[39m\u001b[33m\"\u001b[39m)\n\u001b[32m     69\u001b[39m \u001b[38;5;28;01mexcept\u001b[39;00m \u001b[38;5;167;01mUnicodeDecodeError\u001b[39;00m:\n",
      "\u001b[31mUnicodeDecodeError\u001b[39m: 'ascii' codec can't decode byte 0x99 in position 0: ordinal not in range(128)",
      "\nDuring handling of the above exception, another exception occurred:\n",
      "\u001b[31mInvalidCharError\u001b[39m                          Traceback (most recent call last)",
      "\u001b[36mCell\u001b[39m\u001b[36m \u001b[39m\u001b[32mIn[28]\u001b[39m\u001b[32m, line 1\u001b[39m\n\u001b[32m----> \u001b[39m\u001b[32m1\u001b[39m controller.pump1.disable_Pmp()\n\u001b[32m      2\u001b[39m controller.pump2.disable_Pmp()\n",
      "\u001b[36mFile \u001b[39m\u001b[32m~\\PycharmProjects\\esibd_pfeiffervacuum\\scrollpump\\HiScroll12.py:300\u001b[39m, in \u001b[36mHiScroll12.<lambda>\u001b[39m\u001b[34m(self)\u001b[39m\n\u001b[32m    297\u001b[39m     write_command(s=\u001b[38;5;28mself\u001b[39m.unit, addr=\u001b[38;5;28mself\u001b[39m.device_addr, param_num=\u001b[32m10\u001b[39m, data_str=_inp, valid_char_filter=\u001b[38;5;28;01mNone\u001b[39;00m)\n\u001b[32m    299\u001b[39m enable_Pmp = \u001b[38;5;28;01mlambda\u001b[39;00m \u001b[38;5;28mself\u001b[39m: \u001b[38;5;28mself\u001b[39m.set_Pmp_Enable(\u001b[38;5;28;01mTrue\u001b[39;00m)\n\u001b[32m--> \u001b[39m\u001b[32m300\u001b[39m disable_Pmp = \u001b[38;5;28;01mlambda\u001b[39;00m \u001b[38;5;28mself\u001b[39m: \u001b[38;5;28mself\u001b[39m.set_Pmp_Enable(\u001b[38;5;28;01mFalse\u001b[39;00m)\n\u001b[32m    302\u001b[39m \u001b[38;5;28;01mdef\u001b[39;00m\u001b[38;5;250m \u001b[39m\u001b[34mreset_Fact\u001b[39m(\u001b[38;5;28mself\u001b[39m):\n\u001b[32m    303\u001b[39m \u001b[38;5;250m    \u001b[39m\u001b[33;03m\"\"\"Reset to factory settings.\"\"\"\u001b[39;00m\n",
      "\u001b[36mFile \u001b[39m\u001b[32m~\\PycharmProjects\\esibd_pfeiffervacuum\\scrollpump\\HiScroll12.py:297\u001b[39m, in \u001b[36mHiScroll12.set_Pmp_Enable\u001b[39m\u001b[34m(self, _inp)\u001b[39m\n\u001b[32m    290\u001b[39m \u001b[38;5;250m\u001b[39m\u001b[33;03m\"\"\"\u001b[39;00m\n\u001b[32m    291\u001b[39m \u001b[33;03mSet pump enable status.\u001b[39;00m\n\u001b[32m    292\u001b[39m \u001b[33;03m\u001b[39;00m\n\u001b[32m    293\u001b[39m \u001b[33;03mArgs:\u001b[39;00m\n\u001b[32m    294\u001b[39m \u001b[33;03m    _inp: True to enable pump, False to disable.\u001b[39;00m\n\u001b[32m    295\u001b[39m \u001b[33;03m\"\"\"\u001b[39;00m\n\u001b[32m    296\u001b[39m _inp = \u001b[38;5;28mself\u001b[39m.bool_2_booleanOld(_inp)\n\u001b[32m--> \u001b[39m\u001b[32m297\u001b[39m write_command(s=\u001b[38;5;28mself\u001b[39m.unit, addr=\u001b[38;5;28mself\u001b[39m.device_addr, param_num=\u001b[32m10\u001b[39m, data_str=_inp, valid_char_filter=\u001b[38;5;28;01mNone\u001b[39;00m)\n",
      "\u001b[36mFile \u001b[39m\u001b[32m~\\PycharmProjects\\esibd_pfeiffervacuum\\common\\pfeifferVacuumProtocol.py:117\u001b[39m, in \u001b[36mwrite_command\u001b[39m\u001b[34m(s, addr, param_num, data_str, valid_char_filter)\u001b[39m\n\u001b[32m    115\u001b[39m \u001b[38;5;28;01mdef\u001b[39;00m\u001b[38;5;250m \u001b[39m\u001b[34mwrite_command\u001b[39m(s, addr, param_num, data_str, valid_char_filter = \u001b[38;5;28;01mNone\u001b[39;00m):\n\u001b[32m    116\u001b[39m     _send_control_command(s, addr, param_num, data_str)\n\u001b[32m--> \u001b[39m\u001b[32m117\u001b[39m     raddr, rw, rparam_num, rdata = _read_gauge_response(s, valid_char_filter=valid_char_filter)\n\u001b[32m    119\u001b[39m     \u001b[38;5;66;03m# Check the response\u001b[39;00m\n\u001b[32m    120\u001b[39m     \u001b[38;5;28;01mif\u001b[39;00m raddr != addr \u001b[38;5;129;01mor\u001b[39;00m rw != \u001b[32m1\u001b[39m \u001b[38;5;129;01mor\u001b[39;00m rparam_num != param_num:\n",
      "\u001b[36mFile \u001b[39m\u001b[32m~\\PycharmProjects\\esibd_pfeiffervacuum\\common\\pfeifferVacuumProtocol.py:72\u001b[39m, in \u001b[36m_read_gauge_response\u001b[39m\u001b[34m(s, valid_char_filter)\u001b[39m\n\u001b[32m     70\u001b[39m     \u001b[38;5;28;01mif\u001b[39;00m valid_char_filter:\n\u001b[32m     71\u001b[39m         \u001b[38;5;28;01mcontinue\u001b[39;00m\n\u001b[32m---> \u001b[39m\u001b[32m72\u001b[39m     \u001b[38;5;28;01mraise\u001b[39;00m InvalidCharError(\n\u001b[32m     73\u001b[39m         \u001b[33m\"\u001b[39m\u001b[33mCannot decode character. This issue may sometimes be resolved by ignoring invalid \u001b[39m\u001b[33m\"\u001b[39m\n\u001b[32m     74\u001b[39m         \u001b[33m\"\u001b[39m\u001b[33mcharacters. Enable the filter globally by running the function \u001b[39m\u001b[33m\"\u001b[39m\n\u001b[32m     75\u001b[39m         \u001b[33m\"\u001b[39m\u001b[33m`pfeiffer_vacuum_protocol.enable_valid_char_filter()` after the import statement.\u001b[39m\u001b[33m\"\u001b[39m\n\u001b[32m     76\u001b[39m     )\n\u001b[32m     78\u001b[39m \u001b[38;5;28;01mif\u001b[39;00m c == \u001b[33mb\u001b[39m\u001b[33m\"\u001b[39m\u001b[38;5;130;01m\\r\u001b[39;00m\u001b[33m\"\u001b[39m:\n\u001b[32m     79\u001b[39m     \u001b[38;5;28;01mbreak\u001b[39;00m\n",
      "\u001b[31mInvalidCharError\u001b[39m: Cannot decode character. This issue may sometimes be resolved by ignoring invalid characters. Enable the filter globally by running the function `pfeiffer_vacuum_protocol.enable_valid_char_filter()` after the import statement."
     ]
    }
   ],
   "source": [
    "controller.pump1.disable_Pmp()\n",
    "controller.pump2.disable_Pmp()"
   ]
  },
  {
   "cell_type": "markdown",
   "id": "ed9095c8",
   "metadata": {},
   "source": [
    "## 9. Data Visualization and Analysis"
   ]
  },
  {
   "cell_type": "markdown",
   "id": "49d9ccbfa55808f1",
   "metadata": {},
   "source": [
    "# 9.1 Static Plot"
   ]
  },
  {
   "cell_type": "code",
   "execution_count": 15,
   "id": "7b1fe230",
   "metadata": {
    "ExecuteTime": {
     "end_time": "2025-07-14T08:50:12.434175Z",
     "start_time": "2025-07-14T08:50:12.425174Z"
    }
   },
   "outputs": [
    {
     "name": "stdout",
     "output_type": "stream",
     "text": [
      "Data visualization functions ready\n"
     ]
    }
   ],
   "source": [
    "def plot_monitoring_data():\n",
    "    \"\"\"Plot the collected monitoring data\"\"\"\n",
    "    if not controller.monitoring_data:\n",
    "        print(\"No monitoring data available. Start monitoring first.\")\n",
    "        return\n",
    "    \n",
    "    # Convert data to DataFrame for easier plotting\n",
    "    timestamps = []\n",
    "    pump1_rpm = []\n",
    "    pump2_rpm = []\n",
    "    sensor1_pressure = []\n",
    "    sensor2_pressure = []\n",
    "    \n",
    "    for cycle in controller.monitoring_data:\n",
    "        timestamps.append(cycle['cycle_timestamp'])\n",
    "        \n",
    "        # Extract pump data (placeholder values for now)\n",
    "        pump1_rpm.append(cycle['pump1_data']['rotation_speed_rpm'] if cycle['pump1_data'] else None)\n",
    "        pump2_rpm.append(cycle['pump2_data']['rotation_speed_rpm'] if cycle['pump2_data'] else None)\n",
    "        \n",
    "        # Extract actual pressure data (float values)\n",
    "        sensor1_pressure.append(cycle['sensor1_data']['pressure_value'] if cycle['sensor1_data'] else None)\n",
    "        sensor2_pressure.append(cycle['sensor2_data']['pressure_value'] if cycle['sensor2_data'] else None)\n",
    "    \n",
    "    # Create subplots\n",
    "    fig, (ax1, ax2) = plt.subplots(2, 1, figsize=(12, 8))\n",
    "    \n",
    "    # Plot pump RPM (placeholder data for now)\n",
    "    ax1.plot(timestamps, pump1_rpm, 'b-', label='Pump 1 RPM', marker='o')\n",
    "    ax1.plot(timestamps, pump2_rpm, 'r-', label='Pump 2 RPM', marker='s')\n",
    "    ax1.set_ylabel('Rotation Speed (RPM)')\n",
    "    ax1.set_title('Pump Rotation Speed Over Time')\n",
    "    ax1.legend()\n",
    "    ax1.grid(True)\n",
    "    \n",
    "    # Plot pressure (actual float values)\n",
    "    ax2.plot(timestamps, sensor1_pressure, 'g-', label='Sensor 1 Pressure', marker='^')\n",
    "    ax2.plot(timestamps, sensor2_pressure, 'm-', label='Sensor 2 Pressure', marker='v')\n",
    "    ax2.set_ylabel('Pressure')\n",
    "    ax2.set_xlabel('Time')\n",
    "    ax2.set_title('Pressure Over Time')\n",
    "    ax2.legend()\n",
    "    ax2.grid(True)\n",
    "    \n",
    "    # Use logarithmic scale for pressure if values are very small (typical for vacuum)\n",
    "    if any(p and p > 0 for p in sensor1_pressure + sensor2_pressure if p is not None):\n",
    "        ax2.set_yscale('log')\n",
    "        ax2.set_ylabel('Pressure (log scale)')\n",
    "    \n",
    "    plt.xticks(rotation=45)\n",
    "    plt.tight_layout()\n",
    "    plt.show()\n",
    "    \n",
    "    # Print some statistics\n",
    "    valid_p1 = [p for p in sensor1_pressure if p is not None]\n",
    "    valid_p2 = [p for p in sensor2_pressure if p is not None]\n",
    "    \n",
    "    print(f\"Plotted {len(controller.monitoring_data)} data points\")\n",
    "    if valid_p1:\n",
    "        print(f\"Sensor 1 pressure range: {min(valid_p1):.2e} to {max(valid_p1):.2e}\")\n",
    "    if valid_p2:\n",
    "        print(f\"Sensor 2 pressure range: {min(valid_p2):.2e} to {max(valid_p2):.2e}\")\n",
    "\n",
    "def get_monitoring_summary():\n",
    "    \"\"\"Get a summary of current monitoring status\"\"\"\n",
    "    print(f\"Monitoring Status: {'🟢 Active' if controller.monitoring_active else '🔴 Inactive'}\")\n",
    "    print(f\"Data Points Collected: {len(controller.monitoring_data)}\")\n",
    "    print(f\"Pump 1 Connected: {'✅' if controller.pump1 else '❌'}\")\n",
    "    print(f\"Pump 2 Connected: {'✅' if controller.pump2 else '❌'}\")\n",
    "    print(f\"Pressure Controller Connected: {'✅' if controller.pressure_controller else '❌'}\")\n",
    "    \n",
    "    if controller.monitoring_data:\n",
    "        latest = controller.monitoring_data[-1]\n",
    "        print(f\"\\nLatest Data Point: {latest['cycle_timestamp']}\")\n",
    "        \n",
    "        # Show latest pressure readings\n",
    "        if latest['sensor1_data']:\n",
    "            p1 = latest['sensor1_data'].get('pressure_value')\n",
    "            print(f\"  Sensor 1 Pressure: {p1}\")\n",
    "        \n",
    "        if latest['sensor2_data']:\n",
    "            p2 = latest['sensor2_data'].get('pressure_value') \n",
    "            print(f\"  Sensor 2 Pressure: {p2}\")\n",
    "\n",
    "print(\"Data visualization functions ready\")"
   ]
  },
  {
   "cell_type": "code",
   "execution_count": null,
   "id": "152d27e5",
   "metadata": {},
   "outputs": [],
   "source": [
    "# Plot monitoring data (run this cell periodically to see updated plots)\n",
    "plot_monitoring_data()"
   ]
  },
  {
   "cell_type": "markdown",
   "id": "185864c7d101aa53",
   "metadata": {},
   "source": [
    "# 9.2 Live Plotting"
   ]
  },
  {
   "cell_type": "code",
   "execution_count": 20,
   "id": "9981b04ccd2a3eea",
   "metadata": {
    "ExecuteTime": {
     "end_time": "2025-07-14T08:56:32.324775Z",
     "start_time": "2025-07-14T08:56:32.297915Z"
    }
   },
   "outputs": [],
   "source": [
    "# AX1 to AX4\n",
    "import matplotlib.pyplot as plt\n",
    "from matplotlib.animation import FuncAnimation\n",
    "import numpy as np\n",
    "\n",
    "class Plotter_locker:\n",
    "    def __init__(self, controll, update_interval=1000):\n",
    "        \"\"\"\n",
    "        Initialize live monitoring plot\n",
    "        Args:\n",
    "            controll: The controller object with monitoring_data\n",
    "            update_interval: Update interval in milliseconds (default: 1000ms = 1 second)\n",
    "        \"\"\"\n",
    "        self.controll = controll\n",
    "        self.update_interval = update_interval\n",
    "        self.window_duration = 60  # 60 seconds window\n",
    "\n",
    "        # Initialize data lists\n",
    "        self.timestamps = []\n",
    "        self.pump1_rpm = []\n",
    "        self.pump2_rpm = []\n",
    "        self.sensor1_pressure = []\n",
    "        self.sensor2_pressure = []\n",
    "        self.pump1_power = []\n",
    "        self.pump2_power = []\n",
    "        self.pump1_temp_motor = []\n",
    "        self.pump1_temp_pwrstg = []\n",
    "        self.pump2_temp_motor = []\n",
    "        self.pump2_temp_pwrstg = []\n",
    "\n",
    "        # Create figure and subplots\n",
    "        #self.fig, (self.ax1, self.ax2, self.ax3, self.ax4) = plt.subplots(4, 1, figsize=(12, 16))\n",
    "        self.fig, ((self.ax1, self.ax2), (self.ax3, self.ax4)) = plt.subplots(2, 2, figsize=(16, 8))\n",
    "\n",
    "        self.temp_log = []\n",
    "        self.log_file_size = 0\n",
    "\n",
    "        # Animation object\n",
    "        self.animation = None\n",
    "        self.rtn = self.controll.monitoring_data\n",
    "\n",
    "    def update_plot(self, frame):\n",
    "        # Get new data\n",
    "        current_size = len(self.controll.monitoring_data)\n",
    "        if current_size > self.log_file_size:\n",
    "            new_entries = self.controll.monitoring_data[self.log_file_size:]\n",
    "            self.temp_log.extend(new_entries)\n",
    "            self.log_file_size = current_size\n",
    "\n",
    "        # Process new entries\n",
    "        for entry in self.temp_log:\n",
    "            self.timestamps.append(entry['cycle_timestamp'])\n",
    "            self.pump1_rpm.append(entry['pump1_data']['rotation_speed_rpm'] if entry['pump1_data'] else None)\n",
    "            self.pump2_rpm.append(entry['pump2_data']['rotation_speed_rpm'] if entry['pump2_data'] else None)\n",
    "            self.sensor1_pressure.append(entry['sensor1_data']['pressure_value'] if entry['sensor1_data'] else None)\n",
    "            self.sensor2_pressure.append(entry['sensor2_data']['pressure_value'] if entry['sensor2_data'] else None)\n",
    "            self.pump1_power.append(entry['pump1_data']['power_consumption'] if entry['pump1_data'] else None)\n",
    "            self.pump2_power.append(entry['pump2_data']['power_consumption'] if entry['pump2_data'] else None)\n",
    "            self.pump1_temp_motor.append(entry['pump1_data']['temp_Motor'] if entry['pump1_data'] else None)\n",
    "            self.pump1_temp_pwrstg.append(entry['pump1_data']['temp_PwrStg'] if entry['pump1_data'] else None)\n",
    "            self.pump2_temp_motor.append(entry['pump2_data']['temp_Motor'] if entry['pump2_data'] else None)\n",
    "            self.pump2_temp_pwrstg.append(entry['pump2_data']['temp_PwrStg'] if entry['pump2_data'] else None)\n",
    "\n",
    "        # Clear temp_log after processing to avoid reprocessing\n",
    "        self.temp_log = []\n",
    "\n",
    "        # Clear only the axes, not the entire figure\n",
    "        self.ax1.clear()\n",
    "        self.ax2.clear()\n",
    "        self.ax3.clear()\n",
    "        self.ax4.clear()\n",
    "\n",
    "        # Filter out None values for plotting\n",
    "        valid_data1 = [(t, p1, p2) for t, p1, p2 in zip(self.timestamps, self.pump1_rpm, self.pump2_rpm)\n",
    "                      if p1 is not None or p2 is not None]\n",
    "        valid_data2 = [(t, s1, s2) for t, s1, s2 in zip(self.timestamps, self.sensor1_pressure, self.sensor2_pressure)\n",
    "                      if s1 is not None or s2 is not None]\n",
    "        valid_data3 = [(t, pw1, pw2) for t, pw1, pw2 in zip(self.timestamps, self.pump1_power, self.pump2_power)\n",
    "                      if pw1 is not None or pw2 is not None]\n",
    "        valid_data4 = [(t, tm1, tp1, tm2, tp2) for t, tm1, tp1, tm2, tp2 in zip(self.timestamps, self.pump1_temp_motor,\n",
    "                      self.pump1_temp_pwrstg, self.pump2_temp_motor, self.pump2_temp_pwrstg)\n",
    "                      if tm1 is not None or tp1 is not None or tm2 is not None or tp2 is not None]\n",
    "\n",
    "        # Plot RPM data (ax1)\n",
    "        if valid_data1:\n",
    "            times1, pump1_vals, pump2_vals = zip(*valid_data1)\n",
    "\n",
    "            # Plot pump1 data (filter None values) - BLUE with circle marker\n",
    "            pump1_valid = [(t, p) for t, p in zip(times1, pump1_vals) if p is not None]\n",
    "            if pump1_valid:\n",
    "                t1, p1 = zip(*pump1_valid)\n",
    "                if len(t1) > 120:\n",
    "                    self.ax1.plot(t1[-119:], p1[-119:], 'b-', label='Pump 1 RPM', marker='o')\n",
    "                else:\n",
    "                    self.ax1.plot(t1, p1, 'b-', label='Pump 1 RPM', marker='o')\n",
    "\n",
    "            # Plot pump2 data (filter None values) - RED with square marker\n",
    "            pump2_valid = [(t, p) for t, p in zip(times1, pump2_vals) if p is not None]\n",
    "            if pump2_valid:\n",
    "                t2, p2 = zip(*pump2_valid)\n",
    "                if len(t2) > 120:\n",
    "                    self.ax1.plot(t2[-119:], p2[-119:], 'r-', label='Pump 2 RPM', marker='s')\n",
    "                else:\n",
    "                    self.ax1.plot(t2, p2, 'r-', label='Pump 2 RPM', marker='s')\n",
    "\n",
    "        # Plot pressure data (ax2)\n",
    "        if valid_data2:\n",
    "            times2, sensor1_vals, sensor2_vals = zip(*valid_data2)\n",
    "\n",
    "            # Plot sensor1 data (filter None values) - BLUE with circle marker (matches pump1)\n",
    "            sensor1_valid = [(t, s) for t, s in zip(times2, sensor1_vals) if s is not None]\n",
    "            if sensor1_valid:\n",
    "                t1, s1 = zip(*sensor1_valid)\n",
    "                if len(t1) > 120:\n",
    "                    self.ax2.plot(t1[-119:], s1[-119:], 'b-', label='Sensor 1 Pressure', marker='o')\n",
    "                else:\n",
    "                    self.ax2.plot(t1, s1, 'b-', label='Sensor 1 Pressure', marker='o')\n",
    "\n",
    "            # Plot sensor2 data (filter None values) - RED with square marker (matches pump2)\n",
    "            sensor2_valid = [(t, s) for t, s in zip(times2, sensor2_vals) if s is not None]\n",
    "            if sensor2_valid:\n",
    "                t2, s2 = zip(*sensor2_valid)\n",
    "                if len(t2) > 120:\n",
    "                    self.ax2.plot(t2[-119:], s2[-119:], 'r-', label='Sensor 2 Pressure', marker='s')\n",
    "                else:\n",
    "                    self.ax2.plot(t2, s2, 'r-', label='Sensor 2 Pressure', marker='s')\n",
    "\n",
    "        # Plot power data (ax3)\n",
    "        if valid_data3:\n",
    "            times3, power1_vals, power2_vals = zip(*valid_data3)\n",
    "\n",
    "            # Plot pump1 power data (filter None values) - BLUE with circle marker\n",
    "            power1_valid = [(t, p) for t, p in zip(times3, power1_vals) if p is not None]\n",
    "            if power1_valid:\n",
    "                t1, p1 = zip(*power1_valid)\n",
    "                if len(t1) > 120:\n",
    "                    self.ax3.plot(t1[-119:], p1[-119:], 'b-', label='Pump 1 Power', marker='o')\n",
    "                else:\n",
    "                    self.ax3.plot(t1, p1, 'b-', label='Pump 1 Power', marker='o')\n",
    "\n",
    "            # Plot pump2 power data (filter None values) - RED with square marker\n",
    "            power2_valid = [(t, p) for t, p in zip(times3, power2_vals) if p is not None]\n",
    "            if power2_valid:\n",
    "                t2, p2 = zip(*power2_valid)\n",
    "                if len(t2) > 120:\n",
    "                    self.ax3.plot(t2[-119:], p2[-119:], 'r-', label='Pump 2 Power', marker='s')\n",
    "                else:\n",
    "                    self.ax3.plot(t2, p2, 'r-', label='Pump 2 Power', marker='s')\n",
    "\n",
    "        # Plot temperature data (ax4)\n",
    "        if valid_data4:\n",
    "            times4, temp_motor1_vals, temp_pwrstg1_vals, temp_motor2_vals, temp_pwrstg2_vals = zip(*valid_data4)\n",
    "\n",
    "            # Plot pump1 motor temperature data (filter None values) - BLUE with circle marker\n",
    "            temp_motor1_valid = [(t, tm) for t, tm in zip(times4, temp_motor1_vals) if tm is not None]\n",
    "            if temp_motor1_valid:\n",
    "                t1, tm1 = zip(*temp_motor1_valid)\n",
    "                if len(t1) > 120:\n",
    "                    self.ax4.plot(t1[-119:], tm1[-119:], 'b-', label='Pump 1 Motor Temp', marker='o')\n",
    "                else:\n",
    "                    self.ax4.plot(t1, tm1, 'b-', label='Pump 1 Motor Temp', marker='o')\n",
    "\n",
    "            # Plot pump1 power stage temperature data (filter None values) - CYAN with triangle marker\n",
    "            temp_pwrstg1_valid = [(t, tp) for t, tp in zip(times4, temp_pwrstg1_vals) if tp is not None]\n",
    "            if temp_pwrstg1_valid:\n",
    "                t1, tp1 = zip(*temp_pwrstg1_valid)\n",
    "                if len(t1) > 120:\n",
    "                    self.ax4.plot(t1[-119:], tp1[-119:], 'c-', label='Pump 1 Power Stage Temp', marker='^')\n",
    "                else:\n",
    "                    self.ax4.plot(t1, tp1, 'c-', label='Pump 1 Power Stage Temp', marker='^')\n",
    "\n",
    "            # Plot pump2 motor temperature data (filter None values) - RED with square marker\n",
    "            temp_motor2_valid = [(t, tm) for t, tm in zip(times4, temp_motor2_vals) if tm is not None]\n",
    "            if temp_motor2_valid:\n",
    "                t2, tm2 = zip(*temp_motor2_valid)\n",
    "                if len(t2) > 120:\n",
    "                    self.ax4.plot(t2[-119:], tm2[-119:], 'r-', label='Pump 2 Motor Temp', marker='s')\n",
    "                else:\n",
    "                    self.ax4.plot(t2, tm2, 'r-', label='Pump 2 Motor Temp', marker='s')\n",
    "\n",
    "            # Plot pump2 power stage temperature data (filter None values) - MAGENTA with inverted triangle marker\n",
    "            temp_pwrstg2_valid = [(t, tp) for t, tp in zip(times4, temp_pwrstg2_vals) if tp is not None]\n",
    "            if temp_pwrstg2_valid:\n",
    "                t2, tp2 = zip(*temp_pwrstg2_valid)\n",
    "                if len(t2) > 120:\n",
    "                    self.ax4.plot(t2[-119:], tp2[-119:], 'm-', label='Pump 2 Power Stage Temp', marker='v')\n",
    "                else:\n",
    "                    self.ax4.plot(t2, tp2, 'm-', label='Pump 2 Power Stage Temp', marker='v')\n",
    "\n",
    "        # Set labels and formatting\n",
    "        self.ax1.set_ylabel('Rotation Speed (RPM)')\n",
    "        self.ax1.set_title('Pump Rotation Speed Over Time')\n",
    "        self.ax1.legend()\n",
    "        self.ax1.grid(True)\n",
    "\n",
    "        #self.ax2.set_ylabel('Pressure')\n",
    "        # Use logarithmic scale for pressure if values are very small (typical for vacuum)\n",
    "        self.ax2.set_yscale('log')\n",
    "        self.ax2.set_ylabel('Pressure (log scale)')\n",
    "        self.ax2.set_title('Pressure Over Time')\n",
    "        self.ax2.legend()\n",
    "        self.ax2.grid(True)\n",
    "\n",
    "        self.ax3.set_ylabel('Power Consumption')\n",
    "        self.ax3.set_title('Pump Power Over Time')\n",
    "        self.ax3.legend()\n",
    "        self.ax3.grid(True)\n",
    "\n",
    "        self.ax4.set_ylabel('Temperature')\n",
    "        self.ax4.set_xlabel('Time')\n",
    "        self.ax4.set_title('Motor and Power Stage Temperature Over Time')\n",
    "        self.ax4.legend()\n",
    "        self.ax4.grid(True)\n",
    "\n",
    "        # Rotate x-axis labels for better readability\n",
    "        for ax in [self.ax1, self.ax2, self.ax3, self.ax4]:\n",
    "            ax.tick_params(axis='x', rotation=45)\n",
    "\n",
    "        # Adjust layout\n",
    "        self.fig.tight_layout()\n",
    "\n",
    "    def start_live_plot(self):\n",
    "        \"\"\"Start the live plotting\"\"\"\n",
    "        if not self.controll.monitoring_data:\n",
    "            print(\"No monitoring data available. Start monitoring first.\")\n",
    "            return None, None\n",
    "\n",
    "        print(f\"Starting live plot with {self.update_interval/1000}s update interval...\")\n",
    "        print(\"Close the plot window to stop live plotting.\")\n",
    "\n",
    "        # Create animation\n",
    "        self.ani = FuncAnimation(\n",
    "            self.fig,\n",
    "            self.update_plot,\n",
    "            interval=self.update_interval,\n",
    "            blit=False,  # Set to False for easier debugging\n",
    "            cache_frame_data=False\n",
    "        )\n",
    "\n",
    "        # Show the plot\n",
    "        plt.show()\n",
    "\n",
    "        return self.timestamps, self.rtn\n",
    "\n",
    "    def stop_live_plot(self):\n",
    "        \"\"\"Stop the live plotting\"\"\"\n",
    "        if hasattr(self, 'ani'):\n",
    "            self.ani.event_source.stop()\n",
    "            print(\"Live plotting stopped.\")\n",
    "        else:\n",
    "            print(\"No animation to stop.\")"
   ]
  },
  {
   "cell_type": "code",
   "execution_count": 42,
   "id": "241887cd7843a40e",
   "metadata": {
    "ExecuteTime": {
     "end_time": "2025-07-14T06:43:01.012309Z",
     "start_time": "2025-07-14T06:43:00.997661Z"
    }
   },
   "outputs": [],
   "source": [
    "# Only AX1 and AX2\n",
    "import matplotlib.pyplot as plt\n",
    "from matplotlib.animation import FuncAnimation\n",
    "import numpy as np\n",
    "\n",
    "class Plotter_locker:\n",
    "    def __init__(self, controll, update_interval=1000):\n",
    "        \"\"\"\n",
    "        Initialize live monitoring plot\n",
    "        Args:\n",
    "            controll: The controller object with monitoring_data\n",
    "            update_interval: Update interval in milliseconds (default: 1000ms = 1 second)\n",
    "        \"\"\"\n",
    "        self.controll = controll\n",
    "        self.update_interval = update_interval\n",
    "        self.window_duration = 60  # 60 seconds window\n",
    "\n",
    "        # Initialize data lists\n",
    "        self.timestamps = []\n",
    "        self.pump1_rpm = []\n",
    "        self.pump2_rpm = []\n",
    "        self.sensor1_pressure = []\n",
    "        self.sensor2_pressure = []\n",
    "\n",
    "        # Create figure and subplots\n",
    "        self.fig, (self.ax1, self.ax2) = plt.subplots(2, 1, figsize=(12, 8))\n",
    "\n",
    "        self.temp_log = []\n",
    "        self.log_file_size = 0\n",
    "\n",
    "        # Animation object\n",
    "        self.animation = None\n",
    "        self.rtn = self.controll.monitoring_data\n",
    "\n",
    "    def update_plot(self, frame):\n",
    "        # Get new data\n",
    "        current_size = len(self.controll.monitoring_data)\n",
    "        if current_size > self.log_file_size:\n",
    "            new_entries = self.controll.monitoring_data[self.log_file_size:]\n",
    "            self.temp_log.extend(new_entries)\n",
    "            self.log_file_size = current_size\n",
    "\n",
    "        # Process new entries\n",
    "        for entry in self.temp_log:\n",
    "            self.timestamps.append(entry['cycle_timestamp'])\n",
    "            self.pump1_rpm.append(entry['pump1_data']['rotation_speed_rpm'] if entry['pump1_data'] else None)\n",
    "            self.pump2_rpm.append(entry['pump2_data']['rotation_speed_rpm'] if entry['pump2_data'] else None)\n",
    "            self.sensor1_pressure.append(entry['sensor1_data']['pressure_value'] if entry['sensor1_data'] else None)\n",
    "            self.sensor2_pressure.append(entry['sensor2_data']['pressure_value'] if entry['sensor2_data'] else None)\n",
    "\n",
    "        # Clear temp_log after processing to avoid reprocessing\n",
    "        self.temp_log = []\n",
    "\n",
    "        # Clear only the axes, not the entire figure\n",
    "        self.ax1.clear()\n",
    "        self.ax2.clear()\n",
    "\n",
    "        # Filter out None values for plotting\n",
    "        valid_data1 = [(t, p1, p2) for t, p1, p2 in zip(self.timestamps, self.pump1_rpm, self.pump2_rpm)\n",
    "                      if p1 is not None or p2 is not None]\n",
    "        valid_data2 = [(t, s1, s2) for t, s1, s2 in zip(self.timestamps, self.sensor1_pressure, self.sensor2_pressure)\n",
    "                      if s1 is not None or s2 is not None]\n",
    "\n",
    "        if valid_data1:\n",
    "            times1, pump1_vals, pump2_vals = zip(*valid_data1)\n",
    "\n",
    "            # Plot pump1 data (filter None values)\n",
    "            pump1_valid = [(t, p) for t, p in zip(times1, pump1_vals) if p is not None]\n",
    "            if pump1_valid:\n",
    "                t1, p1 = zip(*pump1_valid)\n",
    "                if len(t1) > 120:\n",
    "                    self.ax1.plot(t1[-119:], p1[-119:], 'b-', label='Pump 1 RPM', marker='o')\n",
    "                else:\n",
    "                    self.ax1.plot(t1, p1, 'b-', label='Pump 1 RPM', marker='o')\n",
    "\n",
    "            # Plot pump2 data (filter None values)\n",
    "            pump2_valid = [(t, p) for t, p in zip(times1, pump2_vals) if p is not None]\n",
    "            if pump2_valid:\n",
    "                t2, p2 = zip(*pump2_valid)\n",
    "                if len(t2) > 120:\n",
    "                    self.ax1.plot(t2[-119:], p2[-119:], 'r-', label='Pump 2 RPM', marker='s')\n",
    "                else:\n",
    "                    self.ax1.plot(t2, p2, 'r-', label='Pump 2 RPM', marker='s')\n",
    "\n",
    "\n",
    "        if valid_data2:\n",
    "            times2, sensor1_vals, sensor2_vals = zip(*valid_data2)\n",
    "\n",
    "            # Plot sensor1 data (filter None values)\n",
    "            sensor1_valid = [(t, s) for t, s in zip(times2, sensor1_vals) if s is not None]\n",
    "            if sensor1_valid:\n",
    "                t1, s1 = zip(*sensor1_valid)\n",
    "                if len(t1) > 120:\n",
    "                    self.ax2.plot(t1[-119:], s1[-119:], 'g-', label='Sensor 1 Pressure', marker='^')\n",
    "                else:\n",
    "                    self.ax2.plot(t1, s1, 'g-', label='Sensor 1 Pressure', marker='^')\n",
    "\n",
    "            # Plot sensor2 data (filter None values)\n",
    "            sensor2_valid = [(t, s) for t, s in zip(times2, sensor2_vals) if s is not None]\n",
    "            if sensor2_valid:\n",
    "                t2, s2 = zip(*sensor2_valid)\n",
    "                if len(t2) > 120:\n",
    "                    self.ax2.plot(t2[-119:], s2[-119:], 'm-', label='Sensor 2 Pressure', marker='v')\n",
    "                else:\n",
    "                    self.ax2.plot(t2, s2, 'm-', label='Sensor 2 Pressure', marker='v')\n",
    "\n",
    "        # Set labels and formatting\n",
    "        self.ax1.set_ylabel('Rotation Speed (RPM)')\n",
    "        self.ax1.set_title('Pump Rotation Speed Over Time')\n",
    "        self.ax1.legend()\n",
    "        self.ax1.grid(True)\n",
    "\n",
    "        self.ax2.set_ylabel('Pressure')\n",
    "        self.ax2.set_xlabel('Time')\n",
    "        self.ax2.set_title('Pressure Over Time')\n",
    "        self.ax2.legend()\n",
    "        self.ax2.grid(True)\n",
    "\n",
    "        # Rotate x-axis labels for better readability\n",
    "        for ax in [self.ax1, self.ax2]:\n",
    "            ax.tick_params(axis='x', rotation=45)\n",
    "\n",
    "        # Adjust layout\n",
    "        self.fig.tight_layout()\n",
    "\n",
    "    def start_live_plot(self):\n",
    "        \"\"\"Start the live plotting\"\"\"\n",
    "        if not self.controll.monitoring_data:\n",
    "            print(\"No monitoring data available. Start monitoring first.\")\n",
    "            return None, None\n",
    "\n",
    "        print(f\"Starting live plot with {self.update_interval/1000}s update interval...\")\n",
    "        print(\"Close the plot window to stop live plotting.\")\n",
    "\n",
    "        # Create animation\n",
    "        self.ani = FuncAnimation(\n",
    "            self.fig,\n",
    "            self.update_plot,\n",
    "            interval=self.update_interval,\n",
    "            blit=False,  # Set to False for easier debugging\n",
    "            cache_frame_data=False\n",
    "        )\n",
    "\n",
    "        # Show the plot\n",
    "        plt.show()\n",
    "\n",
    "        return self.timestamps, self.rtn\n",
    "\n",
    "    def stop_live_plot(self):\n",
    "        \"\"\"Stop the live plotting\"\"\"\n",
    "        if hasattr(self, 'ani'):\n",
    "            self.ani.event_source.stop()\n",
    "            print(\"Live plotting stopped.\")\n",
    "        else:\n",
    "            print(\"No animation to stop.\")"
   ]
  },
  {
   "cell_type": "code",
   "execution_count": 18,
   "id": "562b4e7416c39e58",
   "metadata": {
    "ExecuteTime": {
     "end_time": "2025-07-14T08:50:24.512881Z",
     "start_time": "2025-07-14T08:50:24.506082Z"
    }
   },
   "outputs": [],
   "source": [
    "%matplotlib notebook"
   ]
  },
  {
   "cell_type": "code",
   "execution_count": 34,
   "id": "3c00a0b53764dceb",
   "metadata": {
    "ExecuteTime": {
     "end_time": "2025-07-14T11:37:04.205421Z",
     "start_time": "2025-07-14T11:37:04.173699Z"
    }
   },
   "outputs": [
    {
     "data": {
      "application/javascript": "/* Put everything inside the global mpl namespace */\n/* global mpl */\nwindow.mpl = {};\n\nmpl.get_websocket_type = function () {\n    if (typeof WebSocket !== 'undefined') {\n        return WebSocket;\n    } else if (typeof MozWebSocket !== 'undefined') {\n        return MozWebSocket;\n    } else {\n        alert(\n            'Your browser does not have WebSocket support. ' +\n                'Please try Chrome, Safari or Firefox ≥ 6. ' +\n                'Firefox 4 and 5 are also supported but you ' +\n                'have to enable WebSockets in about:config.'\n        );\n    }\n};\n\nmpl.figure = function (figure_id, websocket, ondownload, parent_element) {\n    this.id = figure_id;\n\n    this.ws = websocket;\n\n    this.supports_binary = this.ws.binaryType !== undefined;\n\n    if (!this.supports_binary) {\n        var warnings = document.getElementById('mpl-warnings');\n        if (warnings) {\n            warnings.style.display = 'block';\n            warnings.textContent =\n                'This browser does not support binary websocket messages. ' +\n                'Performance may be slow.';\n        }\n    }\n\n    this.imageObj = new Image();\n\n    this.context = undefined;\n    this.message = undefined;\n    this.canvas = undefined;\n    this.rubberband_canvas = undefined;\n    this.rubberband_context = undefined;\n    this.format_dropdown = undefined;\n\n    this.image_mode = 'full';\n\n    this.root = document.createElement('div');\n    this.root.setAttribute('style', 'display: inline-block');\n    this._root_extra_style(this.root);\n\n    parent_element.appendChild(this.root);\n\n    this._init_header(this);\n    this._init_canvas(this);\n    this._init_toolbar(this);\n\n    var fig = this;\n\n    this.waiting = false;\n\n    this.ws.onopen = function () {\n        fig.send_message('supports_binary', { value: fig.supports_binary });\n        fig.send_message('send_image_mode', {});\n        if (fig.ratio !== 1) {\n            fig.send_message('set_device_pixel_ratio', {\n                device_pixel_ratio: fig.ratio,\n            });\n        }\n        fig.send_message('refresh', {});\n    };\n\n    this.imageObj.onload = function () {\n        if (fig.image_mode === 'full') {\n            // Full images could contain transparency (where diff images\n            // almost always do), so we need to clear the canvas so that\n            // there is no ghosting.\n            fig.context.clearRect(0, 0, fig.canvas.width, fig.canvas.height);\n        }\n        fig.context.drawImage(fig.imageObj, 0, 0);\n    };\n\n    this.imageObj.onunload = function () {\n        fig.ws.close();\n    };\n\n    this.ws.onmessage = this._make_on_message_function(this);\n\n    this.ondownload = ondownload;\n};\n\nmpl.figure.prototype._init_header = function () {\n    var titlebar = document.createElement('div');\n    titlebar.classList =\n        'ui-dialog-titlebar ui-widget-header ui-corner-all ui-helper-clearfix';\n    var titletext = document.createElement('div');\n    titletext.classList = 'ui-dialog-title';\n    titletext.setAttribute(\n        'style',\n        'width: 100%; text-align: center; padding: 3px;'\n    );\n    titlebar.appendChild(titletext);\n    this.root.appendChild(titlebar);\n    this.header = titletext;\n};\n\nmpl.figure.prototype._canvas_extra_style = function (_canvas_div) {};\n\nmpl.figure.prototype._root_extra_style = function (_canvas_div) {};\n\nmpl.figure.prototype._init_canvas = function () {\n    var fig = this;\n\n    var canvas_div = (this.canvas_div = document.createElement('div'));\n    canvas_div.setAttribute('tabindex', '0');\n    canvas_div.setAttribute(\n        'style',\n        'border: 1px solid #ddd;' +\n            'box-sizing: content-box;' +\n            'clear: both;' +\n            'min-height: 1px;' +\n            'min-width: 1px;' +\n            'outline: 0;' +\n            'overflow: hidden;' +\n            'position: relative;' +\n            'resize: both;' +\n            'z-index: 2;'\n    );\n\n    function on_keyboard_event_closure(name) {\n        return function (event) {\n            return fig.key_event(event, name);\n        };\n    }\n\n    canvas_div.addEventListener(\n        'keydown',\n        on_keyboard_event_closure('key_press')\n    );\n    canvas_div.addEventListener(\n        'keyup',\n        on_keyboard_event_closure('key_release')\n    );\n\n    this._canvas_extra_style(canvas_div);\n    this.root.appendChild(canvas_div);\n\n    var canvas = (this.canvas = document.createElement('canvas'));\n    canvas.classList.add('mpl-canvas');\n    canvas.setAttribute(\n        'style',\n        'box-sizing: content-box;' +\n            'pointer-events: none;' +\n            'position: relative;' +\n            'z-index: 0;'\n    );\n\n    this.context = canvas.getContext('2d');\n\n    var backingStore =\n        this.context.backingStorePixelRatio ||\n        this.context.webkitBackingStorePixelRatio ||\n        this.context.mozBackingStorePixelRatio ||\n        this.context.msBackingStorePixelRatio ||\n        this.context.oBackingStorePixelRatio ||\n        this.context.backingStorePixelRatio ||\n        1;\n\n    this.ratio = (window.devicePixelRatio || 1) / backingStore;\n\n    var rubberband_canvas = (this.rubberband_canvas = document.createElement(\n        'canvas'\n    ));\n    rubberband_canvas.setAttribute(\n        'style',\n        'box-sizing: content-box;' +\n            'left: 0;' +\n            'pointer-events: none;' +\n            'position: absolute;' +\n            'top: 0;' +\n            'z-index: 1;'\n    );\n\n    // Apply a ponyfill if ResizeObserver is not implemented by browser.\n    if (this.ResizeObserver === undefined) {\n        if (window.ResizeObserver !== undefined) {\n            this.ResizeObserver = window.ResizeObserver;\n        } else {\n            var obs = _JSXTOOLS_RESIZE_OBSERVER({});\n            this.ResizeObserver = obs.ResizeObserver;\n        }\n    }\n\n    this.resizeObserverInstance = new this.ResizeObserver(function (entries) {\n        // There's no need to resize if the WebSocket is not connected:\n        // - If it is still connecting, then we will get an initial resize from\n        //   Python once it connects.\n        // - If it has disconnected, then resizing will clear the canvas and\n        //   never get anything back to refill it, so better to not resize and\n        //   keep something visible.\n        if (fig.ws.readyState != 1) {\n            return;\n        }\n        var nentries = entries.length;\n        for (var i = 0; i < nentries; i++) {\n            var entry = entries[i];\n            var width, height;\n            if (entry.contentBoxSize) {\n                if (entry.contentBoxSize instanceof Array) {\n                    // Chrome 84 implements new version of spec.\n                    width = entry.contentBoxSize[0].inlineSize;\n                    height = entry.contentBoxSize[0].blockSize;\n                } else {\n                    // Firefox implements old version of spec.\n                    width = entry.contentBoxSize.inlineSize;\n                    height = entry.contentBoxSize.blockSize;\n                }\n            } else {\n                // Chrome <84 implements even older version of spec.\n                width = entry.contentRect.width;\n                height = entry.contentRect.height;\n            }\n\n            // Keep the size of the canvas and rubber band canvas in sync with\n            // the canvas container.\n            if (entry.devicePixelContentBoxSize) {\n                // Chrome 84 implements new version of spec.\n                canvas.setAttribute(\n                    'width',\n                    entry.devicePixelContentBoxSize[0].inlineSize\n                );\n                canvas.setAttribute(\n                    'height',\n                    entry.devicePixelContentBoxSize[0].blockSize\n                );\n            } else {\n                canvas.setAttribute('width', width * fig.ratio);\n                canvas.setAttribute('height', height * fig.ratio);\n            }\n            /* This rescales the canvas back to display pixels, so that it\n             * appears correct on HiDPI screens. */\n            canvas.style.width = width + 'px';\n            canvas.style.height = height + 'px';\n\n            rubberband_canvas.setAttribute('width', width);\n            rubberband_canvas.setAttribute('height', height);\n\n            // And update the size in Python. We ignore the initial 0/0 size\n            // that occurs as the element is placed into the DOM, which should\n            // otherwise not happen due to the minimum size styling.\n            if (width != 0 && height != 0) {\n                fig.request_resize(width, height);\n            }\n        }\n    });\n    this.resizeObserverInstance.observe(canvas_div);\n\n    function on_mouse_event_closure(name) {\n        /* User Agent sniffing is bad, but WebKit is busted:\n         * https://bugs.webkit.org/show_bug.cgi?id=144526\n         * https://bugs.webkit.org/show_bug.cgi?id=181818\n         * The worst that happens here is that they get an extra browser\n         * selection when dragging, if this check fails to catch them.\n         */\n        var UA = navigator.userAgent;\n        var isWebKit = /AppleWebKit/.test(UA) && !/Chrome/.test(UA);\n        if(isWebKit) {\n            return function (event) {\n                /* This prevents the web browser from automatically changing to\n                 * the text insertion cursor when the button is pressed. We\n                 * want to control all of the cursor setting manually through\n                 * the 'cursor' event from matplotlib */\n                event.preventDefault()\n                return fig.mouse_event(event, name);\n            };\n        } else {\n            return function (event) {\n                return fig.mouse_event(event, name);\n            };\n        }\n    }\n\n    canvas_div.addEventListener(\n        'mousedown',\n        on_mouse_event_closure('button_press')\n    );\n    canvas_div.addEventListener(\n        'mouseup',\n        on_mouse_event_closure('button_release')\n    );\n    canvas_div.addEventListener(\n        'dblclick',\n        on_mouse_event_closure('dblclick')\n    );\n    // Throttle sequential mouse events to 1 every 20ms.\n    canvas_div.addEventListener(\n        'mousemove',\n        on_mouse_event_closure('motion_notify')\n    );\n\n    canvas_div.addEventListener(\n        'mouseenter',\n        on_mouse_event_closure('figure_enter')\n    );\n    canvas_div.addEventListener(\n        'mouseleave',\n        on_mouse_event_closure('figure_leave')\n    );\n\n    canvas_div.addEventListener('wheel', function (event) {\n        if (event.deltaY < 0) {\n            event.step = 1;\n        } else {\n            event.step = -1;\n        }\n        on_mouse_event_closure('scroll')(event);\n    });\n\n    canvas_div.appendChild(canvas);\n    canvas_div.appendChild(rubberband_canvas);\n\n    this.rubberband_context = rubberband_canvas.getContext('2d');\n    this.rubberband_context.strokeStyle = '#000000';\n\n    this._resize_canvas = function (width, height, forward) {\n        if (forward) {\n            canvas_div.style.width = width + 'px';\n            canvas_div.style.height = height + 'px';\n        }\n    };\n\n    // Disable right mouse context menu.\n    canvas_div.addEventListener('contextmenu', function (_e) {\n        event.preventDefault();\n        return false;\n    });\n\n    function set_focus() {\n        canvas.focus();\n        canvas_div.focus();\n    }\n\n    window.setTimeout(set_focus, 100);\n};\n\nmpl.figure.prototype._init_toolbar = function () {\n    var fig = this;\n\n    var toolbar = document.createElement('div');\n    toolbar.classList = 'mpl-toolbar';\n    this.root.appendChild(toolbar);\n\n    function on_click_closure(name) {\n        return function (_event) {\n            return fig.toolbar_button_onclick(name);\n        };\n    }\n\n    function on_mouseover_closure(tooltip) {\n        return function (event) {\n            if (!event.currentTarget.disabled) {\n                return fig.toolbar_button_onmouseover(tooltip);\n            }\n        };\n    }\n\n    fig.buttons = {};\n    var buttonGroup = document.createElement('div');\n    buttonGroup.classList = 'mpl-button-group';\n    for (var toolbar_ind in mpl.toolbar_items) {\n        var name = mpl.toolbar_items[toolbar_ind][0];\n        var tooltip = mpl.toolbar_items[toolbar_ind][1];\n        var image = mpl.toolbar_items[toolbar_ind][2];\n        var method_name = mpl.toolbar_items[toolbar_ind][3];\n\n        if (!name) {\n            /* Instead of a spacer, we start a new button group. */\n            if (buttonGroup.hasChildNodes()) {\n                toolbar.appendChild(buttonGroup);\n            }\n            buttonGroup = document.createElement('div');\n            buttonGroup.classList = 'mpl-button-group';\n            continue;\n        }\n\n        var button = (fig.buttons[name] = document.createElement('button'));\n        button.classList = 'mpl-widget';\n        button.setAttribute('role', 'button');\n        button.setAttribute('aria-disabled', 'false');\n        button.addEventListener('click', on_click_closure(method_name));\n        button.addEventListener('mouseover', on_mouseover_closure(tooltip));\n\n        var icon_img = document.createElement('img');\n        icon_img.src = '_images/' + image + '.png';\n        icon_img.srcset = '_images/' + image + '_large.png 2x';\n        icon_img.alt = tooltip;\n        button.appendChild(icon_img);\n\n        buttonGroup.appendChild(button);\n    }\n\n    if (buttonGroup.hasChildNodes()) {\n        toolbar.appendChild(buttonGroup);\n    }\n\n    var fmt_picker = document.createElement('select');\n    fmt_picker.classList = 'mpl-widget';\n    toolbar.appendChild(fmt_picker);\n    this.format_dropdown = fmt_picker;\n\n    for (var ind in mpl.extensions) {\n        var fmt = mpl.extensions[ind];\n        var option = document.createElement('option');\n        option.selected = fmt === mpl.default_extension;\n        option.innerHTML = fmt;\n        fmt_picker.appendChild(option);\n    }\n\n    var status_bar = document.createElement('span');\n    status_bar.classList = 'mpl-message';\n    toolbar.appendChild(status_bar);\n    this.message = status_bar;\n};\n\nmpl.figure.prototype.request_resize = function (x_pixels, y_pixels) {\n    // Request matplotlib to resize the figure. Matplotlib will then trigger a resize in the client,\n    // which will in turn request a refresh of the image.\n    this.send_message('resize', { width: x_pixels, height: y_pixels });\n};\n\nmpl.figure.prototype.send_message = function (type, properties) {\n    properties['type'] = type;\n    properties['figure_id'] = this.id;\n    this.ws.send(JSON.stringify(properties));\n};\n\nmpl.figure.prototype.send_draw_message = function () {\n    if (!this.waiting) {\n        this.waiting = true;\n        this.ws.send(JSON.stringify({ type: 'draw', figure_id: this.id }));\n    }\n};\n\nmpl.figure.prototype.handle_save = function (fig, _msg) {\n    var format_dropdown = fig.format_dropdown;\n    var format = format_dropdown.options[format_dropdown.selectedIndex].value;\n    fig.ondownload(fig, format);\n};\n\nmpl.figure.prototype.handle_resize = function (fig, msg) {\n    var size = msg['size'];\n    if (size[0] !== fig.canvas.width || size[1] !== fig.canvas.height) {\n        fig._resize_canvas(size[0], size[1], msg['forward']);\n        fig.send_message('refresh', {});\n    }\n};\n\nmpl.figure.prototype.handle_rubberband = function (fig, msg) {\n    var x0 = msg['x0'] / fig.ratio;\n    var y0 = (fig.canvas.height - msg['y0']) / fig.ratio;\n    var x1 = msg['x1'] / fig.ratio;\n    var y1 = (fig.canvas.height - msg['y1']) / fig.ratio;\n    x0 = Math.floor(x0) + 0.5;\n    y0 = Math.floor(y0) + 0.5;\n    x1 = Math.floor(x1) + 0.5;\n    y1 = Math.floor(y1) + 0.5;\n    var min_x = Math.min(x0, x1);\n    var min_y = Math.min(y0, y1);\n    var width = Math.abs(x1 - x0);\n    var height = Math.abs(y1 - y0);\n\n    fig.rubberband_context.clearRect(\n        0,\n        0,\n        fig.canvas.width / fig.ratio,\n        fig.canvas.height / fig.ratio\n    );\n\n    fig.rubberband_context.strokeRect(min_x, min_y, width, height);\n};\n\nmpl.figure.prototype.handle_figure_label = function (fig, msg) {\n    // Updates the figure title.\n    fig.header.textContent = msg['label'];\n};\n\nmpl.figure.prototype.handle_cursor = function (fig, msg) {\n    fig.canvas_div.style.cursor = msg['cursor'];\n};\n\nmpl.figure.prototype.handle_message = function (fig, msg) {\n    fig.message.textContent = msg['message'];\n};\n\nmpl.figure.prototype.handle_draw = function (fig, _msg) {\n    // Request the server to send over a new figure.\n    fig.send_draw_message();\n};\n\nmpl.figure.prototype.handle_image_mode = function (fig, msg) {\n    fig.image_mode = msg['mode'];\n};\n\nmpl.figure.prototype.handle_history_buttons = function (fig, msg) {\n    for (var key in msg) {\n        if (!(key in fig.buttons)) {\n            continue;\n        }\n        fig.buttons[key].disabled = !msg[key];\n        fig.buttons[key].setAttribute('aria-disabled', !msg[key]);\n    }\n};\n\nmpl.figure.prototype.handle_navigate_mode = function (fig, msg) {\n    if (msg['mode'] === 'PAN') {\n        fig.buttons['Pan'].classList.add('active');\n        fig.buttons['Zoom'].classList.remove('active');\n    } else if (msg['mode'] === 'ZOOM') {\n        fig.buttons['Pan'].classList.remove('active');\n        fig.buttons['Zoom'].classList.add('active');\n    } else {\n        fig.buttons['Pan'].classList.remove('active');\n        fig.buttons['Zoom'].classList.remove('active');\n    }\n};\n\nmpl.figure.prototype.updated_canvas_event = function () {\n    // Called whenever the canvas gets updated.\n    this.send_message('ack', {});\n};\n\n// A function to construct a web socket function for onmessage handling.\n// Called in the figure constructor.\nmpl.figure.prototype._make_on_message_function = function (fig) {\n    return function socket_on_message(evt) {\n        if (evt.data instanceof Blob) {\n            var img = evt.data;\n            if (img.type !== 'image/png') {\n                /* FIXME: We get \"Resource interpreted as Image but\n                 * transferred with MIME type text/plain:\" errors on\n                 * Chrome.  But how to set the MIME type?  It doesn't seem\n                 * to be part of the websocket stream */\n                img.type = 'image/png';\n            }\n\n            /* Free the memory for the previous frames */\n            if (fig.imageObj.src) {\n                (window.URL || window.webkitURL).revokeObjectURL(\n                    fig.imageObj.src\n                );\n            }\n\n            fig.imageObj.src = (window.URL || window.webkitURL).createObjectURL(\n                img\n            );\n            fig.updated_canvas_event();\n            fig.waiting = false;\n            return;\n        } else if (\n            typeof evt.data === 'string' &&\n            evt.data.slice(0, 21) === 'data:image/png;base64'\n        ) {\n            fig.imageObj.src = evt.data;\n            fig.updated_canvas_event();\n            fig.waiting = false;\n            return;\n        }\n\n        var msg = JSON.parse(evt.data);\n        var msg_type = msg['type'];\n\n        // Call the  \"handle_{type}\" callback, which takes\n        // the figure and JSON message as its only arguments.\n        try {\n            var callback = fig['handle_' + msg_type];\n        } catch (e) {\n            console.log(\n                \"No handler for the '\" + msg_type + \"' message type: \",\n                msg\n            );\n            return;\n        }\n\n        if (callback) {\n            try {\n                // console.log(\"Handling '\" + msg_type + \"' message: \", msg);\n                callback(fig, msg);\n            } catch (e) {\n                console.log(\n                    \"Exception inside the 'handler_\" + msg_type + \"' callback:\",\n                    e,\n                    e.stack,\n                    msg\n                );\n            }\n        }\n    };\n};\n\nfunction getModifiers(event) {\n    var mods = [];\n    if (event.ctrlKey) {\n        mods.push('ctrl');\n    }\n    if (event.altKey) {\n        mods.push('alt');\n    }\n    if (event.shiftKey) {\n        mods.push('shift');\n    }\n    if (event.metaKey) {\n        mods.push('meta');\n    }\n    return mods;\n}\n\n/*\n * return a copy of an object with only non-object keys\n * we need this to avoid circular references\n * https://stackoverflow.com/a/24161582/3208463\n */\nfunction simpleKeys(original) {\n    return Object.keys(original).reduce(function (obj, key) {\n        if (typeof original[key] !== 'object') {\n            obj[key] = original[key];\n        }\n        return obj;\n    }, {});\n}\n\nmpl.figure.prototype.mouse_event = function (event, name) {\n    if (name === 'button_press') {\n        this.canvas.focus();\n        this.canvas_div.focus();\n    }\n\n    // from https://stackoverflow.com/q/1114465\n    var boundingRect = this.canvas.getBoundingClientRect();\n    var x = (event.clientX - boundingRect.left) * this.ratio;\n    var y = (event.clientY - boundingRect.top) * this.ratio;\n\n    this.send_message(name, {\n        x: x,\n        y: y,\n        button: event.button,\n        step: event.step,\n        buttons: event.buttons,\n        modifiers: getModifiers(event),\n        guiEvent: simpleKeys(event),\n    });\n\n    return false;\n};\n\nmpl.figure.prototype._key_event_extra = function (_event, _name) {\n    // Handle any extra behaviour associated with a key event\n};\n\nmpl.figure.prototype.key_event = function (event, name) {\n    // Prevent repeat events\n    if (name === 'key_press') {\n        if (event.key === this._key) {\n            return;\n        } else {\n            this._key = event.key;\n        }\n    }\n    if (name === 'key_release') {\n        this._key = null;\n    }\n\n    var value = '';\n    if (event.ctrlKey && event.key !== 'Control') {\n        value += 'ctrl+';\n    }\n    else if (event.altKey && event.key !== 'Alt') {\n        value += 'alt+';\n    }\n    else if (event.shiftKey && event.key !== 'Shift') {\n        value += 'shift+';\n    }\n\n    value += 'k' + event.key;\n\n    this._key_event_extra(event, name);\n\n    this.send_message(name, { key: value, guiEvent: simpleKeys(event) });\n    return false;\n};\n\nmpl.figure.prototype.toolbar_button_onclick = function (name) {\n    if (name === 'download') {\n        this.handle_save(this, null);\n    } else {\n        this.send_message('toolbar_button', { name: name });\n    }\n};\n\nmpl.figure.prototype.toolbar_button_onmouseover = function (tooltip) {\n    this.message.textContent = tooltip;\n};\n\n///////////////// REMAINING CONTENT GENERATED BY embed_js.py /////////////////\n// prettier-ignore\nvar _JSXTOOLS_RESIZE_OBSERVER=function(A){var t,i=new WeakMap,n=new WeakMap,a=new WeakMap,r=new WeakMap,o=new Set;function s(e){if(!(this instanceof s))throw new TypeError(\"Constructor requires 'new' operator\");i.set(this,e)}function h(){throw new TypeError(\"Function is not a constructor\")}function c(e,t,i,n){e=0 in arguments?Number(arguments[0]):0,t=1 in arguments?Number(arguments[1]):0,i=2 in arguments?Number(arguments[2]):0,n=3 in arguments?Number(arguments[3]):0,this.right=(this.x=this.left=e)+(this.width=i),this.bottom=(this.y=this.top=t)+(this.height=n),Object.freeze(this)}function d(){t=requestAnimationFrame(d);var s=new WeakMap,p=new Set;o.forEach((function(t){r.get(t).forEach((function(i){var r=t instanceof window.SVGElement,o=a.get(t),d=r?0:parseFloat(o.paddingTop),f=r?0:parseFloat(o.paddingRight),l=r?0:parseFloat(o.paddingBottom),u=r?0:parseFloat(o.paddingLeft),g=r?0:parseFloat(o.borderTopWidth),m=r?0:parseFloat(o.borderRightWidth),w=r?0:parseFloat(o.borderBottomWidth),b=u+f,F=d+l,v=(r?0:parseFloat(o.borderLeftWidth))+m,W=g+w,y=r?0:t.offsetHeight-W-t.clientHeight,E=r?0:t.offsetWidth-v-t.clientWidth,R=b+v,z=F+W,M=r?t.width:parseFloat(o.width)-R-E,O=r?t.height:parseFloat(o.height)-z-y;if(n.has(t)){var k=n.get(t);if(k[0]===M&&k[1]===O)return}n.set(t,[M,O]);var S=Object.create(h.prototype);S.target=t,S.contentRect=new c(u,d,M,O),s.has(i)||(s.set(i,[]),p.add(i)),s.get(i).push(S)}))})),p.forEach((function(e){i.get(e).call(e,s.get(e),e)}))}return s.prototype.observe=function(i){if(i instanceof window.Element){r.has(i)||(r.set(i,new Set),o.add(i),a.set(i,window.getComputedStyle(i)));var n=r.get(i);n.has(this)||n.add(this),cancelAnimationFrame(t),t=requestAnimationFrame(d)}},s.prototype.unobserve=function(i){if(i instanceof window.Element&&r.has(i)){var n=r.get(i);n.has(this)&&(n.delete(this),n.size||(r.delete(i),o.delete(i))),n.size||r.delete(i),o.size||cancelAnimationFrame(t)}},A.DOMRectReadOnly=c,A.ResizeObserver=s,A.ResizeObserverEntry=h,A}; // eslint-disable-line\nmpl.toolbar_items = [[\"Home\", \"Reset original view\", \"fa fa-home\", \"home\"], [\"Back\", \"Back to previous view\", \"fa fa-arrow-left\", \"back\"], [\"Forward\", \"Forward to next view\", \"fa fa-arrow-right\", \"forward\"], [\"\", \"\", \"\", \"\"], [\"Pan\", \"Left button pans, Right button zooms\\nx/y fixes axis, CTRL fixes aspect\", \"fa fa-arrows\", \"pan\"], [\"Zoom\", \"Zoom to rectangle\\nx/y fixes axis\", \"fa fa-square-o\", \"zoom\"], [\"\", \"\", \"\", \"\"], [\"Download\", \"Download plot\", \"fa fa-floppy-o\", \"download\"]];\n\nmpl.extensions = [\"eps\", \"jpeg\", \"pgf\", \"pdf\", \"png\", \"ps\", \"raw\", \"svg\", \"tif\", \"webp\"];\n\nmpl.default_extension = \"png\";/* global mpl */\n\nvar comm_websocket_adapter = function (comm) {\n    // Create a \"websocket\"-like object which calls the given IPython comm\n    // object with the appropriate methods. Currently this is a non binary\n    // socket, so there is still some room for performance tuning.\n    var ws = {};\n\n    ws.binaryType = comm.kernel.ws.binaryType;\n    ws.readyState = comm.kernel.ws.readyState;\n    function updateReadyState(_event) {\n        if (comm.kernel.ws) {\n            ws.readyState = comm.kernel.ws.readyState;\n        } else {\n            ws.readyState = 3; // Closed state.\n        }\n    }\n    comm.kernel.ws.addEventListener('open', updateReadyState);\n    comm.kernel.ws.addEventListener('close', updateReadyState);\n    comm.kernel.ws.addEventListener('error', updateReadyState);\n\n    ws.close = function () {\n        comm.close();\n    };\n    ws.send = function (m) {\n        //console.log('sending', m);\n        comm.send(m);\n    };\n    // Register the callback with on_msg.\n    comm.on_msg(function (msg) {\n        //console.log('receiving', msg['content']['data'], msg);\n        var data = msg['content']['data'];\n        if (data['blob'] !== undefined) {\n            data = {\n                data: new Blob(msg['buffers'], { type: data['blob'] }),\n            };\n        }\n        // Pass the mpl event to the overridden (by mpl) onmessage function.\n        ws.onmessage(data);\n    });\n    return ws;\n};\n\nmpl.mpl_figure_comm = function (comm, msg) {\n    // This is the function which gets called when the mpl process\n    // starts-up an IPython Comm through the \"matplotlib\" channel.\n\n    var id = msg.content.data.id;\n    // Get hold of the div created by the display call when the Comm\n    // socket was opened in Python.\n    var element = document.getElementById(id);\n    var ws_proxy = comm_websocket_adapter(comm);\n\n    function ondownload(figure, _format) {\n        window.open(figure.canvas.toDataURL());\n    }\n\n    var fig = new mpl.figure(id, ws_proxy, ondownload, element);\n\n    // Call onopen now - mpl needs it, as it is assuming we've passed it a real\n    // web socket which is closed, not our websocket->open comm proxy.\n    ws_proxy.onopen();\n\n    fig.parent_element = element;\n    fig.cell_info = mpl.find_output_cell(\"<div id='\" + id + \"'></div>\");\n    if (!fig.cell_info) {\n        console.error('Failed to find cell for figure', id, fig);\n        return;\n    }\n    fig.cell_info[0].output_area.element.on(\n        'cleared',\n        { fig: fig },\n        fig._remove_fig_handler\n    );\n};\n\nmpl.figure.prototype.handle_close = function (fig, msg) {\n    var width = fig.canvas.width / fig.ratio;\n    fig.cell_info[0].output_area.element.off(\n        'cleared',\n        fig._remove_fig_handler\n    );\n    fig.resizeObserverInstance.unobserve(fig.canvas_div);\n\n    // Update the output cell to use the data from the current canvas.\n    fig.push_to_output();\n    var dataURL = fig.canvas.toDataURL();\n    // Re-enable the keyboard manager in IPython - without this line, in FF,\n    // the notebook keyboard shortcuts fail.\n    IPython.keyboard_manager.enable();\n    fig.parent_element.innerHTML =\n        '<img src=\"' + dataURL + '\" width=\"' + width + '\">';\n    fig.close_ws(fig, msg);\n};\n\nmpl.figure.prototype.close_ws = function (fig, msg) {\n    fig.send_message('closing', msg);\n    // fig.ws.close()\n};\n\nmpl.figure.prototype.push_to_output = function (_remove_interactive) {\n    // Turn the data on the canvas into data in the output cell.\n    var width = this.canvas.width / this.ratio;\n    var dataURL = this.canvas.toDataURL();\n    this.cell_info[1]['text/html'] =\n        '<img src=\"' + dataURL + '\" width=\"' + width + '\">';\n};\n\nmpl.figure.prototype.updated_canvas_event = function () {\n    // Tell IPython that the notebook contents must change.\n    IPython.notebook.set_dirty(true);\n    this.send_message('ack', {});\n    var fig = this;\n    // Wait a second, then push the new image to the DOM so\n    // that it is saved nicely (might be nice to debounce this).\n    setTimeout(function () {\n        fig.push_to_output();\n    }, 1000);\n};\n\nmpl.figure.prototype._init_toolbar = function () {\n    var fig = this;\n\n    var toolbar = document.createElement('div');\n    toolbar.classList = 'btn-toolbar';\n    this.root.appendChild(toolbar);\n\n    function on_click_closure(name) {\n        return function (_event) {\n            return fig.toolbar_button_onclick(name);\n        };\n    }\n\n    function on_mouseover_closure(tooltip) {\n        return function (event) {\n            if (!event.currentTarget.disabled) {\n                return fig.toolbar_button_onmouseover(tooltip);\n            }\n        };\n    }\n\n    fig.buttons = {};\n    var buttonGroup = document.createElement('div');\n    buttonGroup.classList = 'btn-group';\n    var button;\n    for (var toolbar_ind in mpl.toolbar_items) {\n        var name = mpl.toolbar_items[toolbar_ind][0];\n        var tooltip = mpl.toolbar_items[toolbar_ind][1];\n        var image = mpl.toolbar_items[toolbar_ind][2];\n        var method_name = mpl.toolbar_items[toolbar_ind][3];\n\n        if (!name) {\n            /* Instead of a spacer, we start a new button group. */\n            if (buttonGroup.hasChildNodes()) {\n                toolbar.appendChild(buttonGroup);\n            }\n            buttonGroup = document.createElement('div');\n            buttonGroup.classList = 'btn-group';\n            continue;\n        }\n\n        button = fig.buttons[name] = document.createElement('button');\n        button.classList = 'btn btn-default';\n        button.href = '#';\n        button.title = name;\n        button.innerHTML = '<i class=\"fa ' + image + ' fa-lg\"></i>';\n        button.addEventListener('click', on_click_closure(method_name));\n        button.addEventListener('mouseover', on_mouseover_closure(tooltip));\n        buttonGroup.appendChild(button);\n    }\n\n    if (buttonGroup.hasChildNodes()) {\n        toolbar.appendChild(buttonGroup);\n    }\n\n    // Add the status bar.\n    var status_bar = document.createElement('span');\n    status_bar.classList = 'mpl-message pull-right';\n    toolbar.appendChild(status_bar);\n    this.message = status_bar;\n\n    // Add the close button to the window.\n    var buttongrp = document.createElement('div');\n    buttongrp.classList = 'btn-group inline pull-right';\n    button = document.createElement('button');\n    button.classList = 'btn btn-mini btn-primary';\n    button.href = '#';\n    button.title = 'Stop Interaction';\n    button.innerHTML = '<i class=\"fa fa-power-off icon-remove icon-large\"></i>';\n    button.addEventListener('click', function (_evt) {\n        fig.handle_close(fig, {});\n    });\n    button.addEventListener(\n        'mouseover',\n        on_mouseover_closure('Stop Interaction')\n    );\n    buttongrp.appendChild(button);\n    var titlebar = this.root.querySelector('.ui-dialog-titlebar');\n    titlebar.insertBefore(buttongrp, titlebar.firstChild);\n};\n\nmpl.figure.prototype._remove_fig_handler = function (event) {\n    var fig = event.data.fig;\n    if (event.target !== this) {\n        // Ignore bubbled events from children.\n        return;\n    }\n    fig.close_ws(fig, {});\n};\n\nmpl.figure.prototype._root_extra_style = function (el) {\n    el.style.boxSizing = 'content-box'; // override notebook setting of border-box.\n};\n\nmpl.figure.prototype._canvas_extra_style = function (el) {\n    // this is important to make the div 'focusable\n    el.setAttribute('tabindex', 0);\n    // reach out to IPython and tell the keyboard manager to turn it's self\n    // off when our div gets focus\n\n    // location in version 3\n    if (IPython.notebook.keyboard_manager) {\n        IPython.notebook.keyboard_manager.register_events(el);\n    } else {\n        // location in version 2\n        IPython.keyboard_manager.register_events(el);\n    }\n};\n\nmpl.figure.prototype._key_event_extra = function (event, _name) {\n    // Check for shift+enter\n    if (event.shiftKey && event.which === 13) {\n        this.canvas_div.blur();\n        // select the cell after this one\n        var index = IPython.notebook.find_cell_index(this.cell_info[0]);\n        IPython.notebook.select(index + 1);\n    }\n};\n\nmpl.figure.prototype.handle_save = function (fig, _msg) {\n    fig.ondownload(fig, null);\n};\n\nmpl.find_output_cell = function (html_output) {\n    // Return the cell and output element which can be found *uniquely* in the notebook.\n    // Note - this is a bit hacky, but it is done because the \"notebook_saving.Notebook\"\n    // IPython event is triggered only after the cells have been serialised, which for\n    // our purposes (turning an active figure into a static one), is too late.\n    var cells = IPython.notebook.get_cells();\n    var ncells = cells.length;\n    for (var i = 0; i < ncells; i++) {\n        var cell = cells[i];\n        if (cell.cell_type === 'code') {\n            for (var j = 0; j < cell.output_area.outputs.length; j++) {\n                var data = cell.output_area.outputs[j];\n                if (data.data) {\n                    // IPython >= 3 moved mimebundle to data attribute of output\n                    data = data.data;\n                }\n                if (data['text/html'] === html_output) {\n                    return [cell, data, j];\n                }\n            }\n        }\n    }\n};\n\n// Register the function which deals with the matplotlib target/channel.\n// The kernel may be null if the page has been refreshed.\nif (IPython.notebook.kernel !== null) {\n    IPython.notebook.kernel.comm_manager.register_target(\n        'matplotlib',\n        mpl.mpl_figure_comm\n    );\n}\n",
      "text/plain": [
       "<IPython.core.display.Javascript object>"
      ]
     },
     "metadata": {},
     "output_type": "display_data"
    },
    {
     "data": {
      "text/html": [
       "<div id='406d2e8f-527d-49ae-b03e-6d3ea5ced2fc'></div>"
      ],
      "text/plain": [
       "<IPython.core.display.HTML object>"
      ]
     },
     "metadata": {},
     "output_type": "display_data"
    },
    {
     "name": "stdout",
     "output_type": "stream",
     "text": [
      "Starting live plot with 1.0s update interval...\n",
      "Close the plot window to stop live plotting.\n"
     ]
    }
   ],
   "source": [
    "live_plot = Plotter_locker(controller)\n",
    "timestmps, rtn = live_plot.start_live_plot()"
   ]
  },
  {
   "cell_type": "code",
   "execution_count": 32,
   "id": "c86532ada3c1cb9f",
   "metadata": {
    "ExecuteTime": {
     "end_time": "2025-07-14T11:36:30.362601Z",
     "start_time": "2025-07-14T11:36:30.359972Z"
    }
   },
   "outputs": [
    {
     "name": "stdout",
     "output_type": "stream",
     "text": [
      "Live plotting stopped.\n"
     ]
    }
   ],
   "source": [
    "live_plot.stop_live_plot()"
   ]
  },
  {
   "cell_type": "markdown",
   "id": "5a3d8eff",
   "metadata": {},
   "source": [
    "## 10. Data Export and Cleanup"
   ]
  },
  {
   "cell_type": "code",
   "execution_count": 39,
   "id": "cffa0542",
   "metadata": {
    "ExecuteTime": {
     "end_time": "2025-07-14T11:41:45.157278Z",
     "start_time": "2025-07-14T11:41:45.150915Z"
    }
   },
   "outputs": [
    {
     "name": "stdout",
     "output_type": "stream",
     "text": [
      "Export function ready\n"
     ]
    }
   ],
   "source": [
    "def export_monitoring_data(filename: str = None):\n",
    "    \"\"\"Export monitoring data to CSV file\"\"\"\n",
    "    if not controller.monitoring_data:\n",
    "        print(\"No data to export\")\n",
    "        return\n",
    "    \n",
    "    if filename is None:\n",
    "        filename = f\"pump_monitoring_data_{datetime.now().strftime('%Y%m%d_%H%M%S')}.csv\"\n",
    "    \n",
    "    # Flatten the data for CSV export\n",
    "    flattened_data = []\n",
    "    for cycle in controller.monitoring_data:\n",
    "        row = {'timestamp': cycle['cycle_timestamp']}\n",
    "        \n",
    "        # Add pump 1 data\n",
    "        if cycle['pump1_data']:\n",
    "            for key, value in cycle['pump1_data'].items():\n",
    "                row[f'pump1_{key}'] = value\n",
    "        \n",
    "        # Add pump 2 data\n",
    "        if cycle['pump2_data']:\n",
    "            for key, value in cycle['pump2_data'].items():\n",
    "                row[f'pump2_{key}'] = value\n",
    "        \n",
    "        # Add sensor 1 data\n",
    "        if cycle['sensor1_data']:\n",
    "            for key, value in cycle['sensor1_data'].items():\n",
    "                row[f'sensor1_{key}'] = value\n",
    "        \n",
    "        # Add sensor 2 data\n",
    "        if cycle['sensor2_data']:\n",
    "            for key, value in cycle['sensor2_data'].items():\n",
    "                row[f'sensor2_{key}'] = value\n",
    "        \n",
    "        flattened_data.append(row)\n",
    "    \n",
    "    df = pd.DataFrame(flattened_data)\n",
    "    df.to_csv(filename, index=False)\n",
    "    logger.info(f\"Data exported to {filename}\")\n",
    "    print(f\"✅ Data exported to {filename}\")\n",
    "\n",
    "print(\"Export function ready\")"
   ]
  },
  {
   "cell_type": "code",
   "execution_count": 40,
   "id": "604b31055de50bc8",
   "metadata": {
    "ExecuteTime": {
     "end_time": "2025-07-14T11:41:45.930562Z",
     "start_time": "2025-07-14T11:41:45.913395Z"
    }
   },
   "outputs": [
    {
     "name": "stderr",
     "output_type": "stream",
     "text": [
      "2025-07-14 13:41:45 | INFO | Data exported to 14-07-2025_002_dataexport\n"
     ]
    },
    {
     "name": "stdout",
     "output_type": "stream",
     "text": [
      "✅ Data exported to 14-07-2025_002_dataexport\n"
     ]
    }
   ],
   "source": [
    "export_monitoring_data(\"14-07-2025_002_dataexport\")"
   ]
  },
  {
   "cell_type": "code",
   "execution_count": null,
   "id": "568a5c711cd4b01e",
   "metadata": {
    "ExecuteTime": {
     "end_time": "2025-07-14T11:40:12.961906Z",
     "start_time": "2025-07-14T11:40:12.956580Z"
    }
   },
   "outputs": [],
   "source": [
    "#Save list as list\n",
    "-\n",
    "with open('14-07-2025_002', 'wb') as f:\n",
    "    pickle.dump(controller.monitoring_data, f)"
   ]
  },
  {
   "cell_type": "code",
   "execution_count": null,
   "id": "4d3981f2b5f2d64a",
   "metadata": {},
   "outputs": [],
   "source": [
    "# Load controller.monitor_data\n",
    "with open('mylist', 'rb') as f:\n",
    "    mylist = pickle.load(f)"
   ]
  },
  {
   "cell_type": "code",
   "execution_count": 41,
   "id": "526a98193c90d257",
   "metadata": {
    "ExecuteTime": {
     "end_time": "2025-07-14T11:42:05.879595Z",
     "start_time": "2025-07-14T11:42:05.543249Z"
    }
   },
   "outputs": [
    {
     "name": "stderr",
     "output_type": "stream",
     "text": [
      "2025-07-14 13:42:05 | INFO | Disconnecting all devices...\n",
      "2025-07-14 13:42:05 | INFO | Stopping continuous monitoring...\n",
      "2025-07-14 13:42:05 | SUCCESS | Monitoring thread stopped successfully\n",
      "2025-07-14 13:42:05 | INFO | Pump 1 disconnected\n",
      "2025-07-14 13:42:05 | INFO | Pump 2 disconnected\n",
      "2025-07-14 13:42:05 | INFO | Pressure controller disconnected\n",
      "2025-07-14 13:42:05 | SUCCESS | All devices disconnected\n"
     ]
    }
   ],
   "source": [
    "controller.disconnect_all()"
   ]
  },
  {
   "cell_type": "code",
   "execution_count": null,
   "id": "ec4e24e2",
   "metadata": {},
   "outputs": [],
   "source": [
    "# Emergency stop and cleanup\n",
    "# Run this cell if you need to stop everything and disconnect all devices\n",
    "\n",
    "print(\"🛑 Emergency Stop - Disconnecting all devices...\")\n",
    "controller.disconnect_all()\n",
    "print(\"✅ All devices disconnected safely\")\n",
    "print(\"\\nTo reconnect, run the connection cells again.\")"
   ]
  },
  {
   "cell_type": "markdown",
   "id": "2440c0ed",
   "metadata": {},
   "source": [
    "## Quick Reference\n",
    "\n",
    "### Key Functions:\n",
    "- **Connect devices**: Run cells in section 6\n",
    "- **Start monitoring**: Use the interface in section 8 or call `controller.start_monitoring(interval)`\n",
    "- **Stop monitoring**: Use the interface in section 8 or call `controller.stop_monitoring()`\n",
    "- **View data**: Run `get_monitoring_summary()` and `plot_monitoring_data()`\n",
    "- **Export data**: Run `export_monitoring_data()`\n",
    "- **Emergency stop**: Run the last cell to disconnect everything\n",
    "\n",
    "### Important Notes:\n",
    "- Monitoring runs in a separate thread and can be cancelled without losing device connections\n",
    "- All actions are logged to files in the `logs/` directory\n",
    "- The monitoring functions are currently placeholder implementations - replace with actual device methods\n",
    "- Adjust COM ports and addresses in section 6 according to your setup"
   ]
  },
  {
   "cell_type": "code",
   "execution_count": null,
   "id": "292ea3b1",
   "metadata": {},
   "outputs": [],
   "source": []
  },
  {
   "cell_type": "code",
   "execution_count": null,
   "id": "451e9415",
   "metadata": {},
   "outputs": [],
   "source": []
  }
 ],
 "metadata": {
  "kernelspec": {
   "display_name": "Python 3 (ipykernel)",
   "language": "python",
   "name": "python3"
  },
  "language_info": {
   "name": "python"
  }
 },
 "nbformat": 4,
 "nbformat_minor": 5
}
