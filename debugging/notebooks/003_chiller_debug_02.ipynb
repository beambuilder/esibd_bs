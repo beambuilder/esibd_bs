{
 "cells": [
  {
   "metadata": {},
   "cell_type": "markdown",
   "source": "# Testing Chiller with internal logging and internal thread",
   "id": "b6392562370f1a92"
  },
  {
   "cell_type": "code",
   "id": "initial_id",
   "metadata": {
    "collapsed": true,
    "ExecuteTime": {
     "end_time": "2025-08-04T06:49:38.698665Z",
     "start_time": "2025-08-04T06:49:38.669205Z"
    }
   },
   "source": [
    "import sys\n",
    "import logging\n",
    "from pathlib import Path\n",
    "import datetime\n",
    "# Add project source to Python path\n",
    "project_root = Path.cwd().parent.parent\n",
    "src_path = project_root / \"src\"\n",
    "sys.path.insert(0, str(src_path))\n",
    "\n",
    "print(f\"Project root: {project_root}\")\n",
    "print(f\"Source path: {src_path}\")\n",
    "print(f\"Python path updated: {str(src_path) in sys.path}\")\n",
    "# Import chiller class\n",
    "try:\n",
    "    from devices.chiller.chiller import Chiller, ChillerCommands\n",
    "    print(\"✅ Successfully imported Chiller class\")\n",
    "except ImportError as e:\n",
    "    print(f\"❌ Failed to import Chiller class: {e}\")\n",
    "    print(\"Check that the src/devices/chiller/chiller.py file exists\")\n"
   ],
   "outputs": [
    {
     "name": "stdout",
     "output_type": "stream",
     "text": [
      "Project root: C:\\Users\\ESIBDlab\\PycharmProjects\\esibd_bs\n",
      "Source path: C:\\Users\\ESIBDlab\\PycharmProjects\\esibd_bs\\src\n",
      "Python path updated: True\n",
      "✅ Successfully imported Chiller class\n"
     ]
    },
    {
     "data": {
      "text/plain": [
       "True"
      ]
     },
     "execution_count": 1,
     "metadata": {},
     "output_type": "execute_result"
    }
   ],
   "execution_count": 1
  },
  {
   "metadata": {},
   "cell_type": "code",
   "outputs": [],
   "execution_count": null,
   "source": [
    "chiller = Chiller(device_id=\"DEBUG_CHILLER\", port=\"COM31\")\n",
    "chiller.connect()\n",
    "chiller.start_housekeeping()\n",
    "chiller.stop_housekeeping()\n",
    "chiller.disconnect()"
   ],
   "id": "d11c0be99e8fd69f"
  },
  {
   "metadata": {},
   "cell_type": "markdown",
   "source": "# Testing Chiller Class with external log File and internal thread",
   "id": "2152c62f0772b7a9"
  },
  {
   "metadata": {
    "ExecuteTime": {
     "end_time": "2025-08-04T06:49:44.308906Z",
     "start_time": "2025-08-04T06:49:44.304412Z"
    }
   },
   "cell_type": "code",
   "source": [
    "import sys\n",
    "import logging\n",
    "from pathlib import Path\n",
    "from datetime import datetime\n",
    "# Add project source to Python path\n",
    "project_root = Path.cwd().parent.parent\n",
    "src_path = project_root / \"src\"\n",
    "sys.path.insert(0, str(src_path))\n",
    "\n",
    "print(f\"Project root: {project_root}\")\n",
    "print(f\"Source path: {src_path}\")\n",
    "print(f\"Python path updated: {str(src_path) in sys.path}\")\n",
    "# Import chiller class\n",
    "try:\n",
    "    from devices.chiller.chiller import Chiller, ChillerCommands\n",
    "    print(\"✅ Successfully imported Chiller class\")\n",
    "except ImportError as e:\n",
    "    print(f\"❌ Failed to import Chiller class: {e}\")\n",
    "    print(\"Check that the src/devices/chiller/chiller.py file exists\")"
   ],
   "id": "7bbbf471dfc99874",
   "outputs": [
    {
     "name": "stdout",
     "output_type": "stream",
     "text": [
      "Project root: C:\\Users\\ESIBDlab\\PycharmProjects\\esibd_bs\n",
      "Source path: C:\\Users\\ESIBDlab\\PycharmProjects\\esibd_bs\\src\n",
      "Python path updated: True\n",
      "✅ Successfully imported Chiller class\n"
     ]
    }
   ],
   "execution_count": 2
  },
  {
   "metadata": {
    "ExecuteTime": {
     "end_time": "2025-07-29T09:20:27.940166Z",
     "start_time": "2025-07-29T09:20:27.937166Z"
    }
   },
   "cell_type": "code",
   "source": [
    "CHILLER_CONFIG = {\n",
    "    \"device_id\": \"debug_chiller_01_RE420_extlog\",\n",
    "    \"port\": \"COM31\",\n",
    "    \"baudrate\": 115200,\n",
    "    \"timeout\": 2.0\n",
    "}"
   ],
   "id": "62a5706c3ff86caf",
   "outputs": [],
   "execution_count": 5
  },
  {
   "metadata": {
    "ExecuteTime": {
     "end_time": "2025-07-29T09:20:28.519469Z",
     "start_time": "2025-07-29T09:20:28.509701Z"
    }
   },
   "cell_type": "code",
   "source": [
    "# Create logs directory if it doesn't exist\n",
    "logs_dir = project_root / \"debugging\" / \"logs\"\n",
    "logs_dir.mkdir(parents=True, exist_ok=True)\n",
    "\n",
    "# Create custom logger with timestamped filename\n",
    "device_id = CHILLER_CONFIG[\"device_id\"]\n",
    "timestamp = datetime.now().strftime(\"%d_%m_%Y_%H_%M_%S\")\n",
    "log_filename = f\"{device_id}_{timestamp}.log\"\n",
    "log_filepath = logs_dir / log_filename\n",
    "\n",
    "print(f\"\\n Creating custom logger...\")\n",
    "print(f\"  Log file: {log_filename}\")\n",
    "\n",
    "# Create custom logger\n",
    "custom_logger = logging.getLogger(f\"notebook.{device_id}\")\n",
    "custom_logger.setLevel(logging.DEBUG)\n",
    "\n",
    "# Clear any existing handlers\n",
    "custom_logger.handlers.clear()\n",
    "\n",
    "# Create file handler with timestamped filename\n",
    "file_handler = logging.FileHandler(log_filepath)\n",
    "file_handler.setLevel(logging.DEBUG)\n",
    "\n",
    "# Create console handler for immediate feedback\n",
    "console_handler = logging.StreamHandler()\n",
    "console_handler.setLevel(logging.INFO)\n",
    "\n",
    "# Create formatter\n",
    "formatter = logging.Formatter(\n",
    "    '%(asctime)s - %(name)s - %(levelname)s - %(message)s',\n",
    "    datefmt='%Y-%m-%d %H:%M:%S'\n",
    ")\n",
    "\n",
    "# Set formatter for both handlers\n",
    "file_handler.setFormatter(formatter)\n",
    "console_handler.setFormatter(formatter)\n",
    "\n",
    "# Add handlers to logger\n",
    "custom_logger.addHandler(file_handler)\n",
    "custom_logger.addHandler(console_handler)\n",
    "\n",
    "print(f\"  ✅ Logger created: {custom_logger.name}\")\n",
    "print(f\"  📁 Log path: {log_filepath}\")\n",
    "\n",
    "# Initialize single chiller instance with custom logger\n",
    "try:\n",
    "    print(f\"\\n📊 Creating chiller instance...\")\n",
    "\n",
    "    chiller = Chiller(\n",
    "        device_id=CHILLER_CONFIG[\"device_id\"],\n",
    "        port=CHILLER_CONFIG[\"port\"],\n",
    "        baudrate=CHILLER_CONFIG[\"baudrate\"],\n",
    "        timeout=CHILLER_CONFIG[\"timeout\"],\n",
    "        logger=custom_logger\n",
    "    )\n",
    "\n",
    "    print(f\"  ✅ Chiller created successfully\")\n",
    "\n",
    "    # Log the initialization\n",
    "    custom_logger.info(f\"Chiller initialized - Device: {device_id}\")\n",
    "    custom_logger.info(f\"Configuration: Port={CHILLER_CONFIG['port']}, Baudrate={CHILLER_CONFIG['baudrate']}, Timeout={CHILLER_CONFIG['timeout']}\")\n",
    "\n",
    "    # Display initialization details\n",
    "    status = chiller.get_status()\n",
    "    print(f\"\\n📋 Chiller Details:\")\n",
    "    print(f\"  Device ID: {status['device_id']}\")\n",
    "    print(f\"  🔌 Port: {status['port']}\")\n",
    "    print(f\"  ⚡ Baudrate: {status['baudrate']}\")\n",
    "    print(f\"  ⏱️ Timeout: {status['timeout']}s\")\n",
    "    print(f\"  🔗 Connected: {status['connected']}\")\n",
    "    print(f\"  📝 Logger: {chiller.logger.name}\")\n",
    "    print(f\"  📄 Log handlers: {len(chiller.logger.handlers)}\")\n",
    "\n",
    "    print(f\"\\n🎯 Chiller initialization completed successfully!\")\n",
    "\n",
    "except Exception as e:\n",
    "    print(f\"  ❌ Failed to create chiller: {str(e)}\")\n",
    "    print(f\"     Error type: {type(e).__name__}\")\n",
    "    custom_logger.error(f\"Chiller initialization failed: {e}\")\n",
    "    chiller = None"
   ],
   "id": "39e9d3c4f753cd8",
   "outputs": [
    {
     "name": "stderr",
     "output_type": "stream",
     "text": [
      "2025-07-29 11:20:28 - notebook.debug_chiller_01_RE420_extlog - INFO - Chiller initialized - Device: debug_chiller_01_RE420_extlog\n",
      "2025-07-29 11:20:28 - notebook.debug_chiller_01_RE420_extlog - INFO - Configuration: Port=COM31, Baudrate=115200, Timeout=2.0\n"
     ]
    },
    {
     "name": "stdout",
     "output_type": "stream",
     "text": [
      "\n",
      " Creating custom logger...\n",
      "  Log file: debug_chiller_01_RE420_extlog_29_07_2025_11_20_28.log\n",
      "  ✅ Logger created: notebook.debug_chiller_01_RE420_extlog\n",
      "  📁 Log path: C:\\Users\\ESIBDlab\\PycharmProjects\\esibd_bs\\debugging\\logs\\debug_chiller_01_RE420_extlog_29_07_2025_11_20_28.log\n",
      "\n",
      "📊 Creating chiller instance...\n",
      "  ✅ Chiller created successfully\n",
      "\n",
      "📋 Chiller Details:\n",
      "  Device ID: debug_chiller_01_RE420_extlog\n",
      "  🔌 Port: COM31\n",
      "  ⚡ Baudrate: 115200\n",
      "  ⏱️ Timeout: 2.0s\n",
      "  🔗 Connected: False\n",
      "  📝 Logger: notebook.debug_chiller_01_RE420_extlog\n",
      "  📄 Log handlers: 2\n",
      "\n",
      "🎯 Chiller initialization completed successfully!\n"
     ]
    }
   ],
   "execution_count": 6
  },
  {
   "metadata": {
    "ExecuteTime": {
     "end_time": "2025-07-29T09:20:58.188483Z",
     "start_time": "2025-07-29T09:20:58.148595Z"
    }
   },
   "cell_type": "code",
   "source": "chiller.connect()",
   "id": "b1ebd3a68e942dd1",
   "outputs": [
    {
     "name": "stderr",
     "output_type": "stream",
     "text": [
      "2025-07-29 11:20:58 - notebook.debug_chiller_01_RE420_extlog - INFO - Connecting to chiller debug_chiller_01_RE420_extlog on COM31\n"
     ]
    },
    {
     "data": {
      "text/plain": [
       "True"
      ]
     },
     "execution_count": 7,
     "metadata": {},
     "output_type": "execute_result"
    }
   ],
   "execution_count": 7
  },
  {
   "metadata": {
    "ExecuteTime": {
     "end_time": "2025-07-29T09:21:17.504015Z",
     "start_time": "2025-07-29T09:21:17.500734Z"
    }
   },
   "cell_type": "code",
   "source": "chiller.is_connected",
   "id": "c7bf33b9b155e761",
   "outputs": [
    {
     "data": {
      "text/plain": [
       "True"
      ]
     },
     "execution_count": 9,
     "metadata": {},
     "output_type": "execute_result"
    }
   ],
   "execution_count": 9
  },
  {
   "metadata": {
    "ExecuteTime": {
     "end_time": "2025-07-29T09:27:03.831309Z",
     "start_time": "2025-07-29T09:27:03.824889Z"
    }
   },
   "cell_type": "code",
   "source": "chiller.start_housekeeping()",
   "id": "51af012f35e773a9",
   "outputs": [
    {
     "name": "stderr",
     "output_type": "stream",
     "text": [
      "2025-07-29 11:27:03 - notebook.debug_chiller_01_RE420_extlog - INFO - File logging already enabled\n",
      "2025-07-29 11:27:03 - notebook.debug_chiller_01_RE420_extlog - INFO - Housekeeping worker started for debug_chiller_01_RE420_extlog\n",
      "2025-07-29 11:27:03 - notebook.debug_chiller_01_RE420_extlog - INFO - Housekeeping started (internal mode) - interval: 2s\n"
     ]
    },
    {
     "data": {
      "text/plain": [
       "True"
      ]
     },
     "execution_count": 18,
     "metadata": {},
     "output_type": "execute_result"
    },
    {
     "name": "stderr",
     "output_type": "stream",
     "text": [
      "2025-07-29 11:27:03 - notebook.debug_chiller_01_RE420_extlog - INFO - debug_chiller_01_RE420_extlog   COM31   Cur_Temp   16.0//degC\n"
     ]
    }
   ],
   "execution_count": 18
  },
  {
   "metadata": {
    "ExecuteTime": {
     "end_time": "2025-07-29T09:28:04.808233Z",
     "start_time": "2025-07-29T09:28:04.803861Z"
    }
   },
   "cell_type": "code",
   "source": "chiller.read_keylock()",
   "id": "3faa05b6ed8b08be",
   "outputs": [
    {
     "data": {
      "text/plain": [
       "'FREE'"
      ]
     },
     "execution_count": 24,
     "metadata": {},
     "output_type": "execute_result"
    }
   ],
   "execution_count": 24
  },
  {
   "metadata": {
    "ExecuteTime": {
     "end_time": "2025-07-29T09:28:01.954509Z",
     "start_time": "2025-07-29T09:28:01.950508Z"
    }
   },
   "cell_type": "code",
   "source": "chiller.set_keylock(False)",
   "id": "6a5f30c0301ffc94",
   "outputs": [],
   "execution_count": 23
  },
  {
   "metadata": {
    "ExecuteTime": {
     "end_time": "2025-07-29T09:28:41.325235Z",
     "start_time": "2025-07-29T09:28:41.317113Z"
    }
   },
   "cell_type": "code",
   "source": [
    "chiller.stop_housekeeping()\n",
    "chiller.disconnect()"
   ],
   "id": "9ac6d0d9e3b3e6bc",
   "outputs": [
    {
     "name": "stderr",
     "output_type": "stream",
     "text": [
      "2025-07-29 11:28:41 - notebook.debug_chiller_01_RE420_extlog - INFO - Housekeeping stopped (internal mode)\n",
      "2025-07-29 11:28:41 - notebook.debug_chiller_01_RE420_extlog - INFO - Disconnected from chiller debug_chiller_01_RE420_extlog\n"
     ]
    },
    {
     "data": {
      "text/plain": [
       "True"
      ]
     },
     "execution_count": 25,
     "metadata": {},
     "output_type": "execute_result"
    }
   ],
   "execution_count": 25
  },
  {
   "metadata": {},
   "cell_type": "code",
   "outputs": [],
   "execution_count": null,
   "source": "",
   "id": "d15576f033a2a30a"
  }
 ],
 "metadata": {
  "kernelspec": {
   "display_name": "Python 3",
   "language": "python",
   "name": "python3"
  },
  "language_info": {
   "codemirror_mode": {
    "name": "ipython",
    "version": 2
   },
   "file_extension": ".py",
   "mimetype": "text/x-python",
   "name": "python",
   "nbconvert_exporter": "python",
   "pygments_lexer": "ipython2",
   "version": "2.7.6"
  }
 },
 "nbformat": 4,
 "nbformat_minor": 5
}
