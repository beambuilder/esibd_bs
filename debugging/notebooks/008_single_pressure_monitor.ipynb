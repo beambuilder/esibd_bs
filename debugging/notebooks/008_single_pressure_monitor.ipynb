{
 "cells": [
  {
   "cell_type": "markdown",
   "id": "941947cb",
   "metadata": {},
   "source": [
    "# Pump Locker Test - Dual HiScroll12 Control System\n",
    "\n",
    "This notebook provides control and monitoring capabilities for two HiScroll12 vacuum pumps with TPG366 pressure sensors using the current hardware versions.\n",
    "\n",
    "## Features:\n",
    "- Control for 2 HiScroll12 vacuum pumps (current version)\n",
    "- Monitoring for TPG366 pressure sensors (current version)\n",
    "- Shared logging system using loguru\n",
    "- Cancelable continuous monitoring\n",
    "- Real-time data visualization\n",
    "- Simplified and optimized for current hardware"
   ]
  },
  {
   "cell_type": "markdown",
   "id": "8b99bd71",
   "metadata": {},
   "source": [
    "## 1. Import Required Libraries and Setup"
   ]
  },
  {
   "cell_type": "code",
   "id": "94c65621",
   "metadata": {
    "ExecuteTime": {
     "end_time": "2025-09-09T12:20:37.563180Z",
     "start_time": "2025-09-09T12:20:36.797574Z"
    }
   },
   "source": [
    "import sys\n",
    "import threading\n",
    "import time\n",
    "from datetime import datetime\n",
    "import asyncio\n",
    "from typing import Dict, Optional, Any\n",
    "import pandas as pd\n",
    "import matplotlib.pyplot as plt\n",
    "from IPython.display import display, clear_output\n",
    "import ipywidgets as widgets\n",
    "import pickle\n",
    "\n",
    "from loguru import logger\n",
    "import os\n",
    "from pathlib import Path\n",
    "\n",
    "# Add path to src modules\n",
    "sys.path.append(os.path.join(os.getcwd(), '..', '..', 'src'))\n",
    "\n",
    "# Import current device modules\n",
    "from devices.pfeiffer.tpg366.tpg366 import TPG366"
   ],
   "outputs": [],
   "execution_count": 1
  },
  {
   "cell_type": "markdown",
   "id": "fe604338",
   "metadata": {},
   "source": [
    "## 2. Setup Shared Logging System"
   ]
  },
  {
   "cell_type": "code",
   "id": "ad438b27",
   "metadata": {
    "ExecuteTime": {
     "end_time": "2025-09-09T12:20:39.788297Z",
     "start_time": "2025-09-09T12:20:39.779291Z"
    }
   },
   "source": [
    "# Get the repository root and create shared logs directory\n",
    "repo_root = Path(os.getcwd()).parent.parent\n",
    "log_dir = repo_root / \"debugging\" / \"logs\"\n",
    "log_dir.mkdir(parents=True, exist_ok=True)\n",
    "\n",
    "# Create shared log file for all devices\n",
    "timestamp = datetime.now().strftime(\"%Y%m%d_%H%M%S\")\n",
    "shared_log_file = log_dir / f\"008_single_pressure_monitor_{timestamp}.log\"\n",
    "\n",
    "# Configure shared logger\n",
    "logger.remove()  # Remove default logger\n",
    "\n",
    "# Add console logger with INFO level\n",
    "logger.add(sys.stderr, level=\"INFO\", format=\"{time:YYYY-MM-DD HH:mm:ss} | {level} | {message}\")\n",
    "\n",
    "# Add shared file logger with DEBUG level\n",
    "logger.add(\n",
    "    str(shared_log_file),\n",
    "    level=\"DEBUG\",\n",
    "    format=\"{time:YYYY-MM-DD HH:mm:ss.SSS} | {level} | {name}:{function}:{line} | {message}\",\n",
    "    rotation=\"1 day\",\n",
    "    retention=\"30 days\",\n",
    "    compression=\"zip\"\n",
    ")\n",
    "\n",
    "logger.info(\"Single Pressure Monitor system initialized with shared logging\")\n",
    "print(f\"Repository root: {repo_root}\")\n",
    "print(f\"Shared logs will be saved to: {shared_log_file}\")"
   ],
   "outputs": [
    {
     "name": "stderr",
     "output_type": "stream",
     "text": [
      "2025-09-09 14:20:39 | INFO | Single Pressure Monitor system initialized with shared logging\n"
     ]
    },
    {
     "name": "stdout",
     "output_type": "stream",
     "text": [
      "Repository root: C:\\Users\\ESIBDlab\\PycharmProjects\\esibd_bs\n",
      "Shared logs will be saved to: C:\\Users\\ESIBDlab\\PycharmProjects\\esibd_bs\\debugging\\logs\\008_single_pressure_monitor_20250909_142039.log\n"
     ]
    }
   ],
   "execution_count": 2
  },
  {
   "cell_type": "markdown",
   "id": "18d98b7b",
   "metadata": {},
   "source": [
    "## 3. Simplified Pump Controller Class"
   ]
  },
  {
   "cell_type": "code",
   "id": "24ec7962",
   "metadata": {
    "ExecuteTime": {
     "end_time": "2025-09-09T12:20:42.245419Z",
     "start_time": "2025-09-09T12:20:42.238085Z"
    }
   },
   "source": [
    "class PressureController:\n",
    "    \"\"\"Simplified controller class for managing two HiScroll12 pumps and TPG366 pressure sensors\"\"\"\n",
    "    \n",
    "    def __init__(self):\n",
    "        self.pressure_controller: Optional[TPG366] = None\n",
    "        \n",
    "        # Monitoring control\n",
    "        self.monitoring_active = False\n",
    "        self.monitoring_thread = None\n",
    "        self.monitoring_stop_event = threading.Event()\n",
    "        \n",
    "        # Data storage\n",
    "        self.monitoring_data = []\n",
    "        \n",
    "        # Shared thread lock for all devices\n",
    "        self.shared_lock = threading.Lock()\n",
    "        \n",
    "        logger.info(\"Pressure Controller initialized\")\n",
    "    \n",
    "    def connect_pressure_controller(self, com_port: str, address: int):\n",
    "        \"\"\"Connect to TPG366 pressure controller with shared logger\"\"\"\n",
    "        try:\n",
    "            logger.info(f\"Connecting to TPG366 pressure controller on {com_port}, address {address}\")\n",
    "            self.pressure_controller = TPG366(\n",
    "                device_id=\"tpg366_pressure\",\n",
    "                port=com_port,\n",
    "                device_address=address,\n",
    "                logger=logger,  # Pass shared logger\n",
    "                thread_lock=self.shared_lock  # Use shared lock\n",
    "            )\n",
    "            self.pressure_controller.connect()\n",
    "            \n",
    "            logger.success(\"TPG366 pressure controller connected successfully\")\n",
    "            return True\n",
    "            \n",
    "        except Exception as e:\n",
    "            logger.error(f\"Failed to connect TPG366 pressure controller: {e}\")\n",
    "            return False\n",
    "    \n",
    "    def disconnect_all(self):\n",
    "        \"\"\"Safely disconnect all devices\"\"\"\n",
    "        logger.info(\"Disconnecting all devices...\")\n",
    "        \n",
    "        # Stop monitoring first\n",
    "        self.stop_monitoring()\n",
    "        \n",
    "        # Disconnect pressure controller\n",
    "        if self.pressure_controller:\n",
    "            try:\n",
    "                self.pressure_controller.disconnect()\n",
    "                logger.info(\"TPG366 pressure controller disconnected\")\n",
    "            except Exception as e:\n",
    "                logger.error(f\"Error disconnecting TPG366 pressure controller: {e}\")\n",
    "        \n",
    "        logger.success(\"All devices disconnected\")\n",
    "\n",
    "# Create global controller instance\n",
    "controller = PressureController()"
   ],
   "outputs": [
    {
     "name": "stderr",
     "output_type": "stream",
     "text": [
      "2025-09-09 14:20:42 | INFO | Pressure Controller initialized\n"
     ]
    }
   ],
   "execution_count": 3
  },
  {
   "cell_type": "markdown",
   "id": "dadded5a",
   "metadata": {},
   "source": [
    "## 4. Device Monitoring Functions"
   ]
  },
  {
   "cell_type": "code",
   "id": "6986b000",
   "metadata": {
    "ExecuteTime": {
     "end_time": "2025-09-09T12:20:47.565704Z",
     "start_time": "2025-09-09T12:20:47.560694Z"
    }
   },
   "source": [
    "def monitor_tpg366_pressure(pressure_controller: TPG366, sensor_id: str, channel: int) -> Dict[str, Any]:\n",
    "    \"\"\"\n",
    "    Monitor pressure from TPG366 sensor channel.\n",
    "    \n",
    "    Parameters:\n",
    "    - pressure_controller: TPG366 pressure controller instance\n",
    "    - sensor_id: Identifier string for the sensor\n",
    "    - channel: Sensor channel to read from (1-6)\n",
    "    \n",
    "    Returns:\n",
    "    - Dictionary containing pressure data\n",
    "    \"\"\"\n",
    "    \n",
    "    try:\n",
    "        logger.debug(f\"Reading pressure from {sensor_id}, channel {channel}...\")\n",
    "        \n",
    "        # Get actual pressure reading using current API\n",
    "        pressure_value = pressure_controller.read_pressure_value(channel)\n",
    "        \n",
    "        pressure_data = {\n",
    "            'timestamp': datetime.now(),\n",
    "            'sensor_id': sensor_id,\n",
    "            'channel': channel,\n",
    "            'pressure_value': pressure_value,\n",
    "            'status': 'OK'\n",
    "        }\n",
    "        \n",
    "        logger.debug(f\"{sensor_id} pressure reading: {pressure_value}\")\n",
    "        return pressure_data\n",
    "        \n",
    "    except Exception as e:\n",
    "        logger.error(f\"Error reading pressure from {sensor_id}: {e}\")\n",
    "        return {\n",
    "            'timestamp': datetime.now(),\n",
    "            'sensor_id': sensor_id,\n",
    "            'channel': channel,\n",
    "            'pressure_value': None,\n",
    "            'error': str(e),\n",
    "            'status': 'ERROR'\n",
    "        }\n",
    "\n",
    "print(\"Monitoring functions defined successfully\")"
   ],
   "outputs": [
    {
     "name": "stdout",
     "output_type": "stream",
     "text": [
      "Monitoring functions defined successfully\n"
     ]
    }
   ],
   "execution_count": 4
  },
  {
   "cell_type": "markdown",
   "id": "f55933c8",
   "metadata": {},
   "source": [
    "## 5. Continuous Monitoring System"
   ]
  },
  {
   "cell_type": "code",
   "id": "57bbc39c",
   "metadata": {
    "ExecuteTime": {
     "end_time": "2025-09-09T12:20:50.151941Z",
     "start_time": "2025-09-09T12:20:50.144727Z"
    }
   },
   "source": [
    "def continuous_monitoring_worker(controller: PressureController, interval: float = 5.0):\n",
    "    \"\"\"\n",
    "    Worker function for continuous monitoring that runs in a separate thread.\n",
    "    \"\"\"\n",
    "    logger.info(f\"Starting continuous monitoring with {interval}s interval\")\n",
    "    \n",
    "    while not controller.monitoring_stop_event.is_set():\n",
    "        try:\n",
    "            monitoring_cycle_data = {\n",
    "                'cycle_timestamp': datetime.now(),\n",
    "                'sensor1_data': None\n",
    "            }\n",
    "\n",
    "            # Monitor pressure sensors if controller is connected\n",
    "            if controller.pressure_controller:\n",
    "                # Read from sensor channels 1 and 2\n",
    "                monitoring_cycle_data['sensor1_data'] = monitor_tpg366_pressure(\n",
    "                    controller.pressure_controller, \"Sensor_1\", channel=1\n",
    "                )\n",
    "            \n",
    "            # Store data\n",
    "            controller.monitoring_data.append(monitoring_cycle_data)\n",
    "            \n",
    "            # Log summary with pressure values if available\n",
    "            log_msg = f\"Monitoring cycle completed at {monitoring_cycle_data['cycle_timestamp']}\"\n",
    "            if monitoring_cycle_data['sensor1_data']:\n",
    "                p1 = monitoring_cycle_data['sensor1_data'].get('pressure_value')\n",
    "                log_msg += f\" | Pressures: S1={p1}\"\n",
    "            logger.info(log_msg)\n",
    "            \n",
    "            # Wait for next cycle or stop signal\n",
    "            if controller.monitoring_stop_event.wait(timeout=interval):\n",
    "                break  # Stop event was set\n",
    "                \n",
    "        except Exception as e:\n",
    "            logger.error(f\"Error in monitoring cycle: {e}\")\n",
    "            # Continue monitoring even if one cycle fails\n",
    "            time.sleep(interval)\n",
    "    \n",
    "    logger.info(\"Continuous monitoring stopped\")\n",
    "\n",
    "def start_monitoring(controller: PressureController, interval: float = 5.0):\n",
    "    \"\"\"Start continuous monitoring in a separate thread.\"\"\"\n",
    "    if controller.monitoring_active:\n",
    "        logger.warning(\"Monitoring is already active\")\n",
    "        return False\n",
    "    \n",
    "    # Reset stop event and clear old data\n",
    "    controller.monitoring_stop_event.clear()\n",
    "    controller.monitoring_data.clear()\n",
    "    \n",
    "    # Start monitoring thread\n",
    "    controller.monitoring_thread = threading.Thread(\n",
    "        target=continuous_monitoring_worker,\n",
    "        args=(controller, interval),\n",
    "        daemon=True\n",
    "    )\n",
    "    \n",
    "    controller.monitoring_thread.start()\n",
    "    controller.monitoring_active = True\n",
    "    \n",
    "    logger.success(f\"Continuous monitoring started with {interval}s interval\")\n",
    "    return True\n",
    "\n",
    "def stop_monitoring(controller: PressureController):\n",
    "    \"\"\"Stop continuous monitoring gracefully.\"\"\"\n",
    "    if not controller.monitoring_active:\n",
    "        logger.info(\"Monitoring is not currently active\")\n",
    "        return\n",
    "    \n",
    "    logger.info(\"Stopping continuous monitoring...\")\n",
    "    \n",
    "    # Signal the monitoring thread to stop\n",
    "    controller.monitoring_stop_event.set()\n",
    "    \n",
    "    # Wait for thread to finish (with timeout)\n",
    "    if controller.monitoring_thread and controller.monitoring_thread.is_alive():\n",
    "        controller.monitoring_thread.join(timeout=10.0)\n",
    "        \n",
    "        if controller.monitoring_thread.is_alive():\n",
    "            logger.warning(\"Monitoring thread did not stop gracefully\")\n",
    "        else:\n",
    "            logger.success(\"Monitoring thread stopped successfully\")\n",
    "    \n",
    "    controller.monitoring_active = False\n",
    "    controller.monitoring_thread = None\n",
    "\n",
    "# Add methods to controller class\n",
    "controller.start_monitoring = lambda interval=5.0: start_monitoring(controller, interval)\n",
    "controller.stop_monitoring = lambda: stop_monitoring(controller)\n",
    "\n",
    "print(\"Continuous monitoring system ready\")"
   ],
   "outputs": [
    {
     "name": "stdout",
     "output_type": "stream",
     "text": [
      "Continuous monitoring system ready\n"
     ]
    }
   ],
   "execution_count": 5
  },
  {
   "cell_type": "markdown",
   "id": "6327a06d",
   "metadata": {},
   "source": [
    "## 6. Device Connection Configuration"
   ]
  },
  {
   "cell_type": "code",
   "id": "df09590c",
   "metadata": {
    "ExecuteTime": {
     "end_time": "2025-09-09T12:20:54.181136Z",
     "start_time": "2025-09-09T12:20:54.178218Z"
    }
   },
   "source": [
    "# Configuration for your devices\n",
    "# Modify these values according to your setup\n",
    "\n",
    "# TPG366 pressure controller\n",
    "PRESSURE_COM = 'COM22'  # TPG366 pressure controller COM port\n",
    "PRESSURE_ADDR = 10      # TPG366 standard address is 1\n",
    "\n",
    "print(\"Device configuration loaded:\")\n",
    "print(f\"TPG366 Pressure Controller: {PRESSURE_COM}, Address {PRESSURE_ADDR}\")\n",
    "print(f\"  -> Sensor 1: Channel 1\")"
   ],
   "outputs": [
    {
     "name": "stdout",
     "output_type": "stream",
     "text": [
      "Device configuration loaded:\n",
      "TPG366 Pressure Controller: COM22, Address 10\n",
      "  -> Sensor 1: Channel 1\n"
     ]
    }
   ],
   "execution_count": 6
  },
  {
   "cell_type": "code",
   "id": "5d714da7",
   "metadata": {
    "ExecuteTime": {
     "end_time": "2025-09-09T12:20:56.887993Z",
     "start_time": "2025-09-09T12:20:56.858120Z"
    }
   },
   "source": [
    "# Connect to TPG366 pressure controller\n",
    "pressure_connection = controller.connect_pressure_controller(PRESSURE_COM, PRESSURE_ADDR)\n",
    "\n",
    "if pressure_connection:\n",
    "    print(\"✅ TPG366 pressure controller connected successfully\")\n",
    "    print(\"Sensor accessible via channels 1\")\n",
    "else:\n",
    "    print(\"❌ Failed to connect to TPG366 pressure controller\")"
   ],
   "outputs": [
    {
     "name": "stderr",
     "output_type": "stream",
     "text": [
      "2025-09-09 14:20:56 | INFO | Connecting to TPG366 pressure controller on COM22, address 10\n",
      "2025-09-09 14:20:56 | INFO | Connecting to Pfeiffer device tpg366_pressure on COM22\n",
      "2025-09-09 14:20:56 | INFO | Successfully connected to device at address 10\n",
      "2025-09-09 14:20:56 | SUCCESS | TPG366 pressure controller connected successfully\n"
     ]
    },
    {
     "name": "stdout",
     "output_type": "stream",
     "text": [
      "✅ TPG366 pressure controller connected successfully\n",
      "Sensor accessible via channels 1\n"
     ]
    }
   ],
   "execution_count": 7
  },
  {
   "cell_type": "markdown",
   "id": "49fd3410",
   "metadata": {},
   "source": [
    "## 7. Device Testing and Status"
   ]
  },
  {
   "metadata": {
    "ExecuteTime": {
     "end_time": "2025-09-09T12:21:46.057710Z",
     "start_time": "2025-09-09T12:21:45.999348Z"
    }
   },
   "cell_type": "code",
   "source": "controller.pressure_controller.read_pressure_value(1)",
   "id": "7036eed0b525989c",
   "outputs": [
    {
     "data": {
      "text/plain": [
       "1006.9999999999999"
      ]
     },
     "execution_count": 14,
     "metadata": {},
     "output_type": "execute_result"
    }
   ],
   "execution_count": 14
  },
  {
   "cell_type": "code",
   "id": "96d53b13",
   "metadata": {
    "ExecuteTime": {
     "end_time": "2025-09-09T12:22:05.376213Z",
     "start_time": "2025-09-09T12:22:05.220535Z"
    }
   },
   "source": [
    "# Test TPG366 pressure controller and sensors\n",
    "if controller.pressure_controller:\n",
    "    try:\n",
    "        print(\"Testing TPG366 Pressure Controller:\")\n",
    "        \n",
    "        # Get software version\n",
    "        sw_version = controller.pressure_controller.get_software_version()\n",
    "        print(f\"  Software Version: {sw_version}\")\n",
    "        \n",
    "        # Get device name\n",
    "        device_name = controller.pressure_controller.get_electronics_name()\n",
    "        print(f\"  Device Name: {device_name}\")\n",
    "        \n",
    "        # Test Sensor 1 (Channel 1)\n",
    "        print(\"\\n  Testing Sensor 1 (Channel 1):\")\n",
    "        pressure1 = controller.pressure_controller.read_pressure_value(1)\n",
    "        print(f\"    Pressure: {pressure1}\")\n",
    "        \n",
    "        print(\"\\n  TPG366 pressure controller tests completed successfully ✅\")\n",
    "        \n",
    "    except Exception as e:\n",
    "        logger.error(f\"Error testing TPG366 pressure controller: {e}\")\n",
    "        print(f\"  ❌ Error testing TPG366 pressure controller: {e}\")\n",
    "else:\n",
    "    print(\"TPG366 pressure controller not connected\")"
   ],
   "outputs": [
    {
     "name": "stdout",
     "output_type": "stream",
     "text": [
      "Testing TPG366 Pressure Controller:\n",
      "  Software Version: 010400\n",
      "  Device Name: TPG366\n",
      "\n",
      "  Testing Sensor 1 (Channel 1):\n",
      "    Pressure: 1006.9999999999999\n",
      "\n",
      "  TPG366 pressure controller tests completed successfully ✅\n"
     ]
    }
   ],
   "execution_count": 15
  },
  {
   "cell_type": "markdown",
   "id": "e92299c8",
   "metadata": {},
   "source": [
    "## 9. Monitoring Control Interface"
   ]
  },
  {
   "cell_type": "code",
   "id": "441743be",
   "metadata": {
    "ExecuteTime": {
     "end_time": "2025-09-09T12:38:57.821258Z",
     "start_time": "2025-09-09T12:38:57.807012Z"
    }
   },
   "source": [
    "# Create interactive controls for monitoring\n",
    "start_button = widgets.Button(description=\"Start Monitoring\", button_style='success')\n",
    "stop_button = widgets.Button(description=\"Stop Monitoring\", button_style='danger')\n",
    "interval_slider = widgets.FloatSlider(\n",
    "    value=5.0,\n",
    "    min=0.1,\n",
    "    max=5.0,\n",
    "    step=0.1,\n",
    "    description='Interval (s):',\n",
    "    style={'description_width': 'initial'}\n",
    ")\n",
    "status_output = widgets.Output()\n",
    "\n",
    "def on_start_clicked(b):\n",
    "    with status_output:\n",
    "        clear_output(wait=True)\n",
    "        success = controller.start_monitoring(interval_slider.value)\n",
    "        if success:\n",
    "            print(f\"✅ Monitoring started with {interval_slider.value}s interval\")\n",
    "        else:\n",
    "            print(\"❌ Failed to start monitoring (already running?)\")\n",
    "\n",
    "def on_stop_clicked(b):\n",
    "    with status_output:\n",
    "        clear_output(wait=True)\n",
    "        controller.stop_monitoring()\n",
    "        print(\"🛑 Monitoring stopped\")\n",
    "\n",
    "start_button.on_click(on_start_clicked)\n",
    "stop_button.on_click(on_stop_clicked)\n",
    "\n",
    "# Display controls\n",
    "controls = widgets.VBox([\n",
    "    widgets.Label(\"Monitoring Controls:\"),\n",
    "    interval_slider,\n",
    "    widgets.HBox([start_button, stop_button]),\n",
    "    status_output\n",
    "])\n",
    "\n",
    "display(controls)"
   ],
   "outputs": [
    {
     "data": {
      "text/plain": [
       "VBox(children=(Label(value='Monitoring Controls:'), FloatSlider(value=5.0, description='Interval (s):', max=5.…"
      ],
      "application/vnd.jupyter.widget-view+json": {
       "version_major": 2,
       "version_minor": 0,
       "model_id": "6ab6472c48454ae8996f192ed1553ed0"
      }
     },
     "metadata": {},
     "output_type": "display_data"
    }
   ],
   "execution_count": 30
  },
  {
   "metadata": {
    "ExecuteTime": {
     "end_time": "2025-09-09T12:37:50.614401Z",
     "start_time": "2025-09-09T12:37:50.610492Z"
    }
   },
   "cell_type": "code",
   "source": "%matplotlib inline",
   "id": "ff3c4a473e4fd20b",
   "outputs": [],
   "execution_count": 28
  },
  {
   "cell_type": "markdown",
   "id": "28857bf0",
   "metadata": {},
   "source": [
    "## 10. Data Visualization"
   ]
  },
  {
   "cell_type": "markdown",
   "id": "2a01635f",
   "metadata": {},
   "source": [
    "### 10.1 Static Plotting"
   ]
  },
  {
   "cell_type": "code",
   "id": "45a9c273",
   "metadata": {
    "ExecuteTime": {
     "end_time": "2025-09-09T12:25:32.783176Z",
     "start_time": "2025-09-09T12:25:32.776266Z"
    }
   },
   "source": [
    "def plot_monitoring_data():\n",
    "    \"\"\"Plot the collected monitoring data\"\"\"\n",
    "    if not controller.monitoring_data:\n",
    "        print(\"No monitoring data available. Start monitoring first.\")\n",
    "        return\n",
    "    \n",
    "    # Convert data to lists for easier plotting\n",
    "    timestamps = []\n",
    "    sensor1_pressure = []\n",
    "\n",
    "    for cycle in controller.monitoring_data:\n",
    "        timestamps.append(cycle['cycle_timestamp'])\n",
    "        \n",
    "\n",
    "        # Extract pressure data\n",
    "        sensor1_pressure.append(cycle['sensor1_data']['pressure_value'] if cycle['sensor1_data'] and cycle['sensor1_data'].get('pressure_value') else None)\n",
    "\n",
    "    # Create subplots\n",
    "    fig, ax1 = plt.subplots(figsize=(16, 10))\n",
    "    \n",
    "\n",
    "    # Plot pressure (with logarithmic scale for vacuum)\n",
    "    ax1.plot(timestamps, sensor1_pressure, 'b-', label='Sensor 1 Pressure', marker='^')\n",
    "    ax1.set_yscale('log')\n",
    "    ax1.set_ylabel('Pressure (log scale)')\n",
    "    ax1.set_title('Pressure Over Time')\n",
    "    ax1.legend()\n",
    "    ax1.grid(True)\n",
    "    \n",
    "\n",
    "    # Rotate x-axis label for better readability\n",
    "    ax1.tick_params(axis='x', rotation=45)\n",
    "    \n",
    "    plt.tight_layout()\n",
    "    plt.show()\n",
    "    \n",
    "    # Print statistics\n",
    "    print(f\"Plotted {len(controller.monitoring_data)} data points\")\n",
    "    valid_p1 = [p for p in sensor1_pressure if p is not None]\n",
    "\n",
    "    if valid_p1:\n",
    "        print(f\"Sensor 1 pressure range: {min(valid_p1):.2e} to {max(valid_p1):.2e}\")\n",
    "\n",
    "def get_monitoring_summary():\n",
    "    \"\"\"Get a summary of current monitoring status\"\"\"\n",
    "    print(f\"Monitoring Status: {'🟢 Active' if controller.monitoring_active else '🔴 Inactive'}\")\n",
    "    print(f\"Data Points Collected: {len(controller.monitoring_data)}\")\n",
    "    print(f\"TPG366 Controller Connected: {'✅' if controller.pressure_controller else '❌'}\")\n",
    "    \n",
    "    if controller.monitoring_data:\n",
    "        latest = controller.monitoring_data[-1]\n",
    "        print(f\"\\nLatest Data Point: {latest['cycle_timestamp']}\")\n",
    "        \n",
    "        # Show latest pressure readings\n",
    "        if latest['sensor1_data']:\n",
    "            p1 = latest['sensor1_data'].get('pressure_value')\n",
    "            print(f\"  Sensor 1 Pressure: {p1}\")\n",
    "\n",
    "print(\"Data visualization functions ready\")"
   ],
   "outputs": [
    {
     "name": "stdout",
     "output_type": "stream",
     "text": [
      "Data visualization functions ready\n"
     ]
    }
   ],
   "execution_count": 17
  },
  {
   "cell_type": "code",
   "id": "943e53ef",
   "metadata": {},
   "source": [
    "# Plot monitoring data (run this cell periodically to see updated plots)\n",
    "plot_monitoring_data()"
   ],
   "outputs": [],
   "execution_count": null
  },
  {
   "cell_type": "code",
   "id": "f52d9365",
   "metadata": {},
   "source": [
    "# Get current monitoring summary\n",
    "get_monitoring_summary()"
   ],
   "outputs": [],
   "execution_count": null
  },
  {
   "cell_type": "markdown",
   "id": "cd268f41",
   "metadata": {},
   "source": [
    "### 10.2 Live Plotting (Same as original - no changes to logic)"
   ]
  },
  {
   "cell_type": "code",
   "id": "9171a399",
   "metadata": {
    "ExecuteTime": {
     "end_time": "2025-09-09T12:39:47.726548Z",
     "start_time": "2025-09-09T12:39:47.716250Z"
    }
   },
   "source": [
    "import matplotlib.pyplot as plt\n",
    "from matplotlib.animation import FuncAnimation\n",
    "import numpy as np\n",
    "\n",
    "class PumpLockerPlotter:\n",
    "    def __init__(self, controller, update_interval=1000):\n",
    "        \"\"\"\n",
    "        Initialize live monitoring plot\n",
    "        Args:\n",
    "            controller: The controller object with monitoring_data\n",
    "            update_interval: Update interval in milliseconds (default: 1000ms = 1 second)\n",
    "        \"\"\"\n",
    "        self.controller = controller\n",
    "        self.update_interval = update_interval\n",
    "\n",
    "        # Initialize data lists\n",
    "        self.timestamps = []\n",
    "        self.sensor1_pressure = []\n",
    "\n",
    "        # Create figure and subplots\n",
    "        self.fig, self.ax2 = plt.subplots(figsize=(10, 6))\n",
    "\n",
    "        self.temp_log = []\n",
    "        self.log_file_size = 0\n",
    "\n",
    "        # Animation object\n",
    "        #self.animation = None\n",
    "\n",
    "    def update_plot(self, frame):\n",
    "        # Get new data\n",
    "        current_size = len(self.controller.monitoring_data)\n",
    "        if current_size > self.log_file_size:\n",
    "            new_entries = self.controller.monitoring_data[self.log_file_size:]\n",
    "            self.temp_log.extend(new_entries)\n",
    "            self.log_file_size = current_size\n",
    "\n",
    "        # Process new entries\n",
    "        for entry in self.temp_log:\n",
    "            self.timestamps.append(entry['cycle_timestamp'])\n",
    "            \n",
    "            # Extract pump data\n",
    "            self.sensor1_pressure.append(entry['sensor1_data']['pressure_value'] if entry['sensor1_data'] else None)\n",
    "\n",
    "        # Clear temp_log after processing to avoid reprocessing\n",
    "        self.temp_log = []\n",
    "\n",
    "        # Clear only the axes, not the entire figure\n",
    "        self.ax2.clear()\n",
    "\n",
    "        # Filter out None values for plotting\n",
    "        valid_data2 = [(t, s1) for t, s1 in zip(self.timestamps, self.sensor1_pressure)\n",
    "                      if s1 is not None]\n",
    "\n",
    "\n",
    "        # Plot pressure data (ax2)\n",
    "        if valid_data2:\n",
    "            times2, sensor1_vals = zip(*valid_data2)\n",
    "\n",
    "            # Plot sensor1 data (filter None values) - BLUE with circle marker (matches pump1)\n",
    "            sensor1_valid = [(t, s) for t, s in zip(times2, sensor1_vals) if s is not None]\n",
    "            if sensor1_valid:\n",
    "                t1, s1 = zip(*sensor1_valid)\n",
    "                if len(t1) > 120:\n",
    "                    self.ax2.plot(t1[-119:], s1[-119:], 'b-', label='Sensor 1 Pressure', marker='o')\n",
    "                else:\n",
    "                    self.ax2.plot(t1, s1, 'b-', label='Sensor 1 Pressure', marker='o')\n",
    "\n",
    "\n",
    "        # Use logarithmic scale for pressure if values are very small (typical for vacuum)\n",
    "        self.ax2.set_yscale('log')\n",
    "        self.ax2.set_ylabel('Pressure (log scale)')\n",
    "        self.ax2.set_title('Pressure Over Time')\n",
    "        self.ax2.legend()\n",
    "        self.ax2.grid(True)\n",
    "\n",
    "\n",
    "        # Rotate x-axis labels for better readability\n",
    "        self.ax2.tick_params(axis='x', rotation=45)\n",
    "\n",
    "        # Adjust layout\n",
    "        self.fig.tight_layout()\n",
    "\n",
    "    def start_live_plot(self):\n",
    "        \"\"\"Start the live plotting\"\"\"\n",
    "        if not self.controller.monitoring_data:\n",
    "            print(\"No monitoring data available. Start monitoring first.\")\n",
    "            return None, None\n",
    "\n",
    "        print(f\"Starting live plot with {self.update_interval/1000}s update interval...\")\n",
    "        print(\"Close the plot window to stop live plotting.\")\n",
    "\n",
    "        # Create animation\n",
    "        self.ani = FuncAnimation(\n",
    "            self.fig,\n",
    "            self.update_plot,\n",
    "            interval=self.update_interval,\n",
    "            blit=False,  # Set to False for easier debugging\n",
    "            cache_frame_data=False\n",
    "        )\n",
    "\n",
    "        # Show the plot\n",
    "        plt.show()\n",
    "\n",
    "        return self.timestamps, self.controller.monitoring_data\n",
    "\n",
    "    def stop_live_plot(self):\n",
    "        \"\"\"Stop the live plotting\"\"\"\n",
    "        if hasattr(self, 'ani'):\n",
    "            self.ani.event_source.stop()\n",
    "            print(\"Live plotting stopped.\")\n",
    "        else:\n",
    "            print(\"No animation to stop.\")\n",
    "\n",
    "print(\"Live plotting class ready\")"
   ],
   "outputs": [
    {
     "name": "stdout",
     "output_type": "stream",
     "text": [
      "Live plotting class ready\n"
     ]
    }
   ],
   "execution_count": 31
  },
  {
   "cell_type": "code",
   "id": "d6f6fe89",
   "metadata": {
    "ExecuteTime": {
     "end_time": "2025-09-09T12:39:48.905471Z",
     "start_time": "2025-09-09T12:39:48.902393Z"
    }
   },
   "source": [
    "%matplotlib notebook"
   ],
   "outputs": [],
   "execution_count": 32
  },
  {
   "cell_type": "code",
   "id": "6a0ef5d2",
   "metadata": {
    "ExecuteTime": {
     "end_time": "2025-09-09T12:39:49.813409Z",
     "start_time": "2025-09-09T12:39:49.799525Z"
    }
   },
   "source": [
    "# Start live plotting\n",
    "live_plot = PumpLockerPlotter(controller)\n",
    "timestamps, data = live_plot.start_live_plot()"
   ],
   "outputs": [
    {
     "data": {
      "text/plain": [
       "<IPython.core.display.Javascript object>"
      ],
      "application/javascript": "/* Put everything inside the global mpl namespace */\n/* global mpl */\nwindow.mpl = {};\n\nmpl.get_websocket_type = function () {\n    if (typeof WebSocket !== 'undefined') {\n        return WebSocket;\n    } else if (typeof MozWebSocket !== 'undefined') {\n        return MozWebSocket;\n    } else {\n        alert(\n            'Your browser does not have WebSocket support. ' +\n                'Please try Chrome, Safari or Firefox ≥ 6. ' +\n                'Firefox 4 and 5 are also supported but you ' +\n                'have to enable WebSockets in about:config.'\n        );\n    }\n};\n\nmpl.figure = function (figure_id, websocket, ondownload, parent_element) {\n    this.id = figure_id;\n\n    this.ws = websocket;\n\n    this.supports_binary = this.ws.binaryType !== undefined;\n\n    if (!this.supports_binary) {\n        var warnings = document.getElementById('mpl-warnings');\n        if (warnings) {\n            warnings.style.display = 'block';\n            warnings.textContent =\n                'This browser does not support binary websocket messages. ' +\n                'Performance may be slow.';\n        }\n    }\n\n    this.imageObj = new Image();\n\n    this.context = undefined;\n    this.message = undefined;\n    this.canvas = undefined;\n    this.rubberband_canvas = undefined;\n    this.rubberband_context = undefined;\n    this.format_dropdown = undefined;\n\n    this.image_mode = 'full';\n\n    this.root = document.createElement('div');\n    this.root.setAttribute('style', 'display: inline-block');\n    this._root_extra_style(this.root);\n\n    parent_element.appendChild(this.root);\n\n    this._init_header(this);\n    this._init_canvas(this);\n    this._init_toolbar(this);\n\n    var fig = this;\n\n    this.waiting = false;\n\n    this.ws.onopen = function () {\n        fig.send_message('supports_binary', { value: fig.supports_binary });\n        fig.send_message('send_image_mode', {});\n        if (fig.ratio !== 1) {\n            fig.send_message('set_device_pixel_ratio', {\n                device_pixel_ratio: fig.ratio,\n            });\n        }\n        fig.send_message('refresh', {});\n    };\n\n    this.imageObj.onload = function () {\n        if (fig.image_mode === 'full') {\n            // Full images could contain transparency (where diff images\n            // almost always do), so we need to clear the canvas so that\n            // there is no ghosting.\n            fig.context.clearRect(0, 0, fig.canvas.width, fig.canvas.height);\n        }\n        fig.context.drawImage(fig.imageObj, 0, 0);\n    };\n\n    this.imageObj.onunload = function () {\n        fig.ws.close();\n    };\n\n    this.ws.onmessage = this._make_on_message_function(this);\n\n    this.ondownload = ondownload;\n};\n\nmpl.figure.prototype._init_header = function () {\n    var titlebar = document.createElement('div');\n    titlebar.classList =\n        'ui-dialog-titlebar ui-widget-header ui-corner-all ui-helper-clearfix';\n    var titletext = document.createElement('div');\n    titletext.classList = 'ui-dialog-title';\n    titletext.setAttribute(\n        'style',\n        'width: 100%; text-align: center; padding: 3px;'\n    );\n    titlebar.appendChild(titletext);\n    this.root.appendChild(titlebar);\n    this.header = titletext;\n};\n\nmpl.figure.prototype._canvas_extra_style = function (_canvas_div) {};\n\nmpl.figure.prototype._root_extra_style = function (_canvas_div) {};\n\nmpl.figure.prototype._init_canvas = function () {\n    var fig = this;\n\n    var canvas_div = (this.canvas_div = document.createElement('div'));\n    canvas_div.setAttribute('tabindex', '0');\n    canvas_div.setAttribute(\n        'style',\n        'border: 1px solid #ddd;' +\n            'box-sizing: content-box;' +\n            'clear: both;' +\n            'min-height: 1px;' +\n            'min-width: 1px;' +\n            'outline: 0;' +\n            'overflow: hidden;' +\n            'position: relative;' +\n            'resize: both;' +\n            'z-index: 2;'\n    );\n\n    function on_keyboard_event_closure(name) {\n        return function (event) {\n            return fig.key_event(event, name);\n        };\n    }\n\n    canvas_div.addEventListener(\n        'keydown',\n        on_keyboard_event_closure('key_press')\n    );\n    canvas_div.addEventListener(\n        'keyup',\n        on_keyboard_event_closure('key_release')\n    );\n\n    this._canvas_extra_style(canvas_div);\n    this.root.appendChild(canvas_div);\n\n    var canvas = (this.canvas = document.createElement('canvas'));\n    canvas.classList.add('mpl-canvas');\n    canvas.setAttribute(\n        'style',\n        'box-sizing: content-box;' +\n            'pointer-events: none;' +\n            'position: relative;' +\n            'z-index: 0;'\n    );\n\n    this.context = canvas.getContext('2d');\n\n    var backingStore =\n        this.context.backingStorePixelRatio ||\n        this.context.webkitBackingStorePixelRatio ||\n        this.context.mozBackingStorePixelRatio ||\n        this.context.msBackingStorePixelRatio ||\n        this.context.oBackingStorePixelRatio ||\n        this.context.backingStorePixelRatio ||\n        1;\n\n    this.ratio = (window.devicePixelRatio || 1) / backingStore;\n\n    var rubberband_canvas = (this.rubberband_canvas = document.createElement(\n        'canvas'\n    ));\n    rubberband_canvas.setAttribute(\n        'style',\n        'box-sizing: content-box;' +\n            'left: 0;' +\n            'pointer-events: none;' +\n            'position: absolute;' +\n            'top: 0;' +\n            'z-index: 1;'\n    );\n\n    // Apply a ponyfill if ResizeObserver is not implemented by browser.\n    if (this.ResizeObserver === undefined) {\n        if (window.ResizeObserver !== undefined) {\n            this.ResizeObserver = window.ResizeObserver;\n        } else {\n            var obs = _JSXTOOLS_RESIZE_OBSERVER({});\n            this.ResizeObserver = obs.ResizeObserver;\n        }\n    }\n\n    this.resizeObserverInstance = new this.ResizeObserver(function (entries) {\n        // There's no need to resize if the WebSocket is not connected:\n        // - If it is still connecting, then we will get an initial resize from\n        //   Python once it connects.\n        // - If it has disconnected, then resizing will clear the canvas and\n        //   never get anything back to refill it, so better to not resize and\n        //   keep something visible.\n        if (fig.ws.readyState != 1) {\n            return;\n        }\n        var nentries = entries.length;\n        for (var i = 0; i < nentries; i++) {\n            var entry = entries[i];\n            var width, height;\n            if (entry.contentBoxSize) {\n                if (entry.contentBoxSize instanceof Array) {\n                    // Chrome 84 implements new version of spec.\n                    width = entry.contentBoxSize[0].inlineSize;\n                    height = entry.contentBoxSize[0].blockSize;\n                } else {\n                    // Firefox implements old version of spec.\n                    width = entry.contentBoxSize.inlineSize;\n                    height = entry.contentBoxSize.blockSize;\n                }\n            } else {\n                // Chrome <84 implements even older version of spec.\n                width = entry.contentRect.width;\n                height = entry.contentRect.height;\n            }\n\n            // Keep the size of the canvas and rubber band canvas in sync with\n            // the canvas container.\n            if (entry.devicePixelContentBoxSize) {\n                // Chrome 84 implements new version of spec.\n                canvas.setAttribute(\n                    'width',\n                    entry.devicePixelContentBoxSize[0].inlineSize\n                );\n                canvas.setAttribute(\n                    'height',\n                    entry.devicePixelContentBoxSize[0].blockSize\n                );\n            } else {\n                canvas.setAttribute('width', width * fig.ratio);\n                canvas.setAttribute('height', height * fig.ratio);\n            }\n            /* This rescales the canvas back to display pixels, so that it\n             * appears correct on HiDPI screens. */\n            canvas.style.width = width + 'px';\n            canvas.style.height = height + 'px';\n\n            rubberband_canvas.setAttribute('width', width);\n            rubberband_canvas.setAttribute('height', height);\n\n            // And update the size in Python. We ignore the initial 0/0 size\n            // that occurs as the element is placed into the DOM, which should\n            // otherwise not happen due to the minimum size styling.\n            if (width != 0 && height != 0) {\n                fig.request_resize(width, height);\n            }\n        }\n    });\n    this.resizeObserverInstance.observe(canvas_div);\n\n    function on_mouse_event_closure(name) {\n        /* User Agent sniffing is bad, but WebKit is busted:\n         * https://bugs.webkit.org/show_bug.cgi?id=144526\n         * https://bugs.webkit.org/show_bug.cgi?id=181818\n         * The worst that happens here is that they get an extra browser\n         * selection when dragging, if this check fails to catch them.\n         */\n        var UA = navigator.userAgent;\n        var isWebKit = /AppleWebKit/.test(UA) && !/Chrome/.test(UA);\n        if(isWebKit) {\n            return function (event) {\n                /* This prevents the web browser from automatically changing to\n                 * the text insertion cursor when the button is pressed. We\n                 * want to control all of the cursor setting manually through\n                 * the 'cursor' event from matplotlib */\n                event.preventDefault()\n                return fig.mouse_event(event, name);\n            };\n        } else {\n            return function (event) {\n                return fig.mouse_event(event, name);\n            };\n        }\n    }\n\n    canvas_div.addEventListener(\n        'mousedown',\n        on_mouse_event_closure('button_press')\n    );\n    canvas_div.addEventListener(\n        'mouseup',\n        on_mouse_event_closure('button_release')\n    );\n    canvas_div.addEventListener(\n        'dblclick',\n        on_mouse_event_closure('dblclick')\n    );\n    // Throttle sequential mouse events to 1 every 20ms.\n    canvas_div.addEventListener(\n        'mousemove',\n        on_mouse_event_closure('motion_notify')\n    );\n\n    canvas_div.addEventListener(\n        'mouseenter',\n        on_mouse_event_closure('figure_enter')\n    );\n    canvas_div.addEventListener(\n        'mouseleave',\n        on_mouse_event_closure('figure_leave')\n    );\n\n    canvas_div.addEventListener('wheel', function (event) {\n        if (event.deltaY < 0) {\n            event.step = 1;\n        } else {\n            event.step = -1;\n        }\n        on_mouse_event_closure('scroll')(event);\n    });\n\n    canvas_div.appendChild(canvas);\n    canvas_div.appendChild(rubberband_canvas);\n\n    this.rubberband_context = rubberband_canvas.getContext('2d');\n    this.rubberband_context.strokeStyle = '#000000';\n\n    this._resize_canvas = function (width, height, forward) {\n        if (forward) {\n            canvas_div.style.width = width + 'px';\n            canvas_div.style.height = height + 'px';\n        }\n    };\n\n    // Disable right mouse context menu.\n    canvas_div.addEventListener('contextmenu', function (_e) {\n        event.preventDefault();\n        return false;\n    });\n\n    function set_focus() {\n        canvas.focus();\n        canvas_div.focus();\n    }\n\n    window.setTimeout(set_focus, 100);\n};\n\nmpl.figure.prototype._init_toolbar = function () {\n    var fig = this;\n\n    var toolbar = document.createElement('div');\n    toolbar.classList = 'mpl-toolbar';\n    this.root.appendChild(toolbar);\n\n    function on_click_closure(name) {\n        return function (_event) {\n            return fig.toolbar_button_onclick(name);\n        };\n    }\n\n    function on_mouseover_closure(tooltip) {\n        return function (event) {\n            if (!event.currentTarget.disabled) {\n                return fig.toolbar_button_onmouseover(tooltip);\n            }\n        };\n    }\n\n    fig.buttons = {};\n    var buttonGroup = document.createElement('div');\n    buttonGroup.classList = 'mpl-button-group';\n    for (var toolbar_ind in mpl.toolbar_items) {\n        var name = mpl.toolbar_items[toolbar_ind][0];\n        var tooltip = mpl.toolbar_items[toolbar_ind][1];\n        var image = mpl.toolbar_items[toolbar_ind][2];\n        var method_name = mpl.toolbar_items[toolbar_ind][3];\n\n        if (!name) {\n            /* Instead of a spacer, we start a new button group. */\n            if (buttonGroup.hasChildNodes()) {\n                toolbar.appendChild(buttonGroup);\n            }\n            buttonGroup = document.createElement('div');\n            buttonGroup.classList = 'mpl-button-group';\n            continue;\n        }\n\n        var button = (fig.buttons[name] = document.createElement('button'));\n        button.classList = 'mpl-widget';\n        button.setAttribute('role', 'button');\n        button.setAttribute('aria-disabled', 'false');\n        button.addEventListener('click', on_click_closure(method_name));\n        button.addEventListener('mouseover', on_mouseover_closure(tooltip));\n\n        var icon_img = document.createElement('img');\n        icon_img.src = '_images/' + image + '.png';\n        icon_img.srcset = '_images/' + image + '_large.png 2x';\n        icon_img.alt = tooltip;\n        button.appendChild(icon_img);\n\n        buttonGroup.appendChild(button);\n    }\n\n    if (buttonGroup.hasChildNodes()) {\n        toolbar.appendChild(buttonGroup);\n    }\n\n    var fmt_picker = document.createElement('select');\n    fmt_picker.classList = 'mpl-widget';\n    toolbar.appendChild(fmt_picker);\n    this.format_dropdown = fmt_picker;\n\n    for (var ind in mpl.extensions) {\n        var fmt = mpl.extensions[ind];\n        var option = document.createElement('option');\n        option.selected = fmt === mpl.default_extension;\n        option.innerHTML = fmt;\n        fmt_picker.appendChild(option);\n    }\n\n    var status_bar = document.createElement('span');\n    status_bar.classList = 'mpl-message';\n    toolbar.appendChild(status_bar);\n    this.message = status_bar;\n};\n\nmpl.figure.prototype.request_resize = function (x_pixels, y_pixels) {\n    // Request matplotlib to resize the figure. Matplotlib will then trigger a resize in the client,\n    // which will in turn request a refresh of the image.\n    this.send_message('resize', { width: x_pixels, height: y_pixels });\n};\n\nmpl.figure.prototype.send_message = function (type, properties) {\n    properties['type'] = type;\n    properties['figure_id'] = this.id;\n    this.ws.send(JSON.stringify(properties));\n};\n\nmpl.figure.prototype.send_draw_message = function () {\n    if (!this.waiting) {\n        this.waiting = true;\n        this.ws.send(JSON.stringify({ type: 'draw', figure_id: this.id }));\n    }\n};\n\nmpl.figure.prototype.handle_save = function (fig, _msg) {\n    var format_dropdown = fig.format_dropdown;\n    var format = format_dropdown.options[format_dropdown.selectedIndex].value;\n    fig.ondownload(fig, format);\n};\n\nmpl.figure.prototype.handle_resize = function (fig, msg) {\n    var size = msg['size'];\n    if (size[0] !== fig.canvas.width || size[1] !== fig.canvas.height) {\n        fig._resize_canvas(size[0], size[1], msg['forward']);\n        fig.send_message('refresh', {});\n    }\n};\n\nmpl.figure.prototype.handle_rubberband = function (fig, msg) {\n    var x0 = msg['x0'] / fig.ratio;\n    var y0 = (fig.canvas.height - msg['y0']) / fig.ratio;\n    var x1 = msg['x1'] / fig.ratio;\n    var y1 = (fig.canvas.height - msg['y1']) / fig.ratio;\n    x0 = Math.floor(x0) + 0.5;\n    y0 = Math.floor(y0) + 0.5;\n    x1 = Math.floor(x1) + 0.5;\n    y1 = Math.floor(y1) + 0.5;\n    var min_x = Math.min(x0, x1);\n    var min_y = Math.min(y0, y1);\n    var width = Math.abs(x1 - x0);\n    var height = Math.abs(y1 - y0);\n\n    fig.rubberband_context.clearRect(\n        0,\n        0,\n        fig.canvas.width / fig.ratio,\n        fig.canvas.height / fig.ratio\n    );\n\n    fig.rubberband_context.strokeRect(min_x, min_y, width, height);\n};\n\nmpl.figure.prototype.handle_figure_label = function (fig, msg) {\n    // Updates the figure title.\n    fig.header.textContent = msg['label'];\n};\n\nmpl.figure.prototype.handle_cursor = function (fig, msg) {\n    fig.canvas_div.style.cursor = msg['cursor'];\n};\n\nmpl.figure.prototype.handle_message = function (fig, msg) {\n    fig.message.textContent = msg['message'];\n};\n\nmpl.figure.prototype.handle_draw = function (fig, _msg) {\n    // Request the server to send over a new figure.\n    fig.send_draw_message();\n};\n\nmpl.figure.prototype.handle_image_mode = function (fig, msg) {\n    fig.image_mode = msg['mode'];\n};\n\nmpl.figure.prototype.handle_history_buttons = function (fig, msg) {\n    for (var key in msg) {\n        if (!(key in fig.buttons)) {\n            continue;\n        }\n        fig.buttons[key].disabled = !msg[key];\n        fig.buttons[key].setAttribute('aria-disabled', !msg[key]);\n    }\n};\n\nmpl.figure.prototype.handle_navigate_mode = function (fig, msg) {\n    if (msg['mode'] === 'PAN') {\n        fig.buttons['Pan'].classList.add('active');\n        fig.buttons['Zoom'].classList.remove('active');\n    } else if (msg['mode'] === 'ZOOM') {\n        fig.buttons['Pan'].classList.remove('active');\n        fig.buttons['Zoom'].classList.add('active');\n    } else {\n        fig.buttons['Pan'].classList.remove('active');\n        fig.buttons['Zoom'].classList.remove('active');\n    }\n};\n\nmpl.figure.prototype.updated_canvas_event = function () {\n    // Called whenever the canvas gets updated.\n    this.send_message('ack', {});\n};\n\n// A function to construct a web socket function for onmessage handling.\n// Called in the figure constructor.\nmpl.figure.prototype._make_on_message_function = function (fig) {\n    return function socket_on_message(evt) {\n        if (evt.data instanceof Blob) {\n            var img = evt.data;\n            if (img.type !== 'image/png') {\n                /* FIXME: We get \"Resource interpreted as Image but\n                 * transferred with MIME type text/plain:\" errors on\n                 * Chrome.  But how to set the MIME type?  It doesn't seem\n                 * to be part of the websocket stream */\n                img.type = 'image/png';\n            }\n\n            /* Free the memory for the previous frames */\n            if (fig.imageObj.src) {\n                (window.URL || window.webkitURL).revokeObjectURL(\n                    fig.imageObj.src\n                );\n            }\n\n            fig.imageObj.src = (window.URL || window.webkitURL).createObjectURL(\n                img\n            );\n            fig.updated_canvas_event();\n            fig.waiting = false;\n            return;\n        } else if (\n            typeof evt.data === 'string' &&\n            evt.data.slice(0, 21) === 'data:image/png;base64'\n        ) {\n            fig.imageObj.src = evt.data;\n            fig.updated_canvas_event();\n            fig.waiting = false;\n            return;\n        }\n\n        var msg = JSON.parse(evt.data);\n        var msg_type = msg['type'];\n\n        // Call the  \"handle_{type}\" callback, which takes\n        // the figure and JSON message as its only arguments.\n        try {\n            var callback = fig['handle_' + msg_type];\n        } catch (e) {\n            console.log(\n                \"No handler for the '\" + msg_type + \"' message type: \",\n                msg\n            );\n            return;\n        }\n\n        if (callback) {\n            try {\n                // console.log(\"Handling '\" + msg_type + \"' message: \", msg);\n                callback(fig, msg);\n            } catch (e) {\n                console.log(\n                    \"Exception inside the 'handler_\" + msg_type + \"' callback:\",\n                    e,\n                    e.stack,\n                    msg\n                );\n            }\n        }\n    };\n};\n\nfunction getModifiers(event) {\n    var mods = [];\n    if (event.ctrlKey) {\n        mods.push('ctrl');\n    }\n    if (event.altKey) {\n        mods.push('alt');\n    }\n    if (event.shiftKey) {\n        mods.push('shift');\n    }\n    if (event.metaKey) {\n        mods.push('meta');\n    }\n    return mods;\n}\n\n/*\n * return a copy of an object with only non-object keys\n * we need this to avoid circular references\n * https://stackoverflow.com/a/24161582/3208463\n */\nfunction simpleKeys(original) {\n    return Object.keys(original).reduce(function (obj, key) {\n        if (typeof original[key] !== 'object') {\n            obj[key] = original[key];\n        }\n        return obj;\n    }, {});\n}\n\nmpl.figure.prototype.mouse_event = function (event, name) {\n    if (name === 'button_press') {\n        this.canvas.focus();\n        this.canvas_div.focus();\n    }\n\n    // from https://stackoverflow.com/q/1114465\n    var boundingRect = this.canvas.getBoundingClientRect();\n    var x = (event.clientX - boundingRect.left) * this.ratio;\n    var y = (event.clientY - boundingRect.top) * this.ratio;\n\n    this.send_message(name, {\n        x: x,\n        y: y,\n        button: event.button,\n        step: event.step,\n        buttons: event.buttons,\n        modifiers: getModifiers(event),\n        guiEvent: simpleKeys(event),\n    });\n\n    return false;\n};\n\nmpl.figure.prototype._key_event_extra = function (_event, _name) {\n    // Handle any extra behaviour associated with a key event\n};\n\nmpl.figure.prototype.key_event = function (event, name) {\n    // Prevent repeat events\n    if (name === 'key_press') {\n        if (event.key === this._key) {\n            return;\n        } else {\n            this._key = event.key;\n        }\n    }\n    if (name === 'key_release') {\n        this._key = null;\n    }\n\n    var value = '';\n    if (event.ctrlKey && event.key !== 'Control') {\n        value += 'ctrl+';\n    }\n    else if (event.altKey && event.key !== 'Alt') {\n        value += 'alt+';\n    }\n    else if (event.shiftKey && event.key !== 'Shift') {\n        value += 'shift+';\n    }\n\n    value += 'k' + event.key;\n\n    this._key_event_extra(event, name);\n\n    this.send_message(name, { key: value, guiEvent: simpleKeys(event) });\n    return false;\n};\n\nmpl.figure.prototype.toolbar_button_onclick = function (name) {\n    if (name === 'download') {\n        this.handle_save(this, null);\n    } else {\n        this.send_message('toolbar_button', { name: name });\n    }\n};\n\nmpl.figure.prototype.toolbar_button_onmouseover = function (tooltip) {\n    this.message.textContent = tooltip;\n};\n\n///////////////// REMAINING CONTENT GENERATED BY embed_js.py /////////////////\n// prettier-ignore\nvar _JSXTOOLS_RESIZE_OBSERVER=function(A){var t,i=new WeakMap,n=new WeakMap,a=new WeakMap,r=new WeakMap,o=new Set;function s(e){if(!(this instanceof s))throw new TypeError(\"Constructor requires 'new' operator\");i.set(this,e)}function h(){throw new TypeError(\"Function is not a constructor\")}function c(e,t,i,n){e=0 in arguments?Number(arguments[0]):0,t=1 in arguments?Number(arguments[1]):0,i=2 in arguments?Number(arguments[2]):0,n=3 in arguments?Number(arguments[3]):0,this.right=(this.x=this.left=e)+(this.width=i),this.bottom=(this.y=this.top=t)+(this.height=n),Object.freeze(this)}function d(){t=requestAnimationFrame(d);var s=new WeakMap,p=new Set;o.forEach((function(t){r.get(t).forEach((function(i){var r=t instanceof window.SVGElement,o=a.get(t),d=r?0:parseFloat(o.paddingTop),f=r?0:parseFloat(o.paddingRight),l=r?0:parseFloat(o.paddingBottom),u=r?0:parseFloat(o.paddingLeft),g=r?0:parseFloat(o.borderTopWidth),m=r?0:parseFloat(o.borderRightWidth),w=r?0:parseFloat(o.borderBottomWidth),b=u+f,F=d+l,v=(r?0:parseFloat(o.borderLeftWidth))+m,W=g+w,y=r?0:t.offsetHeight-W-t.clientHeight,E=r?0:t.offsetWidth-v-t.clientWidth,R=b+v,z=F+W,M=r?t.width:parseFloat(o.width)-R-E,O=r?t.height:parseFloat(o.height)-z-y;if(n.has(t)){var k=n.get(t);if(k[0]===M&&k[1]===O)return}n.set(t,[M,O]);var S=Object.create(h.prototype);S.target=t,S.contentRect=new c(u,d,M,O),s.has(i)||(s.set(i,[]),p.add(i)),s.get(i).push(S)}))})),p.forEach((function(e){i.get(e).call(e,s.get(e),e)}))}return s.prototype.observe=function(i){if(i instanceof window.Element){r.has(i)||(r.set(i,new Set),o.add(i),a.set(i,window.getComputedStyle(i)));var n=r.get(i);n.has(this)||n.add(this),cancelAnimationFrame(t),t=requestAnimationFrame(d)}},s.prototype.unobserve=function(i){if(i instanceof window.Element&&r.has(i)){var n=r.get(i);n.has(this)&&(n.delete(this),n.size||(r.delete(i),o.delete(i))),n.size||r.delete(i),o.size||cancelAnimationFrame(t)}},A.DOMRectReadOnly=c,A.ResizeObserver=s,A.ResizeObserverEntry=h,A}; // eslint-disable-line\nmpl.toolbar_items = [[\"Home\", \"Reset original view\", \"fa fa-home\", \"home\"], [\"Back\", \"Back to previous view\", \"fa fa-arrow-left\", \"back\"], [\"Forward\", \"Forward to next view\", \"fa fa-arrow-right\", \"forward\"], [\"\", \"\", \"\", \"\"], [\"Pan\", \"Left button pans, Right button zooms\\nx/y fixes axis, CTRL fixes aspect\", \"fa fa-arrows\", \"pan\"], [\"Zoom\", \"Zoom to rectangle\\nx/y fixes axis\", \"fa fa-square-o\", \"zoom\"], [\"\", \"\", \"\", \"\"], [\"Download\", \"Download plot\", \"fa fa-floppy-o\", \"download\"]];\n\nmpl.extensions = [\"eps\", \"jpeg\", \"pgf\", \"pdf\", \"png\", \"ps\", \"raw\", \"svg\", \"tif\", \"webp\"];\n\nmpl.default_extension = \"png\";/* global mpl */\n\nvar comm_websocket_adapter = function (comm) {\n    // Create a \"websocket\"-like object which calls the given IPython comm\n    // object with the appropriate methods. Currently this is a non binary\n    // socket, so there is still some room for performance tuning.\n    var ws = {};\n\n    ws.binaryType = comm.kernel.ws.binaryType;\n    ws.readyState = comm.kernel.ws.readyState;\n    function updateReadyState(_event) {\n        if (comm.kernel.ws) {\n            ws.readyState = comm.kernel.ws.readyState;\n        } else {\n            ws.readyState = 3; // Closed state.\n        }\n    }\n    comm.kernel.ws.addEventListener('open', updateReadyState);\n    comm.kernel.ws.addEventListener('close', updateReadyState);\n    comm.kernel.ws.addEventListener('error', updateReadyState);\n\n    ws.close = function () {\n        comm.close();\n    };\n    ws.send = function (m) {\n        //console.log('sending', m);\n        comm.send(m);\n    };\n    // Register the callback with on_msg.\n    comm.on_msg(function (msg) {\n        //console.log('receiving', msg['content']['data'], msg);\n        var data = msg['content']['data'];\n        if (data['blob'] !== undefined) {\n            data = {\n                data: new Blob(msg['buffers'], { type: data['blob'] }),\n            };\n        }\n        // Pass the mpl event to the overridden (by mpl) onmessage function.\n        ws.onmessage(data);\n    });\n    return ws;\n};\n\nmpl.mpl_figure_comm = function (comm, msg) {\n    // This is the function which gets called when the mpl process\n    // starts-up an IPython Comm through the \"matplotlib\" channel.\n\n    var id = msg.content.data.id;\n    // Get hold of the div created by the display call when the Comm\n    // socket was opened in Python.\n    var element = document.getElementById(id);\n    var ws_proxy = comm_websocket_adapter(comm);\n\n    function ondownload(figure, _format) {\n        window.open(figure.canvas.toDataURL());\n    }\n\n    var fig = new mpl.figure(id, ws_proxy, ondownload, element);\n\n    // Call onopen now - mpl needs it, as it is assuming we've passed it a real\n    // web socket which is closed, not our websocket->open comm proxy.\n    ws_proxy.onopen();\n\n    fig.parent_element = element;\n    fig.cell_info = mpl.find_output_cell(\"<div id='\" + id + \"'></div>\");\n    if (!fig.cell_info) {\n        console.error('Failed to find cell for figure', id, fig);\n        return;\n    }\n    fig.cell_info[0].output_area.element.on(\n        'cleared',\n        { fig: fig },\n        fig._remove_fig_handler\n    );\n};\n\nmpl.figure.prototype.handle_close = function (fig, msg) {\n    var width = fig.canvas.width / fig.ratio;\n    fig.cell_info[0].output_area.element.off(\n        'cleared',\n        fig._remove_fig_handler\n    );\n    fig.resizeObserverInstance.unobserve(fig.canvas_div);\n\n    // Update the output cell to use the data from the current canvas.\n    fig.push_to_output();\n    var dataURL = fig.canvas.toDataURL();\n    // Re-enable the keyboard manager in IPython - without this line, in FF,\n    // the notebook keyboard shortcuts fail.\n    IPython.keyboard_manager.enable();\n    fig.parent_element.innerHTML =\n        '<img src=\"' + dataURL + '\" width=\"' + width + '\">';\n    fig.close_ws(fig, msg);\n};\n\nmpl.figure.prototype.close_ws = function (fig, msg) {\n    fig.send_message('closing', msg);\n    // fig.ws.close()\n};\n\nmpl.figure.prototype.push_to_output = function (_remove_interactive) {\n    // Turn the data on the canvas into data in the output cell.\n    var width = this.canvas.width / this.ratio;\n    var dataURL = this.canvas.toDataURL();\n    this.cell_info[1]['text/html'] =\n        '<img src=\"' + dataURL + '\" width=\"' + width + '\">';\n};\n\nmpl.figure.prototype.updated_canvas_event = function () {\n    // Tell IPython that the notebook contents must change.\n    IPython.notebook.set_dirty(true);\n    this.send_message('ack', {});\n    var fig = this;\n    // Wait a second, then push the new image to the DOM so\n    // that it is saved nicely (might be nice to debounce this).\n    setTimeout(function () {\n        fig.push_to_output();\n    }, 1000);\n};\n\nmpl.figure.prototype._init_toolbar = function () {\n    var fig = this;\n\n    var toolbar = document.createElement('div');\n    toolbar.classList = 'btn-toolbar';\n    this.root.appendChild(toolbar);\n\n    function on_click_closure(name) {\n        return function (_event) {\n            return fig.toolbar_button_onclick(name);\n        };\n    }\n\n    function on_mouseover_closure(tooltip) {\n        return function (event) {\n            if (!event.currentTarget.disabled) {\n                return fig.toolbar_button_onmouseover(tooltip);\n            }\n        };\n    }\n\n    fig.buttons = {};\n    var buttonGroup = document.createElement('div');\n    buttonGroup.classList = 'btn-group';\n    var button;\n    for (var toolbar_ind in mpl.toolbar_items) {\n        var name = mpl.toolbar_items[toolbar_ind][0];\n        var tooltip = mpl.toolbar_items[toolbar_ind][1];\n        var image = mpl.toolbar_items[toolbar_ind][2];\n        var method_name = mpl.toolbar_items[toolbar_ind][3];\n\n        if (!name) {\n            /* Instead of a spacer, we start a new button group. */\n            if (buttonGroup.hasChildNodes()) {\n                toolbar.appendChild(buttonGroup);\n            }\n            buttonGroup = document.createElement('div');\n            buttonGroup.classList = 'btn-group';\n            continue;\n        }\n\n        button = fig.buttons[name] = document.createElement('button');\n        button.classList = 'btn btn-default';\n        button.href = '#';\n        button.title = name;\n        button.innerHTML = '<i class=\"fa ' + image + ' fa-lg\"></i>';\n        button.addEventListener('click', on_click_closure(method_name));\n        button.addEventListener('mouseover', on_mouseover_closure(tooltip));\n        buttonGroup.appendChild(button);\n    }\n\n    if (buttonGroup.hasChildNodes()) {\n        toolbar.appendChild(buttonGroup);\n    }\n\n    // Add the status bar.\n    var status_bar = document.createElement('span');\n    status_bar.classList = 'mpl-message pull-right';\n    toolbar.appendChild(status_bar);\n    this.message = status_bar;\n\n    // Add the close button to the window.\n    var buttongrp = document.createElement('div');\n    buttongrp.classList = 'btn-group inline pull-right';\n    button = document.createElement('button');\n    button.classList = 'btn btn-mini btn-primary';\n    button.href = '#';\n    button.title = 'Stop Interaction';\n    button.innerHTML = '<i class=\"fa fa-power-off icon-remove icon-large\"></i>';\n    button.addEventListener('click', function (_evt) {\n        fig.handle_close(fig, {});\n    });\n    button.addEventListener(\n        'mouseover',\n        on_mouseover_closure('Stop Interaction')\n    );\n    buttongrp.appendChild(button);\n    var titlebar = this.root.querySelector('.ui-dialog-titlebar');\n    titlebar.insertBefore(buttongrp, titlebar.firstChild);\n};\n\nmpl.figure.prototype._remove_fig_handler = function (event) {\n    var fig = event.data.fig;\n    if (event.target !== this) {\n        // Ignore bubbled events from children.\n        return;\n    }\n    fig.close_ws(fig, {});\n};\n\nmpl.figure.prototype._root_extra_style = function (el) {\n    el.style.boxSizing = 'content-box'; // override notebook setting of border-box.\n};\n\nmpl.figure.prototype._canvas_extra_style = function (el) {\n    // this is important to make the div 'focusable\n    el.setAttribute('tabindex', 0);\n    // reach out to IPython and tell the keyboard manager to turn it's self\n    // off when our div gets focus\n\n    // location in version 3\n    if (IPython.notebook.keyboard_manager) {\n        IPython.notebook.keyboard_manager.register_events(el);\n    } else {\n        // location in version 2\n        IPython.keyboard_manager.register_events(el);\n    }\n};\n\nmpl.figure.prototype._key_event_extra = function (event, _name) {\n    // Check for shift+enter\n    if (event.shiftKey && event.which === 13) {\n        this.canvas_div.blur();\n        // select the cell after this one\n        var index = IPython.notebook.find_cell_index(this.cell_info[0]);\n        IPython.notebook.select(index + 1);\n    }\n};\n\nmpl.figure.prototype.handle_save = function (fig, _msg) {\n    fig.ondownload(fig, null);\n};\n\nmpl.find_output_cell = function (html_output) {\n    // Return the cell and output element which can be found *uniquely* in the notebook.\n    // Note - this is a bit hacky, but it is done because the \"notebook_saving.Notebook\"\n    // IPython event is triggered only after the cells have been serialised, which for\n    // our purposes (turning an active figure into a static one), is too late.\n    var cells = IPython.notebook.get_cells();\n    var ncells = cells.length;\n    for (var i = 0; i < ncells; i++) {\n        var cell = cells[i];\n        if (cell.cell_type === 'code') {\n            for (var j = 0; j < cell.output_area.outputs.length; j++) {\n                var data = cell.output_area.outputs[j];\n                if (data.data) {\n                    // IPython >= 3 moved mimebundle to data attribute of output\n                    data = data.data;\n                }\n                if (data['text/html'] === html_output) {\n                    return [cell, data, j];\n                }\n            }\n        }\n    }\n};\n\n// Register the function which deals with the matplotlib target/channel.\n// The kernel may be null if the page has been refreshed.\nif (IPython.notebook.kernel !== null) {\n    IPython.notebook.kernel.comm_manager.register_target(\n        'matplotlib',\n        mpl.mpl_figure_comm\n    );\n}\n"
     },
     "metadata": {},
     "output_type": "display_data"
    },
    {
     "data": {
      "text/plain": [
       "<IPython.core.display.HTML object>"
      ],
      "text/html": [
       "<div id='7b044479-4c08-46ad-a796-75d92df79812'></div>"
      ]
     },
     "metadata": {},
     "output_type": "display_data"
    },
    {
     "name": "stdout",
     "output_type": "stream",
     "text": [
      "Starting live plot with 1.0s update interval...\n",
      "Close the plot window to stop live plotting.\n"
     ]
    }
   ],
   "execution_count": 33
  },
  {
   "cell_type": "code",
   "id": "86215f4e",
   "metadata": {
    "ExecuteTime": {
     "end_time": "2025-09-09T13:35:15.997069Z",
     "start_time": "2025-09-09T13:35:15.993694Z"
    }
   },
   "source": [
    "# Stop live plotting\n",
    "live_plot.stop_live_plot()"
   ],
   "outputs": [
    {
     "name": "stdout",
     "output_type": "stream",
     "text": [
      "Live plotting stopped.\n"
     ]
    }
   ],
   "execution_count": 34
  },
  {
   "cell_type": "markdown",
   "id": "d5e284c4",
   "metadata": {},
   "source": [
    "## 11. Data Export and Cleanup"
   ]
  },
  {
   "cell_type": "code",
   "id": "af958ebf",
   "metadata": {
    "ExecuteTime": {
     "end_time": "2025-08-12T08:21:43.170625Z",
     "start_time": "2025-08-12T08:21:43.162459Z"
    }
   },
   "source": [
    "def export_monitoring_data(filename: str = None):\n",
    "    \"\"\"Export monitoring data to CSV file\"\"\"\n",
    "    if not controller.monitoring_data:\n",
    "        print(\"No data to export\")\n",
    "        return\n",
    "    \n",
    "    if filename is None:\n",
    "        timestamp = datetime.now().strftime('%Y%m%d_%H%M%S')\n",
    "        filename = f\"pump_locker_data_{timestamp}.csv\"\n",
    "    \n",
    "    # Flatten the data for CSV export\n",
    "    flattened_data = []\n",
    "    for cycle in controller.monitoring_data:\n",
    "        row = {'timestamp': cycle['cycle_timestamp']}\n",
    "        \n",
    "        # Add pump 1 data\n",
    "        if cycle['pump1_data']:\n",
    "            for key, value in cycle['pump1_data'].items():\n",
    "                row[f'pump1_{key}'] = value\n",
    "        \n",
    "        # Add pump 2 data\n",
    "        if cycle['pump2_data']:\n",
    "            for key, value in cycle['pump2_data'].items():\n",
    "                row[f'pump2_{key}'] = value\n",
    "        \n",
    "        # Add sensor 1 data\n",
    "        if cycle['sensor1_data']:\n",
    "            for key, value in cycle['sensor1_data'].items():\n",
    "                row[f'sensor1_{key}'] = value\n",
    "        \n",
    "        # Add sensor 2 data\n",
    "        if cycle['sensor2_data']:\n",
    "            for key, value in cycle['sensor2_data'].items():\n",
    "                row[f'sensor2_{key}'] = value\n",
    "        \n",
    "        flattened_data.append(row)\n",
    "    \n",
    "    df = pd.DataFrame(flattened_data)\n",
    "    df.to_csv(filename, index=False)\n",
    "    logger.info(f\"Data exported to {filename}\")\n",
    "    print(f\"✅ Data exported to {filename}\")\n",
    "\n",
    "def save_monitoring_data_pickle(filename: str = None):\n",
    "    \"\"\"Save monitoring data as pickle file\"\"\"\n",
    "    if not controller.monitoring_data:\n",
    "        print(\"No data to save\")\n",
    "        return\n",
    "        \n",
    "    if filename is None:\n",
    "        timestamp = datetime.now().strftime('%Y%m%d_%H%M%S')\n",
    "        filename = f\"pump_locker_data_{timestamp}.pkl\"\n",
    "    \n",
    "    with open(filename, 'wb') as f:\n",
    "        pickle.dump(controller.monitoring_data, f)\n",
    "    \n",
    "    logger.info(f\"Data saved to pickle file: {filename}\")\n",
    "    print(f\"✅ Data saved to pickle file: {filename}\")\n",
    "\n",
    "def load_monitoring_data_pickle(filename: str):\n",
    "    \"\"\"Load monitoring data from pickle file\"\"\"\n",
    "    try:\n",
    "        with open(filename, 'rb') as f:\n",
    "            loaded_data = pickle.load(f)\n",
    "        \n",
    "        controller.monitoring_data = loaded_data\n",
    "        logger.info(f\"Data loaded from pickle file: {filename}\")\n",
    "        print(f\"✅ Data loaded from pickle file: {filename}\")\n",
    "        print(f\"Loaded {len(loaded_data)} data points\")\n",
    "        \n",
    "    except Exception as e:\n",
    "        logger.error(f\"Error loading data from {filename}: {e}\")\n",
    "        print(f\"❌ Error loading data from {filename}: {e}\")\n",
    "\n",
    "print(\"Data export functions ready\")"
   ],
   "outputs": [
    {
     "name": "stdout",
     "output_type": "stream",
     "text": [
      "Data export functions ready\n"
     ]
    }
   ],
   "execution_count": 35
  },
  {
   "cell_type": "code",
   "id": "8b81bc99",
   "metadata": {
    "ExecuteTime": {
     "end_time": "2025-08-12T08:21:45.630554Z",
     "start_time": "2025-08-12T08:21:45.601914Z"
    }
   },
   "source": [
    "# Export current monitoring data\n",
    "timestamp = datetime.now().strftime('%d-%m-%Y_%H%M')\n",
    "export_monitoring_data(f\"{timestamp}_pump_locker_data.csv\")"
   ],
   "outputs": [
    {
     "name": "stderr",
     "output_type": "stream",
     "text": [
      "2025-08-12 10:21:45 | INFO | Data exported to 12-08-2025_1021_pump_locker_data.csv\n"
     ]
    },
    {
     "name": "stdout",
     "output_type": "stream",
     "text": [
      "✅ Data exported to 12-08-2025_1021_pump_locker_data.csv\n"
     ]
    }
   ],
   "execution_count": 36
  },
  {
   "cell_type": "code",
   "id": "ba21e81f",
   "metadata": {
    "ExecuteTime": {
     "end_time": "2025-08-12T08:21:46.217121Z",
     "start_time": "2025-08-12T08:21:46.209572Z"
    }
   },
   "source": [
    "# Save monitoring data as pickle\n",
    "timestamp = datetime.now().strftime('%d-%m-%Y_%H%M')\n",
    "save_monitoring_data_pickle(f\"{timestamp}_pump_locker_data.pkl\")"
   ],
   "outputs": [
    {
     "name": "stderr",
     "output_type": "stream",
     "text": [
      "2025-08-12 10:21:46 | INFO | Data saved to pickle file: 12-08-2025_1021_pump_locker_data.pkl\n"
     ]
    },
    {
     "name": "stdout",
     "output_type": "stream",
     "text": [
      "✅ Data saved to pickle file: 12-08-2025_1021_pump_locker_data.pkl\n"
     ]
    }
   ],
   "execution_count": 37
  },
  {
   "cell_type": "code",
   "id": "fd11d6cf",
   "metadata": {
    "ExecuteTime": {
     "end_time": "2025-08-12T08:21:50.204551Z",
     "start_time": "2025-08-12T08:21:48.576974Z"
    }
   },
   "source": [
    "# Emergency disconnect all devices\n",
    "controller.disconnect_all()"
   ],
   "outputs": [
    {
     "name": "stderr",
     "output_type": "stream",
     "text": [
      "2025-08-12 10:21:48 | INFO | Disconnecting all devices...\n",
      "2025-08-12 10:21:48 | INFO | Stopping continuous monitoring...\n",
      "2025-08-12 10:21:49 | SUCCESS | Monitoring thread stopped successfully\n",
      "2025-08-12 10:21:49 | INFO | Disconnected from Pfeiffer device pump_1\n",
      "2025-08-12 10:21:49 | INFO | Pump 1 disconnected\n",
      "2025-08-12 10:21:50 | INFO | Disconnected from Pfeiffer device pump_2\n",
      "2025-08-12 10:21:50 | INFO | Pump 2 disconnected\n",
      "2025-08-12 10:21:50 | INFO | Disconnected from Pfeiffer device tpg366_pressure\n",
      "2025-08-12 10:21:50 | INFO | TPG366 pressure controller disconnected\n",
      "2025-08-12 10:21:50 | SUCCESS | All devices disconnected\n"
     ]
    }
   ],
   "execution_count": 38
  },
  {
   "cell_type": "code",
   "id": "706265bf",
   "metadata": {
    "ExecuteTime": {
     "end_time": "2025-09-09T13:35:31.755246Z",
     "start_time": "2025-09-09T13:35:31.640645Z"
    }
   },
   "source": [
    "# Emergency stop and cleanup\n",
    "print(\"🛑 Emergency Stop - Disconnecting all devices...\")\n",
    "controller.disconnect_all()\n",
    "print(\"✅ All devices disconnected safely\")\n",
    "print(\"\\nTo reconnect, run the connection cells again.\")"
   ],
   "outputs": [
    {
     "name": "stderr",
     "output_type": "stream",
     "text": [
      "2025-09-09 15:35:31 | INFO | Disconnecting all devices...\n",
      "2025-09-09 15:35:31 | INFO | Monitoring is not currently active\n",
      "2025-09-09 15:35:31 | INFO | Disconnected from Pfeiffer device tpg366_pressure\n",
      "2025-09-09 15:35:31 | INFO | TPG366 pressure controller disconnected\n",
      "2025-09-09 15:35:31 | SUCCESS | All devices disconnected\n"
     ]
    },
    {
     "name": "stdout",
     "output_type": "stream",
     "text": [
      "🛑 Emergency Stop - Disconnecting all devices...\n",
      "✅ All devices disconnected safely\n",
      "\n",
      "To reconnect, run the connection cells again.\n"
     ]
    }
   ],
   "execution_count": 35
  },
  {
   "cell_type": "markdown",
   "id": "d265dc92",
   "metadata": {},
   "source": [
    "## Quick Reference\n",
    "\n",
    "### Key Functions:\n",
    "- **Connect devices**: Run cells in section 6\n",
    "- **Start monitoring**: Use the interface in section 9 or call `controller.start_monitoring(interval)`\n",
    "- **Stop monitoring**: Use the interface in section 9 or call `controller.stop_monitoring()`\n",
    "- **Control pumps**: Use functions in section 8 (enable/disable individual or both pumps)\n",
    "- **View data**: Run `get_monitoring_summary()` and `plot_monitoring_data()`\n",
    "- **Export data**: Run `export_monitoring_data()` or `save_monitoring_data_pickle()`\n",
    "- **Emergency stop**: Run the last cell to disconnect everything\n",
    "\n",
    "### Key Improvements from Original:\n",
    "- Uses current hardware APIs (HiScroll12 and TPG366 classes)\n",
    "- Shared logging system with loguru for all devices\n",
    "- Simplified device initialization with shared logger and thread lock\n",
    "- Updated monitoring functions to use current device methods\n",
    "- Live plotting logic kept unchanged as requested\n",
    "- Proper error handling and status reporting\n",
    "- Support for both CSV and pickle data export\n",
    "\n",
    "### Device Configuration:\n",
    "- Pump 1 & 2: HiScroll12 pumps (standard address 2)\n",
    "- Pressure Controller: TPG366 (standard address 1, channels 1 & 2)\n",
    "- All devices use shared logger and thread synchronization"
   ]
  },
  {
   "cell_type": "code",
   "execution_count": null,
   "id": "a03a80bc",
   "metadata": {},
   "outputs": [],
   "source": []
  }
 ],
 "metadata": {
  "language_info": {
   "name": "python"
  },
  "kernelspec": {
   "name": "python3",
   "language": "python",
   "display_name": "Python 3 (ipykernel)"
  }
 },
 "nbformat": 4,
 "nbformat_minor": 5
}
