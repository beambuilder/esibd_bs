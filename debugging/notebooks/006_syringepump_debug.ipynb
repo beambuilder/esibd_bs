{
 "cells": [
  {
   "cell_type": "markdown",
   "id": "7da01119-5818-43e7-8321-8db4d82e1d32",
   "metadata": {},
   "source": [
    "# Debugging of Syringe Pump"
   ]
  },
  {
   "cell_type": "code",
   "execution_count": 1,
   "id": "8e2f26bc-651a-4d09-8833-d631217a272c",
   "metadata": {},
   "outputs": [],
   "source": [
    "import sys\n",
    "sys.path.append('../../src')\n",
    "from devices.syringe_pump import SyringePump"
   ]
  },
  {
   "cell_type": "code",
   "execution_count": 2,
   "id": "7eebf415",
   "metadata": {},
   "outputs": [
    {
     "data": {
      "text/plain": [
       "True"
      ]
     },
     "execution_count": 2,
     "metadata": {},
     "output_type": "execute_result"
    }
   ],
   "source": [
    "# Create pump instance and connect\n",
    "pump = SyringePump(\"debug_pump\", port=\"COM5\", baudrate=38400)\n",
    "pump.connect()"
   ]
  },
  {
   "cell_type": "code",
   "execution_count": 3,
   "id": "f8200310",
   "metadata": {},
   "outputs": [
    {
     "data": {
      "text/plain": [
       "['set rate 60', 'rate = 60', '>']"
      ]
     },
     "execution_count": 3,
     "metadata": {},
     "output_type": "execute_result"
    }
   ],
   "source": [
    "# Set pump parameters\n",
    "pump.set_volume(1)           # 1ml syringe\n",
    "pump.set_diameter(4.64)      # 1ml syringe diameter\n",
    "pump.set_units('mL/hr')      # Flow rate units\n",
    "pump.set_rate(60)            # 60 mL/hr"
   ]
  },
  {
   "cell_type": "code",
   "execution_count": 4,
   "id": "80e2e740-f547-4d7d-bab8-2a3d898576ab",
   "metadata": {},
   "outputs": [
    {
     "data": {
      "text/plain": [
       "['view parameter',\n",
       " 'unit = 1',\n",
       " 'dia = 4.64',\n",
       " 'rate = 60',\n",
       " 'time = 0.02',\n",
       " 'volume = 1',\n",
       " 'delay = 0',\n",
       " '>']"
      ]
     },
     "execution_count": 4,
     "metadata": {},
     "output_type": "execute_result"
    }
   ],
   "source": [
    "pump.get_parameters()"
   ]
  },
  {
   "cell_type": "code",
   "execution_count": 16,
   "id": "2de73b12",
   "metadata": {},
   "outputs": [
    {
     "data": {
      "text/plain": [
       "['start 1', 'Pump start running...', '>']"
      ]
     },
     "execution_count": 16,
     "metadata": {},
     "output_type": "execute_result"
    }
   ],
   "source": [
    "# Start pump\n",
    "pump.start_pump()"
   ]
  },
  {
   "cell_type": "code",
   "execution_count": 11,
   "id": "d1af4d72",
   "metadata": {},
   "outputs": [
    {
     "data": {
      "text/plain": [
       "['pump status', '1', '>']"
      ]
     },
     "execution_count": 11,
     "metadata": {},
     "output_type": "execute_result"
    }
   ],
   "source": [
    "# Check status\n",
    "pump.get_pump_status()"
   ]
  },
  {
   "cell_type": "code",
   "execution_count": 14,
   "id": "e40b992d-2676-452e-91b5-32f770cc7740",
   "metadata": {},
   "outputs": [],
   "source": [
    "pump.mode = 2\n"
   ]
  },
  {
   "cell_type": "code",
   "execution_count": 15,
   "id": "6ab5cb68-31a5-40e7-80d5-a94b968a3af0",
   "metadata": {},
   "outputs": [
    {
     "data": {
      "text/plain": [
       "2"
      ]
     },
     "execution_count": 15,
     "metadata": {},
     "output_type": "execute_result"
    }
   ],
   "source": [
    "pump.mode"
   ]
  },
  {
   "cell_type": "code",
   "execution_count": 17,
   "id": "ff3250eb-e4db-4409-9e23-fe0c4efe4469",
   "metadata": {},
   "outputs": [
    {
     "data": {
      "text/plain": [
       "['stop', 'Pump stop!', '>']"
      ]
     },
     "execution_count": 17,
     "metadata": {},
     "output_type": "execute_result"
    }
   ],
   "source": [
    "pump.stop_pump()"
   ]
  },
  {
   "cell_type": "code",
   "execution_count": 18,
   "id": "5308cfd9",
   "metadata": {},
   "outputs": [
    {
     "data": {
      "text/plain": [
       "True"
      ]
     },
     "execution_count": 18,
     "metadata": {},
     "output_type": "execute_result"
    }
   ],
   "source": [
    "# Stop pump and disconnect\n",
    "\n",
    "pump.disconnect()"
   ]
  },
  {
   "cell_type": "code",
   "execution_count": null,
   "id": "1a8270e4-24d6-4034-b587-e357dfb3f491",
   "metadata": {},
   "outputs": [],
   "source": []
  }
 ],
 "metadata": {
  "kernelspec": {
   "display_name": "ESIBD",
   "language": "python",
   "name": "python3"
  },
  "language_info": {
   "codemirror_mode": {
    "name": "ipython",
    "version": 3
   },
   "file_extension": ".py",
   "mimetype": "text/x-python",
   "name": "python",
   "nbconvert_exporter": "python",
   "pygments_lexer": "ipython3",
   "version": "3.11.8"
  }
 },
 "nbformat": 4,
 "nbformat_minor": 5
}
