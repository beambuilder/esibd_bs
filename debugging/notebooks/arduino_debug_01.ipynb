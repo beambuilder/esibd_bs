{
 "cells": [
  {
   "metadata": {},
   "cell_type": "markdown",
   "source": "# Testing Arduino with internal logging and internal thread",
   "id": "e346104680b77c8d"
  },
  {
   "metadata": {
    "ExecuteTime": {
     "end_time": "2025-07-29T13:18:02.633470Z",
     "start_time": "2025-07-29T13:18:02.594280Z"
    }
   },
   "cell_type": "code",
   "source": [
    "import sys\n",
    "import logging\n",
    "from pathlib import Path\n",
    "import datetime\n",
    "# Add project source to Python path\n",
    "project_root = Path.cwd().parent.parent\n",
    "src_path = project_root / \"src\"\n",
    "sys.path.insert(0, str(src_path))\n",
    "\n",
    "print(f\"Project root: {project_root}\")\n",
    "print(f\"Source path: {src_path}\")\n",
    "print(f\"Python path updated: {str(src_path) in sys.path}\")\n",
    "# Import arduino class\n",
    "try:\n",
    "    from devices.arduino.arduino import Arduino\n",
    "    print(\"✅ Successfully imported Arduino class\")\n",
    "except ImportError as e:\n",
    "    print(f\"❌ Failed to import Arduino class: {e}\")\n",
    "    print(\"Check that the src/devices/arduino/arduino.py file exists\")\n",
    "\n",
    "\n",
    "pump_ard = Arduino(\"Pump_Arduino\", 'COM27', baudrate=115200)\n",
    "pump_ard.connect()"
   ],
   "id": "5dc43d0f65cc86bf",
   "outputs": [
    {
     "name": "stdout",
     "output_type": "stream",
     "text": [
      "Project root: C:\\Users\\ESIBDlab\\PycharmProjects\\esibd_bs\n",
      "Source path: C:\\Users\\ESIBDlab\\PycharmProjects\\esibd_bs\\src\n",
      "Python path updated: True\n",
      "✅ Successfully imported Arduino class\n"
     ]
    },
    {
     "data": {
      "text/plain": [
       "True"
      ]
     },
     "execution_count": 9,
     "metadata": {},
     "output_type": "execute_result"
    }
   ],
   "execution_count": 9
  },
  {
   "metadata": {
    "ExecuteTime": {
     "end_time": "2025-07-29T13:19:07.608090Z",
     "start_time": "2025-07-29T13:19:07.605569Z"
    }
   },
   "cell_type": "code",
   "source": "pump_ard.hk_interval = 1",
   "id": "1ba221345249b1be",
   "outputs": [],
   "execution_count": 12
  },
  {
   "metadata": {
    "ExecuteTime": {
     "end_time": "2025-07-29T13:22:56.348334Z",
     "start_time": "2025-07-29T13:22:56.343980Z"
    }
   },
   "cell_type": "code",
   "source": "pump_ard.stop_housekeeping()",
   "id": "95bc2afcb8230e75",
   "outputs": [
    {
     "data": {
      "text/plain": [
       "True"
      ]
     },
     "execution_count": 14,
     "metadata": {},
     "output_type": "execute_result"
    }
   ],
   "execution_count": 14
  },
  {
   "metadata": {
    "ExecuteTime": {
     "end_time": "2025-07-29T13:23:28.092069Z",
     "start_time": "2025-07-29T13:23:28.087236Z"
    }
   },
   "cell_type": "code",
   "source": "pump_ard.disconnect()",
   "id": "6d2b64810319a9d1",
   "outputs": [
    {
     "data": {
      "text/plain": [
       "True"
      ]
     },
     "execution_count": 15,
     "metadata": {},
     "output_type": "execute_result"
    }
   ],
   "execution_count": 15
  },
  {
   "metadata": {},
   "cell_type": "markdown",
   "source": "# Testing Arduino Class with external log File and internal thread",
   "id": "4f338759c823cbab"
  },
  {
   "metadata": {
    "ExecuteTime": {
     "end_time": "2025-07-29T13:26:59.403808Z",
     "start_time": "2025-07-29T13:26:59.398829Z"
    }
   },
   "cell_type": "code",
   "source": [
    "import sys\n",
    "import logging\n",
    "from pathlib import Path\n",
    "from datetime import datetime\n",
    "# Add project source to Python path\n",
    "project_root = Path.cwd().parent.parent\n",
    "src_path = project_root / \"src\"\n",
    "sys.path.insert(0, str(src_path))\n",
    "\n",
    "print(f\"Project root: {project_root}\")\n",
    "print(f\"Source path: {src_path}\")\n",
    "print(f\"Python path updated: {str(src_path) in sys.path}\")\n",
    "# Import Arduino class\n",
    "try:\n",
    "    from devices.arduino.arduino import Arduino\n",
    "    print(\"✅ Successfully imported Arduino class\")\n",
    "except ImportError as e:\n",
    "    print(f\"❌ Failed to import Arduino class: {e}\")\n",
    "    print(\"Check that the src/devices/arduino/arduino.py file exists\")"
   ],
   "id": "1c476911f098a6c9",
   "outputs": [
    {
     "name": "stdout",
     "output_type": "stream",
     "text": [
      "Project root: C:\\Users\\ESIBDlab\\PycharmProjects\\esibd_bs\n",
      "Source path: C:\\Users\\ESIBDlab\\PycharmProjects\\esibd_bs\\src\n",
      "Python path updated: True\n",
      "✅ Successfully imported Arduino class\n"
     ]
    }
   ],
   "execution_count": 17
  },
  {
   "metadata": {
    "ExecuteTime": {
     "end_time": "2025-07-29T13:27:00.116925Z",
     "start_time": "2025-07-29T13:27:00.113186Z"
    }
   },
   "cell_type": "code",
   "source": [
    "PUMP_ARD_CONFIG = {\n",
    "    \"device_id\": \"debug_pump_ard_extlog\",\n",
    "    \"port\": \"COM27\",\n",
    "    \"baudrate\": 115200,\n",
    "    \"timeout\": 1.0\n",
    "}"
   ],
   "id": "a0f8b20cc8ce50fb",
   "outputs": [],
   "execution_count": 18
  },
  {
   "metadata": {
    "ExecuteTime": {
     "end_time": "2025-07-29T13:27:00.869081Z",
     "start_time": "2025-07-29T13:27:00.860343Z"
    }
   },
   "cell_type": "code",
   "source": [
    "# Create logs directory if it doesn't exist\n",
    "logs_dir = project_root / \"debugging\" / \"logs\"\n",
    "logs_dir.mkdir(parents=True, exist_ok=True)\n",
    "\n",
    "# Create custom logger with timestamped filename\n",
    "device_id = PUMP_ARD_CONFIG[\"device_id\"]\n",
    "timestamp = datetime.now().strftime(\"%d_%m_%Y_%H_%M_%S\")\n",
    "log_filename = f\"{device_id}_{timestamp}.log\"\n",
    "log_filepath = logs_dir / log_filename\n",
    "\n",
    "print(f\"\\n Creating custom logger...\")\n",
    "print(f\"  Log file: {log_filename}\")\n",
    "\n",
    "# Create custom logger\n",
    "custom_logger = logging.getLogger(f\"notebook.{device_id}\")\n",
    "custom_logger.setLevel(logging.DEBUG)\n",
    "\n",
    "# Clear any existing handlers\n",
    "custom_logger.handlers.clear()\n",
    "\n",
    "# Create file handler with timestamped filename\n",
    "file_handler = logging.FileHandler(log_filepath)\n",
    "file_handler.setLevel(logging.DEBUG)\n",
    "\n",
    "# Create console handler for immediate feedback\n",
    "console_handler = logging.StreamHandler()\n",
    "console_handler.setLevel(logging.INFO)\n",
    "\n",
    "# Create formatter\n",
    "formatter = logging.Formatter(\n",
    "    '%(asctime)s - %(name)s - %(levelname)s - %(message)s',\n",
    "    datefmt='%Y-%m-%d %H:%M:%S'\n",
    ")\n",
    "\n",
    "# Set formatter for both handlers\n",
    "file_handler.setFormatter(formatter)\n",
    "console_handler.setFormatter(formatter)\n",
    "\n",
    "# Add handlers to logger\n",
    "custom_logger.addHandler(file_handler)\n",
    "custom_logger.addHandler(console_handler)\n",
    "\n",
    "print(f\"  ✅ Logger created: {custom_logger.name}\")\n",
    "print(f\"  📁 Log path: {log_filepath}\")\n",
    "\n",
    "# Initialize single Arduino instance with custom logger\n",
    "try:\n",
    "    print(f\"\\n📊 Creating chiller instance...\")\n",
    "\n",
    "    arduino = Arduino(\n",
    "        device_id=PUMP_ARD_CONFIG[\"device_id\"],\n",
    "        port=PUMP_ARD_CONFIG[\"port\"],\n",
    "        baudrate=PUMP_ARD_CONFIG[\"baudrate\"],\n",
    "        timeout=PUMP_ARD_CONFIG[\"timeout\"],\n",
    "        logger=custom_logger\n",
    "    )\n",
    "\n",
    "    print(f\"  ✅ Arduino created successfully\")\n",
    "\n",
    "    # Log the initialization\n",
    "    custom_logger.info(f\"Arduino initialized - Device: {device_id}\")\n",
    "    custom_logger.info(f\"Configuration: Port={PUMP_ARD_CONFIG['port']}, Baudrate={PUMP_ARD_CONFIG['baudrate']}, Timeout={PUMP_ARD_CONFIG['timeout']}\")\n",
    "\n",
    "    # Display initialization details\n",
    "    status = arduino.get_status()\n",
    "\n",
    "    print(f\"\\n🎯 Arduino initialization completed successfully!\")\n",
    "\n",
    "except Exception as e:\n",
    "    print(f\"  ❌ Failed to create Arduino: {str(e)}\")\n",
    "    print(f\"     Error type: {type(e).__name__}\")\n",
    "    custom_logger.error(f\"Arduino initialization failed: {e}\")\n",
    "    arduino = None"
   ],
   "id": "9d689d9ee0a592f5",
   "outputs": [
    {
     "name": "stderr",
     "output_type": "stream",
     "text": [
      "2025-07-29 15:27:00 - notebook.debug_pump_ard_extlog - INFO - Arduino initialized - Device: debug_pump_ard_extlog\n",
      "2025-07-29 15:27:00 - notebook.debug_pump_ard_extlog - INFO - Configuration: Port=COM27, Baudrate=115200, Timeout=1.0\n"
     ]
    },
    {
     "name": "stdout",
     "output_type": "stream",
     "text": [
      "\n",
      " Creating custom logger...\n",
      "  Log file: debug_pump_ard_extlog_29_07_2025_15_27_00.log\n",
      "  ✅ Logger created: notebook.debug_pump_ard_extlog\n",
      "  📁 Log path: C:\\Users\\ESIBDlab\\PycharmProjects\\esibd_bs\\debugging\\logs\\debug_pump_ard_extlog_29_07_2025_15_27_00.log\n",
      "\n",
      "📊 Creating chiller instance...\n",
      "  ✅ Arduino created successfully\n",
      "\n",
      "🎯 Arduino initialization completed successfully!\n"
     ]
    }
   ],
   "execution_count": 19
  },
  {
   "metadata": {
    "ExecuteTime": {
     "end_time": "2025-07-29T13:27:11.249072Z",
     "start_time": "2025-07-29T13:27:11.212916Z"
    }
   },
   "cell_type": "code",
   "source": "arduino.connect()",
   "id": "a46081a5f565c058",
   "outputs": [
    {
     "name": "stderr",
     "output_type": "stream",
     "text": [
      "2025-07-29 15:27:11 - notebook.debug_pump_ard_extlog - INFO - Connecting to Arduino debug_pump_ard_extlog on COM27\n"
     ]
    },
    {
     "data": {
      "text/plain": [
       "True"
      ]
     },
     "execution_count": 20,
     "metadata": {},
     "output_type": "execute_result"
    }
   ],
   "execution_count": 20
  },
  {
   "metadata": {
    "ExecuteTime": {
     "end_time": "2025-07-29T13:27:26.892760Z",
     "start_time": "2025-07-29T13:27:26.887848Z"
    }
   },
   "cell_type": "code",
   "source": "arduino.read_arduino_data()",
   "id": "888765f099ac96e9",
   "outputs": [
    {
     "data": {
      "text/plain": [
       "{'temperature': 22.31,\n",
       " 'fan_power': 40,\n",
       " 'waterflow': 0.0,\n",
       " 'raw_data': 'Temperature: 22.31 °C | Fan_PWR: 40 % | H2O_FRate: 0.0 L/min'}"
      ]
     },
     "execution_count": 21,
     "metadata": {},
     "output_type": "execute_result"
    }
   ],
   "execution_count": 21
  },
  {
   "metadata": {
    "ExecuteTime": {
     "end_time": "2025-07-29T13:28:03.087016Z",
     "start_time": "2025-07-29T13:28:03.084076Z"
    }
   },
   "cell_type": "code",
   "source": "arduino.hk_interval",
   "id": "9a364d98ae2db854",
   "outputs": [
    {
     "data": {
      "text/plain": [
       "30.0"
      ]
     },
     "execution_count": 22,
     "metadata": {},
     "output_type": "execute_result"
    }
   ],
   "execution_count": 22
  },
  {
   "metadata": {
    "ExecuteTime": {
     "end_time": "2025-07-29T13:28:17.801469Z",
     "start_time": "2025-07-29T13:28:17.793953Z"
    }
   },
   "cell_type": "code",
   "source": "arduino.start_housekeeping(interval = 1)",
   "id": "83f211901de40152",
   "outputs": [
    {
     "name": "stderr",
     "output_type": "stream",
     "text": [
      "2025-07-29 15:28:17 - notebook.debug_pump_ard_extlog - INFO - File logging already enabled\n",
      "2025-07-29 15:28:17 - notebook.debug_pump_ard_extlog - INFO - Housekeeping worker started for debug_pump_ard_extlog\n",
      "2025-07-29 15:28:17 - notebook.debug_pump_ard_extlog - INFO - Housekeeping started (internal mode) - interval: 1s\n"
     ]
    },
    {
     "data": {
      "text/plain": [
       "True"
      ]
     },
     "execution_count": 23,
     "metadata": {},
     "output_type": "execute_result"
    }
   ],
   "execution_count": 23
  },
  {
   "metadata": {
    "ExecuteTime": {
     "end_time": "2025-07-29T13:28:41.625786Z",
     "start_time": "2025-07-29T13:28:41.618845Z"
    }
   },
   "cell_type": "code",
   "source": [
    "arduino.stop_housekeeping()\n",
    "arduino.disconnect()"
   ],
   "id": "dac33561259b6d24",
   "outputs": [
    {
     "name": "stderr",
     "output_type": "stream",
     "text": [
      "2025-07-29 15:28:41 - notebook.debug_pump_ard_extlog - INFO - Housekeeping stopped (internal mode)\n",
      "2025-07-29 15:28:41 - notebook.debug_pump_ard_extlog - INFO - Disconnected from Arduino debug_pump_ard_extlog\n"
     ]
    },
    {
     "data": {
      "text/plain": [
       "True"
      ]
     },
     "execution_count": 24,
     "metadata": {},
     "output_type": "execute_result"
    }
   ],
   "execution_count": 24
  },
  {
   "metadata": {},
   "cell_type": "code",
   "outputs": [],
   "execution_count": null,
   "source": "",
   "id": "352a99a4d5b99dc9"
  }
 ],
 "metadata": {
  "kernelspec": {
   "display_name": "Python 3",
   "language": "python",
   "name": "python3"
  },
  "language_info": {
   "codemirror_mode": {
    "name": "ipython",
    "version": 2
   },
   "file_extension": ".py",
   "mimetype": "text/x-python",
   "name": "python",
   "nbconvert_exporter": "python",
   "pygments_lexer": "ipython2",
   "version": "2.7.6"
  }
 },
 "nbformat": 4,
 "nbformat_minor": 5
}
