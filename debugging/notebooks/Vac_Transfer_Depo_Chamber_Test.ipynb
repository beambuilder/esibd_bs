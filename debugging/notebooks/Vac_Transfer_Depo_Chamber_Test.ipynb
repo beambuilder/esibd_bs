{
 "cells": [
  {
   "cell_type": "markdown",
   "id": "7ce6fe49",
   "metadata": {},
   "source": [
    "# Test of HiPace300 Pumps on Transfer and Depo Chamber\n",
    "\n",
    "## Equipment Configuration:\n",
    "- **HiPace300 Pumps**: Connected to Transfer and Deposition Chambers\n",
    "- **HiScroll12**: One unit connected as backing pump\n",
    "- **Pressure Sensors**: Two total sensors connected to both Omnicontrol 300 units\n",
    "\n",
    "## Test Overview:\n",
    "This notebook contains tests and monitoring for the HiPace300 turbo molecular pump system with integrated pressure monitoring and control capabilities."
   ]
  },
  {
   "cell_type": "markdown",
   "id": "2da7dcf8",
   "metadata": {},
   "source": [
    "## 1. Import Required Libraries and Setup\n"
   ]
  },
  {
   "cell_type": "code",
   "execution_count": null,
   "id": "a67ba110",
   "metadata": {},
   "outputs": [],
   "source": [
    "import sys\n",
    "import threading\n",
    "import time\n",
    "from datetime import datetime\n",
    "import asyncio\n",
    "from typing import Dict, Optional, Any\n",
    "import pandas as pd\n",
    "import matplotlib.pyplot as plt\n",
    "from IPython.display import display, clear_output\n",
    "import ipywidgets as widgets\n",
    "import pickle\n",
    "\n",
    "from loguru import logger\n",
    "import os\n",
    "from pathlib import Path\n",
    "\n",
    "# Add path to src modules\n",
    "sys.path.append(os.path.join(os.getcwd(), '..', '..', 'src'))\n",
    "\n",
    "# Import current device modules\n",
    "from devices.pfeiffer.hiscroll12.hiscroll12 import HiScroll12\n",
    "from devices.pfeiffer.hipacebus import HiPace300Bus"
   ]
  },
  {
   "cell_type": "markdown",
   "id": "caeaab51",
   "metadata": {},
   "source": [
    "## 2. Setup Shared Logging System"
   ]
  },
  {
   "cell_type": "code",
   "execution_count": null,
   "id": "0d7e795b",
   "metadata": {},
   "outputs": [],
   "source": [
    "# Get the repository root and create shared logs directory\n",
    "repo_root = Path(os.getcwd()).parent.parent\n",
    "log_dir = repo_root / \"debugging\" / \"logs\"\n",
    "log_dir.mkdir(parents=True, exist_ok=True)\n",
    "\n",
    "# Create shared log file for all devices\n",
    "timestamp = datetime.now().strftime(\"%Y%m%d_%H%M%S\")\n",
    "shared_log_file = log_dir / f\"pump_locker_test_{timestamp}.log\"\n",
    "\n",
    "# Configure shared logger\n",
    "logger.remove()  # Remove default logger\n",
    "\n",
    "# Add console logger with INFO level\n",
    "logger.add(sys.stderr, level=\"INFO\", format=\"{time:YYYY-MM-DD HH:mm:ss} | {level} | {message}\")\n",
    "\n",
    "# Add shared file logger with DEBUG level\n",
    "logger.add(\n",
    "    str(shared_log_file),\n",
    "    level=\"DEBUG\",\n",
    "    format=\"{time:YYYY-MM-DD HH:mm:ss.SSS} | {level} | {name}:{function}:{line} | {message}\",\n",
    "    rotation=\"1 day\",\n",
    "    retention=\"30 days\",\n",
    "    compression=\"zip\"\n",
    ")\n",
    "\n",
    "logger.info(\"Pump Locker Test system initialized with shared logging\")\n",
    "print(f\"Repository root: {repo_root}\")\n",
    "print(f\"Shared logs will be saved to: {shared_log_file}\")"
   ]
  },
  {
   "cell_type": "markdown",
   "id": "ccd4255d",
   "metadata": {},
   "source": [
    "# 3. Set COM-Ports & Adresses"
   ]
  },
  {
   "cell_type": "markdown",
   "id": "e630b0d3",
   "metadata": {},
   "source": []
  },
  {
   "cell_type": "code",
   "execution_count": null,
   "id": "5898c1b5",
   "metadata": {},
   "outputs": [],
   "source": [
    "# Device configuration dictionaries\n",
    "# Modify these COM ports and addresses according to your actual hardware setup\n",
    "\n",
    "HiScroll12 = {\n",
    "    'com_port': 'COM19',\n",
    "    'device_address': 2,\n",
    "    'device_type': 'HiScroll12',\n",
    "    'description': 'Backing pump for HiPace300 systems'\n",
    "}\n",
    "\n",
    "HiPace300_Transfer = {\n",
    "    'com_port': 'COM20',\n",
    "    'device_address': 1,\n",
    "    'device_type': 'HiPace300',\n",
    "    'description': 'Transfer chamber turbo pump'\n",
    "}\n",
    "\n",
    "HiPace300_Depo = {\n",
    "    'com_port': 'COM21',\n",
    "    'device_address': 1,\n",
    "    'device_type': 'HiPace300', \n",
    "    'description': 'Deposition chamber turbo pump'\n",
    "}\n",
    "\n",
    "# Print configuration summary\n",
    "print(\"Device Configuration Summary:\")\n",
    "print(\"=\" * 40)\n",
    "print(f\"HiScroll12 (Backing pump):\")\n",
    "print(f\"  COM Port: {HiScroll12['com_port']}\")\n",
    "print(f\"  Address: {HiScroll12['device_address']}\")\n",
    "print(f\"  Description: {HiScroll12['description']}\")\n",
    "\n",
    "print(f\"\\nHiPace300 Transfer:\")\n",
    "print(f\"  COM Port: {HiPace300_Transfer['com_port']}\")\n",
    "print(f\"  Address: {HiPace300_Transfer['device_address']}\")\n",
    "print(f\"  Description: {HiPace300_Transfer['description']}\")\n",
    "\n",
    "print(f\"\\nHiPace300 Depo:\")\n",
    "print(f\"  COM Port: {HiPace300_Depo['com_port']}\")\n",
    "print(f\"  Address: {HiPace300_Depo['device_address']}\")\n",
    "print(f\"  Description: {HiPace300_Depo['description']}\")\n",
    "\n",
    "print(\"\\n✅ Device dictionaries configured successfully\")"
   ]
  },
  {
   "cell_type": "markdown",
   "id": "f7b1d3db",
   "metadata": {},
   "source": [
    "# 4. Connect Devices"
   ]
  },
  {
   "cell_type": "code",
   "execution_count": null,
   "id": "02b40794",
   "metadata": {},
   "outputs": [],
   "source": [
    "# Initialize and connect HiScroll12\n",
    "hiscroll = HiScroll12(\"hiscroll12\", HiScroll12['com_port'], HiScroll12['device_address'], logger)\n",
    "hiscroll.connect()\n",
    "print(f\"✅ HiScroll12 connected on {HiScroll12['com_port']}\")"
   ]
  },
  {
   "cell_type": "code",
   "execution_count": null,
   "id": "62238c4d",
   "metadata": {},
   "outputs": [],
   "source": [
    "# Initialize and connect HiPace300 Transfer\n",
    "hipace_transfer = HiPace300Bus(\"hipace_transfer\", HiPace300_Transfer['com_port'], HiPace300_Transfer['device_address'], logger)\n",
    "hipace_transfer.connect()\n",
    "print(f\"✅ HiPace300 Transfer connected on {HiPace300_Transfer['com_port']}\")"
   ]
  },
  {
   "cell_type": "code",
   "execution_count": null,
   "id": "99bcc566",
   "metadata": {},
   "outputs": [],
   "source": [
    "# Initialize and connect HiPace300 Depo\n",
    "hipace_depo = HiPace300Bus(\"hipace_depo\", HiPace300_Depo['com_port'], HiPace300_Depo['device_address'], logger)\n",
    "hipace_depo.connect()\n",
    "print(f\"✅ HiPace300 Depo connected on {HiPace300_Depo['com_port']}\")"
   ]
  },
  {
   "cell_type": "markdown",
   "id": "7c86a442",
   "metadata": {},
   "source": [
    "# 5. Debugging/Testing Connection manually"
   ]
  },
  {
   "cell_type": "markdown",
   "id": "93f6f813",
   "metadata": {},
   "source": []
  }
 ],
 "metadata": {
  "language_info": {
   "name": "python"
  }
 },
 "nbformat": 4,
 "nbformat_minor": 5
}
