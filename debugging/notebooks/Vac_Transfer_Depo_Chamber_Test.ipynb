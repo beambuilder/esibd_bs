{
 "cells": [
  {
   "cell_type": "markdown",
   "id": "7ce6fe49",
   "metadata": {},
   "source": [
    "# Test of HiPace300 Pumps on Transfer and Depo Chamber\n",
    "\n",
    "## Equipment Configuration:\n",
    "- **HiPace300 Pumps**: Connected to Transfer and Deposition Chambers\n",
    "- **HiScroll12**: One unit connected as backing pump\n",
    "- **Pressure Sensors**: Two total sensors connected to both Omnicontrol 300 units\n",
    "\n",
    "## Test Overview:\n",
    "This notebook contains tests and monitoring for the HiPace300 turbo molecular pump system with integrated pressure monitoring and control capabilities."
   ]
  },
  {
   "cell_type": "markdown",
   "id": "2da7dcf8",
   "metadata": {},
   "source": [
    "## 1. Import Required Libraries and Setup\n"
   ]
  },
  {
   "cell_type": "code",
   "id": "a67ba110",
   "metadata": {
    "ExecuteTime": {
     "end_time": "2025-08-12T13:10:36.120441Z",
     "start_time": "2025-08-12T13:10:35.353169Z"
    }
   },
   "source": [
    "import sys\n",
    "import threading\n",
    "import time\n",
    "from datetime import datetime\n",
    "import asyncio\n",
    "from typing import Dict, Optional, Any\n",
    "import pandas as pd\n",
    "import matplotlib.pyplot as plt\n",
    "from IPython.display import display, clear_output\n",
    "import ipywidgets as widgets\n",
    "import pickle\n",
    "\n",
    "from loguru import logger\n",
    "import os\n",
    "from pathlib import Path\n",
    "\n",
    "# Add path to src modules\n",
    "sys.path.append(os.path.join(os.getcwd(), '..', '..', 'src'))\n",
    "\n",
    "# Import current device modules\n",
    "from devices.pfeiffer.hiscroll12.hiscroll12 import HiScroll12\n",
    "from devices.pfeiffer.hipacebus import HiPace300Bus"
   ],
   "outputs": [],
   "execution_count": 1
  },
  {
   "cell_type": "markdown",
   "id": "caeaab51",
   "metadata": {},
   "source": [
    "## 2. Setup Shared Logging System"
   ]
  },
  {
   "cell_type": "code",
   "id": "0d7e795b",
   "metadata": {
    "ExecuteTime": {
     "end_time": "2025-08-12T13:10:37.669006Z",
     "start_time": "2025-08-12T13:10:37.657805Z"
    }
   },
   "source": [
    "# Get the repository root and create shared logs directory\n",
    "repo_root = Path(os.getcwd()).parent.parent\n",
    "log_dir = repo_root / \"debugging\" / \"logs\"\n",
    "log_dir.mkdir(parents=True, exist_ok=True)\n",
    "\n",
    "# Create shared log file for all devices\n",
    "timestamp = datetime.now().strftime(\"%Y%m%d_%H%M%S\")\n",
    "shared_log_file = log_dir / f\"hipace_Transfer_Depo_test_{timestamp}.log\"\n",
    "\n",
    "# Configure shared logger\n",
    "logger.remove()  # Remove default logger\n",
    "\n",
    "# Add console logger with INFO level\n",
    "logger.add(sys.stderr, level=\"INFO\", format=\"{time:YYYY-MM-DD HH:mm:ss} | {level} | {message}\")\n",
    "\n",
    "# Add shared file logger with DEBUG level\n",
    "logger.add(\n",
    "    str(shared_log_file),\n",
    "    level=\"DEBUG\",\n",
    "    format=\"{time:YYYY-MM-DD HH:mm:ss.SSS} | {level} | {name}:{function}:{line} | {message}\",\n",
    "    rotation=\"1 day\",\n",
    "    retention=\"30 days\",\n",
    "    compression=\"zip\"\n",
    ")\n",
    "\n",
    "logger.info(\"Pump Locker Test system initialized with shared logging\")\n",
    "print(f\"Repository root: {repo_root}\")\n",
    "print(f\"Shared logs will be saved to: {shared_log_file}\")"
   ],
   "outputs": [
    {
     "name": "stderr",
     "output_type": "stream",
     "text": [
      "2025-08-12 15:10:37 | INFO | Pump Locker Test system initialized with shared logging\n"
     ]
    },
    {
     "name": "stdout",
     "output_type": "stream",
     "text": [
      "Repository root: C:\\Users\\ESIBDlab\\PycharmProjects\\esibd_bs\n",
      "Shared logs will be saved to: C:\\Users\\ESIBDlab\\PycharmProjects\\esibd_bs\\debugging\\logs\\hipace_Transfer_Depo_test_20250812_151037.log\n"
     ]
    }
   ],
   "execution_count": 2
  },
  {
   "cell_type": "markdown",
   "id": "ccd4255d",
   "metadata": {},
   "source": [
    "# 3. Set COM-Ports & Adresses"
   ]
  },
  {
   "cell_type": "markdown",
   "id": "e630b0d3",
   "metadata": {},
   "source": []
  },
  {
   "cell_type": "code",
   "id": "5898c1b5",
   "metadata": {
    "ExecuteTime": {
     "end_time": "2025-08-12T13:10:43.027596Z",
     "start_time": "2025-08-12T13:10:43.021587Z"
    }
   },
   "source": [
    "# Device configuration dictionaries\n",
    "# Modify these COM ports and addresses according to your actual hardware setup\n",
    "\n",
    "HiScroll12_dict = {\n",
    "    'com_port': 'COM19',\n",
    "    'device_address': 2,\n",
    "    'device_type': 'HiScroll12',\n",
    "    'description': 'Backing pump for HiPace300 systems'\n",
    "}\n",
    "\n",
    "HiPace300_Transfer_dict = {\n",
    "    'com_port': 'COM36',\n",
    "    'device_address': 101,\n",
    "    'omnicontrol_address': 101,\n",
    "    'tc400_address':1,\n",
    "    'gauge1_address': 122,\n",
    "    'device_type': 'HiPace300',\n",
    "    'description': 'Transfer chamber turbo pump'\n",
    "}\n",
    "\n",
    "HiPace300_Depo_dict = {\n",
    "    'com_port': 'COM37',\n",
    "    'device_address': 101,\n",
    "    'omnicontrol_address': 101,\n",
    "    'tc400_address':1,\n",
    "    'gauge1_address': 122,\n",
    "    'device_type': 'HiPace300', \n",
    "    'description': 'Deposition chamber turbo pump'\n",
    "}\n",
    "\n",
    "# Print configuration summary\n",
    "print(\"Device Configuration Summary:\")\n",
    "print(\"=\" * 40)\n",
    "print(f\"HiScroll12 (Backing pump):\")\n",
    "print(f\"  COM Port: {HiScroll12_dict['com_port']}\")\n",
    "print(f\"  Address: {HiScroll12_dict['device_address']}\")\n",
    "print(f\"  Description: {HiScroll12_dict['description']}\")\n",
    "\n",
    "print(f\"\\nHiPace300 Transfer:\")\n",
    "print(f\"  COM Port: {HiPace300_Transfer_dict['com_port']}\")\n",
    "print(f\"  Address: {HiPace300_Transfer_dict['device_address']}\")\n",
    "print(f\"  Description: {HiPace300_Transfer_dict['description']}\")\n",
    "\n",
    "print(f\"\\nHiPace300 Depo:\")\n",
    "print(f\"  COM Port: {HiPace300_Depo_dict['com_port']}\")\n",
    "print(f\"  Address: {HiPace300_Depo_dict['device_address']}\")\n",
    "print(f\"  Description: {HiPace300_Depo_dict['description']}\")\n",
    "\n",
    "print(\"\\n✅ Device dictionaries configured successfully\")"
   ],
   "outputs": [
    {
     "name": "stdout",
     "output_type": "stream",
     "text": [
      "Device Configuration Summary:\n",
      "========================================\n",
      "HiScroll12 (Backing pump):\n",
      "  COM Port: COM19\n",
      "  Address: 2\n",
      "  Description: Backing pump for HiPace300 systems\n",
      "\n",
      "HiPace300 Transfer:\n",
      "  COM Port: COM36\n",
      "  Address: 101\n",
      "  Description: Transfer chamber turbo pump\n",
      "\n",
      "HiPace300 Depo:\n",
      "  COM Port: COM37\n",
      "  Address: 101\n",
      "  Description: Deposition chamber turbo pump\n",
      "\n",
      "✅ Device dictionaries configured successfully\n"
     ]
    }
   ],
   "execution_count": 3
  },
  {
   "cell_type": "markdown",
   "id": "f7b1d3db",
   "metadata": {},
   "source": [
    "# 4. Connect Devices"
   ]
  },
  {
   "cell_type": "code",
   "id": "02b40794",
   "metadata": {},
   "source": [
    "# Initialize and connect HiScroll12\n",
    "hiscroll = HiScroll12(\n",
    "    device_id=\"hiscroll12\",\n",
    "    port=HiScroll12_dict['com_port'],\n",
    "    device_address=HiScroll12_dict['device_address'],\n",
    "    logger=logger\n",
    ")\n",
    "hiscroll.connect()\n",
    "print(f\"✅ HiScroll12 connected on {HiScroll12['com_port']}\")"
   ],
   "outputs": [],
   "execution_count": null
  },
  {
   "cell_type": "code",
   "id": "62238c4d",
   "metadata": {
    "ExecuteTime": {
     "end_time": "2025-08-12T13:11:00.146685Z",
     "start_time": "2025-08-12T13:11:00.117673Z"
    }
   },
   "source": [
    "# Initialize and connect HiPace300 Transfer\n",
    "hipace_transfer = HiPace300Bus(\n",
    "    device_id=\"hipace_transfer\",\n",
    "    port=HiPace300_Transfer_dict['com_port'],\n",
    "    device_address=HiPace300_Transfer_dict['device_address'],\n",
    "    omnicontrol_address=HiPace300_Transfer_dict['omnicontrol_address'],\n",
    "    tc400_address=HiPace300_Transfer_dict['tc400_address'],\n",
    "    gauge1_address=HiPace300_Transfer_dict['gauge1_address'],\n",
    "    logger=logger\n",
    ")\n",
    "\n",
    "hipace_transfer.connect()\n",
    "print(f\"✅ HiPace300 Transfer connected on {HiPace300_Transfer_dict['com_port']}\")"
   ],
   "outputs": [
    {
     "name": "stderr",
     "output_type": "stream",
     "text": [
      "2025-08-12 15:11:00 | INFO | Connecting to Pfeiffer device hipace_transfer on COM36\n",
      "2025-08-12 15:11:00 | INFO | Successfully connected to device at address 101\n"
     ]
    },
    {
     "name": "stdout",
     "output_type": "stream",
     "text": [
      "✅ HiPace300 Transfer connected on COM36\n"
     ]
    }
   ],
   "execution_count": 7
  },
  {
   "cell_type": "code",
   "id": "99bcc566",
   "metadata": {
    "ExecuteTime": {
     "end_time": "2025-08-12T13:11:02.766861Z",
     "start_time": "2025-08-12T13:11:02.737855Z"
    }
   },
   "source": [
    "# Initialize and connect HiPace300 Depo\n",
    "hipace_depo = HiPace300Bus(\n",
    "    device_id=\"hipace_depo\",\n",
    "    port=HiPace300_Depo_dict['com_port'],\n",
    "    device_address=HiPace300_Depo_dict['device_address'],\n",
    "    omnicontrol_address=HiPace300_Depo_dict['omnicontrol_address'],\n",
    "    tc400_address=HiPace300_Depo_dict['tc400_address'],\n",
    "    gauge1_address=HiPace300_Depo_dict['gauge1_address'],\n",
    "    logger=logger\n",
    ")\n",
    "\n",
    "hipace_depo.connect()\n",
    "print(f\"✅ HiPace300 Depo connected on {HiPace300_Depo_dict['com_port']}\")"
   ],
   "outputs": [
    {
     "name": "stderr",
     "output_type": "stream",
     "text": [
      "2025-08-12 15:11:02 | INFO | Connecting to Pfeiffer device hipace_depo on COM37\n",
      "2025-08-12 15:11:02 | INFO | Successfully connected to device at address 101\n"
     ]
    },
    {
     "name": "stdout",
     "output_type": "stream",
     "text": [
      "✅ HiPace300 Depo connected on COM37\n"
     ]
    }
   ],
   "execution_count": 8
  },
  {
   "cell_type": "markdown",
   "id": "7c86a442",
   "metadata": {},
   "source": [
    "# 5. Debugging/Testing Connection manually"
   ]
  },
  {
   "metadata": {
    "ExecuteTime": {
     "end_time": "2025-08-12T13:20:30.571305Z",
     "start_time": "2025-08-12T13:20:28.504705Z"
    }
   },
   "cell_type": "code",
   "source": "hipace_depo.get_rotationspd_SwP_reached()",
   "id": "dc2bb37f09374c2b",
   "outputs": [
    {
     "name": "stderr",
     "output_type": "stream",
     "text": [
      "2025-08-12 15:20:30 | ERROR | Failed to query channel tc400 (addr: 1) parameter 302: gauge response too short to be valid len(r) = 0\n"
     ]
    },
    {
     "ename": "ValueError",
     "evalue": "gauge response too short to be valid len(r) = 0",
     "output_type": "error",
     "traceback": [
      "\u001B[31m---------------------------------------------------------------------------\u001B[39m",
      "\u001B[31mValueError\u001B[39m                                Traceback (most recent call last)",
      "\u001B[36mCell\u001B[39m\u001B[36m \u001B[39m\u001B[32mIn[27]\u001B[39m\u001B[32m, line 1\u001B[39m\n\u001B[32m----> \u001B[39m\u001B[32m1\u001B[39m hipace_depo.get_rotationspd_SwP_reached()\n",
      "\u001B[36mFile \u001B[39m\u001B[32m~\\PycharmProjects\\esibd_bs\\debugging\\notebooks\\..\\..\\src\\devices\\pfeiffer\\hipacebus\\hipace300bus.py:408\u001B[39m, in \u001B[36mHiPace300Bus.get_rotationspd_SwP_reached\u001B[39m\u001B[34m(self)\u001B[39m\n\u001B[32m    406\u001B[39m \u001B[38;5;28;01mdef\u001B[39;00m\u001B[38;5;250m \u001B[39m\u001B[34mget_rotationspd_SwP_reached\u001B[39m(\u001B[38;5;28mself\u001B[39m) -> \u001B[38;5;28mstr\u001B[39m:\n\u001B[32m    407\u001B[39m \u001B[38;5;250m    \u001B[39m\u001B[33;03m\"\"\"Rotationspeed switchpointed reached.\"\"\"\u001B[39;00m\n\u001B[32m--> \u001B[39m\u001B[32m408\u001B[39m     response = \u001B[38;5;28mself\u001B[39m._query_channel_parameter(\u001B[33m'\u001B[39m\u001B[33mtc400\u001B[39m\u001B[33m'\u001B[39m, \u001B[32m302\u001B[39m)\n\u001B[32m    409\u001B[39m     \u001B[38;5;28;01mreturn\u001B[39;00m \u001B[38;5;28mself\u001B[39m.data_converter.boolean_old_2_bool(response)\n",
      "\u001B[36mFile \u001B[39m\u001B[32m~\\PycharmProjects\\esibd_bs\\debugging\\notebooks\\..\\..\\src\\devices\\pfeiffer\\hipacebus\\hipace300bus.py:128\u001B[39m, in \u001B[36mHiPace300Bus._query_channel_parameter\u001B[39m\u001B[34m(self, channel, param_num)\u001B[39m\n\u001B[32m    126\u001B[39m     \u001B[38;5;28;01mwith\u001B[39;00m \u001B[38;5;28mself\u001B[39m.thread_lock:  \u001B[38;5;66;03m# Thread-safe communication\u001B[39;00m\n\u001B[32m    127\u001B[39m         \u001B[38;5;28;01mfrom\u001B[39;00m\u001B[38;5;250m \u001B[39m\u001B[34;01m.\u001B[39;00m\u001B[34;01m.\u001B[39;00m\u001B[34;01mpfeifferVacuumProtocol\u001B[39;00m\u001B[38;5;250m \u001B[39m\u001B[38;5;28;01mimport\u001B[39;00m query_data\n\u001B[32m--> \u001B[39m\u001B[32m128\u001B[39m         \u001B[38;5;28;01mreturn\u001B[39;00m query_data(\u001B[38;5;28mself\u001B[39m.serial_connection, device_address, param_num)\n\u001B[32m    129\u001B[39m \u001B[38;5;28;01mexcept\u001B[39;00m \u001B[38;5;167;01mException\u001B[39;00m \u001B[38;5;28;01mas\u001B[39;00m e:\n\u001B[32m    130\u001B[39m     \u001B[38;5;28mself\u001B[39m.logger.error(\u001B[33mf\u001B[39m\u001B[33m\"\u001B[39m\u001B[33mFailed to query channel \u001B[39m\u001B[38;5;132;01m{\u001B[39;00mchannel\u001B[38;5;132;01m}\u001B[39;00m\u001B[33m (addr: \u001B[39m\u001B[38;5;132;01m{\u001B[39;00mdevice_address\u001B[38;5;132;01m}\u001B[39;00m\u001B[33m) parameter \u001B[39m\u001B[38;5;132;01m{\u001B[39;00mparam_num\u001B[38;5;132;01m}\u001B[39;00m\u001B[33m: \u001B[39m\u001B[38;5;132;01m{\u001B[39;00me\u001B[38;5;132;01m}\u001B[39;00m\u001B[33m\"\u001B[39m)\n",
      "\u001B[36mFile \u001B[39m\u001B[32m~\\PycharmProjects\\esibd_bs\\debugging\\notebooks\\..\\..\\src\\devices\\pfeiffer\\pfeifferVacuumProtocol.py:133\u001B[39m, in \u001B[36mquery_data\u001B[39m\u001B[34m(s, addr, param_num, valid_char_filter)\u001B[39m\n\u001B[32m    131\u001B[39m _send_data_request(s, addr, param_num)\n\u001B[32m    132\u001B[39m \u001B[38;5;66;03m# time.sleep(1)\u001B[39;00m\n\u001B[32m--> \u001B[39m\u001B[32m133\u001B[39m raddr, rw, rparam_num, rdata = _read_gauge_response(s, valid_char_filter=valid_char_filter)\n\u001B[32m    136\u001B[39m \u001B[38;5;66;03m# print(f\" rparam_num= {rparam_num}\")\u001B[39;00m\n\u001B[32m    137\u001B[39m \u001B[38;5;66;03m# print(f\" param_num= {param_num}\")\u001B[39;00m\n\u001B[32m    138\u001B[39m \u001B[38;5;66;03m# print(f\" rdata= {rdata}\")\u001B[39;00m\n\u001B[32m    140\u001B[39m \u001B[38;5;28;01mif\u001B[39;00m raddr != addr \u001B[38;5;129;01mor\u001B[39;00m rw != \u001B[32m1\u001B[39m \u001B[38;5;129;01mor\u001B[39;00m rparam_num != param_num:\n",
      "\u001B[36mFile \u001B[39m\u001B[32m~\\PycharmProjects\\esibd_bs\\debugging\\notebooks\\..\\..\\src\\devices\\pfeiffer\\pfeifferVacuumProtocol.py:86\u001B[39m, in \u001B[36m_read_gauge_response\u001B[39m\u001B[34m(s, valid_char_filter)\u001B[39m\n\u001B[32m     81\u001B[39m \u001B[38;5;66;03m# Debugging -> Printing r\u001B[39;00m\n\u001B[32m     82\u001B[39m \u001B[38;5;66;03m# print(f\"r: {r}\")\u001B[39;00m\n\u001B[32m     83\u001B[39m \n\u001B[32m     84\u001B[39m \u001B[38;5;66;03m# Check the length\u001B[39;00m\n\u001B[32m     85\u001B[39m \u001B[38;5;28;01mif\u001B[39;00m \u001B[38;5;28mlen\u001B[39m(r) < \u001B[32m14\u001B[39m:\n\u001B[32m---> \u001B[39m\u001B[32m86\u001B[39m     \u001B[38;5;28;01mraise\u001B[39;00m \u001B[38;5;167;01mValueError\u001B[39;00m(\u001B[33mf\u001B[39m\u001B[33m\"\u001B[39m\u001B[33mgauge response too short to be valid len(r) = \u001B[39m\u001B[38;5;132;01m{\u001B[39;00m\u001B[38;5;28mlen\u001B[39m(r)\u001B[38;5;132;01m}\u001B[39;00m\u001B[33m\"\u001B[39m)\n\u001B[32m     88\u001B[39m \u001B[38;5;66;03m# Check it is terminated correctly\u001B[39;00m\n\u001B[32m     89\u001B[39m \u001B[38;5;28;01mif\u001B[39;00m r[-\u001B[32m1\u001B[39m] != \u001B[33m\"\u001B[39m\u001B[38;5;130;01m\\r\u001B[39;00m\u001B[33m\"\u001B[39m:\n",
      "\u001B[31mValueError\u001B[39m: gauge response too short to be valid len(r) = 0"
     ]
    }
   ],
   "execution_count": 27
  },
  {
   "metadata": {},
   "cell_type": "code",
   "outputs": [],
   "execution_count": null,
   "source": "",
   "id": "4e34f6226af881a"
  }
 ],
 "metadata": {
  "language_info": {
   "name": "python"
  },
  "kernelspec": {
   "name": "python3",
   "language": "python",
   "display_name": "Python 3 (ipykernel)"
  }
 },
 "nbformat": 4,
 "nbformat_minor": 5
}
