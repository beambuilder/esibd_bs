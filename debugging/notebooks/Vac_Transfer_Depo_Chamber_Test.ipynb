{
 "cells": [
  {
   "cell_type": "markdown",
   "id": "7ce6fe49",
   "metadata": {},
   "source": [
    "# Test of HiPace300 Pumps on Transfer and Depo Chamber\n",
    "\n",
    "## Equipment Configuration:\n",
    "- **HiPace300 Pumps**: Connected to Transfer and Deposition Chambers\n",
    "- **HiScroll12**: One unit connected as backing pump\n",
    "- **Pressure Sensors**: Two total sensors connected to both Omnicontrol 300 units\n",
    "\n",
    "## Test Overview:\n",
    "This notebook contains tests and monitoring for the HiPace300 turbo molecular pump system with integrated pressure monitoring and control capabilities."
   ]
  },
  {
   "cell_type": "markdown",
   "id": "2da7dcf8",
   "metadata": {},
   "source": [
    "## 1. Import Required Libraries and Setup\n"
   ]
  },
  {
   "cell_type": "code",
   "id": "a67ba110",
   "metadata": {
    "ExecuteTime": {
     "end_time": "2025-08-14T11:17:58.740914Z",
     "start_time": "2025-08-14T11:17:57.661613Z"
    }
   },
   "source": [
    "import sys\n",
    "import threading\n",
    "import time\n",
    "from datetime import datetime\n",
    "import asyncio\n",
    "from typing import Dict, Optional, Any\n",
    "import pandas as pd\n",
    "import matplotlib.pyplot as plt\n",
    "from IPython.display import display, clear_output\n",
    "import ipywidgets as widgets\n",
    "import pickle\n",
    "\n",
    "from loguru import logger\n",
    "import os\n",
    "from pathlib import Path\n",
    "\n",
    "# Add path to src modules\n",
    "sys.path.append(os.path.join(os.getcwd(), '..', '..', 'src'))\n",
    "\n",
    "# Import current device modules\n",
    "from devices.pfeiffer.hiscroll12.hiscroll12 import HiScroll12\n",
    "from devices.pfeiffer.hipacebus import HiPace300Bus"
   ],
   "outputs": [],
   "execution_count": 1
  },
  {
   "cell_type": "markdown",
   "id": "caeaab51",
   "metadata": {},
   "source": [
    "## 2. Setup Shared Logging System"
   ]
  },
  {
   "cell_type": "code",
   "id": "0d7e795b",
   "metadata": {
    "ExecuteTime": {
     "end_time": "2025-08-14T11:17:59.990432Z",
     "start_time": "2025-08-14T11:17:59.981434Z"
    }
   },
   "source": [
    "# Get the repository root and create shared logs directory\n",
    "repo_root = Path(os.getcwd()).parent.parent\n",
    "log_dir = repo_root / \"debugging\" / \"logs\"\n",
    "log_dir.mkdir(parents=True, exist_ok=True)\n",
    "\n",
    "# Create shared log file for all devices\n",
    "timestamp = datetime.now().strftime(\"%Y%m%d_%H%M%S\")\n",
    "shared_log_file = log_dir / f\"hipace_Transfer_Depo_test_{timestamp}.log\"\n",
    "\n",
    "# Configure shared logger\n",
    "logger.remove()  # Remove default logger\n",
    "\n",
    "# Add console logger with INFO level\n",
    "logger.add(sys.stderr, level=\"INFO\", format=\"{time:YYYY-MM-DD HH:mm:ss} | {level} | {message}\")\n",
    "\n",
    "# Add shared file logger with DEBUG level\n",
    "logger.add(\n",
    "    str(shared_log_file),\n",
    "    level=\"DEBUG\",\n",
    "    format=\"{time:YYYY-MM-DD HH:mm:ss.SSS} | {level} | {name}:{function}:{line} | {message}\",\n",
    "    rotation=\"1 day\",\n",
    "    retention=\"30 days\",\n",
    "    compression=\"zip\"\n",
    ")\n",
    "\n",
    "logger.info(\"Pump Locker Test system initialized with shared logging\")\n",
    "print(f\"Repository root: {repo_root}\")\n",
    "print(f\"Shared logs will be saved to: {shared_log_file}\")"
   ],
   "outputs": [
    {
     "name": "stderr",
     "output_type": "stream",
     "text": [
      "2025-08-14 13:17:59 | INFO | Pump Locker Test system initialized with shared logging\n"
     ]
    },
    {
     "name": "stdout",
     "output_type": "stream",
     "text": [
      "Repository root: C:\\Users\\ESIBDlab\\PycharmProjects\\esibd_bs\n",
      "Shared logs will be saved to: C:\\Users\\ESIBDlab\\PycharmProjects\\esibd_bs\\debugging\\logs\\hipace_Transfer_Depo_test_20250814_131759.log\n"
     ]
    }
   ],
   "execution_count": 2
  },
  {
   "cell_type": "markdown",
   "id": "ccd4255d",
   "metadata": {},
   "source": [
    "# 3. Set COM-Ports & Adresses"
   ]
  },
  {
   "cell_type": "markdown",
   "id": "e630b0d3",
   "metadata": {},
   "source": []
  },
  {
   "cell_type": "code",
   "id": "5898c1b5",
   "metadata": {
    "ExecuteTime": {
     "end_time": "2025-08-14T11:18:02.186960Z",
     "start_time": "2025-08-14T11:18:02.181479Z"
    }
   },
   "source": [
    "# Device configuration dictionaries\n",
    "# Modify these COM ports and addresses according to your actual hardware setup\n",
    "\n",
    "HiScroll12_dict = {\n",
    "    'com_port': 'COM19',\n",
    "    'device_address': 2,\n",
    "    'device_type': 'HiScroll12',\n",
    "    'description': 'Backing pump for HiPace300 systems'\n",
    "}\n",
    "\n",
    "HiPace300_Transfer_dict = {\n",
    "    'com_port': 'COM36',\n",
    "    'device_address': 101,\n",
    "    'omnicontrol_address': 101,\n",
    "    'tc400_address':1,\n",
    "    'gauge1_address': 122,\n",
    "    'device_type': 'HiPace300',\n",
    "    'description': 'Transfer chamber turbo pump'\n",
    "}\n",
    "\n",
    "HiPace300_Depo_dict = {\n",
    "    'com_port': 'COM37',\n",
    "    'device_address': 101,\n",
    "    'omnicontrol_address': 101,\n",
    "    'tc400_address':1,\n",
    "    'gauge1_address': 122,\n",
    "    'device_type': 'HiPace300', \n",
    "    'description': 'Deposition chamber turbo pump'\n",
    "}\n",
    "\n",
    "# Print configuration summary\n",
    "print(\"Device Configuration Summary:\")\n",
    "print(\"=\" * 40)\n",
    "print(f\"HiScroll12 (Backing pump):\")\n",
    "print(f\"  COM Port: {HiScroll12_dict['com_port']}\")\n",
    "print(f\"  Address: {HiScroll12_dict['device_address']}\")\n",
    "print(f\"  Description: {HiScroll12_dict['description']}\")\n",
    "\n",
    "print(f\"\\nHiPace300 Transfer:\")\n",
    "print(f\"  COM Port: {HiPace300_Transfer_dict['com_port']}\")\n",
    "print(f\"  Address: {HiPace300_Transfer_dict['device_address']}\")\n",
    "print(f\"  Description: {HiPace300_Transfer_dict['description']}\")\n",
    "\n",
    "print(f\"\\nHiPace300 Depo:\")\n",
    "print(f\"  COM Port: {HiPace300_Depo_dict['com_port']}\")\n",
    "print(f\"  Address: {HiPace300_Depo_dict['device_address']}\")\n",
    "print(f\"  Description: {HiPace300_Depo_dict['description']}\")\n",
    "\n",
    "print(\"\\n✅ Device dictionaries configured successfully\")"
   ],
   "outputs": [
    {
     "name": "stdout",
     "output_type": "stream",
     "text": [
      "Device Configuration Summary:\n",
      "========================================\n",
      "HiScroll12 (Backing pump):\n",
      "  COM Port: COM19\n",
      "  Address: 2\n",
      "  Description: Backing pump for HiPace300 systems\n",
      "\n",
      "HiPace300 Transfer:\n",
      "  COM Port: COM36\n",
      "  Address: 101\n",
      "  Description: Transfer chamber turbo pump\n",
      "\n",
      "HiPace300 Depo:\n",
      "  COM Port: COM37\n",
      "  Address: 101\n",
      "  Description: Deposition chamber turbo pump\n",
      "\n",
      "✅ Device dictionaries configured successfully\n"
     ]
    }
   ],
   "execution_count": 3
  },
  {
   "cell_type": "markdown",
   "id": "f7b1d3db",
   "metadata": {},
   "source": [
    "# 4. Connect Devices"
   ]
  },
  {
   "cell_type": "code",
   "id": "02b40794",
   "metadata": {
    "ExecuteTime": {
     "end_time": "2025-08-14T11:18:11.330040Z",
     "start_time": "2025-08-14T11:18:11.308926Z"
    }
   },
   "source": [
    "# Initialize and connect HiScroll12\n",
    "hiscroll = HiScroll12(\n",
    "    device_id=\"hiscroll12\",\n",
    "    port=HiScroll12_dict['com_port'],\n",
    "    device_address=HiScroll12_dict['device_address'],\n",
    "    logger=logger\n",
    ")\n",
    "hiscroll.connect()\n",
    "print(f\"✅ HiScroll12 connected on {HiScroll12_dict['com_port']}\")"
   ],
   "outputs": [
    {
     "name": "stderr",
     "output_type": "stream",
     "text": [
      "2025-08-14 13:18:11 | INFO | Connecting to Pfeiffer device hiscroll12 on COM19\n",
      "2025-08-14 13:18:11 | INFO | Successfully connected to device at address 2\n"
     ]
    },
    {
     "name": "stdout",
     "output_type": "stream",
     "text": [
      "✅ HiScroll12 connected on COM19\n"
     ]
    }
   ],
   "execution_count": 4
  },
  {
   "cell_type": "code",
   "id": "62238c4d",
   "metadata": {
    "ExecuteTime": {
     "end_time": "2025-08-14T11:18:12.906179Z",
     "start_time": "2025-08-14T11:18:12.886114Z"
    }
   },
   "source": [
    "# Initialize and connect HiPace300 Transfer\n",
    "hipace_transfer = HiPace300Bus(\n",
    "    device_id=\"hipace_transfer\",\n",
    "    port=HiPace300_Transfer_dict['com_port'],\n",
    "    device_address=HiPace300_Transfer_dict['device_address'],\n",
    "    omnicontrol_address=HiPace300_Transfer_dict['omnicontrol_address'],\n",
    "    tc400_address=HiPace300_Transfer_dict['tc400_address'],\n",
    "    gauge1_address=HiPace300_Transfer_dict['gauge1_address'],\n",
    "    logger=logger\n",
    ")\n",
    "\n",
    "hipace_transfer.connect()\n",
    "print(f\"✅ HiPace300 Transfer connected on {HiPace300_Transfer_dict['com_port']}\")"
   ],
   "outputs": [
    {
     "name": "stderr",
     "output_type": "stream",
     "text": [
      "2025-08-14 13:18:12 | INFO | Connecting to Pfeiffer device hipace_transfer on COM36\n",
      "2025-08-14 13:18:12 | INFO | Successfully connected to device at address 101\n"
     ]
    },
    {
     "name": "stdout",
     "output_type": "stream",
     "text": [
      "✅ HiPace300 Transfer connected on COM36\n"
     ]
    }
   ],
   "execution_count": 5
  },
  {
   "cell_type": "code",
   "id": "99bcc566",
   "metadata": {
    "ExecuteTime": {
     "end_time": "2025-08-14T11:18:14.310604Z",
     "start_time": "2025-08-14T11:18:14.292348Z"
    }
   },
   "source": [
    "# Initialize and connect HiPace300 Depo\n",
    "hipace_depo = HiPace300Bus(\n",
    "    device_id=\"hipace_depo\",\n",
    "    port=HiPace300_Depo_dict['com_port'],\n",
    "    device_address=HiPace300_Depo_dict['device_address'],\n",
    "    omnicontrol_address=HiPace300_Depo_dict['omnicontrol_address'],\n",
    "    tc400_address=HiPace300_Depo_dict['tc400_address'],\n",
    "    gauge1_address=HiPace300_Depo_dict['gauge1_address'],\n",
    "    logger=logger\n",
    ")\n",
    "\n",
    "hipace_depo.connect()\n",
    "print(f\"✅ HiPace300 Depo connected on {HiPace300_Depo_dict['com_port']}\")"
   ],
   "outputs": [
    {
     "name": "stderr",
     "output_type": "stream",
     "text": [
      "2025-08-14 13:18:14 | INFO | Connecting to Pfeiffer device hipace_depo on COM37\n",
      "2025-08-14 13:18:14 | INFO | Successfully connected to device at address 101\n"
     ]
    },
    {
     "name": "stdout",
     "output_type": "stream",
     "text": [
      "✅ HiPace300 Depo connected on COM37\n"
     ]
    }
   ],
   "execution_count": 6
  },
  {
   "cell_type": "markdown",
   "id": "7c86a442",
   "metadata": {},
   "source": [
    "# 5. Debugging/Testing Connection manually"
   ]
  },
  {
   "cell_type": "code",
   "id": "4e34f6226af881a",
   "metadata": {
    "ExecuteTime": {
     "end_time": "2025-08-14T11:18:19.885413Z",
     "start_time": "2025-08-14T11:18:17.277760Z"
    }
   },
   "source": [
    "hiscroll.hk_monitor()\n",
    "hipace_depo.hk_monitor()\n",
    "hipace_transfer.hk_monitor()"
   ],
   "outputs": [
    {
     "name": "stderr",
     "output_type": "stream",
     "text": [
      "2025-08-14 13:18:17 | INFO | hiscroll12//COM19//Pump_Enabled=False//\n",
      "2025-08-14 13:18:17 | INFO | hiscroll12//COM19//Standby_Mode=False//\n",
      "2025-08-14 13:18:17 | INFO | hiscroll12//COM19//Speed_RPM=0//RPM\n",
      "2025-08-14 13:18:17 | INFO | hiscroll12//COM19//Speed_Hz=0//Hz\n",
      "2025-08-14 13:18:17 | INFO | hiscroll12//COM19//Temp_Motor=28//degC\n",
      "2025-08-14 13:18:17 | INFO | hiscroll12//COM19//Temp_Electronics=33//degC\n",
      "2025-08-14 13:18:17 | INFO | hiscroll12//COM19//Temp_Power_Stage=28//degC\n",
      "2025-08-14 13:18:17 | INFO | hiscroll12//COM19//Drive_Current=0.0//A\n",
      "2025-08-14 13:18:17 | INFO | hiscroll12//COM19//Drive_Voltage=399.92//V\n",
      "2025-08-14 13:18:17 | INFO | hiscroll12//COM19//Drive_Power=0//W\n",
      "2025-08-14 13:18:17 | INFO | hipace_depo//COM37//Pump_Station_Enabled=False//\n",
      "2025-08-14 13:18:17 | INFO | hipace_depo//COM37//Standby_Mode=False//\n",
      "2025-08-14 13:18:17 | INFO | hipace_depo//COM37//Motor_Pump_Enabled=False//\n",
      "2025-08-14 13:18:17 | INFO | hipace_depo//COM37//Vent_Enabled=False//\n",
      "2025-08-14 13:18:18 | INFO | hipace_depo//COM37//Speed_Actual_Hz=0//Hz\n",
      "2025-08-14 13:18:18 | INFO | hipace_depo//COM37//Speed_Actual_RPM=0//RPM\n",
      "2025-08-14 13:18:18 | INFO | hipace_depo//COM37//Speed_Set_Hz=1000//Hz\n",
      "2025-08-14 13:18:18 | INFO | hipace_depo//COM37//Target_Speed_Reached=False//\n",
      "2025-08-14 13:18:18 | INFO | hipace_depo//COM37//Pump_Accelerating=False//\n",
      "2025-08-14 13:18:18 | INFO | hipace_depo//COM37//Drive_Current=0.0//A\n",
      "2025-08-14 13:18:18 | INFO | hipace_depo//COM37//Drive_Voltage=23.22//V\n",
      "2025-08-14 13:18:18 | INFO | hipace_depo//COM37//Drive_Power=0//W\n",
      "2025-08-14 13:18:18 | INFO | hipace_depo//COM37//Temp_Electronics=30//°C\n",
      "2025-08-14 13:18:18 | INFO | hipace_depo//COM37//Temp_Pump_Bottom=29//°C\n",
      "2025-08-14 13:18:18 | INFO | hipace_depo//COM37//Temp_Bearing=28//°C\n",
      "2025-08-14 13:18:18 | INFO | hipace_depo//COM37//Temp_Motor=28//°C\n",
      "2025-08-14 13:18:18 | INFO | hipace_depo//COM37//Overtemp_Electronics=False//\n",
      "2025-08-14 13:18:18 | INFO | hipace_depo//COM37//Overtemp_Pump=False//\n",
      "2025-08-14 13:18:18 | INFO | hipace_depo//COM37//Seal_Gas_Flow=0//sccm\n",
      "2025-08-14 13:18:18 | INFO | hipace_depo//COM37//Operating_Hours_Pump=5//h\n",
      "2025-08-14 13:18:18 | INFO | hipace_depo//COM37//Operating_Hours_Electronics=9//h\n",
      "2025-08-14 13:18:18 | INFO | hipace_depo//COM37//Gauge_Pressure=0.0//hPa\n",
      "2025-08-14 13:18:18 | INFO | hipace_transfer//COM36//Pump_Station_Enabled=False//\n",
      "2025-08-14 13:18:18 | INFO | hipace_transfer//COM36//Standby_Mode=False//\n",
      "2025-08-14 13:18:18 | INFO | hipace_transfer//COM36//Motor_Pump_Enabled=False//\n",
      "2025-08-14 13:18:19 | INFO | hipace_transfer//COM36//Vent_Enabled=False//\n",
      "2025-08-14 13:18:19 | INFO | hipace_transfer//COM36//Speed_Actual_Hz=0//Hz\n",
      "2025-08-14 13:18:19 | INFO | hipace_transfer//COM36//Speed_Actual_RPM=0//RPM\n",
      "2025-08-14 13:18:19 | INFO | hipace_transfer//COM36//Speed_Set_Hz=1000//Hz\n",
      "2025-08-14 13:18:19 | INFO | hipace_transfer//COM36//Target_Speed_Reached=False//\n",
      "2025-08-14 13:18:19 | INFO | hipace_transfer//COM36//Pump_Accelerating=False//\n",
      "2025-08-14 13:18:19 | INFO | hipace_transfer//COM36//Drive_Current=0.0//A\n",
      "2025-08-14 13:18:19 | INFO | hipace_transfer//COM36//Drive_Voltage=23.28//V\n",
      "2025-08-14 13:18:19 | INFO | hipace_transfer//COM36//Drive_Power=0//W\n",
      "2025-08-14 13:18:19 | INFO | hipace_transfer//COM36//Temp_Electronics=29//°C\n",
      "2025-08-14 13:18:19 | INFO | hipace_transfer//COM36//Temp_Pump_Bottom=28//°C\n",
      "2025-08-14 13:18:19 | INFO | hipace_transfer//COM36//Temp_Bearing=28//°C\n",
      "2025-08-14 13:18:19 | INFO | hipace_transfer//COM36//Temp_Motor=28//°C\n",
      "2025-08-14 13:18:19 | INFO | hipace_transfer//COM36//Overtemp_Electronics=False//\n",
      "2025-08-14 13:18:19 | INFO | hipace_transfer//COM36//Overtemp_Pump=False//\n",
      "2025-08-14 13:18:19 | INFO | hipace_transfer//COM36//Seal_Gas_Flow=0//sccm\n",
      "2025-08-14 13:18:19 | INFO | hipace_transfer//COM36//Operating_Hours_Pump=3//h\n",
      "2025-08-14 13:18:19 | INFO | hipace_transfer//COM36//Operating_Hours_Electronics=8//h\n",
      "2025-08-14 13:18:19 | INFO | hipace_transfer//COM36//Gauge_Pressure=1010.9999999999999//hPa\n"
     ]
    }
   ],
   "execution_count": 7
  },
  {
   "cell_type": "markdown",
   "id": "6afb6dc3",
   "metadata": {},
   "source": [
    "# 6. Start Housekeeping for All Pumps"
   ]
  },
  {
   "cell_type": "code",
   "id": "aefd5e41",
   "metadata": {
    "ExecuteTime": {
     "end_time": "2025-08-14T11:18:38.643674Z",
     "start_time": "2025-08-14T11:18:38.631377Z"
    }
   },
   "source": [
    "# Start housekeeping for all pumps\n",
    "hiscroll.start_housekeeping()\n",
    "hipace_transfer.start_housekeeping()\n",
    "hipace_depo.start_housekeeping()\n",
    "\n",
    "print(\"✅ Housekeeping started for all pumps:\")\n",
    "print(\"  - HiScroll12\")\n",
    "print(\"  - HiPace300 Transfer\")\n",
    "print(\"  - HiPace300 Depo\")"
   ],
   "outputs": [
    {
     "name": "stderr",
     "output_type": "stream",
     "text": [
      "2025-08-14 13:18:38 | INFO | Using external logger - no additional file logging needed\n",
      "2025-08-14 13:18:38 | INFO | Housekeeping worker started for hiscroll12\n",
      "2025-08-14 13:18:38 | INFO | Housekeeping started (internal mode) - interval: 30.0s\n",
      "2025-08-14 13:18:38 | INFO | Using external logger - no additional file logging needed\n",
      "2025-08-14 13:18:38 | INFO | Housekeeping worker started for hipace_transfer\n",
      "2025-08-14 13:18:38 | INFO | Housekeeping started (internal mode) - interval: 1.0s\n",
      "2025-08-14 13:18:38 | INFO | Using external logger - no additional file logging needed\n",
      "2025-08-14 13:18:38 | INFO | Housekeeping worker started for hipace_depo\n",
      "2025-08-14 13:18:38 | INFO | Housekeeping started (internal mode) - interval: 1.0s\n"
     ]
    },
    {
     "name": "stdout",
     "output_type": "stream",
     "text": [
      "✅ Housekeeping started for all pumps:\n",
      "  - HiScroll12\n",
      "  - HiPace300 Transfer\n",
      "  - HiPace300 Depo\n"
     ]
    }
   ],
   "execution_count": 8
  },
  {
   "metadata": {},
   "cell_type": "code",
   "source": [
    "hiscroll.stop_housekeeping()\n",
    "hipace_transfer.stop_housekeeping()\n",
    "hipace_depo.stop_housekeeping()"
   ],
   "id": "3fcc132fde865c84",
   "outputs": [],
   "execution_count": null
  },
  {
   "metadata": {
    "ExecuteTime": {
     "end_time": "2025-08-14T11:19:07.576823Z",
     "start_time": "2025-08-14T11:19:07.529292Z"
    }
   },
   "cell_type": "code",
   "source": "hipace_depo.get_SensOnOff()",
   "id": "aca8fb5d7f23a2bd",
   "outputs": [
    {
     "data": {
      "text/plain": [
       "0"
      ]
     },
     "execution_count": 10,
     "metadata": {},
     "output_type": "execute_result"
    }
   ],
   "execution_count": 10
  },
  {
   "cell_type": "markdown",
   "id": "f994256b",
   "metadata": {},
   "source": [
    "# 7. Live Plotting - Multi-Pump Visualization"
   ]
  },
  {
   "cell_type": "code",
   "id": "0bcb1ba4",
   "metadata": {
    "ExecuteTime": {
     "end_time": "2025-08-14T11:19:14.928481Z",
     "start_time": "2025-08-14T11:19:14.911849Z"
    }
   },
   "source": [
    "import matplotlib.pyplot as plt\n",
    "from matplotlib.animation import FuncAnimation\n",
    "import numpy as np\n",
    "from collections import deque\n",
    "\n",
    "class MultiPumpPlotter:\n",
    "    def __init__(self, update_interval=2000):\n",
    "        self.update_interval = update_interval\n",
    "        \n",
    "        # Data storage (keep last 100 points)\n",
    "        self.timestamps = deque(maxlen=100)\n",
    "        self.hiscroll_temp = deque(maxlen=100)\n",
    "        self.hiscroll_power = deque(maxlen=100)\n",
    "        \n",
    "        self.hipace_t_temp = deque(maxlen=100)\n",
    "        self.hipace_t_power = deque(maxlen=100)\n",
    "        self.hipace_t_rpm = deque(maxlen=100)\n",
    "        self.hipace_t_pressure = deque(maxlen=100)\n",
    "        \n",
    "        self.hipace_d_temp = deque(maxlen=100)\n",
    "        self.hipace_d_power = deque(maxlen=100)\n",
    "        self.hipace_d_rpm = deque(maxlen=100)\n",
    "        self.hipace_d_pressure = deque(maxlen=100)\n",
    "        \n",
    "        # Create figure with 2x2 subplots\n",
    "        self.fig, ((self.ax1, self.ax2), (self.ax3, self.ax4)) = plt.subplots(2, 2, figsize=(15, 10))\n",
    "\n",
    "    \n",
    "    def update_plot(self, frame):\n",
    "        try:\n",
    "            current_time = datetime.now()\n",
    "            self.timestamps.append(current_time)\n",
    "            \n",
    "            # HiScroll12 data\n",
    "            self.hiscroll_temp.append(hiscroll.get_temp_motor())\n",
    "            self.hiscroll_power.append(hiscroll.get_drive_power())\n",
    "            \n",
    "            # HiPace Transfer data\n",
    "            self.hipace_t_temp.append(hipace_transfer.get_motor_temperature())\n",
    "            self.hipace_t_power.append(hipace_transfer.get_drive_power())\n",
    "            self.hipace_t_rpm.append(hipace_transfer.get_actual_speed_rpm())\n",
    "            self.hipace_t_pressure.append(hipace_transfer.get_gauge_pressure())\n",
    "            \n",
    "            # HiPace Depo data\n",
    "            self.hipace_d_temp.append(hipace_depo.get_motor_temperature())\n",
    "            self.hipace_d_power.append(hipace_depo.get_drive_power())\n",
    "            self.hipace_d_rpm.append(hipace_depo.get_actual_speed_rpm())\n",
    "            self.hipace_d_pressure.append(hipace_depo.get_gauge_pressure())\n",
    "            \n",
    "        except Exception as e:\n",
    "            logger.warning(f\"Data collection error: {e}\")\n",
    "            return\n",
    "        \n",
    "        # Clear only the axes, not the entire figure\n",
    "        self.ax1.clear()\n",
    "        self.ax2.clear()\n",
    "        self.ax3.clear()\n",
    "        self.ax4.clear()\n",
    "        \n",
    "        # Convert deques to lists for reliable plotting\n",
    "        times = list(self.timestamps)\n",
    "        hiscroll_temps = list(self.hiscroll_temp)\n",
    "        hiscroll_powers = list(self.hiscroll_power)\n",
    "        hipace_t_temps = list(self.hipace_t_temp)\n",
    "        hipace_t_powers = list(self.hipace_t_power)\n",
    "        hipace_t_rpms = list(self.hipace_t_rpm)\n",
    "        hipace_t_pressures = list(self.hipace_t_pressure)\n",
    "        hipace_d_temps = list(self.hipace_d_temp)\n",
    "        hipace_d_powers = list(self.hipace_d_power)\n",
    "        hipace_d_rpms = list(self.hipace_d_rpm)\n",
    "        hipace_d_pressures = list(self.hipace_d_pressure)\n",
    "        \n",
    "        # Only plot if we have data\n",
    "        if not times:\n",
    "            return\n",
    "        try:\n",
    "            # Plot 1: Temperature & Power (HiScroll + HiPace)\n",
    "            self.ax1.plot(times, hiscroll_temps, 'b-', label='HiScroll Temp', marker='o')\n",
    "            self.ax1.plot(times, hipace_t_temps, 'r-', label='HiPace-T Temp', marker='s')\n",
    "            self.ax1.plot(times, hipace_d_temps, 'g-', label='HiPace-D Temp', marker='^')\n",
    "            #ax1_twin = self.ax1.twinx()\n",
    "            #ax1_twin.plot(times, hiscroll_powers, 'b--', alpha=0.7, label='HiScroll Power')\n",
    "            #ax1_twin.plot(times, hipace_t_powers, 'r--', alpha=0.7, label='HiPace-T Power')\n",
    "            #ax1_twin.plot(times, hipace_d_powers, 'g--', alpha=0.7, label='HiPace-D Power')\n",
    "            self.ax1.set_ylabel('Temperature (°C)')\n",
    "            #ax1_twin.set_ylabel('Power (W)')\n",
    "            self.ax1.set_title('Temperature & Power')\n",
    "            self.ax1.legend(loc='upper left')\n",
    "            #ax1_twin.legend(loc='upper right')\n",
    "            self.ax1.grid(True)\n",
    "\n",
    "            # Plot 2: HiPace Rotation Speed\n",
    "            self.ax2.plot(times, hipace_t_rpms, 'r-', label='Transfer RPM', marker='s')\n",
    "            self.ax2.plot(times, hipace_d_rpms, 'g-', label='Depo RPM', marker='^')\n",
    "            self.ax2.set_ylabel('RPM')\n",
    "            self.ax2.set_title('HiPace300 Rotation Speed')\n",
    "            self.ax2.legend()\n",
    "            self.ax2.grid(True)\n",
    "\n",
    "            # Plot 3: Pressure (Log scale)\n",
    "            self.ax3.plot(times, hipace_t_pressures, 'r-', label='Transfer Pressure', marker='s')\n",
    "            self.ax3.plot(times, hipace_d_pressures, 'g-', label='Depo Pressure', marker='^')\n",
    "            self.ax3.set_yscale('log')\n",
    "            self.ax3.set_ylabel('Pressure (log scale)')\n",
    "            self.ax3.set_title('Chamber Pressures')\n",
    "            self.ax3.legend()\n",
    "            self.ax3.grid(True)\n",
    "\n",
    "            # Plot 4: Power Comparison\n",
    "            self.ax4.plot(times, hiscroll_powers, 'b-', label='HiScroll Power', marker='o')\n",
    "            self.ax4.plot(times, hipace_t_powers, 'r-', label='HiPace-T Power', marker='s')\n",
    "            self.ax4.plot(times, hipace_d_powers, 'g-', label='HiPace-D Power', marker='^')\n",
    "            self.ax4.set_ylabel('Power (W)')\n",
    "            self.ax4.set_xlabel('Time')\n",
    "            self.ax4.set_title('Power Consumption Comparison')\n",
    "            self.ax4.legend()\n",
    "            self.ax4.grid(True)\n",
    "\n",
    "        except Exception as e:\n",
    "            print(\"failed plotting\")\n",
    "        \n",
    "        # Format all plots\n",
    "        for ax in [self.ax1, self.ax2, self.ax3, self.ax4]:\n",
    "            ax.tick_params(axis='x', rotation=45)\n",
    "        \n",
    "        self.fig.tight_layout()\n",
    "    \n",
    "    def start_live_plot(self):\n",
    "        self.ani = FuncAnimation(\n",
    "            self.fig,\n",
    "            self.update_plot,\n",
    "            interval=self.update_interval,\n",
    "            blit=False,\n",
    "            cache_frame_data=False\n",
    "        )\n",
    "\n",
    "        plt.show()\n",
    "        print(\"Live plotting started - Close window to stop\")\n",
    "\n",
    "        #return self.timestamps, self.hiscroll_temp, self.hipace_t_temp, self.hipace_d_temp, self.hiscroll_power, self.hipace_t_power, self.hipace_d_power\n",
    "    \n",
    "    def stop_live_plot(self):\n",
    "        if hasattr(self, 'ani'):\n",
    "            self.ani.event_source.stop()\n",
    "            print(\"Live plotting stopped.\")\n",
    "        else:\n",
    "            print(\"No animation to stop.\")\n",
    "\n",
    "print(\"✅ Multi-pump plotter class ready\")\n"
   ],
   "outputs": [
    {
     "name": "stdout",
     "output_type": "stream",
     "text": [
      "✅ Multi-pump plotter class ready\n"
     ]
    }
   ],
   "execution_count": 11
  },
  {
   "metadata": {
    "ExecuteTime": {
     "end_time": "2025-08-14T12:13:31.338850Z",
     "start_time": "2025-08-14T12:13:31.277203Z"
    }
   },
   "cell_type": "code",
   "source": "hiscroll.enable_pump()",
   "id": "73149d4261cf4d26",
   "outputs": [],
   "execution_count": 17
  },
  {
   "metadata": {
    "ExecuteTime": {
     "end_time": "2025-08-14T12:45:34.437530Z",
     "start_time": "2025-08-14T12:45:34.383080Z"
    }
   },
   "cell_type": "code",
   "source": "hiscroll.disable_pump()",
   "id": "54c8ba244d5ed095",
   "outputs": [],
   "execution_count": 22
  },
  {
   "cell_type": "code",
   "id": "265d5b53d91fd160",
   "metadata": {
    "ExecuteTime": {
     "end_time": "2025-08-14T11:19:16.732893Z",
     "start_time": "2025-08-14T11:19:16.714554Z"
    }
   },
   "source": [
    "%matplotlib notebook"
   ],
   "outputs": [],
   "execution_count": 12
  },
  {
   "cell_type": "code",
   "id": "7852041f",
   "metadata": {},
   "source": [
    "# Create and start live plotting\n",
    "plotter = MultiPumpPlotter(update_interval=1000)  # Update every 2 seconds\n",
    "plotter.start_live_plot()\n",
    "\n",
    "# To stop plotting later, run: plotter.stop_live_plot()"
   ],
   "outputs": [],
   "execution_count": null
  },
  {
   "cell_type": "code",
   "id": "9ce77083e3417423",
   "metadata": {
    "ExecuteTime": {
     "end_time": "2025-08-14T12:45:45.273081Z",
     "start_time": "2025-08-14T12:45:45.269676Z"
    }
   },
   "source": [
    "plotter.stop_live_plot()"
   ],
   "outputs": [
    {
     "name": "stdout",
     "output_type": "stream",
     "text": [
      "Live plotting stopped.\n"
     ]
    }
   ],
   "execution_count": 23
  },
  {
   "metadata": {},
   "cell_type": "markdown",
   "source": "# 8. Disconnect",
   "id": "506362e482d78edf"
  },
  {
   "metadata": {
    "ExecuteTime": {
     "end_time": "2025-08-14T12:45:49.706577Z",
     "start_time": "2025-08-14T12:45:47.521266Z"
    }
   },
   "cell_type": "code",
   "source": [
    "hiscroll.disconnect()\n",
    "hipace_transfer.disconnect()\n",
    "hipace_depo.disconnect()"
   ],
   "id": "b94cfe47b38a6294",
   "outputs": [
    {
     "name": "stderr",
     "output_type": "stream",
     "text": [
      "2025-08-14 14:45:47 | INFO | Housekeeping stopped (internal mode)\n",
      "2025-08-14 14:45:47 | INFO | Disconnected from Pfeiffer device hiscroll12\n",
      "2025-08-14 14:45:48 | INFO | Housekeeping stopped (internal mode)\n",
      "2025-08-14 14:45:48 | INFO | Disconnected from Pfeiffer device hipace_transfer\n",
      "2025-08-14 14:45:49 | INFO | Housekeeping stopped (internal mode)\n",
      "2025-08-14 14:45:49 | INFO | Disconnected from Pfeiffer device hipace_depo\n"
     ]
    },
    {
     "data": {
      "text/plain": [
       "True"
      ]
     },
     "execution_count": 24,
     "metadata": {},
     "output_type": "execute_result"
    }
   ],
   "execution_count": 24
  },
  {
   "metadata": {},
   "cell_type": "code",
   "outputs": [],
   "execution_count": null,
   "source": "",
   "id": "944f7f61eec54e06"
  }
 ],
 "metadata": {
  "kernelspec": {
   "display_name": "Python 3 (ipykernel)",
   "language": "python",
   "name": "python3"
  },
  "language_info": {
   "name": "python"
  }
 },
 "nbformat": 4,
 "nbformat_minor": 5
}
