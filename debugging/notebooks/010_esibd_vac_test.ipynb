{
 "cells": [
  {
   "cell_type": "markdown",
   "id": "2f9777df",
   "metadata": {},
   "source": [
    "# Complete ESIBD Pressure Chain Test\n",
    "\n",
    "This notebook provides comprehensive control and monitoring for the complete ESIBD instrument pressure chain.\n",
    "\n",
    "## Equipment Configuration:\n",
    "- **HiScroll Pumps**: 2 units (HiScroll1, HiScroll2) as backing pumps\n",
    "- **HiPace300 Pumps**: 2 units (Transfer Chamber, Deposition Chamber)\n",
    "- **HiPace450 Pump**: 1 unit (main high vacuum pump)\n",
    "- **TPG366**: Pressure controller with 5 pressure sensors\n",
    "- **Chiller**: 1 cooling unit\n",
    "\n",
    "## Features:\n",
    "- Individual pump control (turn on/off each pump separately)\n",
    "- Live monitoring with multiple synchronized plots\n",
    "- Pressure monitoring (5 sensors with shared time axis)\n",
    "- Temperature monitoring (HiScrolls and HiPaces separately)\n",
    "- Data logging with timestamps\n",
    "- Shared logging system using loguru"
   ]
  },
  {
   "cell_type": "markdown",
   "id": "8b5c1dd8",
   "metadata": {},
   "source": [
    "## 1. Import Required Libraries and Setup"
   ]
  },
  {
   "cell_type": "code",
   "execution_count": 1,
   "id": "878a3804",
   "metadata": {
    "ExecuteTime": {
     "end_time": "2025-10-09T08:12:36.992414Z",
     "start_time": "2025-10-09T08:12:36.141724Z"
    }
   },
   "outputs": [
    {
     "name": "stdout",
     "output_type": "stream",
     "text": [
      "✅ All libraries and device modules imported successfully\n"
     ]
    }
   ],
   "source": [
    "import sys\n",
    "import threading\n",
    "import time\n",
    "from datetime import datetime\n",
    "import asyncio\n",
    "from typing import Dict, Optional, Any\n",
    "import pandas as pd\n",
    "import matplotlib.pyplot as plt\n",
    "from IPython.display import display, clear_output\n",
    "import ipywidgets as widgets\n",
    "import pickle\n",
    "from collections import deque\n",
    "\n",
    "from loguru import logger\n",
    "import os\n",
    "from pathlib import Path\n",
    "\n",
    "# Add path to src modules\n",
    "sys.path.append(os.path.join(os.getcwd(), '..', '..', 'src'))\n",
    "\n",
    "# Import device modules\n",
    "from devices.pfeiffer.hiscroll12.hiscroll12 import HiScroll12\n",
    "from devices.pfeiffer.hipacebus import HiPace300Bus\n",
    "from devices.pfeiffer.tpg366.tpg366 import TPG366\n",
    "from devices.chiller.chiller import Chiller\n",
    "\n",
    "print(\"✅ All libraries and device modules imported successfully\")"
   ]
  },
  {
   "cell_type": "markdown",
   "id": "d78a6833",
   "metadata": {},
   "source": [
    "## 2. Setup Shared Logging System"
   ]
  },
  {
   "cell_type": "code",
   "execution_count": 2,
   "id": "3ef2c1ef",
   "metadata": {
    "ExecuteTime": {
     "end_time": "2025-10-09T08:12:37.738517Z",
     "start_time": "2025-10-09T08:12:37.729607Z"
    }
   },
   "outputs": [
    {
     "name": "stderr",
     "output_type": "stream",
     "text": [
      "2025-10-09 10:12:37 | INFO | ESIBD Pressure Chain Test system initialized with shared logging\n"
     ]
    },
    {
     "name": "stdout",
     "output_type": "stream",
     "text": [
      "Repository root: C:\\Users\\ESIBDlab\\PycharmProjects\\esibd_bs\n",
      "Shared logs will be saved to: C:\\Users\\ESIBDlab\\PycharmProjects\\esibd_bs\\debugging\\logs\\esibd_pressure_chain_20251009_101237.log\n"
     ]
    }
   ],
   "source": [
    "# Get the repository root and create shared logs directory\n",
    "repo_root = Path(os.getcwd()).parent.parent\n",
    "log_dir = repo_root / \"debugging\" / \"logs\"\n",
    "log_dir.mkdir(parents=True, exist_ok=True)\n",
    "\n",
    "# Create shared log file for all devices\n",
    "timestamp = datetime.now().strftime(\"%Y%m%d_%H%M%S\")\n",
    "shared_log_file = log_dir / f\"esibd_pressure_chain_{timestamp}.log\"\n",
    "\n",
    "# Configure shared logger\n",
    "logger.remove()  # Remove default logger\n",
    "\n",
    "# Add console logger with INFO level\n",
    "logger.add(sys.stderr, level=\"INFO\", format=\"{time:YYYY-MM-DD HH:mm:ss} | {level} | {message}\")\n",
    "\n",
    "# Add shared file logger with DEBUG level\n",
    "logger.add(\n",
    "    str(shared_log_file),\n",
    "    level=\"DEBUG\",\n",
    "    format=\"{time:YYYY-MM-DD HH:mm:ss.SSS} | {level} | {name}:{function}:{line} | {message}\",\n",
    "    rotation=\"1 day\",\n",
    "    retention=\"30 days\",\n",
    "    compression=\"zip\"\n",
    ")\n",
    "\n",
    "logger.info(\"ESIBD Pressure Chain Test system initialized with shared logging\")\n",
    "print(f\"Repository root: {repo_root}\")\n",
    "print(f\"Shared logs will be saved to: {shared_log_file}\")"
   ]
  },
  {
   "cell_type": "markdown",
   "id": "c987639e",
   "metadata": {},
   "source": [
    "## 3. Device Configuration (COM Ports & Addresses)"
   ]
  },
  {
   "cell_type": "code",
   "execution_count": 3,
   "id": "c564e98d",
   "metadata": {
    "ExecuteTime": {
     "end_time": "2025-10-09T08:12:39.756553Z",
     "start_time": "2025-10-09T08:12:39.749823Z"
    }
   },
   "outputs": [
    {
     "name": "stdout",
     "output_type": "stream",
     "text": [
      "============================================================\n",
      "ESIBD PRESSURE CHAIN - DEVICE CONFIGURATION\n",
      "============================================================\n",
      "HiScroll2: COM21 @ Address 2\n",
      "HiPace300 Transfer: COM43 @ Address 101\n",
      "HiPace300 Depo: COM37 @ Address 101\n",
      "HiPace450: COM19 @ Address 101 (placeholder)\n",
      "TPG366: COM22 @ Address 10 (5 sensors)\n",
      "Chiller: COM39 @ Address 1\n",
      "\n",
      "✅ Device dictionaries configured successfully\n"
     ]
    }
   ],
   "source": [
    "# Device configuration dictionaries\n",
    "# Modify these COM ports and addresses according to your actual hardware setup\n",
    "\n",
    "# HiScroll backing pumps\n",
    "#HiScroll1_dict = {\n",
    "#    'com_port': 'COM19',\n",
    "#    'device_address': 2,\n",
    "#    'device_type': 'HiScroll12',\n",
    "#    'description': 'Backing pump 1'\n",
    "#}\n",
    "\n",
    "HiScroll2_dict = {\n",
    "    'com_port': 'COM21',\n",
    "    'device_address': 2,\n",
    "    'device_type': 'HiScroll12',\n",
    "    'description': 'Backing pump 2'\n",
    "}\n",
    "\n",
    "# HiPace300 turbo pumps\n",
    "HiPace300_Transfer_dict = {\n",
    "    'com_port': 'COM43',\n",
    "    'device_address': 101,\n",
    "    'omnicontrol_address': 101,\n",
    "    'tc400_address': 1,\n",
    "    'gauge1_address': 122,\n",
    "    'device_type': 'HiPace300',\n",
    "    'description': 'Transfer chamber turbo pump'\n",
    "}\n",
    "\n",
    "HiPace300_Depo_dict = {\n",
    "    'com_port': 'COM37',\n",
    "    'device_address': 101,\n",
    "    'omnicontrol_address': 101,\n",
    "    'tc400_address': 1,\n",
    "    'gauge1_address': 122,\n",
    "    'device_type': 'HiPace300', \n",
    "    'description': 'Deposition chamber turbo pump'\n",
    "}\n",
    "\n",
    "# HiPace450 main turbo pump (placeholder - needs device class implementation)\n",
    "HiPace450_dict = {\n",
    "    'com_port': 'COM19',\n",
    "    'device_address': 101,\n",
    "    'omnicontrol_address': 101,\n",
    "    'tc400_address': 1,\n",
    "    'gauge1_address': 122,\n",
    "    'device_type': 'HiPace450',\n",
    "    'description': 'Main high vacuum pump (initialized as HiPace300Bus)'\n",
    "}\n",
    "\n",
    "# TPG366 pressure controller with 5 sensors\n",
    "TPG366_dict = {\n",
    "    'com_port': 'COM22',\n",
    "    'device_address': 10,\n",
    "    'device_type': 'TPG366',\n",
    "    'description': 'Pressure controller with 5 sensors',\n",
    "    'sensor_channels': [1, 2, 3, 4, 5]\n",
    "}\n",
    "\n",
    "# Chiller cooling unit\n",
    "Chiller_dict = {\n",
    "    'com_port': 'COM39',\n",
    "    'device_address': 1,\n",
    "    'device_type': 'Chiller',\n",
    "    'description': 'Cooling unit'\n",
    "}\n",
    "\n",
    "# Print configuration summary\n",
    "print(\"=\" * 60)\n",
    "print(\"ESIBD PRESSURE CHAIN - DEVICE CONFIGURATION\")\n",
    "print(\"=\" * 60)\n",
    "#print(f\"\\nHiScroll1: {HiScroll1_dict['com_port']} @ Address {HiScroll1_dict['device_address']}\")\n",
    "print(f\"HiScroll2: {HiScroll2_dict['com_port']} @ Address {HiScroll2_dict['device_address']}\")\n",
    "print(f\"HiPace300 Transfer: {HiPace300_Transfer_dict['com_port']} @ Address {HiPace300_Transfer_dict['device_address']}\")\n",
    "print(f\"HiPace300 Depo: {HiPace300_Depo_dict['com_port']} @ Address {HiPace300_Depo_dict['device_address']}\")\n",
    "print(f\"HiPace450: {HiPace450_dict['com_port']} @ Address {HiPace450_dict['device_address']} (placeholder)\")\n",
    "print(f\"TPG366: {TPG366_dict['com_port']} @ Address {TPG366_dict['device_address']} (5 sensors)\")\n",
    "print(f\"Chiller: {Chiller_dict['com_port']} @ Address {Chiller_dict['device_address']}\")\n",
    "print(\"\\n✅ Device dictionaries configured successfully\")"
   ]
  },
  {
   "cell_type": "markdown",
   "id": "a2d3e02b",
   "metadata": {},
   "source": [
    "## 4. Connect Devices"
   ]
  },
  {
   "cell_type": "code",
   "execution_count": 4,
   "id": "eb8e69d6",
   "metadata": {
    "ExecuteTime": {
     "end_time": "2025-10-09T07:36:13.454694Z",
     "start_time": "2025-10-09T07:36:13.404142Z"
    }
   },
   "outputs": [
    {
     "name": "stderr",
     "output_type": "stream",
     "text": [
      "2025-10-09 09:36:13 | INFO | Connecting to Pfeiffer device hiscroll1 on COM19\n",
      "2025-10-09 09:36:13 | INFO | Successfully connected to device at address 2\n"
     ]
    },
    {
     "name": "stdout",
     "output_type": "stream",
     "text": [
      "✅ HiScroll1 connected on COM19\n"
     ]
    }
   ],
   "source": [
    "# Initialize and connect HiScroll1\n",
    "#hiscroll1 = HiScroll12(\n",
    "#    device_id=\"hiscroll1\",\n",
    "#    port=HiScroll1_dict['com_port'],\n",
    "#    device_address=HiScroll1_dict['device_address'],\n",
    "#    logger=logger\n",
    "#)\n",
    "#hiscroll1.connect()\n",
    "#print(f\"✅ HiScroll1 connected on {HiScroll1_dict['com_port']}\")"
   ]
  },
  {
   "cell_type": "code",
   "execution_count": 4,
   "id": "a87c007d",
   "metadata": {
    "ExecuteTime": {
     "end_time": "2025-10-09T08:12:42.596085Z",
     "start_time": "2025-10-09T08:12:42.542595Z"
    }
   },
   "outputs": [
    {
     "name": "stderr",
     "output_type": "stream",
     "text": [
      "2025-10-09 10:12:42 | INFO | Connecting to Pfeiffer device hiscroll2 on COM21\n",
      "2025-10-09 10:12:42 | INFO | Successfully connected to device at address 2\n"
     ]
    },
    {
     "name": "stdout",
     "output_type": "stream",
     "text": [
      "✅ HiScroll2 connected on COM21\n"
     ]
    }
   ],
   "source": [
    "# Initialize and connect HiScroll2\n",
    "hiscroll2 = HiScroll12(\n",
    "    device_id=\"hiscroll2\",\n",
    "    port=HiScroll2_dict['com_port'],\n",
    "    device_address=HiScroll2_dict['device_address'],\n",
    "    logger=logger\n",
    ")\n",
    "hiscroll2.connect()\n",
    "print(f\"✅ HiScroll2 connected on {HiScroll2_dict['com_port']}\")"
   ]
  },
  {
   "cell_type": "code",
   "execution_count": 5,
   "id": "c669d93d",
   "metadata": {
    "ExecuteTime": {
     "end_time": "2025-10-09T08:12:43.729949Z",
     "start_time": "2025-10-09T08:12:43.706097Z"
    }
   },
   "outputs": [
    {
     "name": "stderr",
     "output_type": "stream",
     "text": [
      "2025-10-09 10:12:43 | INFO | Connecting to Pfeiffer device hipace_transfer on COM43\n",
      "2025-10-09 10:12:43 | INFO | Successfully connected to device at address 101\n"
     ]
    },
    {
     "name": "stdout",
     "output_type": "stream",
     "text": [
      "✅ HiPace300 Transfer connected on COM43\n"
     ]
    }
   ],
   "source": [
    "# Initialize and connect HiPace300 Transfer\n",
    "hipace_transfer = HiPace300Bus(\n",
    "    device_id=\"hipace_transfer\",\n",
    "    port=HiPace300_Transfer_dict['com_port'],\n",
    "    device_address=HiPace300_Transfer_dict['device_address'],\n",
    "    omnicontrol_address=HiPace300_Transfer_dict['omnicontrol_address'],\n",
    "    tc400_address=HiPace300_Transfer_dict['tc400_address'],\n",
    "    gauge1_address=HiPace300_Transfer_dict['gauge1_address'],\n",
    "    logger=logger\n",
    ")\n",
    "hipace_transfer.connect()\n",
    "print(f\"✅ HiPace300 Transfer connected on {HiPace300_Transfer_dict['com_port']}\")"
   ]
  },
  {
   "cell_type": "code",
   "execution_count": 6,
   "id": "cd66ce84",
   "metadata": {
    "ExecuteTime": {
     "end_time": "2025-10-09T08:12:44.927906Z",
     "start_time": "2025-10-09T08:12:44.897596Z"
    }
   },
   "outputs": [
    {
     "name": "stderr",
     "output_type": "stream",
     "text": [
      "2025-10-09 10:12:44 | INFO | Connecting to Pfeiffer device hipace_depo on COM37\n",
      "2025-10-09 10:12:44 | INFO | Successfully connected to device at address 101\n"
     ]
    },
    {
     "name": "stdout",
     "output_type": "stream",
     "text": [
      "✅ HiPace300 Depo connected on COM37\n"
     ]
    }
   ],
   "source": [
    "# Initialize and connect HiPace300 Depo\n",
    "hipace_depo = HiPace300Bus(\n",
    "    device_id=\"hipace_depo\",\n",
    "    port=HiPace300_Depo_dict['com_port'],\n",
    "    device_address=HiPace300_Depo_dict['device_address'],\n",
    "    omnicontrol_address=HiPace300_Depo_dict['omnicontrol_address'],\n",
    "    tc400_address=HiPace300_Depo_dict['tc400_address'],\n",
    "    gauge1_address=HiPace300_Depo_dict['gauge1_address'],\n",
    "    logger=logger\n",
    ")\n",
    "hipace_depo.connect()\n",
    "print(f\"✅ HiPace300 Depo connected on {HiPace300_Depo_dict['com_port']}\")"
   ]
  },
  {
   "cell_type": "code",
   "execution_count": 7,
   "id": "d3409fc4",
   "metadata": {
    "ExecuteTime": {
     "end_time": "2025-10-09T08:12:46.090733Z",
     "start_time": "2025-10-09T08:12:46.069488Z"
    }
   },
   "outputs": [
    {
     "name": "stderr",
     "output_type": "stream",
     "text": [
      "2025-10-09 10:12:46 | INFO | Connecting to Pfeiffer device hipace450 on COM19\n",
      "2025-10-09 10:12:46 | INFO | Successfully connected to device at address 101\n"
     ]
    },
    {
     "name": "stdout",
     "output_type": "stream",
     "text": [
      "✅ HiPace450 connected on COM19 (initialized as HiPace300Bus)\n"
     ]
    }
   ],
   "source": [
    "# Initialize and connect HiPace450 (using HiPace300Bus class)\n",
    "hipace450 = HiPace300Bus(\n",
    "    device_id=\"hipace450\",\n",
    "    port=HiPace450_dict['com_port'],\n",
    "    device_address=HiPace450_dict['device_address'],\n",
    "    omnicontrol_address=HiPace450_dict['omnicontrol_address'],\n",
    "    tc400_address=HiPace450_dict['tc400_address'],\n",
    "    gauge1_address=HiPace450_dict['gauge1_address'],\n",
    "    logger=logger\n",
    ")\n",
    "hipace450.connect()\n",
    "print(f\"✅ HiPace450 connected on {HiPace450_dict['com_port']} (initialized as HiPace300Bus)\")"
   ]
  },
  {
   "cell_type": "code",
   "execution_count": 8,
   "id": "e4bb79d7",
   "metadata": {
    "ExecuteTime": {
     "end_time": "2025-10-09T08:12:47.324453Z",
     "start_time": "2025-10-09T08:12:47.296806Z"
    }
   },
   "outputs": [
    {
     "name": "stderr",
     "output_type": "stream",
     "text": [
      "2025-10-09 10:12:47 | INFO | Connecting to Pfeiffer device tpg366 on COM22\n",
      "2025-10-09 10:12:47 | INFO | Successfully connected to device at address 10\n"
     ]
    },
    {
     "name": "stdout",
     "output_type": "stream",
     "text": [
      "✅ TPG366 connected on COM22 with 5 sensors\n"
     ]
    }
   ],
   "source": [
    "# Initialize and connect TPG366 (5 pressure sensors)\n",
    "tpg366 = TPG366(\n",
    "    device_id=\"tpg366\",\n",
    "    port=TPG366_dict['com_port'],\n",
    "    device_address=TPG366_dict['device_address'],\n",
    "    logger=logger\n",
    ")\n",
    "tpg366.connect()\n",
    "print(f\"✅ TPG366 connected on {TPG366_dict['com_port']} with 5 sensors\")"
   ]
  },
  {
   "cell_type": "code",
   "execution_count": 9,
   "id": "f31c2aaa5d879ee3",
   "metadata": {
    "ExecuteTime": {
     "end_time": "2025-10-09T08:12:49.012699Z",
     "start_time": "2025-10-09T08:12:48.997679Z"
    }
   },
   "outputs": [
    {
     "name": "stderr",
     "output_type": "stream",
     "text": [
      "2025-10-09 10:12:48 | INFO | Using external logger for device 'chiller'\n",
      "2025-10-09 10:12:49 | INFO | Connecting to chiller chiller on COM39\n"
     ]
    },
    {
     "name": "stdout",
     "output_type": "stream",
     "text": [
      "✅ Chiller connected on COM39\n"
     ]
    }
   ],
   "source": [
    "# Initialize and connect Chiller\n",
    "chiller = Chiller(\n",
    "    device_id=\"chiller\",\n",
    "    port=Chiller_dict['com_port'],\n",
    "    device_address=Chiller_dict['device_address'],\n",
    "    logger=logger\n",
    ")\n",
    "chiller.connect()\n",
    "print(f\"✅ Chiller connected on {Chiller_dict['com_port']}\")"
   ]
  },
  {
   "cell_type": "code",
   "execution_count": 10,
   "id": "3f2309753c8386a4",
   "metadata": {
    "ExecuteTime": {
     "end_time": "2025-10-09T08:12:51.449981Z",
     "start_time": "2025-10-09T08:12:51.300828Z"
    }
   },
   "outputs": [
    {
     "name": "stdout",
     "output_type": "stream",
     "text": [
      "5\n",
      "9\n",
      "5\n"
     ]
    }
   ],
   "source": [
    "print(hipace450.get_operating_hours_pump())\n",
    "print(hipace_depo.get_operating_hours_pump())\n",
    "print(hipace450.get_operating_hours_pump())"
   ]
  },
  {
   "cell_type": "code",
   "execution_count": 11,
   "id": "21c6ac369732181f",
   "metadata": {
    "ExecuteTime": {
     "end_time": "2025-10-09T08:12:53.192131Z",
     "start_time": "2025-10-09T08:12:53.132377Z"
    }
   },
   "outputs": [
    {
     "data": {
      "text/plain": [
       "'HiScrl'"
      ]
     },
     "execution_count": 11,
     "metadata": {},
     "output_type": "execute_result"
    }
   ],
   "source": [
    "hiscroll2.get_electronics_name()"
   ]
  },
  {
   "cell_type": "code",
   "execution_count": 21,
   "id": "8d9f6e082dac119a",
   "metadata": {
    "ExecuteTime": {
     "end_time": "2025-10-09T07:47:05.693241Z",
     "start_time": "2025-10-09T07:47:05.565577Z"
    }
   },
   "outputs": [
    {
     "name": "stderr",
     "output_type": "stream",
     "text": [
      "2025-10-09 09:47:05 | INFO | Disconnected from Pfeiffer device hipace_depo\n"
     ]
    },
    {
     "data": {
      "text/plain": [
       "True"
      ]
     },
     "execution_count": 21,
     "metadata": {},
     "output_type": "execute_result"
    }
   ],
   "source": []
  },
  {
   "cell_type": "code",
   "execution_count": 12,
   "id": "85e83a3d8b5769f6",
   "metadata": {
    "ExecuteTime": {
     "end_time": "2025-10-09T08:12:55.200036Z",
     "start_time": "2025-10-09T08:12:55.195915Z"
    }
   },
   "outputs": [
    {
     "data": {
      "text/plain": [
       "16.71"
      ]
     },
     "execution_count": 12,
     "metadata": {},
     "output_type": "execute_result"
    }
   ],
   "source": [
    "chiller.read_temp()"
   ]
  },
  {
   "cell_type": "code",
   "execution_count": 13,
   "id": "bcdbe89dbd2cea16",
   "metadata": {
    "ExecuteTime": {
     "end_time": "2025-10-09T08:12:56.991539Z",
     "start_time": "2025-10-09T08:12:56.919773Z"
    }
   },
   "outputs": [
    {
     "data": {
      "text/plain": [
       "1010.0"
      ]
     },
     "execution_count": 13,
     "metadata": {},
     "output_type": "execute_result"
    }
   ],
   "source": [
    "tpg366.read_pressure_value_channel_1()"
   ]
  },
  {
   "cell_type": "markdown",
   "id": "874c4459",
   "metadata": {},
   "source": [
    "## 5. Start Housekeeping for All Devices"
   ]
  },
  {
   "cell_type": "code",
   "execution_count": 14,
   "id": "b6f04acb",
   "metadata": {
    "ExecuteTime": {
     "end_time": "2025-10-09T08:12:59.498540Z",
     "start_time": "2025-10-09T08:12:59.477860Z"
    }
   },
   "outputs": [
    {
     "name": "stderr",
     "output_type": "stream",
     "text": [
      "2025-10-09 10:12:59 | INFO | Using external logger - no additional file logging needed\n",
      "2025-10-09 10:12:59 | INFO | Housekeeping worker started for hiscroll2\n",
      "2025-10-09 10:12:59 | INFO | Housekeeping started (internal mode) - interval: 30.0s\n",
      "2025-10-09 10:12:59 | INFO | Using external logger - no additional file logging needed\n",
      "2025-10-09 10:12:59 | INFO | Housekeeping worker started for hipace_transfer\n",
      "2025-10-09 10:12:59 | INFO | Housekeeping started (internal mode) - interval: 1.0s\n",
      "2025-10-09 10:12:59 | INFO | Using external logger - no additional file logging needed\n",
      "2025-10-09 10:12:59 | INFO | Housekeeping worker started for hipace_depo\n",
      "2025-10-09 10:12:59 | INFO | Housekeeping started (internal mode) - interval: 1.0s\n",
      "2025-10-09 10:12:59 | INFO | Using external logger - no additional file logging needed\n",
      "2025-10-09 10:12:59 | INFO | Housekeeping worker started for hipace450\n",
      "2025-10-09 10:12:59 | INFO | Housekeeping started (internal mode) - interval: 1.0s\n",
      "2025-10-09 10:12:59 | INFO | Using external logger - no additional file logging needed\n",
      "2025-10-09 10:12:59 | INFO | Housekeeping worker started for chiller\n",
      "2025-10-09 10:12:59 | INFO | Housekeeping started (internal mode) - interval: 30.0s\n"
     ]
    },
    {
     "name": "stdout",
     "output_type": "stream",
     "text": [
      "✅ Housekeeping started for all devices:\n",
      "  - HiScroll2\n",
      "  - HiPace300 Transfer\n",
      "  - HiPace300 Depo\n",
      "  - HiPace450\n",
      "  - Chiller\n",
      "\n",
      "Note: TPG366 does not require housekeeping (continuous polling)\n"
     ]
    },
    {
     "name": "stderr",
     "output_type": "stream",
     "text": [
      "2025-10-09 10:12:59 | INFO | chiller   COM39   Cur_Temp   16.71//degC\n"
     ]
    }
   ],
   "source": [
    "# Start housekeeping for all pumps and chiller\n",
    "#hiscroll1.start_housekeeping()\n",
    "hiscroll2.start_housekeeping()\n",
    "hipace_transfer.start_housekeeping()\n",
    "hipace_depo.start_housekeeping()\n",
    "hipace450.start_housekeeping()\n",
    "chiller.start_housekeeping()\n",
    "\n",
    "print(\"✅ Housekeeping started for all devices:\")\n",
    "#print(\"  - HiScroll1\")\n",
    "print(\"  - HiScroll2\")\n",
    "print(\"  - HiPace300 Transfer\")\n",
    "print(\"  - HiPace300 Depo\")\n",
    "print(\"  - HiPace450\")\n",
    "print(\"  - Chiller\")\n",
    "print(\"\\nNote: TPG366 does not require housekeeping (continuous polling)\")"
   ]
  },
  {
   "cell_type": "markdown",
   "id": "8788e40d",
   "metadata": {},
   "source": [
    "## 5.1 Stop Housekeeping"
   ]
  },
  {
   "cell_type": "code",
   "execution_count": 43,
   "id": "5603d73b",
   "metadata": {
    "ExecuteTime": {
     "end_time": "2025-10-09T08:12:09.474604Z",
     "start_time": "2025-10-09T08:12:09.465671Z"
    }
   },
   "outputs": [
    {
     "name": "stderr",
     "output_type": "stream",
     "text": [
      "2025-10-09 10:12:09 | INFO | Housekeeping stopped (internal mode)\n",
      "2025-10-09 10:12:09 | INFO | Housekeeping stopped (internal mode)\n",
      "2025-10-09 10:12:09 | INFO | Housekeeping stopped (internal mode)\n",
      "2025-10-09 10:12:09 | INFO | Housekeeping stopped (internal mode)\n",
      "2025-10-09 10:12:09 | INFO | Housekeeping stopped (internal mode)\n"
     ]
    },
    {
     "data": {
      "text/plain": [
       "True"
      ]
     },
     "execution_count": 43,
     "metadata": {},
     "output_type": "execute_result"
    }
   ],
   "source": [
    "#hiscroll1.stop_housekeeping()\n",
    "hiscroll2.stop_housekeeping()\n",
    "hipace_transfer.stop_housekeeping()\n",
    "hipace_depo.stop_housekeeping()\n",
    "hipace450.stop_housekeeping()\n",
    "chiller.stop_housekeeping()"
   ]
  },
  {
   "cell_type": "markdown",
   "id": "03ff7edc",
   "metadata": {},
   "source": [
    "## 6. Individual Pump Control\n",
    "\n",
    "This section provides control cells for turning on/off each pump individually."
   ]
  },
  {
   "cell_type": "markdown",
   "id": "90e0cae0",
   "metadata": {},
   "source": [
    "### 6.1 HiScroll Pump Control"
   ]
  },
  {
   "cell_type": "code",
   "execution_count": null,
   "id": "10dea6d7",
   "metadata": {},
   "outputs": [],
   "source": [
    "# Enable HiScroll1\n",
    "#hiscroll1.enable_pump()\n",
    "print(\"✅ HiScroll1 enabled\")"
   ]
  },
  {
   "cell_type": "code",
   "execution_count": null,
   "id": "fa665e04",
   "metadata": {},
   "outputs": [],
   "source": [
    "# Disable HiScroll1\n",
    "#hiscroll1.disable_pump()\n",
    "print(\"🛑 HiScroll1 disabled\")"
   ]
  },
  {
   "cell_type": "code",
   "execution_count": null,
   "id": "2f7a5611",
   "metadata": {},
   "outputs": [],
   "source": [
    "# Enable HiScroll2\n",
    "hiscroll2.enable_pump()\n",
    "print(\"✅ HiScroll2 enabled\")"
   ]
  },
  {
   "cell_type": "code",
   "execution_count": null,
   "id": "1bdb264b",
   "metadata": {},
   "outputs": [],
   "source": [
    "# Disable HiScroll2\n",
    "hiscroll2.disable_pump()\n",
    "print(\"🛑 HiScroll2 disabled\")"
   ]
  },
  {
   "cell_type": "markdown",
   "id": "1c060203",
   "metadata": {},
   "source": [
    "### 6.2 Chiller Control\n"
   ]
  },
  {
   "cell_type": "code",
   "execution_count": 19,
   "id": "a706aa98",
   "metadata": {
    "ExecuteTime": {
     "end_time": "2025-10-09T08:02:15.140348Z",
     "start_time": "2025-10-09T08:02:15.136348Z"
    }
   },
   "outputs": [
    {
     "name": "stdout",
     "output_type": "stream",
     "text": [
      "✅ Chiller temperature set to 16.0degC\n"
     ]
    }
   ],
   "source": [
    "# Set chiller temperature (example: 16degC)\n",
    "target_temp = 16.0\n",
    "chiller.set_temperature(target_temp)\n",
    "print(f\"✅ Chiller temperature set to {target_temp}degC\")"
   ]
  },
  {
   "cell_type": "code",
   "execution_count": 21,
   "id": "dec07ecc",
   "metadata": {
    "ExecuteTime": {
     "end_time": "2025-10-09T08:02:25.610374Z",
     "start_time": "2025-10-09T08:02:25.606952Z"
    }
   },
   "outputs": [
    {
     "name": "stdout",
     "output_type": "stream",
     "text": [
      "✅ Chiller started\n"
     ]
    }
   ],
   "source": [
    "# Start chiller\n",
    "chiller.start_device()\n",
    "print(\"✅ Chiller started\")"
   ]
  },
  {
   "cell_type": "code",
   "execution_count": 20,
   "id": "039abb8e",
   "metadata": {
    "ExecuteTime": {
     "end_time": "2025-10-09T08:02:17.648661Z",
     "start_time": "2025-10-09T08:02:17.644943Z"
    }
   },
   "outputs": [
    {
     "name": "stdout",
     "output_type": "stream",
     "text": [
      "🛑 Chiller stopped\n"
     ]
    }
   ],
   "source": [
    "# Stop chiller\n",
    "chiller.stop_device()\n",
    "print(\"🛑 Chiller stopped\")"
   ]
  },
  {
   "cell_type": "code",
   "execution_count": 22,
   "id": "8824968f",
   "metadata": {
    "ExecuteTime": {
     "end_time": "2025-10-09T08:02:44.086425Z",
     "start_time": "2025-10-09T08:02:44.077960Z"
    }
   },
   "outputs": [
    {
     "name": "stdout",
     "output_type": "stream",
     "text": [
      "Current Temperature: 16.59degC\n",
      "Set Temperature: 16.0degC\n",
      "Device Status: OK\n",
      "Running State: DEVICE RUNNING\n"
     ]
    }
   ],
   "source": [
    "# Check chiller status\n",
    "current_temp = chiller.read_temp()\n",
    "set_temp = chiller.read_set_temp()\n",
    "status = chiller.read_status()\n",
    "running = chiller.read_running()\n",
    "\n",
    "print(f\"Current Temperature: {current_temp}degC\")\n",
    "print(f\"Set Temperature: {set_temp}degC\")\n",
    "print(f\"Device Status: {status}\")\n",
    "print(f\"Running State: {running}\")"
   ]
  },
  {
   "cell_type": "markdown",
   "id": "14b801f6",
   "metadata": {},
   "source": [
    "### 6.3 HiPace300 Pump Control ALWAYS BOTH AT THE SAME TIME"
   ]
  },
  {
   "cell_type": "code",
   "execution_count": null,
   "id": "43ed166b",
   "metadata": {},
   "outputs": [],
   "source": [
    "# Enable HiPace300 Transfer pump\n",
    "hipace_transfer.enable_motor_pump()\n",
    "# Enable HiPace300 Depo pump\n",
    "hipace_depo.enable_motor_pump()\n",
    "#print(\"✅ HiPace300 Transfer pump enabled\")"
   ]
  },
  {
   "cell_type": "code",
   "execution_count": null,
   "id": "4a85129c",
   "metadata": {},
   "outputs": [],
   "source": [
    "hipace_transfer.enable_pumpStatn()\n",
    "hipace_depo.enable_pumpStatn()\n",
    "print(\"✅ HiPace300 Depo pump enabled\")"
   ]
  },
  {
   "cell_type": "code",
   "execution_count": null,
   "id": "97f2bf57",
   "metadata": {},
   "outputs": [],
   "source": [
    "# Disable HiPace300 Depo pump\n",
    "hipace_depo.disable_pumpStatn()\n",
    "print(\"🛑 HiPace300 Depo pump disabled\")\n",
    "\n",
    "# Disable HiPace300 Transfer pump\n",
    "hipace_transfer.disable_pumpStatn()\n",
    "print(\"🛑 HiPace300 Transfer pump disabled\")"
   ]
  },
  {
   "cell_type": "markdown",
   "id": "e832a97f",
   "metadata": {},
   "source": [
    "### 6.4 HiPace450 Pump Control"
   ]
  },
  {
   "cell_type": "code",
   "execution_count": null,
   "id": "658b50ab",
   "metadata": {},
   "outputs": [],
   "source": [
    "# Enable HiPace450 pump\n",
    "hipace450.enable_motor_pump()\n",
    "hipace450.enable_pumpStatn()\n",
    "print(\"✅ HiPace450 pump enabled\")"
   ]
  },
  {
   "cell_type": "code",
   "execution_count": null,
   "id": "67b567b6",
   "metadata": {},
   "outputs": [],
   "source": [
    "# Disable HiPace450 pump\n",
    "hipace450.disable_pumpStatn()\n",
    "print(\"🛑 HiPace450 pump disabled\")"
   ]
  },
  {
   "cell_type": "markdown",
   "id": "8639a20c",
   "metadata": {},
   "source": [
    "## 7. Live Plotting - Pressure Chain Visualization\n",
    "\n",
    "This section provides live plotting for all pressure sensors and temperature monitoring."
   ]
  },
  {
   "cell_type": "code",
   "execution_count": 23,
   "id": "751bd316",
   "metadata": {
    "ExecuteTime": {
     "end_time": "2025-10-09T08:03:02.077283Z",
     "start_time": "2025-10-09T08:03:02.049044Z"
    }
   },
   "outputs": [
    {
     "name": "stdout",
     "output_type": "stream",
     "text": [
      "✅ Pressure chain plotter class ready\n"
     ]
    }
   ],
   "source": [
    "import matplotlib.pyplot as plt\n",
    "from matplotlib.animation import FuncAnimation\n",
    "import numpy as np\n",
    "from collections import deque\n",
    "\n",
    "class PressureChainPlotter:\n",
    "    \"\"\"Live plotting class for complete ESIBD pressure chain monitoring\"\"\"\n",
    "    \n",
    "    def __init__(self, update_interval=1000):\n",
    "        self.update_interval = update_interval\n",
    "        \n",
    "        # Data storage (keep last 100 points)\n",
    "        self.timestamps = deque(maxlen=100)\n",
    "        \n",
    "        # Pressure data for 5 TPG366 sensors\n",
    "        self.pressure_sensor1 = deque(maxlen=100)\n",
    "        self.pressure_sensor2 = deque(maxlen=100)\n",
    "        self.pressure_sensor3 = deque(maxlen=100)\n",
    "        self.pressure_sensor4 = deque(maxlen=100)\n",
    "        self.pressure_sensor5 = deque(maxlen=100)\n",
    "        \n",
    "        # Temperature data for HiScrolls\n",
    "        self.hiscroll1_temp = deque(maxlen=100)\n",
    "        self.hiscroll2_temp = deque(maxlen=100)\n",
    "        \n",
    "        # Temperature data for HiPaces\n",
    "        self.hipace_transfer_temp = deque(maxlen=100)\n",
    "        self.hipace_depo_temp = deque(maxlen=100)\n",
    "        self.hipace450_temp = deque(maxlen=100)\n",
    "        \n",
    "        # Temperature data for Chiller\n",
    "        self.chiller_current_temp = deque(maxlen=100)\n",
    "        self.chiller_set_temp = deque(maxlen=100)\n",
    "        \n",
    "        # Create figure with 2 columns: left for 5 pressure plots, right for 3 temperature plots\n",
    "        self.fig = plt.figure(figsize=(16, 12))\n",
    "        \n",
    "        # Create grid: 5 rows, 2 columns\n",
    "        # Left column: 5 pressure sensors (shared x-axis)\n",
    "        self.ax_p1 = plt.subplot(5, 2, 1)\n",
    "        self.ax_p2 = plt.subplot(5, 2, 3, sharex=self.ax_p1)\n",
    "        self.ax_p3 = plt.subplot(5, 2, 5, sharex=self.ax_p1)\n",
    "        self.ax_p4 = plt.subplot(5, 2, 7, sharex=self.ax_p1)\n",
    "        self.ax_p5 = plt.subplot(5, 2, 9, sharex=self.ax_p1)\n",
    "        \n",
    "        # Right column: 3 temperature plots (shared x-axis with pressure plots)\n",
    "        self.ax_temp_hiscroll = plt.subplot(5, 2, 2, sharex=self.ax_p1)\n",
    "        self.ax_temp_hipace = plt.subplot(5, 2, 4, sharex=self.ax_p1)\n",
    "        self.ax_temp_chiller = plt.subplot(5, 2, 6, sharex=self.ax_p1)\n",
    "    \n",
    "    def update_plot(self, frame):\n",
    "        try:\n",
    "            current_time = datetime.now()\n",
    "            self.timestamps.append(current_time)\n",
    "            \n",
    "            # Collect pressure data from TPG366 (5 sensors)\n",
    "            try:\n",
    "                self.pressure_sensor1.append(tpg366.read_pressure_value(1))\n",
    "            except:\n",
    "                self.pressure_sensor1.append(None)\n",
    "            \n",
    "            try:\n",
    "                self.pressure_sensor2.append(tpg366.read_pressure_value(2))\n",
    "            except:\n",
    "                self.pressure_sensor2.append(None)\n",
    "            \n",
    "            try:\n",
    "                self.pressure_sensor3.append(tpg366.read_pressure_value(3))\n",
    "            except:\n",
    "                self.pressure_sensor3.append(None)\n",
    "            \n",
    "            try:\n",
    "                self.pressure_sensor4.append(tpg366.read_pressure_value(4))\n",
    "            except:\n",
    "                self.pressure_sensor4.append(None)\n",
    "            \n",
    "            try:\n",
    "                self.pressure_sensor5.append(tpg366.read_pressure_value(5))\n",
    "            except:\n",
    "                self.pressure_sensor5.append(None)\n",
    "            \n",
    "            # Collect HiScroll temperature data\n",
    "            try:\n",
    "                self.hiscroll1_temp.append(hiscroll1.get_temp_motor())\n",
    "            except:\n",
    "                self.hiscroll1_temp.append(None)\n",
    "            \n",
    "            try:\n",
    "                self.hiscroll2_temp.append(hiscroll2.get_temp_motor())\n",
    "            except:\n",
    "                self.hiscroll2_temp.append(None)\n",
    "            \n",
    "            # Collect HiPace temperature data\n",
    "            try:\n",
    "                self.hipace_transfer_temp.append(hipace_transfer.get_motor_temperature())\n",
    "            except:\n",
    "                self.hipace_transfer_temp.append(None)\n",
    "            \n",
    "            try:\n",
    "                self.hipace_depo_temp.append(hipace_depo.get_motor_temperature())\n",
    "            except:\n",
    "                self.hipace_depo_temp.append(None)\n",
    "            \n",
    "            try:\n",
    "                self.hipace450_temp.append(hipace450.get_motor_temperature())\n",
    "            except:\n",
    "                self.hipace450_temp.append(None)\n",
    "            \n",
    "            # Collect Chiller temperature data\n",
    "            try:\n",
    "                self.chiller_current_temp.append(chiller.read_temp())\n",
    "            except:\n",
    "                self.chiller_current_temp.append(None)\n",
    "            \n",
    "            try:\n",
    "                self.chiller_set_temp.append(chiller.read_set_temp())\n",
    "            except:\n",
    "                self.chiller_set_temp.append(None)\n",
    "            \n",
    "        except Exception as e:\n",
    "            logger.warning(f\"Data collection error: {e}\")\n",
    "            return\n",
    "        \n",
    "        # Clear all axes\n",
    "        self.ax_p1.clear()\n",
    "        self.ax_p2.clear()\n",
    "        self.ax_p3.clear()\n",
    "        self.ax_p4.clear()\n",
    "        self.ax_p5.clear()\n",
    "        self.ax_temp_hiscroll.clear()\n",
    "        self.ax_temp_hipace.clear()\n",
    "        self.ax_temp_chiller.clear()\n",
    "        \n",
    "        # Convert deques to lists\n",
    "        times = list(self.timestamps)\n",
    "        \n",
    "        # Only plot if we have data\n",
    "        if not times:\n",
    "            return\n",
    "        \n",
    "        try:\n",
    "            # Plot Pressure Sensor 1\n",
    "            p1_data = list(self.pressure_sensor1)\n",
    "            valid_p1 = [(t, p) for t, p in zip(times, p1_data) if p is not None]\n",
    "            if valid_p1:\n",
    "                t1, p1 = zip(*valid_p1)\n",
    "                self.ax_p1.plot(t1, p1, 'b-', marker='o', label='Sensor 1')\n",
    "                self.ax_p1.set_yscale('log')\n",
    "                self.ax_p1.set_ylabel('Pressure [mbar]')\n",
    "                self.ax_p1.set_title('TPG366 Sensor 1 Pressure')\n",
    "                self.ax_p1.legend(loc='upper right')\n",
    "                self.ax_p1.grid(True)\n",
    "            \n",
    "            # Plot Pressure Sensor 2\n",
    "            p2_data = list(self.pressure_sensor2)\n",
    "            valid_p2 = [(t, p) for t, p in zip(times, p2_data) if p is not None]\n",
    "            if valid_p2:\n",
    "                t2, p2 = zip(*valid_p2)\n",
    "                self.ax_p2.plot(t2, p2, 'r-', marker='s', label='Sensor 2')\n",
    "                self.ax_p2.set_yscale('log')\n",
    "                self.ax_p2.set_ylabel('Pressure [mbar]')\n",
    "                self.ax_p2.set_title('TPG366 Sensor 2 Pressure')\n",
    "                self.ax_p2.legend(loc='upper right')\n",
    "                self.ax_p2.grid(True)\n",
    "            \n",
    "            # Plot Pressure Sensor 3\n",
    "            p3_data = list(self.pressure_sensor3)\n",
    "            valid_p3 = [(t, p) for t, p in zip(times, p3_data) if p is not None]\n",
    "            if valid_p3:\n",
    "                t3, p3 = zip(*valid_p3)\n",
    "                self.ax_p3.plot(t3, p3, 'g-', marker='^', label='Sensor 3')\n",
    "                self.ax_p3.set_yscale('log')\n",
    "                self.ax_p3.set_ylabel('Pressure [mbar]')\n",
    "                self.ax_p3.set_title('TPG366 Sensor 3 Pressure')\n",
    "                self.ax_p3.legend(loc='upper right')\n",
    "                self.ax_p3.grid(True)\n",
    "            \n",
    "            # Plot Pressure Sensor 4\n",
    "            p4_data = list(self.pressure_sensor4)\n",
    "            valid_p4 = [(t, p) for t, p in zip(times, p4_data) if p is not None]\n",
    "            if valid_p4:\n",
    "                t4, p4 = zip(*valid_p4)\n",
    "                self.ax_p4.plot(t4, p4, 'm-', marker='d', label='Sensor 4')\n",
    "                self.ax_p4.set_yscale('log')\n",
    "                self.ax_p4.set_ylabel('Pressure [mbar]')\n",
    "                self.ax_p4.set_title('TPG366 Sensor 4 Pressure')\n",
    "                self.ax_p4.legend(loc='upper right')\n",
    "                self.ax_p4.grid(True)\n",
    "            \n",
    "            # Plot Pressure Sensor 5\n",
    "            p5_data = list(self.pressure_sensor5)\n",
    "            valid_p5 = [(t, p) for t, p in zip(times, p5_data) if p is not None]\n",
    "            if valid_p5:\n",
    "                t5, p5 = zip(*valid_p5)\n",
    "                self.ax_p5.plot(t5, p5, 'c-', marker='v', label='Sensor 5')\n",
    "                self.ax_p5.set_yscale('log')\n",
    "                self.ax_p5.set_ylabel('Pressure [mbar]')\n",
    "                self.ax_p5.set_title('TPG366 Sensor 5 Pressure')\n",
    "                self.ax_p5.legend(loc='upper right')\n",
    "                self.ax_p5.grid(True)\n",
    "            \n",
    "            # Plot HiScroll Temperatures\n",
    "            hs1_temps = list(self.hiscroll1_temp)\n",
    "            hs2_temps = list(self.hiscroll2_temp)\n",
    "            \n",
    "            valid_hs1 = [(t, temp) for t, temp in zip(times, hs1_temps) if temp is not None]\n",
    "            valid_hs2 = [(t, temp) for t, temp in zip(times, hs2_temps) if temp is not None]\n",
    "            \n",
    "            if valid_hs1:\n",
    "                t_hs1, temp_hs1 = zip(*valid_hs1)\n",
    "                self.ax_temp_hiscroll.plot(t_hs1, temp_hs1, 'b-', marker='o', label='HiScroll1')\n",
    "            \n",
    "            if valid_hs2:\n",
    "                t_hs2, temp_hs2 = zip(*valid_hs2)\n",
    "                self.ax_temp_hiscroll.plot(t_hs2, temp_hs2, 'r-', marker='s', label='HiScroll2')\n",
    "            \n",
    "            self.ax_temp_hiscroll.set_ylabel('Temperature [degC]')\n",
    "            self.ax_temp_hiscroll.set_title('HiScroll Pump Temperatures')\n",
    "            self.ax_temp_hiscroll.legend(loc='upper right')\n",
    "            self.ax_temp_hiscroll.grid(True)\n",
    "            \n",
    "            # Plot HiPace Temperatures\n",
    "            hp_t_temps = list(self.hipace_transfer_temp)\n",
    "            hp_d_temps = list(self.hipace_depo_temp)\n",
    "            hp_450_temps = list(self.hipace450_temp)\n",
    "            \n",
    "            valid_hp_t = [(t, temp) for t, temp in zip(times, hp_t_temps) if temp is not None]\n",
    "            valid_hp_d = [(t, temp) for t, temp in zip(times, hp_d_temps) if temp is not None]\n",
    "            valid_hp_450 = [(t, temp) for t, temp in zip(times, hp_450_temps) if temp is not None]\n",
    "            \n",
    "            if valid_hp_t:\n",
    "                t_hp_t, temp_hp_t = zip(*valid_hp_t)\n",
    "                self.ax_temp_hipace.plot(t_hp_t, temp_hp_t, 'g-', marker='^', label='HiPace Transfer')\n",
    "            \n",
    "            if valid_hp_d:\n",
    "                t_hp_d, temp_hp_d = zip(*valid_hp_d)\n",
    "                self.ax_temp_hipace.plot(t_hp_d, temp_hp_d, 'm-', marker='d', label='HiPace Depo')\n",
    "            \n",
    "            if valid_hp_450:\n",
    "                t_hp_450, temp_hp_450 = zip(*valid_hp_450)\n",
    "                self.ax_temp_hipace.plot(t_hp_450, temp_hp_450, 'orange', marker='s', label='HiPace450')\n",
    "            \n",
    "            self.ax_temp_hipace.set_ylabel('Temperature [degC]')\n",
    "            self.ax_temp_hipace.set_xlabel('Time')\n",
    "            self.ax_temp_hipace.set_title('HiPace Pump Temperatures')\n",
    "            self.ax_temp_hipace.legend(loc='upper right')\n",
    "            self.ax_temp_hipace.grid(True)\n",
    "            \n",
    "            # Plot Chiller Temperatures\n",
    "            chiller_curr_temps = list(self.chiller_current_temp)\n",
    "            chiller_set_temps = list(self.chiller_set_temp)\n",
    "            \n",
    "            valid_chiller_curr = [(t, temp) for t, temp in zip(times, chiller_curr_temps) if temp is not None]\n",
    "            valid_chiller_set = [(t, temp) for t, temp in zip(times, chiller_set_temps) if temp is not None]\n",
    "            \n",
    "            if valid_chiller_curr:\n",
    "                t_c_curr, temp_c_curr = zip(*valid_chiller_curr)\n",
    "                self.ax_temp_chiller.plot(t_c_curr, temp_c_curr, 'c-', marker='o', label='Current Temp')\n",
    "            \n",
    "            if valid_chiller_set:\n",
    "                t_c_set, temp_c_set = zip(*valid_chiller_set)\n",
    "                self.ax_temp_chiller.plot(t_c_set, temp_c_set, 'c--', marker='s', alpha=0.7, label='Set Temp')\n",
    "            \n",
    "            self.ax_temp_chiller.set_ylabel('Temperature [degC]')\n",
    "            self.ax_temp_chiller.set_xlabel('Time')\n",
    "            self.ax_temp_chiller.set_title('Chiller Water Temperature')\n",
    "            self.ax_temp_chiller.legend(loc='upper right')\n",
    "            self.ax_temp_chiller.grid(True)\n",
    "            \n",
    "        except Exception as e:\n",
    "            logger.error(f\"Plotting error: {e}\")\n",
    "        \n",
    "        # Format x-axis for all plots\n",
    "        for ax in [self.ax_p1, self.ax_p2, self.ax_p3, self.ax_p4, self.ax_p5, \n",
    "                   self.ax_temp_hiscroll, self.ax_temp_hipace, self.ax_temp_chiller]:\n",
    "            ax.tick_params(axis='x', rotation=45)\n",
    "        \n",
    "        # Hide x-tick labels for all except bottom plots (p5 on left, chiller on right)\n",
    "        for ax in [self.ax_p1, self.ax_p2, self.ax_p3, self.ax_p4, \n",
    "                   self.ax_temp_hiscroll, self.ax_temp_hipace]:\n",
    "            plt.setp(ax.get_xticklabels(), visible=False)\n",
    "        \n",
    "        self.fig.tight_layout()\n",
    "    \n",
    "    def start_live_plot(self):\n",
    "        \"\"\"Start live plotting\"\"\"\n",
    "        self.ani = FuncAnimation(\n",
    "            self.fig,\n",
    "            self.update_plot,\n",
    "            interval=self.update_interval,\n",
    "            blit=False,\n",
    "            cache_frame_data=False\n",
    "        )\n",
    "        \n",
    "        plt.show()\n",
    "        print(\"Live plotting started - Close window to stop\")\n",
    "    \n",
    "    def stop_live_plot(self):\n",
    "        \"\"\"Stop live plotting\"\"\"\n",
    "        if hasattr(self, 'ani'):\n",
    "            self.ani.event_source.stop()\n",
    "            print(\"Live plotting stopped.\")\n",
    "        else:\n",
    "            print(\"No animation to stop.\")\n",
    "\n",
    "print(\"✅ Pressure chain plotter class ready\")"
   ]
  },
  {
   "cell_type": "code",
   "execution_count": 27,
   "id": "47e6a00c",
   "metadata": {
    "ExecuteTime": {
     "end_time": "2025-10-09T08:03:21.178736Z",
     "start_time": "2025-10-09T08:03:21.175384Z"
    }
   },
   "outputs": [],
   "source": [
    "%matplotlib notebook"
   ]
  },
  {
   "cell_type": "code",
   "execution_count": null,
   "id": "9e739dea",
   "metadata": {},
   "outputs": [],
   "source": [
    "# Create and start live plotting\n",
    "plotter = PressureChainPlotter(update_interval=2000)  # Update every 2 seconds\n",
    "plotter.start_live_plot()"
   ]
  },
  {
   "cell_type": "code",
   "execution_count": 29,
   "id": "077b5c13",
   "metadata": {
    "ExecuteTime": {
     "end_time": "2025-10-09T08:03:53.068893Z",
     "start_time": "2025-10-09T08:03:53.065252Z"
    }
   },
   "outputs": [
    {
     "name": "stdout",
     "output_type": "stream",
     "text": [
      "Live plotting stopped.\n"
     ]
    }
   ],
   "source": [
    "# Stop live plotting\n",
    "plotter.stop_live_plot()"
   ]
  },
  {
   "cell_type": "markdown",
   "id": "344e7372",
   "metadata": {},
   "source": [
    "## 7.5 Specialized Live Plot Windows\n",
    "\n",
    "This section provides three separate plot windows for detailed monitoring of specific parameters."
   ]
  },
  {
   "cell_type": "code",
   "execution_count": null,
   "id": "c6daaeac",
   "metadata": {
    "ExecuteTime": {
     "end_time": "2025-10-09T08:18:50.976921Z",
     "start_time": "2025-10-09T08:18:50.960259Z"
    }
   },
   "outputs": [
    {
     "name": "stdout",
     "output_type": "stream",
     "text": [
      "✅ Pressure-only plotter class ready\n"
     ]
    }
   ],
   "source": [
    "import matplotlib.pyplot as plt\n",
    "from matplotlib.animation import FuncAnimation\n",
    "import numpy as np\n",
    "from collections import deque\n",
    "import threading\n",
    "\n",
    "class PressureOnlyPlotter:\n",
    "    \"\"\"Live plotting class for all 5 pressure sensors - runs in separate thread\"\"\"\n",
    "    \n",
    "    def __init__(self, update_interval=2000):\n",
    "        self.update_interval = update_interval\n",
    "        self.plot_thread = None\n",
    "        self.running = False\n",
    "        \n",
    "        # Data storage (keep last 100 points)\n",
    "        self.timestamps = deque(maxlen=100)\n",
    "        self.pressure_sensor1 = deque(maxlen=100)\n",
    "        self.pressure_sensor2 = deque(maxlen=100)\n",
    "        self.pressure_sensor3 = deque(maxlen=100)\n",
    "        self.pressure_sensor4 = deque(maxlen=100)\n",
    "        self.pressure_sensor5 = deque(maxlen=100)\n",
    "    \n",
    "    def _create_plot(self):\n",
    "        \"\"\"Create figure with 5 subplots (sharing x-axis)\"\"\"\n",
    "        self.fig, (self.ax1, self.ax2, self.ax3, self.ax4, self.ax5) = plt.subplots(\n",
    "            5, 1, figsize=(10, 12), sharex=True\n",
    "        )\n",
    "        self.fig.suptitle('Pressure Monitoring - All 5 Sensors', fontsize=14)\n",
    "    \n",
    "    def update_plot(self, frame):\n",
    "        try:\n",
    "            current_time = datetime.now()\n",
    "            self.timestamps.append(current_time)\n",
    "            \n",
    "            # Collect pressure data\n",
    "            try:\n",
    "                self.pressure_sensor1.append(tpg366.read_pressure_value(1))\n",
    "            except:\n",
    "                self.pressure_sensor1.append(None)\n",
    "            \n",
    "            try:\n",
    "                self.pressure_sensor2.append(tpg366.read_pressure_value(2))\n",
    "            except:\n",
    "                self.pressure_sensor2.append(None)\n",
    "            \n",
    "            try:\n",
    "                self.pressure_sensor3.append(tpg366.read_pressure_value(3))\n",
    "            except:\n",
    "                self.pressure_sensor3.append(None)\n",
    "            \n",
    "            try:\n",
    "                self.pressure_sensor4.append(tpg366.read_pressure_value(4))\n",
    "            except:\n",
    "                self.pressure_sensor4.append(None)\n",
    "            \n",
    "            try:\n",
    "                self.pressure_sensor5.append(tpg366.read_pressure_value(5))\n",
    "            except:\n",
    "                self.pressure_sensor5.append(None)\n",
    "                \n",
    "        except Exception as e:\n",
    "            logger.warning(f\"Data collection error: {e}\")\n",
    "            return\n",
    "        \n",
    "        # Clear all axes\n",
    "        self.ax1.clear()\n",
    "        self.ax2.clear()\n",
    "        self.ax3.clear()\n",
    "        self.ax4.clear()\n",
    "        self.ax5.clear()\n",
    "        \n",
    "        times = list(self.timestamps)\n",
    "        \n",
    "        if not times:\n",
    "            return\n",
    "        \n",
    "        try:\n",
    "            # Plot each sensor\n",
    "            p1_data = list(self.pressure_sensor1)\n",
    "            valid_p1 = [(t, p) for t, p in zip(times, p1_data) if p is not None]\n",
    "            if valid_p1:\n",
    "                t1, p1 = zip(*valid_p1)\n",
    "                self.ax1.plot(t1, p1, 'b-', marker='o')\n",
    "                self.ax1.set_yscale('log')\n",
    "                self.ax1.set_ylabel('Sensor 1 [mbar]')\n",
    "                self.ax1.grid(True)\n",
    "            \n",
    "            p2_data = list(self.pressure_sensor2)\n",
    "            valid_p2 = [(t, p) for t, p in zip(times, p2_data) if p is not None]\n",
    "            if valid_p2:\n",
    "                t2, p2 = zip(*valid_p2)\n",
    "                self.ax2.plot(t2, p2, 'r-', marker='s')\n",
    "                self.ax2.set_yscale('log')\n",
    "                self.ax2.set_ylabel('Sensor 2 [mbar]')\n",
    "                self.ax2.grid(True)\n",
    "            \n",
    "            p3_data = list(self.pressure_sensor3)\n",
    "            valid_p3 = [(t, p) for t, p in zip(times, p3_data) if p is not None]\n",
    "            if valid_p3:\n",
    "                t3, p3 = zip(*valid_p3)\n",
    "                self.ax3.plot(t3, p3, 'g-', marker='^')\n",
    "                self.ax3.set_yscale('log')\n",
    "                self.ax3.set_ylabel('Sensor 3 [mbar]')\n",
    "                self.ax3.grid(True)\n",
    "            \n",
    "            p4_data = list(self.pressure_sensor4)\n",
    "            valid_p4 = [(t, p) for t, p in zip(times, p4_data) if p is not None]\n",
    "            if valid_p4:\n",
    "                t4, p4 = zip(*valid_p4)\n",
    "                self.ax4.plot(t4, p4, 'm-', marker='d')\n",
    "                self.ax4.set_yscale('log')\n",
    "                self.ax4.set_ylabel('Sensor 4 [mbar]')\n",
    "                self.ax4.grid(True)\n",
    "            \n",
    "            p5_data = list(self.pressure_sensor5)\n",
    "            valid_p5 = [(t, p) for t, p in zip(times, p5_data) if p is not None]\n",
    "            if valid_p5:\n",
    "                t5, p5 = zip(*valid_p5)\n",
    "                self.ax5.plot(t5, p5, 'c-', marker='v')\n",
    "                self.ax5.set_yscale('log')\n",
    "                self.ax5.set_ylabel('Sensor 5 [mbar]')\n",
    "                self.ax5.set_xlabel('Time')\n",
    "                self.ax5.grid(True)\n",
    "                \n",
    "        except Exception as e:\n",
    "            logger.error(f\"Plotting error: {e}\")\n",
    "        \n",
    "        # Format x-axis\n",
    "        for ax in [self.ax1, self.ax2, self.ax3, self.ax4, self.ax5]:\n",
    "            ax.tick_params(axis='x', rotation=45)\n",
    "        \n",
    "        # Hide x-tick labels for all except bottom\n",
    "        for ax in [self.ax1, self.ax2, self.ax3, self.ax4]:\n",
    "            plt.setp(ax.get_xticklabels(), visible=False)\n",
    "        \n",
    "        self.fig.tight_layout()\n",
    "    \n",
    "    def _plot_thread_func(self):\n",
    "        \"\"\"Thread function that runs the matplotlib event loop\"\"\"\n",
    "        self._create_plot()\n",
    "        \n",
    "        self.ani = FuncAnimation(\n",
    "            self.fig,\n",
    "            self.update_plot,\n",
    "            interval=self.update_interval,\n",
    "            blit=False,\n",
    "            cache_frame_data=False\n",
    "        )\n",
    "        \n",
    "        plt.show(block=True)  # Block in this thread\n",
    "    \n",
    "    def start_live_plot(self):\n",
    "        \"\"\"Start live plotting in separate thread\"\"\"\n",
    "        if self.running:\n",
    "            print(\"Pressure plotter already running!\")\n",
    "            return\n",
    "        \n",
    "        self.running = True\n",
    "        self.plot_thread = threading.Thread(target=self._plot_thread_func, daemon=True)\n",
    "        self.plot_thread.start()\n",
    "        print(\"✅ Pressure-only live plotting started in separate thread\")\n",
    "    \n",
    "    def stop_live_plot(self):\n",
    "        \"\"\"Stop live plotting\"\"\"\n",
    "        if hasattr(self, 'ani') and self.ani:\n",
    "            self.ani.event_source.stop()\n",
    "        if hasattr(self, 'fig'):\n",
    "            plt.close(self.fig)\n",
    "        self.running = False\n",
    "        print(\"🛑 Pressure-only live plotting stopped.\")\n",
    "\n",
    "print(\"✅ Pressure-only plotter class ready (threaded)\")"
   ]
  },
  {
   "cell_type": "code",
   "execution_count": null,
   "id": "2a09f022",
   "metadata": {
    "ExecuteTime": {
     "end_time": "2025-10-09T08:18:51.873345Z",
     "start_time": "2025-10-09T08:18:51.854788Z"
    }
   },
   "outputs": [
    {
     "name": "stdout",
     "output_type": "stream",
     "text": [
      "✅ HiPace plotter class ready\n"
     ]
    }
   ],
   "source": [
    "class HiPacePlotter:\n",
    "    \"\"\"Live plotting class for 3 HiPace pumps (Power, RPM, Temperature) - runs in separate thread\"\"\"\n",
    "    \n",
    "    def __init__(self, update_interval=2000):\n",
    "        self.update_interval = update_interval\n",
    "        self.plot_thread = None\n",
    "        self.running = False\n",
    "        \n",
    "        # Data storage (keep last 100 points)\n",
    "        self.timestamps = deque(maxlen=100)\n",
    "        \n",
    "        # HiPace Transfer data\n",
    "        self.hipace_t_power = deque(maxlen=100)\n",
    "        self.hipace_t_rpm = deque(maxlen=100)\n",
    "        self.hipace_t_temp = deque(maxlen=100)\n",
    "        \n",
    "        # HiPace Depo data\n",
    "        self.hipace_d_power = deque(maxlen=100)\n",
    "        self.hipace_d_rpm = deque(maxlen=100)\n",
    "        self.hipace_d_temp = deque(maxlen=100)\n",
    "        \n",
    "        # HiPace450 data\n",
    "        self.hipace450_power = deque(maxlen=100)\n",
    "        self.hipace450_rpm = deque(maxlen=100)\n",
    "        self.hipace450_temp = deque(maxlen=100)\n",
    "    \n",
    "    def _create_plot(self):\n",
    "        \"\"\"Create figure with 3 subplots (sharing x-axis)\"\"\"\n",
    "        self.fig, (self.ax1, self.ax2, self.ax3) = plt.subplots(\n",
    "            3, 1, figsize=(10, 10), sharex=True\n",
    "        )\n",
    "        self.fig.suptitle('HiPace Pumps Monitoring (Transfer, Depo, 450)', fontsize=14)\n",
    "    \n",
    "    def update_plot(self, frame):\n",
    "        try:\n",
    "            current_time = datetime.now()\n",
    "            self.timestamps.append(current_time)\n",
    "            \n",
    "            # Collect HiPace Transfer data\n",
    "            try:\n",
    "                self.hipace_t_power.append(hipace_transfer.get_drive_power())\n",
    "            except:\n",
    "                self.hipace_t_power.append(None)\n",
    "            \n",
    "            try:\n",
    "                self.hipace_t_rpm.append(hipace_transfer.get_actual_speed_rpm())\n",
    "            except:\n",
    "                self.hipace_t_rpm.append(None)\n",
    "            \n",
    "            try:\n",
    "                self.hipace_t_temp.append(hipace_transfer.get_motor_temperature())\n",
    "            except:\n",
    "                self.hipace_t_temp.append(None)\n",
    "            \n",
    "            # Collect HiPace Depo data\n",
    "            try:\n",
    "                self.hipace_d_power.append(hipace_depo.get_drive_power())\n",
    "            except:\n",
    "                self.hipace_d_power.append(None)\n",
    "            \n",
    "            try:\n",
    "                self.hipace_d_rpm.append(hipace_depo.get_actual_speed_rpm())\n",
    "            except:\n",
    "                self.hipace_d_rpm.append(None)\n",
    "            \n",
    "            try:\n",
    "                self.hipace_d_temp.append(hipace_depo.get_motor_temperature())\n",
    "            except:\n",
    "                self.hipace_d_temp.append(None)\n",
    "            \n",
    "            # Collect HiPace450 data\n",
    "            try:\n",
    "                self.hipace450_power.append(hipace450.get_drive_power())\n",
    "            except:\n",
    "                self.hipace450_power.append(None)\n",
    "            \n",
    "            try:\n",
    "                self.hipace450_rpm.append(hipace450.get_actual_speed_rpm())\n",
    "            except:\n",
    "                self.hipace450_rpm.append(None)\n",
    "            \n",
    "            try:\n",
    "                self.hipace450_temp.append(hipace450.get_motor_temperature())\n",
    "            except:\n",
    "                self.hipace450_temp.append(None)\n",
    "                \n",
    "        except Exception as e:\n",
    "            logger.warning(f\"Data collection error: {e}\")\n",
    "            return\n",
    "        \n",
    "        # Clear all axes\n",
    "        self.ax1.clear()\n",
    "        self.ax2.clear()\n",
    "        self.ax3.clear()\n",
    "        \n",
    "        times = list(self.timestamps)\n",
    "        \n",
    "        if not times:\n",
    "            return\n",
    "        \n",
    "        try:\n",
    "            # Plot 1: Power\n",
    "            power_t = list(self.hipace_t_power)\n",
    "            power_d = list(self.hipace_d_power)\n",
    "            power_450 = list(self.hipace450_power)\n",
    "            \n",
    "            valid_t_power = [(t, p) for t, p in zip(times, power_t) if p is not None]\n",
    "            valid_d_power = [(t, p) for t, p in zip(times, power_d) if p is not None]\n",
    "            valid_450_power = [(t, p) for t, p in zip(times, power_450) if p is not None]\n",
    "            \n",
    "            if valid_t_power:\n",
    "                t_t, p_t = zip(*valid_t_power)\n",
    "                self.ax1.plot(t_t, p_t, 'g-', marker='^', label='Transfer')\n",
    "            \n",
    "            if valid_d_power:\n",
    "                t_d, p_d = zip(*valid_d_power)\n",
    "                self.ax1.plot(t_d, p_d, 'm-', marker='d', label='Depo')\n",
    "            \n",
    "            if valid_450_power:\n",
    "                t_450, p_450 = zip(*valid_450_power)\n",
    "                self.ax1.plot(t_450, p_450, 'orange', marker='s', label='HiPace450')\n",
    "            \n",
    "            self.ax1.set_ylabel('Power [W]')\n",
    "            self.ax1.set_title('Drive Power')\n",
    "            self.ax1.legend(loc='upper right')\n",
    "            self.ax1.grid(True)\n",
    "            \n",
    "            # Plot 2: RPM\n",
    "            rpm_t = list(self.hipace_t_rpm)\n",
    "            rpm_d = list(self.hipace_d_rpm)\n",
    "            rpm_450 = list(self.hipace450_rpm)\n",
    "            \n",
    "            valid_t_rpm = [(t, r) for t, r in zip(times, rpm_t) if r is not None]\n",
    "            valid_d_rpm = [(t, r) for t, r in zip(times, rpm_d) if r is not None]\n",
    "            valid_450_rpm = [(t, r) for t, r in zip(times, rpm_450) if r is not None]\n",
    "            \n",
    "            if valid_t_rpm:\n",
    "                t_t, r_t = zip(*valid_t_rpm)\n",
    "                self.ax2.plot(t_t, r_t, 'g-', marker='^', label='Transfer')\n",
    "            \n",
    "            if valid_d_rpm:\n",
    "                t_d, r_d = zip(*valid_d_rpm)\n",
    "                self.ax2.plot(t_d, r_d, 'm-', marker='d', label='Depo')\n",
    "            \n",
    "            if valid_450_rpm:\n",
    "                t_450, r_450 = zip(*valid_450_rpm)\n",
    "                self.ax2.plot(t_450, r_450, 'orange', marker='s', label='HiPace450')\n",
    "            \n",
    "            self.ax2.set_ylabel('RPM')\n",
    "            self.ax2.set_title('Rotation Speed')\n",
    "            self.ax2.legend(loc='upper right')\n",
    "            self.ax2.grid(True)\n",
    "            \n",
    "            # Plot 3: Temperature\n",
    "            temp_t = list(self.hipace_t_temp)\n",
    "            temp_d = list(self.hipace_d_temp)\n",
    "            temp_450 = list(self.hipace450_temp)\n",
    "            \n",
    "            valid_t_temp = [(t, temp) for t, temp in zip(times, temp_t) if temp is not None]\n",
    "            valid_d_temp = [(t, temp) for t, temp in zip(times, temp_d) if temp is not None]\n",
    "            valid_450_temp = [(t, temp) for t, temp in zip(times, temp_450) if temp is not None]\n",
    "            \n",
    "            if valid_t_temp:\n",
    "                t_t, temp_t_val = zip(*valid_t_temp)\n",
    "                self.ax3.plot(t_t, temp_t_val, 'g-', marker='^', label='Transfer')\n",
    "            \n",
    "            if valid_d_temp:\n",
    "                t_d, temp_d_val = zip(*valid_d_temp)\n",
    "                self.ax3.plot(t_d, temp_d_val, 'm-', marker='d', label='Depo')\n",
    "            \n",
    "            if valid_450_temp:\n",
    "                t_450, temp_450_val = zip(*valid_450_temp)\n",
    "                self.ax3.plot(t_450, temp_450_val, 'orange', marker='s', label='HiPace450')\n",
    "            \n",
    "            self.ax3.set_ylabel('Temperature [degC]')\n",
    "            self.ax3.set_xlabel('Time')\n",
    "            self.ax3.set_title('Motor Temperature')\n",
    "            self.ax3.legend(loc='upper right')\n",
    "            self.ax3.grid(True)\n",
    "            \n",
    "        except Exception as e:\n",
    "            logger.error(f\"Plotting error: {e}\")\n",
    "        \n",
    "        # Format x-axis\n",
    "        for ax in [self.ax1, self.ax2, self.ax3]:\n",
    "            ax.tick_params(axis='x', rotation=45)\n",
    "        \n",
    "        # Hide x-tick labels for all except bottom\n",
    "        for ax in [self.ax1, self.ax2]:\n",
    "            plt.setp(ax.get_xticklabels(), visible=False)\n",
    "        \n",
    "        self.fig.tight_layout()\n",
    "    \n",
    "    def _plot_thread_func(self):\n",
    "        \"\"\"Thread function that runs the matplotlib event loop\"\"\"\n",
    "        self._create_plot()\n",
    "        \n",
    "        self.ani = FuncAnimation(\n",
    "            self.fig,\n",
    "            self.update_plot,\n",
    "            interval=self.update_interval,\n",
    "            blit=False,\n",
    "            cache_frame_data=False\n",
    "        )\n",
    "        \n",
    "        plt.show(block=True)  # Block in this thread\n",
    "    \n",
    "    def start_live_plot(self):\n",
    "        \"\"\"Start live plotting in separate thread\"\"\"\n",
    "        if self.running:\n",
    "            print(\"HiPace plotter already running!\")\n",
    "            return\n",
    "        \n",
    "        self.running = True\n",
    "        self.plot_thread = threading.Thread(target=self._plot_thread_func, daemon=True)\n",
    "        self.plot_thread.start()\n",
    "        print(\"✅ HiPace pumps live plotting started in separate thread\")\n",
    "    \n",
    "    def stop_live_plot(self):\n",
    "        \"\"\"Stop live plotting\"\"\"\n",
    "        if hasattr(self, 'ani') and self.ani:\n",
    "            self.ani.event_source.stop()\n",
    "        if hasattr(self, 'fig'):\n",
    "            plt.close(self.fig)\n",
    "        self.running = False\n",
    "        print(\"🛑 HiPace pumps live plotting stopped.\")\n",
    "\n",
    "print(\"✅ HiPace plotter class ready (threaded)\")"
   ]
  },
  {
   "cell_type": "code",
   "execution_count": null,
   "id": "2c78f467",
   "metadata": {
    "ExecuteTime": {
     "end_time": "2025-10-09T08:18:52.940402Z",
     "start_time": "2025-10-09T08:18:52.926049Z"
    }
   },
   "outputs": [
    {
     "name": "stdout",
     "output_type": "stream",
     "text": [
      "✅ HiScroll plotter class ready\n"
     ]
    }
   ],
   "source": [
    "class HiScrollPlotter:\n",
    "    \"\"\"Live plotting class for 2 HiScroll pumps (Temperature and Power with dual y-axes) - runs in separate thread\"\"\"\n",
    "    \n",
    "    def __init__(self, update_interval=2000):\n",
    "        self.update_interval = update_interval\n",
    "        self.plot_thread = None\n",
    "        self.running = False\n",
    "        \n",
    "        # Data storage (keep last 100 points)\n",
    "        self.timestamps = deque(maxlen=100)\n",
    "        \n",
    "        # HiScroll1 data\n",
    "        self.hiscroll1_temp = deque(maxlen=100)\n",
    "        self.hiscroll1_power = deque(maxlen=100)\n",
    "        \n",
    "        # HiScroll2 data\n",
    "        self.hiscroll2_temp = deque(maxlen=100)\n",
    "        self.hiscroll2_power = deque(maxlen=100)\n",
    "    \n",
    "    def _create_plot(self):\n",
    "        \"\"\"Create figure with 2 subplots (sharing x-axis)\"\"\"\n",
    "        self.fig, (self.ax1, self.ax2) = plt.subplots(\n",
    "            2, 1, figsize=(10, 8), sharex=True\n",
    "        )\n",
    "        self.fig.suptitle('HiScroll Pumps Monitoring (Temperature & Power)', fontsize=14)\n",
    "    \n",
    "    def update_plot(self, frame):\n",
    "        try:\n",
    "            current_time = datetime.now()\n",
    "            self.timestamps.append(current_time)\n",
    "            \n",
    "            # Collect HiScroll1 data\n",
    "            try:\n",
    "                self.hiscroll1_temp.append(hiscroll1.get_temp_motor())\n",
    "            except:\n",
    "                self.hiscroll1_temp.append(None)\n",
    "            \n",
    "            try:\n",
    "                self.hiscroll1_power.append(hiscroll1.get_drive_power())\n",
    "            except:\n",
    "                self.hiscroll1_power.append(None)\n",
    "            \n",
    "            # Collect HiScroll2 data\n",
    "            try:\n",
    "                self.hiscroll2_temp.append(hiscroll2.get_temp_motor())\n",
    "            except:\n",
    "                self.hiscroll2_temp.append(None)\n",
    "            \n",
    "            try:\n",
    "                self.hiscroll2_power.append(hiscroll2.get_drive_power())\n",
    "            except:\n",
    "                self.hiscroll2_power.append(None)\n",
    "                \n",
    "        except Exception as e:\n",
    "            logger.warning(f\"Data collection error: {e}\")\n",
    "            return\n",
    "        \n",
    "        # Clear all axes\n",
    "        self.ax1.clear()\n",
    "        self.ax2.clear()\n",
    "        \n",
    "        times = list(self.timestamps)\n",
    "        \n",
    "        if not times:\n",
    "            return\n",
    "        \n",
    "        try:\n",
    "            # Plot 1: HiScroll1 with dual y-axes\n",
    "            temp1 = list(self.hiscroll1_temp)\n",
    "            power1 = list(self.hiscroll1_power)\n",
    "            \n",
    "            valid_temp1 = [(t, temp) for t, temp in zip(times, temp1) if temp is not None]\n",
    "            valid_power1 = [(t, p) for t, p in zip(times, power1) if p is not None]\n",
    "            \n",
    "            # Left y-axis: Temperature\n",
    "            if valid_temp1:\n",
    "                t_temp1, temp1_val = zip(*valid_temp1)\n",
    "                self.ax1.plot(t_temp1, temp1_val, 'b-', marker='o', label='Temperature')\n",
    "            \n",
    "            self.ax1.set_ylabel('Temperature [degC]', color='b')\n",
    "            self.ax1.tick_params(axis='y', labelcolor='b')\n",
    "            self.ax1.set_title('HiScroll1')\n",
    "            self.ax1.grid(True, alpha=0.3)\n",
    "            \n",
    "            # Right y-axis: Power\n",
    "            ax1_twin = self.ax1.twinx()\n",
    "            if valid_power1:\n",
    "                t_power1, power1_val = zip(*valid_power1)\n",
    "                ax1_twin.plot(t_power1, power1_val, 'r--', marker='s', label='Power', alpha=0.7)\n",
    "            \n",
    "            ax1_twin.set_ylabel('Power [W]', color='r')\n",
    "            ax1_twin.tick_params(axis='y', labelcolor='r')\n",
    "            \n",
    "            # Combine legends\n",
    "            lines1, labels1 = self.ax1.get_legend_handles_labels()\n",
    "            lines2, labels2 = ax1_twin.get_legend_handles_labels()\n",
    "            self.ax1.legend(lines1 + lines2, labels1 + labels2, loc='upper left')\n",
    "            \n",
    "            # Plot 2: HiScroll2 with dual y-axes\n",
    "            temp2 = list(self.hiscroll2_temp)\n",
    "            power2 = list(self.hiscroll2_power)\n",
    "            \n",
    "            valid_temp2 = [(t, temp) for t, temp in zip(times, temp2) if temp is not None]\n",
    "            valid_power2 = [(t, p) for t, p in zip(times, power2) if p is not None]\n",
    "            \n",
    "            # Left y-axis: Temperature\n",
    "            if valid_temp2:\n",
    "                t_temp2, temp2_val = zip(*valid_temp2)\n",
    "                self.ax2.plot(t_temp2, temp2_val, 'b-', marker='o', label='Temperature')\n",
    "            \n",
    "            self.ax2.set_ylabel('Temperature [degC]', color='b')\n",
    "            self.ax2.tick_params(axis='y', labelcolor='b')\n",
    "            self.ax2.set_xlabel('Time')\n",
    "            self.ax2.set_title('HiScroll2')\n",
    "            self.ax2.grid(True, alpha=0.3)\n",
    "            \n",
    "            # Right y-axis: Power\n",
    "            ax2_twin = self.ax2.twinx()\n",
    "            if valid_power2:\n",
    "                t_power2, power2_val = zip(*valid_power2)\n",
    "                ax2_twin.plot(t_power2, power2_val, 'r--', marker='s', label='Power', alpha=0.7)\n",
    "            \n",
    "            ax2_twin.set_ylabel('Power [W]', color='r')\n",
    "            ax2_twin.tick_params(axis='y', labelcolor='r')\n",
    "            \n",
    "            # Combine legends\n",
    "            lines1, labels1 = self.ax2.get_legend_handles_labels()\n",
    "            lines2, labels2 = ax2_twin.get_legend_handles_labels()\n",
    "            self.ax2.legend(lines1 + lines2, labels1 + labels2, loc='upper left')\n",
    "            \n",
    "        except Exception as e:\n",
    "            logger.error(f\"Plotting error: {e}\")\n",
    "        \n",
    "        # Format x-axis\n",
    "        for ax in [self.ax1, self.ax2]:\n",
    "            ax.tick_params(axis='x', rotation=45)\n",
    "        \n",
    "        # Hide x-tick labels for top plot\n",
    "        plt.setp(self.ax1.get_xticklabels(), visible=False)\n",
    "        \n",
    "        self.fig.tight_layout()\n",
    "    \n",
    "    def _plot_thread_func(self):\n",
    "        \"\"\"Thread function that runs the matplotlib event loop\"\"\"\n",
    "        self._create_plot()\n",
    "        \n",
    "        self.ani = FuncAnimation(\n",
    "            self.fig,\n",
    "            self.update_plot,\n",
    "            interval=self.update_interval,\n",
    "            blit=False,\n",
    "            cache_frame_data=False\n",
    "        )\n",
    "        \n",
    "        plt.show(block=True)  # Block in this thread\n",
    "    \n",
    "    def start_live_plot(self):\n",
    "        \"\"\"Start live plotting in separate thread\"\"\"\n",
    "        if self.running:\n",
    "            print(\"HiScroll plotter already running!\")\n",
    "            return\n",
    "        \n",
    "        self.running = True\n",
    "        self.plot_thread = threading.Thread(target=self._plot_thread_func, daemon=True)\n",
    "        self.plot_thread.start()\n",
    "        print(\"✅ HiScroll pumps live plotting started in separate thread\")\n",
    "    \n",
    "    def stop_live_plot(self):\n",
    "        \"\"\"Stop live plotting\"\"\"\n",
    "        if hasattr(self, 'ani') and self.ani:\n",
    "            self.ani.event_source.stop()\n",
    "        if hasattr(self, 'fig'):\n",
    "            plt.close(self.fig)\n",
    "        self.running = False\n",
    "        print(\"🛑 HiScroll pumps live plotting stopped.\")\n",
    "\n",
    "print(\"✅ HiScroll plotter class ready (threaded)\")"
   ]
  },
  {
   "cell_type": "code",
   "execution_count": 20,
   "id": "2f0cda33",
   "metadata": {
    "ExecuteTime": {
     "end_time": "2025-10-09T08:18:12.024672Z",
     "start_time": "2025-10-09T08:18:11.932652Z"
    }
   },
   "outputs": [],
   "source": [
    "# Set matplotlib backend to Qt for separate windows\n",
    "%matplotlib qt"
   ]
  },
  {
   "cell_type": "markdown",
   "id": "14ce769a",
   "metadata": {},
   "source": [
    "### Start Individual Plot Windows\n",
    "\n",
    "Run each cell below to open a separate plot window. All windows will update simultaneously and the kernel remains free for executing other cells."
   ]
  },
  {
   "cell_type": "code",
   "execution_count": 37,
   "id": "5c9e9fa5",
   "metadata": {
    "ExecuteTime": {
     "end_time": "2025-10-09T08:21:09.003820Z",
     "start_time": "2025-10-09T08:21:08.957909Z"
    }
   },
   "outputs": [
    {
     "name": "stdout",
     "output_type": "stream",
     "text": [
      "Pressure-only live plotting started in separate window\n"
     ]
    }
   ],
   "source": [
    "# Start Window 1: All Pressures (5 sensors)\n",
    "pressure_plotter = PressureOnlyPlotter(update_interval=1000)\n",
    "pressure_plotter.start_live_plot()"
   ]
  },
  {
   "cell_type": "code",
   "execution_count": 38,
   "id": "c0ee347a",
   "metadata": {
    "ExecuteTime": {
     "end_time": "2025-10-09T08:21:09.790841Z",
     "start_time": "2025-10-09T08:21:09.748239Z"
    }
   },
   "outputs": [
    {
     "name": "stdout",
     "output_type": "stream",
     "text": [
      "HiPace pumps live plotting started in separate window\n"
     ]
    }
   ],
   "source": [
    "# Start Window 2: HiPace Pumps (Power, RPM, Temperature)\n",
    "hipace_plotter = HiPacePlotter(update_interval=1000)\n",
    "hipace_plotter.start_live_plot()"
   ]
  },
  {
   "cell_type": "code",
   "execution_count": 39,
   "id": "27a06daa",
   "metadata": {
    "ExecuteTime": {
     "end_time": "2025-10-09T08:21:11.076234Z",
     "start_time": "2025-10-09T08:21:10.808267Z"
    }
   },
   "outputs": [
    {
     "name": "stdout",
     "output_type": "stream",
     "text": [
      "HiScroll pumps live plotting started in separate window\n"
     ]
    }
   ],
   "source": [
    "# Start Window 3: HiScroll Pumps (Temperature & Power with dual y-axes)\n",
    "hiscroll_plotter = HiScrollPlotter(update_interval=1000)\n",
    "hiscroll_plotter.start_live_plot()"
   ]
  },
  {
   "cell_type": "markdown",
   "id": "6d507b55",
   "metadata": {},
   "source": [
    "### Stop Individual Plot Windows\n",
    "\n",
    "Run the cells below to stop specific plot windows."
   ]
  },
  {
   "cell_type": "code",
   "execution_count": 40,
   "id": "7f00d4f5",
   "metadata": {
    "ExecuteTime": {
     "end_time": "2025-10-09T08:22:45.412787Z",
     "start_time": "2025-10-09T08:22:45.406765Z"
    }
   },
   "outputs": [
    {
     "name": "stdout",
     "output_type": "stream",
     "text": [
      "Pressure-only live plotting stopped.\n"
     ]
    }
   ],
   "source": [
    "# Stop pressure plotter\n",
    "pressure_plotter.stop_live_plot()"
   ]
  },
  {
   "cell_type": "code",
   "execution_count": 41,
   "id": "e81b6462",
   "metadata": {
    "ExecuteTime": {
     "end_time": "2025-10-09T08:22:46.774478Z",
     "start_time": "2025-10-09T08:22:46.769679Z"
    }
   },
   "outputs": [
    {
     "name": "stdout",
     "output_type": "stream",
     "text": [
      "HiPace pumps live plotting stopped.\n"
     ]
    }
   ],
   "source": [
    "# Stop HiPace plotter\n",
    "hipace_plotter.stop_live_plot()"
   ]
  },
  {
   "cell_type": "code",
   "execution_count": null,
   "id": "e98c6d15",
   "metadata": {},
   "outputs": [],
   "source": [
    "# Stop HiScroll plotter\n",
    "hiscroll_plotter.stop_live_plot()"
   ]
  },
  {
   "cell_type": "markdown",
   "id": "5246387c",
   "metadata": {},
   "source": [
    "## 8. Data Logging and Export\n",
    "\n",
    "Export collected data for further analysis."
   ]
  },
  {
   "cell_type": "code",
   "execution_count": null,
   "id": "9bdaafb6",
   "metadata": {},
   "outputs": [],
   "source": [
    "def export_pressure_chain_data(plotter, filename=None):\n",
    "    \"\"\"Export collected data to CSV file\"\"\"\n",
    "    \n",
    "    if filename is None:\n",
    "        timestamp = datetime.now().strftime('%Y%m%d_%H%M%S')\n",
    "        filename = f\"esibd_pressure_chain_{timestamp}.csv\"\n",
    "    \n",
    "    # Create DataFrame from collected data\n",
    "    data = {\n",
    "        'timestamp': list(plotter.timestamps),\n",
    "        'pressure_sensor1': list(plotter.pressure_sensor1),\n",
    "        'pressure_sensor2': list(plotter.pressure_sensor2),\n",
    "        'pressure_sensor3': list(plotter.pressure_sensor3),\n",
    "        'pressure_sensor4': list(plotter.pressure_sensor4),\n",
    "        'pressure_sensor5': list(plotter.pressure_sensor5),\n",
    "        'hiscroll1_temp': list(plotter.hiscroll1_temp),\n",
    "        'hiscroll2_temp': list(plotter.hiscroll2_temp),\n",
    "        'hipace_transfer_temp': list(plotter.hipace_transfer_temp),\n",
    "        'hipace_depo_temp': list(plotter.hipace_depo_temp),\n",
    "        'hipace450_temp': list(plotter.hipace450_temp),\n",
    "        'chiller_current_temp': list(plotter.chiller_current_temp),\n",
    "        'chiller_set_temp': list(plotter.chiller_set_temp)\n",
    "    }\n",
    "    \n",
    "    df = pd.DataFrame(data)\n",
    "    df.to_csv(filename, index=False)\n",
    "    logger.info(f\"Data exported to {filename}\")\n",
    "    print(f\"✅ Data exported to {filename}\")\n",
    "    print(f\"   Total data points: {len(df)}\")\n",
    "    return df\n",
    "\n",
    "print(\"✅ Data export function ready\")"
   ]
  },
  {
   "cell_type": "code",
   "execution_count": null,
   "id": "512ca1f3",
   "metadata": {},
   "outputs": [],
   "source": [
    "# Export collected data\n",
    "df = export_pressure_chain_data(plotter)"
   ]
  },
  {
   "cell_type": "markdown",
   "id": "8945b101",
   "metadata": {},
   "source": [
    "## 9. Stop Housekeeping and Disconnect Devices"
   ]
  },
  {
   "cell_type": "code",
   "execution_count": 44,
   "id": "18fac473",
   "metadata": {
    "ExecuteTime": {
     "end_time": "2025-10-09T08:24:13.771969Z",
     "start_time": "2025-10-09T08:24:13.551921Z"
    }
   },
   "outputs": [
    {
     "name": "stderr",
     "output_type": "stream",
     "text": [
      "2025-10-09 10:24:13 | INFO | Housekeeping stopped (internal mode)\n",
      "2025-10-09 10:24:13 | INFO | Housekeeping stopped (internal mode)\n",
      "2025-10-09 10:24:13 | INFO | Housekeeping stopped (internal mode)\n",
      "2025-10-09 10:24:13 | INFO | Housekeeping stopped (internal mode)\n"
     ]
    },
    {
     "name": "stdout",
     "output_type": "stream",
     "text": [
      "✅ Housekeeping stopped for all devices\n"
     ]
    }
   ],
   "source": [
    "# Stop housekeeping for all devices\n",
    "#hiscroll1.stop_housekeeping()\n",
    "hiscroll2.stop_housekeeping()\n",
    "hipace_transfer.stop_housekeeping()\n",
    "hipace_depo.stop_housekeeping()\n",
    "chiller.stop_housekeeping()\n",
    "\n",
    "print(\"✅ Housekeeping stopped for all devices\")"
   ]
  },
  {
   "cell_type": "code",
   "execution_count": 45,
   "id": "83c859e4",
   "metadata": {
    "ExecuteTime": {
     "end_time": "2025-10-09T08:24:17.010328Z",
     "start_time": "2025-10-09T08:24:16.523441Z"
    }
   },
   "outputs": [
    {
     "name": "stderr",
     "output_type": "stream",
     "text": [
      "2025-10-09 10:24:16 | INFO | Disconnected from Pfeiffer device hiscroll2\n"
     ]
    },
    {
     "name": "stdout",
     "output_type": "stream",
     "text": [
      "Disconnecting all devices...\n",
      "  ✅ HiScroll2 disconnected\n"
     ]
    },
    {
     "name": "stderr",
     "output_type": "stream",
     "text": [
      "2025-10-09 10:24:16 | INFO | Disconnected from Pfeiffer device hipace_transfer\n",
      "2025-10-09 10:24:16 | INFO | Disconnected from Pfeiffer device hipace_depo\n"
     ]
    },
    {
     "name": "stdout",
     "output_type": "stream",
     "text": [
      "  ✅ HiPace300 Transfer disconnected\n",
      "  ✅ HiPace300 Depo disconnected\n"
     ]
    },
    {
     "name": "stderr",
     "output_type": "stream",
     "text": [
      "2025-10-09 10:24:17 | INFO | Disconnected from Pfeiffer device tpg366\n",
      "2025-10-09 10:24:17 | INFO | Disconnected from chiller chiller\n"
     ]
    },
    {
     "name": "stdout",
     "output_type": "stream",
     "text": [
      "  ✅ TPG366 disconnected\n",
      "  ✅ Chiller disconnected\n",
      "\n",
      "✅ All devices disconnected\n"
     ]
    }
   ],
   "source": [
    "# Disconnect all devices\n",
    "print(\"Disconnecting all devices...\")\n",
    "\n",
    "#try:\n",
    "#    hiscroll1.disconnect()\n",
    "#    print(\"  ✅ HiScroll1 disconnected\")\n",
    "#except Exception as e:\n",
    "#    print(f\"  ⚠️ HiScroll1 disconnect error: {e}\")\n",
    "\n",
    "try:\n",
    "    hiscroll2.disconnect()\n",
    "    print(\"  ✅ HiScroll2 disconnected\")\n",
    "except Exception as e:\n",
    "    print(f\"  ⚠️ HiScroll2 disconnect error: {e}\")\n",
    "\n",
    "try:\n",
    "    hipace_transfer.disconnect()\n",
    "    print(\"  ✅ HiPace300 Transfer disconnected\")\n",
    "except Exception as e:\n",
    "    print(f\"  ⚠️ HiPace300 Transfer disconnect error: {e}\")\n",
    "\n",
    "try:\n",
    "    hipace_depo.disconnect()\n",
    "    print(\"  ✅ HiPace300 Depo disconnected\")\n",
    "except Exception as e:\n",
    "    print(f\"  ⚠️ HiPace300 Depo disconnect error: {e}\")\n",
    "\n",
    "try:\n",
    "    tpg366.disconnect()\n",
    "    print(\"  ✅ TPG366 disconnected\")\n",
    "except Exception as e:\n",
    "    print(f\"  ⚠️ TPG366 disconnect error: {e}\")\n",
    "\n",
    "try:\n",
    "    chiller.disconnect()\n",
    "    print(\"  ✅ Chiller disconnected\")\n",
    "except Exception as e:\n",
    "    print(f\"  ⚠️ Chiller disconnect error: {e}\")\n",
    "\n",
    "print(\"\\n✅ All devices disconnected\")"
   ]
  },
  {
   "cell_type": "markdown",
   "id": "6dcdf3d3",
   "metadata": {},
   "source": [
    "## Summary & Quick Reference\n",
    "\n",
    "### Device Overview:\n",
    "- **HiScroll1 & HiScroll2**: Backing pumps\n",
    "- **HiPace300 Transfer**: Transfer chamber turbo pump\n",
    "- **HiPace300 Depo**: Deposition chamber turbo pump\n",
    "- **HiPace450**: Main high vacuum pump (placeholder - implementation needed)\n",
    "- **TPG366**: Pressure controller with 5 sensors\n",
    "- **Chiller**: Cooling unit\n",
    "\n",
    "### Live Plotting Features:\n",
    "- **5 Pressure Plots**: One for each TPG366 sensor (shared time axis, log scale)\n",
    "- **HiScroll Temperature Plot**: Combined plot for both HiScroll pumps\n",
    "- **HiPace Temperature Plot**: Combined plot for all HiPace pumps\n",
    "\n",
    "### Key Operations:\n",
    "\n",
    "#### Connect All Devices:\n",
    "Run cells in Section 4 sequentially\n",
    "\n",
    "#### Start Monitoring:\n",
    "1. Start housekeeping (Section 5)\n",
    "2. Enable live plotting (Section 7)\n",
    "\n",
    "#### Control Individual Pumps:\n",
    "- Section 6.1: HiScroll pump control\n",
    "- Section 6.2: HiPace300 pump control\n",
    "\n",
    "#### Export Data:\n",
    "Run export cell in Section 8\n",
    "\n",
    "#### Shutdown:\n",
    "1. Stop live plotting\n",
    "2. Stop housekeeping (Section 9)\n",
    "3. Disconnect all devices (Section 9)\n",
    "\n",
    "### Data Logging:\n",
    "All device communications are logged to:\n",
    "- File: `debugging/logs/esibd_pressure_chain_YYYYMMDD_HHMMSS.log`\n",
    "- Format: Timestamp | Level | Module | Message\n",
    "\n",
    "### Notes:\n",
    "- Always start backing pumps (HiScrolls) before turbo pumps (HiPaces)\n",
    "- Monitor pressure before enabling turbo pumps\n",
    "- Wait for pressure to be low enough before starting turbo pumps\n",
    "- HiPace450 device class needs to be implemented\n",
    "- Update interval for live plotting can be adjusted (default: 2 seconds)"
   ]
  }
 ],
 "metadata": {
  "kernelspec": {
   "display_name": "ESIBD",
   "language": "python",
   "name": "python3"
  },
  "language_info": {
   "codemirror_mode": {
    "name": "ipython",
    "version": 3
   },
   "file_extension": ".py",
   "mimetype": "text/x-python",
   "name": "python",
   "nbconvert_exporter": "python",
   "pygments_lexer": "ipython3",
   "version": "3.11.8"
  }
 },
 "nbformat": 4,
 "nbformat_minor": 5
}
