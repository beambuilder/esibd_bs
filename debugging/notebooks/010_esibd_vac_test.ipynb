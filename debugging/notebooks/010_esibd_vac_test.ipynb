{
 "cells": [
  {
   "cell_type": "markdown",
   "id": "2f9777df",
   "metadata": {},
   "source": [
    "# Complete ESIBD Pressure Chain Test\n",
    "\n",
    "This notebook provides comprehensive control and monitoring for the complete ESIBD instrument pressure chain.\n",
    "\n",
    "## Equipment Configuration:\n",
    "- **HiScroll Pumps**: 2 units (HiScroll1, HiScroll2) as backing pumps\n",
    "- **HiPace300 Pumps**: 2 units (Transfer Chamber, Deposition Chamber)\n",
    "- **HiPace450 Pump**: 1 unit (main high vacuum pump)\n",
    "- **TPG366**: Pressure controller with 5 pressure sensors\n",
    "- **Chiller**: 1 cooling unit\n",
    "\n",
    "## Features:\n",
    "- Individual pump control (turn on/off each pump separately)\n",
    "- Live monitoring with multiple synchronized plots\n",
    "- Pressure monitoring (5 sensors with shared time axis)\n",
    "- Temperature monitoring (HiScrolls and HiPaces separately)\n",
    "- Data logging with timestamps\n",
    "- Shared logging system using loguru"
   ]
  },
  {
   "cell_type": "markdown",
   "id": "8b5c1dd8",
   "metadata": {},
   "source": [
    "## 1. Import Required Libraries and Setup"
   ]
  },
  {
   "cell_type": "code",
   "id": "878a3804",
   "metadata": {
    "ExecuteTime": {
     "end_time": "2025-10-09T13:07:05.939647Z",
     "start_time": "2025-10-09T13:07:05.106683Z"
    }
   },
   "source": [
    "import sys\n",
    "import threading\n",
    "import time\n",
    "from datetime import datetime\n",
    "import asyncio\n",
    "from typing import Dict, Optional, Any\n",
    "import pandas as pd\n",
    "import matplotlib.pyplot as plt\n",
    "from IPython.display import display, clear_output\n",
    "import ipywidgets as widgets\n",
    "import pickle\n",
    "from collections import deque\n",
    "\n",
    "from loguru import logger\n",
    "import os\n",
    "from pathlib import Path\n",
    "\n",
    "# Add path to src modules\n",
    "sys.path.append(os.path.join(os.getcwd(), '..', '..', 'src'))\n",
    "\n",
    "# Import device modules\n",
    "from devices.pfeiffer.hiscroll12.hiscroll12 import HiScroll12\n",
    "from devices.pfeiffer.hipacebus import HiPace300Bus\n",
    "from devices.pfeiffer.tpg366.tpg366 import TPG366\n",
    "from devices.chiller.chiller import Chiller\n",
    "\n",
    "print(\"✅ All libraries and device modules imported successfully\")"
   ],
   "outputs": [
    {
     "name": "stdout",
     "output_type": "stream",
     "text": [
      "✅ All libraries and device modules imported successfully\n"
     ]
    }
   ],
   "execution_count": 1
  },
  {
   "cell_type": "markdown",
   "id": "d78a6833",
   "metadata": {},
   "source": [
    "## 2. Setup Shared Logging System"
   ]
  },
  {
   "cell_type": "code",
   "id": "3ef2c1ef",
   "metadata": {
    "ExecuteTime": {
     "end_time": "2025-10-09T13:07:06.679759Z",
     "start_time": "2025-10-09T13:07:06.669756Z"
    }
   },
   "source": [
    "# Get the repository root and create shared logs directory\n",
    "repo_root = Path(os.getcwd()).parent.parent\n",
    "log_dir = repo_root / \"debugging\" / \"logs\"\n",
    "log_dir.mkdir(parents=True, exist_ok=True)\n",
    "\n",
    "# Create shared log file for all devices\n",
    "timestamp = datetime.now().strftime(\"%Y%m%d_%H%M%S\")\n",
    "shared_log_file = log_dir / f\"esibd_pressure_chain_{timestamp}.log\"\n",
    "\n",
    "# Configure shared logger\n",
    "logger.remove()  # Remove default logger\n",
    "\n",
    "# Add console logger with INFO level\n",
    "logger.add(sys.stderr, level=\"INFO\", format=\"{time:YYYY-MM-DD HH:mm:ss} | {level} | {message}\")\n",
    "\n",
    "# Add shared file logger with DEBUG level\n",
    "logger.add(\n",
    "    str(shared_log_file),\n",
    "    level=\"DEBUG\",\n",
    "    format=\"{time:YYYY-MM-DD HH:mm:ss.SSS} | {level} | {name}:{function}:{line} | {message}\",\n",
    "    rotation=\"1 day\",\n",
    "    retention=\"30 days\",\n",
    "    compression=\"zip\"\n",
    ")\n",
    "\n",
    "logger.info(\"ESIBD Pressure Chain Test system initialized with shared logging\")\n",
    "print(f\"Repository root: {repo_root}\")\n",
    "print(f\"Shared logs will be saved to: {shared_log_file}\")"
   ],
   "outputs": [
    {
     "name": "stderr",
     "output_type": "stream",
     "text": [
      "2025-10-09 15:07:06 | INFO | ESIBD Pressure Chain Test system initialized with shared logging\n"
     ]
    },
    {
     "name": "stdout",
     "output_type": "stream",
     "text": [
      "Repository root: C:\\Users\\ESIBDlab\\PycharmProjects\\esibd_bs\n",
      "Shared logs will be saved to: C:\\Users\\ESIBDlab\\PycharmProjects\\esibd_bs\\debugging\\logs\\esibd_pressure_chain_20251009_150706.log\n"
     ]
    }
   ],
   "execution_count": 2
  },
  {
   "cell_type": "markdown",
   "id": "c987639e",
   "metadata": {},
   "source": [
    "## 3. Device Configuration (COM Ports & Addresses)"
   ]
  },
  {
   "cell_type": "code",
   "id": "c564e98d",
   "metadata": {
    "ExecuteTime": {
     "end_time": "2025-10-09T13:07:08.106888Z",
     "start_time": "2025-10-09T13:07:08.099927Z"
    }
   },
   "source": [
    "# Device configuration dictionaries\n",
    "# Modify these COM ports and addresses according to your actual hardware setup\n",
    "\n",
    "# HiScroll backing pumps\n",
    "#HiScroll1_dict = {\n",
    "#    'com_port': 'COM19',\n",
    "#    'device_address': 2,\n",
    "#    'device_type': 'HiScroll12',\n",
    "#    'description': 'Backing pump 1'\n",
    "#}\n",
    "\n",
    "HiScroll2_dict = {\n",
    "    'com_port': 'COM21',\n",
    "    'device_address': 2,\n",
    "    'device_type': 'HiScroll12',\n",
    "    'description': 'Backing pump 2'\n",
    "}\n",
    "\n",
    "# HiPace300 turbo pumps\n",
    "HiPace300_Transfer_dict = {\n",
    "    'com_port': 'COM43',\n",
    "    'device_address': 101,\n",
    "    'omnicontrol_address': 101,\n",
    "    'tc400_address': 1,\n",
    "    'gauge1_address': 122,\n",
    "    'device_type': 'HiPace300',\n",
    "    'description': 'Transfer chamber turbo pump'\n",
    "}\n",
    "\n",
    "HiPace300_Depo_dict = {\n",
    "    'com_port': 'COM37',\n",
    "    'device_address': 101,\n",
    "    'omnicontrol_address': 101,\n",
    "    'tc400_address': 1,\n",
    "    'gauge1_address': 122,\n",
    "    'device_type': 'HiPace300', \n",
    "    'description': 'Deposition chamber turbo pump'\n",
    "}\n",
    "\n",
    "# HiPace450 main turbo pump (placeholder - needs device class implementation)\n",
    "HiPace450_dict = {\n",
    "    'com_port': 'COM19',\n",
    "    'device_address': 101,\n",
    "    'omnicontrol_address': 101,\n",
    "    'tc400_address': 1,\n",
    "    'gauge1_address': 122,\n",
    "    'device_type': 'HiPace450',\n",
    "    'description': 'Main high vacuum pump (initialized as HiPace300Bus)'\n",
    "}\n",
    "\n",
    "# TPG366 pressure controller with 5 sensors\n",
    "TPG366_dict = {\n",
    "    'com_port': 'COM22',\n",
    "    'device_address': 10,\n",
    "    'device_type': 'TPG366',\n",
    "    'description': 'Pressure controller with 5 sensors',\n",
    "    'sensor_channels': [1, 2, 3, 4, 5]\n",
    "}\n",
    "\n",
    "# Chiller cooling unit\n",
    "Chiller_dict = {\n",
    "    'com_port': 'COM31',\n",
    "    'device_address': 1,\n",
    "    'device_type': 'Chiller',\n",
    "    'description': 'Cooling unit'\n",
    "}\n",
    "\n",
    "# Print configuration summary\n",
    "print(\"=\" * 60)\n",
    "print(\"ESIBD PRESSURE CHAIN - DEVICE CONFIGURATION\")\n",
    "print(\"=\" * 60)\n",
    "#print(f\"\\nHiScroll1: {HiScroll1_dict['com_port']} @ Address {HiScroll1_dict['device_address']}\")\n",
    "print(f\"HiScroll2: {HiScroll2_dict['com_port']} @ Address {HiScroll2_dict['device_address']}\")\n",
    "print(f\"HiPace300 Transfer: {HiPace300_Transfer_dict['com_port']} @ Address {HiPace300_Transfer_dict['device_address']}\")\n",
    "print(f\"HiPace300 Depo: {HiPace300_Depo_dict['com_port']} @ Address {HiPace300_Depo_dict['device_address']}\")\n",
    "print(f\"HiPace450: {HiPace450_dict['com_port']} @ Address {HiPace450_dict['device_address']} (placeholder)\")\n",
    "print(f\"TPG366: {TPG366_dict['com_port']} @ Address {TPG366_dict['device_address']} (5 sensors)\")\n",
    "print(f\"Chiller: {Chiller_dict['com_port']} @ Address {Chiller_dict['device_address']}\")\n",
    "print(\"\\n✅ Device dictionaries configured successfully\")"
   ],
   "outputs": [
    {
     "name": "stdout",
     "output_type": "stream",
     "text": [
      "============================================================\n",
      "ESIBD PRESSURE CHAIN - DEVICE CONFIGURATION\n",
      "============================================================\n",
      "HiScroll2: COM21 @ Address 2\n",
      "HiPace300 Transfer: COM43 @ Address 101\n",
      "HiPace300 Depo: COM37 @ Address 101\n",
      "HiPace450: COM19 @ Address 101 (placeholder)\n",
      "TPG366: COM22 @ Address 10 (5 sensors)\n",
      "Chiller: COM31 @ Address 1\n",
      "\n",
      "✅ Device dictionaries configured successfully\n"
     ]
    }
   ],
   "execution_count": 3
  },
  {
   "cell_type": "markdown",
   "id": "a2d3e02b",
   "metadata": {},
   "source": [
    "## 4. Connect Devices"
   ]
  },
  {
   "cell_type": "code",
   "execution_count": 4,
   "id": "eb8e69d6",
   "metadata": {
    "ExecuteTime": {
     "end_time": "2025-10-09T07:36:13.454694Z",
     "start_time": "2025-10-09T07:36:13.404142Z"
    }
   },
   "outputs": [
    {
     "name": "stderr",
     "output_type": "stream",
     "text": [
      "2025-10-09 09:36:13 | INFO | Connecting to Pfeiffer device hiscroll1 on COM19\n",
      "2025-10-09 09:36:13 | INFO | Successfully connected to device at address 2\n"
     ]
    },
    {
     "name": "stdout",
     "output_type": "stream",
     "text": [
      "✅ HiScroll1 connected on COM19\n"
     ]
    }
   ],
   "source": [
    "# Initialize and connect HiScroll1\n",
    "#hiscroll1 = HiScroll12(\n",
    "#    device_id=\"hiscroll1\",\n",
    "#    port=HiScroll1_dict['com_port'],\n",
    "#    device_address=HiScroll1_dict['device_address'],\n",
    "#    logger=logger\n",
    "#)\n",
    "#hiscroll1.connect()\n",
    "#print(f\"✅ HiScroll1 connected on {HiScroll1_dict['com_port']}\")"
   ]
  },
  {
   "cell_type": "code",
   "id": "a87c007d",
   "metadata": {
    "ExecuteTime": {
     "end_time": "2025-10-09T13:07:10.083351Z",
     "start_time": "2025-10-09T13:07:10.034323Z"
    }
   },
   "source": [
    "# Initialize and connect HiScroll2\n",
    "hiscroll2 = HiScroll12(\n",
    "    device_id=\"hiscroll2\",\n",
    "    port=HiScroll2_dict['com_port'],\n",
    "    device_address=HiScroll2_dict['device_address'],\n",
    "    logger=logger\n",
    ")\n",
    "hiscroll2.connect()\n",
    "print(f\"✅ HiScroll2 connected on {HiScroll2_dict['com_port']}\")"
   ],
   "outputs": [
    {
     "name": "stderr",
     "output_type": "stream",
     "text": [
      "2025-10-09 15:07:10 | INFO | Connecting to Pfeiffer device hiscroll2 on COM21\n",
      "2025-10-09 15:07:10 | INFO | Successfully connected to device at address 2\n"
     ]
    },
    {
     "name": "stdout",
     "output_type": "stream",
     "text": [
      "✅ HiScroll2 connected on COM21\n"
     ]
    }
   ],
   "execution_count": 4
  },
  {
   "cell_type": "code",
   "id": "c669d93d",
   "metadata": {
    "ExecuteTime": {
     "end_time": "2025-10-09T13:07:10.519184Z",
     "start_time": "2025-10-09T13:07:10.495459Z"
    }
   },
   "source": [
    "# Initialize and connect HiPace300 Transfer\n",
    "hipace_transfer = HiPace300Bus(\n",
    "    device_id=\"hipace_transfer\",\n",
    "    port=HiPace300_Transfer_dict['com_port'],\n",
    "    device_address=HiPace300_Transfer_dict['device_address'],\n",
    "    omnicontrol_address=HiPace300_Transfer_dict['omnicontrol_address'],\n",
    "    tc400_address=HiPace300_Transfer_dict['tc400_address'],\n",
    "    gauge1_address=HiPace300_Transfer_dict['gauge1_address'],\n",
    "    logger=logger\n",
    ")\n",
    "hipace_transfer.connect()\n",
    "print(f\"✅ HiPace300 Transfer connected on {HiPace300_Transfer_dict['com_port']}\")"
   ],
   "outputs": [
    {
     "name": "stderr",
     "output_type": "stream",
     "text": [
      "2025-10-09 15:07:10 | INFO | Connecting to Pfeiffer device hipace_transfer on COM43\n",
      "2025-10-09 15:07:10 | INFO | Successfully connected to device at address 101\n"
     ]
    },
    {
     "name": "stdout",
     "output_type": "stream",
     "text": [
      "✅ HiPace300 Transfer connected on COM43\n"
     ]
    }
   ],
   "execution_count": 5
  },
  {
   "cell_type": "code",
   "id": "cd66ce84",
   "metadata": {
    "ExecuteTime": {
     "end_time": "2025-10-09T13:07:10.950780Z",
     "start_time": "2025-10-09T13:07:10.923318Z"
    }
   },
   "source": [
    "# Initialize and connect HiPace300 Depo\n",
    "hipace_depo = HiPace300Bus(\n",
    "    device_id=\"hipace_depo\",\n",
    "    port=HiPace300_Depo_dict['com_port'],\n",
    "    device_address=HiPace300_Depo_dict['device_address'],\n",
    "    omnicontrol_address=HiPace300_Depo_dict['omnicontrol_address'],\n",
    "    tc400_address=HiPace300_Depo_dict['tc400_address'],\n",
    "    gauge1_address=HiPace300_Depo_dict['gauge1_address'],\n",
    "    logger=logger\n",
    ")\n",
    "hipace_depo.connect()\n",
    "print(f\"✅ HiPace300 Depo connected on {HiPace300_Depo_dict['com_port']}\")"
   ],
   "outputs": [
    {
     "name": "stderr",
     "output_type": "stream",
     "text": [
      "2025-10-09 15:07:10 | INFO | Connecting to Pfeiffer device hipace_depo on COM37\n",
      "2025-10-09 15:07:10 | INFO | Successfully connected to device at address 101\n"
     ]
    },
    {
     "name": "stdout",
     "output_type": "stream",
     "text": [
      "✅ HiPace300 Depo connected on COM37\n"
     ]
    }
   ],
   "execution_count": 6
  },
  {
   "cell_type": "code",
   "id": "d3409fc4",
   "metadata": {
    "ExecuteTime": {
     "end_time": "2025-10-09T13:07:11.381971Z",
     "start_time": "2025-10-09T13:07:11.351933Z"
    }
   },
   "source": [
    "# Initialize and connect HiPace450 (using HiPace300Bus class)\n",
    "hipace450 = HiPace300Bus(\n",
    "    device_id=\"hipace450\",\n",
    "    port=HiPace450_dict['com_port'],\n",
    "    device_address=HiPace450_dict['device_address'],\n",
    "    omnicontrol_address=HiPace450_dict['omnicontrol_address'],\n",
    "    tc400_address=HiPace450_dict['tc400_address'],\n",
    "    gauge1_address=HiPace450_dict['gauge1_address'],\n",
    "    logger=logger\n",
    ")\n",
    "hipace450.connect()\n",
    "print(f\"✅ HiPace450 connected on {HiPace450_dict['com_port']} (initialized as HiPace300Bus)\")"
   ],
   "outputs": [
    {
     "name": "stderr",
     "output_type": "stream",
     "text": [
      "2025-10-09 15:07:11 | INFO | Connecting to Pfeiffer device hipace450 on COM19\n",
      "2025-10-09 15:07:11 | INFO | Successfully connected to device at address 101\n"
     ]
    },
    {
     "name": "stdout",
     "output_type": "stream",
     "text": [
      "✅ HiPace450 connected on COM19 (initialized as HiPace300Bus)\n"
     ]
    }
   ],
   "execution_count": 7
  },
  {
   "cell_type": "code",
   "id": "e4bb79d7",
   "metadata": {
    "ExecuteTime": {
     "end_time": "2025-10-09T13:07:11.848753Z",
     "start_time": "2025-10-09T13:07:11.828814Z"
    }
   },
   "source": [
    "# Initialize and connect TPG366 (5 pressure sensors)\n",
    "tpg366 = TPG366(\n",
    "    device_id=\"tpg366\",\n",
    "    port=TPG366_dict['com_port'],\n",
    "    device_address=TPG366_dict['device_address'],\n",
    "    logger=logger\n",
    ")\n",
    "tpg366.connect()\n",
    "print(f\"✅ TPG366 connected on {TPG366_dict['com_port']} with 5 sensors\")"
   ],
   "outputs": [
    {
     "name": "stderr",
     "output_type": "stream",
     "text": [
      "2025-10-09 15:07:11 | INFO | Connecting to Pfeiffer device tpg366 on COM22\n",
      "2025-10-09 15:07:11 | INFO | Successfully connected to device at address 10\n"
     ]
    },
    {
     "name": "stdout",
     "output_type": "stream",
     "text": [
      "✅ TPG366 connected on COM22 with 5 sensors\n"
     ]
    }
   ],
   "execution_count": 8
  },
  {
   "cell_type": "code",
   "id": "f31c2aaa5d879ee3",
   "metadata": {
    "ExecuteTime": {
     "end_time": "2025-10-09T13:07:12.571585Z",
     "start_time": "2025-10-09T13:07:12.557890Z"
    }
   },
   "source": [
    "# Initialize and connect Chiller\n",
    "chiller = Chiller(\n",
    "    device_id=\"chiller\",\n",
    "    port=Chiller_dict['com_port'],\n",
    "    device_address=Chiller_dict['device_address'],\n",
    "    logger=logger\n",
    ")\n",
    "chiller.connect()\n",
    "print(f\"✅ Chiller connected on {Chiller_dict['com_port']}\")"
   ],
   "outputs": [
    {
     "name": "stderr",
     "output_type": "stream",
     "text": [
      "2025-10-09 15:07:12 | INFO | Using external logger for device 'chiller'\n",
      "2025-10-09 15:07:12 | INFO | Connecting to chiller chiller on COM31\n"
     ]
    },
    {
     "name": "stdout",
     "output_type": "stream",
     "text": [
      "✅ Chiller connected on COM31\n"
     ]
    }
   ],
   "execution_count": 9
  },
  {
   "cell_type": "code",
   "id": "3f2309753c8386a4",
   "metadata": {
    "ExecuteTime": {
     "end_time": "2025-10-09T13:07:14.521524Z",
     "start_time": "2025-10-09T13:07:14.367825Z"
    }
   },
   "source": [
    "print(hipace450.get_operating_hours_pump())\n",
    "print(hipace_depo.get_operating_hours_pump())\n",
    "print(hipace450.get_operating_hours_pump())"
   ],
   "outputs": [
    {
     "name": "stdout",
     "output_type": "stream",
     "text": [
      "5\n",
      "9\n",
      "5\n"
     ]
    }
   ],
   "execution_count": 10
  },
  {
   "cell_type": "code",
   "id": "21c6ac369732181f",
   "metadata": {
    "ExecuteTime": {
     "end_time": "2025-10-09T13:07:15.281823Z",
     "start_time": "2025-10-09T13:07:15.220256Z"
    }
   },
   "source": [
    "hiscroll2.get_electronics_name()"
   ],
   "outputs": [
    {
     "data": {
      "text/plain": [
       "'HiScrl'"
      ]
     },
     "execution_count": 11,
     "metadata": {},
     "output_type": "execute_result"
    }
   ],
   "execution_count": 11
  },
  {
   "cell_type": "code",
   "id": "8d9f6e082dac119a",
   "metadata": {
    "ExecuteTime": {
     "end_time": "2025-10-09T13:07:19.312585Z",
     "start_time": "2025-10-09T13:07:19.309863Z"
    }
   },
   "source": [],
   "outputs": [],
   "execution_count": null
  },
  {
   "cell_type": "code",
   "id": "85e83a3d8b5769f6",
   "metadata": {
    "ExecuteTime": {
     "end_time": "2025-10-09T13:07:19.522897Z",
     "start_time": "2025-10-09T13:07:19.518592Z"
    }
   },
   "source": [
    "chiller.read_temp()"
   ],
   "outputs": [
    {
     "data": {
      "text/plain": [
       "15.99"
      ]
     },
     "execution_count": 12,
     "metadata": {},
     "output_type": "execute_result"
    }
   ],
   "execution_count": 12
  },
  {
   "cell_type": "code",
   "id": "bcdbe89dbd2cea16",
   "metadata": {
    "ExecuteTime": {
     "end_time": "2025-10-09T13:07:20.410562Z",
     "start_time": "2025-10-09T13:07:20.344310Z"
    }
   },
   "source": "tpg366.read_pressure_value_channel_6()",
   "outputs": [
    {
     "data": {
      "text/plain": [
       "954.4000000000001"
      ]
     },
     "execution_count": 13,
     "metadata": {},
     "output_type": "execute_result"
    }
   ],
   "execution_count": 13
  },
  {
   "cell_type": "markdown",
   "id": "874c4459",
   "metadata": {},
   "source": [
    "## 5. Start Housekeeping for All Devices"
   ]
  },
  {
   "cell_type": "code",
   "id": "b6f04acb",
   "metadata": {
    "ExecuteTime": {
     "end_time": "2025-10-09T13:07:22.124858Z",
     "start_time": "2025-10-09T13:07:22.107032Z"
    }
   },
   "source": [
    "# Start housekeeping for all pumps and chiller\n",
    "#hiscroll1.start_housekeeping()\n",
    "hiscroll2.start_housekeeping()\n",
    "hipace_transfer.start_housekeeping()\n",
    "hipace_depo.start_housekeeping()\n",
    "hipace450.start_housekeeping()\n",
    "chiller.start_housekeeping()\n",
    "\n",
    "print(\"✅ Housekeeping started for all devices:\")\n",
    "#print(\"  - HiScroll1\")\n",
    "print(\"  - HiScroll2\")\n",
    "print(\"  - HiPace300 Transfer\")\n",
    "print(\"  - HiPace300 Depo\")\n",
    "print(\"  - HiPace450\")\n",
    "print(\"  - Chiller\")\n",
    "print(\"\\nNote: TPG366 does not require housekeeping (continuous polling)\")"
   ],
   "outputs": [
    {
     "name": "stderr",
     "output_type": "stream",
     "text": [
      "2025-10-09 15:07:22 | INFO | Using external logger - no additional file logging needed\n",
      "2025-10-09 15:07:22 | INFO | Housekeeping worker started for hiscroll2\n",
      "2025-10-09 15:07:22 | INFO | Housekeeping started (internal mode) - interval: 30.0s\n",
      "2025-10-09 15:07:22 | INFO | Using external logger - no additional file logging needed\n",
      "2025-10-09 15:07:22 | INFO | Housekeeping worker started for hipace_transfer\n",
      "2025-10-09 15:07:22 | INFO | Housekeeping started (internal mode) - interval: 1.0s\n",
      "2025-10-09 15:07:22 | INFO | Using external logger - no additional file logging needed\n",
      "2025-10-09 15:07:22 | INFO | Housekeeping worker started for hipace_depo\n",
      "2025-10-09 15:07:22 | INFO | Housekeeping started (internal mode) - interval: 1.0s\n",
      "2025-10-09 15:07:22 | INFO | Using external logger - no additional file logging needed\n",
      "2025-10-09 15:07:22 | INFO | Housekeeping worker started for hipace450\n",
      "2025-10-09 15:07:22 | INFO | Housekeeping started (internal mode) - interval: 1.0s\n",
      "2025-10-09 15:07:22 | INFO | Using external logger - no additional file logging needed\n",
      "2025-10-09 15:07:22 | INFO | Housekeeping worker started for chiller\n",
      "2025-10-09 15:07:22 | INFO | Housekeeping started (internal mode) - interval: 30.0s\n"
     ]
    },
    {
     "name": "stdout",
     "output_type": "stream",
     "text": [
      "✅ Housekeeping started for all devices:\n",
      "  - HiScroll2\n",
      "  - HiPace300 Transfer\n",
      "  - HiPace300 Depo\n",
      "  - HiPace450\n",
      "  - Chiller\n",
      "\n",
      "Note: TPG366 does not require housekeeping (continuous polling)\n"
     ]
    }
   ],
   "execution_count": 14
  },
  {
   "cell_type": "markdown",
   "id": "8788e40d",
   "metadata": {},
   "source": [
    "## 5.1 Stop Housekeeping"
   ]
  },
  {
   "cell_type": "code",
   "execution_count": 43,
   "id": "5603d73b",
   "metadata": {
    "ExecuteTime": {
     "end_time": "2025-10-09T08:12:09.474604Z",
     "start_time": "2025-10-09T08:12:09.465671Z"
    }
   },
   "outputs": [
    {
     "name": "stderr",
     "output_type": "stream",
     "text": [
      "2025-10-09 10:12:09 | INFO | Housekeeping stopped (internal mode)\n",
      "2025-10-09 10:12:09 | INFO | Housekeeping stopped (internal mode)\n",
      "2025-10-09 10:12:09 | INFO | Housekeeping stopped (internal mode)\n",
      "2025-10-09 10:12:09 | INFO | Housekeeping stopped (internal mode)\n",
      "2025-10-09 10:12:09 | INFO | Housekeeping stopped (internal mode)\n"
     ]
    },
    {
     "data": {
      "text/plain": [
       "True"
      ]
     },
     "execution_count": 43,
     "metadata": {},
     "output_type": "execute_result"
    }
   ],
   "source": [
    "#hiscroll1.stop_housekeeping()\n",
    "hiscroll2.stop_housekeeping()\n",
    "hipace_transfer.stop_housekeeping()\n",
    "hipace_depo.stop_housekeeping()\n",
    "hipace450.stop_housekeeping()\n",
    "chiller.stop_housekeeping()"
   ]
  },
  {
   "cell_type": "markdown",
   "id": "03ff7edc",
   "metadata": {},
   "source": [
    "## 6. Individual Pump Control\n",
    "\n",
    "This section provides control cells for turning on/off each pump individually."
   ]
  },
  {
   "cell_type": "markdown",
   "id": "90e0cae0",
   "metadata": {},
   "source": [
    "### 6.1 HiScroll Pump Control"
   ]
  },
  {
   "cell_type": "code",
   "execution_count": null,
   "id": "10dea6d7",
   "metadata": {},
   "outputs": [],
   "source": [
    "# Enable HiScroll1\n",
    "#hiscroll1.enable_pump()\n",
    "print(\"✅ HiScroll1 enabled\")"
   ]
  },
  {
   "cell_type": "code",
   "execution_count": null,
   "id": "fa665e04",
   "metadata": {},
   "outputs": [],
   "source": [
    "# Disable HiScroll1\n",
    "#hiscroll1.disable_pump()\n",
    "print(\"🛑 HiScroll1 disabled\")"
   ]
  },
  {
   "cell_type": "code",
   "id": "2f7a5611",
   "metadata": {
    "ExecuteTime": {
     "end_time": "2025-10-09T13:08:10.609800Z",
     "start_time": "2025-10-09T13:08:10.544388Z"
    }
   },
   "source": [
    "# Enable HiScroll2\n",
    "hiscroll2.enable_pump()\n",
    "print(\"✅ HiScroll2 enabled\")"
   ],
   "outputs": [
    {
     "name": "stdout",
     "output_type": "stream",
     "text": [
      "✅ HiScroll2 enabled\n"
     ]
    }
   ],
   "execution_count": 19
  },
  {
   "cell_type": "code",
   "id": "1bdb264b",
   "metadata": {
    "ExecuteTime": {
     "end_time": "2025-10-09T13:24:50.361356Z",
     "start_time": "2025-10-09T13:24:50.303610Z"
    }
   },
   "source": [
    "# Disable HiScroll2\n",
    "hiscroll2.disable_pump()\n",
    "print(\"🛑 HiScroll2 disabled\")"
   ],
   "outputs": [
    {
     "name": "stdout",
     "output_type": "stream",
     "text": [
      "🛑 HiScroll2 disabled\n"
     ]
    }
   ],
   "execution_count": 20
  },
  {
   "cell_type": "markdown",
   "id": "1c060203",
   "metadata": {},
   "source": [
    "### 6.2 Chiller Control\n"
   ]
  },
  {
   "cell_type": "code",
   "id": "a706aa98",
   "metadata": {
    "ExecuteTime": {
     "end_time": "2025-10-09T11:47:52.822213Z",
     "start_time": "2025-10-09T11:47:52.818209Z"
    }
   },
   "source": [
    "# Set chiller temperature (example: 16degC)\n",
    "target_temp = 16.0\n",
    "chiller.set_temperature(target_temp)\n",
    "print(f\"✅ Chiller temperature set to {target_temp}degC\")"
   ],
   "outputs": [
    {
     "name": "stdout",
     "output_type": "stream",
     "text": [
      "✅ Chiller temperature set to 16.0degC\n"
     ]
    }
   ],
   "execution_count": 15
  },
  {
   "cell_type": "code",
   "id": "dec07ecc",
   "metadata": {
    "ExecuteTime": {
     "end_time": "2025-10-09T11:44:56.127121Z",
     "start_time": "2025-10-09T11:44:56.123952Z"
    }
   },
   "source": [
    "# Start chiller\n",
    "chiller.start_device()\n",
    "print(\"✅ Chiller started\")"
   ],
   "outputs": [
    {
     "name": "stdout",
     "output_type": "stream",
     "text": [
      "✅ Chiller started\n"
     ]
    }
   ],
   "execution_count": 17
  },
  {
   "cell_type": "code",
   "execution_count": 20,
   "id": "039abb8e",
   "metadata": {
    "ExecuteTime": {
     "end_time": "2025-10-09T08:02:17.648661Z",
     "start_time": "2025-10-09T08:02:17.644943Z"
    }
   },
   "outputs": [
    {
     "name": "stdout",
     "output_type": "stream",
     "text": [
      "🛑 Chiller stopped\n"
     ]
    }
   ],
   "source": [
    "# Stop chiller\n",
    "chiller.stop_device()\n",
    "print(\"🛑 Chiller stopped\")"
   ]
  },
  {
   "cell_type": "code",
   "id": "8824968f",
   "metadata": {
    "ExecuteTime": {
     "end_time": "2025-10-09T11:47:54.503515Z",
     "start_time": "2025-10-09T11:47:54.496054Z"
    }
   },
   "source": [
    "# Check chiller status\n",
    "current_temp = chiller.read_temp()\n",
    "set_temp = chiller.read_set_temp()\n",
    "status = chiller.read_status()\n",
    "running = chiller.read_running()\n",
    "\n",
    "print(f\"Current Temperature: {current_temp}degC\")\n",
    "print(f\"Set Temperature: {set_temp}degC\")\n",
    "print(f\"Device Status: {status}\")\n",
    "print(f\"Running State: {running}\")"
   ],
   "outputs": [
    {
     "name": "stdout",
     "output_type": "stream",
     "text": [
      "Current Temperature: 17.98degC\n",
      "Set Temperature: 16.0degC\n",
      "Device Status: OK\n",
      "Running State: DEVICE RUNNING\n"
     ]
    }
   ],
   "execution_count": 16
  },
  {
   "cell_type": "markdown",
   "id": "14b801f6",
   "metadata": {},
   "source": [
    "### 6.3 HiPace300 Pump Control ALWAYS BOTH AT THE SAME TIME"
   ]
  },
  {
   "cell_type": "code",
   "execution_count": null,
   "id": "43ed166b",
   "metadata": {},
   "outputs": [],
   "source": [
    "# Enable HiPace300 Transfer pump\n",
    "hipace_transfer.enable_motor_pump()\n",
    "# Enable HiPace300 Depo pump\n",
    "hipace_depo.enable_motor_pump()\n",
    "#print(\"✅ HiPace300 Transfer pump enabled\")"
   ]
  },
  {
   "cell_type": "code",
   "execution_count": null,
   "id": "4a85129c",
   "metadata": {},
   "outputs": [],
   "source": [
    "hipace_transfer.enable_pumpStatn()\n",
    "hipace_depo.enable_pumpStatn()\n",
    "print(\"✅ HiPace300 Depo pump enabled\")"
   ]
  },
  {
   "cell_type": "code",
   "execution_count": null,
   "id": "97f2bf57",
   "metadata": {},
   "outputs": [],
   "source": [
    "# Disable HiPace300 Depo pump\n",
    "hipace_depo.disable_pumpStatn()\n",
    "print(\"🛑 HiPace300 Depo pump disabled\")\n",
    "\n",
    "# Disable HiPace300 Transfer pump\n",
    "hipace_transfer.disable_pumpStatn()\n",
    "print(\"🛑 HiPace300 Transfer pump disabled\")"
   ]
  },
  {
   "cell_type": "markdown",
   "id": "e832a97f",
   "metadata": {},
   "source": [
    "### 6.4 HiPace450 Pump Control"
   ]
  },
  {
   "cell_type": "code",
   "execution_count": null,
   "id": "658b50ab",
   "metadata": {},
   "outputs": [],
   "source": [
    "# Enable HiPace450 pump\n",
    "hipace450.enable_motor_pump()\n",
    "hipace450.enable_pumpStatn()\n",
    "print(\"✅ HiPace450 pump enabled\")"
   ]
  },
  {
   "cell_type": "code",
   "execution_count": null,
   "id": "67b567b6",
   "metadata": {},
   "outputs": [],
   "source": [
    "# Disable HiPace450 pump\n",
    "hipace450.disable_pumpStatn()\n",
    "print(\"🛑 HiPace450 pump disabled\")"
   ]
  },
  {
   "cell_type": "markdown",
   "id": "8639a20c",
   "metadata": {},
   "source": [
    "## 7. Live Plotting - Pressure Chain Visualization\n",
    "\n",
    "This section provides live plotting for all pressure sensors and temperature monitoring."
   ]
  },
  {
   "cell_type": "code",
   "id": "751bd316",
   "metadata": {},
   "source": [
    "import matplotlib.pyplot as plt\n",
    "from matplotlib.animation import FuncAnimation\n",
    "import numpy as np\n",
    "from collections import deque\n",
    "\n",
    "class PressureChainPlotter:\n",
    "    \"\"\"Live plotting class for complete ESIBD pressure chain monitoring\"\"\"\n",
    "    \n",
    "    def __init__(self, update_interval=1000):\n",
    "        self.update_interval = update_interval\n",
    "        \n",
    "        # Data storage (keep last 100 points)\n",
    "        self.timestamps = deque(maxlen=100)\n",
    "        \n",
    "        # Pressure data for 6 TPG366 sensors\n",
    "        self.pressure_sensor1 = deque(maxlen=100)  # IF1\n",
    "        self.pressure_sensor2 = deque(maxlen=100)  # IF2\n",
    "        self.pressure_sensor3 = deque(maxlen=100)  # Q1\n",
    "        self.pressure_sensor4 = deque(maxlen=100)  # QMS\n",
    "        self.pressure_sensor5 = deque(maxlen=100)  # HCD Cell\n",
    "        self.pressure_sensor6 = deque(maxlen=100)  # Transfer Chamber\n",
    "        \n",
    "        # Temperature data for HiScrolls\n",
    "        self.hiscroll1_temp = deque(maxlen=100)\n",
    "        self.hiscroll2_temp = deque(maxlen=100)\n",
    "        \n",
    "        # Temperature data for HiPaces\n",
    "        self.hipace_transfer_temp = deque(maxlen=100)\n",
    "        self.hipace_depo_temp = deque(maxlen=100)\n",
    "        self.hipace450_temp = deque(maxlen=100)\n",
    "        \n",
    "        # Temperature data for Chiller\n",
    "        self.chiller_current_temp = deque(maxlen=100)\n",
    "        self.chiller_set_temp = deque(maxlen=100)\n",
    "        \n",
    "        # RPM data for HiPaces\n",
    "        self.hipace_transfer_rpm = deque(maxlen=100)\n",
    "        self.hipace_depo_rpm = deque(maxlen=100)\n",
    "        self.hipace450_rpm = deque(maxlen=100)\n",
    "        \n",
    "        # Power data for HiPaces\n",
    "        self.hipace_transfer_power = deque(maxlen=100)\n",
    "        self.hipace_depo_power = deque(maxlen=100)\n",
    "        self.hipace450_power = deque(maxlen=100)\n",
    "        \n",
    "        # Create figure with 2 columns: left for 6 pressure plots, right for 5 plots\n",
    "        self.fig = plt.figure(figsize=(16, 14))\n",
    "        \n",
    "        # Create grid: 6 rows, 2 columns\n",
    "        # Left column: 6 pressure sensors (shared x-axis)\n",
    "        self.ax_p1 = plt.subplot(6, 2, 1)\n",
    "        self.ax_p2 = plt.subplot(6, 2, 3, sharex=self.ax_p1)\n",
    "        self.ax_p3 = plt.subplot(6, 2, 5, sharex=self.ax_p1)\n",
    "        self.ax_p4 = plt.subplot(6, 2, 7, sharex=self.ax_p1)\n",
    "        self.ax_p5 = plt.subplot(6, 2, 9, sharex=self.ax_p1)\n",
    "        self.ax_p6 = plt.subplot(6, 2, 11, sharex=self.ax_p1)\n",
    "        \n",
    "        # Right column: 5 plots (shared x-axis with pressure plots)\n",
    "        self.ax_temp_hiscroll = plt.subplot(6, 2, 2, sharex=self.ax_p1)\n",
    "        self.ax_temp_hipace = plt.subplot(6, 2, 4, sharex=self.ax_p1)\n",
    "        self.ax_temp_chiller = plt.subplot(6, 2, 6, sharex=self.ax_p1)\n",
    "        self.ax_hipace_rpm = plt.subplot(6, 2, 8, sharex=self.ax_p1)\n",
    "        self.ax_hipace_power = plt.subplot(6, 2, 10, sharex=self.ax_p1)\n",
    "    \n",
    "    def update_plot(self, frame):\n",
    "        try:\n",
    "            current_time = datetime.now()\n",
    "            self.timestamps.append(current_time)\n",
    "            \n",
    "            # Collect pressure data from TPG366 (6 sensors)\n",
    "            try:\n",
    "                self.pressure_sensor1.append(tpg366.read_pressure_value(1))\n",
    "            except:\n",
    "                self.pressure_sensor1.append(None)\n",
    "            \n",
    "            try:\n",
    "                self.pressure_sensor2.append(tpg366.read_pressure_value(2))\n",
    "            except:\n",
    "                self.pressure_sensor2.append(None)\n",
    "            \n",
    "            try:\n",
    "                self.pressure_sensor3.append(tpg366.read_pressure_value(3))\n",
    "            except:\n",
    "                self.pressure_sensor3.append(None)\n",
    "            \n",
    "            try:\n",
    "                self.pressure_sensor4.append(tpg366.read_pressure_value(4))\n",
    "            except:\n",
    "                self.pressure_sensor4.append(None)\n",
    "            \n",
    "            try:\n",
    "                self.pressure_sensor5.append(tpg366.read_pressure_value(5))\n",
    "            except:\n",
    "                self.pressure_sensor5.append(None)\n",
    "            \n",
    "            try:\n",
    "                self.pressure_sensor6.append(tpg366.read_pressure_value(6))\n",
    "            except:\n",
    "                self.pressure_sensor6.append(None)\n",
    "            \n",
    "            # Collect HiScroll temperature data\n",
    "            try:\n",
    "                self.hiscroll1_temp.append(hiscroll1.get_temp_motor())\n",
    "            except:\n",
    "                self.hiscroll1_temp.append(None)\n",
    "            \n",
    "            try:\n",
    "                self.hiscroll2_temp.append(hiscroll2.get_temp_motor())\n",
    "            except:\n",
    "                self.hiscroll2_temp.append(None)\n",
    "            \n",
    "            # Collect HiPace temperature data\n",
    "            try:\n",
    "                self.hipace_transfer_temp.append(hipace_transfer.get_motor_temperature())\n",
    "            except:\n",
    "                self.hipace_transfer_temp.append(None)\n",
    "            \n",
    "            try:\n",
    "                self.hipace_depo_temp.append(hipace_depo.get_motor_temperature())\n",
    "            except:\n",
    "                self.hipace_depo_temp.append(None)\n",
    "            \n",
    "            try:\n",
    "                self.hipace450_temp.append(hipace450.get_motor_temperature())\n",
    "            except:\n",
    "                self.hipace450_temp.append(None)\n",
    "            \n",
    "            # Collect Chiller temperature data\n",
    "            try:\n",
    "                self.chiller_current_temp.append(chiller.read_temp())\n",
    "            except:\n",
    "                self.chiller_current_temp.append(None)\n",
    "            \n",
    "            try:\n",
    "                self.chiller_set_temp.append(chiller.read_set_temp())\n",
    "            except:\n",
    "                self.chiller_set_temp.append(None)\n",
    "            \n",
    "            # Collect HiPace RPM data\n",
    "            try:\n",
    "                self.hipace_transfer_rpm.append(hipace_transfer.get_actual_speed_rpm())\n",
    "            except:\n",
    "                self.hipace_transfer_rpm.append(None)\n",
    "            \n",
    "            try:\n",
    "                self.hipace_depo_rpm.append(hipace_depo.get_actual_speed_rpm())\n",
    "            except:\n",
    "                self.hipace_depo_rpm.append(None)\n",
    "            \n",
    "            try:\n",
    "                self.hipace450_rpm.append(hipace450.get_actual_speed_rpm())\n",
    "            except:\n",
    "                self.hipace450_rpm.append(None)\n",
    "            \n",
    "            # Collect HiPace Power data\n",
    "            try:\n",
    "                self.hipace_transfer_power.append(hipace_transfer.get_drive_power())\n",
    "            except:\n",
    "                self.hipace_transfer_power.append(None)\n",
    "            \n",
    "            try:\n",
    "                self.hipace_depo_power.append(hipace_depo.get_drive_power())\n",
    "            except:\n",
    "                self.hipace_depo_power.append(None)\n",
    "            \n",
    "            try:\n",
    "                self.hipace450_power.append(hipace450.get_drive_power())\n",
    "            except:\n",
    "                self.hipace450_power.append(None)\n",
    "            \n",
    "        except Exception as e:\n",
    "            logger.warning(f\"Data collection error: {e}\")\n",
    "            return\n",
    "        \n",
    "        # Clear all axes\n",
    "        self.ax_p1.clear()\n",
    "        self.ax_p2.clear()\n",
    "        self.ax_p3.clear()\n",
    "        self.ax_p4.clear()\n",
    "        self.ax_p5.clear()\n",
    "        self.ax_p6.clear()\n",
    "        self.ax_temp_hiscroll.clear()\n",
    "        self.ax_temp_hipace.clear()\n",
    "        self.ax_temp_chiller.clear()\n",
    "        self.ax_hipace_rpm.clear()\n",
    "        self.ax_hipace_power.clear()\n",
    "        \n",
    "        # Convert deques to lists\n",
    "        times = list(self.timestamps)\n",
    "        \n",
    "        # Only plot if we have data\n",
    "        if not times:\n",
    "            return\n",
    "        \n",
    "        try:\n",
    "            # Plot Pressure Sensor 1 (IF1)\n",
    "            p1_data = list(self.pressure_sensor1)\n",
    "            valid_p1 = [(t, p) for t, p in zip(times, p1_data) if p is not None]\n",
    "            if valid_p1:\n",
    "                t1, p1 = zip(*valid_p1)\n",
    "                self.ax_p1.plot(t1, p1, 'b-', marker='o', label='IF1')\n",
    "                self.ax_p1.set_yscale('log')\n",
    "                self.ax_p1.set_ylabel('Pressure [mbar]')\n",
    "                self.ax_p1.set_title('TPG366 Ch1: IF1')\n",
    "                self.ax_p1.legend(loc='upper right')\n",
    "                self.ax_p1.grid(True)\n",
    "            \n",
    "            # Plot Pressure Sensor 2 (IF2)\n",
    "            p2_data = list(self.pressure_sensor2)\n",
    "            valid_p2 = [(t, p) for t, p in zip(times, p2_data) if p is not None]\n",
    "            if valid_p2:\n",
    "                t2, p2 = zip(*valid_p2)\n",
    "                self.ax_p2.plot(t2, p2, 'r-', marker='s', label='IF2')\n",
    "                self.ax_p2.set_yscale('log')\n",
    "                self.ax_p2.set_ylabel('Pressure [mbar]')\n",
    "                self.ax_p2.set_title('TPG366 Ch2: IF2')\n",
    "                self.ax_p2.legend(loc='upper right')\n",
    "                self.ax_p2.grid(True)\n",
    "            \n",
    "            # Plot Pressure Sensor 3 (Q1)\n",
    "            p3_data = list(self.pressure_sensor3)\n",
    "            valid_p3 = [(t, p) for t, p in zip(times, p3_data) if p is not None]\n",
    "            if valid_p3:\n",
    "                t3, p3 = zip(*valid_p3)\n",
    "                self.ax_p3.plot(t3, p3, 'g-', marker='^', label='Q1')\n",
    "                self.ax_p3.set_yscale('log')\n",
    "                self.ax_p3.set_ylabel('Pressure [mbar]')\n",
    "                self.ax_p3.set_title('TPG366 Ch3: Q1')\n",
    "                self.ax_p3.legend(loc='upper right')\n",
    "                self.ax_p3.grid(True)\n",
    "            \n",
    "            # Plot Pressure Sensor 4 (QMS)\n",
    "            p4_data = list(self.pressure_sensor4)\n",
    "            valid_p4 = [(t, p) for t, p in zip(times, p4_data) if p is not None]\n",
    "            if valid_p4:\n",
    "                t4, p4 = zip(*valid_p4)\n",
    "                self.ax_p4.plot(t4, p4, 'm-', marker='d', label='QMS')\n",
    "                self.ax_p4.set_yscale('log')\n",
    "                self.ax_p4.set_ylabel('Pressure [mbar]')\n",
    "                self.ax_p4.set_title('TPG366 Ch4: QMS')\n",
    "                self.ax_p4.legend(loc='upper right')\n",
    "                self.ax_p4.grid(True)\n",
    "            \n",
    "            # Plot Pressure Sensor 5 (HCD Cell)\n",
    "            p5_data = list(self.pressure_sensor5)\n",
    "            valid_p5 = [(t, p) for t, p in zip(times, p5_data) if p is not None]\n",
    "            if valid_p5:\n",
    "                t5, p5 = zip(*valid_p5)\n",
    "                self.ax_p5.plot(t5, p5, 'c-', marker='v', label='HCD Cell')\n",
    "                self.ax_p5.set_yscale('log')\n",
    "                self.ax_p5.set_ylabel('Pressure [mbar]')\n",
    "                self.ax_p5.set_title('TPG366 Ch5: HCD Cell')\n",
    "                self.ax_p5.legend(loc='upper right')\n",
    "                self.ax_p5.grid(True)\n",
    "            \n",
    "            # Plot Pressure Sensor 6 (Transfer Chamber)\n",
    "            p6_data = list(self.pressure_sensor6)\n",
    "            valid_p6 = [(t, p) for t, p in zip(times, p6_data) if p is not None]\n",
    "            if valid_p6:\n",
    "                t6, p6 = zip(*valid_p6)\n",
    "                self.ax_p6.plot(t6, p6, 'orange', marker='p', label='Transfer Chamber')\n",
    "                self.ax_p6.set_yscale('log')\n",
    "                self.ax_p6.set_ylabel('Pressure [mbar]')\n",
    "                self.ax_p6.set_title('TPG366 Ch6: Transfer Chamber')\n",
    "                self.ax_p6.legend(loc='upper right')\n",
    "                self.ax_p6.grid(True)\n",
    "            \n",
    "            # Plot HiScroll Temperatures\n",
    "            hs1_temps = list(self.hiscroll1_temp)\n",
    "            hs2_temps = list(self.hiscroll2_temp)\n",
    "            \n",
    "            valid_hs1 = [(t, temp) for t, temp in zip(times, hs1_temps) if temp is not None]\n",
    "            valid_hs2 = [(t, temp) for t, temp in zip(times, hs2_temps) if temp is not None]\n",
    "            \n",
    "            if valid_hs1:\n",
    "                t_hs1, temp_hs1 = zip(*valid_hs1)\n",
    "                self.ax_temp_hiscroll.plot(t_hs1, temp_hs1, 'b-', marker='o', label='HiScroll1')\n",
    "            \n",
    "            if valid_hs2:\n",
    "                t_hs2, temp_hs2 = zip(*valid_hs2)\n",
    "                self.ax_temp_hiscroll.plot(t_hs2, temp_hs2, 'r-', marker='s', label='HiScroll2')\n",
    "            \n",
    "            self.ax_temp_hiscroll.set_ylabel('Temperature [degC]')\n",
    "            self.ax_temp_hiscroll.set_title('HiScroll Pump Temperatures')\n",
    "            self.ax_temp_hiscroll.legend(loc='upper right')\n",
    "            self.ax_temp_hiscroll.grid(True)\n",
    "            \n",
    "            # Plot HiPace Temperatures\n",
    "            hp_t_temps = list(self.hipace_transfer_temp)\n",
    "            hp_d_temps = list(self.hipace_depo_temp)\n",
    "            hp_450_temps = list(self.hipace450_temp)\n",
    "            \n",
    "            valid_hp_t = [(t, temp) for t, temp in zip(times, hp_t_temps) if temp is not None]\n",
    "            valid_hp_d = [(t, temp) for t, temp in zip(times, hp_d_temps) if temp is not None]\n",
    "            valid_hp_450 = [(t, temp) for t, temp in zip(times, hp_450_temps) if temp is not None]\n",
    "            \n",
    "            if valid_hp_t:\n",
    "                t_hp_t, temp_hp_t = zip(*valid_hp_t)\n",
    "                self.ax_temp_hipace.plot(t_hp_t, temp_hp_t, 'g-', marker='^', label='HiPace Transfer')\n",
    "            \n",
    "            if valid_hp_d:\n",
    "                t_hp_d, temp_hp_d = zip(*valid_hp_d)\n",
    "                self.ax_temp_hipace.plot(t_hp_d, temp_hp_d, 'm-', marker='d', label='HiPace Depo')\n",
    "            \n",
    "            if valid_hp_450:\n",
    "                t_hp_450, temp_hp_450 = zip(*valid_hp_450)\n",
    "                self.ax_temp_hipace.plot(t_hp_450, temp_hp_450, 'orange', marker='s', label='HiPace450')\n",
    "            \n",
    "            self.ax_temp_hipace.set_ylabel('Temperature [degC]')\n",
    "            self.ax_temp_hipace.set_title('HiPace Pump Temperatures')\n",
    "            self.ax_temp_hipace.legend(loc='upper right')\n",
    "            self.ax_temp_hipace.grid(True)\n",
    "            \n",
    "            # Plot Chiller Water Temperature (only current temp, no set temp)\n",
    "            chiller_curr_temps = list(self.chiller_current_temp)\n",
    "            \n",
    "            valid_chiller_curr = [(t, temp) for t, temp in zip(times, chiller_curr_temps) if temp is not None]\n",
    "            \n",
    "            if valid_chiller_curr:\n",
    "                t_c_curr, temp_c_curr = zip(*valid_chiller_curr)\n",
    "                self.ax_temp_chiller.plot(t_c_curr, temp_c_curr, 'c-', marker='o', label='Water Temp')\n",
    "            \n",
    "            self.ax_temp_chiller.set_ylabel('Temperature [degC]')\n",
    "            self.ax_temp_chiller.set_title('Chiller Water Temperature')\n",
    "            self.ax_temp_chiller.legend(loc='upper right')\n",
    "            self.ax_temp_chiller.grid(True)\n",
    "            \n",
    "            # Plot HiPace RPM\n",
    "            rpm_t = list(self.hipace_transfer_rpm)\n",
    "            rpm_d = list(self.hipace_depo_rpm)\n",
    "            rpm_450 = list(self.hipace450_rpm)\n",
    "            \n",
    "            valid_rpm_t = [(t, rpm) for t, rpm in zip(times, rpm_t) if rpm is not None]\n",
    "            valid_rpm_d = [(t, rpm) for t, rpm in zip(times, rpm_d) if rpm is not None]\n",
    "            valid_rpm_450 = [(t, rpm) for t, rpm in zip(times, rpm_450) if rpm is not None]\n",
    "            \n",
    "            if valid_rpm_t:\n",
    "                t_rpm_t, rpm_t_val = zip(*valid_rpm_t)\n",
    "                self.ax_hipace_rpm.plot(t_rpm_t, rpm_t_val, 'g-', marker='^', label='HiPace Transfer')\n",
    "            \n",
    "            if valid_rpm_d:\n",
    "                t_rpm_d, rpm_d_val = zip(*valid_rpm_d)\n",
    "                self.ax_hipace_rpm.plot(t_rpm_d, rpm_d_val, 'm-', marker='d', label='HiPace Depo')\n",
    "            \n",
    "            if valid_rpm_450:\n",
    "                t_rpm_450, rpm_450_val = zip(*valid_rpm_450)\n",
    "                self.ax_hipace_rpm.plot(t_rpm_450, rpm_450_val, 'orange', marker='s', label='HiPace450')\n",
    "            \n",
    "            self.ax_hipace_rpm.set_ylabel('RPM')\n",
    "            self.ax_hipace_rpm.set_title('HiPace Pump Rotation Speed')\n",
    "            self.ax_hipace_rpm.legend(loc='upper right')\n",
    "            self.ax_hipace_rpm.grid(True)\n",
    "            \n",
    "            # Plot HiPace Power\n",
    "            power_t = list(self.hipace_transfer_power)\n",
    "            power_d = list(self.hipace_depo_power)\n",
    "            power_450 = list(self.hipace450_power)\n",
    "            \n",
    "            valid_power_t = [(t, p) for t, p in zip(times, power_t) if p is not None]\n",
    "            valid_power_d = [(t, p) for t, p in zip(times, power_d) if p is not None]\n",
    "            valid_power_450 = [(t, p) for t, p in zip(times, power_450) if p is not None]\n",
    "            \n",
    "            if valid_power_t:\n",
    "                t_power_t, power_t_val = zip(*valid_power_t)\n",
    "                self.ax_hipace_power.plot(t_power_t, power_t_val, 'g-', marker='^', label='HiPace Transfer')\n",
    "            \n",
    "            if valid_power_d:\n",
    "                t_power_d, power_d_val = zip(*valid_power_d)\n",
    "                self.ax_hipace_power.plot(t_power_d, power_d_val, 'm-', marker='d', label='HiPace Depo')\n",
    "            \n",
    "            if valid_power_450:\n",
    "                t_power_450, power_450_val = zip(*valid_power_450)\n",
    "                self.ax_hipace_power.plot(t_power_450, power_450_val, 'orange', marker='s', label='HiPace450')\n",
    "            \n",
    "            self.ax_hipace_power.set_ylabel('Power [W]')\n",
    "            self.ax_hipace_power.set_xlabel('Time')\n",
    "            self.ax_hipace_power.set_title('HiPace Pump Drive Power')\n",
    "            self.ax_hipace_power.legend(loc='upper right')\n",
    "            self.ax_hipace_power.grid(True)\n",
    "            \n",
    "        except Exception as e:\n",
    "            logger.error(f\"Plotting error: {e}\")\n",
    "        \n",
    "        # Format x-axis for all plots\n",
    "        for ax in [self.ax_p1, self.ax_p2, self.ax_p3, self.ax_p4, self.ax_p5, self.ax_p6,\n",
    "                   self.ax_temp_hiscroll, self.ax_temp_hipace, self.ax_temp_chiller,\n",
    "                   self.ax_hipace_rpm, self.ax_hipace_power]:\n",
    "            ax.tick_params(axis='x', rotation=45)\n",
    "        \n",
    "        # Hide x-tick labels for all except bottom plots (p6 on left, hipace_power on right)\n",
    "        for ax in [self.ax_p1, self.ax_p2, self.ax_p3, self.ax_p4, self.ax_p5,\n",
    "                   self.ax_temp_hiscroll, self.ax_temp_hipace, self.ax_temp_chiller,\n",
    "                   self.ax_hipace_rpm]:\n",
    "            plt.setp(ax.get_xticklabels(), visible=False)\n",
    "        \n",
    "        self.fig.tight_layout()\n",
    "    \n",
    "    def start_live_plot(self):\n",
    "        \"\"\"Start live plotting\"\"\"\n",
    "        self.ani = FuncAnimation(\n",
    "            self.fig,\n",
    "            self.update_plot,\n",
    "            interval=self.update_interval,\n",
    "            blit=False,\n",
    "            cache_frame_data=False\n",
    "        )\n",
    "        \n",
    "        plt.show()\n",
    "        print(\"Live plotting started - Close window to stop\")\n",
    "    \n",
    "    def stop_live_plot(self):\n",
    "        \"\"\"Stop live plotting\"\"\"\n",
    "        if hasattr(self, 'ani'):\n",
    "            self.ani.event_source.stop()\n",
    "        plt.close(self.fig)\n",
    "        print(\"Live plotting stopped.\")\n",
    "\n",
    "# Create plotter instance\n",
    "plotter = PressureChainPlotter(update_interval=1000)\n",
    "print(\"✅ Comprehensive pressure chain plotter ready\")\n",
    "print(\"   - 6 TPG366 pressure sensors (left column):\")\n",
    "print(\"     Ch1: IF1, Ch2: IF2, Ch3: Q1\")\n",
    "print(\"     Ch4: QMS, Ch5: HCD Cell, Ch6: Transfer Chamber\")\n",
    "print(\"   - HiScroll pump temperatures (right column)\")\n",
    "print(\"   - HiPace pump temperatures (right column)\")\n",
    "print(\"   - Chiller water temperature only (right column)\")\n",
    "print(\"   - HiPace pump RPM (right column)\")\n",
    "print(\"   - HiPace pump power (right column)\")\n"
   ],
   "outputs": [],
   "execution_count": null
  },
  {
   "metadata": {
    "ExecuteTime": {
     "end_time": "2025-10-09T13:07:41.101707Z",
     "start_time": "2025-10-09T13:07:40.780071Z"
    }
   },
   "cell_type": "code",
   "source": [
    "print(tpg366._query_channel_parameter(1, 41))\n",
    "print(tpg366._query_channel_parameter(2, 41))\n",
    "print(tpg366._query_channel_parameter(3, 41))\n",
    "print(tpg366._query_channel_parameter(4, 41))\n",
    "print(tpg366._query_channel_parameter(5, 41))\n",
    "print(tpg366._query_channel_parameter(6, 41))"
   ],
   "id": "c32ea440d58b73",
   "outputs": [
    {
     "name": "stdout",
     "output_type": "stream",
     "text": [
      "001\n",
      "001\n",
      "001\n",
      "001\n",
      "001\n",
      "001\n"
     ]
    }
   ],
   "execution_count": 16
  },
  {
   "metadata": {
    "ExecuteTime": {
     "end_time": "2025-10-09T12:39:42.613462Z",
     "start_time": "2025-10-09T12:39:42.608775Z"
    }
   },
   "cell_type": "code",
   "source": [
    "def set_chx_on(channel: int) -> None:\n",
    "    value = tpg366.data_converter.int_2_u_short_int(1)\n",
    "    tpg366._set_channel_parameter(channel, 41, value)\n",
    "\n",
    "\n",
    "def set_chx_off(channel: int) -> None:\n",
    "    value = tpg366.data_converter.int_2_u_short_int(0)\n",
    "    tpg366._set_channel_parameter(channel, 41, value)"
   ],
   "id": "e7fbe2b5aa68a4e2",
   "outputs": [],
   "execution_count": 29
  },
  {
   "metadata": {
    "ExecuteTime": {
     "end_time": "2025-10-09T12:44:32.791307Z",
     "start_time": "2025-10-09T12:44:32.746684Z"
    }
   },
   "cell_type": "code",
   "source": "set_chx_on(1)\n",
   "id": "7e13a260ac7b6b62",
   "outputs": [],
   "execution_count": 31
  },
  {
   "metadata": {
    "ExecuteTime": {
     "end_time": "2025-10-09T12:39:43.758739Z",
     "start_time": "2025-10-09T12:39:43.702880Z"
    }
   },
   "cell_type": "code",
   "source": "set_chx_off(1)",
   "id": "4a33202b86f0b300",
   "outputs": [],
   "execution_count": 30
  },
  {
   "cell_type": "code",
   "id": "47e6a00c",
   "metadata": {
    "ExecuteTime": {
     "end_time": "2025-10-09T13:07:44.652827Z",
     "start_time": "2025-10-09T13:07:44.646323Z"
    }
   },
   "source": "%matplotlib notebook",
   "outputs": [],
   "execution_count": 17
  },
  {
   "cell_type": "code",
   "id": "9e739dea",
   "metadata": {
    "ExecuteTime": {
     "end_time": "2025-10-09T13:07:45.664098Z",
     "start_time": "2025-10-09T13:07:45.595418Z"
    }
   },
   "source": [
    "# Create and start live plotting\n",
    "plotter = PressureChainPlotter(update_interval=2000)  # Update every 2 seconds\n",
    "plotter.start_live_plot()"
   ],
   "outputs": [
    {
     "data": {
      "text/plain": [
       "<IPython.core.display.Javascript object>"
      ],
      "application/javascript": "/* Put everything inside the global mpl namespace */\n/* global mpl */\nwindow.mpl = {};\n\nmpl.get_websocket_type = function () {\n    if (typeof WebSocket !== 'undefined') {\n        return WebSocket;\n    } else if (typeof MozWebSocket !== 'undefined') {\n        return MozWebSocket;\n    } else {\n        alert(\n            'Your browser does not have WebSocket support. ' +\n                'Please try Chrome, Safari or Firefox ≥ 6. ' +\n                'Firefox 4 and 5 are also supported but you ' +\n                'have to enable WebSockets in about:config.'\n        );\n    }\n};\n\nmpl.figure = function (figure_id, websocket, ondownload, parent_element) {\n    this.id = figure_id;\n\n    this.ws = websocket;\n\n    this.supports_binary = this.ws.binaryType !== undefined;\n\n    if (!this.supports_binary) {\n        var warnings = document.getElementById('mpl-warnings');\n        if (warnings) {\n            warnings.style.display = 'block';\n            warnings.textContent =\n                'This browser does not support binary websocket messages. ' +\n                'Performance may be slow.';\n        }\n    }\n\n    this.imageObj = new Image();\n\n    this.context = undefined;\n    this.message = undefined;\n    this.canvas = undefined;\n    this.rubberband_canvas = undefined;\n    this.rubberband_context = undefined;\n    this.format_dropdown = undefined;\n\n    this.image_mode = 'full';\n\n    this.root = document.createElement('div');\n    this.root.setAttribute('style', 'display: inline-block');\n    this._root_extra_style(this.root);\n\n    parent_element.appendChild(this.root);\n\n    this._init_header(this);\n    this._init_canvas(this);\n    this._init_toolbar(this);\n\n    var fig = this;\n\n    this.waiting = false;\n\n    this.ws.onopen = function () {\n        fig.send_message('supports_binary', { value: fig.supports_binary });\n        fig.send_message('send_image_mode', {});\n        if (fig.ratio !== 1) {\n            fig.send_message('set_device_pixel_ratio', {\n                device_pixel_ratio: fig.ratio,\n            });\n        }\n        fig.send_message('refresh', {});\n    };\n\n    this.imageObj.onload = function () {\n        if (fig.image_mode === 'full') {\n            // Full images could contain transparency (where diff images\n            // almost always do), so we need to clear the canvas so that\n            // there is no ghosting.\n            fig.context.clearRect(0, 0, fig.canvas.width, fig.canvas.height);\n        }\n        fig.context.drawImage(fig.imageObj, 0, 0);\n    };\n\n    this.imageObj.onunload = function () {\n        fig.ws.close();\n    };\n\n    this.ws.onmessage = this._make_on_message_function(this);\n\n    this.ondownload = ondownload;\n};\n\nmpl.figure.prototype._init_header = function () {\n    var titlebar = document.createElement('div');\n    titlebar.classList =\n        'ui-dialog-titlebar ui-widget-header ui-corner-all ui-helper-clearfix';\n    var titletext = document.createElement('div');\n    titletext.classList = 'ui-dialog-title';\n    titletext.setAttribute(\n        'style',\n        'width: 100%; text-align: center; padding: 3px;'\n    );\n    titlebar.appendChild(titletext);\n    this.root.appendChild(titlebar);\n    this.header = titletext;\n};\n\nmpl.figure.prototype._canvas_extra_style = function (_canvas_div) {};\n\nmpl.figure.prototype._root_extra_style = function (_canvas_div) {};\n\nmpl.figure.prototype._init_canvas = function () {\n    var fig = this;\n\n    var canvas_div = (this.canvas_div = document.createElement('div'));\n    canvas_div.setAttribute('tabindex', '0');\n    canvas_div.setAttribute(\n        'style',\n        'border: 1px solid #ddd;' +\n            'box-sizing: content-box;' +\n            'clear: both;' +\n            'min-height: 1px;' +\n            'min-width: 1px;' +\n            'outline: 0;' +\n            'overflow: hidden;' +\n            'position: relative;' +\n            'resize: both;' +\n            'z-index: 2;'\n    );\n\n    function on_keyboard_event_closure(name) {\n        return function (event) {\n            return fig.key_event(event, name);\n        };\n    }\n\n    canvas_div.addEventListener(\n        'keydown',\n        on_keyboard_event_closure('key_press')\n    );\n    canvas_div.addEventListener(\n        'keyup',\n        on_keyboard_event_closure('key_release')\n    );\n\n    this._canvas_extra_style(canvas_div);\n    this.root.appendChild(canvas_div);\n\n    var canvas = (this.canvas = document.createElement('canvas'));\n    canvas.classList.add('mpl-canvas');\n    canvas.setAttribute(\n        'style',\n        'box-sizing: content-box;' +\n            'pointer-events: none;' +\n            'position: relative;' +\n            'z-index: 0;'\n    );\n\n    this.context = canvas.getContext('2d');\n\n    var backingStore =\n        this.context.backingStorePixelRatio ||\n        this.context.webkitBackingStorePixelRatio ||\n        this.context.mozBackingStorePixelRatio ||\n        this.context.msBackingStorePixelRatio ||\n        this.context.oBackingStorePixelRatio ||\n        this.context.backingStorePixelRatio ||\n        1;\n\n    this.ratio = (window.devicePixelRatio || 1) / backingStore;\n\n    var rubberband_canvas = (this.rubberband_canvas = document.createElement(\n        'canvas'\n    ));\n    rubberband_canvas.setAttribute(\n        'style',\n        'box-sizing: content-box;' +\n            'left: 0;' +\n            'pointer-events: none;' +\n            'position: absolute;' +\n            'top: 0;' +\n            'z-index: 1;'\n    );\n\n    // Apply a ponyfill if ResizeObserver is not implemented by browser.\n    if (this.ResizeObserver === undefined) {\n        if (window.ResizeObserver !== undefined) {\n            this.ResizeObserver = window.ResizeObserver;\n        } else {\n            var obs = _JSXTOOLS_RESIZE_OBSERVER({});\n            this.ResizeObserver = obs.ResizeObserver;\n        }\n    }\n\n    this.resizeObserverInstance = new this.ResizeObserver(function (entries) {\n        // There's no need to resize if the WebSocket is not connected:\n        // - If it is still connecting, then we will get an initial resize from\n        //   Python once it connects.\n        // - If it has disconnected, then resizing will clear the canvas and\n        //   never get anything back to refill it, so better to not resize and\n        //   keep something visible.\n        if (fig.ws.readyState != 1) {\n            return;\n        }\n        var nentries = entries.length;\n        for (var i = 0; i < nentries; i++) {\n            var entry = entries[i];\n            var width, height;\n            if (entry.contentBoxSize) {\n                if (entry.contentBoxSize instanceof Array) {\n                    // Chrome 84 implements new version of spec.\n                    width = entry.contentBoxSize[0].inlineSize;\n                    height = entry.contentBoxSize[0].blockSize;\n                } else {\n                    // Firefox implements old version of spec.\n                    width = entry.contentBoxSize.inlineSize;\n                    height = entry.contentBoxSize.blockSize;\n                }\n            } else {\n                // Chrome <84 implements even older version of spec.\n                width = entry.contentRect.width;\n                height = entry.contentRect.height;\n            }\n\n            // Keep the size of the canvas and rubber band canvas in sync with\n            // the canvas container.\n            if (entry.devicePixelContentBoxSize) {\n                // Chrome 84 implements new version of spec.\n                canvas.setAttribute(\n                    'width',\n                    entry.devicePixelContentBoxSize[0].inlineSize\n                );\n                canvas.setAttribute(\n                    'height',\n                    entry.devicePixelContentBoxSize[0].blockSize\n                );\n            } else {\n                canvas.setAttribute('width', width * fig.ratio);\n                canvas.setAttribute('height', height * fig.ratio);\n            }\n            /* This rescales the canvas back to display pixels, so that it\n             * appears correct on HiDPI screens. */\n            canvas.style.width = width + 'px';\n            canvas.style.height = height + 'px';\n\n            rubberband_canvas.setAttribute('width', width);\n            rubberband_canvas.setAttribute('height', height);\n\n            // And update the size in Python. We ignore the initial 0/0 size\n            // that occurs as the element is placed into the DOM, which should\n            // otherwise not happen due to the minimum size styling.\n            if (width != 0 && height != 0) {\n                fig.request_resize(width, height);\n            }\n        }\n    });\n    this.resizeObserverInstance.observe(canvas_div);\n\n    function on_mouse_event_closure(name) {\n        /* User Agent sniffing is bad, but WebKit is busted:\n         * https://bugs.webkit.org/show_bug.cgi?id=144526\n         * https://bugs.webkit.org/show_bug.cgi?id=181818\n         * The worst that happens here is that they get an extra browser\n         * selection when dragging, if this check fails to catch them.\n         */\n        var UA = navigator.userAgent;\n        var isWebKit = /AppleWebKit/.test(UA) && !/Chrome/.test(UA);\n        if(isWebKit) {\n            return function (event) {\n                /* This prevents the web browser from automatically changing to\n                 * the text insertion cursor when the button is pressed. We\n                 * want to control all of the cursor setting manually through\n                 * the 'cursor' event from matplotlib */\n                event.preventDefault()\n                return fig.mouse_event(event, name);\n            };\n        } else {\n            return function (event) {\n                return fig.mouse_event(event, name);\n            };\n        }\n    }\n\n    canvas_div.addEventListener(\n        'mousedown',\n        on_mouse_event_closure('button_press')\n    );\n    canvas_div.addEventListener(\n        'mouseup',\n        on_mouse_event_closure('button_release')\n    );\n    canvas_div.addEventListener(\n        'dblclick',\n        on_mouse_event_closure('dblclick')\n    );\n    // Throttle sequential mouse events to 1 every 20ms.\n    canvas_div.addEventListener(\n        'mousemove',\n        on_mouse_event_closure('motion_notify')\n    );\n\n    canvas_div.addEventListener(\n        'mouseenter',\n        on_mouse_event_closure('figure_enter')\n    );\n    canvas_div.addEventListener(\n        'mouseleave',\n        on_mouse_event_closure('figure_leave')\n    );\n\n    canvas_div.addEventListener('wheel', function (event) {\n        if (event.deltaY < 0) {\n            event.step = 1;\n        } else {\n            event.step = -1;\n        }\n        on_mouse_event_closure('scroll')(event);\n    });\n\n    canvas_div.appendChild(canvas);\n    canvas_div.appendChild(rubberband_canvas);\n\n    this.rubberband_context = rubberband_canvas.getContext('2d');\n    this.rubberband_context.strokeStyle = '#000000';\n\n    this._resize_canvas = function (width, height, forward) {\n        if (forward) {\n            canvas_div.style.width = width + 'px';\n            canvas_div.style.height = height + 'px';\n        }\n    };\n\n    // Disable right mouse context menu.\n    canvas_div.addEventListener('contextmenu', function (_e) {\n        event.preventDefault();\n        return false;\n    });\n\n    function set_focus() {\n        canvas.focus();\n        canvas_div.focus();\n    }\n\n    window.setTimeout(set_focus, 100);\n};\n\nmpl.figure.prototype._init_toolbar = function () {\n    var fig = this;\n\n    var toolbar = document.createElement('div');\n    toolbar.classList = 'mpl-toolbar';\n    this.root.appendChild(toolbar);\n\n    function on_click_closure(name) {\n        return function (_event) {\n            return fig.toolbar_button_onclick(name);\n        };\n    }\n\n    function on_mouseover_closure(tooltip) {\n        return function (event) {\n            if (!event.currentTarget.disabled) {\n                return fig.toolbar_button_onmouseover(tooltip);\n            }\n        };\n    }\n\n    fig.buttons = {};\n    var buttonGroup = document.createElement('div');\n    buttonGroup.classList = 'mpl-button-group';\n    for (var toolbar_ind in mpl.toolbar_items) {\n        var name = mpl.toolbar_items[toolbar_ind][0];\n        var tooltip = mpl.toolbar_items[toolbar_ind][1];\n        var image = mpl.toolbar_items[toolbar_ind][2];\n        var method_name = mpl.toolbar_items[toolbar_ind][3];\n\n        if (!name) {\n            /* Instead of a spacer, we start a new button group. */\n            if (buttonGroup.hasChildNodes()) {\n                toolbar.appendChild(buttonGroup);\n            }\n            buttonGroup = document.createElement('div');\n            buttonGroup.classList = 'mpl-button-group';\n            continue;\n        }\n\n        var button = (fig.buttons[name] = document.createElement('button'));\n        button.classList = 'mpl-widget';\n        button.setAttribute('role', 'button');\n        button.setAttribute('aria-disabled', 'false');\n        button.addEventListener('click', on_click_closure(method_name));\n        button.addEventListener('mouseover', on_mouseover_closure(tooltip));\n\n        var icon_img = document.createElement('img');\n        icon_img.src = '_images/' + image + '.png';\n        icon_img.srcset = '_images/' + image + '_large.png 2x';\n        icon_img.alt = tooltip;\n        button.appendChild(icon_img);\n\n        buttonGroup.appendChild(button);\n    }\n\n    if (buttonGroup.hasChildNodes()) {\n        toolbar.appendChild(buttonGroup);\n    }\n\n    var fmt_picker = document.createElement('select');\n    fmt_picker.classList = 'mpl-widget';\n    toolbar.appendChild(fmt_picker);\n    this.format_dropdown = fmt_picker;\n\n    for (var ind in mpl.extensions) {\n        var fmt = mpl.extensions[ind];\n        var option = document.createElement('option');\n        option.selected = fmt === mpl.default_extension;\n        option.innerHTML = fmt;\n        fmt_picker.appendChild(option);\n    }\n\n    var status_bar = document.createElement('span');\n    status_bar.classList = 'mpl-message';\n    toolbar.appendChild(status_bar);\n    this.message = status_bar;\n};\n\nmpl.figure.prototype.request_resize = function (x_pixels, y_pixels) {\n    // Request matplotlib to resize the figure. Matplotlib will then trigger a resize in the client,\n    // which will in turn request a refresh of the image.\n    this.send_message('resize', { width: x_pixels, height: y_pixels });\n};\n\nmpl.figure.prototype.send_message = function (type, properties) {\n    properties['type'] = type;\n    properties['figure_id'] = this.id;\n    this.ws.send(JSON.stringify(properties));\n};\n\nmpl.figure.prototype.send_draw_message = function () {\n    if (!this.waiting) {\n        this.waiting = true;\n        this.ws.send(JSON.stringify({ type: 'draw', figure_id: this.id }));\n    }\n};\n\nmpl.figure.prototype.handle_save = function (fig, _msg) {\n    var format_dropdown = fig.format_dropdown;\n    var format = format_dropdown.options[format_dropdown.selectedIndex].value;\n    fig.ondownload(fig, format);\n};\n\nmpl.figure.prototype.handle_resize = function (fig, msg) {\n    var size = msg['size'];\n    if (size[0] !== fig.canvas.width || size[1] !== fig.canvas.height) {\n        fig._resize_canvas(size[0], size[1], msg['forward']);\n        fig.send_message('refresh', {});\n    }\n};\n\nmpl.figure.prototype.handle_rubberband = function (fig, msg) {\n    var x0 = msg['x0'] / fig.ratio;\n    var y0 = (fig.canvas.height - msg['y0']) / fig.ratio;\n    var x1 = msg['x1'] / fig.ratio;\n    var y1 = (fig.canvas.height - msg['y1']) / fig.ratio;\n    x0 = Math.floor(x0) + 0.5;\n    y0 = Math.floor(y0) + 0.5;\n    x1 = Math.floor(x1) + 0.5;\n    y1 = Math.floor(y1) + 0.5;\n    var min_x = Math.min(x0, x1);\n    var min_y = Math.min(y0, y1);\n    var width = Math.abs(x1 - x0);\n    var height = Math.abs(y1 - y0);\n\n    fig.rubberband_context.clearRect(\n        0,\n        0,\n        fig.canvas.width / fig.ratio,\n        fig.canvas.height / fig.ratio\n    );\n\n    fig.rubberband_context.strokeRect(min_x, min_y, width, height);\n};\n\nmpl.figure.prototype.handle_figure_label = function (fig, msg) {\n    // Updates the figure title.\n    fig.header.textContent = msg['label'];\n};\n\nmpl.figure.prototype.handle_cursor = function (fig, msg) {\n    fig.canvas_div.style.cursor = msg['cursor'];\n};\n\nmpl.figure.prototype.handle_message = function (fig, msg) {\n    fig.message.textContent = msg['message'];\n};\n\nmpl.figure.prototype.handle_draw = function (fig, _msg) {\n    // Request the server to send over a new figure.\n    fig.send_draw_message();\n};\n\nmpl.figure.prototype.handle_image_mode = function (fig, msg) {\n    fig.image_mode = msg['mode'];\n};\n\nmpl.figure.prototype.handle_history_buttons = function (fig, msg) {\n    for (var key in msg) {\n        if (!(key in fig.buttons)) {\n            continue;\n        }\n        fig.buttons[key].disabled = !msg[key];\n        fig.buttons[key].setAttribute('aria-disabled', !msg[key]);\n    }\n};\n\nmpl.figure.prototype.handle_navigate_mode = function (fig, msg) {\n    if (msg['mode'] === 'PAN') {\n        fig.buttons['Pan'].classList.add('active');\n        fig.buttons['Zoom'].classList.remove('active');\n    } else if (msg['mode'] === 'ZOOM') {\n        fig.buttons['Pan'].classList.remove('active');\n        fig.buttons['Zoom'].classList.add('active');\n    } else {\n        fig.buttons['Pan'].classList.remove('active');\n        fig.buttons['Zoom'].classList.remove('active');\n    }\n};\n\nmpl.figure.prototype.updated_canvas_event = function () {\n    // Called whenever the canvas gets updated.\n    this.send_message('ack', {});\n};\n\n// A function to construct a web socket function for onmessage handling.\n// Called in the figure constructor.\nmpl.figure.prototype._make_on_message_function = function (fig) {\n    return function socket_on_message(evt) {\n        if (evt.data instanceof Blob) {\n            var img = evt.data;\n            if (img.type !== 'image/png') {\n                /* FIXME: We get \"Resource interpreted as Image but\n                 * transferred with MIME type text/plain:\" errors on\n                 * Chrome.  But how to set the MIME type?  It doesn't seem\n                 * to be part of the websocket stream */\n                img.type = 'image/png';\n            }\n\n            /* Free the memory for the previous frames */\n            if (fig.imageObj.src) {\n                (window.URL || window.webkitURL).revokeObjectURL(\n                    fig.imageObj.src\n                );\n            }\n\n            fig.imageObj.src = (window.URL || window.webkitURL).createObjectURL(\n                img\n            );\n            fig.updated_canvas_event();\n            fig.waiting = false;\n            return;\n        } else if (\n            typeof evt.data === 'string' &&\n            evt.data.slice(0, 21) === 'data:image/png;base64'\n        ) {\n            fig.imageObj.src = evt.data;\n            fig.updated_canvas_event();\n            fig.waiting = false;\n            return;\n        }\n\n        var msg = JSON.parse(evt.data);\n        var msg_type = msg['type'];\n\n        // Call the  \"handle_{type}\" callback, which takes\n        // the figure and JSON message as its only arguments.\n        try {\n            var callback = fig['handle_' + msg_type];\n        } catch (e) {\n            console.log(\n                \"No handler for the '\" + msg_type + \"' message type: \",\n                msg\n            );\n            return;\n        }\n\n        if (callback) {\n            try {\n                // console.log(\"Handling '\" + msg_type + \"' message: \", msg);\n                callback(fig, msg);\n            } catch (e) {\n                console.log(\n                    \"Exception inside the 'handler_\" + msg_type + \"' callback:\",\n                    e,\n                    e.stack,\n                    msg\n                );\n            }\n        }\n    };\n};\n\nfunction getModifiers(event) {\n    var mods = [];\n    if (event.ctrlKey) {\n        mods.push('ctrl');\n    }\n    if (event.altKey) {\n        mods.push('alt');\n    }\n    if (event.shiftKey) {\n        mods.push('shift');\n    }\n    if (event.metaKey) {\n        mods.push('meta');\n    }\n    return mods;\n}\n\n/*\n * return a copy of an object with only non-object keys\n * we need this to avoid circular references\n * https://stackoverflow.com/a/24161582/3208463\n */\nfunction simpleKeys(original) {\n    return Object.keys(original).reduce(function (obj, key) {\n        if (typeof original[key] !== 'object') {\n            obj[key] = original[key];\n        }\n        return obj;\n    }, {});\n}\n\nmpl.figure.prototype.mouse_event = function (event, name) {\n    if (name === 'button_press') {\n        this.canvas.focus();\n        this.canvas_div.focus();\n    }\n\n    // from https://stackoverflow.com/q/1114465\n    var boundingRect = this.canvas.getBoundingClientRect();\n    var x = (event.clientX - boundingRect.left) * this.ratio;\n    var y = (event.clientY - boundingRect.top) * this.ratio;\n\n    this.send_message(name, {\n        x: x,\n        y: y,\n        button: event.button,\n        step: event.step,\n        buttons: event.buttons,\n        modifiers: getModifiers(event),\n        guiEvent: simpleKeys(event),\n    });\n\n    return false;\n};\n\nmpl.figure.prototype._key_event_extra = function (_event, _name) {\n    // Handle any extra behaviour associated with a key event\n};\n\nmpl.figure.prototype.key_event = function (event, name) {\n    // Prevent repeat events\n    if (name === 'key_press') {\n        if (event.key === this._key) {\n            return;\n        } else {\n            this._key = event.key;\n        }\n    }\n    if (name === 'key_release') {\n        this._key = null;\n    }\n\n    var value = '';\n    if (event.ctrlKey && event.key !== 'Control') {\n        value += 'ctrl+';\n    }\n    else if (event.altKey && event.key !== 'Alt') {\n        value += 'alt+';\n    }\n    else if (event.shiftKey && event.key !== 'Shift') {\n        value += 'shift+';\n    }\n\n    value += 'k' + event.key;\n\n    this._key_event_extra(event, name);\n\n    this.send_message(name, { key: value, guiEvent: simpleKeys(event) });\n    return false;\n};\n\nmpl.figure.prototype.toolbar_button_onclick = function (name) {\n    if (name === 'download') {\n        this.handle_save(this, null);\n    } else {\n        this.send_message('toolbar_button', { name: name });\n    }\n};\n\nmpl.figure.prototype.toolbar_button_onmouseover = function (tooltip) {\n    this.message.textContent = tooltip;\n};\n\n///////////////// REMAINING CONTENT GENERATED BY embed_js.py /////////////////\n// prettier-ignore\nvar _JSXTOOLS_RESIZE_OBSERVER=function(A){var t,i=new WeakMap,n=new WeakMap,a=new WeakMap,r=new WeakMap,o=new Set;function s(e){if(!(this instanceof s))throw new TypeError(\"Constructor requires 'new' operator\");i.set(this,e)}function h(){throw new TypeError(\"Function is not a constructor\")}function c(e,t,i,n){e=0 in arguments?Number(arguments[0]):0,t=1 in arguments?Number(arguments[1]):0,i=2 in arguments?Number(arguments[2]):0,n=3 in arguments?Number(arguments[3]):0,this.right=(this.x=this.left=e)+(this.width=i),this.bottom=(this.y=this.top=t)+(this.height=n),Object.freeze(this)}function d(){t=requestAnimationFrame(d);var s=new WeakMap,p=new Set;o.forEach((function(t){r.get(t).forEach((function(i){var r=t instanceof window.SVGElement,o=a.get(t),d=r?0:parseFloat(o.paddingTop),f=r?0:parseFloat(o.paddingRight),l=r?0:parseFloat(o.paddingBottom),u=r?0:parseFloat(o.paddingLeft),g=r?0:parseFloat(o.borderTopWidth),m=r?0:parseFloat(o.borderRightWidth),w=r?0:parseFloat(o.borderBottomWidth),b=u+f,F=d+l,v=(r?0:parseFloat(o.borderLeftWidth))+m,W=g+w,y=r?0:t.offsetHeight-W-t.clientHeight,E=r?0:t.offsetWidth-v-t.clientWidth,R=b+v,z=F+W,M=r?t.width:parseFloat(o.width)-R-E,O=r?t.height:parseFloat(o.height)-z-y;if(n.has(t)){var k=n.get(t);if(k[0]===M&&k[1]===O)return}n.set(t,[M,O]);var S=Object.create(h.prototype);S.target=t,S.contentRect=new c(u,d,M,O),s.has(i)||(s.set(i,[]),p.add(i)),s.get(i).push(S)}))})),p.forEach((function(e){i.get(e).call(e,s.get(e),e)}))}return s.prototype.observe=function(i){if(i instanceof window.Element){r.has(i)||(r.set(i,new Set),o.add(i),a.set(i,window.getComputedStyle(i)));var n=r.get(i);n.has(this)||n.add(this),cancelAnimationFrame(t),t=requestAnimationFrame(d)}},s.prototype.unobserve=function(i){if(i instanceof window.Element&&r.has(i)){var n=r.get(i);n.has(this)&&(n.delete(this),n.size||(r.delete(i),o.delete(i))),n.size||r.delete(i),o.size||cancelAnimationFrame(t)}},A.DOMRectReadOnly=c,A.ResizeObserver=s,A.ResizeObserverEntry=h,A}; // eslint-disable-line\nmpl.toolbar_items = [[\"Home\", \"Reset original view\", \"fa fa-home\", \"home\"], [\"Back\", \"Back to previous view\", \"fa fa-arrow-left\", \"back\"], [\"Forward\", \"Forward to next view\", \"fa fa-arrow-right\", \"forward\"], [\"\", \"\", \"\", \"\"], [\"Pan\", \"Left button pans, Right button zooms\\nx/y fixes axis, CTRL fixes aspect\", \"fa fa-arrows\", \"pan\"], [\"Zoom\", \"Zoom to rectangle\\nx/y fixes axis\", \"fa fa-square-o\", \"zoom\"], [\"\", \"\", \"\", \"\"], [\"Download\", \"Download plot\", \"fa fa-floppy-o\", \"download\"]];\n\nmpl.extensions = [\"eps\", \"jpeg\", \"pgf\", \"pdf\", \"png\", \"ps\", \"raw\", \"svg\", \"tif\", \"webp\"];\n\nmpl.default_extension = \"png\";/* global mpl */\n\nvar comm_websocket_adapter = function (comm) {\n    // Create a \"websocket\"-like object which calls the given IPython comm\n    // object with the appropriate methods. Currently this is a non binary\n    // socket, so there is still some room for performance tuning.\n    var ws = {};\n\n    ws.binaryType = comm.kernel.ws.binaryType;\n    ws.readyState = comm.kernel.ws.readyState;\n    function updateReadyState(_event) {\n        if (comm.kernel.ws) {\n            ws.readyState = comm.kernel.ws.readyState;\n        } else {\n            ws.readyState = 3; // Closed state.\n        }\n    }\n    comm.kernel.ws.addEventListener('open', updateReadyState);\n    comm.kernel.ws.addEventListener('close', updateReadyState);\n    comm.kernel.ws.addEventListener('error', updateReadyState);\n\n    ws.close = function () {\n        comm.close();\n    };\n    ws.send = function (m) {\n        //console.log('sending', m);\n        comm.send(m);\n    };\n    // Register the callback with on_msg.\n    comm.on_msg(function (msg) {\n        //console.log('receiving', msg['content']['data'], msg);\n        var data = msg['content']['data'];\n        if (data['blob'] !== undefined) {\n            data = {\n                data: new Blob(msg['buffers'], { type: data['blob'] }),\n            };\n        }\n        // Pass the mpl event to the overridden (by mpl) onmessage function.\n        ws.onmessage(data);\n    });\n    return ws;\n};\n\nmpl.mpl_figure_comm = function (comm, msg) {\n    // This is the function which gets called when the mpl process\n    // starts-up an IPython Comm through the \"matplotlib\" channel.\n\n    var id = msg.content.data.id;\n    // Get hold of the div created by the display call when the Comm\n    // socket was opened in Python.\n    var element = document.getElementById(id);\n    var ws_proxy = comm_websocket_adapter(comm);\n\n    function ondownload(figure, _format) {\n        window.open(figure.canvas.toDataURL());\n    }\n\n    var fig = new mpl.figure(id, ws_proxy, ondownload, element);\n\n    // Call onopen now - mpl needs it, as it is assuming we've passed it a real\n    // web socket which is closed, not our websocket->open comm proxy.\n    ws_proxy.onopen();\n\n    fig.parent_element = element;\n    fig.cell_info = mpl.find_output_cell(\"<div id='\" + id + \"'></div>\");\n    if (!fig.cell_info) {\n        console.error('Failed to find cell for figure', id, fig);\n        return;\n    }\n    fig.cell_info[0].output_area.element.on(\n        'cleared',\n        { fig: fig },\n        fig._remove_fig_handler\n    );\n};\n\nmpl.figure.prototype.handle_close = function (fig, msg) {\n    var width = fig.canvas.width / fig.ratio;\n    fig.cell_info[0].output_area.element.off(\n        'cleared',\n        fig._remove_fig_handler\n    );\n    fig.resizeObserverInstance.unobserve(fig.canvas_div);\n\n    // Update the output cell to use the data from the current canvas.\n    fig.push_to_output();\n    var dataURL = fig.canvas.toDataURL();\n    // Re-enable the keyboard manager in IPython - without this line, in FF,\n    // the notebook keyboard shortcuts fail.\n    IPython.keyboard_manager.enable();\n    fig.parent_element.innerHTML =\n        '<img src=\"' + dataURL + '\" width=\"' + width + '\">';\n    fig.close_ws(fig, msg);\n};\n\nmpl.figure.prototype.close_ws = function (fig, msg) {\n    fig.send_message('closing', msg);\n    // fig.ws.close()\n};\n\nmpl.figure.prototype.push_to_output = function (_remove_interactive) {\n    // Turn the data on the canvas into data in the output cell.\n    var width = this.canvas.width / this.ratio;\n    var dataURL = this.canvas.toDataURL();\n    this.cell_info[1]['text/html'] =\n        '<img src=\"' + dataURL + '\" width=\"' + width + '\">';\n};\n\nmpl.figure.prototype.updated_canvas_event = function () {\n    // Tell IPython that the notebook contents must change.\n    IPython.notebook.set_dirty(true);\n    this.send_message('ack', {});\n    var fig = this;\n    // Wait a second, then push the new image to the DOM so\n    // that it is saved nicely (might be nice to debounce this).\n    setTimeout(function () {\n        fig.push_to_output();\n    }, 1000);\n};\n\nmpl.figure.prototype._init_toolbar = function () {\n    var fig = this;\n\n    var toolbar = document.createElement('div');\n    toolbar.classList = 'btn-toolbar';\n    this.root.appendChild(toolbar);\n\n    function on_click_closure(name) {\n        return function (_event) {\n            return fig.toolbar_button_onclick(name);\n        };\n    }\n\n    function on_mouseover_closure(tooltip) {\n        return function (event) {\n            if (!event.currentTarget.disabled) {\n                return fig.toolbar_button_onmouseover(tooltip);\n            }\n        };\n    }\n\n    fig.buttons = {};\n    var buttonGroup = document.createElement('div');\n    buttonGroup.classList = 'btn-group';\n    var button;\n    for (var toolbar_ind in mpl.toolbar_items) {\n        var name = mpl.toolbar_items[toolbar_ind][0];\n        var tooltip = mpl.toolbar_items[toolbar_ind][1];\n        var image = mpl.toolbar_items[toolbar_ind][2];\n        var method_name = mpl.toolbar_items[toolbar_ind][3];\n\n        if (!name) {\n            /* Instead of a spacer, we start a new button group. */\n            if (buttonGroup.hasChildNodes()) {\n                toolbar.appendChild(buttonGroup);\n            }\n            buttonGroup = document.createElement('div');\n            buttonGroup.classList = 'btn-group';\n            continue;\n        }\n\n        button = fig.buttons[name] = document.createElement('button');\n        button.classList = 'btn btn-default';\n        button.href = '#';\n        button.title = name;\n        button.innerHTML = '<i class=\"fa ' + image + ' fa-lg\"></i>';\n        button.addEventListener('click', on_click_closure(method_name));\n        button.addEventListener('mouseover', on_mouseover_closure(tooltip));\n        buttonGroup.appendChild(button);\n    }\n\n    if (buttonGroup.hasChildNodes()) {\n        toolbar.appendChild(buttonGroup);\n    }\n\n    // Add the status bar.\n    var status_bar = document.createElement('span');\n    status_bar.classList = 'mpl-message pull-right';\n    toolbar.appendChild(status_bar);\n    this.message = status_bar;\n\n    // Add the close button to the window.\n    var buttongrp = document.createElement('div');\n    buttongrp.classList = 'btn-group inline pull-right';\n    button = document.createElement('button');\n    button.classList = 'btn btn-mini btn-primary';\n    button.href = '#';\n    button.title = 'Stop Interaction';\n    button.innerHTML = '<i class=\"fa fa-power-off icon-remove icon-large\"></i>';\n    button.addEventListener('click', function (_evt) {\n        fig.handle_close(fig, {});\n    });\n    button.addEventListener(\n        'mouseover',\n        on_mouseover_closure('Stop Interaction')\n    );\n    buttongrp.appendChild(button);\n    var titlebar = this.root.querySelector('.ui-dialog-titlebar');\n    titlebar.insertBefore(buttongrp, titlebar.firstChild);\n};\n\nmpl.figure.prototype._remove_fig_handler = function (event) {\n    var fig = event.data.fig;\n    if (event.target !== this) {\n        // Ignore bubbled events from children.\n        return;\n    }\n    fig.close_ws(fig, {});\n};\n\nmpl.figure.prototype._root_extra_style = function (el) {\n    el.style.boxSizing = 'content-box'; // override notebook setting of border-box.\n};\n\nmpl.figure.prototype._canvas_extra_style = function (el) {\n    // this is important to make the div 'focusable\n    el.setAttribute('tabindex', 0);\n    // reach out to IPython and tell the keyboard manager to turn it's self\n    // off when our div gets focus\n\n    // location in version 3\n    if (IPython.notebook.keyboard_manager) {\n        IPython.notebook.keyboard_manager.register_events(el);\n    } else {\n        // location in version 2\n        IPython.keyboard_manager.register_events(el);\n    }\n};\n\nmpl.figure.prototype._key_event_extra = function (event, _name) {\n    // Check for shift+enter\n    if (event.shiftKey && event.which === 13) {\n        this.canvas_div.blur();\n        // select the cell after this one\n        var index = IPython.notebook.find_cell_index(this.cell_info[0]);\n        IPython.notebook.select(index + 1);\n    }\n};\n\nmpl.figure.prototype.handle_save = function (fig, _msg) {\n    fig.ondownload(fig, null);\n};\n\nmpl.find_output_cell = function (html_output) {\n    // Return the cell and output element which can be found *uniquely* in the notebook.\n    // Note - this is a bit hacky, but it is done because the \"notebook_saving.Notebook\"\n    // IPython event is triggered only after the cells have been serialised, which for\n    // our purposes (turning an active figure into a static one), is too late.\n    var cells = IPython.notebook.get_cells();\n    var ncells = cells.length;\n    for (var i = 0; i < ncells; i++) {\n        var cell = cells[i];\n        if (cell.cell_type === 'code') {\n            for (var j = 0; j < cell.output_area.outputs.length; j++) {\n                var data = cell.output_area.outputs[j];\n                if (data.data) {\n                    // IPython >= 3 moved mimebundle to data attribute of output\n                    data = data.data;\n                }\n                if (data['text/html'] === html_output) {\n                    return [cell, data, j];\n                }\n            }\n        }\n    }\n};\n\n// Register the function which deals with the matplotlib target/channel.\n// The kernel may be null if the page has been refreshed.\nif (IPython.notebook.kernel !== null) {\n    IPython.notebook.kernel.comm_manager.register_target(\n        'matplotlib',\n        mpl.mpl_figure_comm\n    );\n}\n"
     },
     "metadata": {},
     "output_type": "display_data"
    },
    {
     "data": {
      "text/plain": [
       "<IPython.core.display.HTML object>"
      ],
      "text/html": [
       "<div id='23e6705b-803a-493c-95a2-d48186c29e73'></div>"
      ]
     },
     "metadata": {},
     "output_type": "display_data"
    },
    {
     "name": "stdout",
     "output_type": "stream",
     "text": [
      "Live plotting started - Close window to stop\n"
     ]
    }
   ],
   "execution_count": 18
  },
  {
   "cell_type": "code",
   "id": "077b5c13",
   "metadata": {
    "ExecuteTime": {
     "end_time": "2025-10-09T13:28:17.930782Z",
     "start_time": "2025-10-09T13:28:16.101305Z"
    }
   },
   "source": [
    "# Stop live plotting\n",
    "plotter.stop_live_plot()"
   ],
   "outputs": [
    {
     "ename": "AttributeError",
     "evalue": "'NoneType' object has no attribute 'remove_callback'",
     "output_type": "error",
     "traceback": [
      "\u001B[31m---------------------------------------------------------------------------\u001B[39m",
      "\u001B[31mAttributeError\u001B[39m                            Traceback (most recent call last)",
      "\u001B[36mCell\u001B[39m\u001B[36m \u001B[39m\u001B[32mIn[21]\u001B[39m\u001B[32m, line 2\u001B[39m\n\u001B[32m      1\u001B[39m \u001B[38;5;66;03m# Stop live plotting\u001B[39;00m\n\u001B[32m----> \u001B[39m\u001B[32m2\u001B[39m plotter.stop_live_plot()\n",
      "\u001B[36mCell\u001B[39m\u001B[36m \u001B[39m\u001B[32mIn[15]\u001B[39m\u001B[32m, line 415\u001B[39m, in \u001B[36mPressureChainPlotter.stop_live_plot\u001B[39m\u001B[34m(self)\u001B[39m\n\u001B[32m    413\u001B[39m \u001B[38;5;28;01mif\u001B[39;00m \u001B[38;5;28mhasattr\u001B[39m(\u001B[38;5;28mself\u001B[39m, \u001B[33m'\u001B[39m\u001B[33mani\u001B[39m\u001B[33m'\u001B[39m):\n\u001B[32m    414\u001B[39m     \u001B[38;5;28mself\u001B[39m.ani.event_source.stop()\n\u001B[32m--> \u001B[39m\u001B[32m415\u001B[39m plt.close(\u001B[38;5;28mself\u001B[39m.fig)\n\u001B[32m    416\u001B[39m \u001B[38;5;28mprint\u001B[39m(\u001B[33m\"\u001B[39m\u001B[33mLive plotting stopped.\u001B[39m\u001B[33m\"\u001B[39m)\n",
      "\u001B[36mFile \u001B[39m\u001B[32m~\\anaconda3\\envs\\esibd\\Lib\\site-packages\\matplotlib\\pyplot.py:1215\u001B[39m, in \u001B[36mclose\u001B[39m\u001B[34m(fig)\u001B[39m\n\u001B[32m   1213\u001B[39m         _pylab_helpers.Gcf.destroy(num)\n\u001B[32m   1214\u001B[39m \u001B[38;5;28;01melif\u001B[39;00m \u001B[38;5;28misinstance\u001B[39m(fig, Figure):\n\u001B[32m-> \u001B[39m\u001B[32m1215\u001B[39m     _pylab_helpers.Gcf.destroy_fig(fig)\n\u001B[32m   1216\u001B[39m \u001B[38;5;28;01melse\u001B[39;00m:\n\u001B[32m   1217\u001B[39m     \u001B[38;5;28;01mraise\u001B[39;00m \u001B[38;5;167;01mTypeError\u001B[39;00m(\u001B[33m\"\u001B[39m\u001B[33mclose() argument must be a Figure, an int, a string, \u001B[39m\u001B[33m\"\u001B[39m\n\u001B[32m   1218\u001B[39m                     \u001B[33m\"\u001B[39m\u001B[33mor None, not \u001B[39m\u001B[38;5;132;01m%s\u001B[39;00m\u001B[33m\"\u001B[39m % \u001B[38;5;28mtype\u001B[39m(fig))\n",
      "\u001B[36mFile \u001B[39m\u001B[32m~\\anaconda3\\envs\\esibd\\Lib\\site-packages\\matplotlib\\_pylab_helpers.py:74\u001B[39m, in \u001B[36mGcf.destroy_fig\u001B[39m\u001B[34m(cls, fig)\u001B[39m\n\u001B[32m     71\u001B[39m num = \u001B[38;5;28mnext\u001B[39m((manager.num \u001B[38;5;28;01mfor\u001B[39;00m manager \u001B[38;5;129;01min\u001B[39;00m \u001B[38;5;28mcls\u001B[39m.figs.values()\n\u001B[32m     72\u001B[39m             \u001B[38;5;28;01mif\u001B[39;00m manager.canvas.figure == fig), \u001B[38;5;28;01mNone\u001B[39;00m)\n\u001B[32m     73\u001B[39m \u001B[38;5;28;01mif\u001B[39;00m num \u001B[38;5;129;01mis\u001B[39;00m \u001B[38;5;129;01mnot\u001B[39;00m \u001B[38;5;28;01mNone\u001B[39;00m:\n\u001B[32m---> \u001B[39m\u001B[32m74\u001B[39m     \u001B[38;5;28mcls\u001B[39m.destroy(num)\n",
      "\u001B[36mFile \u001B[39m\u001B[32m~\\anaconda3\\envs\\esibd\\Lib\\site-packages\\matplotlib\\_pylab_helpers.py:66\u001B[39m, in \u001B[36mGcf.destroy\u001B[39m\u001B[34m(cls, num)\u001B[39m\n\u001B[32m     64\u001B[39m \u001B[38;5;28;01mif\u001B[39;00m \u001B[38;5;28mhasattr\u001B[39m(manager, \u001B[33m\"\u001B[39m\u001B[33m_cidgcf\u001B[39m\u001B[33m\"\u001B[39m):\n\u001B[32m     65\u001B[39m     manager.canvas.mpl_disconnect(manager._cidgcf)\n\u001B[32m---> \u001B[39m\u001B[32m66\u001B[39m manager.destroy()\n",
      "\u001B[36mFile \u001B[39m\u001B[32m~\\anaconda3\\envs\\esibd\\Lib\\site-packages\\matplotlib\\backends\\backend_nbagg.py:144\u001B[39m, in \u001B[36mFigureManagerNbAgg.destroy\u001B[39m\u001B[34m(self)\u001B[39m\n\u001B[32m    142\u001B[39m \u001B[38;5;28;01mfor\u001B[39;00m comm \u001B[38;5;129;01min\u001B[39;00m \u001B[38;5;28mlist\u001B[39m(\u001B[38;5;28mself\u001B[39m.web_sockets):\n\u001B[32m    143\u001B[39m     comm.on_close()\n\u001B[32m--> \u001B[39m\u001B[32m144\u001B[39m \u001B[38;5;28mself\u001B[39m.clearup_closed()\n",
      "\u001B[36mFile \u001B[39m\u001B[32m~\\anaconda3\\envs\\esibd\\Lib\\site-packages\\matplotlib\\backends\\backend_nbagg.py:152\u001B[39m, in \u001B[36mFigureManagerNbAgg.clearup_closed\u001B[39m\u001B[34m(self)\u001B[39m\n\u001B[32m    148\u001B[39m \u001B[38;5;28mself\u001B[39m.web_sockets = {socket \u001B[38;5;28;01mfor\u001B[39;00m socket \u001B[38;5;129;01min\u001B[39;00m \u001B[38;5;28mself\u001B[39m.web_sockets\n\u001B[32m    149\u001B[39m                     \u001B[38;5;28;01mif\u001B[39;00m socket.is_open()}\n\u001B[32m    151\u001B[39m \u001B[38;5;28;01mif\u001B[39;00m \u001B[38;5;28mlen\u001B[39m(\u001B[38;5;28mself\u001B[39m.web_sockets) == \u001B[32m0\u001B[39m:\n\u001B[32m--> \u001B[39m\u001B[32m152\u001B[39m     CloseEvent(\u001B[33m\"\u001B[39m\u001B[33mclose_event\u001B[39m\u001B[33m\"\u001B[39m, \u001B[38;5;28mself\u001B[39m.canvas)._process()\n",
      "\u001B[36mFile \u001B[39m\u001B[32m~\\anaconda3\\envs\\esibd\\Lib\\site-packages\\matplotlib\\backend_bases.py:1189\u001B[39m, in \u001B[36mEvent._process\u001B[39m\u001B[34m(self)\u001B[39m\n\u001B[32m   1187\u001B[39m \u001B[38;5;28;01mdef\u001B[39;00m\u001B[38;5;250m \u001B[39m\u001B[34m_process\u001B[39m(\u001B[38;5;28mself\u001B[39m):\n\u001B[32m   1188\u001B[39m \u001B[38;5;250m    \u001B[39m\u001B[33;03m\"\"\"Process this event on ``self.canvas``, then unset ``guiEvent``.\"\"\"\u001B[39;00m\n\u001B[32m-> \u001B[39m\u001B[32m1189\u001B[39m     \u001B[38;5;28mself\u001B[39m.canvas.callbacks.process(\u001B[38;5;28mself\u001B[39m.name, \u001B[38;5;28mself\u001B[39m)\n\u001B[32m   1190\u001B[39m     \u001B[38;5;28mself\u001B[39m.guiEvent = \u001B[38;5;28;01mNone\u001B[39;00m\n",
      "\u001B[36mFile \u001B[39m\u001B[32m~\\anaconda3\\envs\\esibd\\Lib\\site-packages\\matplotlib\\cbook.py:366\u001B[39m, in \u001B[36mCallbackRegistry.process\u001B[39m\u001B[34m(self, s, *args, **kwargs)\u001B[39m\n\u001B[32m    364\u001B[39m \u001B[38;5;28;01mexcept\u001B[39;00m \u001B[38;5;167;01mException\u001B[39;00m \u001B[38;5;28;01mas\u001B[39;00m exc:\n\u001B[32m    365\u001B[39m     \u001B[38;5;28;01mif\u001B[39;00m \u001B[38;5;28mself\u001B[39m.exception_handler \u001B[38;5;129;01mis\u001B[39;00m \u001B[38;5;129;01mnot\u001B[39;00m \u001B[38;5;28;01mNone\u001B[39;00m:\n\u001B[32m--> \u001B[39m\u001B[32m366\u001B[39m         \u001B[38;5;28mself\u001B[39m.exception_handler(exc)\n\u001B[32m    367\u001B[39m     \u001B[38;5;28;01melse\u001B[39;00m:\n\u001B[32m    368\u001B[39m         \u001B[38;5;28;01mraise\u001B[39;00m\n",
      "\u001B[36mFile \u001B[39m\u001B[32m~\\anaconda3\\envs\\esibd\\Lib\\site-packages\\matplotlib\\cbook.py:110\u001B[39m, in \u001B[36m_exception_printer\u001B[39m\u001B[34m(exc)\u001B[39m\n\u001B[32m    108\u001B[39m \u001B[38;5;28;01mdef\u001B[39;00m\u001B[38;5;250m \u001B[39m\u001B[34m_exception_printer\u001B[39m(exc):\n\u001B[32m    109\u001B[39m     \u001B[38;5;28;01mif\u001B[39;00m _get_running_interactive_framework() \u001B[38;5;129;01min\u001B[39;00m [\u001B[33m\"\u001B[39m\u001B[33mheadless\u001B[39m\u001B[33m\"\u001B[39m, \u001B[38;5;28;01mNone\u001B[39;00m]:\n\u001B[32m--> \u001B[39m\u001B[32m110\u001B[39m         \u001B[38;5;28;01mraise\u001B[39;00m exc\n\u001B[32m    111\u001B[39m     \u001B[38;5;28;01melse\u001B[39;00m:\n\u001B[32m    112\u001B[39m         traceback.print_exc()\n",
      "\u001B[36mFile \u001B[39m\u001B[32m~\\anaconda3\\envs\\esibd\\Lib\\site-packages\\matplotlib\\cbook.py:361\u001B[39m, in \u001B[36mCallbackRegistry.process\u001B[39m\u001B[34m(self, s, *args, **kwargs)\u001B[39m\n\u001B[32m    359\u001B[39m \u001B[38;5;28;01mif\u001B[39;00m func \u001B[38;5;129;01mis\u001B[39;00m \u001B[38;5;129;01mnot\u001B[39;00m \u001B[38;5;28;01mNone\u001B[39;00m:\n\u001B[32m    360\u001B[39m     \u001B[38;5;28;01mtry\u001B[39;00m:\n\u001B[32m--> \u001B[39m\u001B[32m361\u001B[39m         func(*args, **kwargs)\n\u001B[32m    362\u001B[39m     \u001B[38;5;66;03m# this does not capture KeyboardInterrupt, SystemExit,\u001B[39;00m\n\u001B[32m    363\u001B[39m     \u001B[38;5;66;03m# and GeneratorExit\u001B[39;00m\n\u001B[32m    364\u001B[39m     \u001B[38;5;28;01mexcept\u001B[39;00m \u001B[38;5;167;01mException\u001B[39;00m \u001B[38;5;28;01mas\u001B[39;00m exc:\n",
      "\u001B[36mFile \u001B[39m\u001B[32m~\\anaconda3\\envs\\esibd\\Lib\\site-packages\\matplotlib\\animation.py:940\u001B[39m, in \u001B[36mAnimation._stop\u001B[39m\u001B[34m(self, *args)\u001B[39m\n\u001B[32m    938\u001B[39m     \u001B[38;5;28mself\u001B[39m._fig.canvas.mpl_disconnect(\u001B[38;5;28mself\u001B[39m._resize_id)\n\u001B[32m    939\u001B[39m \u001B[38;5;28mself\u001B[39m._fig.canvas.mpl_disconnect(\u001B[38;5;28mself\u001B[39m._close_id)\n\u001B[32m--> \u001B[39m\u001B[32m940\u001B[39m \u001B[38;5;28mself\u001B[39m.event_source.remove_callback(\u001B[38;5;28mself\u001B[39m._step)\n\u001B[32m    941\u001B[39m \u001B[38;5;28mself\u001B[39m.event_source = \u001B[38;5;28;01mNone\u001B[39;00m\n",
      "\u001B[31mAttributeError\u001B[39m: 'NoneType' object has no attribute 'remove_callback'"
     ]
    }
   ],
   "execution_count": 21
  },
  {
   "cell_type": "markdown",
   "id": "344e7372",
   "metadata": {},
   "source": [
    "## 7.5 Specialized Live Plot Windows\n",
    "\n",
    "This section provides three separate plot windows for detailed monitoring of specific parameters."
   ]
  },
  {
   "cell_type": "code",
   "execution_count": null,
   "id": "8198701fb8869775",
   "metadata": {
    "ExecuteTime": {
     "end_time": "2025-10-09T08:41:17.601145Z",
     "start_time": "2025-10-09T08:41:17.585816Z"
    }
   },
   "outputs": [
    {
     "name": "stdout",
     "output_type": "stream",
     "text": [
      "✅ Pressure-only plotter class ready\n"
     ]
    }
   ],
   "source": [
    "import matplotlib.pyplot as plt\n",
    "from matplotlib.animation import FuncAnimation\n",
    "import numpy as np\n",
    "from collections import deque\n",
    "import threading\n",
    "from matplotlib.figure import Figure\n",
    "\n",
    "class PressureOnlyPlotter:\n",
    "    \"\"\"Live plotting class for all 6 pressure sensors - matplotlib animations are thread-safe\"\"\"\n",
    "\n",
    "    def __init__(self, update_interval=1000):\n",
    "        self.update_interval = update_interval\n",
    "        self.ani = None\n",
    "        self.running = False\n",
    "\n",
    "        # Data storage (keep last 100 points)\n",
    "        self.timestamps = deque(maxlen=100)\n",
    "        self.pressure_sensor1 = deque(maxlen=100)  # IF1\n",
    "        self.pressure_sensor2 = deque(maxlen=100)  # IF2\n",
    "        self.pressure_sensor3 = deque(maxlen=100)  # Q1\n",
    "        self.pressure_sensor4 = deque(maxlen=100)  # QMS\n",
    "        self.pressure_sensor5 = deque(maxlen=100)  # HCD Cell\n",
    "        self.pressure_sensor6 = deque(maxlen=100)  # Transfer Chamber\n",
    "\n",
    "        # Create figure in main thread\n",
    "        self.fig, (self.ax1, self.ax2, self.ax3, self.ax4, self.ax5, self.ax6) = plt.subplots(\n",
    "            6, 1, figsize=(10, 14), sharex=True\n",
    "        )\n",
    "        self.fig.suptitle('Pressure Monitoring - All 6 Sensors', fontsize=14)\n",
    "\n",
    "        # Lock for thread-safe data access\n",
    "        self.data_lock = threading.Lock()\n",
    "\n",
    "    def update_plot(self, frame):\n",
    "        \"\"\"Update plot - called by FuncAnimation (thread-safe)\"\"\"\n",
    "        try:\n",
    "            current_time = datetime.now()\n",
    "\n",
    "            # Collect pressure data with lock\n",
    "            with self.data_lock:\n",
    "                self.timestamps.append(current_time)\n",
    "\n",
    "                # Collect pressure data\n",
    "                try:\n",
    "                    self.pressure_sensor1.append(tpg366.read_pressure_value(1))\n",
    "                except:\n",
    "                    self.pressure_sensor1.append(None)\n",
    "\n",
    "                try:\n",
    "                    self.pressure_sensor2.append(tpg366.read_pressure_value(2))\n",
    "                except:\n",
    "                    self.pressure_sensor2.append(None)\n",
    "\n",
    "                try:\n",
    "                    self.pressure_sensor3.append(tpg366.read_pressure_value(3))\n",
    "                except:\n",
    "                    self.pressure_sensor3.append(None)\n",
    "\n",
    "                try:\n",
    "                    self.pressure_sensor4.append(tpg366.read_pressure_value(4))\n",
    "                except:\n",
    "                    self.pressure_sensor4.append(None)\n",
    "\n",
    "                try:\n",
    "                    self.pressure_sensor5.append(tpg366.read_pressure_value(5))\n",
    "                except:\n",
    "                    self.pressure_sensor5.append(None)\n",
    "\n",
    "                try:\n",
    "                    self.pressure_sensor6.append(tpg366.read_pressure_value(6))\n",
    "                except:\n",
    "                    self.pressure_sensor6.append(None)\n",
    "\n",
    "                times = list(self.timestamps)\n",
    "\n",
    "        except Exception as e:\n",
    "            logger.warning(f\"Data collection error: {e}\")\n",
    "            return\n",
    "\n",
    "        # Clear all axes\n",
    "        self.ax1.clear()\n",
    "        self.ax2.clear()\n",
    "        self.ax3.clear()\n",
    "        self.ax4.clear()\n",
    "        self.ax5.clear()\n",
    "        self.ax6.clear()\n",
    "\n",
    "        if not times:\n",
    "            return\n",
    "\n",
    "        try:\n",
    "            # Plot each sensor\n",
    "            with self.data_lock:\n",
    "                p1_data = list(self.pressure_sensor1)\n",
    "                valid_p1 = [(t, p) for t, p in zip(times, p1_data) if p is not None]\n",
    "                if valid_p1:\n",
    "                    t1, p1 = zip(*valid_p1)\n",
    "                    self.ax1.plot(t1, p1, 'b-', marker='o')\n",
    "                    self.ax1.set_yscale('log')\n",
    "                    self.ax1.set_ylabel('IF1 [mbar]')\n",
    "                    self.ax1.grid(True)\n",
    "\n",
    "                p2_data = list(self.pressure_sensor2)\n",
    "                valid_p2 = [(t, p) for t, p in zip(times, p2_data) if p is not None]\n",
    "                if valid_p2:\n",
    "                    t2, p2 = zip(*valid_p2)\n",
    "                    self.ax2.plot(t2, p2, 'r-', marker='s')\n",
    "                    self.ax2.set_yscale('log')\n",
    "                    self.ax2.set_ylabel('IF2 [mbar]')\n",
    "                    self.ax2.grid(True)\n",
    "\n",
    "                p3_data = list(self.pressure_sensor3)\n",
    "                valid_p3 = [(t, p) for t, p in zip(times, p3_data) if p is not None]\n",
    "                if valid_p3:\n",
    "                    t3, p3 = zip(*valid_p3)\n",
    "                    self.ax3.plot(t3, p3, 'g-', marker='^')\n",
    "                    self.ax3.set_yscale('log')\n",
    "                    self.ax3.set_ylabel('Q1 [mbar]')\n",
    "                    self.ax3.grid(True)\n",
    "\n",
    "                p4_data = list(self.pressure_sensor4)\n",
    "                valid_p4 = [(t, p) for t, p in zip(times, p4_data) if p is not None]\n",
    "                if valid_p4:\n",
    "                    t4, p4 = zip(*valid_p4)\n",
    "                    self.ax4.plot(t4, p4, 'm-', marker='d')\n",
    "                    self.ax4.set_yscale('log')\n",
    "                    self.ax4.set_ylabel('QMS [mbar]')\n",
    "                    self.ax4.grid(True)\n",
    "\n",
    "                p5_data = list(self.pressure_sensor5)\n",
    "                valid_p5 = [(t, p) for t, p in zip(times, p5_data) if p is not None]\n",
    "                if valid_p5:\n",
    "                    t5, p5 = zip(*valid_p5)\n",
    "                    self.ax5.plot(t5, p5, 'c-', marker='v')\n",
    "                    self.ax5.set_yscale('log')\n",
    "                    self.ax5.set_ylabel('HCD Cell [mbar]')\n",
    "                    self.ax5.grid(True)\n",
    "\n",
    "                p6_data = list(self.pressure_sensor6)\n",
    "                valid_p6 = [(t, p) for t, p in zip(times, p6_data) if p is not None]\n",
    "                if valid_p6:\n",
    "                    t6, p6 = zip(*valid_p6)\n",
    "                    self.ax6.plot(t6, p6, 'orange', marker='p')\n",
    "                    self.ax6.set_yscale('log')\n",
    "                    self.ax6.set_ylabel('Transfer Chamber [mbar]')\n",
    "                    self.ax6.set_xlabel('Time')\n",
    "                    self.ax6.grid(True)\n",
    "\n",
    "        except Exception as e:\n",
    "            logger.error(f\"Plotting error: {e}\")\n",
    "\n",
    "        # Format x-axis\n",
    "        for ax in [self.ax1, self.ax2, self.ax3, self.ax4, self.ax5, self.ax6]:\n",
    "            ax.tick_params(axis='x', rotation=45)\n",
    "\n",
    "        # Hide x-tick labels for all except bottom\n",
    "        for ax in [self.ax1, self.ax2, self.ax3, self.ax4, self.ax5]:\n",
    "            plt.setp(ax.get_xticklabels(), visible=False)\n",
    "\n",
    "        self.fig.tight_layout()\n",
    "\n",
    "    def start_live_plot(self):\n",
    "        \"\"\"Start live plotting - FuncAnimation handles threading internally\"\"\"\n",
    "        if self.running:\n",
    "            print(\"Pressure plotter already running!\")\n",
    "            return\n",
    "\n",
    "        self.running = True\n",
    "        self.ani = FuncAnimation(\n",
    "            self.fig,\n",
    "            self.update_plot,\n",
    "            interval=self.update_interval,\n",
    "            blit=False,\n",
    "            cache_frame_data=False\n",
    "        )\n",
    "        plt.show(block=False)  # Non-blocking show\n",
    "        print(\"✅ Pressure-only live plotting started\")\n",
    "\n",
    "    def stop_live_plot(self):\n",
    "        \"\"\"Stop live plotting\"\"\"\n",
    "        if self.ani:\n",
    "            self.ani.event_source.stop()\n",
    "        plt.close(self.fig)\n",
    "        self.running = False\n",
    "        print(\"🛑 Pressure-only live plotting stopped.\")\n",
    "\n",
    "print(\"✅ Pressure-only plotter class ready\")"
   ]
  },
  {
   "cell_type": "code",
   "execution_count": 16,
   "id": "74bae052affabfd",
   "metadata": {
    "ExecuteTime": {
     "end_time": "2025-10-09T08:41:18.389485Z",
     "start_time": "2025-10-09T08:41:18.315668Z"
    }
   },
   "outputs": [
    {
     "name": "stdout",
     "output_type": "stream",
     "text": [
      "✅ HiPace plotter class ready\n"
     ]
    }
   ],
   "source": [
    "class HiPacePlotter:\n",
    "    \"\"\"Live plotting class for 3 HiPace pumps (Power, RPM, Temperature)\"\"\"\n",
    "\n",
    "    def __init__(self, update_interval=1000):\n",
    "        self.update_interval = update_interval\n",
    "        self.ani = None\n",
    "        self.running = False\n",
    "\n",
    "        # Data storage (keep last 100 points)\n",
    "        self.timestamps = deque(maxlen=100)\n",
    "\n",
    "        # HiPace Transfer data\n",
    "        self.hipace_t_power = deque(maxlen=100)\n",
    "        self.hipace_t_rpm = deque(maxlen=100)\n",
    "        self.hipace_t_temp = deque(maxlen=100)\n",
    "\n",
    "        # HiPace Depo data\n",
    "        self.hipace_d_power = deque(maxlen=100)\n",
    "        self.hipace_d_rpm = deque(maxlen=100)\n",
    "        self.hipace_d_temp = deque(maxlen=100)\n",
    "\n",
    "        # HiPace450 data\n",
    "        self.hipace450_power = deque(maxlen=100)\n",
    "        self.hipace450_rpm = deque(maxlen=100)\n",
    "        self.hipace450_temp = deque(maxlen=100)\n",
    "\n",
    "        # Create figure in main thread\n",
    "        self.fig, (self.ax1, self.ax2, self.ax3) = plt.subplots(\n",
    "            3, 1, figsize=(10, 10), sharex=True\n",
    "        )\n",
    "        self.fig.suptitle('HiPace Pumps Monitoring (Transfer, Depo, 450)', fontsize=14)\n",
    "\n",
    "        # Lock for thread-safe data access\n",
    "        self.data_lock = threading.Lock()\n",
    "\n",
    "    def update_plot(self, frame):\n",
    "        \"\"\"Update plot - called by FuncAnimation\"\"\"\n",
    "        try:\n",
    "            current_time = datetime.now()\n",
    "\n",
    "            with self.data_lock:\n",
    "                self.timestamps.append(current_time)\n",
    "\n",
    "                # Collect HiPace Transfer data\n",
    "                try:\n",
    "                    self.hipace_t_power.append(hipace_transfer.get_drive_power())\n",
    "                except:\n",
    "                    self.hipace_t_power.append(None)\n",
    "\n",
    "                try:\n",
    "                    self.hipace_t_rpm.append(hipace_transfer.get_actual_speed_rpm())\n",
    "                except:\n",
    "                    self.hipace_t_rpm.append(None)\n",
    "\n",
    "                try:\n",
    "                    self.hipace_t_temp.append(hipace_transfer.get_motor_temperature())\n",
    "                except:\n",
    "                    self.hipace_t_temp.append(None)\n",
    "\n",
    "                # Collect HiPace Depo data\n",
    "                try:\n",
    "                    self.hipace_d_power.append(hipace_depo.get_drive_power())\n",
    "                except:\n",
    "                    self.hipace_d_power.append(None)\n",
    "\n",
    "                try:\n",
    "                    self.hipace_d_rpm.append(hipace_depo.get_actual_speed_rpm())\n",
    "                except:\n",
    "                    self.hipace_d_rpm.append(None)\n",
    "\n",
    "                try:\n",
    "                    self.hipace_d_temp.append(hipace_depo.get_motor_temperature())\n",
    "                except:\n",
    "                    self.hipace_d_temp.append(None)\n",
    "\n",
    "                # Collect HiPace450 data\n",
    "                try:\n",
    "                    self.hipace450_power.append(hipace450.get_drive_power())\n",
    "                except:\n",
    "                    self.hipace450_power.append(None)\n",
    "\n",
    "                try:\n",
    "                    self.hipace450_rpm.append(hipace450.get_actual_speed_rpm())\n",
    "                except:\n",
    "                    self.hipace450_rpm.append(None)\n",
    "\n",
    "                try:\n",
    "                    self.hipace450_temp.append(hipace450.get_motor_temperature())\n",
    "                except:\n",
    "                    self.hipace450_temp.append(None)\n",
    "\n",
    "                times = list(self.timestamps)\n",
    "\n",
    "        except Exception as e:\n",
    "            logger.warning(f\"Data collection error: {e}\")\n",
    "            return\n",
    "\n",
    "        # Clear all axes\n",
    "        self.ax1.clear()\n",
    "        self.ax2.clear()\n",
    "        self.ax3.clear()\n",
    "\n",
    "        if not times:\n",
    "            return\n",
    "\n",
    "        try:\n",
    "            with self.data_lock:\n",
    "                # Plot 1: Power\n",
    "                power_t = list(self.hipace_t_power)\n",
    "                power_d = list(self.hipace_d_power)\n",
    "                power_450 = list(self.hipace450_power)\n",
    "\n",
    "                valid_t_power = [(t, p) for t, p in zip(times, power_t) if p is not None]\n",
    "                valid_d_power = [(t, p) for t, p in zip(times, power_d) if p is not None]\n",
    "                valid_450_power = [(t, p) for t, p in zip(times, power_450) if p is not None]\n",
    "\n",
    "                if valid_t_power:\n",
    "                    t_t, p_t = zip(*valid_t_power)\n",
    "                    self.ax1.plot(t_t, p_t, 'g-', marker='^', label='Transfer')\n",
    "\n",
    "                if valid_d_power:\n",
    "                    t_d, p_d = zip(*valid_d_power)\n",
    "                    self.ax1.plot(t_d, p_d, 'm-', marker='d', label='Depo')\n",
    "\n",
    "                if valid_450_power:\n",
    "                    t_450, p_450 = zip(*valid_450_power)\n",
    "                    self.ax1.plot(t_450, p_450, 'orange', marker='s', label='HiPace450')\n",
    "\n",
    "                self.ax1.set_ylabel('Power [W]')\n",
    "                self.ax1.set_title('Drive Power')\n",
    "                self.ax1.legend(loc='upper right')\n",
    "                self.ax1.grid(True)\n",
    "\n",
    "                # Plot 2: RPM\n",
    "                rpm_t = list(self.hipace_t_rpm)\n",
    "                rpm_d = list(self.hipace_d_rpm)\n",
    "                rpm_450 = list(self.hipace450_rpm)\n",
    "\n",
    "                valid_t_rpm = [(t, r) for t, r in zip(times, rpm_t) if r is not None]\n",
    "                valid_d_rpm = [(t, r) for t, r in zip(times, rpm_d) if r is not None]\n",
    "                valid_450_rpm = [(t, r) for t, r in zip(times, rpm_450) if r is not None]\n",
    "\n",
    "                if valid_t_rpm:\n",
    "                    t_t, r_t = zip(*valid_t_rpm)\n",
    "                    self.ax2.plot(t_t, r_t, 'g-', marker='^', label='Transfer')\n",
    "\n",
    "                if valid_d_rpm:\n",
    "                    t_d, r_d = zip(*valid_d_rpm)\n",
    "                    self.ax2.plot(t_d, r_d, 'm-', marker='d', label='Depo')\n",
    "\n",
    "                if valid_450_rpm:\n",
    "                    t_450, r_450 = zip(*valid_450_rpm)\n",
    "                    self.ax2.plot(t_450, r_450, 'orange', marker='s', label='HiPace450')\n",
    "\n",
    "                self.ax2.set_ylabel('RPM')\n",
    "                self.ax2.set_title('Rotation Speed')\n",
    "                self.ax2.legend(loc='upper right')\n",
    "                self.ax2.grid(True)\n",
    "\n",
    "                # Plot 3: Temperature\n",
    "                temp_t = list(self.hipace_t_temp)\n",
    "                temp_d = list(self.hipace_d_temp)\n",
    "                temp_450 = list(self.hipace450_temp)\n",
    "\n",
    "                valid_t_temp = [(t, temp) for t, temp in zip(times, temp_t) if temp is not None]\n",
    "                valid_d_temp = [(t, temp) for t, temp in zip(times, temp_d) if temp is not None]\n",
    "                valid_450_temp = [(t, temp) for t, temp in zip(times, temp_450) if temp is not None]\n",
    "\n",
    "                if valid_t_temp:\n",
    "                    t_t, temp_t_val = zip(*valid_t_temp)\n",
    "                    self.ax3.plot(t_t, temp_t_val, 'g-', marker='^', label='Transfer')\n",
    "\n",
    "                if valid_d_temp:\n",
    "                    t_d, temp_d_val = zip(*valid_d_temp)\n",
    "                    self.ax3.plot(t_d, temp_d_val, 'm-', marker='d', label='Depo')\n",
    "\n",
    "                if valid_450_temp:\n",
    "                    t_450, temp_450_val = zip(*valid_450_temp)\n",
    "                    self.ax3.plot(t_450, temp_450_val, 'orange', marker='s', label='HiPace450')\n",
    "\n",
    "                self.ax3.set_ylabel('Temperature [°C]')\n",
    "                self.ax3.set_xlabel('Time')\n",
    "                self.ax3.set_title('Motor Temperature')\n",
    "                self.ax3.legend(loc='upper right')\n",
    "                self.ax3.grid(True)\n",
    "\n",
    "        except Exception as e:\n",
    "            logger.error(f\"Plotting error: {e}\")\n",
    "\n",
    "        # Format x-axis\n",
    "        for ax in [self.ax1, self.ax2, self.ax3]:\n",
    "            ax.tick_params(axis='x', rotation=45)\n",
    "\n",
    "        # Hide x-tick labels for all except bottom\n",
    "        for ax in [self.ax1, self.ax2]:\n",
    "            plt.setp(ax.get_xticklabels(), visible=False)\n",
    "\n",
    "        self.fig.tight_layout()\n",
    "\n",
    "    def start_live_plot(self):\n",
    "        \"\"\"Start live plotting\"\"\"\n",
    "        if self.running:\n",
    "            print(\"HiPace plotter already running!\")\n",
    "            return\n",
    "\n",
    "        self.running = True\n",
    "        self.ani = FuncAnimation(\n",
    "            self.fig,\n",
    "            self.update_plot,\n",
    "            interval=self.update_interval,\n",
    "            blit=False,\n",
    "            cache_frame_data=False\n",
    "        )\n",
    "        plt.show(block=False)\n",
    "        print(\"✅ HiPace pumps live plotting started\")\n",
    "\n",
    "    def stop_live_plot(self):\n",
    "        \"\"\"Stop live plotting\"\"\"\n",
    "        if self.ani:\n",
    "            self.ani.event_source.stop()\n",
    "        plt.close(self.fig)\n",
    "        self.running = False\n",
    "        print(\"🛑 HiPace pumps live plotting stopped.\")\n",
    "\n",
    "print(\"✅ HiPace plotter class ready\")"
   ]
  },
  {
   "cell_type": "code",
   "execution_count": 17,
   "id": "b16ebd06058d5094",
   "metadata": {
    "ExecuteTime": {
     "end_time": "2025-10-09T08:41:19.121088Z",
     "start_time": "2025-10-09T08:41:19.109125Z"
    }
   },
   "outputs": [
    {
     "name": "stdout",
     "output_type": "stream",
     "text": [
      "✅ HiScroll plotter class ready\n"
     ]
    }
   ],
   "source": [
    "class HiScrollPlotter:\n",
    "    \"\"\"Live plotting class for 2 HiScroll pumps (Temperature and Power with dual y-axes)\"\"\"\n",
    "\n",
    "    def __init__(self, update_interval=1000):\n",
    "        self.update_interval = update_interval\n",
    "        self.ani = None\n",
    "        self.running = False\n",
    "\n",
    "        # Data storage (keep last 100 points)\n",
    "        self.timestamps = deque(maxlen=100)\n",
    "\n",
    "        # HiScroll1 data\n",
    "        self.hiscroll1_temp = deque(maxlen=100)\n",
    "        self.hiscroll1_power = deque(maxlen=100)\n",
    "\n",
    "        # HiScroll2 data\n",
    "        self.hiscroll2_temp = deque(maxlen=100)\n",
    "        self.hiscroll2_power = deque(maxlen=100)\n",
    "\n",
    "        # Create figure in main thread\n",
    "        self.fig, (self.ax1, self.ax2) = plt.subplots(\n",
    "            2, 1, figsize=(10, 8), sharex=True\n",
    "        )\n",
    "        self.fig.suptitle('HiScroll Pumps Monitoring (Temperature & Power)', fontsize=14)\n",
    "\n",
    "        # Lock for thread-safe data access\n",
    "        self.data_lock = threading.Lock()\n",
    "\n",
    "    def update_plot(self, frame):\n",
    "        \"\"\"Update plot - called by FuncAnimation\"\"\"\n",
    "        try:\n",
    "            current_time = datetime.now()\n",
    "\n",
    "            with self.data_lock:\n",
    "                self.timestamps.append(current_time)\n",
    "\n",
    "                # Collect HiScroll1 data\n",
    "                try:\n",
    "                    self.hiscroll1_temp.append(hiscroll1.get_temp_motor())\n",
    "                except:\n",
    "                    self.hiscroll1_temp.append(None)\n",
    "\n",
    "                try:\n",
    "                    self.hiscroll1_power.append(hiscroll1.get_drive_power())\n",
    "                except:\n",
    "                    self.hiscroll1_power.append(None)\n",
    "\n",
    "                # Collect HiScroll2 data\n",
    "                try:\n",
    "                    self.hiscroll2_temp.append(hiscroll2.get_temp_motor())\n",
    "                except:\n",
    "                    self.hiscroll2_temp.append(None)\n",
    "\n",
    "                try:\n",
    "                    self.hiscroll2_power.append(hiscroll2.get_drive_power())\n",
    "                except:\n",
    "                    self.hiscroll2_power.append(None)\n",
    "\n",
    "                times = list(self.timestamps)\n",
    "\n",
    "        except Exception as e:\n",
    "            logger.warning(f\"Data collection error: {e}\")\n",
    "            return\n",
    "\n",
    "        # Clear all axes\n",
    "        self.ax1.clear()\n",
    "        self.ax2.clear()\n",
    "\n",
    "        if not times:\n",
    "            return\n",
    "\n",
    "        try:\n",
    "            with self.data_lock:\n",
    "                # Plot 1: HiScroll1 with dual y-axes\n",
    "                temp1 = list(self.hiscroll1_temp)\n",
    "                power1 = list(self.hiscroll1_power)\n",
    "\n",
    "                valid_temp1 = [(t, temp) for t, temp in zip(times, temp1) if temp is not None]\n",
    "                valid_power1 = [(t, p) for t, p in zip(times, power1) if p is not None]\n",
    "\n",
    "                # Left y-axis: Temperature\n",
    "                if valid_temp1:\n",
    "                    t_temp1, temp1_val = zip(*valid_temp1)\n",
    "                    self.ax1.plot(t_temp1, temp1_val, 'b-', marker='o', label='Temperature')\n",
    "\n",
    "                self.ax1.set_ylabel('Temperature [°C]', color='b')\n",
    "                self.ax1.tick_params(axis='y', labelcolor='b')\n",
    "                self.ax1.set_title('HiScroll1')\n",
    "                self.ax1.grid(True, alpha=0.3)\n",
    "\n",
    "                # Right y-axis: Power\n",
    "                ax1_twin = self.ax1.twinx()\n",
    "                if valid_power1:\n",
    "                    t_power1, power1_val = zip(*valid_power1)\n",
    "                    ax1_twin.plot(t_power1, power1_val, 'r--', marker='s', label='Power', alpha=0.7)\n",
    "\n",
    "                ax1_twin.set_ylabel('Power [W]', color='r')\n",
    "                ax1_twin.tick_params(axis='y', labelcolor='r')\n",
    "\n",
    "                # Combine legends\n",
    "                lines1, labels1 = self.ax1.get_legend_handles_labels()\n",
    "                lines2, labels2 = ax1_twin.get_legend_handles_labels()\n",
    "                self.ax1.legend(lines1 + lines2, labels1 + labels2, loc='upper left')\n",
    "\n",
    "                # Plot 2: HiScroll2 with dual y-axes\n",
    "                temp2 = list(self.hiscroll2_temp)\n",
    "                power2 = list(self.hiscroll2_power)\n",
    "\n",
    "                valid_temp2 = [(t, temp) for t, temp in zip(times, temp2) if temp is not None]\n",
    "                valid_power2 = [(t, p) for t, p in zip(times, power2) if p is not None]\n",
    "\n",
    "                # Left y-axis: Temperature\n",
    "                if valid_temp2:\n",
    "                    t_temp2, temp2_val = zip(*valid_temp2)\n",
    "                    self.ax2.plot(t_temp2, temp2_val, 'b-', marker='o', label='Temperature')\n",
    "\n",
    "                self.ax2.set_ylabel('Temperature [°C]', color='b')\n",
    "                self.ax2.tick_params(axis='y', labelcolor='b')\n",
    "                self.ax2.set_xlabel('Time')\n",
    "                self.ax2.set_title('HiScroll2')\n",
    "                self.ax2.grid(True, alpha=0.3)\n",
    "\n",
    "                # Right y-axis: Power\n",
    "                ax2_twin = self.ax2.twinx()\n",
    "                if valid_power2:\n",
    "                    t_power2, power2_val = zip(*valid_power2)\n",
    "                    ax2_twin.plot(t_power2, power2_val, 'r--', marker='s', label='Power', alpha=0.7)\n",
    "\n",
    "                ax2_twin.set_ylabel('Power [W]', color='r')\n",
    "                ax2_twin.tick_params(axis='y', labelcolor='r')\n",
    "\n",
    "                # Combine legends\n",
    "                lines1, labels1 = self.ax2.get_legend_handles_labels()\n",
    "                lines2, labels2 = ax2_twin.get_legend_handles_labels()\n",
    "                self.ax2.legend(lines1 + lines2, labels1 + labels2, loc='upper left')\n",
    "\n",
    "        except Exception as e:\n",
    "            logger.error(f\"Plotting error: {e}\")\n",
    "\n",
    "        # Format x-axis\n",
    "        for ax in [self.ax1, self.ax2]:\n",
    "            ax.tick_params(axis='x', rotation=45)\n",
    "\n",
    "        # Hide x-tick labels for top plot\n",
    "        plt.setp(self.ax1.get_xticklabels(), visible=False)\n",
    "\n",
    "        self.fig.tight_layout()\n",
    "\n",
    "    def start_live_plot(self):\n",
    "        \"\"\"Start live plotting\"\"\"\n",
    "        if self.running:\n",
    "            print(\"HiScroll plotter already running!\")\n",
    "            return\n",
    "\n",
    "        self.running = True\n",
    "        self.ani = FuncAnimation(\n",
    "            self.fig,\n",
    "            self.update_plot,\n",
    "            interval=self.update_interval,\n",
    "            blit=False,\n",
    "            cache_frame_data=False\n",
    "        )\n",
    "        plt.show(block=False)\n",
    "        print(\"✅ HiScroll pumps live plotting started\")\n",
    "\n",
    "    def stop_live_plot(self):\n",
    "        \"\"\"Stop live plotting\"\"\"\n",
    "        if self.ani:\n",
    "            self.ani.event_source.stop()\n",
    "        plt.close(self.fig)\n",
    "        self.running = False\n",
    "        print(\"🛑 HiScroll pumps live plotting stopped.\")\n",
    "\n",
    "print(\"✅ HiScroll plotter class ready\")"
   ]
  },
  {
   "cell_type": "code",
   "execution_count": 18,
   "id": "9c88fd7c82a3276a",
   "metadata": {
    "ExecuteTime": {
     "end_time": "2025-10-09T08:41:20.794635Z",
     "start_time": "2025-10-09T08:41:20.783393Z"
    }
   },
   "outputs": [],
   "source": [
    "# Set matplotlib backend to Qt for separate windows\n",
    "%matplotlib notebook"
   ]
  },
  {
   "cell_type": "markdown",
   "id": "9cf7a5d059e58042",
   "metadata": {},
   "source": [
    "### Start Individual Plot Windows\n",
    "\n",
    "Run each cell below to open a separate plot window. All windows will update simultaneously and the kernel remains free for executing other cells."
   ]
  },
  {
   "cell_type": "code",
   "execution_count": null,
   "id": "783feac4c4f84549",
   "metadata": {},
   "outputs": [],
   "source": [
    "# Start Window 1: All Pressures (5 sensors)\n",
    "pressure_plotter = PressureOnlyPlotter(update_interval=1000)\n",
    "pressure_plotter.start_live_plot()"
   ]
  },
  {
   "cell_type": "code",
   "execution_count": null,
   "id": "c0ee347a",
   "metadata": {},
   "outputs": [],
   "source": [
    "# Start Window 2: HiPace Pumps (Power, RPM, Temperature)\n",
    "hipace_plotter = HiPacePlotter(update_interval=1000)\n",
    "hipace_plotter.start_live_plot()"
   ]
  },
  {
   "cell_type": "code",
   "execution_count": null,
   "id": "27a06daa",
   "metadata": {},
   "outputs": [],
   "source": [
    "# Start Window 3: HiScroll Pumps (Temperature & Power with dual y-axes)\n",
    "hiscroll_plotter = HiScrollPlotter(update_interval=1000)\n",
    "hiscroll_plotter.start_live_plot()"
   ]
  },
  {
   "cell_type": "markdown",
   "id": "6d507b55",
   "metadata": {},
   "source": [
    "### Stop Individual Plot Windows\n",
    "\n",
    "Run the cells below to stop specific plot windows."
   ]
  },
  {
   "cell_type": "code",
   "execution_count": null,
   "id": "7f00d4f5",
   "metadata": {},
   "outputs": [],
   "source": [
    "# Stop pressure plotter\n",
    "pressure_plotter.stop_live_plot()"
   ]
  },
  {
   "cell_type": "code",
   "execution_count": 24,
   "id": "e81b6462",
   "metadata": {
    "ExecuteTime": {
     "end_time": "2025-10-09T09:22:17.831785Z",
     "start_time": "2025-10-09T08:40:28.158050Z"
    }
   },
   "outputs": [
    {
     "name": "stdout",
     "output_type": "stream",
     "text": [
      "🛑 HiPace pumps live plotting stopped.\n"
     ]
    }
   ],
   "source": [
    "# Stop HiPace plotter\n",
    "hipace_plotter.stop_live_plot()"
   ]
  },
  {
   "cell_type": "code",
   "execution_count": 25,
   "id": "e98c6d15",
   "metadata": {
    "ExecuteTime": {
     "end_time": "2025-10-09T09:22:17.832783700Z",
     "start_time": "2025-10-09T08:40:29.196910Z"
    }
   },
   "outputs": [
    {
     "name": "stdout",
     "output_type": "stream",
     "text": [
      "🛑 HiScroll pumps live plotting stopped.\n"
     ]
    }
   ],
   "source": [
    "# Stop HiScroll plotter\n",
    "hiscroll_plotter.stop_live_plot()"
   ]
  },
  {
   "cell_type": "markdown",
   "id": "5246387c",
   "metadata": {},
   "source": [
    "## 8. Data Logging and Export\n",
    "\n",
    "Export collected data for further analysis."
   ]
  },
  {
   "cell_type": "code",
   "id": "9bdaafb6",
   "metadata": {
    "ExecuteTime": {
     "end_time": "2025-10-09T13:28:40.593098Z",
     "start_time": "2025-10-09T13:28:40.586562Z"
    }
   },
   "source": [
    "def export_pressure_chain_data(plotter, filename=None):\n",
    "    \"\"\"Export collected data to CSV file\"\"\"\n",
    "    \n",
    "    if filename is None:\n",
    "        timestamp = datetime.now().strftime('%Y%m%d_%H%M%S')\n",
    "        filename = f\"esibd_pressure_chain_{timestamp}.csv\"\n",
    "    \n",
    "    # Create DataFrame from collected data\n",
    "    data = {\n",
    "        'timestamp': list(plotter.timestamps),\n",
    "        'pressure_sensor1_IF1': list(plotter.pressure_sensor1),\n",
    "        'pressure_sensor2_IF2': list(plotter.pressure_sensor2),\n",
    "        'pressure_sensor3_Q1': list(plotter.pressure_sensor3),\n",
    "        'pressure_sensor4_QMS': list(plotter.pressure_sensor4),\n",
    "        'pressure_sensor5_HCD_Cell': list(plotter.pressure_sensor5),\n",
    "        'pressure_sensor6_Transfer_Chamber': list(plotter.pressure_sensor6),\n",
    "        'hiscroll1_temp': list(plotter.hiscroll1_temp),\n",
    "        'hiscroll2_temp': list(plotter.hiscroll2_temp),\n",
    "        'hipace_transfer_temp': list(plotter.hipace_transfer_temp),\n",
    "        'hipace_depo_temp': list(plotter.hipace_depo_temp),\n",
    "        'hipace450_temp': list(plotter.hipace450_temp),\n",
    "        'chiller_current_temp': list(plotter.chiller_current_temp),\n",
    "        'chiller_set_temp': list(plotter.chiller_set_temp)\n",
    "    }\n",
    "    \n",
    "    df = pd.DataFrame(data)\n",
    "    df.to_csv(filename, index=False)\n",
    "    logger.info(f\"Data exported to {filename}\")\n",
    "    print(f\"✅ Data exported to {filename}\")\n",
    "    print(f\"   Total data points: {len(df)}\")\n",
    "    return df\n",
    "\n",
    "print(\"✅ Data export function ready\")"
   ],
   "outputs": [
    {
     "name": "stdout",
     "output_type": "stream",
     "text": [
      "✅ Data export function ready\n"
     ]
    }
   ],
   "execution_count": 22
  },
  {
   "cell_type": "code",
   "id": "512ca1f3",
   "metadata": {
    "ExecuteTime": {
     "end_time": "2025-10-09T13:28:43.396190Z",
     "start_time": "2025-10-09T13:28:43.374948Z"
    }
   },
   "source": [
    "# Export collected data\n",
    "df = export_pressure_chain_data(plotter)"
   ],
   "outputs": [
    {
     "name": "stderr",
     "output_type": "stream",
     "text": [
      "2025-10-09 15:28:43 | INFO | Data exported to esibd_pressure_chain_20251009_152843.csv\n"
     ]
    },
    {
     "name": "stdout",
     "output_type": "stream",
     "text": [
      "✅ Data exported to esibd_pressure_chain_20251009_152843.csv\n",
      "   Total data points: 100\n"
     ]
    }
   ],
   "execution_count": 23
  },
  {
   "cell_type": "markdown",
   "id": "8945b101",
   "metadata": {},
   "source": [
    "## 9. Stop Housekeeping and Disconnect Devices"
   ]
  },
  {
   "cell_type": "code",
   "id": "18fac473",
   "metadata": {
    "ExecuteTime": {
     "end_time": "2025-10-09T13:28:51.924750Z",
     "start_time": "2025-10-09T13:28:51.682388Z"
    }
   },
   "source": [
    "# Stop housekeeping for all devices\n",
    "#hiscroll1.stop_housekeeping()\n",
    "hiscroll2.stop_housekeeping()\n",
    "hipace_transfer.stop_housekeeping()\n",
    "hipace_depo.stop_housekeeping()\n",
    "chiller.stop_housekeeping()\n",
    "\n",
    "print(\"✅ Housekeeping stopped for all devices\")"
   ],
   "outputs": [
    {
     "name": "stderr",
     "output_type": "stream",
     "text": [
      "2025-10-09 15:28:51 | INFO | Housekeeping stopped (internal mode)\n",
      "2025-10-09 15:28:51 | INFO | Housekeeping stopped (internal mode)\n",
      "2025-10-09 15:28:51 | INFO | Housekeeping stopped (internal mode)\n",
      "2025-10-09 15:28:51 | INFO | Housekeeping stopped (internal mode)\n"
     ]
    },
    {
     "name": "stdout",
     "output_type": "stream",
     "text": [
      "✅ Housekeeping stopped for all devices\n"
     ]
    }
   ],
   "execution_count": 24
  },
  {
   "cell_type": "code",
   "id": "83c859e4",
   "metadata": {
    "ExecuteTime": {
     "end_time": "2025-10-09T13:28:53.138910Z",
     "start_time": "2025-10-09T13:28:52.630127Z"
    }
   },
   "source": [
    "# Disconnect all devices\n",
    "print(\"Disconnecting all devices...\")\n",
    "\n",
    "#try:\n",
    "#    hiscroll1.disconnect()\n",
    "#    print(\"  ✅ HiScroll1 disconnected\")\n",
    "#except Exception as e:\n",
    "#    print(f\"  ⚠️ HiScroll1 disconnect error: {e}\")\n",
    "\n",
    "try:\n",
    "    hiscroll2.disconnect()\n",
    "    print(\"  ✅ HiScroll2 disconnected\")\n",
    "except Exception as e:\n",
    "    print(f\"  ⚠️ HiScroll2 disconnect error: {e}\")\n",
    "\n",
    "try:\n",
    "    hipace_transfer.disconnect()\n",
    "    print(\"  ✅ HiPace300 Transfer disconnected\")\n",
    "except Exception as e:\n",
    "    print(f\"  ⚠️ HiPace300 Transfer disconnect error: {e}\")\n",
    "\n",
    "try:\n",
    "    hipace_depo.disconnect()\n",
    "    print(\"  ✅ HiPace300 Depo disconnected\")\n",
    "except Exception as e:\n",
    "    print(f\"  ⚠️ HiPace300 Depo disconnect error: {e}\")\n",
    "\n",
    "try:\n",
    "    tpg366.disconnect()\n",
    "    print(\"  ✅ TPG366 disconnected\")\n",
    "except Exception as e:\n",
    "    print(f\"  ⚠️ TPG366 disconnect error: {e}\")\n",
    "\n",
    "try:\n",
    "    chiller.disconnect()\n",
    "    print(\"  ✅ Chiller disconnected\")\n",
    "except Exception as e:\n",
    "    print(f\"  ⚠️ Chiller disconnect error: {e}\")\n",
    "\n",
    "print(\"\\n✅ All devices disconnected\")"
   ],
   "outputs": [
    {
     "name": "stderr",
     "output_type": "stream",
     "text": [
      "2025-10-09 15:28:52 | INFO | Disconnected from Pfeiffer device hiscroll2\n"
     ]
    },
    {
     "name": "stdout",
     "output_type": "stream",
     "text": [
      "Disconnecting all devices...\n",
      "  ✅ HiScroll2 disconnected\n"
     ]
    },
    {
     "name": "stderr",
     "output_type": "stream",
     "text": [
      "2025-10-09 15:28:52 | INFO | Disconnected from Pfeiffer device hipace_transfer\n",
      "2025-10-09 15:28:53 | INFO | Disconnected from Pfeiffer device hipace_depo\n"
     ]
    },
    {
     "name": "stdout",
     "output_type": "stream",
     "text": [
      "  ✅ HiPace300 Transfer disconnected\n",
      "  ✅ HiPace300 Depo disconnected\n"
     ]
    },
    {
     "name": "stderr",
     "output_type": "stream",
     "text": [
      "2025-10-09 15:28:53 | INFO | Disconnected from Pfeiffer device tpg366\n",
      "2025-10-09 15:28:53 | INFO | Disconnected from chiller chiller\n"
     ]
    },
    {
     "name": "stdout",
     "output_type": "stream",
     "text": [
      "  ✅ TPG366 disconnected\n",
      "  ✅ Chiller disconnected\n",
      "\n",
      "✅ All devices disconnected\n"
     ]
    }
   ],
   "execution_count": 25
  },
  {
   "cell_type": "markdown",
   "id": "6dcdf3d3",
   "metadata": {},
   "source": [
    "## Summary & Quick Reference\n",
    "\n",
    "### Device Overview:\n",
    "- **HiScroll1 & HiScroll2**: Backing pumps\n",
    "- **HiPace300 Transfer**: Transfer chamber turbo pump\n",
    "- **HiPace300 Depo**: Deposition chamber turbo pump\n",
    "- **HiPace450**: Main high vacuum pump (placeholder - implementation needed)\n",
    "- **TPG366**: Pressure controller with 5 sensors\n",
    "- **Chiller**: Cooling unit\n",
    "\n",
    "### Live Plotting Features:\n",
    "- **5 Pressure Plots**: One for each TPG366 sensor (shared time axis, log scale)\n",
    "- **HiScroll Temperature Plot**: Combined plot for both HiScroll pumps\n",
    "- **HiPace Temperature Plot**: Combined plot for all HiPace pumps\n",
    "\n",
    "### Key Operations:\n",
    "\n",
    "#### Connect All Devices:\n",
    "Run cells in Section 4 sequentially\n",
    "\n",
    "#### Start Monitoring:\n",
    "1. Start housekeeping (Section 5)\n",
    "2. Enable live plotting (Section 7)\n",
    "\n",
    "#### Control Individual Pumps:\n",
    "- Section 6.1: HiScroll pump control\n",
    "- Section 6.2: HiPace300 pump control\n",
    "\n",
    "#### Export Data:\n",
    "Run export cell in Section 8\n",
    "\n",
    "#### Shutdown:\n",
    "1. Stop live plotting\n",
    "2. Stop housekeeping (Section 9)\n",
    "3. Disconnect all devices (Section 9)\n",
    "\n",
    "### Data Logging:\n",
    "All device communications are logged to:\n",
    "- File: `debugging/logs/esibd_pressure_chain_YYYYMMDD_HHMMSS.log`\n",
    "- Format: Timestamp | Level | Module | Message\n",
    "\n",
    "### Notes:\n",
    "- Always start backing pumps (HiScrolls) before turbo pumps (HiPaces)\n",
    "- Monitor pressure before enabling turbo pumps\n",
    "- Wait for pressure to be low enough before starting turbo pumps\n",
    "- HiPace450 device class needs to be implemented\n",
    "- Update interval for live plotting can be adjusted (default: 2 seconds)"
   ]
  }
 ],
 "metadata": {
  "kernelspec": {
   "display_name": "ESIBD",
   "language": "python",
   "name": "python3"
  },
  "language_info": {
   "codemirror_mode": {
    "name": "ipython",
    "version": 3
   },
   "file_extension": ".py",
   "mimetype": "text/x-python",
   "name": "python",
   "nbconvert_exporter": "python",
   "pygments_lexer": "ipython3",
   "version": "3.11.8"
  }
 },
 "nbformat": 4,
 "nbformat_minor": 5
}
