{
 "cells": [
  {
   "cell_type": "markdown",
   "id": "7da01119-5818-43e7-8321-8db4d82e1d32",
   "metadata": {},
   "source": [
    "# Debugging of Syringe Pump"
   ]
  },
  {
   "cell_type": "code",
   "execution_count": null,
   "id": "8e2f26bc-651a-4d09-8833-d631217a272c",
   "metadata": {},
   "outputs": [],
   "source": []
  }
 ],
 "metadata": {
  "kernelspec": {
   "display_name": "Python 3 (ipykernel)",
   "language": "python",
   "name": "python3"
  },
  "language_info": {
   "codemirror_mode": {
    "name": "ipython",
    "version": 3
   },
   "file_extension": ".py",
   "mimetype": "text/x-python",
   "name": "python",
   "nbconvert_exporter": "python",
   "pygments_lexer": "ipython3",
   "version": "3.11.8"
  }
 },
 "nbformat": 4,
 "nbformat_minor": 5
}
