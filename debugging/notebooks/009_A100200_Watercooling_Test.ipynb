{
 "cells": [
  {
   "cell_type": "markdown",
   "id": "f7bd867c",
   "metadata": {},
   "source": [
    "# A100 & A200 Watercooling Test - Dual Pressure & Temperature Monitoring\n",
    "\n",
    "This notebook provides control and monitoring capabilities for A100 and A200 pressure sensors with integrated chiller temperature monitoring using the current hardware versions.\n",
    "\n",
    "## Features:\n",
    "- Monitoring for 2 pressure sensors (A100 & A200) via TPG366 controller (current version)\n",
    "- Chiller (Lauda) temperature monitoring and control\n",
    "- Shared logging system using loguru\n",
    "- Cancelable continuous monitoring\n",
    "- Real-time data visualization including pressure and temperature\n",
    "- Simplified and optimized for current hardware\n",
    "\n",
    "## Test Configuration:\n",
    "- A100 Pressure (Channel 1)\n",
    "- A200 Pressure (Channel 2) \n",
    "- Water Temperature (Chiller connected to Pump Locker and heat exchanger)\n",
    "- Starting both pressure monitoring and temperature logging simultaneously"
   ]
  },
  {
   "cell_type": "markdown",
   "id": "11cc8e1a",
   "metadata": {},
   "source": [
    "## 1. Import Required Libraries and Setup"
   ]
  },
  {
   "cell_type": "code",
   "id": "a216ba98",
   "metadata": {
    "ExecuteTime": {
     "end_time": "2025-09-10T09:00:21.506492Z",
     "start_time": "2025-09-10T09:00:20.665897Z"
    }
   },
   "source": [
    "import sys\n",
    "import threading\n",
    "import time\n",
    "from datetime import datetime\n",
    "import asyncio\n",
    "from typing import Dict, Optional, Any\n",
    "import pandas as pd\n",
    "import matplotlib.pyplot as plt\n",
    "from IPython.display import display, clear_output\n",
    "import ipywidgets as widgets\n",
    "import pickle\n",
    "\n",
    "from loguru import logger\n",
    "import os\n",
    "from pathlib import Path\n",
    "\n",
    "# Add path to src modules\n",
    "sys.path.append(os.path.join(os.getcwd(), '..', '..', 'src'))\n",
    "\n",
    "# Import current device modules\n",
    "from devices.pfeiffer.tpg366.tpg366 import TPG366\n",
    "from devices.chiller.chiller import Chiller"
   ],
   "outputs": [],
   "execution_count": 1
  },
  {
   "cell_type": "markdown",
   "id": "343350a8",
   "metadata": {},
   "source": [
    "## 2. Setup Shared Logging System"
   ]
  },
  {
   "cell_type": "code",
   "id": "3e22740a",
   "metadata": {
    "ExecuteTime": {
     "end_time": "2025-09-10T09:00:22.355677Z",
     "start_time": "2025-09-10T09:00:22.346527Z"
    }
   },
   "source": [
    "# Get the repository root and create shared logs directory\n",
    "repo_root = Path(os.getcwd()).parent.parent\n",
    "log_dir = repo_root / \"debugging\" / \"logs\"\n",
    "log_dir.mkdir(parents=True, exist_ok=True)\n",
    "\n",
    "# Create shared log file for all devices\n",
    "timestamp = datetime.now().strftime(\"%Y%m%d_%H%M%S\")\n",
    "shared_log_file = log_dir / f\"009_A100A200_watercooling_test_{timestamp}.log\"\n",
    "\n",
    "# Configure shared logger\n",
    "logger.remove()  # Remove default logger\n",
    "\n",
    "# Add console logger with INFO level\n",
    "logger.add(sys.stderr, level=\"INFO\", format=\"{time:YYYY-MM-DD HH:mm:ss} | {level} | {message}\")\n",
    "\n",
    "# Add shared file logger with DEBUG level\n",
    "logger.add(\n",
    "    str(shared_log_file),\n",
    "    level=\"DEBUG\",\n",
    "    format=\"{time:YYYY-MM-DD HH:mm:ss.SSS} | {level} | {name}:{function}:{line} | {message}\",\n",
    "    rotation=\"1 day\",\n",
    "    retention=\"30 days\",\n",
    "    compression=\"zip\"\n",
    ")\n",
    "\n",
    "logger.info(\"A100/A200 Watercooling test system initialized with shared logging\")\n",
    "print(f\"Repository root: {repo_root}\")\n",
    "print(f\"Shared logs will be saved to: {shared_log_file}\")"
   ],
   "outputs": [
    {
     "name": "stderr",
     "output_type": "stream",
     "text": [
      "2025-09-10 11:00:22 | INFO | A100/A200 Watercooling test system initialized with shared logging\n"
     ]
    },
    {
     "name": "stdout",
     "output_type": "stream",
     "text": [
      "Repository root: C:\\Users\\ESIBDlab\\PycharmProjects\\esibd_bs\n",
      "Shared logs will be saved to: C:\\Users\\ESIBDlab\\PycharmProjects\\esibd_bs\\debugging\\logs\\009_A100A200_watercooling_test_20250910_110022.log\n"
     ]
    }
   ],
   "execution_count": 2
  },
  {
   "cell_type": "markdown",
   "id": "37137588",
   "metadata": {},
   "source": [
    "## 3. Dual Pressure & Temperature Controller Class"
   ]
  },
  {
   "cell_type": "code",
   "id": "68cc5f54",
   "metadata": {
    "ExecuteTime": {
     "end_time": "2025-09-10T09:00:23.331050Z",
     "start_time": "2025-09-10T09:00:23.323048Z"
    }
   },
   "source": [
    "class DualPressureTemperatureController:\n",
    "    \"\"\"Controller class for managing dual pressure sensors (A100/A200) and chiller temperature monitoring\"\"\"\n",
    "    \n",
    "    def __init__(self):\n",
    "        self.pressure_controller: Optional[TPG366] = None\n",
    "        self.chiller: Optional[Chiller] = None\n",
    "        \n",
    "        # Monitoring control\n",
    "        self.monitoring_active = False\n",
    "        self.monitoring_thread = None\n",
    "        self.monitoring_stop_event = threading.Event()\n",
    "        \n",
    "        # Data storage\n",
    "        self.monitoring_data = []\n",
    "        \n",
    "        # Shared thread lock for all devices\n",
    "        self.shared_lock = threading.Lock()\n",
    "        \n",
    "        logger.info(\"Dual Pressure & Temperature Controller initialized\")\n",
    "    \n",
    "    def connect_pressure_controller(self, com_port: str, address: int):\n",
    "        \"\"\"Connect to TPG366 pressure controller with shared logger\"\"\"\n",
    "        try:\n",
    "            logger.info(f\"Connecting to TPG366 pressure controller on {com_port}, address {address}\")\n",
    "            self.pressure_controller = TPG366(\n",
    "                device_id=\"tpg366_dual_pressure\",\n",
    "                port=com_port,\n",
    "                device_address=address,\n",
    "                logger=logger,  # Pass shared logger\n",
    "                thread_lock=self.shared_lock  # Use shared lock\n",
    "            )\n",
    "            self.pressure_controller.connect()\n",
    "            \n",
    "            logger.success(\"TPG366 pressure controller connected successfully\")\n",
    "            return True\n",
    "            \n",
    "        except Exception as e:\n",
    "            logger.error(f\"Failed to connect TPG366 pressure controller: {e}\")\n",
    "            return False\n",
    "    \n",
    "    def connect_chiller(self, com_port: str):\n",
    "        \"\"\"Connect to Chiller (Lauda) with shared logger\"\"\"\n",
    "        try:\n",
    "            logger.info(f\"Connecting to Chiller on {com_port}\")\n",
    "            self.chiller = Chiller(\n",
    "                device_id=\"lauda_chiller\",\n",
    "                port=com_port,\n",
    "                logger=logger,  # Pass shared logger\n",
    "                thread_lock=self.shared_lock  # Use shared lock\n",
    "            )\n",
    "            self.chiller.connect()\n",
    "            \n",
    "            logger.success(\"Chiller connected successfully\")\n",
    "            return True\n",
    "            \n",
    "        except Exception as e:\n",
    "            logger.error(f\"Failed to connect Chiller: {e}\")\n",
    "            return False\n",
    "    \n",
    "    def disconnect_all(self):\n",
    "        \"\"\"Safely disconnect all devices\"\"\"\n",
    "        logger.info(\"Disconnecting all devices...\")\n",
    "        \n",
    "        # Stop monitoring first\n",
    "        self.stop_monitoring()\n",
    "        \n",
    "        # Disconnect pressure controller\n",
    "        if self.pressure_controller:\n",
    "            try:\n",
    "                self.pressure_controller.disconnect()\n",
    "                logger.info(\"TPG366 pressure controller disconnected\")\n",
    "            except Exception as e:\n",
    "                logger.error(f\"Error disconnecting TPG366 pressure controller: {e}\")\n",
    "        \n",
    "        # Disconnect chiller\n",
    "        if self.chiller:\n",
    "            try:\n",
    "                self.chiller.disconnect()\n",
    "                logger.info(\"Chiller disconnected\")\n",
    "            except Exception as e:\n",
    "                logger.error(f\"Error disconnecting Chiller: {e}\")\n",
    "        \n",
    "        logger.success(\"All devices disconnected\")\n",
    "\n",
    "# Create global controller instance\n",
    "controller = DualPressureTemperatureController()"
   ],
   "outputs": [
    {
     "name": "stderr",
     "output_type": "stream",
     "text": [
      "2025-09-10 11:00:23 | INFO | Dual Pressure & Temperature Controller initialized\n"
     ]
    }
   ],
   "execution_count": 3
  },
  {
   "cell_type": "markdown",
   "id": "9b07a12d",
   "metadata": {},
   "source": [
    "## 4. Device Monitoring Functions"
   ]
  },
  {
   "cell_type": "code",
   "id": "5d9d5628",
   "metadata": {
    "ExecuteTime": {
     "end_time": "2025-09-10T09:00:25.153967Z",
     "start_time": "2025-09-10T09:00:25.146953Z"
    }
   },
   "source": [
    "def monitor_tpg366_pressure(pressure_controller: TPG366, sensor_id: str, channel: int) -> Dict[str, Any]:\n",
    "    \"\"\"\n",
    "    Monitor pressure from TPG366 sensor channel.\n",
    "    \n",
    "    Parameters:\n",
    "    - pressure_controller: TPG366 pressure controller instance\n",
    "    - sensor_id: Identifier string for the sensor (A100/A200)\n",
    "    - channel: Sensor channel to read from (1-6)\n",
    "    \n",
    "    Returns:\n",
    "    - Dictionary containing pressure data\n",
    "    \"\"\"\n",
    "    \n",
    "    try:\n",
    "        # Get actual pressure reading using current API\n",
    "        pressure_value = pressure_controller.read_pressure_value(channel)\n",
    "        \n",
    "        pressure_data = {\n",
    "            'timestamp': datetime.now(),\n",
    "            'sensor_id': sensor_id,\n",
    "            'channel': channel,\n",
    "            'pressure_value': pressure_value,\n",
    "            'status': 'OK'\n",
    "        }\n",
    "        \n",
    "        # Log single value with consistent format\n",
    "        logger.info(f\"Pressure monitoring, {sensor_id}_Pressure = {pressure_value} mbar\")\n",
    "        return pressure_data\n",
    "        \n",
    "    except Exception as e:\n",
    "        logger.error(f\"Error reading pressure from {sensor_id}: {e}\")\n",
    "        return {\n",
    "            'timestamp': datetime.now(),\n",
    "            'sensor_id': sensor_id,\n",
    "            'channel': channel,\n",
    "            'pressure_value': None,\n",
    "            'error': str(e),\n",
    "            'status': 'ERROR'\n",
    "        }\n",
    "\n",
    "def monitor_chiller_temperature(chiller: Chiller) -> Dict[str, Any]:\n",
    "    \"\"\"\n",
    "    Monitor temperature from Chiller.\n",
    "    \n",
    "    Parameters:\n",
    "    - chiller: Chiller instance\n",
    "    \n",
    "    Returns:\n",
    "    - Dictionary containing temperature data\n",
    "    \"\"\"\n",
    "    \n",
    "    try:\n",
    "        # Get actual temperature reading\n",
    "        current_temp = chiller.read_temp()\n",
    "        set_temp = chiller.read_set_temp()\n",
    "        \n",
    "        temp_data = {\n",
    "            'timestamp': datetime.now(),\n",
    "            'current_temperature': current_temp,\n",
    "            'set_temperature': set_temp,\n",
    "            'status': 'OK'\n",
    "        }\n",
    "        \n",
    "        # Log each temperature value separately with consistent format\n",
    "        logger.info(f\"Temperature monitoring, Chiller_Current_Temp = {current_temp} °C\")\n",
    "        logger.info(f\"Temperature monitoring, Chiller_Set_Temp = {set_temp} °C\")\n",
    "        return temp_data\n",
    "        \n",
    "    except Exception as e:\n",
    "        logger.error(f\"Error reading temperature from Chiller: {e}\")\n",
    "        return {\n",
    "            'timestamp': datetime.now(),\n",
    "            'current_temperature': None,\n",
    "            'set_temperature': None,\n",
    "            'error': str(e),\n",
    "            'status': 'ERROR'\n",
    "        }\n",
    "\n",
    "print(\"Monitoring functions defined successfully\")"
   ],
   "outputs": [
    {
     "name": "stdout",
     "output_type": "stream",
     "text": [
      "Monitoring functions defined successfully\n"
     ]
    }
   ],
   "execution_count": 4
  },
  {
   "cell_type": "markdown",
   "id": "6cfe6913",
   "metadata": {},
   "source": [
    "## 5. Continuous Monitoring System"
   ]
  },
  {
   "cell_type": "code",
   "id": "59a7705f",
   "metadata": {
    "ExecuteTime": {
     "end_time": "2025-09-10T09:00:27.145974Z",
     "start_time": "2025-09-10T09:00:27.136974Z"
    }
   },
   "source": [
    "def continuous_monitoring_worker(controller: DualPressureTemperatureController, interval: float = 5.0):\n",
    "    \"\"\"\n",
    "    Worker function for continuous monitoring that runs in a separate thread.\n",
    "    \"\"\"\n",
    "    logger.info(f\"Starting continuous monitoring with {interval}s interval\")\n",
    "    \n",
    "    while not controller.monitoring_stop_event.is_set():\n",
    "        try:\n",
    "            monitoring_cycle_data = {\n",
    "                'cycle_timestamp': datetime.now(),\n",
    "                'a100_data': None,\n",
    "                'a200_data': None,\n",
    "                'chiller_data': None\n",
    "            }\n",
    "\n",
    "            # Monitor pressure sensors if controller is connected\n",
    "            if controller.pressure_controller:\n",
    "                # Read from A100 sensor (Channel 1)\n",
    "                monitoring_cycle_data['a100_data'] = monitor_tpg366_pressure(\n",
    "                    controller.pressure_controller, \"A100\", channel=1\n",
    "                )\n",
    "                \n",
    "                # Read from A200 sensor (Channel 2)\n",
    "                monitoring_cycle_data['a200_data'] = monitor_tpg366_pressure(\n",
    "                    controller.pressure_controller, \"A200\", channel=2\n",
    "                )\n",
    "            \n",
    "            # Monitor chiller temperature if connected\n",
    "            if controller.chiller:\n",
    "                monitoring_cycle_data['chiller_data'] = monitor_chiller_temperature(\n",
    "                    controller.chiller\n",
    "                )\n",
    "            \n",
    "            # Store data\n",
    "            controller.monitoring_data.append(monitoring_cycle_data)\n",
    "            \n",
    "            # Log monitoring cycle completion (individual values already logged above)\n",
    "            logger.debug(f\"Monitoring cycle completed at {monitoring_cycle_data['cycle_timestamp']}\")\n",
    "            \n",
    "            # Wait for next cycle or stop signal\n",
    "            if controller.monitoring_stop_event.wait(timeout=interval):\n",
    "                break  # Stop event was set\n",
    "                \n",
    "        except Exception as e:\n",
    "            logger.error(f\"Error in monitoring cycle: {e}\")\n",
    "            # Continue monitoring even if one cycle fails\n",
    "            time.sleep(interval)\n",
    "    \n",
    "    logger.info(\"Continuous monitoring stopped\")\n",
    "\n",
    "def start_monitoring(controller: DualPressureTemperatureController, interval: float = 5.0):\n",
    "    \"\"\"Start continuous monitoring in a separate thread.\"\"\"\n",
    "    if controller.monitoring_active:\n",
    "        logger.warning(\"Monitoring is already active\")\n",
    "        return False\n",
    "    \n",
    "    # Reset stop event and clear old data\n",
    "    controller.monitoring_stop_event.clear()\n",
    "    controller.monitoring_data.clear()\n",
    "    \n",
    "    # Start monitoring thread\n",
    "    controller.monitoring_thread = threading.Thread(\n",
    "        target=continuous_monitoring_worker,\n",
    "        args=(controller, interval),\n",
    "        daemon=True\n",
    "    )\n",
    "    \n",
    "    controller.monitoring_thread.start()\n",
    "    controller.monitoring_active = True\n",
    "    \n",
    "    logger.success(f\"Continuous monitoring started with {interval}s interval\")\n",
    "    return True\n",
    "\n",
    "def stop_monitoring(controller: DualPressureTemperatureController):\n",
    "    \"\"\"Stop continuous monitoring gracefully.\"\"\"\n",
    "    if not controller.monitoring_active:\n",
    "        logger.info(\"Monitoring is not currently active\")\n",
    "        return\n",
    "    \n",
    "    logger.info(\"Stopping continuous monitoring...\")\n",
    "    \n",
    "    # Signal the monitoring thread to stop\n",
    "    controller.monitoring_stop_event.set()\n",
    "    \n",
    "    # Wait for thread to finish (with timeout)\n",
    "    if controller.monitoring_thread and controller.monitoring_thread.is_alive():\n",
    "        controller.monitoring_thread.join(timeout=10.0)\n",
    "        \n",
    "        if controller.monitoring_thread.is_alive():\n",
    "            logger.warning(\"Monitoring thread did not stop gracefully\")\n",
    "        else:\n",
    "            logger.success(\"Monitoring thread stopped successfully\")\n",
    "    \n",
    "    controller.monitoring_active = False\n",
    "    controller.monitoring_thread = None\n",
    "\n",
    "# Add methods to controller class\n",
    "controller.start_monitoring = lambda interval=5.0: start_monitoring(controller, interval)\n",
    "controller.stop_monitoring = lambda: stop_monitoring(controller)\n",
    "\n",
    "print(\"Continuous monitoring system ready\")"
   ],
   "outputs": [
    {
     "name": "stdout",
     "output_type": "stream",
     "text": [
      "Continuous monitoring system ready\n"
     ]
    }
   ],
   "execution_count": 5
  },
  {
   "cell_type": "markdown",
   "id": "38b31377",
   "metadata": {},
   "source": [
    "## 6. Device Connection Configuration"
   ]
  },
  {
   "cell_type": "code",
   "id": "40870cf4",
   "metadata": {
    "ExecuteTime": {
     "end_time": "2025-09-10T09:00:29.070715Z",
     "start_time": "2025-09-10T09:00:29.066562Z"
    }
   },
   "source": [
    "# Configuration for your devices\n",
    "# Modify these values according to your setup\n",
    "\n",
    "# TPG366 pressure controller\n",
    "PRESSURE_COM = 'COM22'  # TPG366 pressure controller COM port\n",
    "PRESSURE_ADDR = 10      # TPG366 standard address\n",
    "\n",
    "# Chiller (Lauda) configuration\n",
    "CHILLER_COM = 'COM39'    # Chiller COM port (modify as needed)\n",
    "\n",
    "print(\"Device configuration loaded:\")\n",
    "print(f\"TPG366 Pressure Controller: {PRESSURE_COM}, Address {PRESSURE_ADDR}\")\n",
    "print(f\"  -> A100 Sensor: Channel 1\")\n",
    "print(f\"  -> A200 Sensor: Channel 2\")\n",
    "print(f\"Lauda Chiller: {CHILLER_COM}\")\n",
    "print(f\"  -> Water temperature monitoring and control\")"
   ],
   "outputs": [
    {
     "name": "stdout",
     "output_type": "stream",
     "text": [
      "Device configuration loaded:\n",
      "TPG366 Pressure Controller: COM22, Address 10\n",
      "  -> A100 Sensor: Channel 1\n",
      "  -> A200 Sensor: Channel 2\n",
      "Lauda Chiller: COM39\n",
      "  -> Water temperature monitoring and control\n"
     ]
    }
   ],
   "execution_count": 6
  },
  {
   "cell_type": "code",
   "id": "991270c4",
   "metadata": {},
   "source": [
    "# Connect to TPG366 pressure controller\n",
    "pressure_connection = controller.connect_pressure_controller(PRESSURE_COM, PRESSURE_ADDR)\n",
    "\n",
    "if pressure_connection:\n",
    "    print(\"✅ TPG366 pressure controller connected successfully\")\n",
    "    print(\"A100 and A200 sensors accessible via channels 1 and 2\")\n",
    "else:\n",
    "    print(\"❌ Failed to connect to TPG366 pressure controller\")\n",
    "\n",
    "# Connect to Chiller\n",
    "chiller_connection = controller.connect_chiller(CHILLER_COM)\n",
    "\n",
    "if chiller_connection:\n",
    "    print(\"✅ Lauda Chiller connected successfully\")\n",
    "    print(\"Water temperature monitoring enabled\")\n",
    "else:\n",
    "    print(\"❌ Failed to connect to Lauda Chiller\")"
   ],
   "outputs": [],
   "execution_count": null
  },
  {
   "cell_type": "markdown",
   "id": "ada95f7c",
   "metadata": {},
   "source": [
    "## 7. Device Testing and Status"
   ]
  },
  {
   "cell_type": "code",
   "id": "1026760e",
   "metadata": {
    "ExecuteTime": {
     "end_time": "2025-09-10T09:01:09.338520Z",
     "start_time": "2025-09-10T09:01:09.206649Z"
    }
   },
   "source": [
    "# Test individual sensor readings (A100 and A200)\n",
    "if controller.pressure_controller:\n",
    "    try:\n",
    "        print(\"Testing A100 and A200 Pressure Sensors:\")\n",
    "        \n",
    "        # Test A100 (Channel 1)\n",
    "        a100_pressure = controller.pressure_controller.read_pressure_value(1)\n",
    "        print(f\"  A100 Pressure (Channel 1): {a100_pressure}\")\n",
    "        \n",
    "        # Test A200 (Channel 2) \n",
    "        a200_pressure = controller.pressure_controller.read_pressure_value(2)\n",
    "        print(f\"  A200 Pressure (Channel 2): {a200_pressure}\")\n",
    "        \n",
    "    except Exception as e:\n",
    "        logger.error(f\"Error testing pressure sensors: {e}\")\n",
    "        print(f\"  ❌ Error testing pressure sensors: {e}\")\n",
    "else:\n",
    "    print(\"TPG366 pressure controller not connected\")"
   ],
   "outputs": [
    {
     "name": "stdout",
     "output_type": "stream",
     "text": [
      "Testing A100 and A200 Pressure Sensors:\n",
      "  A100 Pressure (Channel 1): 1014.9999999999999\n",
      "  A200 Pressure (Channel 2): 1012.0\n"
     ]
    }
   ],
   "execution_count": 11
  },
  {
   "cell_type": "code",
   "id": "be2a7288",
   "metadata": {
    "ExecuteTime": {
     "end_time": "2025-09-10T09:01:07.916363Z",
     "start_time": "2025-09-10T09:01:07.905360Z"
    }
   },
   "source": [
    "# Test Chiller temperature readings\n",
    "if controller.chiller:\n",
    "    try:\n",
    "        print(\"Testing Lauda Chiller:\")\n",
    "        \n",
    "        # Get current and set temperatures\n",
    "        current_temp = controller.chiller.read_temp()\n",
    "        set_temp = controller.chiller.read_set_temp()\n",
    "        print(f\"  Current Temperature: {current_temp}°C\")\n",
    "        print(f\"  Set Temperature: {set_temp}°C\")\n",
    "        \n",
    "        # Get device status\n",
    "        status = controller.chiller.read_status()\n",
    "        running = controller.chiller.read_running()\n",
    "        print(f\"  Device Status: {status}\")\n",
    "        print(f\"  Running State: {running}\")\n",
    "        \n",
    "        print(\"\\n  Chiller tests completed successfully ✅\")\n",
    "        \n",
    "    except Exception as e:\n",
    "        logger.error(f\"Error testing Chiller: {e}\")\n",
    "        print(f\"  ❌ Error testing Chiller: {e}\")\n",
    "else:\n",
    "    print(\"Chiller not connected\")"
   ],
   "outputs": [
    {
     "name": "stdout",
     "output_type": "stream",
     "text": [
      "Testing Lauda Chiller:\n",
      "  Current Temperature: 17.96°C\n",
      "  Set Temperature: 16.0°C\n",
      "  Device Status: OK\n",
      "  Running State: DEVICE RUNNING\n",
      "\n",
      "  Chiller tests completed successfully ✅\n"
     ]
    }
   ],
   "execution_count": 10
  },
  {
   "cell_type": "markdown",
   "id": "5e0b1429",
   "metadata": {},
   "source": [
    "## 8. Monitoring Control Interface"
   ]
  },
  {
   "cell_type": "code",
   "id": "24bf57f0",
   "metadata": {
    "ExecuteTime": {
     "end_time": "2025-09-10T09:01:12.661279Z",
     "start_time": "2025-09-10T09:01:12.648061Z"
    }
   },
   "source": [
    "# Create interactive controls for monitoring\n",
    "start_button = widgets.Button(description=\"Start Monitoring\", button_style='success')\n",
    "stop_button = widgets.Button(description=\"Stop Monitoring\", button_style='danger')\n",
    "interval_slider = widgets.FloatSlider(\n",
    "    value=2.0,\n",
    "    min=0.1,\n",
    "    max=2.0,\n",
    "    step=0.1,\n",
    "    description='Interval (s):',\n",
    "    style={'description_width': 'initial'}\n",
    ")\n",
    "status_output = widgets.Output()\n",
    "\n",
    "def on_start_clicked(b):\n",
    "    with status_output:\n",
    "        clear_output(wait=True)\n",
    "        success = controller.start_monitoring(interval_slider.value)\n",
    "        if success:\n",
    "            print(f\"✅ Monitoring started with {interval_slider.value}s interval\")\n",
    "            print(\"Monitoring: A100 pressure, A200 pressure, and chiller temperature\")\n",
    "        else:\n",
    "            print(\"❌ Failed to start monitoring (already running?)\")\n",
    "\n",
    "def on_stop_clicked(b):\n",
    "    with status_output:\n",
    "        clear_output(wait=True)\n",
    "        controller.stop_monitoring()\n",
    "        print(\"🛑 Monitoring stopped\")\n",
    "\n",
    "start_button.on_click(on_start_clicked)\n",
    "stop_button.on_click(on_stop_clicked)\n",
    "\n",
    "# Display controls\n",
    "controls = widgets.VBox([\n",
    "    widgets.Label(\"A100/A200 & Chiller Monitoring Controls:\"),\n",
    "    interval_slider,\n",
    "    widgets.HBox([start_button, stop_button]),\n",
    "    status_output\n",
    "])\n",
    "\n",
    "display(controls)"
   ],
   "outputs": [
    {
     "data": {
      "text/plain": [
       "VBox(children=(Label(value='A100/A200 & Chiller Monitoring Controls:'), FloatSlider(value=2.0, description='In…"
      ],
      "application/vnd.jupyter.widget-view+json": {
       "version_major": 2,
       "version_minor": 0,
       "model_id": "6d4e236bab1b4c17a3b48cd1a398e366"
      }
     },
     "metadata": {},
     "output_type": "display_data"
    }
   ],
   "execution_count": 12
  },
  {
   "cell_type": "code",
   "execution_count": null,
   "id": "1aadb397",
   "metadata": {},
   "outputs": [],
   "source": [
    "%matplotlib inline"
   ]
  },
  {
   "cell_type": "markdown",
   "id": "814155ba",
   "metadata": {},
   "source": [
    "## 9. Data Visualization"
   ]
  },
  {
   "cell_type": "markdown",
   "id": "59e3c7fb",
   "metadata": {},
   "source": [
    "### 9.1 Static Plotting"
   ]
  },
  {
   "cell_type": "code",
   "id": "9e2a963d",
   "metadata": {
    "ExecuteTime": {
     "end_time": "2025-09-10T13:57:11.257557Z",
     "start_time": "2025-09-10T13:57:11.246524Z"
    }
   },
   "source": [
    "def plot_monitoring_data():\n",
    "    \"\"\"Plot the collected monitoring data for dual pressure sensors and chiller temperature\"\"\"\n",
    "    if not controller.monitoring_data:\n",
    "        print(\"No monitoring data available. Start monitoring first.\")\n",
    "        return\n",
    "    \n",
    "    # Convert data to lists for easier plotting\n",
    "    timestamps = []\n",
    "    a100_pressure = []\n",
    "    a200_pressure = []\n",
    "    chiller_current_temp = []\n",
    "    #chiller_set_temp = []\n",
    "\n",
    "    for cycle in controller.monitoring_data:\n",
    "        timestamps.append(cycle['cycle_timestamp'])\n",
    "        \n",
    "        # Extract pressure data\n",
    "        a100_pressure.append(cycle['a100_data']['pressure_value'] if cycle['a100_data'] and cycle['a100_data'].get('pressure_value') else None)\n",
    "        a200_pressure.append(cycle['a200_data']['pressure_value'] if cycle['a200_data'] and cycle['a200_data'].get('pressure_value') else None)\n",
    "        \n",
    "        # Extract temperature data\n",
    "        chiller_current_temp.append(cycle['chiller_data']['current_temperature'] if cycle['chiller_data'] and cycle['chiller_data'].get('current_temperature') else None)\n",
    "        #chiller_set_temp.append(cycle['chiller_data']['set_temperature'] if cycle['chiller_data'] and cycle['chiller_data'].get('set_temperature') else None)\n",
    "\n",
    "    # Create subplots: 2 rows, 1 column\n",
    "    fig, (ax1, ax2) = plt.subplots(2, 1, figsize=(8, 6), sharex=True)\n",
    "    \n",
    "    # Plot 1: Pressure (with logarithmic scale for vacuum)\n",
    "    ax1.plot(timestamps, a100_pressure, 'b-', label='A100 Pressure', marker='o', markersize = 1)\n",
    "    ax1.plot(timestamps, a200_pressure, 'r-', label='A200 Pressure', marker='^', markersize = 1)\n",
    "    ax1.set_yscale('log')\n",
    "    ax1.set_ylabel('Pressure (log scale)')\n",
    "    ax1.set_title('A100 & A200 Pressure Over Time')\n",
    "    ax1.legend()\n",
    "    ax1.grid(True)\n",
    "    ax1.tick_params(axis='x', rotation=45)\n",
    "    \n",
    "    # Plot 2: Temperature\n",
    "    ax2.plot(timestamps, chiller_current_temp, 'g-', label='Current Temperature', marker='s', markevery= 100, markersize = 1)\n",
    "    #ax2.plot(timestamps, chiller_set_temp, 'g--', label='Set Temperature', marker='d', alpha=0.7)\n",
    "    ax2.set_ylabel('Temperature // degC')\n",
    "    ax2.set_xlabel('Time // HH:MM:SS')\n",
    "    ax2.set_title('Chiller Temperature Over Time')\n",
    "    ax2.legend()\n",
    "    ax2.grid(True)\n",
    "    ax2.tick_params(axis='x', rotation=45)\n",
    "    import matplotlib.dates as mdates\n",
    "    ax2.xaxis.set_major_formatter(mdates.DateFormatter('%H:%M:%S'))\n",
    "    ax2.xaxis.set_major_locator(mdates.MinuteLocator(interval=20))  # Adjust interval as needed\n",
    "    \n",
    "    plt.tight_layout()\n",
    "    plt.show()\n",
    "    \n",
    "    # Print statistics\n",
    "    print(f\"Plotted {len(controller.monitoring_data)} data points\")\n",
    "    valid_a100 = [p for p in a100_pressure if p is not None]\n",
    "    valid_a200 = [p for p in a200_pressure if p is not None]\n",
    "    valid_temp = [t for t in chiller_current_temp if t is not None]\n",
    "\n",
    "    if valid_a100:\n",
    "        print(f\"A100 pressure range: {min(valid_a100):.2e} to {max(valid_a100):.2e}\")\n",
    "    if valid_a200:\n",
    "        print(f\"A200 pressure range: {min(valid_a200):.2e} to {max(valid_a200):.2e}\")\n",
    "    if valid_temp:\n",
    "        print(f\"Chiller temperature range: {min(valid_temp):.2f}°C to {max(valid_temp):.2f}°C\")\n",
    "\n",
    "def get_monitoring_summary():\n",
    "    \"\"\"Get a summary of current monitoring status\"\"\"\n",
    "    print(f\"Monitoring Status: {'🟢 Active' if controller.monitoring_active else '🔴 Inactive'}\")\n",
    "    print(f\"Data Points Collected: {len(controller.monitoring_data)}\")\n",
    "    print(f\"TPG366 Controller Connected: {'✅' if controller.pressure_controller else '❌'}\")\n",
    "    print(f\"Chiller Connected: {'✅' if controller.chiller else '❌'}\")\n",
    "    \n",
    "    if controller.monitoring_data:\n",
    "        latest = controller.monitoring_data[-1]\n",
    "        print(f\"\\nLatest Data Point: {latest['cycle_timestamp']}\")\n",
    "        \n",
    "        # Show latest pressure readings\n",
    "        if latest['a100_data']:\n",
    "            a100_p = latest['a100_data'].get('pressure_value')\n",
    "            print(f\"  A100 Pressure: {a100_p}\")\n",
    "        if latest['a200_data']:\n",
    "            a200_p = latest['a200_data'].get('pressure_value')\n",
    "            print(f\"  A200 Pressure: {a200_p}\")\n",
    "        \n",
    "        # Show latest temperature readings\n",
    "        if latest['chiller_data']:\n",
    "            curr_temp = latest['chiller_data'].get('current_temperature')\n",
    "            set_temp = latest['chiller_data'].get('set_temperature')\n",
    "            print(f\"  Chiller Temperature: {curr_temp}°C (set: {set_temp}°C)\")\n",
    "\n",
    "print(\"Data visualization functions ready\")"
   ],
   "outputs": [
    {
     "name": "stdout",
     "output_type": "stream",
     "text": [
      "Data visualization functions ready\n"
     ]
    }
   ],
   "execution_count": 75
  },
  {
   "cell_type": "code",
   "id": "85056a72",
   "metadata": {
    "ExecuteTime": {
     "end_time": "2025-09-10T13:57:13.160732Z",
     "start_time": "2025-09-10T13:57:12.647100Z"
    }
   },
   "source": [
    "# Plot monitoring data (run this cell periodically to see updated plots)\n",
    "plot_monitoring_data()"
   ],
   "outputs": [
    {
     "data": {
      "text/plain": [
       "<IPython.core.display.Javascript object>"
      ],
      "application/javascript": "/* Put everything inside the global mpl namespace */\n/* global mpl */\nwindow.mpl = {};\n\nmpl.get_websocket_type = function () {\n    if (typeof WebSocket !== 'undefined') {\n        return WebSocket;\n    } else if (typeof MozWebSocket !== 'undefined') {\n        return MozWebSocket;\n    } else {\n        alert(\n            'Your browser does not have WebSocket support. ' +\n                'Please try Chrome, Safari or Firefox ≥ 6. ' +\n                'Firefox 4 and 5 are also supported but you ' +\n                'have to enable WebSockets in about:config.'\n        );\n    }\n};\n\nmpl.figure = function (figure_id, websocket, ondownload, parent_element) {\n    this.id = figure_id;\n\n    this.ws = websocket;\n\n    this.supports_binary = this.ws.binaryType !== undefined;\n\n    if (!this.supports_binary) {\n        var warnings = document.getElementById('mpl-warnings');\n        if (warnings) {\n            warnings.style.display = 'block';\n            warnings.textContent =\n                'This browser does not support binary websocket messages. ' +\n                'Performance may be slow.';\n        }\n    }\n\n    this.imageObj = new Image();\n\n    this.context = undefined;\n    this.message = undefined;\n    this.canvas = undefined;\n    this.rubberband_canvas = undefined;\n    this.rubberband_context = undefined;\n    this.format_dropdown = undefined;\n\n    this.image_mode = 'full';\n\n    this.root = document.createElement('div');\n    this.root.setAttribute('style', 'display: inline-block');\n    this._root_extra_style(this.root);\n\n    parent_element.appendChild(this.root);\n\n    this._init_header(this);\n    this._init_canvas(this);\n    this._init_toolbar(this);\n\n    var fig = this;\n\n    this.waiting = false;\n\n    this.ws.onopen = function () {\n        fig.send_message('supports_binary', { value: fig.supports_binary });\n        fig.send_message('send_image_mode', {});\n        if (fig.ratio !== 1) {\n            fig.send_message('set_device_pixel_ratio', {\n                device_pixel_ratio: fig.ratio,\n            });\n        }\n        fig.send_message('refresh', {});\n    };\n\n    this.imageObj.onload = function () {\n        if (fig.image_mode === 'full') {\n            // Full images could contain transparency (where diff images\n            // almost always do), so we need to clear the canvas so that\n            // there is no ghosting.\n            fig.context.clearRect(0, 0, fig.canvas.width, fig.canvas.height);\n        }\n        fig.context.drawImage(fig.imageObj, 0, 0);\n    };\n\n    this.imageObj.onunload = function () {\n        fig.ws.close();\n    };\n\n    this.ws.onmessage = this._make_on_message_function(this);\n\n    this.ondownload = ondownload;\n};\n\nmpl.figure.prototype._init_header = function () {\n    var titlebar = document.createElement('div');\n    titlebar.classList =\n        'ui-dialog-titlebar ui-widget-header ui-corner-all ui-helper-clearfix';\n    var titletext = document.createElement('div');\n    titletext.classList = 'ui-dialog-title';\n    titletext.setAttribute(\n        'style',\n        'width: 100%; text-align: center; padding: 3px;'\n    );\n    titlebar.appendChild(titletext);\n    this.root.appendChild(titlebar);\n    this.header = titletext;\n};\n\nmpl.figure.prototype._canvas_extra_style = function (_canvas_div) {};\n\nmpl.figure.prototype._root_extra_style = function (_canvas_div) {};\n\nmpl.figure.prototype._init_canvas = function () {\n    var fig = this;\n\n    var canvas_div = (this.canvas_div = document.createElement('div'));\n    canvas_div.setAttribute('tabindex', '0');\n    canvas_div.setAttribute(\n        'style',\n        'border: 1px solid #ddd;' +\n            'box-sizing: content-box;' +\n            'clear: both;' +\n            'min-height: 1px;' +\n            'min-width: 1px;' +\n            'outline: 0;' +\n            'overflow: hidden;' +\n            'position: relative;' +\n            'resize: both;' +\n            'z-index: 2;'\n    );\n\n    function on_keyboard_event_closure(name) {\n        return function (event) {\n            return fig.key_event(event, name);\n        };\n    }\n\n    canvas_div.addEventListener(\n        'keydown',\n        on_keyboard_event_closure('key_press')\n    );\n    canvas_div.addEventListener(\n        'keyup',\n        on_keyboard_event_closure('key_release')\n    );\n\n    this._canvas_extra_style(canvas_div);\n    this.root.appendChild(canvas_div);\n\n    var canvas = (this.canvas = document.createElement('canvas'));\n    canvas.classList.add('mpl-canvas');\n    canvas.setAttribute(\n        'style',\n        'box-sizing: content-box;' +\n            'pointer-events: none;' +\n            'position: relative;' +\n            'z-index: 0;'\n    );\n\n    this.context = canvas.getContext('2d');\n\n    var backingStore =\n        this.context.backingStorePixelRatio ||\n        this.context.webkitBackingStorePixelRatio ||\n        this.context.mozBackingStorePixelRatio ||\n        this.context.msBackingStorePixelRatio ||\n        this.context.oBackingStorePixelRatio ||\n        this.context.backingStorePixelRatio ||\n        1;\n\n    this.ratio = (window.devicePixelRatio || 1) / backingStore;\n\n    var rubberband_canvas = (this.rubberband_canvas = document.createElement(\n        'canvas'\n    ));\n    rubberband_canvas.setAttribute(\n        'style',\n        'box-sizing: content-box;' +\n            'left: 0;' +\n            'pointer-events: none;' +\n            'position: absolute;' +\n            'top: 0;' +\n            'z-index: 1;'\n    );\n\n    // Apply a ponyfill if ResizeObserver is not implemented by browser.\n    if (this.ResizeObserver === undefined) {\n        if (window.ResizeObserver !== undefined) {\n            this.ResizeObserver = window.ResizeObserver;\n        } else {\n            var obs = _JSXTOOLS_RESIZE_OBSERVER({});\n            this.ResizeObserver = obs.ResizeObserver;\n        }\n    }\n\n    this.resizeObserverInstance = new this.ResizeObserver(function (entries) {\n        // There's no need to resize if the WebSocket is not connected:\n        // - If it is still connecting, then we will get an initial resize from\n        //   Python once it connects.\n        // - If it has disconnected, then resizing will clear the canvas and\n        //   never get anything back to refill it, so better to not resize and\n        //   keep something visible.\n        if (fig.ws.readyState != 1) {\n            return;\n        }\n        var nentries = entries.length;\n        for (var i = 0; i < nentries; i++) {\n            var entry = entries[i];\n            var width, height;\n            if (entry.contentBoxSize) {\n                if (entry.contentBoxSize instanceof Array) {\n                    // Chrome 84 implements new version of spec.\n                    width = entry.contentBoxSize[0].inlineSize;\n                    height = entry.contentBoxSize[0].blockSize;\n                } else {\n                    // Firefox implements old version of spec.\n                    width = entry.contentBoxSize.inlineSize;\n                    height = entry.contentBoxSize.blockSize;\n                }\n            } else {\n                // Chrome <84 implements even older version of spec.\n                width = entry.contentRect.width;\n                height = entry.contentRect.height;\n            }\n\n            // Keep the size of the canvas and rubber band canvas in sync with\n            // the canvas container.\n            if (entry.devicePixelContentBoxSize) {\n                // Chrome 84 implements new version of spec.\n                canvas.setAttribute(\n                    'width',\n                    entry.devicePixelContentBoxSize[0].inlineSize\n                );\n                canvas.setAttribute(\n                    'height',\n                    entry.devicePixelContentBoxSize[0].blockSize\n                );\n            } else {\n                canvas.setAttribute('width', width * fig.ratio);\n                canvas.setAttribute('height', height * fig.ratio);\n            }\n            /* This rescales the canvas back to display pixels, so that it\n             * appears correct on HiDPI screens. */\n            canvas.style.width = width + 'px';\n            canvas.style.height = height + 'px';\n\n            rubberband_canvas.setAttribute('width', width);\n            rubberband_canvas.setAttribute('height', height);\n\n            // And update the size in Python. We ignore the initial 0/0 size\n            // that occurs as the element is placed into the DOM, which should\n            // otherwise not happen due to the minimum size styling.\n            if (width != 0 && height != 0) {\n                fig.request_resize(width, height);\n            }\n        }\n    });\n    this.resizeObserverInstance.observe(canvas_div);\n\n    function on_mouse_event_closure(name) {\n        /* User Agent sniffing is bad, but WebKit is busted:\n         * https://bugs.webkit.org/show_bug.cgi?id=144526\n         * https://bugs.webkit.org/show_bug.cgi?id=181818\n         * The worst that happens here is that they get an extra browser\n         * selection when dragging, if this check fails to catch them.\n         */\n        var UA = navigator.userAgent;\n        var isWebKit = /AppleWebKit/.test(UA) && !/Chrome/.test(UA);\n        if(isWebKit) {\n            return function (event) {\n                /* This prevents the web browser from automatically changing to\n                 * the text insertion cursor when the button is pressed. We\n                 * want to control all of the cursor setting manually through\n                 * the 'cursor' event from matplotlib */\n                event.preventDefault()\n                return fig.mouse_event(event, name);\n            };\n        } else {\n            return function (event) {\n                return fig.mouse_event(event, name);\n            };\n        }\n    }\n\n    canvas_div.addEventListener(\n        'mousedown',\n        on_mouse_event_closure('button_press')\n    );\n    canvas_div.addEventListener(\n        'mouseup',\n        on_mouse_event_closure('button_release')\n    );\n    canvas_div.addEventListener(\n        'dblclick',\n        on_mouse_event_closure('dblclick')\n    );\n    // Throttle sequential mouse events to 1 every 20ms.\n    canvas_div.addEventListener(\n        'mousemove',\n        on_mouse_event_closure('motion_notify')\n    );\n\n    canvas_div.addEventListener(\n        'mouseenter',\n        on_mouse_event_closure('figure_enter')\n    );\n    canvas_div.addEventListener(\n        'mouseleave',\n        on_mouse_event_closure('figure_leave')\n    );\n\n    canvas_div.addEventListener('wheel', function (event) {\n        if (event.deltaY < 0) {\n            event.step = 1;\n        } else {\n            event.step = -1;\n        }\n        on_mouse_event_closure('scroll')(event);\n    });\n\n    canvas_div.appendChild(canvas);\n    canvas_div.appendChild(rubberband_canvas);\n\n    this.rubberband_context = rubberband_canvas.getContext('2d');\n    this.rubberband_context.strokeStyle = '#000000';\n\n    this._resize_canvas = function (width, height, forward) {\n        if (forward) {\n            canvas_div.style.width = width + 'px';\n            canvas_div.style.height = height + 'px';\n        }\n    };\n\n    // Disable right mouse context menu.\n    canvas_div.addEventListener('contextmenu', function (_e) {\n        event.preventDefault();\n        return false;\n    });\n\n    function set_focus() {\n        canvas.focus();\n        canvas_div.focus();\n    }\n\n    window.setTimeout(set_focus, 100);\n};\n\nmpl.figure.prototype._init_toolbar = function () {\n    var fig = this;\n\n    var toolbar = document.createElement('div');\n    toolbar.classList = 'mpl-toolbar';\n    this.root.appendChild(toolbar);\n\n    function on_click_closure(name) {\n        return function (_event) {\n            return fig.toolbar_button_onclick(name);\n        };\n    }\n\n    function on_mouseover_closure(tooltip) {\n        return function (event) {\n            if (!event.currentTarget.disabled) {\n                return fig.toolbar_button_onmouseover(tooltip);\n            }\n        };\n    }\n\n    fig.buttons = {};\n    var buttonGroup = document.createElement('div');\n    buttonGroup.classList = 'mpl-button-group';\n    for (var toolbar_ind in mpl.toolbar_items) {\n        var name = mpl.toolbar_items[toolbar_ind][0];\n        var tooltip = mpl.toolbar_items[toolbar_ind][1];\n        var image = mpl.toolbar_items[toolbar_ind][2];\n        var method_name = mpl.toolbar_items[toolbar_ind][3];\n\n        if (!name) {\n            /* Instead of a spacer, we start a new button group. */\n            if (buttonGroup.hasChildNodes()) {\n                toolbar.appendChild(buttonGroup);\n            }\n            buttonGroup = document.createElement('div');\n            buttonGroup.classList = 'mpl-button-group';\n            continue;\n        }\n\n        var button = (fig.buttons[name] = document.createElement('button'));\n        button.classList = 'mpl-widget';\n        button.setAttribute('role', 'button');\n        button.setAttribute('aria-disabled', 'false');\n        button.addEventListener('click', on_click_closure(method_name));\n        button.addEventListener('mouseover', on_mouseover_closure(tooltip));\n\n        var icon_img = document.createElement('img');\n        icon_img.src = '_images/' + image + '.png';\n        icon_img.srcset = '_images/' + image + '_large.png 2x';\n        icon_img.alt = tooltip;\n        button.appendChild(icon_img);\n\n        buttonGroup.appendChild(button);\n    }\n\n    if (buttonGroup.hasChildNodes()) {\n        toolbar.appendChild(buttonGroup);\n    }\n\n    var fmt_picker = document.createElement('select');\n    fmt_picker.classList = 'mpl-widget';\n    toolbar.appendChild(fmt_picker);\n    this.format_dropdown = fmt_picker;\n\n    for (var ind in mpl.extensions) {\n        var fmt = mpl.extensions[ind];\n        var option = document.createElement('option');\n        option.selected = fmt === mpl.default_extension;\n        option.innerHTML = fmt;\n        fmt_picker.appendChild(option);\n    }\n\n    var status_bar = document.createElement('span');\n    status_bar.classList = 'mpl-message';\n    toolbar.appendChild(status_bar);\n    this.message = status_bar;\n};\n\nmpl.figure.prototype.request_resize = function (x_pixels, y_pixels) {\n    // Request matplotlib to resize the figure. Matplotlib will then trigger a resize in the client,\n    // which will in turn request a refresh of the image.\n    this.send_message('resize', { width: x_pixels, height: y_pixels });\n};\n\nmpl.figure.prototype.send_message = function (type, properties) {\n    properties['type'] = type;\n    properties['figure_id'] = this.id;\n    this.ws.send(JSON.stringify(properties));\n};\n\nmpl.figure.prototype.send_draw_message = function () {\n    if (!this.waiting) {\n        this.waiting = true;\n        this.ws.send(JSON.stringify({ type: 'draw', figure_id: this.id }));\n    }\n};\n\nmpl.figure.prototype.handle_save = function (fig, _msg) {\n    var format_dropdown = fig.format_dropdown;\n    var format = format_dropdown.options[format_dropdown.selectedIndex].value;\n    fig.ondownload(fig, format);\n};\n\nmpl.figure.prototype.handle_resize = function (fig, msg) {\n    var size = msg['size'];\n    if (size[0] !== fig.canvas.width || size[1] !== fig.canvas.height) {\n        fig._resize_canvas(size[0], size[1], msg['forward']);\n        fig.send_message('refresh', {});\n    }\n};\n\nmpl.figure.prototype.handle_rubberband = function (fig, msg) {\n    var x0 = msg['x0'] / fig.ratio;\n    var y0 = (fig.canvas.height - msg['y0']) / fig.ratio;\n    var x1 = msg['x1'] / fig.ratio;\n    var y1 = (fig.canvas.height - msg['y1']) / fig.ratio;\n    x0 = Math.floor(x0) + 0.5;\n    y0 = Math.floor(y0) + 0.5;\n    x1 = Math.floor(x1) + 0.5;\n    y1 = Math.floor(y1) + 0.5;\n    var min_x = Math.min(x0, x1);\n    var min_y = Math.min(y0, y1);\n    var width = Math.abs(x1 - x0);\n    var height = Math.abs(y1 - y0);\n\n    fig.rubberband_context.clearRect(\n        0,\n        0,\n        fig.canvas.width / fig.ratio,\n        fig.canvas.height / fig.ratio\n    );\n\n    fig.rubberband_context.strokeRect(min_x, min_y, width, height);\n};\n\nmpl.figure.prototype.handle_figure_label = function (fig, msg) {\n    // Updates the figure title.\n    fig.header.textContent = msg['label'];\n};\n\nmpl.figure.prototype.handle_cursor = function (fig, msg) {\n    fig.canvas_div.style.cursor = msg['cursor'];\n};\n\nmpl.figure.prototype.handle_message = function (fig, msg) {\n    fig.message.textContent = msg['message'];\n};\n\nmpl.figure.prototype.handle_draw = function (fig, _msg) {\n    // Request the server to send over a new figure.\n    fig.send_draw_message();\n};\n\nmpl.figure.prototype.handle_image_mode = function (fig, msg) {\n    fig.image_mode = msg['mode'];\n};\n\nmpl.figure.prototype.handle_history_buttons = function (fig, msg) {\n    for (var key in msg) {\n        if (!(key in fig.buttons)) {\n            continue;\n        }\n        fig.buttons[key].disabled = !msg[key];\n        fig.buttons[key].setAttribute('aria-disabled', !msg[key]);\n    }\n};\n\nmpl.figure.prototype.handle_navigate_mode = function (fig, msg) {\n    if (msg['mode'] === 'PAN') {\n        fig.buttons['Pan'].classList.add('active');\n        fig.buttons['Zoom'].classList.remove('active');\n    } else if (msg['mode'] === 'ZOOM') {\n        fig.buttons['Pan'].classList.remove('active');\n        fig.buttons['Zoom'].classList.add('active');\n    } else {\n        fig.buttons['Pan'].classList.remove('active');\n        fig.buttons['Zoom'].classList.remove('active');\n    }\n};\n\nmpl.figure.prototype.updated_canvas_event = function () {\n    // Called whenever the canvas gets updated.\n    this.send_message('ack', {});\n};\n\n// A function to construct a web socket function for onmessage handling.\n// Called in the figure constructor.\nmpl.figure.prototype._make_on_message_function = function (fig) {\n    return function socket_on_message(evt) {\n        if (evt.data instanceof Blob) {\n            var img = evt.data;\n            if (img.type !== 'image/png') {\n                /* FIXME: We get \"Resource interpreted as Image but\n                 * transferred with MIME type text/plain:\" errors on\n                 * Chrome.  But how to set the MIME type?  It doesn't seem\n                 * to be part of the websocket stream */\n                img.type = 'image/png';\n            }\n\n            /* Free the memory for the previous frames */\n            if (fig.imageObj.src) {\n                (window.URL || window.webkitURL).revokeObjectURL(\n                    fig.imageObj.src\n                );\n            }\n\n            fig.imageObj.src = (window.URL || window.webkitURL).createObjectURL(\n                img\n            );\n            fig.updated_canvas_event();\n            fig.waiting = false;\n            return;\n        } else if (\n            typeof evt.data === 'string' &&\n            evt.data.slice(0, 21) === 'data:image/png;base64'\n        ) {\n            fig.imageObj.src = evt.data;\n            fig.updated_canvas_event();\n            fig.waiting = false;\n            return;\n        }\n\n        var msg = JSON.parse(evt.data);\n        var msg_type = msg['type'];\n\n        // Call the  \"handle_{type}\" callback, which takes\n        // the figure and JSON message as its only arguments.\n        try {\n            var callback = fig['handle_' + msg_type];\n        } catch (e) {\n            console.log(\n                \"No handler for the '\" + msg_type + \"' message type: \",\n                msg\n            );\n            return;\n        }\n\n        if (callback) {\n            try {\n                // console.log(\"Handling '\" + msg_type + \"' message: \", msg);\n                callback(fig, msg);\n            } catch (e) {\n                console.log(\n                    \"Exception inside the 'handler_\" + msg_type + \"' callback:\",\n                    e,\n                    e.stack,\n                    msg\n                );\n            }\n        }\n    };\n};\n\nfunction getModifiers(event) {\n    var mods = [];\n    if (event.ctrlKey) {\n        mods.push('ctrl');\n    }\n    if (event.altKey) {\n        mods.push('alt');\n    }\n    if (event.shiftKey) {\n        mods.push('shift');\n    }\n    if (event.metaKey) {\n        mods.push('meta');\n    }\n    return mods;\n}\n\n/*\n * return a copy of an object with only non-object keys\n * we need this to avoid circular references\n * https://stackoverflow.com/a/24161582/3208463\n */\nfunction simpleKeys(original) {\n    return Object.keys(original).reduce(function (obj, key) {\n        if (typeof original[key] !== 'object') {\n            obj[key] = original[key];\n        }\n        return obj;\n    }, {});\n}\n\nmpl.figure.prototype.mouse_event = function (event, name) {\n    if (name === 'button_press') {\n        this.canvas.focus();\n        this.canvas_div.focus();\n    }\n\n    // from https://stackoverflow.com/q/1114465\n    var boundingRect = this.canvas.getBoundingClientRect();\n    var x = (event.clientX - boundingRect.left) * this.ratio;\n    var y = (event.clientY - boundingRect.top) * this.ratio;\n\n    this.send_message(name, {\n        x: x,\n        y: y,\n        button: event.button,\n        step: event.step,\n        buttons: event.buttons,\n        modifiers: getModifiers(event),\n        guiEvent: simpleKeys(event),\n    });\n\n    return false;\n};\n\nmpl.figure.prototype._key_event_extra = function (_event, _name) {\n    // Handle any extra behaviour associated with a key event\n};\n\nmpl.figure.prototype.key_event = function (event, name) {\n    // Prevent repeat events\n    if (name === 'key_press') {\n        if (event.key === this._key) {\n            return;\n        } else {\n            this._key = event.key;\n        }\n    }\n    if (name === 'key_release') {\n        this._key = null;\n    }\n\n    var value = '';\n    if (event.ctrlKey && event.key !== 'Control') {\n        value += 'ctrl+';\n    }\n    else if (event.altKey && event.key !== 'Alt') {\n        value += 'alt+';\n    }\n    else if (event.shiftKey && event.key !== 'Shift') {\n        value += 'shift+';\n    }\n\n    value += 'k' + event.key;\n\n    this._key_event_extra(event, name);\n\n    this.send_message(name, { key: value, guiEvent: simpleKeys(event) });\n    return false;\n};\n\nmpl.figure.prototype.toolbar_button_onclick = function (name) {\n    if (name === 'download') {\n        this.handle_save(this, null);\n    } else {\n        this.send_message('toolbar_button', { name: name });\n    }\n};\n\nmpl.figure.prototype.toolbar_button_onmouseover = function (tooltip) {\n    this.message.textContent = tooltip;\n};\n\n///////////////// REMAINING CONTENT GENERATED BY embed_js.py /////////////////\n// prettier-ignore\nvar _JSXTOOLS_RESIZE_OBSERVER=function(A){var t,i=new WeakMap,n=new WeakMap,a=new WeakMap,r=new WeakMap,o=new Set;function s(e){if(!(this instanceof s))throw new TypeError(\"Constructor requires 'new' operator\");i.set(this,e)}function h(){throw new TypeError(\"Function is not a constructor\")}function c(e,t,i,n){e=0 in arguments?Number(arguments[0]):0,t=1 in arguments?Number(arguments[1]):0,i=2 in arguments?Number(arguments[2]):0,n=3 in arguments?Number(arguments[3]):0,this.right=(this.x=this.left=e)+(this.width=i),this.bottom=(this.y=this.top=t)+(this.height=n),Object.freeze(this)}function d(){t=requestAnimationFrame(d);var s=new WeakMap,p=new Set;o.forEach((function(t){r.get(t).forEach((function(i){var r=t instanceof window.SVGElement,o=a.get(t),d=r?0:parseFloat(o.paddingTop),f=r?0:parseFloat(o.paddingRight),l=r?0:parseFloat(o.paddingBottom),u=r?0:parseFloat(o.paddingLeft),g=r?0:parseFloat(o.borderTopWidth),m=r?0:parseFloat(o.borderRightWidth),w=r?0:parseFloat(o.borderBottomWidth),b=u+f,F=d+l,v=(r?0:parseFloat(o.borderLeftWidth))+m,W=g+w,y=r?0:t.offsetHeight-W-t.clientHeight,E=r?0:t.offsetWidth-v-t.clientWidth,R=b+v,z=F+W,M=r?t.width:parseFloat(o.width)-R-E,O=r?t.height:parseFloat(o.height)-z-y;if(n.has(t)){var k=n.get(t);if(k[0]===M&&k[1]===O)return}n.set(t,[M,O]);var S=Object.create(h.prototype);S.target=t,S.contentRect=new c(u,d,M,O),s.has(i)||(s.set(i,[]),p.add(i)),s.get(i).push(S)}))})),p.forEach((function(e){i.get(e).call(e,s.get(e),e)}))}return s.prototype.observe=function(i){if(i instanceof window.Element){r.has(i)||(r.set(i,new Set),o.add(i),a.set(i,window.getComputedStyle(i)));var n=r.get(i);n.has(this)||n.add(this),cancelAnimationFrame(t),t=requestAnimationFrame(d)}},s.prototype.unobserve=function(i){if(i instanceof window.Element&&r.has(i)){var n=r.get(i);n.has(this)&&(n.delete(this),n.size||(r.delete(i),o.delete(i))),n.size||r.delete(i),o.size||cancelAnimationFrame(t)}},A.DOMRectReadOnly=c,A.ResizeObserver=s,A.ResizeObserverEntry=h,A}; // eslint-disable-line\nmpl.toolbar_items = [[\"Home\", \"Reset original view\", \"fa fa-home\", \"home\"], [\"Back\", \"Back to previous view\", \"fa fa-arrow-left\", \"back\"], [\"Forward\", \"Forward to next view\", \"fa fa-arrow-right\", \"forward\"], [\"\", \"\", \"\", \"\"], [\"Pan\", \"Left button pans, Right button zooms\\nx/y fixes axis, CTRL fixes aspect\", \"fa fa-arrows\", \"pan\"], [\"Zoom\", \"Zoom to rectangle\\nx/y fixes axis\", \"fa fa-square-o\", \"zoom\"], [\"\", \"\", \"\", \"\"], [\"Download\", \"Download plot\", \"fa fa-floppy-o\", \"download\"]];\n\nmpl.extensions = [\"eps\", \"jpeg\", \"pgf\", \"pdf\", \"png\", \"ps\", \"raw\", \"svg\", \"tif\", \"webp\"];\n\nmpl.default_extension = \"png\";/* global mpl */\n\nvar comm_websocket_adapter = function (comm) {\n    // Create a \"websocket\"-like object which calls the given IPython comm\n    // object with the appropriate methods. Currently this is a non binary\n    // socket, so there is still some room for performance tuning.\n    var ws = {};\n\n    ws.binaryType = comm.kernel.ws.binaryType;\n    ws.readyState = comm.kernel.ws.readyState;\n    function updateReadyState(_event) {\n        if (comm.kernel.ws) {\n            ws.readyState = comm.kernel.ws.readyState;\n        } else {\n            ws.readyState = 3; // Closed state.\n        }\n    }\n    comm.kernel.ws.addEventListener('open', updateReadyState);\n    comm.kernel.ws.addEventListener('close', updateReadyState);\n    comm.kernel.ws.addEventListener('error', updateReadyState);\n\n    ws.close = function () {\n        comm.close();\n    };\n    ws.send = function (m) {\n        //console.log('sending', m);\n        comm.send(m);\n    };\n    // Register the callback with on_msg.\n    comm.on_msg(function (msg) {\n        //console.log('receiving', msg['content']['data'], msg);\n        var data = msg['content']['data'];\n        if (data['blob'] !== undefined) {\n            data = {\n                data: new Blob(msg['buffers'], { type: data['blob'] }),\n            };\n        }\n        // Pass the mpl event to the overridden (by mpl) onmessage function.\n        ws.onmessage(data);\n    });\n    return ws;\n};\n\nmpl.mpl_figure_comm = function (comm, msg) {\n    // This is the function which gets called when the mpl process\n    // starts-up an IPython Comm through the \"matplotlib\" channel.\n\n    var id = msg.content.data.id;\n    // Get hold of the div created by the display call when the Comm\n    // socket was opened in Python.\n    var element = document.getElementById(id);\n    var ws_proxy = comm_websocket_adapter(comm);\n\n    function ondownload(figure, _format) {\n        window.open(figure.canvas.toDataURL());\n    }\n\n    var fig = new mpl.figure(id, ws_proxy, ondownload, element);\n\n    // Call onopen now - mpl needs it, as it is assuming we've passed it a real\n    // web socket which is closed, not our websocket->open comm proxy.\n    ws_proxy.onopen();\n\n    fig.parent_element = element;\n    fig.cell_info = mpl.find_output_cell(\"<div id='\" + id + \"'></div>\");\n    if (!fig.cell_info) {\n        console.error('Failed to find cell for figure', id, fig);\n        return;\n    }\n    fig.cell_info[0].output_area.element.on(\n        'cleared',\n        { fig: fig },\n        fig._remove_fig_handler\n    );\n};\n\nmpl.figure.prototype.handle_close = function (fig, msg) {\n    var width = fig.canvas.width / fig.ratio;\n    fig.cell_info[0].output_area.element.off(\n        'cleared',\n        fig._remove_fig_handler\n    );\n    fig.resizeObserverInstance.unobserve(fig.canvas_div);\n\n    // Update the output cell to use the data from the current canvas.\n    fig.push_to_output();\n    var dataURL = fig.canvas.toDataURL();\n    // Re-enable the keyboard manager in IPython - without this line, in FF,\n    // the notebook keyboard shortcuts fail.\n    IPython.keyboard_manager.enable();\n    fig.parent_element.innerHTML =\n        '<img src=\"' + dataURL + '\" width=\"' + width + '\">';\n    fig.close_ws(fig, msg);\n};\n\nmpl.figure.prototype.close_ws = function (fig, msg) {\n    fig.send_message('closing', msg);\n    // fig.ws.close()\n};\n\nmpl.figure.prototype.push_to_output = function (_remove_interactive) {\n    // Turn the data on the canvas into data in the output cell.\n    var width = this.canvas.width / this.ratio;\n    var dataURL = this.canvas.toDataURL();\n    this.cell_info[1]['text/html'] =\n        '<img src=\"' + dataURL + '\" width=\"' + width + '\">';\n};\n\nmpl.figure.prototype.updated_canvas_event = function () {\n    // Tell IPython that the notebook contents must change.\n    IPython.notebook.set_dirty(true);\n    this.send_message('ack', {});\n    var fig = this;\n    // Wait a second, then push the new image to the DOM so\n    // that it is saved nicely (might be nice to debounce this).\n    setTimeout(function () {\n        fig.push_to_output();\n    }, 1000);\n};\n\nmpl.figure.prototype._init_toolbar = function () {\n    var fig = this;\n\n    var toolbar = document.createElement('div');\n    toolbar.classList = 'btn-toolbar';\n    this.root.appendChild(toolbar);\n\n    function on_click_closure(name) {\n        return function (_event) {\n            return fig.toolbar_button_onclick(name);\n        };\n    }\n\n    function on_mouseover_closure(tooltip) {\n        return function (event) {\n            if (!event.currentTarget.disabled) {\n                return fig.toolbar_button_onmouseover(tooltip);\n            }\n        };\n    }\n\n    fig.buttons = {};\n    var buttonGroup = document.createElement('div');\n    buttonGroup.classList = 'btn-group';\n    var button;\n    for (var toolbar_ind in mpl.toolbar_items) {\n        var name = mpl.toolbar_items[toolbar_ind][0];\n        var tooltip = mpl.toolbar_items[toolbar_ind][1];\n        var image = mpl.toolbar_items[toolbar_ind][2];\n        var method_name = mpl.toolbar_items[toolbar_ind][3];\n\n        if (!name) {\n            /* Instead of a spacer, we start a new button group. */\n            if (buttonGroup.hasChildNodes()) {\n                toolbar.appendChild(buttonGroup);\n            }\n            buttonGroup = document.createElement('div');\n            buttonGroup.classList = 'btn-group';\n            continue;\n        }\n\n        button = fig.buttons[name] = document.createElement('button');\n        button.classList = 'btn btn-default';\n        button.href = '#';\n        button.title = name;\n        button.innerHTML = '<i class=\"fa ' + image + ' fa-lg\"></i>';\n        button.addEventListener('click', on_click_closure(method_name));\n        button.addEventListener('mouseover', on_mouseover_closure(tooltip));\n        buttonGroup.appendChild(button);\n    }\n\n    if (buttonGroup.hasChildNodes()) {\n        toolbar.appendChild(buttonGroup);\n    }\n\n    // Add the status bar.\n    var status_bar = document.createElement('span');\n    status_bar.classList = 'mpl-message pull-right';\n    toolbar.appendChild(status_bar);\n    this.message = status_bar;\n\n    // Add the close button to the window.\n    var buttongrp = document.createElement('div');\n    buttongrp.classList = 'btn-group inline pull-right';\n    button = document.createElement('button');\n    button.classList = 'btn btn-mini btn-primary';\n    button.href = '#';\n    button.title = 'Stop Interaction';\n    button.innerHTML = '<i class=\"fa fa-power-off icon-remove icon-large\"></i>';\n    button.addEventListener('click', function (_evt) {\n        fig.handle_close(fig, {});\n    });\n    button.addEventListener(\n        'mouseover',\n        on_mouseover_closure('Stop Interaction')\n    );\n    buttongrp.appendChild(button);\n    var titlebar = this.root.querySelector('.ui-dialog-titlebar');\n    titlebar.insertBefore(buttongrp, titlebar.firstChild);\n};\n\nmpl.figure.prototype._remove_fig_handler = function (event) {\n    var fig = event.data.fig;\n    if (event.target !== this) {\n        // Ignore bubbled events from children.\n        return;\n    }\n    fig.close_ws(fig, {});\n};\n\nmpl.figure.prototype._root_extra_style = function (el) {\n    el.style.boxSizing = 'content-box'; // override notebook setting of border-box.\n};\n\nmpl.figure.prototype._canvas_extra_style = function (el) {\n    // this is important to make the div 'focusable\n    el.setAttribute('tabindex', 0);\n    // reach out to IPython and tell the keyboard manager to turn it's self\n    // off when our div gets focus\n\n    // location in version 3\n    if (IPython.notebook.keyboard_manager) {\n        IPython.notebook.keyboard_manager.register_events(el);\n    } else {\n        // location in version 2\n        IPython.keyboard_manager.register_events(el);\n    }\n};\n\nmpl.figure.prototype._key_event_extra = function (event, _name) {\n    // Check for shift+enter\n    if (event.shiftKey && event.which === 13) {\n        this.canvas_div.blur();\n        // select the cell after this one\n        var index = IPython.notebook.find_cell_index(this.cell_info[0]);\n        IPython.notebook.select(index + 1);\n    }\n};\n\nmpl.figure.prototype.handle_save = function (fig, _msg) {\n    fig.ondownload(fig, null);\n};\n\nmpl.find_output_cell = function (html_output) {\n    // Return the cell and output element which can be found *uniquely* in the notebook.\n    // Note - this is a bit hacky, but it is done because the \"notebook_saving.Notebook\"\n    // IPython event is triggered only after the cells have been serialised, which for\n    // our purposes (turning an active figure into a static one), is too late.\n    var cells = IPython.notebook.get_cells();\n    var ncells = cells.length;\n    for (var i = 0; i < ncells; i++) {\n        var cell = cells[i];\n        if (cell.cell_type === 'code') {\n            for (var j = 0; j < cell.output_area.outputs.length; j++) {\n                var data = cell.output_area.outputs[j];\n                if (data.data) {\n                    // IPython >= 3 moved mimebundle to data attribute of output\n                    data = data.data;\n                }\n                if (data['text/html'] === html_output) {\n                    return [cell, data, j];\n                }\n            }\n        }\n    }\n};\n\n// Register the function which deals with the matplotlib target/channel.\n// The kernel may be null if the page has been refreshed.\nif (IPython.notebook.kernel !== null) {\n    IPython.notebook.kernel.comm_manager.register_target(\n        'matplotlib',\n        mpl.mpl_figure_comm\n    );\n}\n"
     },
     "metadata": {},
     "output_type": "display_data"
    },
    {
     "data": {
      "text/plain": [
       "<IPython.core.display.HTML object>"
      ],
      "text/html": [
       "<div id='3d54796d-685e-4df5-ac36-d0440644b607'></div>"
      ]
     },
     "metadata": {},
     "output_type": "display_data"
    },
    {
     "name": "stdout",
     "output_type": "stream",
     "text": [
      "Plotted 47197 data points\n",
      "A100 pressure range: 1.18e-02 to 1.02e+03\n",
      "A200 pressure range: 1.04e-02 to 1.01e+03\n",
      "Chiller temperature range: 17.53°C to 29.91°C\n"
     ]
    }
   ],
   "execution_count": 76
  },
  {
   "cell_type": "code",
   "execution_count": null,
   "id": "ef839311",
   "metadata": {},
   "outputs": [],
   "source": [
    "# Get current monitoring summary\n",
    "get_monitoring_summary()"
   ]
  },
  {
   "cell_type": "markdown",
   "id": "6c6b5c30",
   "metadata": {},
   "source": [
    "### 9.2 Live Plotting"
   ]
  },
  {
   "cell_type": "code",
   "id": "2b9a0da9",
   "metadata": {
    "ExecuteTime": {
     "end_time": "2025-09-10T09:02:09.512930Z",
     "start_time": "2025-09-10T09:02:09.498387Z"
    }
   },
   "source": [
    "import matplotlib.pyplot as plt\n",
    "from matplotlib.animation import FuncAnimation\n",
    "import numpy as np\n",
    "\n",
    "class DualPressureTemperaturePlotter:\n",
    "    def __init__(self, controller, update_interval=1000):\n",
    "        \"\"\"\n",
    "        Initialize live monitoring plot for dual pressure and temperature\n",
    "        Args:\n",
    "            controller: The controller object with monitoring_data\n",
    "            update_interval: Update interval in milliseconds (default: 1000ms = 1 second)\n",
    "        \"\"\"\n",
    "        self.controller = controller\n",
    "        self.update_interval = update_interval\n",
    "\n",
    "        # Initialize data lists\n",
    "        self.timestamps = []\n",
    "        self.a100_pressure = []\n",
    "        self.a200_pressure = []\n",
    "        self.chiller_current_temp = []\n",
    "\n",
    "        # Create figure and subplots (2 rows, 1 column)\n",
    "        self.fig, (self.ax1, self.ax2) = plt.subplots(2, 1, figsize=(10, 8))\n",
    "\n",
    "        self.temp_log = []\n",
    "        self.log_file_size = 0\n",
    "\n",
    "    def update_plot(self, frame):\n",
    "        # Get new data\n",
    "        current_size = len(self.controller.monitoring_data)\n",
    "        if current_size > self.log_file_size:\n",
    "            new_entries = self.controller.monitoring_data[self.log_file_size:]\n",
    "            self.temp_log.extend(new_entries)\n",
    "            self.log_file_size = current_size\n",
    "\n",
    "        # Process new entries\n",
    "        for entry in self.temp_log:\n",
    "            self.timestamps.append(entry['cycle_timestamp'])\n",
    "            \n",
    "            # Extract pressure data\n",
    "            self.a100_pressure.append(entry['a100_data']['pressure_value'] if entry['a100_data'] and entry['a100_data'].get('pressure_value') else None)\n",
    "            self.a200_pressure.append(entry['a200_data']['pressure_value'] if entry['a200_data'] and entry['a200_data'].get('pressure_value') else None)\n",
    "            \n",
    "            # Extract temperature data\n",
    "            self.chiller_current_temp.append(entry['chiller_data']['current_temperature'] if entry['chiller_data'] and entry['chiller_data'].get('current_temperature') else None)\n",
    "\n",
    "        # Clear temp_log after processing to avoid reprocessing\n",
    "        self.temp_log = []\n",
    "\n",
    "        # Clear only the axes, not the entire figure\n",
    "        self.ax1.clear()\n",
    "        self.ax2.clear()\n",
    "\n",
    "        # Filter out None values for plotting\n",
    "        valid_pressure_data = [(t, a100, a200) for t, a100, a200 in zip(self.timestamps, self.a100_pressure, self.a200_pressure)\n",
    "                              if a100 is not None or a200 is not None]\n",
    "        \n",
    "        valid_temp_data = [(t, curr) for t, curr in zip(self.timestamps, self.chiller_current_temp)\n",
    "                          if curr is not None]\n",
    "\n",
    "        # Plot pressure data (ax1) - last 120 points only\n",
    "        if valid_pressure_data:\n",
    "            times_p, a100_vals, a200_vals = zip(*valid_pressure_data)\n",
    "\n",
    "            # Plot A100 data (filter None values) - BLUE with circle marker\n",
    "            a100_valid = [(t, p) for t, p in zip(times_p, a100_vals) if p is not None]\n",
    "            if a100_valid:\n",
    "                t_a100, p_a100 = zip(*a100_valid)\n",
    "                if len(t_a100) > 120:\n",
    "                    self.ax1.plot(t_a100[-119:], p_a100[-119:], 'b-', label='$P_{A100}$', marker='o')\n",
    "                else:\n",
    "                    self.ax1.plot(t_a100, p_a100, 'b-', label='$P_{A100}$', marker='o')\n",
    "\n",
    "            # Plot A200 data (filter None values) - RED with triangle marker\n",
    "            a200_valid = [(t, p) for t, p in zip(times_p, a200_vals) if p is not None]\n",
    "            if a200_valid:\n",
    "                t_a200, p_a200 = zip(*a200_valid)\n",
    "                if len(t_a200) > 120:\n",
    "                    self.ax1.plot(t_a200[-119:], p_a200[-119:], 'r-', label='$P_{A200}$', marker='^')\n",
    "                else:\n",
    "                    self.ax1.plot(t_a200, p_a200, 'r-', label='$P_{A200}$', marker='^')\n",
    "\n",
    "        # Use logarithmic scale for pressure if values are very small (typical for vacuum)\n",
    "        self.ax1.set_yscale('log')\n",
    "        self.ax1.set_ylabel('Pressure (log scale)')\n",
    "        self.ax1.set_title('A100 & A200 Pressure Over Time')\n",
    "        self.ax1.legend()\n",
    "        self.ax1.grid(True)\n",
    "\n",
    "        # Plot temperature data (ax2) - last 120 points only\n",
    "        if valid_temp_data:\n",
    "            times_t, curr_temps = zip(*valid_temp_data)\n",
    "\n",
    "            # Plot current temperature - GREEN with square marker\n",
    "            curr_temp_valid = [(t, temp) for t, temp in zip(times_t, curr_temps) if temp is not None]\n",
    "            if curr_temp_valid:\n",
    "                t_curr, temp_curr = zip(*curr_temp_valid)\n",
    "                if len(t_curr) > 120:\n",
    "                    self.ax2.plot(t_curr[-119:], temp_curr[-119:], 'g-', label='$T_{Cooling}$', marker='s')\n",
    "                else:\n",
    "                    self.ax2.plot(t_curr, temp_curr, 'g-', label='$T_{Cooling}$', marker='s')\n",
    "\n",
    "\n",
    "        self.ax2.set_ylabel('Temperature (degC)')\n",
    "        self.ax2.set_xlabel('Time')\n",
    "        self.ax2.set_title('Chiller: Water Temperature Over Time')\n",
    "        self.ax2.legend()\n",
    "        self.ax2.grid(True)\n",
    "\n",
    "        # Rotate x-axis labels for better readability\n",
    "        self.ax1.tick_params(axis='x', rotation=45)\n",
    "        self.ax2.tick_params(axis='x', rotation=45)\n",
    "\n",
    "        # Adjust layout\n",
    "        self.fig.tight_layout()\n",
    "\n",
    "    def start_live_plot(self):\n",
    "        \"\"\"Start the live plotting\"\"\"\n",
    "        if not self.controller.monitoring_data:\n",
    "            print(\"No monitoring data available. Start monitoring first.\")\n",
    "            return None, None\n",
    "\n",
    "        print(f\"Starting live plot with {self.update_interval/1000}s update interval...\")\n",
    "        print(\"Close the plot window to stop live plotting.\")\n",
    "\n",
    "        # Create animation\n",
    "        self.ani = FuncAnimation(\n",
    "            self.fig,\n",
    "            self.update_plot,\n",
    "            interval=self.update_interval,\n",
    "            blit=False,  # Set to False for easier debugging\n",
    "            cache_frame_data=False\n",
    "        )\n",
    "\n",
    "        # Show the plot\n",
    "        plt.show()\n",
    "\n",
    "        return self.timestamps, self.controller.monitoring_data\n",
    "\n",
    "    def stop_live_plot(self):\n",
    "        \"\"\"Stop the live plotting\"\"\"\n",
    "        if hasattr(self, 'ani'):\n",
    "            self.ani.event_source.stop()\n",
    "            print(\"Live plotting stopped.\")\n",
    "        else:\n",
    "            print(\"No animation to stop.\")\n",
    "\n",
    "print(\"Live plotting class ready\")"
   ],
   "outputs": [
    {
     "name": "stdout",
     "output_type": "stream",
     "text": [
      "Live plotting class ready\n"
     ]
    }
   ],
   "execution_count": 19
  },
  {
   "metadata": {
    "ExecuteTime": {
     "end_time": "2025-09-10T13:13:47.791522Z",
     "start_time": "2025-09-10T13:13:47.787507Z"
    }
   },
   "cell_type": "code",
   "source": [
    "a = 6e-34 * 1e18\n",
    "print(a)"
   ],
   "id": "cd6283bed7acfd45",
   "outputs": [
    {
     "name": "stdout",
     "output_type": "stream",
     "text": [
      "6e-16\n"
     ]
    }
   ],
   "execution_count": 27
  },
  {
   "cell_type": "code",
   "id": "aff1fe95",
   "metadata": {
    "ExecuteTime": {
     "end_time": "2025-09-10T09:01:42.436087Z",
     "start_time": "2025-09-10T09:01:42.429567Z"
    }
   },
   "source": "%matplotlib notebooks",
   "outputs": [],
   "execution_count": 16
  },
  {
   "cell_type": "code",
   "id": "2aaf3589",
   "metadata": {},
   "source": [
    "# Start live plotting\n",
    "live_plot = DualPressureTemperaturePlotter(controller)\n",
    "timestamps, data = live_plot.start_live_plot()"
   ],
   "outputs": [],
   "execution_count": null
  },
  {
   "cell_type": "code",
   "id": "4f86ff99",
   "metadata": {
    "ExecuteTime": {
     "end_time": "2025-09-10T11:19:41.537030Z",
     "start_time": "2025-09-10T11:19:41.533192Z"
    }
   },
   "source": [
    "# Stop live plotting\n",
    "live_plot.stop_live_plot()"
   ],
   "outputs": [
    {
     "name": "stdout",
     "output_type": "stream",
     "text": [
      "Live plotting stopped.\n"
     ]
    }
   ],
   "execution_count": 25
  },
  {
   "cell_type": "markdown",
   "id": "a84c148a",
   "metadata": {},
   "source": [
    "## 10. Data Export and Cleanup"
   ]
  },
  {
   "cell_type": "code",
   "id": "458752d8",
   "metadata": {
    "ExecuteTime": {
     "end_time": "2025-09-10T14:28:00.814392Z",
     "start_time": "2025-09-10T14:28:00.806379Z"
    }
   },
   "source": [
    "def export_monitoring_data(filename: str = None):\n",
    "    \"\"\"Export monitoring data to CSV file\"\"\"\n",
    "    if not controller.monitoring_data:\n",
    "        print(\"No data to export\")\n",
    "        return\n",
    "    \n",
    "    if filename is None:\n",
    "        timestamp = datetime.now().strftime('%Y%m%d_%H%M%S')\n",
    "        filename = f\"a100_a200_chiller_data_{timestamp}.csv\"\n",
    "    \n",
    "    # Flatten the data for CSV export\n",
    "    flattened_data = []\n",
    "    for cycle in controller.monitoring_data:\n",
    "        row = {'timestamp': cycle['cycle_timestamp']}\n",
    "        \n",
    "        # Add A100 data\n",
    "        if cycle['a100_data']:\n",
    "            for key, value in cycle['a100_data'].items():\n",
    "                row[f'a100_{key}'] = value\n",
    "        \n",
    "        # Add A200 data\n",
    "        if cycle['a200_data']:\n",
    "            for key, value in cycle['a200_data'].items():\n",
    "                row[f'a200_{key}'] = value\n",
    "        \n",
    "        # Add chiller data\n",
    "        if cycle['chiller_data']:\n",
    "            for key, value in cycle['chiller_data'].items():\n",
    "                row[f'chiller_{key}'] = value\n",
    "        \n",
    "        flattened_data.append(row)\n",
    "    \n",
    "    df = pd.DataFrame(flattened_data)\n",
    "    df.to_csv(filename, index=False)\n",
    "    logger.info(f\"Data exported to {filename}\")\n",
    "    print(f\"✅ Data exported to {filename}\")\n",
    "\n",
    "def save_monitoring_data_pickle(filename: str = None):\n",
    "    \"\"\"Save monitoring data as pickle file\"\"\"\n",
    "    if not controller.monitoring_data:\n",
    "        print(\"No data to save\")\n",
    "        return\n",
    "        \n",
    "    if filename is None:\n",
    "        timestamp = datetime.now().strftime('%Y%m%d_%H%M%S')\n",
    "        filename = f\"a100_a200_chiller_data_{timestamp}.pkl\"\n",
    "    \n",
    "    with open(filename, 'wb') as f:\n",
    "        pickle.dump(controller.monitoring_data, f)\n",
    "    \n",
    "    logger.info(f\"Data saved to pickle file: {filename}\")\n",
    "    print(f\"✅ Data saved to pickle file: {filename}\")\n",
    "\n",
    "def load_monitoring_data_pickle(filename: str):\n",
    "    \"\"\"Load monitoring data from pickle file\"\"\"\n",
    "    try:\n",
    "        with open(filename, 'rb') as f:\n",
    "            loaded_data = pickle.load(f)\n",
    "        \n",
    "        controller.monitoring_data = loaded_data\n",
    "        logger.info(f\"Data loaded from pickle file: {filename}\")\n",
    "        print(f\"✅ Data loaded from pickle file: {filename}\")\n",
    "        print(f\"Loaded {len(loaded_data)} data points\")\n",
    "        \n",
    "    except Exception as e:\n",
    "        logger.error(f\"Error loading data from {filename}: {e}\")\n",
    "        print(f\"❌ Error loading data from {filename}: {e}\")\n",
    "\n",
    "print(\"Data export functions ready\")"
   ],
   "outputs": [
    {
     "name": "stdout",
     "output_type": "stream",
     "text": [
      "Data export functions ready\n"
     ]
    }
   ],
   "execution_count": 98
  },
  {
   "cell_type": "code",
   "id": "44a0ff34",
   "metadata": {
    "ExecuteTime": {
     "end_time": "2025-09-10T14:28:05.137311Z",
     "start_time": "2025-09-10T14:28:04.321404Z"
    }
   },
   "source": [
    "# Export current monitoring data\n",
    "timestamp = datetime.now().strftime('%d-%m-%Y_%H%M')\n",
    "export_monitoring_data(f\"{timestamp}_a100_a200_chiller_data.csv\")"
   ],
   "outputs": [
    {
     "name": "stderr",
     "output_type": "stream",
     "text": [
      "2025-09-10 16:28:05 | INFO | Data exported to 10-09-2025_1628_a100_a200_chiller_data.csv\n"
     ]
    },
    {
     "name": "stdout",
     "output_type": "stream",
     "text": [
      "✅ Data exported to 10-09-2025_1628_a100_a200_chiller_data.csv\n"
     ]
    }
   ],
   "execution_count": 99
  },
  {
   "cell_type": "code",
   "id": "a2315c28",
   "metadata": {
    "ExecuteTime": {
     "end_time": "2025-09-10T14:28:06.202619Z",
     "start_time": "2025-09-10T14:28:05.898085Z"
    }
   },
   "source": [
    "# Save monitoring data as pickle\n",
    "timestamp = datetime.now().strftime('%d-%m-%Y_%H%M')\n",
    "save_monitoring_data_pickle(f\"{timestamp}_a100_a200_chiller_data.pkl\")"
   ],
   "outputs": [
    {
     "name": "stderr",
     "output_type": "stream",
     "text": [
      "2025-09-10 16:28:06 | INFO | Data saved to pickle file: 10-09-2025_1628_a100_a200_chiller_data.pkl\n"
     ]
    },
    {
     "name": "stdout",
     "output_type": "stream",
     "text": [
      "✅ Data saved to pickle file: 10-09-2025_1628_a100_a200_chiller_data.pkl\n"
     ]
    }
   ],
   "execution_count": 100
  },
  {
   "cell_type": "code",
   "id": "39334691",
   "metadata": {
    "ExecuteTime": {
     "end_time": "2025-09-10T14:28:08.164104Z",
     "start_time": "2025-09-10T14:28:08.154716Z"
    }
   },
   "source": [
    "# Emergency disconnect all devices\n",
    "controller.disconnect_all()"
   ],
   "outputs": [
    {
     "name": "stderr",
     "output_type": "stream",
     "text": [
      "2025-09-10 16:28:08 | INFO | Disconnecting all devices...\n",
      "2025-09-10 16:28:08 | INFO | Monitoring is not currently active\n",
      "2025-09-10 16:28:08 | INFO | Disconnected from Pfeiffer device tpg366_dual_pressure\n",
      "2025-09-10 16:28:08 | INFO | TPG366 pressure controller disconnected\n",
      "2025-09-10 16:28:08 | INFO | Disconnected from chiller lauda_chiller\n",
      "2025-09-10 16:28:08 | INFO | Chiller disconnected\n",
      "2025-09-10 16:28:08 | SUCCESS | All devices disconnected\n"
     ]
    }
   ],
   "execution_count": 101
  },
  {
   "cell_type": "code",
   "execution_count": null,
   "id": "25683ca5",
   "metadata": {},
   "outputs": [],
   "source": [
    "# Emergency stop and cleanup\n",
    "print(\"🛑 Emergency Stop - Disconnecting all devices...\")\n",
    "controller.disconnect_all()\n",
    "print(\"✅ All devices disconnected safely\")\n",
    "print(\"\\nTo reconnect, run the connection cells again.\")"
   ]
  },
  {
   "cell_type": "markdown",
   "id": "cb458ac4",
   "metadata": {},
   "source": [
    "## Quick Reference\n",
    "\n",
    "### Key Functions:\n",
    "- **Connect devices**: Run cells in section 6\n",
    "- **Start monitoring**: Use the interface in section 8 or call `controller.start_monitoring(interval)`\n",
    "- **Stop monitoring**: Use the interface in section 8 or call `controller.stop_monitoring()`\n",
    "- **View data**: Run `get_monitoring_summary()` and `plot_monitoring_data()`\n",
    "- **Export data**: Run `export_monitoring_data()` or `save_monitoring_data_pickle()`\n",
    "- **Emergency stop**: Run the last cell to disconnect everything\n",
    "\n",
    "### Test Configuration:\n",
    "- **A100 Pressure**: TPG366 Channel 1\n",
    "- **A200 Pressure**: TPG366 Channel 2  \n",
    "- **Chiller Temperature**: Current and set temperature monitoring\n",
    "- **Data Logging**: All values logged simultaneously with timestamps\n",
    "\n",
    "### Key Improvements from Original 008:\n",
    "- Dual pressure sensor monitoring (A100 & A200) instead of single sensor\n",
    "- Added chiller (Lauda) temperature monitoring and control\n",
    "- Enhanced live plotting with temperature display\n",
    "- Updated data export functions to include all three data streams\n",
    "- Shared logging system for all devices (TPG366 + Chiller)\n",
    "- Real-time visualization of pressure and temperature trends\n",
    "\n",
    "### Device Configuration:\n",
    "- Pressure Controller: TPG366 (standard address 10, channels 1 & 2)\n",
    "- Chiller: Lauda (COM3, temperature monitoring and control)\n",
    "- All devices use shared logger and thread synchronization\n",
    "\n",
    "### Live Monitoring Features:\n",
    "- **Pressure**: A100 and A200 on logarithmic scale (typical for vacuum measurements)\n",
    "- **Temperature**: Current vs. set temperature comparison  \n",
    "- **Real-time Updates**: Configurable interval from 0.1 to 30 seconds\n",
    "- **Data Export**: CSV and pickle formats for analysis\n",
    "- **Thread-Safe**: Proper synchronization for all device communications"
   ]
  },
  {
   "metadata": {
    "ExecuteTime": {
     "end_time": "2025-09-10T14:27:21.434375Z",
     "start_time": "2025-09-10T14:27:20.979744Z"
    }
   },
   "cell_type": "code",
   "source": [
    "import pandas as pd\n",
    "import hvplot.pandas\n",
    "import holoviews as hv\n",
    "from bokeh.plotting import output_file, save\n",
    "from bokeh.io import curdoc\n",
    "import numpy as np\n",
    "\n",
    "# Initialize HoloViews with Bokeh backend\n",
    "hv.extension('bokeh')\n",
    "\n",
    "def create_interactive_monitoring_plot(save_path=\"monitoring_data.html\", downsample_factor=10):\n",
    "    \"\"\"Create an interactive HTML plot using hvPlot for monitoring data\n",
    "\n",
    "    Args:\n",
    "        save_path: Path to save HTML file\n",
    "        downsample_factor: Reduce data points by this factor for performance (10 = every 10th point)\n",
    "    \"\"\"\n",
    "    if not controller.monitoring_data:\n",
    "        print(\"No monitoring data available. Start monitoring first.\")\n",
    "        return\n",
    "\n",
    "    print(f\"Processing {len(controller.monitoring_data)} data points...\")\n",
    "\n",
    "    # Convert monitoring data to pandas DataFrame with downsampling for performance\n",
    "    data_records = []\n",
    "    for i, cycle in enumerate(controller.monitoring_data):\n",
    "        # Downsample for performance with large datasets\n",
    "        if i % downsample_factor != 0:\n",
    "            continue\n",
    "\n",
    "        record = {\n",
    "            'timestamp': cycle['cycle_timestamp'],\n",
    "            'a100_pressure': cycle['a100_data']['pressure_value'] if cycle['a100_data'] and cycle['a100_data'].get('pressure_value') else np.nan,\n",
    "            'a200_pressure': cycle['a200_data']['pressure_value'] if cycle['a200_data'] and cycle['a200_data'].get('pressure_value') else np.nan,\n",
    "            'chiller_current_temp': cycle['chiller_data']['current_temperature'] if cycle['chiller_data'] and cycle['chiller_data'].get('current_temperature') else np.nan,\n",
    "        }\n",
    "        data_records.append(record)\n",
    "\n",
    "    df = pd.DataFrame(data_records)\n",
    "    print(f\"DataFrame created with {len(df)} points (downsampled from {len(controller.monitoring_data)})\")\n",
    "\n",
    "    # Check data validity\n",
    "    print(f\"A100 pressure valid points: {df['a100_pressure'].notna().sum()}\")\n",
    "    print(f\"A200 pressure valid points: {df['a200_pressure'].notna().sum()}\")\n",
    "    print(f\"Temperature valid points: {df['chiller_current_temp'].notna().sum()}\")\n",
    "\n",
    "    if df.empty:\n",
    "        print(\"No valid data to plot!\")\n",
    "        return None\n",
    "\n",
    "    try:\n",
    "        # Create pressure plot with logarithmic scale\n",
    "        pressure_plot = df.hvplot.line(\n",
    "            x='timestamp',\n",
    "            y=['a100_pressure', 'a200_pressure'],\n",
    "            logy=True,\n",
    "            title='A100 & A200 Pressure Over Time (Log Scale)',\n",
    "            ylabel='Pressure (log scale) // hpa',\n",
    "            xlabel='',\n",
    "            width=900,\n",
    "            height=400,\n",
    "            color=['blue', 'red'],\n",
    "            line_width=1.5,\n",
    "            alpha=0.8,\n",
    "            tools=['hover', 'pan', 'wheel_zoom', 'box_zoom', 'reset', 'save'],\n",
    "            hover_cols=['timestamp'],\n",
    "            legend='top_right'\n",
    "        ).opts(\n",
    "            show_grid=True,\n",
    "            toolbar='above'\n",
    "        )\n",
    "\n",
    "        # Create temperature plot\n",
    "        temp_plot = df.hvplot.line(\n",
    "            x='timestamp',\n",
    "            y='chiller_current_temp',\n",
    "            title='Chiller Temperature Over Time',\n",
    "            ylabel='Temperature // degC',\n",
    "            xlabel='Time',\n",
    "            width=900,\n",
    "            height=400,\n",
    "            color='green',\n",
    "            line_width=1.5,\n",
    "            alpha=0.8,\n",
    "            tools=['hover', 'pan', 'wheel_zoom', 'box_zoom', 'reset', 'save'],\n",
    "            hover_cols=['timestamp']\n",
    "        ).opts(\n",
    "            show_grid=True,\n",
    "            toolbar='above'\n",
    "        )\n",
    "\n",
    "        # Combine plots vertically with shared x-axis\n",
    "        combined_plot = (pressure_plot + temp_plot).cols(1).opts(shared_axes=True)\n",
    "\n",
    "        # Save the plot - try multiple methods\n",
    "        success = False\n",
    "\n",
    "        # Method 1: Direct hvplot save\n",
    "        try:\n",
    "            combined_plot.save(save_path)\n",
    "            print(f\"✅ Plot saved successfully: {save_path}\")\n",
    "            success = True\n",
    "        except Exception as e:\n",
    "            print(f\"❌ hvplot.save() failed: {e}\")\n",
    "\n",
    "        # Method 2: HoloViews renderer\n",
    "        if not success:\n",
    "            try:\n",
    "                renderer = hv.renderer('bokeh').instance(fig='html')\n",
    "                renderer.save(combined_plot, save_path)\n",
    "                print(f\"✅ Plot saved via HoloViews renderer: {save_path}\")\n",
    "                success = True\n",
    "            except Exception as e:\n",
    "                print(f\"❌ HoloViews renderer failed: {e}\")\n",
    "\n",
    "        # Method 3: Convert to Bokeh plot directly\n",
    "        if not success:\n",
    "            try:\n",
    "                from bokeh.plotting import output_file, save\n",
    "                bokeh_plot = hv.render(combined_plot, backend='bokeh')\n",
    "                output_file(save_path)\n",
    "                save(bokeh_plot)\n",
    "                print(f\"✅ Plot saved via Bokeh: {save_path}\")\n",
    "                success = True\n",
    "            except Exception as e:\n",
    "                print(f\"❌ Bokeh save failed: {e}\")\n",
    "\n",
    "        if not success:\n",
    "            print(\"❌ All save methods failed!\")\n",
    "            return None\n",
    "\n",
    "        # Print statistics\n",
    "        print(f\"\\n📊 Plot Statistics:\")\n",
    "        print(f\"   Total original data points: {len(controller.monitoring_data)}\")\n",
    "        print(f\"   Plotted data points: {len(df)} (downsampled by factor {downsample_factor})\")\n",
    "\n",
    "        valid_a100 = df['a100_pressure'].dropna()\n",
    "        valid_a200 = df['a200_pressure'].dropna()\n",
    "        valid_temp = df['chiller_current_temp'].dropna()\n",
    "\n",
    "        if len(valid_a100) > 0:\n",
    "            print(f\"   A100 pressure range: {valid_a100.min():.2e} to {valid_a100.max():.2e}\")\n",
    "        if len(valid_a200) > 0:\n",
    "            print(f\"   A200 pressure range: {valid_a200.min():.2e} to {valid_a200.max():.2e}\")\n",
    "        if len(valid_temp) > 0:\n",
    "            print(f\"   Temperature range: {valid_temp.min():.2f}°C to {valid_temp.max():.2f}°C\")\n",
    "\n",
    "        return combined_plot\n",
    "\n",
    "    except Exception as e:\n",
    "        print(f\"❌ Error creating plots: {e}\")\n",
    "        import traceback\n",
    "        traceback.print_exc()\n",
    "        return None\n",
    "\n",
    "def create_bokeh_fallback_plot(save_path=\"monitoring_bokeh.html\", downsample_factor=10):\n",
    "    \"\"\"Fallback: Create plot directly with Bokeh\"\"\"\n",
    "    if not controller.monitoring_data:\n",
    "        print(\"No monitoring data available.\")\n",
    "        return\n",
    "\n",
    "    from bokeh.plotting import figure, save, output_file\n",
    "    from bokeh.layouts import column\n",
    "    from bokeh.models import DatetimeTickFormatter, HoverTool\n",
    "\n",
    "    print(f\"Creating Bokeh plot with {len(controller.monitoring_data)} data points...\")\n",
    "\n",
    "    # Extract and downsample data\n",
    "    timestamps = []\n",
    "    a100_pressure = []\n",
    "    a200_pressure = []\n",
    "    chiller_current_temp = []\n",
    "\n",
    "    for i, cycle in enumerate(controller.monitoring_data):\n",
    "        if i % downsample_factor != 0:\n",
    "            continue\n",
    "\n",
    "        timestamps.append(cycle['cycle_timestamp'])\n",
    "\n",
    "        a100_val = cycle['a100_data']['pressure_value'] if cycle['a100_data'] and cycle['a100_data'].get('pressure_value') else None\n",
    "        a200_val = cycle['a200_data']['pressure_value'] if cycle['a200_data'] and cycle['a200_data'].get('pressure_value') else None\n",
    "        temp_val = cycle['chiller_data']['current_temperature'] if cycle['chiller_data'] and cycle['chiller_data'].get('current_temperature') else None\n",
    "\n",
    "        a100_pressure.append(a100_val)\n",
    "        a200_pressure.append(a200_val)\n",
    "        chiller_current_temp.append(temp_val)\n",
    "\n",
    "    print(f\"Downsampled to {len(timestamps)} points\")\n",
    "\n",
    "    # Create pressure plot with hover tool\n",
    "    hover1 = HoverTool(tooltips=[(\"Time\", \"@x{%H:%M:%S}\"), (\"Pressure\", \"@y{0.00e+0}\")],\n",
    "                       formatters={'@x': 'datetime'})\n",
    "\n",
    "    p1 = figure(title=\"A100 & A200 Pressure Over Time (Log Scale)\",\n",
    "                x_axis_type='datetime', y_axis_type=\"log\",\n",
    "                width=900, height=400, tools=[hover1, 'pan', 'wheel_zoom', 'box_zoom', 'reset', 'save'])\n",
    "\n",
    "    p1.line(timestamps, a100_pressure, legend_label=\"A100 Pressure\", line_width=2, color='blue', alpha=0.8)\n",
    "    p1.line(timestamps, a200_pressure, legend_label=\"A200 Pressure\", line_width=2, color='red', alpha=0.8)\n",
    "    p1.xaxis.formatter = DatetimeTickFormatter(hours=\"%H:%M:%S\", minutes=\"%H:%M:%S\")\n",
    "    p1.legend.location = \"top_right\"\n",
    "    p1.yaxis.axis_label = \"Pressure (log scale)\"\n",
    "\n",
    "    # Create temperature plot with hover tool\n",
    "    hover2 = HoverTool(tooltips=[(\"Time\", \"@x{%H:%M:%S}\"), (\"Temperature\", \"@y{0.0}°C\")],\n",
    "                       formatters={'@x': 'datetime'})\n",
    "\n",
    "    p2 = figure(title=\"Chiller Temperature Over Time\",\n",
    "                x_axis_type='datetime', width=900, height=400,\n",
    "                x_range=p1.x_range,  # Link x-axes\n",
    "                tools=[hover2, 'pan', 'wheel_zoom', 'box_zoom', 'reset', 'save'])\n",
    "\n",
    "    p2.line(timestamps, chiller_current_temp, legend_label=\"Current Temperature\", line_width=2, color='green', alpha=0.8)\n",
    "    p2.xaxis.formatter = DatetimeTickFormatter(hours=\"%H:%M:%S\", minutes=\"%H:%M:%S\")\n",
    "    p2.legend.location = \"top_right\"\n",
    "    p2.yaxis.axis_label = \"Temperature (°C)\"\n",
    "    p2.xaxis.axis_label = \"Time\"\n",
    "\n",
    "    # Combine plots\n",
    "    layout = column(p1, p2)\n",
    "\n",
    "    # Save\n",
    "    output_file(save_path)\n",
    "    save(layout)\n",
    "    print(f\"✅ Bokeh plot saved as: {save_path}\")\n",
    "\n",
    "    return layout\n",
    "\n",
    "# Usage examples:\n",
    "print(\"🚀 Interactive plotting functions ready!\")\n",
    "print(\"Usage:\")\n",
    "print(\"  create_interactive_monitoring_plot('my_plot.html', downsample_factor=10)\")\n",
    "print(\"  create_bokeh_fallback_plot('my_plot_bokeh.html', downsample_factor=10)\")\n",
    "print(f\"📊 Your dataset has {len(controller.monitoring_data) if 'controller' in globals() else 'N/A'} data points\")"
   ],
   "id": "f946d07c6a5c4b1c",
   "outputs": [
    {
     "data": {
      "text/html": [
       "<script type=\"esms-options\">{\"shimMode\": true}</script><style>*[data-root-id],\n",
       "*[data-root-id] > * {\n",
       "  box-sizing: border-box;\n",
       "  font-family: var(--jp-ui-font-family);\n",
       "  font-size: var(--jp-ui-font-size1);\n",
       "  color: var(--vscode-editor-foreground, var(--jp-ui-font-color1));\n",
       "}\n",
       "\n",
       "/* Override VSCode background color */\n",
       ".cell-output-ipywidget-background:has(\n",
       "  > .cell-output-ipywidget-background > .lm-Widget > *[data-root-id]\n",
       "),\n",
       ".cell-output-ipywidget-background:has(> .lm-Widget > *[data-root-id]) {\n",
       "  background-color: transparent !important;\n",
       "}\n",
       "</style>"
      ]
     },
     "metadata": {},
     "output_type": "display_data"
    },
    {
     "data": {
      "application/javascript": "(function(root) {\n  function now() {\n    return new Date();\n  }\n\n  const force = true;\n  const py_version = '3.8.0'.replace('rc', '-rc.').replace('.dev', '-dev.');\n  const reloading = false;\n  const Bokeh = root.Bokeh;\n\n  // Set a timeout for this load but only if we are not already initializing\n  if (typeof (root._bokeh_timeout) === \"undefined\" || (force || !root._bokeh_is_initializing)) {\n    root._bokeh_timeout = Date.now() + 5000;\n    root._bokeh_failed_load = false;\n  }\n\n  function run_callbacks() {\n    try {\n      root._bokeh_onload_callbacks.forEach(function(callback) {\n        if (callback != null)\n          callback();\n      });\n    } finally {\n      delete root._bokeh_onload_callbacks;\n    }\n    console.debug(\"Bokeh: all callbacks have finished\");\n  }\n\n  function load_libs(css_urls, js_urls, js_modules, js_exports, callback) {\n    if (css_urls == null) css_urls = [];\n    if (js_urls == null) js_urls = [];\n    if (js_modules == null) js_modules = [];\n    if (js_exports == null) js_exports = {};\n\n    root._bokeh_onload_callbacks.push(callback);\n\n    if (root._bokeh_is_loading > 0) {\n      // Don't load bokeh if it is still initializing\n      console.debug(\"Bokeh: BokehJS is being loaded, scheduling callback at\", now());\n      return null;\n    } else if (js_urls.length === 0 && js_modules.length === 0 && Object.keys(js_exports).length === 0) {\n      // There is nothing to load\n      run_callbacks();\n      return null;\n    }\n\n    function on_load() {\n      root._bokeh_is_loading--;\n      if (root._bokeh_is_loading === 0) {\n        console.debug(\"Bokeh: all BokehJS libraries/stylesheets loaded\");\n        run_callbacks()\n      }\n    }\n    window._bokeh_on_load = on_load\n\n    function on_error(e) {\n      const src_el = e.srcElement\n      console.error(\"failed to load \" + (src_el.href || src_el.src));\n    }\n\n    const skip = [];\n    if (window.requirejs) {\n      window.requirejs.config({'packages': {}, 'paths': {}, 'shim': {}});\n      root._bokeh_is_loading = css_urls.length + 0;\n    } else {\n      root._bokeh_is_loading = css_urls.length + js_urls.length + js_modules.length + Object.keys(js_exports).length;\n    }\n\n    const existing_stylesheets = []\n    const links = document.getElementsByTagName('link')\n    for (let i = 0; i < links.length; i++) {\n      const link = links[i]\n      if (link.href != null) {\n        existing_stylesheets.push(link.href)\n      }\n    }\n    for (let i = 0; i < css_urls.length; i++) {\n      const url = css_urls[i];\n      const escaped = encodeURI(url)\n      if (existing_stylesheets.indexOf(escaped) !== -1) {\n        on_load()\n        continue;\n      }\n      const element = document.createElement(\"link\");\n      element.onload = on_load;\n      element.onerror = on_error;\n      element.rel = \"stylesheet\";\n      element.type = \"text/css\";\n      element.href = url;\n      console.debug(\"Bokeh: injecting link tag for BokehJS stylesheet: \", url);\n      document.body.appendChild(element);\n    }    var existing_scripts = []\n    const scripts = document.getElementsByTagName('script')\n    for (let i = 0; i < scripts.length; i++) {\n      var script = scripts[i]\n      if (script.src != null) {\n        existing_scripts.push(script.src)\n      }\n    }\n    for (let i = 0; i < js_urls.length; i++) {\n      const url = js_urls[i];\n      const escaped = encodeURI(url)\n      if (skip.indexOf(escaped) !== -1 || existing_scripts.indexOf(escaped) !== -1) {\n        if (!window.requirejs) {\n          on_load();\n        }\n        continue;\n      }\n      const element = document.createElement('script');\n      element.onload = on_load;\n      element.onerror = on_error;\n      element.async = false;\n      element.src = url;\n      console.debug(\"Bokeh: injecting script tag for BokehJS library: \", url);\n      document.head.appendChild(element);\n    }\n    for (let i = 0; i < js_modules.length; i++) {\n      const url = js_modules[i];\n      const escaped = encodeURI(url)\n      if (skip.indexOf(escaped) !== -1 || existing_scripts.indexOf(escaped) !== -1) {\n        if (!window.requirejs) {\n          on_load();\n        }\n        continue;\n      }\n      var element = document.createElement('script');\n      element.onload = on_load;\n      element.onerror = on_error;\n      element.async = false;\n      element.src = url;\n      element.type = \"module\";\n      console.debug(\"Bokeh: injecting script tag for BokehJS library: \", url);\n      document.head.appendChild(element);\n    }\n    for (const name in js_exports) {\n      const url = js_exports[name];\n      const escaped = encodeURI(url)\n      if (skip.indexOf(escaped) >= 0 || root[name] != null) {\n        if (!window.requirejs) {\n          on_load();\n        }\n        continue;\n      }\n      var element = document.createElement('script');\n      element.onerror = on_error;\n      element.async = false;\n      element.type = \"module\";\n      console.debug(\"Bokeh: injecting script tag for BokehJS library: \", url);\n      element.textContent = `\n      import ${name} from \"${url}\"\n      window.${name} = ${name}\n      window._bokeh_on_load()\n      `\n      document.head.appendChild(element);\n    }\n    if (!js_urls.length && !js_modules.length) {\n      on_load()\n    }\n  };\n\n  function inject_raw_css(css) {\n    const element = document.createElement(\"style\");\n    element.appendChild(document.createTextNode(css));\n    document.body.appendChild(element);\n  }\n\n  const js_urls = [\"https://cdn.holoviz.org/panel/1.8.0/dist/bundled/reactiveesm/es-module-shims@^1.10.0/dist/es-module-shims.min.js\", \"https://cdn.bokeh.org/bokeh/release/bokeh-3.8.0.min.js\", \"https://cdn.bokeh.org/bokeh/release/bokeh-gl-3.8.0.min.js\", \"https://cdn.bokeh.org/bokeh/release/bokeh-widgets-3.8.0.min.js\", \"https://cdn.bokeh.org/bokeh/release/bokeh-tables-3.8.0.min.js\", \"https://cdn.holoviz.org/panel/1.8.0/dist/panel.min.js\"];\n  const js_modules = [];\n  const js_exports = {};\n  const css_urls = [];\n  const inline_js = [    function(Bokeh) {\n      Bokeh.set_log_level(\"info\");\n    },\nfunction(Bokeh) {} // ensure no trailing comma for IE\n  ];\n\n  function run_inline_js() {\n    if ((root.Bokeh !== undefined) || (force === true)) {\n      for (let i = 0; i < inline_js.length; i++) {\n        try {\n          inline_js[i].call(root, root.Bokeh);\n        } catch(e) {\n          if (!reloading) {\n            throw e;\n          }\n        }\n      }\n      // Cache old bokeh versions\n      if (Bokeh != undefined && !reloading) {\n        var NewBokeh = root.Bokeh;\n        if (Bokeh.versions === undefined) {\n          Bokeh.versions = new Map();\n        }\n        if (NewBokeh.version !== Bokeh.version) {\n          Bokeh.versions.set(NewBokeh.version, NewBokeh)\n        }\n        root.Bokeh = Bokeh;\n      }\n    } else if (Date.now() < root._bokeh_timeout) {\n      setTimeout(run_inline_js, 100);\n    } else if (!root._bokeh_failed_load) {\n      console.log(\"Bokeh: BokehJS failed to load within specified timeout.\");\n      root._bokeh_failed_load = true;\n    }\n    root._bokeh_is_initializing = false\n  }\n\n  function load_or_wait() {\n    // Implement a backoff loop that tries to ensure we do not load multiple\n    // versions of Bokeh and its dependencies at the same time.\n    // In recent versions we use the root._bokeh_is_initializing flag\n    // to determine whether there is an ongoing attempt to initialize\n    // bokeh, however for backward compatibility we also try to ensure\n    // that we do not start loading a newer (Panel>=1.0 and Bokeh>3) version\n    // before older versions are fully initialized.\n    if (root._bokeh_is_initializing && Date.now() > root._bokeh_timeout) {\n      // If the timeout and bokeh was not successfully loaded we reset\n      // everything and try loading again\n      root._bokeh_timeout = Date.now() + 5000;\n      root._bokeh_is_initializing = false;\n      root._bokeh_onload_callbacks = undefined;\n      root._bokeh_is_loading = 0\n      console.log(\"Bokeh: BokehJS was loaded multiple times but one version failed to initialize.\");\n      load_or_wait();\n    } else if (root._bokeh_is_initializing || (typeof root._bokeh_is_initializing === \"undefined\" && root._bokeh_onload_callbacks !== undefined)) {\n      setTimeout(load_or_wait, 100);\n    } else {\n      root._bokeh_is_initializing = true\n      root._bokeh_onload_callbacks = []\n      const bokeh_loaded = root.Bokeh != null && (root.Bokeh.version === py_version || (root.Bokeh.versions !== undefined && root.Bokeh.versions.has(py_version)));\n      if (!reloading && !bokeh_loaded) {\n        if (root.Bokeh) {\n          root.Bokeh = undefined;\n        }\n        console.debug(\"Bokeh: BokehJS not loaded, scheduling load and callback at\", now());\n      }\n      load_libs(css_urls, js_urls, js_modules, js_exports, function() {\n        console.debug(\"Bokeh: BokehJS plotting callback run at\", now());\n        run_inline_js();\n      });\n    }\n  }\n  // Give older versions of the autoload script a head-start to ensure\n  // they initialize before we start loading newer version.\n  setTimeout(load_or_wait, 100)\n}(window));",
      "application/vnd.holoviews_load.v0+json": "(function(root) {\n  function now() {\n    return new Date();\n  }\n\n  const force = true;\n  const py_version = '3.8.0'.replace('rc', '-rc.').replace('.dev', '-dev.');\n  const reloading = false;\n  const Bokeh = root.Bokeh;\n\n  // Set a timeout for this load but only if we are not already initializing\n  if (typeof (root._bokeh_timeout) === \"undefined\" || (force || !root._bokeh_is_initializing)) {\n    root._bokeh_timeout = Date.now() + 5000;\n    root._bokeh_failed_load = false;\n  }\n\n  function run_callbacks() {\n    try {\n      root._bokeh_onload_callbacks.forEach(function(callback) {\n        if (callback != null)\n          callback();\n      });\n    } finally {\n      delete root._bokeh_onload_callbacks;\n    }\n    console.debug(\"Bokeh: all callbacks have finished\");\n  }\n\n  function load_libs(css_urls, js_urls, js_modules, js_exports, callback) {\n    if (css_urls == null) css_urls = [];\n    if (js_urls == null) js_urls = [];\n    if (js_modules == null) js_modules = [];\n    if (js_exports == null) js_exports = {};\n\n    root._bokeh_onload_callbacks.push(callback);\n\n    if (root._bokeh_is_loading > 0) {\n      // Don't load bokeh if it is still initializing\n      console.debug(\"Bokeh: BokehJS is being loaded, scheduling callback at\", now());\n      return null;\n    } else if (js_urls.length === 0 && js_modules.length === 0 && Object.keys(js_exports).length === 0) {\n      // There is nothing to load\n      run_callbacks();\n      return null;\n    }\n\n    function on_load() {\n      root._bokeh_is_loading--;\n      if (root._bokeh_is_loading === 0) {\n        console.debug(\"Bokeh: all BokehJS libraries/stylesheets loaded\");\n        run_callbacks()\n      }\n    }\n    window._bokeh_on_load = on_load\n\n    function on_error(e) {\n      const src_el = e.srcElement\n      console.error(\"failed to load \" + (src_el.href || src_el.src));\n    }\n\n    const skip = [];\n    if (window.requirejs) {\n      window.requirejs.config({'packages': {}, 'paths': {}, 'shim': {}});\n      root._bokeh_is_loading = css_urls.length + 0;\n    } else {\n      root._bokeh_is_loading = css_urls.length + js_urls.length + js_modules.length + Object.keys(js_exports).length;\n    }\n\n    const existing_stylesheets = []\n    const links = document.getElementsByTagName('link')\n    for (let i = 0; i < links.length; i++) {\n      const link = links[i]\n      if (link.href != null) {\n        existing_stylesheets.push(link.href)\n      }\n    }\n    for (let i = 0; i < css_urls.length; i++) {\n      const url = css_urls[i];\n      const escaped = encodeURI(url)\n      if (existing_stylesheets.indexOf(escaped) !== -1) {\n        on_load()\n        continue;\n      }\n      const element = document.createElement(\"link\");\n      element.onload = on_load;\n      element.onerror = on_error;\n      element.rel = \"stylesheet\";\n      element.type = \"text/css\";\n      element.href = url;\n      console.debug(\"Bokeh: injecting link tag for BokehJS stylesheet: \", url);\n      document.body.appendChild(element);\n    }    var existing_scripts = []\n    const scripts = document.getElementsByTagName('script')\n    for (let i = 0; i < scripts.length; i++) {\n      var script = scripts[i]\n      if (script.src != null) {\n        existing_scripts.push(script.src)\n      }\n    }\n    for (let i = 0; i < js_urls.length; i++) {\n      const url = js_urls[i];\n      const escaped = encodeURI(url)\n      if (skip.indexOf(escaped) !== -1 || existing_scripts.indexOf(escaped) !== -1) {\n        if (!window.requirejs) {\n          on_load();\n        }\n        continue;\n      }\n      const element = document.createElement('script');\n      element.onload = on_load;\n      element.onerror = on_error;\n      element.async = false;\n      element.src = url;\n      console.debug(\"Bokeh: injecting script tag for BokehJS library: \", url);\n      document.head.appendChild(element);\n    }\n    for (let i = 0; i < js_modules.length; i++) {\n      const url = js_modules[i];\n      const escaped = encodeURI(url)\n      if (skip.indexOf(escaped) !== -1 || existing_scripts.indexOf(escaped) !== -1) {\n        if (!window.requirejs) {\n          on_load();\n        }\n        continue;\n      }\n      var element = document.createElement('script');\n      element.onload = on_load;\n      element.onerror = on_error;\n      element.async = false;\n      element.src = url;\n      element.type = \"module\";\n      console.debug(\"Bokeh: injecting script tag for BokehJS library: \", url);\n      document.head.appendChild(element);\n    }\n    for (const name in js_exports) {\n      const url = js_exports[name];\n      const escaped = encodeURI(url)\n      if (skip.indexOf(escaped) >= 0 || root[name] != null) {\n        if (!window.requirejs) {\n          on_load();\n        }\n        continue;\n      }\n      var element = document.createElement('script');\n      element.onerror = on_error;\n      element.async = false;\n      element.type = \"module\";\n      console.debug(\"Bokeh: injecting script tag for BokehJS library: \", url);\n      element.textContent = `\n      import ${name} from \"${url}\"\n      window.${name} = ${name}\n      window._bokeh_on_load()\n      `\n      document.head.appendChild(element);\n    }\n    if (!js_urls.length && !js_modules.length) {\n      on_load()\n    }\n  };\n\n  function inject_raw_css(css) {\n    const element = document.createElement(\"style\");\n    element.appendChild(document.createTextNode(css));\n    document.body.appendChild(element);\n  }\n\n  const js_urls = [\"https://cdn.holoviz.org/panel/1.8.0/dist/bundled/reactiveesm/es-module-shims@^1.10.0/dist/es-module-shims.min.js\", \"https://cdn.bokeh.org/bokeh/release/bokeh-3.8.0.min.js\", \"https://cdn.bokeh.org/bokeh/release/bokeh-gl-3.8.0.min.js\", \"https://cdn.bokeh.org/bokeh/release/bokeh-widgets-3.8.0.min.js\", \"https://cdn.bokeh.org/bokeh/release/bokeh-tables-3.8.0.min.js\", \"https://cdn.holoviz.org/panel/1.8.0/dist/panel.min.js\"];\n  const js_modules = [];\n  const js_exports = {};\n  const css_urls = [];\n  const inline_js = [    function(Bokeh) {\n      Bokeh.set_log_level(\"info\");\n    },\nfunction(Bokeh) {} // ensure no trailing comma for IE\n  ];\n\n  function run_inline_js() {\n    if ((root.Bokeh !== undefined) || (force === true)) {\n      for (let i = 0; i < inline_js.length; i++) {\n        try {\n          inline_js[i].call(root, root.Bokeh);\n        } catch(e) {\n          if (!reloading) {\n            throw e;\n          }\n        }\n      }\n      // Cache old bokeh versions\n      if (Bokeh != undefined && !reloading) {\n        var NewBokeh = root.Bokeh;\n        if (Bokeh.versions === undefined) {\n          Bokeh.versions = new Map();\n        }\n        if (NewBokeh.version !== Bokeh.version) {\n          Bokeh.versions.set(NewBokeh.version, NewBokeh)\n        }\n        root.Bokeh = Bokeh;\n      }\n    } else if (Date.now() < root._bokeh_timeout) {\n      setTimeout(run_inline_js, 100);\n    } else if (!root._bokeh_failed_load) {\n      console.log(\"Bokeh: BokehJS failed to load within specified timeout.\");\n      root._bokeh_failed_load = true;\n    }\n    root._bokeh_is_initializing = false\n  }\n\n  function load_or_wait() {\n    // Implement a backoff loop that tries to ensure we do not load multiple\n    // versions of Bokeh and its dependencies at the same time.\n    // In recent versions we use the root._bokeh_is_initializing flag\n    // to determine whether there is an ongoing attempt to initialize\n    // bokeh, however for backward compatibility we also try to ensure\n    // that we do not start loading a newer (Panel>=1.0 and Bokeh>3) version\n    // before older versions are fully initialized.\n    if (root._bokeh_is_initializing && Date.now() > root._bokeh_timeout) {\n      // If the timeout and bokeh was not successfully loaded we reset\n      // everything and try loading again\n      root._bokeh_timeout = Date.now() + 5000;\n      root._bokeh_is_initializing = false;\n      root._bokeh_onload_callbacks = undefined;\n      root._bokeh_is_loading = 0\n      console.log(\"Bokeh: BokehJS was loaded multiple times but one version failed to initialize.\");\n      load_or_wait();\n    } else if (root._bokeh_is_initializing || (typeof root._bokeh_is_initializing === \"undefined\" && root._bokeh_onload_callbacks !== undefined)) {\n      setTimeout(load_or_wait, 100);\n    } else {\n      root._bokeh_is_initializing = true\n      root._bokeh_onload_callbacks = []\n      const bokeh_loaded = root.Bokeh != null && (root.Bokeh.version === py_version || (root.Bokeh.versions !== undefined && root.Bokeh.versions.has(py_version)));\n      if (!reloading && !bokeh_loaded) {\n        if (root.Bokeh) {\n          root.Bokeh = undefined;\n        }\n        console.debug(\"Bokeh: BokehJS not loaded, scheduling load and callback at\", now());\n      }\n      load_libs(css_urls, js_urls, js_modules, js_exports, function() {\n        console.debug(\"Bokeh: BokehJS plotting callback run at\", now());\n        run_inline_js();\n      });\n    }\n  }\n  // Give older versions of the autoload script a head-start to ensure\n  // they initialize before we start loading newer version.\n  setTimeout(load_or_wait, 100)\n}(window));"
     },
     "metadata": {},
     "output_type": "display_data"
    },
    {
     "data": {
      "application/vnd.holoviews_load.v0+json": "\nif ((window.PyViz === undefined) || (window.PyViz instanceof HTMLElement)) {\n  window.PyViz = {comms: {}, comm_status:{}, kernels:{}, receivers: {}, plot_index: []}\n}\n\n\n    function JupyterCommManager() {\n    }\n\n    JupyterCommManager.prototype.register_target = function(plot_id, comm_id, msg_handler) {\n      if (window.comm_manager || ((window.Jupyter !== undefined) && (Jupyter.notebook.kernel != null))) {\n        var comm_manager = window.comm_manager || Jupyter.notebook.kernel.comm_manager;\n        comm_manager.register_target(comm_id, function(comm) {\n          comm.on_msg(msg_handler);\n        });\n      } else if ((plot_id in window.PyViz.kernels) && (window.PyViz.kernels[plot_id])) {\n        window.PyViz.kernels[plot_id].registerCommTarget(comm_id, function(comm) {\n          comm.onMsg = msg_handler;\n        });\n      } else if (typeof google != 'undefined' && google.colab.kernel != null) {\n        google.colab.kernel.comms.registerTarget(comm_id, (comm) => {\n          var messages = comm.messages[Symbol.asyncIterator]();\n          function processIteratorResult(result) {\n            var message = result.value;\n            var content = {data: message.data, comm_id};\n            var buffers = []\n            for (var buffer of message.buffers || []) {\n              buffers.push(new DataView(buffer))\n            }\n            var metadata = message.metadata || {};\n            var msg = {content, buffers, metadata}\n            msg_handler(msg);\n            return messages.next().then(processIteratorResult);\n          }\n          return messages.next().then(processIteratorResult);\n        })\n      }\n    }\n\n    JupyterCommManager.prototype.get_client_comm = function(plot_id, comm_id, msg_handler) {\n      if (comm_id in window.PyViz.comms) {\n        return window.PyViz.comms[comm_id];\n      } else if (window.comm_manager || ((window.Jupyter !== undefined) && (Jupyter.notebook.kernel != null))) {\n        var comm_manager = window.comm_manager || Jupyter.notebook.kernel.comm_manager;\n        var comm = comm_manager.new_comm(comm_id, {}, {}, {}, comm_id);\n        if (msg_handler) {\n          comm.on_msg(msg_handler);\n        }\n      } else if ((plot_id in window.PyViz.kernels) && (window.PyViz.kernels[plot_id])) {\n        var comm = window.PyViz.kernels[plot_id].connectToComm(comm_id);\n        let retries = 0;\n        const open = () => {\n          if (comm.active) {\n            comm.open();\n          } else if (retries > 3) {\n            console.warn('Comm target never activated')\n          } else {\n            retries += 1\n            setTimeout(open, 500)\n          }\n        }\n        if (comm.active) {\n          comm.open();\n        } else {\n          setTimeout(open, 500)\n        }\n        if (msg_handler) {\n          comm.onMsg = msg_handler;\n        }\n      } else if (typeof google != 'undefined' && google.colab.kernel != null) {\n        var comm_promise = google.colab.kernel.comms.open(comm_id)\n        comm_promise.then((comm) => {\n          window.PyViz.comms[comm_id] = comm;\n          if (msg_handler) {\n            var messages = comm.messages[Symbol.asyncIterator]();\n            function processIteratorResult(result) {\n              var message = result.value;\n              var content = {data: message.data};\n              var metadata = message.metadata || {comm_id};\n              var msg = {content, metadata}\n              msg_handler(msg);\n              return messages.next().then(processIteratorResult);\n            }\n            return messages.next().then(processIteratorResult);\n          }\n        })\n        var sendClosure = (data, metadata, buffers, disposeOnDone) => {\n          return comm_promise.then((comm) => {\n            comm.send(data, metadata, buffers, disposeOnDone);\n          });\n        };\n        var comm = {\n          send: sendClosure\n        };\n      }\n      window.PyViz.comms[comm_id] = comm;\n      return comm;\n    }\n    window.PyViz.comm_manager = new JupyterCommManager();\n    \n\n\nvar JS_MIME_TYPE = 'application/javascript';\nvar HTML_MIME_TYPE = 'text/html';\nvar EXEC_MIME_TYPE = 'application/vnd.holoviews_exec.v0+json';\nvar CLASS_NAME = 'output';\n\n/**\n * Render data to the DOM node\n */\nfunction render(props, node) {\n  var div = document.createElement(\"div\");\n  var script = document.createElement(\"script\");\n  node.appendChild(div);\n  node.appendChild(script);\n}\n\n/**\n * Handle when a new output is added\n */\nfunction handle_add_output(event, handle) {\n  var output_area = handle.output_area;\n  var output = handle.output;\n  if ((output.data == undefined) || (!output.data.hasOwnProperty(EXEC_MIME_TYPE))) {\n    return\n  }\n  var id = output.metadata[EXEC_MIME_TYPE][\"id\"];\n  var toinsert = output_area.element.find(\".\" + CLASS_NAME.split(' ')[0]);\n  if (id !== undefined) {\n    var nchildren = toinsert.length;\n    var html_node = toinsert[nchildren-1].children[0];\n    html_node.innerHTML = output.data[HTML_MIME_TYPE];\n    var scripts = [];\n    var nodelist = html_node.querySelectorAll(\"script\");\n    for (var i in nodelist) {\n      if (nodelist.hasOwnProperty(i)) {\n        scripts.push(nodelist[i])\n      }\n    }\n\n    scripts.forEach( function (oldScript) {\n      var newScript = document.createElement(\"script\");\n      var attrs = [];\n      var nodemap = oldScript.attributes;\n      for (var j in nodemap) {\n        if (nodemap.hasOwnProperty(j)) {\n          attrs.push(nodemap[j])\n        }\n      }\n      attrs.forEach(function(attr) { newScript.setAttribute(attr.name, attr.value) });\n      newScript.appendChild(document.createTextNode(oldScript.innerHTML));\n      oldScript.parentNode.replaceChild(newScript, oldScript);\n    });\n    if (JS_MIME_TYPE in output.data) {\n      toinsert[nchildren-1].children[1].textContent = output.data[JS_MIME_TYPE];\n    }\n    output_area._hv_plot_id = id;\n    if ((window.Bokeh !== undefined) && (id in Bokeh.index)) {\n      window.PyViz.plot_index[id] = Bokeh.index[id];\n    } else {\n      window.PyViz.plot_index[id] = null;\n    }\n  } else if (output.metadata[EXEC_MIME_TYPE][\"server_id\"] !== undefined) {\n    var bk_div = document.createElement(\"div\");\n    bk_div.innerHTML = output.data[HTML_MIME_TYPE];\n    var script_attrs = bk_div.children[0].attributes;\n    for (var i = 0; i < script_attrs.length; i++) {\n      toinsert[toinsert.length - 1].childNodes[1].setAttribute(script_attrs[i].name, script_attrs[i].value);\n    }\n    // store reference to server id on output_area\n    output_area._bokeh_server_id = output.metadata[EXEC_MIME_TYPE][\"server_id\"];\n  }\n}\n\n/**\n * Handle when an output is cleared or removed\n */\nfunction handle_clear_output(event, handle) {\n  var id = handle.cell.output_area._hv_plot_id;\n  var server_id = handle.cell.output_area._bokeh_server_id;\n  if (((id === undefined) || !(id in PyViz.plot_index)) && (server_id !== undefined)) { return; }\n  var comm = window.PyViz.comm_manager.get_client_comm(\"hv-extension-comm\", \"hv-extension-comm\", function () {});\n  if (server_id !== null) {\n    comm.send({event_type: 'server_delete', 'id': server_id});\n    return;\n  } else if (comm !== null) {\n    comm.send({event_type: 'delete', 'id': id});\n  }\n  delete PyViz.plot_index[id];\n  if ((window.Bokeh !== undefined) & (id in window.Bokeh.index)) {\n    var doc = window.Bokeh.index[id].model.document\n    doc.clear();\n    const i = window.Bokeh.documents.indexOf(doc);\n    if (i > -1) {\n      window.Bokeh.documents.splice(i, 1);\n    }\n  }\n}\n\n/**\n * Handle kernel restart event\n */\nfunction handle_kernel_cleanup(event, handle) {\n  delete PyViz.comms[\"hv-extension-comm\"];\n  window.PyViz.plot_index = {}\n}\n\n/**\n * Handle update_display_data messages\n */\nfunction handle_update_output(event, handle) {\n  handle_clear_output(event, {cell: {output_area: handle.output_area}})\n  handle_add_output(event, handle)\n}\n\nfunction register_renderer(events, OutputArea) {\n  function append_mime(data, metadata, element) {\n    // create a DOM node to render to\n    var toinsert = this.create_output_subarea(\n    metadata,\n    CLASS_NAME,\n    EXEC_MIME_TYPE\n    );\n    this.keyboard_manager.register_events(toinsert);\n    // Render to node\n    var props = {data: data, metadata: metadata[EXEC_MIME_TYPE]};\n    render(props, toinsert[0]);\n    element.append(toinsert);\n    return toinsert\n  }\n\n  events.on('output_added.OutputArea', handle_add_output);\n  events.on('output_updated.OutputArea', handle_update_output);\n  events.on('clear_output.CodeCell', handle_clear_output);\n  events.on('delete.Cell', handle_clear_output);\n  events.on('kernel_ready.Kernel', handle_kernel_cleanup);\n\n  OutputArea.prototype.register_mime_type(EXEC_MIME_TYPE, append_mime, {\n    safe: true,\n    index: 0\n  });\n}\n\nif (window.Jupyter !== undefined) {\n  try {\n    var events = require('base/js/events');\n    var OutputArea = require('notebook/js/outputarea').OutputArea;\n    if (OutputArea.prototype.mime_types().indexOf(EXEC_MIME_TYPE) == -1) {\n      register_renderer(events, OutputArea);\n    }\n  } catch(err) {\n  }\n}\n",
      "application/javascript": "\nif ((window.PyViz === undefined) || (window.PyViz instanceof HTMLElement)) {\n  window.PyViz = {comms: {}, comm_status:{}, kernels:{}, receivers: {}, plot_index: []}\n}\n\n\n    function JupyterCommManager() {\n    }\n\n    JupyterCommManager.prototype.register_target = function(plot_id, comm_id, msg_handler) {\n      if (window.comm_manager || ((window.Jupyter !== undefined) && (Jupyter.notebook.kernel != null))) {\n        var comm_manager = window.comm_manager || Jupyter.notebook.kernel.comm_manager;\n        comm_manager.register_target(comm_id, function(comm) {\n          comm.on_msg(msg_handler);\n        });\n      } else if ((plot_id in window.PyViz.kernels) && (window.PyViz.kernels[plot_id])) {\n        window.PyViz.kernels[plot_id].registerCommTarget(comm_id, function(comm) {\n          comm.onMsg = msg_handler;\n        });\n      } else if (typeof google != 'undefined' && google.colab.kernel != null) {\n        google.colab.kernel.comms.registerTarget(comm_id, (comm) => {\n          var messages = comm.messages[Symbol.asyncIterator]();\n          function processIteratorResult(result) {\n            var message = result.value;\n            var content = {data: message.data, comm_id};\n            var buffers = []\n            for (var buffer of message.buffers || []) {\n              buffers.push(new DataView(buffer))\n            }\n            var metadata = message.metadata || {};\n            var msg = {content, buffers, metadata}\n            msg_handler(msg);\n            return messages.next().then(processIteratorResult);\n          }\n          return messages.next().then(processIteratorResult);\n        })\n      }\n    }\n\n    JupyterCommManager.prototype.get_client_comm = function(plot_id, comm_id, msg_handler) {\n      if (comm_id in window.PyViz.comms) {\n        return window.PyViz.comms[comm_id];\n      } else if (window.comm_manager || ((window.Jupyter !== undefined) && (Jupyter.notebook.kernel != null))) {\n        var comm_manager = window.comm_manager || Jupyter.notebook.kernel.comm_manager;\n        var comm = comm_manager.new_comm(comm_id, {}, {}, {}, comm_id);\n        if (msg_handler) {\n          comm.on_msg(msg_handler);\n        }\n      } else if ((plot_id in window.PyViz.kernels) && (window.PyViz.kernels[plot_id])) {\n        var comm = window.PyViz.kernels[plot_id].connectToComm(comm_id);\n        let retries = 0;\n        const open = () => {\n          if (comm.active) {\n            comm.open();\n          } else if (retries > 3) {\n            console.warn('Comm target never activated')\n          } else {\n            retries += 1\n            setTimeout(open, 500)\n          }\n        }\n        if (comm.active) {\n          comm.open();\n        } else {\n          setTimeout(open, 500)\n        }\n        if (msg_handler) {\n          comm.onMsg = msg_handler;\n        }\n      } else if (typeof google != 'undefined' && google.colab.kernel != null) {\n        var comm_promise = google.colab.kernel.comms.open(comm_id)\n        comm_promise.then((comm) => {\n          window.PyViz.comms[comm_id] = comm;\n          if (msg_handler) {\n            var messages = comm.messages[Symbol.asyncIterator]();\n            function processIteratorResult(result) {\n              var message = result.value;\n              var content = {data: message.data};\n              var metadata = message.metadata || {comm_id};\n              var msg = {content, metadata}\n              msg_handler(msg);\n              return messages.next().then(processIteratorResult);\n            }\n            return messages.next().then(processIteratorResult);\n          }\n        })\n        var sendClosure = (data, metadata, buffers, disposeOnDone) => {\n          return comm_promise.then((comm) => {\n            comm.send(data, metadata, buffers, disposeOnDone);\n          });\n        };\n        var comm = {\n          send: sendClosure\n        };\n      }\n      window.PyViz.comms[comm_id] = comm;\n      return comm;\n    }\n    window.PyViz.comm_manager = new JupyterCommManager();\n    \n\n\nvar JS_MIME_TYPE = 'application/javascript';\nvar HTML_MIME_TYPE = 'text/html';\nvar EXEC_MIME_TYPE = 'application/vnd.holoviews_exec.v0+json';\nvar CLASS_NAME = 'output';\n\n/**\n * Render data to the DOM node\n */\nfunction render(props, node) {\n  var div = document.createElement(\"div\");\n  var script = document.createElement(\"script\");\n  node.appendChild(div);\n  node.appendChild(script);\n}\n\n/**\n * Handle when a new output is added\n */\nfunction handle_add_output(event, handle) {\n  var output_area = handle.output_area;\n  var output = handle.output;\n  if ((output.data == undefined) || (!output.data.hasOwnProperty(EXEC_MIME_TYPE))) {\n    return\n  }\n  var id = output.metadata[EXEC_MIME_TYPE][\"id\"];\n  var toinsert = output_area.element.find(\".\" + CLASS_NAME.split(' ')[0]);\n  if (id !== undefined) {\n    var nchildren = toinsert.length;\n    var html_node = toinsert[nchildren-1].children[0];\n    html_node.innerHTML = output.data[HTML_MIME_TYPE];\n    var scripts = [];\n    var nodelist = html_node.querySelectorAll(\"script\");\n    for (var i in nodelist) {\n      if (nodelist.hasOwnProperty(i)) {\n        scripts.push(nodelist[i])\n      }\n    }\n\n    scripts.forEach( function (oldScript) {\n      var newScript = document.createElement(\"script\");\n      var attrs = [];\n      var nodemap = oldScript.attributes;\n      for (var j in nodemap) {\n        if (nodemap.hasOwnProperty(j)) {\n          attrs.push(nodemap[j])\n        }\n      }\n      attrs.forEach(function(attr) { newScript.setAttribute(attr.name, attr.value) });\n      newScript.appendChild(document.createTextNode(oldScript.innerHTML));\n      oldScript.parentNode.replaceChild(newScript, oldScript);\n    });\n    if (JS_MIME_TYPE in output.data) {\n      toinsert[nchildren-1].children[1].textContent = output.data[JS_MIME_TYPE];\n    }\n    output_area._hv_plot_id = id;\n    if ((window.Bokeh !== undefined) && (id in Bokeh.index)) {\n      window.PyViz.plot_index[id] = Bokeh.index[id];\n    } else {\n      window.PyViz.plot_index[id] = null;\n    }\n  } else if (output.metadata[EXEC_MIME_TYPE][\"server_id\"] !== undefined) {\n    var bk_div = document.createElement(\"div\");\n    bk_div.innerHTML = output.data[HTML_MIME_TYPE];\n    var script_attrs = bk_div.children[0].attributes;\n    for (var i = 0; i < script_attrs.length; i++) {\n      toinsert[toinsert.length - 1].childNodes[1].setAttribute(script_attrs[i].name, script_attrs[i].value);\n    }\n    // store reference to server id on output_area\n    output_area._bokeh_server_id = output.metadata[EXEC_MIME_TYPE][\"server_id\"];\n  }\n}\n\n/**\n * Handle when an output is cleared or removed\n */\nfunction handle_clear_output(event, handle) {\n  var id = handle.cell.output_area._hv_plot_id;\n  var server_id = handle.cell.output_area._bokeh_server_id;\n  if (((id === undefined) || !(id in PyViz.plot_index)) && (server_id !== undefined)) { return; }\n  var comm = window.PyViz.comm_manager.get_client_comm(\"hv-extension-comm\", \"hv-extension-comm\", function () {});\n  if (server_id !== null) {\n    comm.send({event_type: 'server_delete', 'id': server_id});\n    return;\n  } else if (comm !== null) {\n    comm.send({event_type: 'delete', 'id': id});\n  }\n  delete PyViz.plot_index[id];\n  if ((window.Bokeh !== undefined) & (id in window.Bokeh.index)) {\n    var doc = window.Bokeh.index[id].model.document\n    doc.clear();\n    const i = window.Bokeh.documents.indexOf(doc);\n    if (i > -1) {\n      window.Bokeh.documents.splice(i, 1);\n    }\n  }\n}\n\n/**\n * Handle kernel restart event\n */\nfunction handle_kernel_cleanup(event, handle) {\n  delete PyViz.comms[\"hv-extension-comm\"];\n  window.PyViz.plot_index = {}\n}\n\n/**\n * Handle update_display_data messages\n */\nfunction handle_update_output(event, handle) {\n  handle_clear_output(event, {cell: {output_area: handle.output_area}})\n  handle_add_output(event, handle)\n}\n\nfunction register_renderer(events, OutputArea) {\n  function append_mime(data, metadata, element) {\n    // create a DOM node to render to\n    var toinsert = this.create_output_subarea(\n    metadata,\n    CLASS_NAME,\n    EXEC_MIME_TYPE\n    );\n    this.keyboard_manager.register_events(toinsert);\n    // Render to node\n    var props = {data: data, metadata: metadata[EXEC_MIME_TYPE]};\n    render(props, toinsert[0]);\n    element.append(toinsert);\n    return toinsert\n  }\n\n  events.on('output_added.OutputArea', handle_add_output);\n  events.on('output_updated.OutputArea', handle_update_output);\n  events.on('clear_output.CodeCell', handle_clear_output);\n  events.on('delete.Cell', handle_clear_output);\n  events.on('kernel_ready.Kernel', handle_kernel_cleanup);\n\n  OutputArea.prototype.register_mime_type(EXEC_MIME_TYPE, append_mime, {\n    safe: true,\n    index: 0\n  });\n}\n\nif (window.Jupyter !== undefined) {\n  try {\n    var events = require('base/js/events');\n    var OutputArea = require('notebook/js/outputarea').OutputArea;\n    if (OutputArea.prototype.mime_types().indexOf(EXEC_MIME_TYPE) == -1) {\n      register_renderer(events, OutputArea);\n    }\n  } catch(err) {\n  }\n}\n"
     },
     "metadata": {},
     "output_type": "display_data"
    },
    {
     "data": {
      "text/html": [
       "<div id='07d339c1-eb23-4c78-a001-0ef6eaa99f77'>\n",
       "  <div id=\"aa76e621-1be6-4f3a-b488-4e7275d9579a\" data-root-id=\"07d339c1-eb23-4c78-a001-0ef6eaa99f77\" style=\"display: contents;\"></div>\n",
       "</div>\n",
       "<script type=\"application/javascript\">(function(root) {\n",
       "  var docs_json = {\"22e92a7c-11fe-4e2c-b936-3c0c10275aaf\":{\"version\":\"3.8.0\",\"title\":\"Bokeh Application\",\"config\":{\"type\":\"object\",\"name\":\"DocumentConfig\",\"id\":\"422bc3c1-df33-4dd7-99a7-2d5e183bf475\",\"attributes\":{\"notifications\":{\"type\":\"object\",\"name\":\"Notifications\",\"id\":\"05057bd1-ae83-420c-9402-ba74bd2cf31d\"}}},\"roots\":[{\"type\":\"object\",\"name\":\"panel.models.browser.BrowserInfo\",\"id\":\"07d339c1-eb23-4c78-a001-0ef6eaa99f77\"},{\"type\":\"object\",\"name\":\"panel.models.comm_manager.CommManager\",\"id\":\"040d5984-d34e-408c-8da0-9a3099398208\",\"attributes\":{\"plot_id\":\"07d339c1-eb23-4c78-a001-0ef6eaa99f77\",\"comm_id\":\"e43c2130b9d7463cb7ee05dfed3d2687\",\"client_comm_id\":\"aff0f382683546ea9d51dfc047e0687d\"}}],\"defs\":[{\"type\":\"model\",\"name\":\"ReactiveHTML1\"},{\"type\":\"model\",\"name\":\"FlexBox1\",\"properties\":[{\"name\":\"align_content\",\"kind\":\"Any\",\"default\":\"flex-start\"},{\"name\":\"align_items\",\"kind\":\"Any\",\"default\":\"flex-start\"},{\"name\":\"flex_direction\",\"kind\":\"Any\",\"default\":\"row\"},{\"name\":\"flex_wrap\",\"kind\":\"Any\",\"default\":\"wrap\"},{\"name\":\"gap\",\"kind\":\"Any\",\"default\":\"\"},{\"name\":\"justify_content\",\"kind\":\"Any\",\"default\":\"flex-start\"}]},{\"type\":\"model\",\"name\":\"FloatPanel1\",\"properties\":[{\"name\":\"config\",\"kind\":\"Any\",\"default\":{\"type\":\"map\"}},{\"name\":\"contained\",\"kind\":\"Any\",\"default\":true},{\"name\":\"position\",\"kind\":\"Any\",\"default\":\"right-top\"},{\"name\":\"offsetx\",\"kind\":\"Any\",\"default\":null},{\"name\":\"offsety\",\"kind\":\"Any\",\"default\":null},{\"name\":\"theme\",\"kind\":\"Any\",\"default\":\"primary\"},{\"name\":\"status\",\"kind\":\"Any\",\"default\":\"normalized\"}]},{\"type\":\"model\",\"name\":\"GridStack1\",\"properties\":[{\"name\":\"ncols\",\"kind\":\"Any\",\"default\":null},{\"name\":\"nrows\",\"kind\":\"Any\",\"default\":null},{\"name\":\"allow_resize\",\"kind\":\"Any\",\"default\":true},{\"name\":\"allow_drag\",\"kind\":\"Any\",\"default\":true},{\"name\":\"state\",\"kind\":\"Any\",\"default\":[]}]},{\"type\":\"model\",\"name\":\"drag1\",\"properties\":[{\"name\":\"slider_width\",\"kind\":\"Any\",\"default\":5},{\"name\":\"slider_color\",\"kind\":\"Any\",\"default\":\"black\"},{\"name\":\"start\",\"kind\":\"Any\",\"default\":0},{\"name\":\"end\",\"kind\":\"Any\",\"default\":100},{\"name\":\"value\",\"kind\":\"Any\",\"default\":50}]},{\"type\":\"model\",\"name\":\"click1\",\"properties\":[{\"name\":\"terminal_output\",\"kind\":\"Any\",\"default\":\"\"},{\"name\":\"debug_name\",\"kind\":\"Any\",\"default\":\"\"},{\"name\":\"clears\",\"kind\":\"Any\",\"default\":0}]},{\"type\":\"model\",\"name\":\"ReactiveESM1\",\"properties\":[{\"name\":\"esm_constants\",\"kind\":\"Any\",\"default\":{\"type\":\"map\"}}]},{\"type\":\"model\",\"name\":\"JSComponent1\",\"properties\":[{\"name\":\"esm_constants\",\"kind\":\"Any\",\"default\":{\"type\":\"map\"}}]},{\"type\":\"model\",\"name\":\"ReactComponent1\",\"properties\":[{\"name\":\"use_shadow_dom\",\"kind\":\"Any\",\"default\":true},{\"name\":\"esm_constants\",\"kind\":\"Any\",\"default\":{\"type\":\"map\"}}]},{\"type\":\"model\",\"name\":\"AnyWidgetComponent1\",\"properties\":[{\"name\":\"use_shadow_dom\",\"kind\":\"Any\",\"default\":true},{\"name\":\"esm_constants\",\"kind\":\"Any\",\"default\":{\"type\":\"map\"}}]},{\"type\":\"model\",\"name\":\"FastWrapper1\",\"properties\":[{\"name\":\"object\",\"kind\":\"Any\",\"default\":null},{\"name\":\"style\",\"kind\":\"Any\",\"default\":null}]},{\"type\":\"model\",\"name\":\"NotificationArea1\",\"properties\":[{\"name\":\"js_events\",\"kind\":\"Any\",\"default\":{\"type\":\"map\"}},{\"name\":\"max_notifications\",\"kind\":\"Any\",\"default\":5},{\"name\":\"notifications\",\"kind\":\"Any\",\"default\":[]},{\"name\":\"position\",\"kind\":\"Any\",\"default\":\"bottom-right\"},{\"name\":\"_clear\",\"kind\":\"Any\",\"default\":0},{\"name\":\"types\",\"kind\":\"Any\",\"default\":[{\"type\":\"map\",\"entries\":[[\"type\",\"warning\"],[\"background\",\"#ffc107\"],[\"icon\",{\"type\":\"map\",\"entries\":[[\"className\",\"fas fa-exclamation-triangle\"],[\"tagName\",\"i\"],[\"color\",\"white\"]]}]]},{\"type\":\"map\",\"entries\":[[\"type\",\"info\"],[\"background\",\"#007bff\"],[\"icon\",{\"type\":\"map\",\"entries\":[[\"className\",\"fas fa-info-circle\"],[\"tagName\",\"i\"],[\"color\",\"white\"]]}]]}]}]},{\"type\":\"model\",\"name\":\"Notification\",\"properties\":[{\"name\":\"background\",\"kind\":\"Any\",\"default\":null},{\"name\":\"duration\",\"kind\":\"Any\",\"default\":3000},{\"name\":\"icon\",\"kind\":\"Any\",\"default\":null},{\"name\":\"message\",\"kind\":\"Any\",\"default\":\"\"},{\"name\":\"notification_type\",\"kind\":\"Any\",\"default\":null},{\"name\":\"_rendered\",\"kind\":\"Any\",\"default\":false},{\"name\":\"_destroyed\",\"kind\":\"Any\",\"default\":false}]},{\"type\":\"model\",\"name\":\"TemplateActions1\",\"properties\":[{\"name\":\"open_modal\",\"kind\":\"Any\",\"default\":0},{\"name\":\"close_modal\",\"kind\":\"Any\",\"default\":0}]},{\"type\":\"model\",\"name\":\"BootstrapTemplateActions1\",\"properties\":[{\"name\":\"open_modal\",\"kind\":\"Any\",\"default\":0},{\"name\":\"close_modal\",\"kind\":\"Any\",\"default\":0}]},{\"type\":\"model\",\"name\":\"TemplateEditor1\",\"properties\":[{\"name\":\"layout\",\"kind\":\"Any\",\"default\":[]}]},{\"type\":\"model\",\"name\":\"MaterialTemplateActions1\",\"properties\":[{\"name\":\"open_modal\",\"kind\":\"Any\",\"default\":0},{\"name\":\"close_modal\",\"kind\":\"Any\",\"default\":0}]},{\"type\":\"model\",\"name\":\"request_value1\",\"properties\":[{\"name\":\"fill\",\"kind\":\"Any\",\"default\":\"none\"},{\"name\":\"_synced\",\"kind\":\"Any\",\"default\":null},{\"name\":\"_request_sync\",\"kind\":\"Any\",\"default\":0}]},{\"type\":\"model\",\"name\":\"holoviews.plotting.bokeh.raster.HoverModel\",\"properties\":[{\"name\":\"xy\",\"kind\":\"Any\",\"default\":null},{\"name\":\"data\",\"kind\":\"Any\",\"default\":null}]}]}};\n",
       "  var render_items = [{\"docid\":\"22e92a7c-11fe-4e2c-b936-3c0c10275aaf\",\"roots\":{\"07d339c1-eb23-4c78-a001-0ef6eaa99f77\":\"aa76e621-1be6-4f3a-b488-4e7275d9579a\"},\"root_ids\":[\"07d339c1-eb23-4c78-a001-0ef6eaa99f77\"]}];\n",
       "  var docs = Object.values(docs_json)\n",
       "  if (!docs) {\n",
       "    return\n",
       "  }\n",
       "  const py_version = docs[0].version.replace('rc', '-rc.').replace('.dev', '-dev.')\n",
       "  async function embed_document(root) {\n",
       "    var Bokeh = get_bokeh(root)\n",
       "    await Bokeh.embed.embed_items_notebook(docs_json, render_items);\n",
       "    for (const render_item of render_items) {\n",
       "      for (const root_id of render_item.root_ids) {\n",
       "\tconst id_el = document.getElementById(root_id)\n",
       "\tif (id_el.children.length && id_el.children[0].hasAttribute('data-root-id')) {\n",
       "\t  const root_el = id_el.children[0]\n",
       "\t  root_el.id = root_el.id + '-rendered'\n",
       "\t  for (const child of root_el.children) {\n",
       "            // Ensure JupyterLab does not capture keyboard shortcuts\n",
       "            // see: https://jupyterlab.readthedocs.io/en/4.1.x/extension/notebook.html#keyboard-interaction-model\n",
       "\t    child.setAttribute('data-lm-suppress-shortcuts', 'true')\n",
       "\t  }\n",
       "\t}\n",
       "      }\n",
       "    }\n",
       "  }\n",
       "  function get_bokeh(root) {\n",
       "    if (root.Bokeh === undefined) {\n",
       "      return null\n",
       "    } else if (root.Bokeh.version !== py_version) {\n",
       "      if (root.Bokeh.versions === undefined || !root.Bokeh.versions.has(py_version)) {\n",
       "\treturn null\n",
       "      }\n",
       "      return root.Bokeh.versions.get(py_version);\n",
       "    } else if (root.Bokeh.version === py_version) {\n",
       "      return root.Bokeh\n",
       "    }\n",
       "    return null\n",
       "  }\n",
       "  function is_loaded(root) {\n",
       "    var Bokeh = get_bokeh(root)\n",
       "    return (Bokeh != null && Bokeh.Panel !== undefined)\n",
       "  }\n",
       "  if (is_loaded(root)) {\n",
       "    embed_document(root);\n",
       "  } else {\n",
       "    var attempts = 0;\n",
       "    var timer = setInterval(function(root) {\n",
       "      if (is_loaded(root)) {\n",
       "        clearInterval(timer);\n",
       "        embed_document(root);\n",
       "      } else if (document.readyState == \"complete\") {\n",
       "        attempts++;\n",
       "        if (attempts > 200) {\n",
       "          clearInterval(timer);\n",
       "\t  var Bokeh = get_bokeh(root)\n",
       "\t  if (Bokeh == null || Bokeh.Panel == null) {\n",
       "            console.warn(\"Panel: ERROR: Unable to run Panel code because Bokeh or Panel library is missing\");\n",
       "\t  } else {\n",
       "\t    console.warn(\"Panel: WARNING: Attempting to render but not all required libraries could be resolved.\")\n",
       "\t    embed_document(root)\n",
       "\t  }\n",
       "        }\n",
       "      }\n",
       "    }, 25, root)\n",
       "  }\n",
       "})(window);</script>"
      ],
      "application/vnd.holoviews_exec.v0+json": ""
     },
     "metadata": {
      "application/vnd.holoviews_exec.v0+json": {
       "id": "07d339c1-eb23-4c78-a001-0ef6eaa99f77"
      }
     },
     "output_type": "display_data"
    },
    {
     "data": {
      "text/html": [
       "<script type=\"esms-options\">{\"shimMode\": true}</script><style>*[data-root-id],\n",
       "*[data-root-id] > * {\n",
       "  box-sizing: border-box;\n",
       "  font-family: var(--jp-ui-font-family);\n",
       "  font-size: var(--jp-ui-font-size1);\n",
       "  color: var(--vscode-editor-foreground, var(--jp-ui-font-color1));\n",
       "}\n",
       "\n",
       "/* Override VSCode background color */\n",
       ".cell-output-ipywidget-background:has(\n",
       "  > .cell-output-ipywidget-background > .lm-Widget > *[data-root-id]\n",
       "),\n",
       ".cell-output-ipywidget-background:has(> .lm-Widget > *[data-root-id]) {\n",
       "  background-color: transparent !important;\n",
       "}\n",
       "</style>"
      ]
     },
     "metadata": {},
     "output_type": "display_data"
    },
    {
     "data": {
      "application/javascript": "(function(root) {\n  function now() {\n    return new Date();\n  }\n\n  const force = false;\n  const py_version = '3.8.0'.replace('rc', '-rc.').replace('.dev', '-dev.');\n  const reloading = true;\n  const Bokeh = root.Bokeh;\n\n  // Set a timeout for this load but only if we are not already initializing\n  if (typeof (root._bokeh_timeout) === \"undefined\" || (force || !root._bokeh_is_initializing)) {\n    root._bokeh_timeout = Date.now() + 5000;\n    root._bokeh_failed_load = false;\n  }\n\n  function run_callbacks() {\n    try {\n      root._bokeh_onload_callbacks.forEach(function(callback) {\n        if (callback != null)\n          callback();\n      });\n    } finally {\n      delete root._bokeh_onload_callbacks;\n    }\n    console.debug(\"Bokeh: all callbacks have finished\");\n  }\n\n  function load_libs(css_urls, js_urls, js_modules, js_exports, callback) {\n    if (css_urls == null) css_urls = [];\n    if (js_urls == null) js_urls = [];\n    if (js_modules == null) js_modules = [];\n    if (js_exports == null) js_exports = {};\n\n    root._bokeh_onload_callbacks.push(callback);\n\n    if (root._bokeh_is_loading > 0) {\n      // Don't load bokeh if it is still initializing\n      console.debug(\"Bokeh: BokehJS is being loaded, scheduling callback at\", now());\n      return null;\n    } else if (js_urls.length === 0 && js_modules.length === 0 && Object.keys(js_exports).length === 0) {\n      // There is nothing to load\n      run_callbacks();\n      return null;\n    }\n\n    function on_load() {\n      root._bokeh_is_loading--;\n      if (root._bokeh_is_loading === 0) {\n        console.debug(\"Bokeh: all BokehJS libraries/stylesheets loaded\");\n        run_callbacks()\n      }\n    }\n    window._bokeh_on_load = on_load\n\n    function on_error(e) {\n      const src_el = e.srcElement\n      console.error(\"failed to load \" + (src_el.href || src_el.src));\n    }\n\n    const skip = [];\n    if (window.requirejs) {\n      window.requirejs.config({'packages': {}, 'paths': {}, 'shim': {}});\n      root._bokeh_is_loading = css_urls.length + 0;\n    } else {\n      root._bokeh_is_loading = css_urls.length + js_urls.length + js_modules.length + Object.keys(js_exports).length;\n    }\n\n    const existing_stylesheets = []\n    const links = document.getElementsByTagName('link')\n    for (let i = 0; i < links.length; i++) {\n      const link = links[i]\n      if (link.href != null) {\n        existing_stylesheets.push(link.href)\n      }\n    }\n    for (let i = 0; i < css_urls.length; i++) {\n      const url = css_urls[i];\n      const escaped = encodeURI(url)\n      if (existing_stylesheets.indexOf(escaped) !== -1) {\n        on_load()\n        continue;\n      }\n      const element = document.createElement(\"link\");\n      element.onload = on_load;\n      element.onerror = on_error;\n      element.rel = \"stylesheet\";\n      element.type = \"text/css\";\n      element.href = url;\n      console.debug(\"Bokeh: injecting link tag for BokehJS stylesheet: \", url);\n      document.body.appendChild(element);\n    }    var existing_scripts = []\n    const scripts = document.getElementsByTagName('script')\n    for (let i = 0; i < scripts.length; i++) {\n      var script = scripts[i]\n      if (script.src != null) {\n        existing_scripts.push(script.src)\n      }\n    }\n    for (let i = 0; i < js_urls.length; i++) {\n      const url = js_urls[i];\n      const escaped = encodeURI(url)\n      if (skip.indexOf(escaped) !== -1 || existing_scripts.indexOf(escaped) !== -1) {\n        if (!window.requirejs) {\n          on_load();\n        }\n        continue;\n      }\n      const element = document.createElement('script');\n      element.onload = on_load;\n      element.onerror = on_error;\n      element.async = false;\n      element.src = url;\n      console.debug(\"Bokeh: injecting script tag for BokehJS library: \", url);\n      document.head.appendChild(element);\n    }\n    for (let i = 0; i < js_modules.length; i++) {\n      const url = js_modules[i];\n      const escaped = encodeURI(url)\n      if (skip.indexOf(escaped) !== -1 || existing_scripts.indexOf(escaped) !== -1) {\n        if (!window.requirejs) {\n          on_load();\n        }\n        continue;\n      }\n      var element = document.createElement('script');\n      element.onload = on_load;\n      element.onerror = on_error;\n      element.async = false;\n      element.src = url;\n      element.type = \"module\";\n      console.debug(\"Bokeh: injecting script tag for BokehJS library: \", url);\n      document.head.appendChild(element);\n    }\n    for (const name in js_exports) {\n      const url = js_exports[name];\n      const escaped = encodeURI(url)\n      if (skip.indexOf(escaped) >= 0 || root[name] != null) {\n        if (!window.requirejs) {\n          on_load();\n        }\n        continue;\n      }\n      var element = document.createElement('script');\n      element.onerror = on_error;\n      element.async = false;\n      element.type = \"module\";\n      console.debug(\"Bokeh: injecting script tag for BokehJS library: \", url);\n      element.textContent = `\n      import ${name} from \"${url}\"\n      window.${name} = ${name}\n      window._bokeh_on_load()\n      `\n      document.head.appendChild(element);\n    }\n    if (!js_urls.length && !js_modules.length) {\n      on_load()\n    }\n  };\n\n  function inject_raw_css(css) {\n    const element = document.createElement(\"style\");\n    element.appendChild(document.createTextNode(css));\n    document.body.appendChild(element);\n  }\n\n  const js_urls = [\"https://cdn.holoviz.org/panel/1.8.0/dist/bundled/reactiveesm/es-module-shims@^1.10.0/dist/es-module-shims.min.js\"];\n  const js_modules = [];\n  const js_exports = {};\n  const css_urls = [];\n  const inline_js = [    function(Bokeh) {\n      Bokeh.set_log_level(\"info\");\n    },\nfunction(Bokeh) {} // ensure no trailing comma for IE\n  ];\n\n  function run_inline_js() {\n    if ((root.Bokeh !== undefined) || (force === true)) {\n      for (let i = 0; i < inline_js.length; i++) {\n        try {\n          inline_js[i].call(root, root.Bokeh);\n        } catch(e) {\n          if (!reloading) {\n            throw e;\n          }\n        }\n      }\n      // Cache old bokeh versions\n      if (Bokeh != undefined && !reloading) {\n        var NewBokeh = root.Bokeh;\n        if (Bokeh.versions === undefined) {\n          Bokeh.versions = new Map();\n        }\n        if (NewBokeh.version !== Bokeh.version) {\n          Bokeh.versions.set(NewBokeh.version, NewBokeh)\n        }\n        root.Bokeh = Bokeh;\n      }\n    } else if (Date.now() < root._bokeh_timeout) {\n      setTimeout(run_inline_js, 100);\n    } else if (!root._bokeh_failed_load) {\n      console.log(\"Bokeh: BokehJS failed to load within specified timeout.\");\n      root._bokeh_failed_load = true;\n    }\n    root._bokeh_is_initializing = false\n  }\n\n  function load_or_wait() {\n    // Implement a backoff loop that tries to ensure we do not load multiple\n    // versions of Bokeh and its dependencies at the same time.\n    // In recent versions we use the root._bokeh_is_initializing flag\n    // to determine whether there is an ongoing attempt to initialize\n    // bokeh, however for backward compatibility we also try to ensure\n    // that we do not start loading a newer (Panel>=1.0 and Bokeh>3) version\n    // before older versions are fully initialized.\n    if (root._bokeh_is_initializing && Date.now() > root._bokeh_timeout) {\n      // If the timeout and bokeh was not successfully loaded we reset\n      // everything and try loading again\n      root._bokeh_timeout = Date.now() + 5000;\n      root._bokeh_is_initializing = false;\n      root._bokeh_onload_callbacks = undefined;\n      root._bokeh_is_loading = 0\n      console.log(\"Bokeh: BokehJS was loaded multiple times but one version failed to initialize.\");\n      load_or_wait();\n    } else if (root._bokeh_is_initializing || (typeof root._bokeh_is_initializing === \"undefined\" && root._bokeh_onload_callbacks !== undefined)) {\n      setTimeout(load_or_wait, 100);\n    } else {\n      root._bokeh_is_initializing = true\n      root._bokeh_onload_callbacks = []\n      const bokeh_loaded = root.Bokeh != null && (root.Bokeh.version === py_version || (root.Bokeh.versions !== undefined && root.Bokeh.versions.has(py_version)));\n      if (!reloading && !bokeh_loaded) {\n        if (root.Bokeh) {\n          root.Bokeh = undefined;\n        }\n        console.debug(\"Bokeh: BokehJS not loaded, scheduling load and callback at\", now());\n      }\n      load_libs(css_urls, js_urls, js_modules, js_exports, function() {\n        console.debug(\"Bokeh: BokehJS plotting callback run at\", now());\n        run_inline_js();\n      });\n    }\n  }\n  // Give older versions of the autoload script a head-start to ensure\n  // they initialize before we start loading newer version.\n  setTimeout(load_or_wait, 100)\n}(window));",
      "application/vnd.holoviews_load.v0+json": "(function(root) {\n  function now() {\n    return new Date();\n  }\n\n  const force = false;\n  const py_version = '3.8.0'.replace('rc', '-rc.').replace('.dev', '-dev.');\n  const reloading = true;\n  const Bokeh = root.Bokeh;\n\n  // Set a timeout for this load but only if we are not already initializing\n  if (typeof (root._bokeh_timeout) === \"undefined\" || (force || !root._bokeh_is_initializing)) {\n    root._bokeh_timeout = Date.now() + 5000;\n    root._bokeh_failed_load = false;\n  }\n\n  function run_callbacks() {\n    try {\n      root._bokeh_onload_callbacks.forEach(function(callback) {\n        if (callback != null)\n          callback();\n      });\n    } finally {\n      delete root._bokeh_onload_callbacks;\n    }\n    console.debug(\"Bokeh: all callbacks have finished\");\n  }\n\n  function load_libs(css_urls, js_urls, js_modules, js_exports, callback) {\n    if (css_urls == null) css_urls = [];\n    if (js_urls == null) js_urls = [];\n    if (js_modules == null) js_modules = [];\n    if (js_exports == null) js_exports = {};\n\n    root._bokeh_onload_callbacks.push(callback);\n\n    if (root._bokeh_is_loading > 0) {\n      // Don't load bokeh if it is still initializing\n      console.debug(\"Bokeh: BokehJS is being loaded, scheduling callback at\", now());\n      return null;\n    } else if (js_urls.length === 0 && js_modules.length === 0 && Object.keys(js_exports).length === 0) {\n      // There is nothing to load\n      run_callbacks();\n      return null;\n    }\n\n    function on_load() {\n      root._bokeh_is_loading--;\n      if (root._bokeh_is_loading === 0) {\n        console.debug(\"Bokeh: all BokehJS libraries/stylesheets loaded\");\n        run_callbacks()\n      }\n    }\n    window._bokeh_on_load = on_load\n\n    function on_error(e) {\n      const src_el = e.srcElement\n      console.error(\"failed to load \" + (src_el.href || src_el.src));\n    }\n\n    const skip = [];\n    if (window.requirejs) {\n      window.requirejs.config({'packages': {}, 'paths': {}, 'shim': {}});\n      root._bokeh_is_loading = css_urls.length + 0;\n    } else {\n      root._bokeh_is_loading = css_urls.length + js_urls.length + js_modules.length + Object.keys(js_exports).length;\n    }\n\n    const existing_stylesheets = []\n    const links = document.getElementsByTagName('link')\n    for (let i = 0; i < links.length; i++) {\n      const link = links[i]\n      if (link.href != null) {\n        existing_stylesheets.push(link.href)\n      }\n    }\n    for (let i = 0; i < css_urls.length; i++) {\n      const url = css_urls[i];\n      const escaped = encodeURI(url)\n      if (existing_stylesheets.indexOf(escaped) !== -1) {\n        on_load()\n        continue;\n      }\n      const element = document.createElement(\"link\");\n      element.onload = on_load;\n      element.onerror = on_error;\n      element.rel = \"stylesheet\";\n      element.type = \"text/css\";\n      element.href = url;\n      console.debug(\"Bokeh: injecting link tag for BokehJS stylesheet: \", url);\n      document.body.appendChild(element);\n    }    var existing_scripts = []\n    const scripts = document.getElementsByTagName('script')\n    for (let i = 0; i < scripts.length; i++) {\n      var script = scripts[i]\n      if (script.src != null) {\n        existing_scripts.push(script.src)\n      }\n    }\n    for (let i = 0; i < js_urls.length; i++) {\n      const url = js_urls[i];\n      const escaped = encodeURI(url)\n      if (skip.indexOf(escaped) !== -1 || existing_scripts.indexOf(escaped) !== -1) {\n        if (!window.requirejs) {\n          on_load();\n        }\n        continue;\n      }\n      const element = document.createElement('script');\n      element.onload = on_load;\n      element.onerror = on_error;\n      element.async = false;\n      element.src = url;\n      console.debug(\"Bokeh: injecting script tag for BokehJS library: \", url);\n      document.head.appendChild(element);\n    }\n    for (let i = 0; i < js_modules.length; i++) {\n      const url = js_modules[i];\n      const escaped = encodeURI(url)\n      if (skip.indexOf(escaped) !== -1 || existing_scripts.indexOf(escaped) !== -1) {\n        if (!window.requirejs) {\n          on_load();\n        }\n        continue;\n      }\n      var element = document.createElement('script');\n      element.onload = on_load;\n      element.onerror = on_error;\n      element.async = false;\n      element.src = url;\n      element.type = \"module\";\n      console.debug(\"Bokeh: injecting script tag for BokehJS library: \", url);\n      document.head.appendChild(element);\n    }\n    for (const name in js_exports) {\n      const url = js_exports[name];\n      const escaped = encodeURI(url)\n      if (skip.indexOf(escaped) >= 0 || root[name] != null) {\n        if (!window.requirejs) {\n          on_load();\n        }\n        continue;\n      }\n      var element = document.createElement('script');\n      element.onerror = on_error;\n      element.async = false;\n      element.type = \"module\";\n      console.debug(\"Bokeh: injecting script tag for BokehJS library: \", url);\n      element.textContent = `\n      import ${name} from \"${url}\"\n      window.${name} = ${name}\n      window._bokeh_on_load()\n      `\n      document.head.appendChild(element);\n    }\n    if (!js_urls.length && !js_modules.length) {\n      on_load()\n    }\n  };\n\n  function inject_raw_css(css) {\n    const element = document.createElement(\"style\");\n    element.appendChild(document.createTextNode(css));\n    document.body.appendChild(element);\n  }\n\n  const js_urls = [\"https://cdn.holoviz.org/panel/1.8.0/dist/bundled/reactiveesm/es-module-shims@^1.10.0/dist/es-module-shims.min.js\"];\n  const js_modules = [];\n  const js_exports = {};\n  const css_urls = [];\n  const inline_js = [    function(Bokeh) {\n      Bokeh.set_log_level(\"info\");\n    },\nfunction(Bokeh) {} // ensure no trailing comma for IE\n  ];\n\n  function run_inline_js() {\n    if ((root.Bokeh !== undefined) || (force === true)) {\n      for (let i = 0; i < inline_js.length; i++) {\n        try {\n          inline_js[i].call(root, root.Bokeh);\n        } catch(e) {\n          if (!reloading) {\n            throw e;\n          }\n        }\n      }\n      // Cache old bokeh versions\n      if (Bokeh != undefined && !reloading) {\n        var NewBokeh = root.Bokeh;\n        if (Bokeh.versions === undefined) {\n          Bokeh.versions = new Map();\n        }\n        if (NewBokeh.version !== Bokeh.version) {\n          Bokeh.versions.set(NewBokeh.version, NewBokeh)\n        }\n        root.Bokeh = Bokeh;\n      }\n    } else if (Date.now() < root._bokeh_timeout) {\n      setTimeout(run_inline_js, 100);\n    } else if (!root._bokeh_failed_load) {\n      console.log(\"Bokeh: BokehJS failed to load within specified timeout.\");\n      root._bokeh_failed_load = true;\n    }\n    root._bokeh_is_initializing = false\n  }\n\n  function load_or_wait() {\n    // Implement a backoff loop that tries to ensure we do not load multiple\n    // versions of Bokeh and its dependencies at the same time.\n    // In recent versions we use the root._bokeh_is_initializing flag\n    // to determine whether there is an ongoing attempt to initialize\n    // bokeh, however for backward compatibility we also try to ensure\n    // that we do not start loading a newer (Panel>=1.0 and Bokeh>3) version\n    // before older versions are fully initialized.\n    if (root._bokeh_is_initializing && Date.now() > root._bokeh_timeout) {\n      // If the timeout and bokeh was not successfully loaded we reset\n      // everything and try loading again\n      root._bokeh_timeout = Date.now() + 5000;\n      root._bokeh_is_initializing = false;\n      root._bokeh_onload_callbacks = undefined;\n      root._bokeh_is_loading = 0\n      console.log(\"Bokeh: BokehJS was loaded multiple times but one version failed to initialize.\");\n      load_or_wait();\n    } else if (root._bokeh_is_initializing || (typeof root._bokeh_is_initializing === \"undefined\" && root._bokeh_onload_callbacks !== undefined)) {\n      setTimeout(load_or_wait, 100);\n    } else {\n      root._bokeh_is_initializing = true\n      root._bokeh_onload_callbacks = []\n      const bokeh_loaded = root.Bokeh != null && (root.Bokeh.version === py_version || (root.Bokeh.versions !== undefined && root.Bokeh.versions.has(py_version)));\n      if (!reloading && !bokeh_loaded) {\n        if (root.Bokeh) {\n          root.Bokeh = undefined;\n        }\n        console.debug(\"Bokeh: BokehJS not loaded, scheduling load and callback at\", now());\n      }\n      load_libs(css_urls, js_urls, js_modules, js_exports, function() {\n        console.debug(\"Bokeh: BokehJS plotting callback run at\", now());\n        run_inline_js();\n      });\n    }\n  }\n  // Give older versions of the autoload script a head-start to ensure\n  // they initialize before we start loading newer version.\n  setTimeout(load_or_wait, 100)\n}(window));"
     },
     "metadata": {},
     "output_type": "display_data"
    },
    {
     "data": {
      "application/vnd.holoviews_load.v0+json": "\nif ((window.PyViz === undefined) || (window.PyViz instanceof HTMLElement)) {\n  window.PyViz = {comms: {}, comm_status:{}, kernels:{}, receivers: {}, plot_index: []}\n}\n\n\n    function JupyterCommManager() {\n    }\n\n    JupyterCommManager.prototype.register_target = function(plot_id, comm_id, msg_handler) {\n      if (window.comm_manager || ((window.Jupyter !== undefined) && (Jupyter.notebook.kernel != null))) {\n        var comm_manager = window.comm_manager || Jupyter.notebook.kernel.comm_manager;\n        comm_manager.register_target(comm_id, function(comm) {\n          comm.on_msg(msg_handler);\n        });\n      } else if ((plot_id in window.PyViz.kernels) && (window.PyViz.kernels[plot_id])) {\n        window.PyViz.kernels[plot_id].registerCommTarget(comm_id, function(comm) {\n          comm.onMsg = msg_handler;\n        });\n      } else if (typeof google != 'undefined' && google.colab.kernel != null) {\n        google.colab.kernel.comms.registerTarget(comm_id, (comm) => {\n          var messages = comm.messages[Symbol.asyncIterator]();\n          function processIteratorResult(result) {\n            var message = result.value;\n            var content = {data: message.data, comm_id};\n            var buffers = []\n            for (var buffer of message.buffers || []) {\n              buffers.push(new DataView(buffer))\n            }\n            var metadata = message.metadata || {};\n            var msg = {content, buffers, metadata}\n            msg_handler(msg);\n            return messages.next().then(processIteratorResult);\n          }\n          return messages.next().then(processIteratorResult);\n        })\n      }\n    }\n\n    JupyterCommManager.prototype.get_client_comm = function(plot_id, comm_id, msg_handler) {\n      if (comm_id in window.PyViz.comms) {\n        return window.PyViz.comms[comm_id];\n      } else if (window.comm_manager || ((window.Jupyter !== undefined) && (Jupyter.notebook.kernel != null))) {\n        var comm_manager = window.comm_manager || Jupyter.notebook.kernel.comm_manager;\n        var comm = comm_manager.new_comm(comm_id, {}, {}, {}, comm_id);\n        if (msg_handler) {\n          comm.on_msg(msg_handler);\n        }\n      } else if ((plot_id in window.PyViz.kernels) && (window.PyViz.kernels[plot_id])) {\n        var comm = window.PyViz.kernels[plot_id].connectToComm(comm_id);\n        let retries = 0;\n        const open = () => {\n          if (comm.active) {\n            comm.open();\n          } else if (retries > 3) {\n            console.warn('Comm target never activated')\n          } else {\n            retries += 1\n            setTimeout(open, 500)\n          }\n        }\n        if (comm.active) {\n          comm.open();\n        } else {\n          setTimeout(open, 500)\n        }\n        if (msg_handler) {\n          comm.onMsg = msg_handler;\n        }\n      } else if (typeof google != 'undefined' && google.colab.kernel != null) {\n        var comm_promise = google.colab.kernel.comms.open(comm_id)\n        comm_promise.then((comm) => {\n          window.PyViz.comms[comm_id] = comm;\n          if (msg_handler) {\n            var messages = comm.messages[Symbol.asyncIterator]();\n            function processIteratorResult(result) {\n              var message = result.value;\n              var content = {data: message.data};\n              var metadata = message.metadata || {comm_id};\n              var msg = {content, metadata}\n              msg_handler(msg);\n              return messages.next().then(processIteratorResult);\n            }\n            return messages.next().then(processIteratorResult);\n          }\n        })\n        var sendClosure = (data, metadata, buffers, disposeOnDone) => {\n          return comm_promise.then((comm) => {\n            comm.send(data, metadata, buffers, disposeOnDone);\n          });\n        };\n        var comm = {\n          send: sendClosure\n        };\n      }\n      window.PyViz.comms[comm_id] = comm;\n      return comm;\n    }\n    window.PyViz.comm_manager = new JupyterCommManager();\n    \n\n\nvar JS_MIME_TYPE = 'application/javascript';\nvar HTML_MIME_TYPE = 'text/html';\nvar EXEC_MIME_TYPE = 'application/vnd.holoviews_exec.v0+json';\nvar CLASS_NAME = 'output';\n\n/**\n * Render data to the DOM node\n */\nfunction render(props, node) {\n  var div = document.createElement(\"div\");\n  var script = document.createElement(\"script\");\n  node.appendChild(div);\n  node.appendChild(script);\n}\n\n/**\n * Handle when a new output is added\n */\nfunction handle_add_output(event, handle) {\n  var output_area = handle.output_area;\n  var output = handle.output;\n  if ((output.data == undefined) || (!output.data.hasOwnProperty(EXEC_MIME_TYPE))) {\n    return\n  }\n  var id = output.metadata[EXEC_MIME_TYPE][\"id\"];\n  var toinsert = output_area.element.find(\".\" + CLASS_NAME.split(' ')[0]);\n  if (id !== undefined) {\n    var nchildren = toinsert.length;\n    var html_node = toinsert[nchildren-1].children[0];\n    html_node.innerHTML = output.data[HTML_MIME_TYPE];\n    var scripts = [];\n    var nodelist = html_node.querySelectorAll(\"script\");\n    for (var i in nodelist) {\n      if (nodelist.hasOwnProperty(i)) {\n        scripts.push(nodelist[i])\n      }\n    }\n\n    scripts.forEach( function (oldScript) {\n      var newScript = document.createElement(\"script\");\n      var attrs = [];\n      var nodemap = oldScript.attributes;\n      for (var j in nodemap) {\n        if (nodemap.hasOwnProperty(j)) {\n          attrs.push(nodemap[j])\n        }\n      }\n      attrs.forEach(function(attr) { newScript.setAttribute(attr.name, attr.value) });\n      newScript.appendChild(document.createTextNode(oldScript.innerHTML));\n      oldScript.parentNode.replaceChild(newScript, oldScript);\n    });\n    if (JS_MIME_TYPE in output.data) {\n      toinsert[nchildren-1].children[1].textContent = output.data[JS_MIME_TYPE];\n    }\n    output_area._hv_plot_id = id;\n    if ((window.Bokeh !== undefined) && (id in Bokeh.index)) {\n      window.PyViz.plot_index[id] = Bokeh.index[id];\n    } else {\n      window.PyViz.plot_index[id] = null;\n    }\n  } else if (output.metadata[EXEC_MIME_TYPE][\"server_id\"] !== undefined) {\n    var bk_div = document.createElement(\"div\");\n    bk_div.innerHTML = output.data[HTML_MIME_TYPE];\n    var script_attrs = bk_div.children[0].attributes;\n    for (var i = 0; i < script_attrs.length; i++) {\n      toinsert[toinsert.length - 1].childNodes[1].setAttribute(script_attrs[i].name, script_attrs[i].value);\n    }\n    // store reference to server id on output_area\n    output_area._bokeh_server_id = output.metadata[EXEC_MIME_TYPE][\"server_id\"];\n  }\n}\n\n/**\n * Handle when an output is cleared or removed\n */\nfunction handle_clear_output(event, handle) {\n  var id = handle.cell.output_area._hv_plot_id;\n  var server_id = handle.cell.output_area._bokeh_server_id;\n  if (((id === undefined) || !(id in PyViz.plot_index)) && (server_id !== undefined)) { return; }\n  var comm = window.PyViz.comm_manager.get_client_comm(\"hv-extension-comm\", \"hv-extension-comm\", function () {});\n  if (server_id !== null) {\n    comm.send({event_type: 'server_delete', 'id': server_id});\n    return;\n  } else if (comm !== null) {\n    comm.send({event_type: 'delete', 'id': id});\n  }\n  delete PyViz.plot_index[id];\n  if ((window.Bokeh !== undefined) & (id in window.Bokeh.index)) {\n    var doc = window.Bokeh.index[id].model.document\n    doc.clear();\n    const i = window.Bokeh.documents.indexOf(doc);\n    if (i > -1) {\n      window.Bokeh.documents.splice(i, 1);\n    }\n  }\n}\n\n/**\n * Handle kernel restart event\n */\nfunction handle_kernel_cleanup(event, handle) {\n  delete PyViz.comms[\"hv-extension-comm\"];\n  window.PyViz.plot_index = {}\n}\n\n/**\n * Handle update_display_data messages\n */\nfunction handle_update_output(event, handle) {\n  handle_clear_output(event, {cell: {output_area: handle.output_area}})\n  handle_add_output(event, handle)\n}\n\nfunction register_renderer(events, OutputArea) {\n  function append_mime(data, metadata, element) {\n    // create a DOM node to render to\n    var toinsert = this.create_output_subarea(\n    metadata,\n    CLASS_NAME,\n    EXEC_MIME_TYPE\n    );\n    this.keyboard_manager.register_events(toinsert);\n    // Render to node\n    var props = {data: data, metadata: metadata[EXEC_MIME_TYPE]};\n    render(props, toinsert[0]);\n    element.append(toinsert);\n    return toinsert\n  }\n\n  events.on('output_added.OutputArea', handle_add_output);\n  events.on('output_updated.OutputArea', handle_update_output);\n  events.on('clear_output.CodeCell', handle_clear_output);\n  events.on('delete.Cell', handle_clear_output);\n  events.on('kernel_ready.Kernel', handle_kernel_cleanup);\n\n  OutputArea.prototype.register_mime_type(EXEC_MIME_TYPE, append_mime, {\n    safe: true,\n    index: 0\n  });\n}\n\nif (window.Jupyter !== undefined) {\n  try {\n    var events = require('base/js/events');\n    var OutputArea = require('notebook/js/outputarea').OutputArea;\n    if (OutputArea.prototype.mime_types().indexOf(EXEC_MIME_TYPE) == -1) {\n      register_renderer(events, OutputArea);\n    }\n  } catch(err) {\n  }\n}\n",
      "application/javascript": "\nif ((window.PyViz === undefined) || (window.PyViz instanceof HTMLElement)) {\n  window.PyViz = {comms: {}, comm_status:{}, kernels:{}, receivers: {}, plot_index: []}\n}\n\n\n    function JupyterCommManager() {\n    }\n\n    JupyterCommManager.prototype.register_target = function(plot_id, comm_id, msg_handler) {\n      if (window.comm_manager || ((window.Jupyter !== undefined) && (Jupyter.notebook.kernel != null))) {\n        var comm_manager = window.comm_manager || Jupyter.notebook.kernel.comm_manager;\n        comm_manager.register_target(comm_id, function(comm) {\n          comm.on_msg(msg_handler);\n        });\n      } else if ((plot_id in window.PyViz.kernels) && (window.PyViz.kernels[plot_id])) {\n        window.PyViz.kernels[plot_id].registerCommTarget(comm_id, function(comm) {\n          comm.onMsg = msg_handler;\n        });\n      } else if (typeof google != 'undefined' && google.colab.kernel != null) {\n        google.colab.kernel.comms.registerTarget(comm_id, (comm) => {\n          var messages = comm.messages[Symbol.asyncIterator]();\n          function processIteratorResult(result) {\n            var message = result.value;\n            var content = {data: message.data, comm_id};\n            var buffers = []\n            for (var buffer of message.buffers || []) {\n              buffers.push(new DataView(buffer))\n            }\n            var metadata = message.metadata || {};\n            var msg = {content, buffers, metadata}\n            msg_handler(msg);\n            return messages.next().then(processIteratorResult);\n          }\n          return messages.next().then(processIteratorResult);\n        })\n      }\n    }\n\n    JupyterCommManager.prototype.get_client_comm = function(plot_id, comm_id, msg_handler) {\n      if (comm_id in window.PyViz.comms) {\n        return window.PyViz.comms[comm_id];\n      } else if (window.comm_manager || ((window.Jupyter !== undefined) && (Jupyter.notebook.kernel != null))) {\n        var comm_manager = window.comm_manager || Jupyter.notebook.kernel.comm_manager;\n        var comm = comm_manager.new_comm(comm_id, {}, {}, {}, comm_id);\n        if (msg_handler) {\n          comm.on_msg(msg_handler);\n        }\n      } else if ((plot_id in window.PyViz.kernels) && (window.PyViz.kernels[plot_id])) {\n        var comm = window.PyViz.kernels[plot_id].connectToComm(comm_id);\n        let retries = 0;\n        const open = () => {\n          if (comm.active) {\n            comm.open();\n          } else if (retries > 3) {\n            console.warn('Comm target never activated')\n          } else {\n            retries += 1\n            setTimeout(open, 500)\n          }\n        }\n        if (comm.active) {\n          comm.open();\n        } else {\n          setTimeout(open, 500)\n        }\n        if (msg_handler) {\n          comm.onMsg = msg_handler;\n        }\n      } else if (typeof google != 'undefined' && google.colab.kernel != null) {\n        var comm_promise = google.colab.kernel.comms.open(comm_id)\n        comm_promise.then((comm) => {\n          window.PyViz.comms[comm_id] = comm;\n          if (msg_handler) {\n            var messages = comm.messages[Symbol.asyncIterator]();\n            function processIteratorResult(result) {\n              var message = result.value;\n              var content = {data: message.data};\n              var metadata = message.metadata || {comm_id};\n              var msg = {content, metadata}\n              msg_handler(msg);\n              return messages.next().then(processIteratorResult);\n            }\n            return messages.next().then(processIteratorResult);\n          }\n        })\n        var sendClosure = (data, metadata, buffers, disposeOnDone) => {\n          return comm_promise.then((comm) => {\n            comm.send(data, metadata, buffers, disposeOnDone);\n          });\n        };\n        var comm = {\n          send: sendClosure\n        };\n      }\n      window.PyViz.comms[comm_id] = comm;\n      return comm;\n    }\n    window.PyViz.comm_manager = new JupyterCommManager();\n    \n\n\nvar JS_MIME_TYPE = 'application/javascript';\nvar HTML_MIME_TYPE = 'text/html';\nvar EXEC_MIME_TYPE = 'application/vnd.holoviews_exec.v0+json';\nvar CLASS_NAME = 'output';\n\n/**\n * Render data to the DOM node\n */\nfunction render(props, node) {\n  var div = document.createElement(\"div\");\n  var script = document.createElement(\"script\");\n  node.appendChild(div);\n  node.appendChild(script);\n}\n\n/**\n * Handle when a new output is added\n */\nfunction handle_add_output(event, handle) {\n  var output_area = handle.output_area;\n  var output = handle.output;\n  if ((output.data == undefined) || (!output.data.hasOwnProperty(EXEC_MIME_TYPE))) {\n    return\n  }\n  var id = output.metadata[EXEC_MIME_TYPE][\"id\"];\n  var toinsert = output_area.element.find(\".\" + CLASS_NAME.split(' ')[0]);\n  if (id !== undefined) {\n    var nchildren = toinsert.length;\n    var html_node = toinsert[nchildren-1].children[0];\n    html_node.innerHTML = output.data[HTML_MIME_TYPE];\n    var scripts = [];\n    var nodelist = html_node.querySelectorAll(\"script\");\n    for (var i in nodelist) {\n      if (nodelist.hasOwnProperty(i)) {\n        scripts.push(nodelist[i])\n      }\n    }\n\n    scripts.forEach( function (oldScript) {\n      var newScript = document.createElement(\"script\");\n      var attrs = [];\n      var nodemap = oldScript.attributes;\n      for (var j in nodemap) {\n        if (nodemap.hasOwnProperty(j)) {\n          attrs.push(nodemap[j])\n        }\n      }\n      attrs.forEach(function(attr) { newScript.setAttribute(attr.name, attr.value) });\n      newScript.appendChild(document.createTextNode(oldScript.innerHTML));\n      oldScript.parentNode.replaceChild(newScript, oldScript);\n    });\n    if (JS_MIME_TYPE in output.data) {\n      toinsert[nchildren-1].children[1].textContent = output.data[JS_MIME_TYPE];\n    }\n    output_area._hv_plot_id = id;\n    if ((window.Bokeh !== undefined) && (id in Bokeh.index)) {\n      window.PyViz.plot_index[id] = Bokeh.index[id];\n    } else {\n      window.PyViz.plot_index[id] = null;\n    }\n  } else if (output.metadata[EXEC_MIME_TYPE][\"server_id\"] !== undefined) {\n    var bk_div = document.createElement(\"div\");\n    bk_div.innerHTML = output.data[HTML_MIME_TYPE];\n    var script_attrs = bk_div.children[0].attributes;\n    for (var i = 0; i < script_attrs.length; i++) {\n      toinsert[toinsert.length - 1].childNodes[1].setAttribute(script_attrs[i].name, script_attrs[i].value);\n    }\n    // store reference to server id on output_area\n    output_area._bokeh_server_id = output.metadata[EXEC_MIME_TYPE][\"server_id\"];\n  }\n}\n\n/**\n * Handle when an output is cleared or removed\n */\nfunction handle_clear_output(event, handle) {\n  var id = handle.cell.output_area._hv_plot_id;\n  var server_id = handle.cell.output_area._bokeh_server_id;\n  if (((id === undefined) || !(id in PyViz.plot_index)) && (server_id !== undefined)) { return; }\n  var comm = window.PyViz.comm_manager.get_client_comm(\"hv-extension-comm\", \"hv-extension-comm\", function () {});\n  if (server_id !== null) {\n    comm.send({event_type: 'server_delete', 'id': server_id});\n    return;\n  } else if (comm !== null) {\n    comm.send({event_type: 'delete', 'id': id});\n  }\n  delete PyViz.plot_index[id];\n  if ((window.Bokeh !== undefined) & (id in window.Bokeh.index)) {\n    var doc = window.Bokeh.index[id].model.document\n    doc.clear();\n    const i = window.Bokeh.documents.indexOf(doc);\n    if (i > -1) {\n      window.Bokeh.documents.splice(i, 1);\n    }\n  }\n}\n\n/**\n * Handle kernel restart event\n */\nfunction handle_kernel_cleanup(event, handle) {\n  delete PyViz.comms[\"hv-extension-comm\"];\n  window.PyViz.plot_index = {}\n}\n\n/**\n * Handle update_display_data messages\n */\nfunction handle_update_output(event, handle) {\n  handle_clear_output(event, {cell: {output_area: handle.output_area}})\n  handle_add_output(event, handle)\n}\n\nfunction register_renderer(events, OutputArea) {\n  function append_mime(data, metadata, element) {\n    // create a DOM node to render to\n    var toinsert = this.create_output_subarea(\n    metadata,\n    CLASS_NAME,\n    EXEC_MIME_TYPE\n    );\n    this.keyboard_manager.register_events(toinsert);\n    // Render to node\n    var props = {data: data, metadata: metadata[EXEC_MIME_TYPE]};\n    render(props, toinsert[0]);\n    element.append(toinsert);\n    return toinsert\n  }\n\n  events.on('output_added.OutputArea', handle_add_output);\n  events.on('output_updated.OutputArea', handle_update_output);\n  events.on('clear_output.CodeCell', handle_clear_output);\n  events.on('delete.Cell', handle_clear_output);\n  events.on('kernel_ready.Kernel', handle_kernel_cleanup);\n\n  OutputArea.prototype.register_mime_type(EXEC_MIME_TYPE, append_mime, {\n    safe: true,\n    index: 0\n  });\n}\n\nif (window.Jupyter !== undefined) {\n  try {\n    var events = require('base/js/events');\n    var OutputArea = require('notebook/js/outputarea').OutputArea;\n    if (OutputArea.prototype.mime_types().indexOf(EXEC_MIME_TYPE) == -1) {\n      register_renderer(events, OutputArea);\n    }\n  } catch(err) {\n  }\n}\n"
     },
     "metadata": {},
     "output_type": "display_data"
    },
    {
     "name": "stdout",
     "output_type": "stream",
     "text": [
      "🚀 Interactive plotting functions ready!\n",
      "Usage:\n",
      "  create_interactive_monitoring_plot('my_plot.html', downsample_factor=10)\n",
      "  create_bokeh_fallback_plot('my_plot_bokeh.html', downsample_factor=10)\n",
      "📊 Your dataset has 47197 data points\n"
     ]
    }
   ],
   "execution_count": 96
  },
  {
   "metadata": {
    "ExecuteTime": {
     "end_time": "2025-09-10T14:27:22.857Z",
     "start_time": "2025-09-10T14:27:22.071684Z"
    }
   },
   "cell_type": "code",
   "source": [
    "# Example usage:\n",
    "plot = create_interactive_monitoring_plot(\"my_monitoring_data.html\")\n",
    "#create_bokeh_fallback_plot(\"test_bokeh.html\", downsample_factor=10)"
   ],
   "id": "e9e052bed347ecc9",
   "outputs": [
    {
     "name": "stdout",
     "output_type": "stream",
     "text": [
      "Processing 47197 data points...\n",
      "DataFrame created with 4720 points (downsampled from 47197)\n",
      "A100 pressure valid points: 4720\n",
      "A200 pressure valid points: 4720\n",
      "Temperature valid points: 4720\n",
      "❌ hvplot.save() failed: 'Layout' object has no attribute save.\n",
      "✅ Plot saved via HoloViews renderer: my_monitoring_data.html\n",
      "\n",
      "📊 Plot Statistics:\n",
      "   Total original data points: 47197\n",
      "   Plotted data points: 4720 (downsampled by factor 10)\n",
      "   A100 pressure range: 1.18e-02 to 1.02e+03\n",
      "   A200 pressure range: 1.04e-02 to 1.01e+03\n",
      "   Temperature range: 17.53°C to 29.91°C\n"
     ]
    }
   ],
   "execution_count": 97
  },
  {
   "metadata": {},
   "cell_type": "code",
   "outputs": [],
   "execution_count": null,
   "source": "",
   "id": "78f59125a58370b7"
  }
 ],
 "metadata": {
  "kernelspec": {
   "display_name": "Python 3 (ipykernel)",
   "language": "python",
   "name": "python3"
  },
  "language_info": {
   "name": "python"
  }
 },
 "nbformat": 4,
 "nbformat_minor": 5
}
