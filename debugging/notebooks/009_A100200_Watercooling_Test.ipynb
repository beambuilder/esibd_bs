{
 "cells": [
  {
   "cell_type": "markdown",
   "id": "f7bd867c",
   "metadata": {},
   "source": [
    "# A100 & A200 Watercooling Test - Dual Pressure & Temperature Monitoring\n",
    "\n",
    "This notebook provides control and monitoring capabilities for A100 and A200 pressure sensors with integrated chiller temperature monitoring using the current hardware versions.\n",
    "\n",
    "## Features:\n",
    "- Monitoring for 2 pressure sensors (A100 & A200) via TPG366 controller (current version)\n",
    "- Chiller (Lauda) temperature monitoring and control\n",
    "- Shared logging system using loguru\n",
    "- Cancelable continuous monitoring\n",
    "- Real-time data visualization including pressure and temperature\n",
    "- Simplified and optimized for current hardware\n",
    "\n",
    "## Test Configuration:\n",
    "- A100 Pressure (Channel 1)\n",
    "- A200 Pressure (Channel 2) \n",
    "- Water Temperature (Chiller connected to Pump Locker and heat exchanger)\n",
    "- Starting both pressure monitoring and temperature logging simultaneously"
   ]
  },
  {
   "cell_type": "markdown",
   "id": "11cc8e1a",
   "metadata": {},
   "source": [
    "## 1. Import Required Libraries and Setup"
   ]
  },
  {
   "cell_type": "code",
   "execution_count": 1,
   "id": "a216ba98",
   "metadata": {
    "ExecuteTime": {
     "end_time": "2025-09-10T07:13:02.008920Z",
     "start_time": "2025-09-10T07:13:00.938521Z"
    }
   },
   "outputs": [],
   "source": [
    "import sys\n",
    "import threading\n",
    "import time\n",
    "from datetime import datetime\n",
    "import asyncio\n",
    "from typing import Dict, Optional, Any\n",
    "import pandas as pd\n",
    "import matplotlib.pyplot as plt\n",
    "from IPython.display import display, clear_output\n",
    "import ipywidgets as widgets\n",
    "import pickle\n",
    "\n",
    "from loguru import logger\n",
    "import os\n",
    "from pathlib import Path\n",
    "\n",
    "# Add path to src modules\n",
    "sys.path.append(os.path.join(os.getcwd(), '..', '..', 'src'))\n",
    "\n",
    "# Import current device modules\n",
    "from devices.pfeiffer.tpg366.tpg366 import TPG366\n",
    "from devices.chiller.chiller import Chiller"
   ]
  },
  {
   "cell_type": "markdown",
   "id": "343350a8",
   "metadata": {},
   "source": [
    "## 2. Setup Shared Logging System"
   ]
  },
  {
   "cell_type": "code",
   "execution_count": 2,
   "id": "3e22740a",
   "metadata": {
    "ExecuteTime": {
     "end_time": "2025-09-10T07:17:04.631045Z",
     "start_time": "2025-09-10T07:17:04.620999Z"
    }
   },
   "outputs": [
    {
     "name": "stderr",
     "output_type": "stream",
     "text": [
      "2025-09-10 09:17:04 | INFO | A100/A200 Watercooling test system initialized with shared logging\n"
     ]
    },
    {
     "name": "stdout",
     "output_type": "stream",
     "text": [
      "Repository root: C:\\Users\\ESIBDlab\\PycharmProjects\\esibd_bs\n",
      "Shared logs will be saved to: C:\\Users\\ESIBDlab\\PycharmProjects\\esibd_bs\\debugging\\logs\\009_A100A200_watercooling_test_20250910_091704.log\n"
     ]
    }
   ],
   "source": [
    "# Get the repository root and create shared logs directory\n",
    "repo_root = Path(os.getcwd()).parent.parent\n",
    "log_dir = repo_root / \"debugging\" / \"logs\"\n",
    "log_dir.mkdir(parents=True, exist_ok=True)\n",
    "\n",
    "# Create shared log file for all devices\n",
    "timestamp = datetime.now().strftime(\"%Y%m%d_%H%M%S\")\n",
    "shared_log_file = log_dir / f\"009_A100A200_watercooling_test_{timestamp}.log\"\n",
    "\n",
    "# Configure shared logger\n",
    "logger.remove()  # Remove default logger\n",
    "\n",
    "# Add console logger with INFO level\n",
    "logger.add(sys.stderr, level=\"INFO\", format=\"{time:YYYY-MM-DD HH:mm:ss} | {level} | {message}\")\n",
    "\n",
    "# Add shared file logger with DEBUG level\n",
    "logger.add(\n",
    "    str(shared_log_file),\n",
    "    level=\"DEBUG\",\n",
    "    format=\"{time:YYYY-MM-DD HH:mm:ss.SSS} | {level} | {name}:{function}:{line} | {message}\",\n",
    "    rotation=\"1 day\",\n",
    "    retention=\"30 days\",\n",
    "    compression=\"zip\"\n",
    ")\n",
    "\n",
    "logger.info(\"A100/A200 Watercooling test system initialized with shared logging\")\n",
    "print(f\"Repository root: {repo_root}\")\n",
    "print(f\"Shared logs will be saved to: {shared_log_file}\")"
   ]
  },
  {
   "cell_type": "markdown",
   "id": "37137588",
   "metadata": {},
   "source": [
    "## 3. Dual Pressure & Temperature Controller Class"
   ]
  },
  {
   "cell_type": "code",
   "execution_count": 3,
   "id": "68cc5f54",
   "metadata": {
    "ExecuteTime": {
     "end_time": "2025-09-10T07:17:32.557083Z",
     "start_time": "2025-09-10T07:17:32.549761Z"
    }
   },
   "outputs": [
    {
     "name": "stderr",
     "output_type": "stream",
     "text": [
      "2025-09-10 09:17:32 | INFO | Dual Pressure & Temperature Controller initialized\n"
     ]
    }
   ],
   "source": [
    "class DualPressureTemperatureController:\n",
    "    \"\"\"Controller class for managing dual pressure sensors (A100/A200) and chiller temperature monitoring\"\"\"\n",
    "    \n",
    "    def __init__(self):\n",
    "        self.pressure_controller: Optional[TPG366] = None\n",
    "        self.chiller: Optional[Chiller] = None\n",
    "        \n",
    "        # Monitoring control\n",
    "        self.monitoring_active = False\n",
    "        self.monitoring_thread = None\n",
    "        self.monitoring_stop_event = threading.Event()\n",
    "        \n",
    "        # Data storage\n",
    "        self.monitoring_data = []\n",
    "        \n",
    "        # Shared thread lock for all devices\n",
    "        self.shared_lock = threading.Lock()\n",
    "        \n",
    "        logger.info(\"Dual Pressure & Temperature Controller initialized\")\n",
    "    \n",
    "    def connect_pressure_controller(self, com_port: str, address: int):\n",
    "        \"\"\"Connect to TPG366 pressure controller with shared logger\"\"\"\n",
    "        try:\n",
    "            logger.info(f\"Connecting to TPG366 pressure controller on {com_port}, address {address}\")\n",
    "            self.pressure_controller = TPG366(\n",
    "                device_id=\"tpg366_dual_pressure\",\n",
    "                port=com_port,\n",
    "                device_address=address,\n",
    "                logger=logger,  # Pass shared logger\n",
    "                thread_lock=self.shared_lock  # Use shared lock\n",
    "            )\n",
    "            self.pressure_controller.connect()\n",
    "            \n",
    "            logger.success(\"TPG366 pressure controller connected successfully\")\n",
    "            return True\n",
    "            \n",
    "        except Exception as e:\n",
    "            logger.error(f\"Failed to connect TPG366 pressure controller: {e}\")\n",
    "            return False\n",
    "    \n",
    "    def connect_chiller(self, com_port: str):\n",
    "        \"\"\"Connect to Chiller (Lauda) with shared logger\"\"\"\n",
    "        try:\n",
    "            logger.info(f\"Connecting to Chiller on {com_port}\")\n",
    "            self.chiller = Chiller(\n",
    "                device_id=\"lauda_chiller\",\n",
    "                port=com_port,\n",
    "                logger=logger,  # Pass shared logger\n",
    "                thread_lock=self.shared_lock  # Use shared lock\n",
    "            )\n",
    "            self.chiller.connect()\n",
    "            \n",
    "            logger.success(\"Chiller connected successfully\")\n",
    "            return True\n",
    "            \n",
    "        except Exception as e:\n",
    "            logger.error(f\"Failed to connect Chiller: {e}\")\n",
    "            return False\n",
    "    \n",
    "    def disconnect_all(self):\n",
    "        \"\"\"Safely disconnect all devices\"\"\"\n",
    "        logger.info(\"Disconnecting all devices...\")\n",
    "        \n",
    "        # Stop monitoring first\n",
    "        self.stop_monitoring()\n",
    "        \n",
    "        # Disconnect pressure controller\n",
    "        if self.pressure_controller:\n",
    "            try:\n",
    "                self.pressure_controller.disconnect()\n",
    "                logger.info(\"TPG366 pressure controller disconnected\")\n",
    "            except Exception as e:\n",
    "                logger.error(f\"Error disconnecting TPG366 pressure controller: {e}\")\n",
    "        \n",
    "        # Disconnect chiller\n",
    "        if self.chiller:\n",
    "            try:\n",
    "                self.chiller.disconnect()\n",
    "                logger.info(\"Chiller disconnected\")\n",
    "            except Exception as e:\n",
    "                logger.error(f\"Error disconnecting Chiller: {e}\")\n",
    "        \n",
    "        logger.success(\"All devices disconnected\")\n",
    "\n",
    "# Create global controller instance\n",
    "controller = DualPressureTemperatureController()"
   ]
  },
  {
   "cell_type": "markdown",
   "id": "9b07a12d",
   "metadata": {},
   "source": [
    "## 4. Device Monitoring Functions"
   ]
  },
  {
   "cell_type": "code",
   "execution_count": 4,
   "id": "5d9d5628",
   "metadata": {
    "ExecuteTime": {
     "end_time": "2025-09-10T07:17:38.714135Z",
     "start_time": "2025-09-10T07:17:38.707915Z"
    }
   },
   "outputs": [
    {
     "name": "stdout",
     "output_type": "stream",
     "text": [
      "Monitoring functions defined successfully\n"
     ]
    }
   ],
   "source": [
    "def monitor_tpg366_pressure(pressure_controller: TPG366, sensor_id: str, channel: int) -> Dict[str, Any]:\n",
    "    \"\"\"\n",
    "    Monitor pressure from TPG366 sensor channel.\n",
    "    \n",
    "    Parameters:\n",
    "    - pressure_controller: TPG366 pressure controller instance\n",
    "    - sensor_id: Identifier string for the sensor (A100/A200)\n",
    "    - channel: Sensor channel to read from (1-6)\n",
    "    \n",
    "    Returns:\n",
    "    - Dictionary containing pressure data\n",
    "    \"\"\"\n",
    "    \n",
    "    try:\n",
    "        logger.debug(f\"Reading pressure from {sensor_id}, channel {channel}...\")\n",
    "        \n",
    "        # Get actual pressure reading using current API\n",
    "        pressure_value = pressure_controller.read_pressure_value(channel)\n",
    "        \n",
    "        pressure_data = {\n",
    "            'timestamp': datetime.now(),\n",
    "            'sensor_id': sensor_id,\n",
    "            'channel': channel,\n",
    "            'pressure_value': pressure_value,\n",
    "            'status': 'OK'\n",
    "        }\n",
    "        \n",
    "        logger.debug(f\"{sensor_id} pressure reading: {pressure_value}\")\n",
    "        return pressure_data\n",
    "        \n",
    "    except Exception as e:\n",
    "        logger.error(f\"Error reading pressure from {sensor_id}: {e}\")\n",
    "        return {\n",
    "            'timestamp': datetime.now(),\n",
    "            'sensor_id': sensor_id,\n",
    "            'channel': channel,\n",
    "            'pressure_value': None,\n",
    "            'error': str(e),\n",
    "            'status': 'ERROR'\n",
    "        }\n",
    "\n",
    "def monitor_chiller_temperature(chiller: Chiller) -> Dict[str, Any]:\n",
    "    \"\"\"\n",
    "    Monitor temperature from Chiller.\n",
    "    \n",
    "    Parameters:\n",
    "    - chiller: Chiller instance\n",
    "    \n",
    "    Returns:\n",
    "    - Dictionary containing temperature data\n",
    "    \"\"\"\n",
    "    \n",
    "    try:\n",
    "        logger.debug(\"Reading temperature from Chiller...\")\n",
    "        \n",
    "        # Get actual temperature reading\n",
    "        current_temp = chiller.read_temp()\n",
    "        set_temp = chiller.read_set_temp()\n",
    "        \n",
    "        temp_data = {\n",
    "            'timestamp': datetime.now(),\n",
    "            'current_temperature': current_temp,\n",
    "            'set_temperature': set_temp,\n",
    "            'status': 'OK'\n",
    "        }\n",
    "        \n",
    "        logger.debug(f\"Chiller temperature readings - Current: {current_temp}°C, Set: {set_temp}°C\")\n",
    "        return temp_data\n",
    "        \n",
    "    except Exception as e:\n",
    "        logger.error(f\"Error reading temperature from Chiller: {e}\")\n",
    "        return {\n",
    "            'timestamp': datetime.now(),\n",
    "            'current_temperature': None,\n",
    "            'set_temperature': None,\n",
    "            'error': str(e),\n",
    "            'status': 'ERROR'\n",
    "        }\n",
    "\n",
    "print(\"Monitoring functions defined successfully\")"
   ]
  },
  {
   "cell_type": "markdown",
   "id": "6cfe6913",
   "metadata": {},
   "source": [
    "## 5. Continuous Monitoring System"
   ]
  },
  {
   "cell_type": "code",
   "execution_count": 5,
   "id": "59a7705f",
   "metadata": {
    "ExecuteTime": {
     "end_time": "2025-09-10T07:18:22.116693Z",
     "start_time": "2025-09-10T07:18:22.106111Z"
    }
   },
   "outputs": [
    {
     "name": "stdout",
     "output_type": "stream",
     "text": [
      "Continuous monitoring system ready\n"
     ]
    }
   ],
   "source": [
    "def continuous_monitoring_worker(controller: DualPressureTemperatureController, interval: float = 5.0):\n",
    "    \"\"\"\n",
    "    Worker function for continuous monitoring that runs in a separate thread.\n",
    "    \"\"\"\n",
    "    logger.info(f\"Starting continuous monitoring with {interval}s interval\")\n",
    "    \n",
    "    while not controller.monitoring_stop_event.is_set():\n",
    "        try:\n",
    "            monitoring_cycle_data = {\n",
    "                'cycle_timestamp': datetime.now(),\n",
    "                'a100_data': None,\n",
    "                'a200_data': None,\n",
    "                'chiller_data': None\n",
    "            }\n",
    "\n",
    "            # Monitor pressure sensors if controller is connected\n",
    "            if controller.pressure_controller:\n",
    "                # Read from A100 sensor (Channel 1)\n",
    "                monitoring_cycle_data['a100_data'] = monitor_tpg366_pressure(\n",
    "                    controller.pressure_controller, \"A100\", channel=1\n",
    "                )\n",
    "                \n",
    "                # Read from A200 sensor (Channel 2)\n",
    "                monitoring_cycle_data['a200_data'] = monitor_tpg366_pressure(\n",
    "                    controller.pressure_controller, \"A200\", channel=2\n",
    "                )\n",
    "            \n",
    "            # Monitor chiller temperature if connected\n",
    "            if controller.chiller:\n",
    "                monitoring_cycle_data['chiller_data'] = monitor_chiller_temperature(\n",
    "                    controller.chiller\n",
    "                )\n",
    "            \n",
    "            # Store data\n",
    "            controller.monitoring_data.append(monitoring_cycle_data)\n",
    "            \n",
    "            # Log summary with all values if available\n",
    "            log_msg = f\"Monitoring cycle completed at {monitoring_cycle_data['cycle_timestamp']}\"\n",
    "            if monitoring_cycle_data['a100_data'] and monitoring_cycle_data['a200_data']:\n",
    "                p1 = monitoring_cycle_data['a100_data'].get('pressure_value')\n",
    "                p2 = monitoring_cycle_data['a200_data'].get('pressure_value')\n",
    "                log_msg += f\" | Pressures: A100={p1}, A200={p2}\"\n",
    "            if monitoring_cycle_data['chiller_data']:\n",
    "                temp_curr = monitoring_cycle_data['chiller_data'].get('current_temperature')\n",
    "                temp_set = monitoring_cycle_data['chiller_data'].get('set_temperature')\n",
    "                log_msg += f\" | Chiller: {temp_curr}°C (set: {temp_set}°C)\"\n",
    "            logger.info(log_msg)\n",
    "            \n",
    "            # Wait for next cycle or stop signal\n",
    "            if controller.monitoring_stop_event.wait(timeout=interval):\n",
    "                break  # Stop event was set\n",
    "                \n",
    "        except Exception as e:\n",
    "            logger.error(f\"Error in monitoring cycle: {e}\")\n",
    "            # Continue monitoring even if one cycle fails\n",
    "            time.sleep(interval)\n",
    "    \n",
    "    logger.info(\"Continuous monitoring stopped\")\n",
    "\n",
    "def start_monitoring(controller: DualPressureTemperatureController, interval: float = 5.0):\n",
    "    \"\"\"Start continuous monitoring in a separate thread.\"\"\"\n",
    "    if controller.monitoring_active:\n",
    "        logger.warning(\"Monitoring is already active\")\n",
    "        return False\n",
    "    \n",
    "    # Reset stop event and clear old data\n",
    "    controller.monitoring_stop_event.clear()\n",
    "    controller.monitoring_data.clear()\n",
    "    \n",
    "    # Start monitoring thread\n",
    "    controller.monitoring_thread = threading.Thread(\n",
    "        target=continuous_monitoring_worker,\n",
    "        args=(controller, interval),\n",
    "        daemon=True\n",
    "    )\n",
    "    \n",
    "    controller.monitoring_thread.start()\n",
    "    controller.monitoring_active = True\n",
    "    \n",
    "    logger.success(f\"Continuous monitoring started with {interval}s interval\")\n",
    "    return True\n",
    "\n",
    "def stop_monitoring(controller: DualPressureTemperatureController):\n",
    "    \"\"\"Stop continuous monitoring gracefully.\"\"\"\n",
    "    if not controller.monitoring_active:\n",
    "        logger.info(\"Monitoring is not currently active\")\n",
    "        return\n",
    "    \n",
    "    logger.info(\"Stopping continuous monitoring...\")\n",
    "    \n",
    "    # Signal the monitoring thread to stop\n",
    "    controller.monitoring_stop_event.set()\n",
    "    \n",
    "    # Wait for thread to finish (with timeout)\n",
    "    if controller.monitoring_thread and controller.monitoring_thread.is_alive():\n",
    "        controller.monitoring_thread.join(timeout=10.0)\n",
    "        \n",
    "        if controller.monitoring_thread.is_alive():\n",
    "            logger.warning(\"Monitoring thread did not stop gracefully\")\n",
    "        else:\n",
    "            logger.success(\"Monitoring thread stopped successfully\")\n",
    "    \n",
    "    controller.monitoring_active = False\n",
    "    controller.monitoring_thread = None\n",
    "\n",
    "# Add methods to controller class\n",
    "controller.start_monitoring = lambda interval=5.0: start_monitoring(controller, interval)\n",
    "controller.stop_monitoring = lambda: stop_monitoring(controller)\n",
    "\n",
    "print(\"Continuous monitoring system ready\")"
   ]
  },
  {
   "cell_type": "markdown",
   "id": "38b31377",
   "metadata": {},
   "source": [
    "## 6. Device Connection Configuration"
   ]
  },
  {
   "cell_type": "code",
   "execution_count": 6,
   "id": "40870cf4",
   "metadata": {
    "ExecuteTime": {
     "end_time": "2025-09-10T07:18:25.906910Z",
     "start_time": "2025-09-10T07:18:25.903445Z"
    }
   },
   "outputs": [
    {
     "name": "stdout",
     "output_type": "stream",
     "text": [
      "Device configuration loaded:\n",
      "TPG366 Pressure Controller: COM22, Address 10\n",
      "  -> A100 Sensor: Channel 1\n",
      "  -> A200 Sensor: Channel 2\n",
      "Lauda Chiller: COM39\n",
      "  -> Water temperature monitoring and control\n"
     ]
    }
   ],
   "source": [
    "# Configuration for your devices\n",
    "# Modify these values according to your setup\n",
    "\n",
    "# TPG366 pressure controller\n",
    "PRESSURE_COM = 'COM22'  # TPG366 pressure controller COM port\n",
    "PRESSURE_ADDR = 10      # TPG366 standard address\n",
    "\n",
    "# Chiller (Lauda) configuration\n",
    "CHILLER_COM = 'COM39'    # Chiller COM port (modify as needed)\n",
    "\n",
    "print(\"Device configuration loaded:\")\n",
    "print(f\"TPG366 Pressure Controller: {PRESSURE_COM}, Address {PRESSURE_ADDR}\")\n",
    "print(f\"  -> A100 Sensor: Channel 1\")\n",
    "print(f\"  -> A200 Sensor: Channel 2\")\n",
    "print(f\"Lauda Chiller: {CHILLER_COM}\")\n",
    "print(f\"  -> Water temperature monitoring and control\")"
   ]
  },
  {
   "cell_type": "code",
   "execution_count": 7,
   "id": "991270c4",
   "metadata": {
    "ExecuteTime": {
     "end_time": "2025-09-10T07:18:30.009932Z",
     "start_time": "2025-09-10T07:18:29.943360Z"
    }
   },
   "outputs": [
    {
     "name": "stderr",
     "output_type": "stream",
     "text": [
      "2025-09-10 09:18:29 | INFO | Connecting to TPG366 pressure controller on COM22, address 10\n",
      "2025-09-10 09:18:29 | INFO | Connecting to Pfeiffer device tpg366_dual_pressure on COM22\n",
      "2025-09-10 09:18:29 | INFO | Successfully connected to device at address 10\n",
      "2025-09-10 09:18:29 | SUCCESS | TPG366 pressure controller connected successfully\n",
      "2025-09-10 09:18:29 | INFO | Connecting to Chiller on COM39\n",
      "2025-09-10 09:18:29 | INFO | Using external logger for device 'lauda_chiller'\n",
      "2025-09-10 09:18:29 | INFO | Connecting to chiller lauda_chiller on COM39\n",
      "2025-09-10 09:18:30 | SUCCESS | Chiller connected successfully\n"
     ]
    },
    {
     "name": "stdout",
     "output_type": "stream",
     "text": [
      "✅ TPG366 pressure controller connected successfully\n",
      "A100 and A200 sensors accessible via channels 1 and 2\n",
      "✅ Lauda Chiller connected successfully\n",
      "Water temperature monitoring enabled\n"
     ]
    }
   ],
   "source": [
    "# Connect to TPG366 pressure controller\n",
    "pressure_connection = controller.connect_pressure_controller(PRESSURE_COM, PRESSURE_ADDR)\n",
    "\n",
    "if pressure_connection:\n",
    "    print(\"✅ TPG366 pressure controller connected successfully\")\n",
    "    print(\"A100 and A200 sensors accessible via channels 1 and 2\")\n",
    "else:\n",
    "    print(\"❌ Failed to connect to TPG366 pressure controller\")\n",
    "\n",
    "# Connect to Chiller\n",
    "chiller_connection = controller.connect_chiller(CHILLER_COM)\n",
    "\n",
    "if chiller_connection:\n",
    "    print(\"✅ Lauda Chiller connected successfully\")\n",
    "    print(\"Water temperature monitoring enabled\")\n",
    "else:\n",
    "    print(\"❌ Failed to connect to Lauda Chiller\")"
   ]
  },
  {
   "cell_type": "markdown",
   "id": "ada95f7c",
   "metadata": {},
   "source": [
    "## 7. Device Testing and Status"
   ]
  },
  {
   "cell_type": "code",
   "execution_count": 11,
   "id": "1026760e",
   "metadata": {
    "ExecuteTime": {
     "end_time": "2025-09-10T07:18:50.996871Z",
     "start_time": "2025-09-10T07:18:50.887744Z"
    }
   },
   "outputs": [
    {
     "name": "stdout",
     "output_type": "stream",
     "text": [
      "Testing A100 and A200 Pressure Sensors:\n",
      "  A100 Pressure (Channel 1): 1012.0\n",
      "  A200 Pressure (Channel 2): 1008.9999999999999\n"
     ]
    }
   ],
   "source": [
    "# Test individual sensor readings (A100 and A200)\n",
    "if controller.pressure_controller:\n",
    "    try:\n",
    "        print(\"Testing A100 and A200 Pressure Sensors:\")\n",
    "        \n",
    "        # Test A100 (Channel 1)\n",
    "        a100_pressure = controller.pressure_controller.read_pressure_value(1)\n",
    "        print(f\"  A100 Pressure (Channel 1): {a100_pressure}\")\n",
    "        \n",
    "        # Test A200 (Channel 2) \n",
    "        a200_pressure = controller.pressure_controller.read_pressure_value(2)\n",
    "        print(f\"  A200 Pressure (Channel 2): {a200_pressure}\")\n",
    "        \n",
    "    except Exception as e:\n",
    "        logger.error(f\"Error testing pressure sensors: {e}\")\n",
    "        print(f\"  ❌ Error testing pressure sensors: {e}\")\n",
    "else:\n",
    "    print(\"TPG366 pressure controller not connected\")"
   ]
  },
  {
   "cell_type": "code",
   "execution_count": 12,
   "id": "be2a7288",
   "metadata": {
    "ExecuteTime": {
     "end_time": "2025-09-10T07:19:17.678649Z",
     "start_time": "2025-09-10T07:19:17.668618Z"
    }
   },
   "outputs": [
    {
     "name": "stdout",
     "output_type": "stream",
     "text": [
      "Testing Lauda Chiller:\n",
      "  Current Temperature: 18.0°C\n",
      "  Set Temperature: 18.0°C\n",
      "  Device Status: OK\n",
      "  Running State: DEVICE RUNNING\n",
      "\n",
      "  Chiller tests completed successfully ✅\n"
     ]
    }
   ],
   "source": [
    "# Test Chiller temperature readings\n",
    "if controller.chiller:\n",
    "    try:\n",
    "        print(\"Testing Lauda Chiller:\")\n",
    "        \n",
    "        # Get current and set temperatures\n",
    "        current_temp = controller.chiller.read_temp()\n",
    "        set_temp = controller.chiller.read_set_temp()\n",
    "        print(f\"  Current Temperature: {current_temp}°C\")\n",
    "        print(f\"  Set Temperature: {set_temp}°C\")\n",
    "        \n",
    "        # Get device status\n",
    "        status = controller.chiller.read_status()\n",
    "        running = controller.chiller.read_running()\n",
    "        print(f\"  Device Status: {status}\")\n",
    "        print(f\"  Running State: {running}\")\n",
    "        \n",
    "        print(\"\\n  Chiller tests completed successfully ✅\")\n",
    "        \n",
    "    except Exception as e:\n",
    "        logger.error(f\"Error testing Chiller: {e}\")\n",
    "        print(f\"  ❌ Error testing Chiller: {e}\")\n",
    "else:\n",
    "    print(\"Chiller not connected\")"
   ]
  },
  {
   "cell_type": "markdown",
   "id": "5e0b1429",
   "metadata": {},
   "source": [
    "## 8. Monitoring Control Interface"
   ]
  },
  {
   "cell_type": "code",
   "execution_count": 15,
   "id": "24bf57f0",
   "metadata": {
    "ExecuteTime": {
     "end_time": "2025-09-10T07:20:04.373323Z",
     "start_time": "2025-09-10T07:20:04.359523Z"
    }
   },
   "outputs": [
    {
     "data": {
      "application/vnd.jupyter.widget-view+json": {
       "model_id": "7309e93c69ba4547b346808b27f66876",
       "version_major": 2,
       "version_minor": 0
      },
      "text/plain": [
       "VBox(children=(Label(value='A100/A200 & Chiller Monitoring Controls:'), FloatSlider(value=2.0, description='In…"
      ]
     },
     "metadata": {},
     "output_type": "display_data"
    }
   ],
   "source": [
    "# Create interactive controls for monitoring\n",
    "start_button = widgets.Button(description=\"Start Monitoring\", button_style='success')\n",
    "stop_button = widgets.Button(description=\"Stop Monitoring\", button_style='danger')\n",
    "interval_slider = widgets.FloatSlider(\n",
    "    value=2.0,\n",
    "    min=0.1,\n",
    "    max=2.0,\n",
    "    step=0.1,\n",
    "    description='Interval (s):',\n",
    "    style={'description_width': 'initial'}\n",
    ")\n",
    "status_output = widgets.Output()\n",
    "\n",
    "def on_start_clicked(b):\n",
    "    with status_output:\n",
    "        clear_output(wait=True)\n",
    "        success = controller.start_monitoring(interval_slider.value)\n",
    "        if success:\n",
    "            print(f\"✅ Monitoring started with {interval_slider.value}s interval\")\n",
    "            print(\"Monitoring: A100 pressure, A200 pressure, and chiller temperature\")\n",
    "        else:\n",
    "            print(\"❌ Failed to start monitoring (already running?)\")\n",
    "\n",
    "def on_stop_clicked(b):\n",
    "    with status_output:\n",
    "        clear_output(wait=True)\n",
    "        controller.stop_monitoring()\n",
    "        print(\"🛑 Monitoring stopped\")\n",
    "\n",
    "start_button.on_click(on_start_clicked)\n",
    "stop_button.on_click(on_stop_clicked)\n",
    "\n",
    "# Display controls\n",
    "controls = widgets.VBox([\n",
    "    widgets.Label(\"A100/A200 & Chiller Monitoring Controls:\"),\n",
    "    interval_slider,\n",
    "    widgets.HBox([start_button, stop_button]),\n",
    "    status_output\n",
    "])\n",
    "\n",
    "display(controls)"
   ]
  },
  {
   "cell_type": "code",
   "execution_count": null,
   "id": "1aadb397",
   "metadata": {},
   "outputs": [],
   "source": [
    "%matplotlib inline"
   ]
  },
  {
   "cell_type": "markdown",
   "id": "814155ba",
   "metadata": {},
   "source": [
    "## 9. Data Visualization"
   ]
  },
  {
   "cell_type": "markdown",
   "id": "59e3c7fb",
   "metadata": {},
   "source": [
    "### 9.1 Static Plotting"
   ]
  },
  {
   "cell_type": "code",
   "execution_count": 16,
   "id": "9e2a963d",
   "metadata": {
    "ExecuteTime": {
     "end_time": "2025-09-10T07:25:40.058467Z",
     "start_time": "2025-09-10T07:25:40.048298Z"
    }
   },
   "outputs": [
    {
     "name": "stdout",
     "output_type": "stream",
     "text": [
      "Data visualization functions ready\n"
     ]
    }
   ],
   "source": [
    "def plot_monitoring_data():\n",
    "    \"\"\"Plot the collected monitoring data for dual pressure sensors and chiller temperature\"\"\"\n",
    "    if not controller.monitoring_data:\n",
    "        print(\"No monitoring data available. Start monitoring first.\")\n",
    "        return\n",
    "    \n",
    "    # Convert data to lists for easier plotting\n",
    "    timestamps = []\n",
    "    a100_pressure = []\n",
    "    a200_pressure = []\n",
    "    chiller_current_temp = []\n",
    "    chiller_set_temp = []\n",
    "\n",
    "    for cycle in controller.monitoring_data:\n",
    "        timestamps.append(cycle['cycle_timestamp'])\n",
    "        \n",
    "        # Extract pressure data\n",
    "        a100_pressure.append(cycle['a100_data']['pressure_value'] if cycle['a100_data'] and cycle['a100_data'].get('pressure_value') else None)\n",
    "        a200_pressure.append(cycle['a200_data']['pressure_value'] if cycle['a200_data'] and cycle['a200_data'].get('pressure_value') else None)\n",
    "        \n",
    "        # Extract temperature data\n",
    "        chiller_current_temp.append(cycle['chiller_data']['current_temperature'] if cycle['chiller_data'] and cycle['chiller_data'].get('current_temperature') else None)\n",
    "        chiller_set_temp.append(cycle['chiller_data']['set_temperature'] if cycle['chiller_data'] and cycle['chiller_data'].get('set_temperature') else None)\n",
    "\n",
    "    # Create subplots: 2 rows, 1 column\n",
    "    fig, (ax1, ax2) = plt.subplots(2, 1, figsize=(16, 12))\n",
    "    \n",
    "    # Plot 1: Pressure (with logarithmic scale for vacuum)\n",
    "    ax1.plot(timestamps, a100_pressure, 'b-', label='A100 Pressure', marker='o')\n",
    "    ax1.plot(timestamps, a200_pressure, 'r-', label='A200 Pressure', marker='^')\n",
    "    ax1.set_yscale('log')\n",
    "    ax1.set_ylabel('Pressure (log scale)')\n",
    "    ax1.set_title('A100 & A200 Pressure Over Time')\n",
    "    ax1.legend()\n",
    "    ax1.grid(True)\n",
    "    ax1.tick_params(axis='x', rotation=45)\n",
    "    \n",
    "    # Plot 2: Temperature\n",
    "    ax2.plot(timestamps, chiller_current_temp, 'g-', label='Current Temperature', marker='s')\n",
    "    ax2.plot(timestamps, chiller_set_temp, 'g--', label='Set Temperature', marker='d', alpha=0.7)\n",
    "    ax2.set_ylabel('Temperature (°C)')\n",
    "    ax2.set_xlabel('Time')\n",
    "    ax2.set_title('Chiller Temperature Over Time')\n",
    "    ax2.legend()\n",
    "    ax2.grid(True)\n",
    "    ax2.tick_params(axis='x', rotation=45)\n",
    "    \n",
    "    plt.tight_layout()\n",
    "    plt.show()\n",
    "    \n",
    "    # Print statistics\n",
    "    print(f\"Plotted {len(controller.monitoring_data)} data points\")\n",
    "    valid_a100 = [p for p in a100_pressure if p is not None]\n",
    "    valid_a200 = [p for p in a200_pressure if p is not None]\n",
    "    valid_temp = [t for t in chiller_current_temp if t is not None]\n",
    "\n",
    "    if valid_a100:\n",
    "        print(f\"A100 pressure range: {min(valid_a100):.2e} to {max(valid_a100):.2e}\")\n",
    "    if valid_a200:\n",
    "        print(f\"A200 pressure range: {min(valid_a200):.2e} to {max(valid_a200):.2e}\")\n",
    "    if valid_temp:\n",
    "        print(f\"Chiller temperature range: {min(valid_temp):.2f}°C to {max(valid_temp):.2f}°C\")\n",
    "\n",
    "def get_monitoring_summary():\n",
    "    \"\"\"Get a summary of current monitoring status\"\"\"\n",
    "    print(f\"Monitoring Status: {'🟢 Active' if controller.monitoring_active else '🔴 Inactive'}\")\n",
    "    print(f\"Data Points Collected: {len(controller.monitoring_data)}\")\n",
    "    print(f\"TPG366 Controller Connected: {'✅' if controller.pressure_controller else '❌'}\")\n",
    "    print(f\"Chiller Connected: {'✅' if controller.chiller else '❌'}\")\n",
    "    \n",
    "    if controller.monitoring_data:\n",
    "        latest = controller.monitoring_data[-1]\n",
    "        print(f\"\\nLatest Data Point: {latest['cycle_timestamp']}\")\n",
    "        \n",
    "        # Show latest pressure readings\n",
    "        if latest['a100_data']:\n",
    "            a100_p = latest['a100_data'].get('pressure_value')\n",
    "            print(f\"  A100 Pressure: {a100_p}\")\n",
    "        if latest['a200_data']:\n",
    "            a200_p = latest['a200_data'].get('pressure_value')\n",
    "            print(f\"  A200 Pressure: {a200_p}\")\n",
    "        \n",
    "        # Show latest temperature readings\n",
    "        if latest['chiller_data']:\n",
    "            curr_temp = latest['chiller_data'].get('current_temperature')\n",
    "            set_temp = latest['chiller_data'].get('set_temperature')\n",
    "            print(f\"  Chiller Temperature: {curr_temp}°C (set: {set_temp}°C)\")\n",
    "\n",
    "print(\"Data visualization functions ready\")"
   ]
  },
  {
   "cell_type": "code",
   "execution_count": null,
   "id": "85056a72",
   "metadata": {},
   "outputs": [],
   "source": [
    "# Plot monitoring data (run this cell periodically to see updated plots)\n",
    "plot_monitoring_data()"
   ]
  },
  {
   "cell_type": "code",
   "execution_count": null,
   "id": "ef839311",
   "metadata": {},
   "outputs": [],
   "source": [
    "# Get current monitoring summary\n",
    "get_monitoring_summary()"
   ]
  },
  {
   "cell_type": "markdown",
   "id": "6c6b5c30",
   "metadata": {},
   "source": [
    "### 9.2 Live Plotting"
   ]
  },
  {
   "cell_type": "code",
   "execution_count": 18,
   "id": "2b9a0da9",
   "metadata": {
    "ExecuteTime": {
     "end_time": "2025-09-10T07:26:23.253611Z",
     "start_time": "2025-09-10T07:26:23.237041Z"
    }
   },
   "outputs": [
    {
     "name": "stdout",
     "output_type": "stream",
     "text": [
      "Live plotting class ready\n"
     ]
    }
   ],
   "source": [
    "import matplotlib.pyplot as plt\n",
    "from matplotlib.animation import FuncAnimation\n",
    "import numpy as np\n",
    "\n",
    "class DualPressureTemperaturePlotter:\n",
    "    def __init__(self, controller, update_interval=1000):\n",
    "        \"\"\"\n",
    "        Initialize live monitoring plot for dual pressure and temperature\n",
    "        Args:\n",
    "            controller: The controller object with monitoring_data\n",
    "            update_interval: Update interval in milliseconds (default: 1000ms = 1 second)\n",
    "        \"\"\"\n",
    "        self.controller = controller\n",
    "        self.update_interval = update_interval\n",
    "\n",
    "        # Initialize data lists\n",
    "        self.timestamps = []\n",
    "        self.a100_pressure = []\n",
    "        self.a200_pressure = []\n",
    "        self.chiller_current_temp = []\n",
    "        self.chiller_set_temp = []\n",
    "\n",
    "        # Create figure and subplots (2 rows, 1 column)\n",
    "        self.fig, (self.ax1, self.ax2) = plt.subplots(2, 1, figsize=(12, 10))\n",
    "\n",
    "        self.temp_log = []\n",
    "        self.log_file_size = 0\n",
    "\n",
    "    def update_plot(self, frame):\n",
    "        # Get new data\n",
    "        current_size = len(self.controller.monitoring_data)\n",
    "        if current_size > self.log_file_size:\n",
    "            new_entries = self.controller.monitoring_data[self.log_file_size:]\n",
    "            self.temp_log.extend(new_entries)\n",
    "            self.log_file_size = current_size\n",
    "\n",
    "        # Process new entries\n",
    "        for entry in self.temp_log:\n",
    "            self.timestamps.append(entry['cycle_timestamp'])\n",
    "            \n",
    "            # Extract pressure data\n",
    "            self.a100_pressure.append(entry['a100_data']['pressure_value'] if entry['a100_data'] and entry['a100_data'].get('pressure_value') else None)\n",
    "            self.a200_pressure.append(entry['a200_data']['pressure_value'] if entry['a200_data'] and entry['a200_data'].get('pressure_value') else None)\n",
    "            \n",
    "            # Extract temperature data\n",
    "            self.chiller_current_temp.append(entry['chiller_data']['current_temperature'] if entry['chiller_data'] and entry['chiller_data'].get('current_temperature') else None)\n",
    "            self.chiller_set_temp.append(entry['chiller_data']['set_temperature'] if entry['chiller_data'] and entry['chiller_data'].get('set_temperature') else None)\n",
    "\n",
    "        # Clear temp_log after processing to avoid reprocessing\n",
    "        self.temp_log = []\n",
    "\n",
    "        # Clear only the axes, not the entire figure\n",
    "        self.ax1.clear()\n",
    "        self.ax2.clear()\n",
    "\n",
    "        # Filter out None values for plotting\n",
    "        valid_pressure_data = [(t, a100, a200) for t, a100, a200 in zip(self.timestamps, self.a100_pressure, self.a200_pressure)\n",
    "                              if a100 is not None or a200 is not None]\n",
    "        \n",
    "        valid_temp_data = [(t, curr, set_t) for t, curr, set_t in zip(self.timestamps, self.chiller_current_temp, self.chiller_set_temp)\n",
    "                          if curr is not None]\n",
    "\n",
    "        # Plot pressure data (ax1) - last 120 points only\n",
    "        if valid_pressure_data:\n",
    "            times_p, a100_vals, a200_vals = zip(*valid_pressure_data)\n",
    "\n",
    "            # Plot A100 data (filter None values) - BLUE with circle marker\n",
    "            a100_valid = [(t, p) for t, p in zip(times_p, a100_vals) if p is not None]\n",
    "            if a100_valid:\n",
    "                t_a100, p_a100 = zip(*a100_valid)\n",
    "                if len(t_a100) > 120:\n",
    "                    self.ax1.plot(t_a100[-119:], p_a100[-119:], 'b-', label='A100 Pressure', marker='o')\n",
    "                else:\n",
    "                    self.ax1.plot(t_a100, p_a100, 'b-', label='A100 Pressure', marker='o')\n",
    "\n",
    "            # Plot A200 data (filter None values) - RED with triangle marker\n",
    "            a200_valid = [(t, p) for t, p in zip(times_p, a200_vals) if p is not None]\n",
    "            if a200_valid:\n",
    "                t_a200, p_a200 = zip(*a200_valid)\n",
    "                if len(t_a200) > 120:\n",
    "                    self.ax1.plot(t_a200[-119:], p_a200[-119:], 'r-', label='A200 Pressure', marker='^')\n",
    "                else:\n",
    "                    self.ax1.plot(t_a200, p_a200, 'r-', label='A200 Pressure', marker='^')\n",
    "\n",
    "        # Use logarithmic scale for pressure if values are very small (typical for vacuum)\n",
    "        self.ax1.set_yscale('log')\n",
    "        self.ax1.set_ylabel('Pressure (log scale)')\n",
    "        self.ax1.set_title('A100 & A200 Pressure Over Time')\n",
    "        self.ax1.legend()\n",
    "        self.ax1.grid(True)\n",
    "\n",
    "        # Plot temperature data (ax2) - last 120 points only\n",
    "        if valid_temp_data:\n",
    "            times_t, curr_temps, set_temps = zip(*valid_temp_data)\n",
    "\n",
    "            # Plot current temperature - GREEN with square marker\n",
    "            curr_temp_valid = [(t, temp) for t, temp in zip(times_t, curr_temps) if temp is not None]\n",
    "            if curr_temp_valid:\n",
    "                t_curr, temp_curr = zip(*curr_temp_valid)\n",
    "                if len(t_curr) > 120:\n",
    "                    self.ax2.plot(t_curr[-119:], temp_curr[-119:], 'g-', label='Current Temperature', marker='s')\n",
    "                else:\n",
    "                    self.ax2.plot(t_curr, temp_curr, 'g-', label='Current Temperature', marker='s')\n",
    "\n",
    "            # Plot set temperature - GREEN dashed with diamond marker\n",
    "            set_temp_valid = [(t, temp) for t, temp in zip(times_t, set_temps) if temp is not None]\n",
    "            if set_temp_valid:\n",
    "                t_set, temp_set = zip(*set_temp_valid)\n",
    "                if len(t_set) > 120:\n",
    "                    self.ax2.plot(t_set[-119:], temp_set[-119:], 'g--', label='Set Temperature', marker='d', alpha=0.7)\n",
    "                else:\n",
    "                    self.ax2.plot(t_set, temp_set, 'g--', label='Set Temperature', marker='d', alpha=0.7)\n",
    "\n",
    "        self.ax2.set_ylabel('Temperature (degC)')\n",
    "        self.ax2.set_xlabel('Time')\n",
    "        self.ax2.set_title('Chiller: Water Temperature Over Time')\n",
    "        self.ax2.legend()\n",
    "        self.ax2.grid(True)\n",
    "\n",
    "        # Rotate x-axis labels for better readability\n",
    "        self.ax1.tick_params(axis='x', rotation=45)\n",
    "        self.ax2.tick_params(axis='x', rotation=45)\n",
    "\n",
    "        # Adjust layout\n",
    "        self.fig.tight_layout()\n",
    "\n",
    "    def start_live_plot(self):\n",
    "        \"\"\"Start the live plotting\"\"\"\n",
    "        if not self.controller.monitoring_data:\n",
    "            print(\"No monitoring data available. Start monitoring first.\")\n",
    "            return None, None\n",
    "\n",
    "        print(f\"Starting live plot with {self.update_interval/1000}s update interval...\")\n",
    "        print(\"Close the plot window to stop live plotting.\")\n",
    "\n",
    "        # Create animation\n",
    "        self.ani = FuncAnimation(\n",
    "            self.fig,\n",
    "            self.update_plot,\n",
    "            interval=self.update_interval,\n",
    "            blit=False,  # Set to False for easier debugging\n",
    "            cache_frame_data=False\n",
    "        )\n",
    "\n",
    "        # Show the plot\n",
    "        plt.show()\n",
    "\n",
    "        return self.timestamps, self.controller.monitoring_data\n",
    "\n",
    "    def stop_live_plot(self):\n",
    "        \"\"\"Stop the live plotting\"\"\"\n",
    "        if hasattr(self, 'ani'):\n",
    "            self.ani.event_source.stop()\n",
    "            print(\"Live plotting stopped.\")\n",
    "        else:\n",
    "            print(\"No animation to stop.\")\n",
    "\n",
    "print(\"Live plotting class ready\")"
   ]
  },
  {
   "cell_type": "code",
   "execution_count": 19,
   "id": "aff1fe95",
   "metadata": {
    "ExecuteTime": {
     "end_time": "2025-09-10T07:26:25.194223Z",
     "start_time": "2025-09-10T07:26:25.186697Z"
    }
   },
   "outputs": [],
   "source": [
    "%matplotlib notebook"
   ]
  },
  {
   "cell_type": "code",
   "execution_count": null,
   "id": "2aaf3589",
   "metadata": {},
   "outputs": [],
   "source": [
    "# Start live plotting\n",
    "live_plot = DualPressureTemperaturePlotter(controller)\n",
    "timestamps, data = live_plot.start_live_plot()"
   ]
  },
  {
   "cell_type": "code",
   "execution_count": 21,
   "id": "4f86ff99",
   "metadata": {
    "ExecuteTime": {
     "end_time": "2025-09-10T07:36:37.518323Z",
     "start_time": "2025-09-10T07:36:37.514855Z"
    }
   },
   "outputs": [
    {
     "name": "stdout",
     "output_type": "stream",
     "text": [
      "Live plotting stopped.\n"
     ]
    }
   ],
   "source": [
    "# Stop live plotting\n",
    "live_plot.stop_live_plot()"
   ]
  },
  {
   "cell_type": "markdown",
   "id": "a84c148a",
   "metadata": {},
   "source": [
    "## 10. Data Export and Cleanup"
   ]
  },
  {
   "cell_type": "code",
   "execution_count": 1,
   "id": "458752d8",
   "metadata": {
    "ExecuteTime": {
     "end_time": "2025-09-10T07:37:06.276360Z",
     "start_time": "2025-09-10T07:37:06.265743Z"
    }
   },
   "outputs": [
    {
     "name": "stdout",
     "output_type": "stream",
     "text": [
      "Data export functions ready\n"
     ]
    }
   ],
   "source": [
    "def export_monitoring_data(filename: str = None):\n",
    "    \"\"\"Export monitoring data to CSV file\"\"\"\n",
    "    if not controller.monitoring_data:\n",
    "        print(\"No data to export\")\n",
    "        return\n",
    "    \n",
    "    if filename is None:\n",
    "        timestamp = datetime.now().strftime('%Y%m%d_%H%M%S')\n",
    "        filename = f\"a100_a200_chiller_data_{timestamp}.csv\"\n",
    "    \n",
    "    # Flatten the data for CSV export\n",
    "    flattened_data = []\n",
    "    for cycle in controller.monitoring_data:\n",
    "        row = {'timestamp': cycle['cycle_timestamp']}\n",
    "        \n",
    "        # Add A100 data\n",
    "        if cycle['a100_data']:\n",
    "            for key, value in cycle['a100_data'].items():\n",
    "                row[f'a100_{key}'] = value\n",
    "        \n",
    "        # Add A200 data\n",
    "        if cycle['a200_data']:\n",
    "            for key, value in cycle['a200_data'].items():\n",
    "                row[f'a200_{key}'] = value\n",
    "        \n",
    "        # Add chiller data\n",
    "        if cycle['chiller_data']:\n",
    "            for key, value in cycle['chiller_data'].items():\n",
    "                row[f'chiller_{key}'] = value\n",
    "        \n",
    "        flattened_data.append(row)\n",
    "    \n",
    "    df = pd.DataFrame(flattened_data)\n",
    "    df.to_csv(filename, index=False)\n",
    "    logger.info(f\"Data exported to {filename}\")\n",
    "    print(f\"✅ Data exported to {filename}\")\n",
    "\n",
    "def save_monitoring_data_pickle(filename: str = None):\n",
    "    \"\"\"Save monitoring data as pickle file\"\"\"\n",
    "    if not controller.monitoring_data:\n",
    "        print(\"No data to save\")\n",
    "        return\n",
    "        \n",
    "    if filename is None:\n",
    "        timestamp = datetime.now().strftime('%Y%m%d_%H%M%S')\n",
    "        filename = f\"a100_a200_chiller_data_{timestamp}.pkl\"\n",
    "    \n",
    "    with open(filename, 'wb') as f:\n",
    "        pickle.dump(controller.monitoring_data, f)\n",
    "    \n",
    "    logger.info(f\"Data saved to pickle file: {filename}\")\n",
    "    print(f\"✅ Data saved to pickle file: {filename}\")\n",
    "\n",
    "def load_monitoring_data_pickle(filename: str):\n",
    "    \"\"\"Load monitoring data from pickle file\"\"\"\n",
    "    try:\n",
    "        with open(filename, 'rb') as f:\n",
    "            loaded_data = pickle.load(f)\n",
    "        \n",
    "        controller.monitoring_data = loaded_data\n",
    "        logger.info(f\"Data loaded from pickle file: {filename}\")\n",
    "        print(f\"✅ Data loaded from pickle file: {filename}\")\n",
    "        print(f\"Loaded {len(loaded_data)} data points\")\n",
    "        \n",
    "    except Exception as e:\n",
    "        logger.error(f\"Error loading data from {filename}: {e}\")\n",
    "        print(f\"❌ Error loading data from {filename}: {e}\")\n",
    "\n",
    "print(\"Data export functions ready\")"
   ]
  },
  {
   "cell_type": "code",
   "execution_count": 6,
   "id": "cc1cd4d4a2019c0a",
   "metadata": {
    "ExecuteTime": {
     "end_time": "2025-09-10T07:37:42.730780Z",
     "start_time": "2025-09-10T07:37:42.728358Z"
    }
   },
   "outputs": [],
   "source": [
    "from datetime import datetime"
   ]
  },
  {
   "cell_type": "code",
   "execution_count": null,
   "id": "44a0ff34",
   "metadata": {},
   "outputs": [],
   "source": [
    "# Export current monitoring data\n",
    "timestamp = datetime.now().strftime('%d-%m-%Y_%H%M')\n",
    "export_monitoring_data(f\"{timestamp}_a100_a200_chiller_data.csv\")"
   ]
  },
  {
   "cell_type": "code",
   "execution_count": null,
   "id": "a2315c28",
   "metadata": {},
   "outputs": [],
   "source": [
    "# Save monitoring data as pickle\n",
    "timestamp = datetime.now().strftime('%d-%m-%Y_%H%M')\n",
    "save_monitoring_data_pickle(f\"{timestamp}_a100_a200_chiller_data.pkl\")"
   ]
  },
  {
   "cell_type": "code",
   "execution_count": null,
   "id": "39334691",
   "metadata": {},
   "outputs": [],
   "source": [
    "# Emergency disconnect all devices\n",
    "controller.disconnect_all()"
   ]
  },
  {
   "cell_type": "code",
   "execution_count": null,
   "id": "25683ca5",
   "metadata": {},
   "outputs": [],
   "source": [
    "# Emergency stop and cleanup\n",
    "print(\"🛑 Emergency Stop - Disconnecting all devices...\")\n",
    "controller.disconnect_all()\n",
    "print(\"✅ All devices disconnected safely\")\n",
    "print(\"\\nTo reconnect, run the connection cells again.\")"
   ]
  },
  {
   "cell_type": "markdown",
   "id": "cb458ac4",
   "metadata": {},
   "source": [
    "## Quick Reference\n",
    "\n",
    "### Key Functions:\n",
    "- **Connect devices**: Run cells in section 6\n",
    "- **Start monitoring**: Use the interface in section 8 or call `controller.start_monitoring(interval)`\n",
    "- **Stop monitoring**: Use the interface in section 8 or call `controller.stop_monitoring()`\n",
    "- **View data**: Run `get_monitoring_summary()` and `plot_monitoring_data()`\n",
    "- **Export data**: Run `export_monitoring_data()` or `save_monitoring_data_pickle()`\n",
    "- **Emergency stop**: Run the last cell to disconnect everything\n",
    "\n",
    "### Test Configuration:\n",
    "- **A100 Pressure**: TPG366 Channel 1\n",
    "- **A200 Pressure**: TPG366 Channel 2  \n",
    "- **Chiller Temperature**: Current and set temperature monitoring\n",
    "- **Data Logging**: All values logged simultaneously with timestamps\n",
    "\n",
    "### Key Improvements from Original 008:\n",
    "- Dual pressure sensor monitoring (A100 & A200) instead of single sensor\n",
    "- Added chiller (Lauda) temperature monitoring and control\n",
    "- Enhanced live plotting with temperature display\n",
    "- Updated data export functions to include all three data streams\n",
    "- Shared logging system for all devices (TPG366 + Chiller)\n",
    "- Real-time visualization of pressure and temperature trends\n",
    "\n",
    "### Device Configuration:\n",
    "- Pressure Controller: TPG366 (standard address 10, channels 1 & 2)\n",
    "- Chiller: Lauda (COM3, temperature monitoring and control)\n",
    "- All devices use shared logger and thread synchronization\n",
    "\n",
    "### Live Monitoring Features:\n",
    "- **Pressure**: A100 and A200 on logarithmic scale (typical for vacuum measurements)\n",
    "- **Temperature**: Current vs. set temperature comparison  \n",
    "- **Real-time Updates**: Configurable interval from 0.1 to 30 seconds\n",
    "- **Data Export**: CSV and pickle formats for analysis\n",
    "- **Thread-Safe**: Proper synchronization for all device communications"
   ]
  }
 ],
 "metadata": {
  "kernelspec": {
   "display_name": "Python 3 (ipykernel)",
   "language": "python",
   "name": "python3"
  },
  "language_info": {
   "name": "python"
  }
 },
 "nbformat": 4,
 "nbformat_minor": 5
}
