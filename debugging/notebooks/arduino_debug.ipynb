{
 "cells": [
  {
   "cell_type": "code",
   "id": "initial_id",
   "metadata": {
    "collapsed": true,
    "ExecuteTime": {
     "end_time": "2025-07-29T12:10:10.661803Z",
     "start_time": "2025-07-29T12:10:10.649626Z"
    }
   },
   "source": [
    "import serial\n",
    "from src.devices.arduino import Arduino\n",
    "\n",
    "from datetime import datetime"
   ],
   "outputs": [],
   "execution_count": 1
  },
  {
   "metadata": {
    "ExecuteTime": {
     "end_time": "2025-07-29T11:36:09.709394Z",
     "start_time": "2025-07-29T11:36:09.706665Z"
    }
   },
   "cell_type": "code",
   "source": "trafo_ard = Arduino(\"Trafo_Arduino\", 'COM30', baudrate=115200)",
   "id": "540c740472a152c8",
   "outputs": [],
   "execution_count": 4
  },
  {
   "metadata": {
    "ExecuteTime": {
     "end_time": "2025-07-29T11:36:23.744734Z",
     "start_time": "2025-07-29T11:36:23.717565Z"
    }
   },
   "cell_type": "code",
   "source": "trafo_ard.connect()",
   "id": "2e5994bc9e57a80",
   "outputs": [
    {
     "data": {
      "text/plain": [
       "True"
      ]
     },
     "execution_count": 6,
     "metadata": {},
     "output_type": "execute_result"
    }
   ],
   "execution_count": 6
  },
  {
   "metadata": {
    "ExecuteTime": {
     "end_time": "2025-07-29T11:37:48.577439Z",
     "start_time": "2025-07-29T11:37:48.575327Z"
    }
   },
   "cell_type": "code",
   "source": "trafo_ard.data_parser = \"pump_locker\"",
   "id": "e3f453475479e501",
   "outputs": [],
   "execution_count": 11
  },
  {
   "metadata": {
    "ExecuteTime": {
     "end_time": "2025-07-29T12:00:33.165762Z",
     "start_time": "2025-07-29T12:00:33.160965Z"
    }
   },
   "cell_type": "code",
   "source": "trafo_ard.disconnect()",
   "id": "7d092ca187c85fe0",
   "outputs": [
    {
     "data": {
      "text/plain": [
       "True"
      ]
     },
     "execution_count": 24,
     "metadata": {},
     "output_type": "execute_result"
    }
   ],
   "execution_count": 24
  },
  {
   "metadata": {
    "ExecuteTime": {
     "end_time": "2025-07-29T12:10:12.215844Z",
     "start_time": "2025-07-29T12:10:12.212377Z"
    }
   },
   "cell_type": "code",
   "source": "pump_ard = Arduino(\"Pump_Arduino\", 'COM27', baudrate=115200)",
   "id": "51078ce5ef87b830",
   "outputs": [],
   "execution_count": 2
  },
  {
   "metadata": {
    "ExecuteTime": {
     "end_time": "2025-07-29T12:10:12.722273Z",
     "start_time": "2025-07-29T12:10:12.686322Z"
    }
   },
   "cell_type": "code",
   "source": "pump_ard.connect()",
   "id": "2123d279a1804fd6",
   "outputs": [
    {
     "data": {
      "text/plain": [
       "True"
      ]
     },
     "execution_count": 3,
     "metadata": {},
     "output_type": "execute_result"
    }
   ],
   "execution_count": 3
  },
  {
   "metadata": {
    "ExecuteTime": {
     "end_time": "2025-07-29T12:10:13.580221Z",
     "start_time": "2025-07-29T12:10:13.576725Z"
    }
   },
   "cell_type": "code",
   "source": "pump_ard.data_parser",
   "id": "a9cef8cfec5a9a88",
   "outputs": [
    {
     "data": {
      "text/plain": [
       "'pump_locker'"
      ]
     },
     "execution_count": 4,
     "metadata": {},
     "output_type": "execute_result"
    }
   ],
   "execution_count": 4
  },
  {
   "metadata": {
    "ExecuteTime": {
     "end_time": "2025-07-29T12:10:14.136483Z",
     "start_time": "2025-07-29T12:10:14.132130Z"
    }
   },
   "cell_type": "code",
   "source": "a = pump_ard.read_arduino_data()",
   "id": "fac8d0f25553aa4b",
   "outputs": [],
   "execution_count": 5
  },
  {
   "metadata": {
    "ExecuteTime": {
     "end_time": "2025-07-29T12:10:15.451459Z",
     "start_time": "2025-07-29T12:10:15.447936Z"
    }
   },
   "cell_type": "code",
   "source": "a",
   "id": "8546f31d2e8e4b60",
   "outputs": [
    {
     "data": {
      "text/plain": [
       "{'temperature': 21.94,\n",
       " 'fan_power': 20,\n",
       " 'waterflow': 0.0,\n",
       " 'raw_data': 'Temperature: 21.94 °C | Fan_PWR: 20 % | H2O_FRate: 0.0 L/min'}"
      ]
     },
     "execution_count": 6,
     "metadata": {},
     "output_type": "execute_result"
    }
   ],
   "execution_count": 6
  },
  {
   "metadata": {
    "ExecuteTime": {
     "end_time": "2025-07-29T12:08:28.988256Z",
     "start_time": "2025-07-29T12:08:28.983919Z"
    }
   },
   "cell_type": "code",
   "source": "pump_ard.read_arduino_data()",
   "id": "e808a1a745e9efcf",
   "outputs": [
    {
     "name": "stdout",
     "output_type": "stream",
     "text": [
      "Temperature: 21.94 °C | Fan_PWR: 20 % | H2O_FRate: 0.0 L/min\n",
      "HI\n"
     ]
    }
   ],
   "execution_count": 7
  },
  {
   "metadata": {
    "ExecuteTime": {
     "end_time": "2025-07-29T12:12:41.876022Z",
     "start_time": "2025-07-29T12:12:41.871622Z"
    }
   },
   "cell_type": "code",
   "source": "pump_ard.disconnect()",
   "id": "f78c9202937b1aab",
   "outputs": [
    {
     "data": {
      "text/plain": [
       "True"
      ]
     },
     "execution_count": 7,
     "metadata": {},
     "output_type": "execute_result"
    }
   ],
   "execution_count": 7
  },
  {
   "metadata": {
    "ExecuteTime": {
     "end_time": "2025-07-29T12:08:47.141477Z",
     "start_time": "2025-07-29T12:08:47.138475Z"
    }
   },
   "cell_type": "code",
   "source": [
    "\n",
    "a"
   ],
   "id": "44c37f9b943cea7a",
   "outputs": [],
   "execution_count": 9
  },
  {
   "metadata": {
    "ExecuteTime": {
     "end_time": "2025-07-29T12:08:51.772491Z",
     "start_time": "2025-07-29T12:08:51.768781Z"
    }
   },
   "cell_type": "code",
   "source": "type(a)",
   "id": "7ab50eba1f77cad3",
   "outputs": [
    {
     "data": {
      "text/plain": [
       "NoneType"
      ]
     },
     "execution_count": 10,
     "metadata": {},
     "output_type": "execute_result"
    }
   ],
   "execution_count": 10
  },
  {
   "metadata": {},
   "cell_type": "code",
   "outputs": [],
   "execution_count": null,
   "source": "",
   "id": "918c3e422638c4b6"
  }
 ],
 "metadata": {
  "kernelspec": {
   "display_name": "Python 3",
   "language": "python",
   "name": "python3"
  },
  "language_info": {
   "codemirror_mode": {
    "name": "ipython",
    "version": 2
   },
   "file_extension": ".py",
   "mimetype": "text/x-python",
   "name": "python",
   "nbconvert_exporter": "python",
   "pygments_lexer": "ipython2",
   "version": "2.7.6"
  }
 },
 "nbformat": 4,
 "nbformat_minor": 5
}
