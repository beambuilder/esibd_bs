{
 "cells": [
  {
   "metadata": {},
   "cell_type": "markdown",
   "source": "# Pfeiffer Debug 01\n",
   "id": "161f4a372e0fff38"
  },
  {
   "metadata": {},
   "cell_type": "markdown",
   "source": "# TPG 366 Debug with internal logger",
   "id": "54c55c4fe9707f5f"
  },
  {
   "metadata": {
    "ExecuteTime": {
     "end_time": "2025-08-04T07:42:33.937453Z",
     "start_time": "2025-08-04T07:42:33.917411Z"
    }
   },
   "cell_type": "code",
   "source": [
    "import sys\n",
    "import logging\n",
    "from pathlib import Path\n",
    "import datetime\n",
    "# Add project source to Python path\n",
    "project_root = Path.cwd().parent.parent\n",
    "src_path = project_root / \"src\"\n",
    "sys.path.insert(0, str(src_path))\n",
    "\n",
    "print(f\"Project root: {project_root}\")\n",
    "print(f\"Source path: {src_path}\")\n",
    "print(f\"Python path updated: {str(src_path) in sys.path}\")\n",
    "# Import arduino class\n",
    "try:\n",
    "    from devices.pfeiffer.tpg366 import TPG366\n",
    "    print(\"✅ Successfully imported TPG366 class\")\n",
    "except ImportError as e:\n",
    "    print(f\"❌ Failed to import TPG366 class: {e}\")\n",
    "    print(\"Check that the src/devices/pfeiffer/tpg366/tpg366.py file exists\")\n"
   ],
   "id": "38742e76e01c8275",
   "outputs": [
    {
     "name": "stdout",
     "output_type": "stream",
     "text": [
      "Project root: C:\\Users\\ESIBDlab\\PycharmProjects\\esibd_bs\n",
      "Source path: C:\\Users\\ESIBDlab\\PycharmProjects\\esibd_bs\\src\n",
      "Python path updated: True\n",
      "✅ Successfully imported TPG366 class\n"
     ]
    }
   ],
   "execution_count": 1
  },
  {
   "metadata": {
    "ExecuteTime": {
     "end_time": "2025-08-04T07:42:37.032312Z",
     "start_time": "2025-08-04T07:42:37.028132Z"
    }
   },
   "cell_type": "code",
   "source": [
    "tpg = TPG366(\n",
    "        device_id=\"tpg_366\",\n",
    "        port=\"COM22\",  # Change to your actual port\n",
    "        device_address=10,  # Standard TPG base address\n",
    "        timeout=2.0\n",
    "    )"
   ],
   "id": "3dd43ab7d35e7854",
   "outputs": [],
   "execution_count": 3
  },
  {
   "metadata": {
    "ExecuteTime": {
     "end_time": "2025-08-04T07:42:37.695710Z",
     "start_time": "2025-08-04T07:42:37.666865Z"
    }
   },
   "cell_type": "code",
   "source": "tpg.connect()",
   "id": "1902cba17fda707a",
   "outputs": [
    {
     "data": {
      "text/plain": [
       "True"
      ]
     },
     "execution_count": 4,
     "metadata": {},
     "output_type": "execute_result"
    }
   ],
   "execution_count": 4
  },
  {
   "metadata": {
    "ExecuteTime": {
     "end_time": "2025-08-04T07:42:38.438662Z",
     "start_time": "2025-08-04T07:42:38.368404Z"
    }
   },
   "cell_type": "code",
   "source": "tpg.get_device_name()",
   "id": "107f8ebacfb31961",
   "outputs": [
    {
     "data": {
      "text/plain": [
       "'TPG366'"
      ]
     },
     "execution_count": 5,
     "metadata": {},
     "output_type": "execute_result"
    }
   ],
   "execution_count": 5
  },
  {
   "metadata": {
    "ExecuteTime": {
     "end_time": "2025-08-04T07:42:39.025286Z",
     "start_time": "2025-08-04T07:42:39.021495Z"
    }
   },
   "cell_type": "code",
   "source": "tpg.port",
   "id": "e70c78b7f6689462",
   "outputs": [
    {
     "data": {
      "text/plain": [
       "'COM22'"
      ]
     },
     "execution_count": 6,
     "metadata": {},
     "output_type": "execute_result"
    }
   ],
   "execution_count": 6
  },
  {
   "metadata": {
    "ExecuteTime": {
     "end_time": "2025-08-04T07:42:56.671711Z",
     "start_time": "2025-08-04T07:42:56.342432Z"
    }
   },
   "cell_type": "code",
   "source": "tpg.hk_monitor()",
   "id": "18b2d827658866bd",
   "outputs": [],
   "execution_count": 8
  },
  {
   "metadata": {
    "ExecuteTime": {
     "end_time": "2025-08-04T07:41:54.459041Z",
     "start_time": "2025-08-04T07:41:54.330045Z"
    }
   },
   "cell_type": "code",
   "source": "tpg.disconnect()",
   "id": "d29628e4264bc657",
   "outputs": [
    {
     "data": {
      "text/plain": [
       "True"
      ]
     },
     "execution_count": 55,
     "metadata": {},
     "output_type": "execute_result"
    }
   ],
   "execution_count": 55
  },
  {
   "metadata": {
    "ExecuteTime": {
     "end_time": "2025-08-04T07:43:30.340789Z",
     "start_time": "2025-08-04T07:43:30.277306Z"
    }
   },
   "cell_type": "code",
   "source": "tpg._query_channel_parameter(1, 740)",
   "id": "a51da9e2f36ed4ed",
   "outputs": [
    {
     "data": {
      "text/plain": [
       "'100723'"
      ]
     },
     "execution_count": 10,
     "metadata": {},
     "output_type": "execute_result"
    }
   ],
   "execution_count": 10
  },
  {
   "metadata": {
    "ExecuteTime": {
     "end_time": "2025-08-04T07:50:53.294156Z",
     "start_time": "2025-08-04T07:50:53.291135Z"
    }
   },
   "cell_type": "code",
   "source": "tpg.hk_interval",
   "id": "95b83b5c058cda50",
   "outputs": [
    {
     "data": {
      "text/plain": [
       "1"
      ]
     },
     "execution_count": 20,
     "metadata": {},
     "output_type": "execute_result"
    }
   ],
   "execution_count": 20
  },
  {
   "metadata": {
    "ExecuteTime": {
     "end_time": "2025-08-04T07:50:59.873155Z",
     "start_time": "2025-08-04T07:50:59.868356Z"
    }
   },
   "cell_type": "code",
   "source": "tpg.start_housekeeping()",
   "id": "49f46d9b32b175f3",
   "outputs": [
    {
     "data": {
      "text/plain": [
       "True"
      ]
     },
     "execution_count": 21,
     "metadata": {},
     "output_type": "execute_result"
    }
   ],
   "execution_count": 21
  },
  {
   "metadata": {
    "ExecuteTime": {
     "end_time": "2025-08-04T07:51:26.312130Z",
     "start_time": "2025-08-04T07:51:26.307858Z"
    }
   },
   "cell_type": "code",
   "source": "tpg.stop_housekeeping()",
   "id": "4cf8c4c1e9e1e8ee",
   "outputs": [
    {
     "data": {
      "text/plain": [
       "True"
      ]
     },
     "execution_count": 22,
     "metadata": {},
     "output_type": "execute_result"
    }
   ],
   "execution_count": 22
  },
  {
   "metadata": {
    "ExecuteTime": {
     "end_time": "2025-08-04T07:51:41.890445Z",
     "start_time": "2025-08-04T07:51:41.780039Z"
    }
   },
   "cell_type": "code",
   "source": "tpg.disconnect()",
   "id": "6abdbaed01494908",
   "outputs": [
    {
     "data": {
      "text/plain": [
       "True"
      ]
     },
     "execution_count": 24,
     "metadata": {},
     "output_type": "execute_result"
    }
   ],
   "execution_count": 24
  },
  {
   "metadata": {},
   "cell_type": "markdown",
   "source": "## HiPace300 Bus Debugging 01",
   "id": "cee8f0c380d28a11"
  },
  {
   "metadata": {
    "ExecuteTime": {
     "end_time": "2025-08-04T07:58:46.071290Z",
     "start_time": "2025-08-04T07:58:46.066776Z"
    }
   },
   "cell_type": "code",
   "source": [
    "try:\n",
    "    from devices.pfeiffer.hipacebus import hipace300bus\n",
    "    print(\"✅ Successfully imported TPG366 class\")\n",
    "except ImportError as e:\n",
    "    print(f\"❌ Failed to import TPG366 class: {e}\")\n",
    "    print(\"Check that the src/devices/pfeiffer/tpg366/tpg366.py file exists\")\n"
   ],
   "id": "9dcfdc29472d6757",
   "outputs": [
    {
     "name": "stdout",
     "output_type": "stream",
     "text": [
      "✅ Successfully imported TPG366 class\n"
     ]
    }
   ],
   "execution_count": 25
  },
  {
   "metadata": {},
   "cell_type": "code",
   "outputs": [],
   "execution_count": null,
   "source": "",
   "id": "19fd054ffc74126f"
  }
 ],
 "metadata": {
  "kernelspec": {
   "display_name": "Python 3",
   "language": "python",
   "name": "python3"
  },
  "language_info": {
   "codemirror_mode": {
    "name": "ipython",
    "version": 2
   },
   "file_extension": ".py",
   "mimetype": "text/x-python",
   "name": "python",
   "nbconvert_exporter": "python",
   "pygments_lexer": "ipython2",
   "version": "2.7.6"
  }
 },
 "nbformat": 4,
 "nbformat_minor": 5
}
