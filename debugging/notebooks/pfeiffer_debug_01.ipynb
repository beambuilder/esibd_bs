{
 "cells": [
  {
   "cell_type": "markdown",
   "id": "161f4a372e0fff38",
   "metadata": {},
   "source": [
    "# Pfeiffer Debug 01\n"
   ]
  },
  {
   "cell_type": "markdown",
   "id": "54c55c4fe9707f5f",
   "metadata": {},
   "source": [
    "# TPG 366 Debug with internal logger"
   ]
  },
  {
   "cell_type": "code",
   "id": "38742e76e01c8275",
   "metadata": {
    "ExecuteTime": {
     "end_time": "2025-08-12T07:59:33.270534Z",
     "start_time": "2025-08-12T07:59:33.254460Z"
    }
   },
   "source": [
    "import sys\n",
    "import logging\n",
    "from pathlib import Path\n",
    "import datetime\n",
    "# Add project source to Python path\n",
    "project_root = Path.cwd().parent.parent\n",
    "src_path = project_root / \"src\"\n",
    "sys.path.insert(0, str(src_path))\n",
    "\n",
    "print(f\"Project root: {project_root}\")\n",
    "print(f\"Source path: {src_path}\")\n",
    "print(f\"Python path updated: {str(src_path) in sys.path}\")\n",
    "# Import arduino class\n",
    "try:\n",
    "    from devices.pfeiffer.tpg366 import TPG366\n",
    "    print(\"✅ Successfully imported TPG366 class\")\n",
    "except ImportError as e:\n",
    "    print(f\"❌ Failed to import TPG366 class: {e}\")\n",
    "    print(\"Check that the src/devices/pfeiffer/tpg366/tpg366.py file exists\")\n"
   ],
   "outputs": [
    {
     "name": "stdout",
     "output_type": "stream",
     "text": [
      "Project root: C:\\Users\\ESIBDlab\\PycharmProjects\\esibd_bs\n",
      "Source path: C:\\Users\\ESIBDlab\\PycharmProjects\\esibd_bs\\src\n",
      "Python path updated: True\n",
      "✅ Successfully imported TPG366 class\n"
     ]
    }
   ],
   "execution_count": 1
  },
  {
   "cell_type": "code",
   "id": "3dd43ab7d35e7854",
   "metadata": {
    "ExecuteTime": {
     "end_time": "2025-08-12T07:59:37.224160Z",
     "start_time": "2025-08-12T07:59:37.220308Z"
    }
   },
   "source": [
    "tpg = TPG366(\n",
    "        device_id=\"tpg_366\",\n",
    "        port=\"COM22\",  # Change to your actual port\n",
    "        device_address=10,  # Standard TPG base address\n",
    "        timeout=2.0\n",
    "    )"
   ],
   "outputs": [],
   "execution_count": 2
  },
  {
   "cell_type": "code",
   "id": "1902cba17fda707a",
   "metadata": {
    "ExecuteTime": {
     "end_time": "2025-08-12T07:59:38.794656Z",
     "start_time": "2025-08-12T07:59:38.768036Z"
    }
   },
   "source": [
    "tpg.connect()"
   ],
   "outputs": [
    {
     "data": {
      "text/plain": [
       "True"
      ]
     },
     "execution_count": 3,
     "metadata": {},
     "output_type": "execute_result"
    }
   ],
   "execution_count": 3
  },
  {
   "cell_type": "code",
   "id": "107f8ebacfb31961",
   "metadata": {
    "ExecuteTime": {
     "end_time": "2025-08-12T07:59:40.033960Z",
     "start_time": "2025-08-12T07:59:39.965387Z"
    }
   },
   "source": [
    "tpg.get_device_name()"
   ],
   "outputs": [
    {
     "data": {
      "text/plain": [
       "'TPG366'"
      ]
     },
     "execution_count": 4,
     "metadata": {},
     "output_type": "execute_result"
    }
   ],
   "execution_count": 4
  },
  {
   "cell_type": "code",
   "execution_count": 6,
   "id": "e70c78b7f6689462",
   "metadata": {
    "ExecuteTime": {
     "end_time": "2025-08-04T07:42:39.025286Z",
     "start_time": "2025-08-04T07:42:39.021495Z"
    }
   },
   "outputs": [
    {
     "data": {
      "text/plain": [
       "'COM22'"
      ]
     },
     "execution_count": 6,
     "metadata": {},
     "output_type": "execute_result"
    }
   ],
   "source": [
    "tpg.port"
   ]
  },
  {
   "cell_type": "code",
   "execution_count": 8,
   "id": "18b2d827658866bd",
   "metadata": {
    "ExecuteTime": {
     "end_time": "2025-08-04T07:42:56.671711Z",
     "start_time": "2025-08-04T07:42:56.342432Z"
    }
   },
   "outputs": [],
   "source": [
    "tpg.hk_monitor()"
   ]
  },
  {
   "cell_type": "code",
   "id": "d29628e4264bc657",
   "metadata": {
    "ExecuteTime": {
     "end_time": "2025-08-12T07:59:44.355396Z",
     "start_time": "2025-08-12T07:59:44.228457Z"
    }
   },
   "source": [
    "tpg.disconnect()"
   ],
   "outputs": [
    {
     "data": {
      "text/plain": [
       "True"
      ]
     },
     "execution_count": 5,
     "metadata": {},
     "output_type": "execute_result"
    }
   ],
   "execution_count": 5
  },
  {
   "cell_type": "code",
   "execution_count": 10,
   "id": "a51da9e2f36ed4ed",
   "metadata": {
    "ExecuteTime": {
     "end_time": "2025-08-04T07:43:30.340789Z",
     "start_time": "2025-08-04T07:43:30.277306Z"
    }
   },
   "outputs": [
    {
     "data": {
      "text/plain": [
       "'100723'"
      ]
     },
     "execution_count": 10,
     "metadata": {},
     "output_type": "execute_result"
    }
   ],
   "source": [
    "tpg._query_channel_parameter(1, 740)"
   ]
  },
  {
   "cell_type": "code",
   "execution_count": 20,
   "id": "95b83b5c058cda50",
   "metadata": {
    "ExecuteTime": {
     "end_time": "2025-08-04T07:50:53.294156Z",
     "start_time": "2025-08-04T07:50:53.291135Z"
    }
   },
   "outputs": [
    {
     "data": {
      "text/plain": [
       "1"
      ]
     },
     "execution_count": 20,
     "metadata": {},
     "output_type": "execute_result"
    }
   ],
   "source": [
    "tpg.hk_interval"
   ]
  },
  {
   "cell_type": "code",
   "execution_count": 21,
   "id": "49f46d9b32b175f3",
   "metadata": {
    "ExecuteTime": {
     "end_time": "2025-08-04T07:50:59.873155Z",
     "start_time": "2025-08-04T07:50:59.868356Z"
    }
   },
   "outputs": [
    {
     "data": {
      "text/plain": [
       "True"
      ]
     },
     "execution_count": 21,
     "metadata": {},
     "output_type": "execute_result"
    }
   ],
   "source": [
    "tpg.start_housekeeping()"
   ]
  },
  {
   "cell_type": "code",
   "execution_count": 22,
   "id": "4cf8c4c1e9e1e8ee",
   "metadata": {
    "ExecuteTime": {
     "end_time": "2025-08-04T07:51:26.312130Z",
     "start_time": "2025-08-04T07:51:26.307858Z"
    }
   },
   "outputs": [
    {
     "data": {
      "text/plain": [
       "True"
      ]
     },
     "execution_count": 22,
     "metadata": {},
     "output_type": "execute_result"
    }
   ],
   "source": [
    "tpg.stop_housekeeping()"
   ]
  },
  {
   "cell_type": "code",
   "execution_count": 24,
   "id": "6abdbaed01494908",
   "metadata": {
    "ExecuteTime": {
     "end_time": "2025-08-04T07:51:41.890445Z",
     "start_time": "2025-08-04T07:51:41.780039Z"
    }
   },
   "outputs": [
    {
     "data": {
      "text/plain": [
       "True"
      ]
     },
     "execution_count": 24,
     "metadata": {},
     "output_type": "execute_result"
    }
   ],
   "source": [
    "tpg.disconnect()"
   ]
  },
  {
   "cell_type": "markdown",
   "id": "cee8f0c380d28a11",
   "metadata": {},
   "source": [
    "## HiPace300 Bus Debugging 01"
   ]
  },
  {
   "metadata": {
    "ExecuteTime": {
     "end_time": "2025-08-04T12:16:49.037114Z",
     "start_time": "2025-08-04T12:16:49.032447Z"
    }
   },
   "cell_type": "code",
   "source": [
    "import sys\n",
    "import logging\n",
    "from pathlib import Path\n",
    "import datetime\n",
    "# Add project source to Python path\n",
    "project_root = Path.cwd().parent.parent\n",
    "src_path = project_root / \"src\"\n",
    "sys.path.insert(0, str(src_path))\n",
    "\n",
    "#print(f\"Project root: {project_root}\")\n",
    "#print(f\"Source path: {src_path}\")\n",
    "#print(f\"Python path updated: {str(src_path) in sys.path}\")\n",
    "\n"
   ],
   "id": "1333890ddbd957ed",
   "outputs": [],
   "execution_count": 1
  },
  {
   "metadata": {
    "ExecuteTime": {
     "end_time": "2025-08-04T12:16:49.713934Z",
     "start_time": "2025-08-04T12:16:49.697876Z"
    }
   },
   "cell_type": "code",
   "source": [
    "# Import arduino class\n",
    "try:\n",
    "    from devices.pfeiffer.hipacebus import HiPace300Bus\n",
    "    print(\"✅ Successfully imported HiPace300Bus class\")\n",
    "except ImportError as e:\n",
    "    print(f\"❌ Failed to import HiPace300Bus class: {e}\")\n"
   ],
   "id": "18464deff8717152",
   "outputs": [
    {
     "name": "stdout",
     "output_type": "stream",
     "text": [
      "✅ Successfully imported HiPace300Bus class\n"
     ]
    }
   ],
   "execution_count": 2
  },
  {
   "cell_type": "code",
   "id": "19fd054ffc74126f",
   "metadata": {
    "ExecuteTime": {
     "end_time": "2025-08-04T12:16:50.339482Z",
     "start_time": "2025-08-04T12:16:50.335878Z"
    }
   },
   "source": [
    "# Initialize HiPace300Bus with arbitrary device addresses\n",
    "hipace = HiPace300Bus(\n",
    "    device_id=\"hipace_300_bus\",\n",
    "    port=\"COM34\",  # Change to your actual port\n",
    "    device_address=101,  # Base address for OmniControl\n",
    "    omnicontrol_address=101,  # OmniControl device address\n",
    "    tc400_address=1,       # TC400 device address\n",
    "    gauge1_address=122,      # Gauge1 device address (if used)\n",
    "    timeout=2.0\n",
    ")\n"
   ],
   "outputs": [],
   "execution_count": 3
  },
  {
   "metadata": {
    "ExecuteTime": {
     "end_time": "2025-08-04T12:16:51.598834Z",
     "start_time": "2025-08-04T12:16:51.578277Z"
    }
   },
   "cell_type": "code",
   "source": [
    "# Connect to the HiPace300Bus\n",
    "hipace.connect()"
   ],
   "id": "a6fcd5859d25a6cb",
   "outputs": [
    {
     "data": {
      "text/plain": [
       "True"
      ]
     },
     "execution_count": 4,
     "metadata": {},
     "output_type": "execute_result"
    }
   ],
   "execution_count": 4
  },
  {
   "metadata": {
    "ExecuteTime": {
     "end_time": "2025-08-04T12:16:53.382345Z",
     "start_time": "2025-08-04T12:16:53.378890Z"
    }
   },
   "cell_type": "code",
   "source": [
    "print(f\"HiPace300Bus initialized with addresses:\")\n",
    "print(f\"  OmniControl: {hipace.channel_addresses['omnicontrol']}\")\n",
    "print(f\"  TC400: {hipace.channel_addresses['tc400']}\")\n",
    "print(f\"  Gauge1: {hipace.channel_addresses['gauge1']}\")"
   ],
   "id": "7c445e1d3fd10d1",
   "outputs": [
    {
     "name": "stdout",
     "output_type": "stream",
     "text": [
      "HiPace300Bus initialized with addresses:\n",
      "  OmniControl: 101\n",
      "  TC400: 1\n",
      "  Gauge1: 122\n"
     ]
    }
   ],
   "execution_count": 5
  },
  {
   "cell_type": "code",
   "id": "3d8ec9d1",
   "metadata": {
    "ExecuteTime": {
     "end_time": "2025-08-04T12:16:55.052497Z",
     "start_time": "2025-08-04T12:16:54.990374Z"
    }
   },
   "source": [
    "# Test OmniControl device name\n",
    "device_name = hipace.get_omni_device_name()\n",
    "print(f\"Device name: {device_name}\")"
   ],
   "outputs": [
    {
     "name": "stdout",
     "output_type": "stream",
     "text": [
      "Device name: OmC300\n"
     ]
    }
   ],
   "execution_count": 6
  },
  {
   "metadata": {
    "ExecuteTime": {
     "end_time": "2025-08-04T12:17:06.299685Z",
     "start_time": "2025-08-04T12:17:06.250931Z"
    }
   },
   "cell_type": "code",
   "source": "hipace.get_gauge_pressure()",
   "id": "f720023b163112e5",
   "outputs": [
    {
     "data": {
      "text/plain": [
       "999.6"
      ]
     },
     "execution_count": 7,
     "metadata": {},
     "output_type": "execute_result"
    }
   ],
   "execution_count": 7
  },
  {
   "cell_type": "code",
   "id": "0cd9ed05",
   "metadata": {
    "ExecuteTime": {
     "end_time": "2025-08-04T11:52:01.856497Z",
     "start_time": "2025-08-04T11:52:01.125820Z"
    }
   },
   "source": [
    "# Test OmniControl status methods\n",
    "print(\"=== OmniControl Status ===\")\n",
    "print(f\"Error code: {hipace.get_omni_error_code()}\")\n",
    "print(f\"Pump status: {hipace.get_pump_status()}\")\n",
    "print(f\"Pump temperature: {hipace.get_pump_bottom_temperature():.1f}°C\")\n",
    "print(f\"Rotation speed: {hipace.get_actual_speed_hz():.0f} Hz\")"
   ],
   "outputs": [
    {
     "name": "stdout",
     "output_type": "stream",
     "text": [
      "=== OmniControl Status ===\n",
      "Error code: 000000\n",
      "Pump status: {'actual_speed_hz': 0, 'actual_speed_rpm': 0, 'target_speed_hz': 1000, 'drive_current': 0.03, 'drive_voltage': 23.28, 'drive_power': 0, 'electronics_temp': 32, 'pump_bottom_temp': 22, 'bearing_temp': 21, 'target_speed_reached': False, 'pump_accelerating': False, 'operating_hours': 3}\n",
      "Pump temperature: 22.0°C\n",
      "Rotation speed: 0 Hz\n"
     ]
    }
   ],
   "execution_count": 45
  },
  {
   "cell_type": "code",
   "id": "a7f6ac5b",
   "metadata": {
    "ExecuteTime": {
     "end_time": "2025-08-04T11:53:45.870492Z",
     "start_time": "2025-08-04T11:53:45.773569Z"
    }
   },
   "source": [
    "# Test TC400 status methods\n",
    "print(\"=== TC400 Status ===\")\n",
    "print(f\"TC400 Status: {hipace.get_status()}\")\n",
    "print(f\"Speed setpoint: {hipace.get_speed_setpoint():.1f}%\")\n",
    "print(f\"RS485 address: {hipace.get_rs485_address()}\")"
   ],
   "outputs": [
    {
     "name": "stdout",
     "output_type": "stream",
     "text": [
      "=== TC400 Status ===\n",
      "TC400 Status: {'device_id': 'hipace_300_bus', 'port': 'COM34', 'device_address': 101, 'baudrate': 9600, 'connected': True, 'timeout': 2.0, 'hk_running': False, 'hk_interval': 1.0, 'external_thread': False}\n",
      "Speed setpoint: 50.0%\n",
      "RS485 address: 1\n"
     ]
    }
   ],
   "execution_count": 46
  },
  {
   "cell_type": "code",
   "execution_count": null,
   "id": "72f14506",
   "metadata": {},
   "outputs": [],
   "source": [
    "# Test housekeeping functionality\n",
    "# TODO No hk-monitor function in hipace300bus yet\n",
    "print(\"=== Housekeeping Test ===\")\n",
    "print(f\"HK interval: {hipace.hk_interval} seconds\")\n",
    "print(\"Starting housekeeping...\")\n",
    "#hipace.start_housekeeping()"
   ]
  },
  {
   "cell_type": "code",
   "execution_count": null,
   "id": "53aecffa",
   "metadata": {},
   "outputs": [],
   "source": [
    "# Monitor housekeeping for a few cycles\n",
    "import time\n",
    "print(\"Monitoring housekeeping for 15 seconds...\")\n",
    "time.sleep(15)\n",
    "print(\"Housekeeping monitoring complete\")"
   ]
  },
  {
   "cell_type": "code",
   "execution_count": null,
   "id": "36e3ca0e",
   "metadata": {},
   "outputs": [],
   "source": [
    "# Stop housekeeping\n",
    "#hipace.stop_housekeeping()\n",
    "#print(\"Housekeeping stopped\")"
   ]
  },
  {
   "cell_type": "code",
   "id": "fcc94d60",
   "metadata": {
    "ExecuteTime": {
     "end_time": "2025-08-04T11:55:11.113238Z",
     "start_time": "2025-08-04T11:55:11.016661Z"
    }
   },
   "source": [
    "# Test channel parameter methods directly (arbitrary addressing)\n",
    "print(\"=== Testing Channel Parameter Methods ===\")\n",
    "print(\"Testing OmniControl channel:\")\n",
    "response = hipace._query_channel_parameter('omnicontrol', 303)  # Device status\n",
    "print(f\"OmniControl device status (303): {response}\")\n",
    "\n",
    "print(\"\\nTesting TC400 channel:\")\n",
    "response = hipace._query_channel_parameter('tc400', 707)  # Speed setpoint\n",
    "print(f\"TC400 speed setpoint (707): {response}\")"
   ],
   "outputs": [
    {
     "name": "stdout",
     "output_type": "stream",
     "text": [
      "=== Testing Channel Parameter Methods ===\n",
      "Testing OmniControl channel:\n",
      "OmniControl device status (303): 000000\n",
      "\n",
      "Testing TC400 channel:\n",
      "TC400 speed setpoint (707): 005000\n"
     ]
    }
   ],
   "execution_count": 47
  },
  {
   "cell_type": "code",
   "id": "a2d2cc2d",
   "metadata": {
    "ExecuteTime": {
     "end_time": "2025-08-04T12:17:20.479768Z",
     "start_time": "2025-08-04T12:17:20.368121Z"
    }
   },
   "source": [
    "# Disconnect from the device\n",
    "hipace.disconnect()\n",
    "print(\"HiPace300Bus disconnected\")"
   ],
   "outputs": [
    {
     "name": "stdout",
     "output_type": "stream",
     "text": [
      "HiPace300Bus disconnected\n"
     ]
    }
   ],
   "execution_count": 8
  },
  {
   "metadata": {},
   "cell_type": "code",
   "outputs": [],
   "execution_count": null,
   "source": "",
   "id": "7dd9df2cf8195565"
  }
 ],
 "metadata": {
  "kernelspec": {
   "display_name": "Python 3",
   "language": "python",
   "name": "python3"
  },
  "language_info": {
   "codemirror_mode": {
    "name": "ipython",
    "version": 2
   },
   "file_extension": ".py",
   "mimetype": "text/x-python",
   "name": "python",
   "nbconvert_exporter": "python",
   "pygments_lexer": "ipython2",
   "version": "2.7.6"
  }
 },
 "nbformat": 4,
 "nbformat_minor": 5
}
