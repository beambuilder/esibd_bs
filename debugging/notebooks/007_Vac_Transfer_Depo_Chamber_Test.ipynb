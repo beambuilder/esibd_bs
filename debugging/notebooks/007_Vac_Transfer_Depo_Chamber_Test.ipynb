{
 "cells": [
  {
   "cell_type": "markdown",
   "id": "7ce6fe49",
   "metadata": {},
   "source": [
    "# Test of HiPace300 Pumps on Transfer and Depo Chamber\n",
    "\n",
    "## Equipment Configuration:\n",
    "- **HiPace300 Pumps**: Connected to Transfer and Deposition Chambers\n",
    "- **HiScroll12**: One unit connected as backing pump\n",
    "- **Pressure Sensors**: Two total sensors connected to both Omnicontrol 300 units\n",
    "\n",
    "## Test Overview:\n",
    "This notebook contains tests and monitoring for the HiPace300 turbo molecular pump system with integrated pressure monitoring and control capabilities."
   ]
  },
  {
   "cell_type": "markdown",
   "id": "2da7dcf8",
   "metadata": {},
   "source": [
    "## 1. Import Required Libraries and Setup\n"
   ]
  },
  {
   "cell_type": "code",
   "execution_count": 2,
   "id": "a67ba110",
   "metadata": {
    "ExecuteTime": {
     "end_time": "2025-08-18T06:56:12.639022Z",
     "start_time": "2025-08-18T06:56:12.634913Z"
    }
   },
   "outputs": [],
   "source": [
    "import sys\n",
    "import threading\n",
    "import time\n",
    "from datetime import datetime\n",
    "import asyncio\n",
    "from typing import Dict, Optional, Any\n",
    "import pandas as pd\n",
    "import matplotlib.pyplot as plt\n",
    "from IPython.display import display, clear_output\n",
    "import ipywidgets as widgets\n",
    "import pickle\n",
    "\n",
    "from loguru import logger\n",
    "import os\n",
    "from pathlib import Path\n",
    "\n",
    "# Add path to src modules\n",
    "sys.path.append(os.path.join(os.getcwd(), '..', '..', 'src'))\n",
    "\n",
    "# Import current device modules\n",
    "from devices.pfeiffer.hiscroll12.hiscroll12 import HiScroll12\n",
    "from devices.pfeiffer.hipacebus import HiPace300Bus"
   ]
  },
  {
   "cell_type": "markdown",
   "id": "caeaab51",
   "metadata": {},
   "source": [
    "## 2. Setup Shared Logging System"
   ]
  },
  {
   "cell_type": "code",
   "execution_count": 3,
   "id": "0d7e795b",
   "metadata": {
    "ExecuteTime": {
     "end_time": "2025-08-18T06:56:14.002947Z",
     "start_time": "2025-08-18T06:56:13.992661Z"
    }
   },
   "outputs": [
    {
     "name": "stderr",
     "output_type": "stream",
     "text": [
      "2025-08-18 08:56:13 | INFO | Pump Locker Test system initialized with shared logging\n"
     ]
    },
    {
     "name": "stdout",
     "output_type": "stream",
     "text": [
      "Repository root: C:\\Users\\ESIBDlab\\PycharmProjects\\esibd_bs\n",
      "Shared logs will be saved to: C:\\Users\\ESIBDlab\\PycharmProjects\\esibd_bs\\debugging\\logs\\hipace_Transfer_Depo_test_20250818_085613.log\n"
     ]
    }
   ],
   "source": [
    "# Get the repository root and create shared logs directory\n",
    "repo_root = Path(os.getcwd()).parent.parent\n",
    "log_dir = repo_root / \"debugging\" / \"logs\"\n",
    "log_dir.mkdir(parents=True, exist_ok=True)\n",
    "\n",
    "# Create shared log file for all devices\n",
    "timestamp = datetime.now().strftime(\"%Y%m%d_%H%M%S\")\n",
    "shared_log_file = log_dir / f\"hipace_Transfer_Depo_test_{timestamp}.log\"\n",
    "\n",
    "# Configure shared logger\n",
    "logger.remove()  # Remove default logger\n",
    "\n",
    "# Add console logger with INFO level\n",
    "logger.add(sys.stderr, level=\"INFO\", format=\"{time:YYYY-MM-DD HH:mm:ss} | {level} | {message}\")\n",
    "\n",
    "# Add shared file logger with DEBUG level\n",
    "logger.add(\n",
    "    str(shared_log_file),\n",
    "    level=\"DEBUG\",\n",
    "    format=\"{time:YYYY-MM-DD HH:mm:ss.SSS} | {level} | {name}:{function}:{line} | {message}\",\n",
    "    rotation=\"1 day\",\n",
    "    retention=\"30 days\",\n",
    "    compression=\"zip\"\n",
    ")\n",
    "\n",
    "logger.info(\"Pump Locker Test system initialized with shared logging\")\n",
    "print(f\"Repository root: {repo_root}\")\n",
    "print(f\"Shared logs will be saved to: {shared_log_file}\")"
   ]
  },
  {
   "cell_type": "markdown",
   "id": "ccd4255d",
   "metadata": {},
   "source": [
    "# 3. Set COM-Ports & Adresses"
   ]
  },
  {
   "cell_type": "markdown",
   "id": "e630b0d3",
   "metadata": {},
   "source": []
  },
  {
   "cell_type": "code",
   "execution_count": 4,
   "id": "5898c1b5",
   "metadata": {
    "ExecuteTime": {
     "end_time": "2025-08-18T06:56:20.456474Z",
     "start_time": "2025-08-18T06:56:20.450552Z"
    }
   },
   "outputs": [
    {
     "name": "stdout",
     "output_type": "stream",
     "text": [
      "Device Configuration Summary:\n",
      "========================================\n",
      "HiScroll12 (Backing pump):\n",
      "  COM Port: COM19\n",
      "  Address: 2\n",
      "  Description: Backing pump for HiPace300 systems\n",
      "\n",
      "HiPace300 Transfer:\n",
      "  COM Port: COM36\n",
      "  Address: 101\n",
      "  Description: Transfer chamber turbo pump\n",
      "\n",
      "HiPace300 Depo:\n",
      "  COM Port: COM37\n",
      "  Address: 101\n",
      "  Description: Deposition chamber turbo pump\n",
      "\n",
      "✅ Device dictionaries configured successfully\n"
     ]
    }
   ],
   "source": [
    "# Device configuration dictionaries\n",
    "# Modify these COM ports and addresses according to your actual hardware setup\n",
    "\n",
    "HiScroll12_dict = {\n",
    "    'com_port': 'COM19',\n",
    "    'device_address': 2,\n",
    "    'device_type': 'HiScroll12',\n",
    "    'description': 'Backing pump for HiPace300 systems'\n",
    "}\n",
    "\n",
    "HiPace300_Transfer_dict = {\n",
    "    'com_port': 'COM36',\n",
    "    'device_address': 101,\n",
    "    'omnicontrol_address': 101,\n",
    "    'tc400_address':1,\n",
    "    'gauge1_address': 122,\n",
    "    'device_type': 'HiPace300',\n",
    "    'description': 'Transfer chamber turbo pump'\n",
    "}\n",
    "\n",
    "HiPace300_Depo_dict = {\n",
    "    'com_port': 'COM37',\n",
    "    'device_address': 101,\n",
    "    'omnicontrol_address': 101,\n",
    "    'tc400_address':1,\n",
    "    'gauge1_address': 122,\n",
    "    'device_type': 'HiPace300', \n",
    "    'description': 'Deposition chamber turbo pump'\n",
    "}\n",
    "\n",
    "# Print configuration summary\n",
    "print(\"Device Configuration Summary:\")\n",
    "print(\"=\" * 40)\n",
    "print(f\"HiScroll12 (Backing pump):\")\n",
    "print(f\"  COM Port: {HiScroll12_dict['com_port']}\")\n",
    "print(f\"  Address: {HiScroll12_dict['device_address']}\")\n",
    "print(f\"  Description: {HiScroll12_dict['description']}\")\n",
    "\n",
    "print(f\"\\nHiPace300 Transfer:\")\n",
    "print(f\"  COM Port: {HiPace300_Transfer_dict['com_port']}\")\n",
    "print(f\"  Address: {HiPace300_Transfer_dict['device_address']}\")\n",
    "print(f\"  Description: {HiPace300_Transfer_dict['description']}\")\n",
    "\n",
    "print(f\"\\nHiPace300 Depo:\")\n",
    "print(f\"  COM Port: {HiPace300_Depo_dict['com_port']}\")\n",
    "print(f\"  Address: {HiPace300_Depo_dict['device_address']}\")\n",
    "print(f\"  Description: {HiPace300_Depo_dict['description']}\")\n",
    "\n",
    "print(\"\\n✅ Device dictionaries configured successfully\")"
   ]
  },
  {
   "cell_type": "markdown",
   "id": "f7b1d3db",
   "metadata": {},
   "source": [
    "# 4. Connect Devices"
   ]
  },
  {
   "cell_type": "code",
   "execution_count": 5,
   "id": "02b40794",
   "metadata": {
    "ExecuteTime": {
     "end_time": "2025-08-18T06:56:22.884961Z",
     "start_time": "2025-08-18T06:56:22.867027Z"
    }
   },
   "outputs": [
    {
     "name": "stderr",
     "output_type": "stream",
     "text": [
      "2025-08-18 08:56:22 | INFO | Connecting to Pfeiffer device hiscroll12 on COM19\n",
      "2025-08-18 08:56:22 | INFO | Successfully connected to device at address 2\n"
     ]
    },
    {
     "name": "stdout",
     "output_type": "stream",
     "text": [
      "✅ HiScroll12 connected on COM19\n"
     ]
    }
   ],
   "source": [
    "# Initialize and connect HiScroll12\n",
    "hiscroll = HiScroll12(\n",
    "    device_id=\"hiscroll12\",\n",
    "    port=HiScroll12_dict['com_port'],\n",
    "    device_address=HiScroll12_dict['device_address'],\n",
    "    logger=logger\n",
    ")\n",
    "hiscroll.connect()\n",
    "print(f\"✅ HiScroll12 connected on {HiScroll12_dict['com_port']}\")"
   ]
  },
  {
   "cell_type": "code",
   "execution_count": 6,
   "id": "62238c4d",
   "metadata": {
    "ExecuteTime": {
     "end_time": "2025-08-18T06:56:24.049140Z",
     "start_time": "2025-08-18T06:56:24.029970Z"
    }
   },
   "outputs": [
    {
     "name": "stderr",
     "output_type": "stream",
     "text": [
      "2025-08-18 08:56:24 | INFO | Connecting to Pfeiffer device hipace_transfer on COM36\n",
      "2025-08-18 08:56:24 | INFO | Successfully connected to device at address 101\n"
     ]
    },
    {
     "name": "stdout",
     "output_type": "stream",
     "text": [
      "✅ HiPace300 Transfer connected on COM36\n"
     ]
    }
   ],
   "source": [
    "# Initialize and connect HiPace300 Transfer\n",
    "hipace_transfer = HiPace300Bus(\n",
    "    device_id=\"hipace_transfer\",\n",
    "    port=HiPace300_Transfer_dict['com_port'],\n",
    "    device_address=HiPace300_Transfer_dict['device_address'],\n",
    "    omnicontrol_address=HiPace300_Transfer_dict['omnicontrol_address'],\n",
    "    tc400_address=HiPace300_Transfer_dict['tc400_address'],\n",
    "    gauge1_address=HiPace300_Transfer_dict['gauge1_address'],\n",
    "    logger=logger\n",
    ")\n",
    "\n",
    "hipace_transfer.connect()\n",
    "print(f\"✅ HiPace300 Transfer connected on {HiPace300_Transfer_dict['com_port']}\")"
   ]
  },
  {
   "cell_type": "code",
   "execution_count": 7,
   "id": "99bcc566",
   "metadata": {
    "ExecuteTime": {
     "end_time": "2025-08-18T06:56:24.999821Z",
     "start_time": "2025-08-18T06:56:24.971697Z"
    }
   },
   "outputs": [
    {
     "name": "stderr",
     "output_type": "stream",
     "text": [
      "2025-08-18 08:56:24 | INFO | Connecting to Pfeiffer device hipace_depo on COM37\n",
      "2025-08-18 08:56:24 | INFO | Successfully connected to device at address 101\n"
     ]
    },
    {
     "name": "stdout",
     "output_type": "stream",
     "text": [
      "✅ HiPace300 Depo connected on COM37\n"
     ]
    }
   ],
   "source": [
    "# Initialize and connect HiPace300 Depo\n",
    "hipace_depo = HiPace300Bus(\n",
    "    device_id=\"hipace_depo\",\n",
    "    port=HiPace300_Depo_dict['com_port'],\n",
    "    device_address=HiPace300_Depo_dict['device_address'],\n",
    "    omnicontrol_address=HiPace300_Depo_dict['omnicontrol_address'],\n",
    "    tc400_address=HiPace300_Depo_dict['tc400_address'],\n",
    "    gauge1_address=HiPace300_Depo_dict['gauge1_address'],\n",
    "    logger=logger\n",
    ")\n",
    "\n",
    "hipace_depo.connect()\n",
    "print(f\"✅ HiPace300 Depo connected on {HiPace300_Depo_dict['com_port']}\")"
   ]
  },
  {
   "cell_type": "markdown",
   "id": "7c86a442",
   "metadata": {},
   "source": [
    "# 5. Debugging/Testing Connection manually"
   ]
  },
  {
   "cell_type": "code",
   "execution_count": 8,
   "id": "4e34f6226af881a",
   "metadata": {
    "ExecuteTime": {
     "end_time": "2025-08-18T06:56:29.236688Z",
     "start_time": "2025-08-18T06:56:26.625778Z"
    }
   },
   "outputs": [
    {
     "name": "stderr",
     "output_type": "stream",
     "text": [
      "2025-08-18 08:56:26 | INFO | hiscroll12//COM19//Pump_Enabled=False//\n",
      "2025-08-18 08:56:26 | INFO | hiscroll12//COM19//Standby_Mode=False//\n",
      "2025-08-18 08:56:26 | INFO | hiscroll12//COM19//Speed_RPM=0//RPM\n",
      "2025-08-18 08:56:26 | INFO | hiscroll12//COM19//Speed_Hz=0//Hz\n",
      "2025-08-18 08:56:26 | INFO | hiscroll12//COM19//Temp_Motor=21//degC\n",
      "2025-08-18 08:56:26 | INFO | hiscroll12//COM19//Temp_Electronics=29//degC\n",
      "2025-08-18 08:56:26 | INFO | hiscroll12//COM19//Temp_Power_Stage=21//degC\n",
      "2025-08-18 08:56:27 | INFO | hiscroll12//COM19//Drive_Current=0.0//A\n",
      "2025-08-18 08:56:27 | INFO | hiscroll12//COM19//Drive_Voltage=399.92//V\n",
      "2025-08-18 08:56:27 | INFO | hiscroll12//COM19//Drive_Power=0//W\n",
      "2025-08-18 08:56:27 | INFO | hipace_depo//COM37//Pump_Station_Enabled=False//\n",
      "2025-08-18 08:56:27 | INFO | hipace_depo//COM37//Standby_Mode=False//\n",
      "2025-08-18 08:56:27 | INFO | hipace_depo//COM37//Motor_Pump_Enabled=False//\n",
      "2025-08-18 08:56:27 | INFO | hipace_depo//COM37//Vent_Enabled=False//\n",
      "2025-08-18 08:56:27 | INFO | hipace_depo//COM37//Speed_Actual_Hz=0//Hz\n",
      "2025-08-18 08:56:27 | INFO | hipace_depo//COM37//Speed_Actual_RPM=0//RPM\n",
      "2025-08-18 08:56:27 | INFO | hipace_depo//COM37//Speed_Set_Hz=1000//Hz\n",
      "2025-08-18 08:56:27 | INFO | hipace_depo//COM37//Target_Speed_Reached=False//\n",
      "2025-08-18 08:56:27 | INFO | hipace_depo//COM37//Pump_Accelerating=False//\n",
      "2025-08-18 08:56:27 | INFO | hipace_depo//COM37//Drive_Current=0.0//A\n",
      "2025-08-18 08:56:27 | INFO | hipace_depo//COM37//Drive_Voltage=23.22//V\n",
      "2025-08-18 08:56:27 | INFO | hipace_depo//COM37//Drive_Power=0//W\n",
      "2025-08-18 08:56:27 | INFO | hipace_depo//COM37//Temp_Electronics=29//°C\n",
      "2025-08-18 08:56:27 | INFO | hipace_depo//COM37//Temp_Pump_Bottom=19//°C\n",
      "2025-08-18 08:56:27 | INFO | hipace_depo//COM37//Temp_Bearing=17//°C\n",
      "2025-08-18 08:56:27 | INFO | hipace_depo//COM37//Temp_Motor=19//°C\n",
      "2025-08-18 08:56:27 | INFO | hipace_depo//COM37//Overtemp_Electronics=False//\n",
      "2025-08-18 08:56:27 | INFO | hipace_depo//COM37//Overtemp_Pump=False//\n",
      "2025-08-18 08:56:28 | INFO | hipace_depo//COM37//Seal_Gas_Flow=0//sccm\n",
      "2025-08-18 08:56:28 | INFO | hipace_depo//COM37//Operating_Hours_Pump=5//h\n",
      "2025-08-18 08:56:28 | INFO | hipace_depo//COM37//Operating_Hours_Electronics=12//h\n",
      "2025-08-18 08:56:28 | INFO | hipace_depo//COM37//Gauge_Pressure=0.0//hPa\n",
      "2025-08-18 08:56:28 | INFO | hipace_transfer//COM36//Pump_Station_Enabled=False//\n",
      "2025-08-18 08:56:28 | INFO | hipace_transfer//COM36//Standby_Mode=False//\n",
      "2025-08-18 08:56:28 | INFO | hipace_transfer//COM36//Motor_Pump_Enabled=False//\n",
      "2025-08-18 08:56:28 | INFO | hipace_transfer//COM36//Vent_Enabled=False//\n",
      "2025-08-18 08:56:28 | INFO | hipace_transfer//COM36//Speed_Actual_Hz=0//Hz\n",
      "2025-08-18 08:56:28 | INFO | hipace_transfer//COM36//Speed_Actual_RPM=0//RPM\n",
      "2025-08-18 08:56:28 | INFO | hipace_transfer//COM36//Speed_Set_Hz=1000//Hz\n",
      "2025-08-18 08:56:28 | INFO | hipace_transfer//COM36//Target_Speed_Reached=False//\n",
      "2025-08-18 08:56:28 | INFO | hipace_transfer//COM36//Pump_Accelerating=False//\n",
      "2025-08-18 08:56:28 | INFO | hipace_transfer//COM36//Drive_Current=0.03//A\n",
      "2025-08-18 08:56:28 | INFO | hipace_transfer//COM36//Drive_Voltage=23.28//V\n",
      "2025-08-18 08:56:28 | INFO | hipace_transfer//COM36//Drive_Power=0//W\n",
      "2025-08-18 08:56:28 | INFO | hipace_transfer//COM36//Temp_Electronics=28//°C\n",
      "2025-08-18 08:56:28 | INFO | hipace_transfer//COM36//Temp_Pump_Bottom=19//°C\n",
      "2025-08-18 08:56:28 | INFO | hipace_transfer//COM36//Temp_Bearing=17//°C\n",
      "2025-08-18 08:56:28 | INFO | hipace_transfer//COM36//Temp_Motor=19//°C\n",
      "2025-08-18 08:56:28 | INFO | hipace_transfer//COM36//Overtemp_Electronics=False//\n",
      "2025-08-18 08:56:29 | INFO | hipace_transfer//COM36//Overtemp_Pump=False//\n",
      "2025-08-18 08:56:29 | INFO | hipace_transfer//COM36//Seal_Gas_Flow=0//sccm\n",
      "2025-08-18 08:56:29 | INFO | hipace_transfer//COM36//Operating_Hours_Pump=3//h\n",
      "2025-08-18 08:56:29 | INFO | hipace_transfer//COM36//Operating_Hours_Electronics=11//h\n",
      "2025-08-18 08:56:29 | INFO | hipace_transfer//COM36//Gauge_Pressure=109.7//hPa\n"
     ]
    }
   ],
   "source": [
    "hiscroll.hk_monitor()\n",
    "hipace_depo.hk_monitor()\n",
    "hipace_transfer.hk_monitor()"
   ]
  },
  {
   "cell_type": "markdown",
   "id": "6afb6dc3",
   "metadata": {},
   "source": [
    "# 6. Start Housekeeping for All Pumps"
   ]
  },
  {
   "cell_type": "code",
   "execution_count": 9,
   "id": "aefd5e41",
   "metadata": {
    "ExecuteTime": {
     "end_time": "2025-08-18T06:57:37.607092Z",
     "start_time": "2025-08-18T06:57:37.594276Z"
    }
   },
   "outputs": [
    {
     "name": "stderr",
     "output_type": "stream",
     "text": [
      "2025-08-18 08:57:37 | INFO | Using external logger - no additional file logging needed\n",
      "2025-08-18 08:57:37 | INFO | Housekeeping worker started for hiscroll12\n",
      "2025-08-18 08:57:37 | INFO | Housekeeping started (internal mode) - interval: 30.0s\n",
      "2025-08-18 08:57:37 | INFO | Using external logger - no additional file logging needed\n",
      "2025-08-18 08:57:37 | INFO | Housekeeping worker started for hipace_transfer\n",
      "2025-08-18 08:57:37 | INFO | Housekeeping started (internal mode) - interval: 1.0s\n",
      "2025-08-18 08:57:37 | INFO | Using external logger - no additional file logging needed\n",
      "2025-08-18 08:57:37 | INFO | Housekeeping worker started for hipace_depo\n",
      "2025-08-18 08:57:37 | INFO | Housekeeping started (internal mode) - interval: 1.0s\n"
     ]
    },
    {
     "name": "stdout",
     "output_type": "stream",
     "text": [
      "✅ Housekeeping started for all pumps:\n",
      "  - HiScroll12\n",
      "  - HiPace300 Transfer\n",
      "  - HiPace300 Depo\n"
     ]
    }
   ],
   "source": [
    "# Start housekeeping for all pumps\n",
    "hiscroll.start_housekeeping()\n",
    "hipace_transfer.start_housekeeping()\n",
    "hipace_depo.start_housekeeping()\n",
    "\n",
    "print(\"✅ Housekeeping started for all pumps:\")\n",
    "print(\"  - HiScroll12\")\n",
    "print(\"  - HiPace300 Transfer\")\n",
    "print(\"  - HiPace300 Depo\")"
   ]
  },
  {
   "cell_type": "code",
   "execution_count": 48,
   "id": "3fcc132fde865c84",
   "metadata": {
    "ExecuteTime": {
     "end_time": "2025-08-18T11:59:26.610215Z",
     "start_time": "2025-08-18T11:59:25.864722Z"
    }
   },
   "outputs": [
    {
     "name": "stderr",
     "output_type": "stream",
     "text": [
      "2025-08-18 13:59:25 | INFO | Housekeeping stopped (internal mode)\n",
      "2025-08-18 13:59:25 | INFO | Housekeeping stopped (internal mode)\n",
      "2025-08-18 13:59:26 | INFO | Housekeeping stopped (internal mode)\n"
     ]
    },
    {
     "data": {
      "text/plain": [
       "True"
      ]
     },
     "execution_count": 48,
     "metadata": {},
     "output_type": "execute_result"
    }
   ],
   "source": [
    "hiscroll.stop_housekeeping()\n",
    "hipace_transfer.stop_housekeeping()\n",
    "hipace_depo.stop_housekeeping()"
   ]
  },
  {
   "cell_type": "code",
   "execution_count": 10,
   "id": "aca8fb5d7f23a2bd",
   "metadata": {
    "ExecuteTime": {
     "end_time": "2025-08-18T06:57:42.406143Z",
     "start_time": "2025-08-18T06:57:42.320307Z"
    }
   },
   "outputs": [
    {
     "data": {
      "text/plain": [
       "0"
      ]
     },
     "execution_count": 10,
     "metadata": {},
     "output_type": "execute_result"
    }
   ],
   "source": [
    "hipace_depo.get_SensOnOff()"
   ]
  },
  {
   "cell_type": "markdown",
   "id": "f994256b",
   "metadata": {},
   "source": [
    "# 7. Live Plotting - Multi-Pump Visualization"
   ]
  },
  {
   "cell_type": "code",
   "execution_count": 41,
   "id": "0bcb1ba4",
   "metadata": {
    "ExecuteTime": {
     "end_time": "2025-08-18T11:38:44.384200Z",
     "start_time": "2025-08-18T11:38:44.371093Z"
    }
   },
   "outputs": [
    {
     "name": "stdout",
     "output_type": "stream",
     "text": [
      "✅ Multi-pump plotter class ready\n"
     ]
    }
   ],
   "source": [
    "import matplotlib.pyplot as plt\n",
    "from matplotlib.animation import FuncAnimation\n",
    "import numpy as np\n",
    "from collections import deque\n",
    "\n",
    "class MultiPumpPlotter:\n",
    "    def __init__(self, update_interval=2000):\n",
    "        self.update_interval = update_interval\n",
    "        \n",
    "        # Data storage (keep last 100 points)\n",
    "        self.timestamps = deque(maxlen=100)\n",
    "        self.hiscroll_temp = deque(maxlen=100)\n",
    "        self.hiscroll_power = deque(maxlen=100)\n",
    "        \n",
    "        self.hipace_t_temp = deque(maxlen=100)\n",
    "        self.hipace_t_power = deque(maxlen=100)\n",
    "        self.hipace_t_rpm = deque(maxlen=100)\n",
    "        self.hipace_t_pressure = deque(maxlen=100)\n",
    "        \n",
    "        self.hipace_d_temp = deque(maxlen=100)\n",
    "        self.hipace_d_power = deque(maxlen=100)\n",
    "        self.hipace_d_rpm = deque(maxlen=100)\n",
    "        self.hipace_d_pressure = deque(maxlen=100)\n",
    "        \n",
    "        # Create figure with 2x2 subplots\n",
    "        self.fig, ((self.ax1, self.ax2), (self.ax3, self.ax4)) = plt.subplots(2, 2, figsize=(12, 8))\n",
    "\n",
    "    \n",
    "    def update_plot(self, frame):\n",
    "        try:\n",
    "            current_time = datetime.now()\n",
    "            self.timestamps.append(current_time)\n",
    "            \n",
    "            # HiScroll12 data\n",
    "            self.hiscroll_temp.append(hiscroll.get_temp_motor())\n",
    "            self.hiscroll_power.append(hiscroll.get_drive_power())\n",
    "            \n",
    "            # HiPace Transfer data\n",
    "            self.hipace_t_temp.append(hipace_transfer.get_motor_temperature())\n",
    "            self.hipace_t_power.append(hipace_transfer.get_drive_power())\n",
    "            self.hipace_t_rpm.append(hipace_transfer.get_actual_speed_rpm())\n",
    "            self.hipace_t_pressure.append(hipace_transfer.get_gauge_pressure())\n",
    "            \n",
    "            # HiPace Depo data\n",
    "            self.hipace_d_temp.append(hipace_depo.get_motor_temperature())\n",
    "            self.hipace_d_power.append(hipace_depo.get_drive_power())\n",
    "            self.hipace_d_rpm.append(hipace_depo.get_actual_speed_rpm())\n",
    "            self.hipace_d_pressure.append(hipace_depo.get_gauge_pressure())\n",
    "            \n",
    "        except Exception as e:\n",
    "            logger.warning(f\"Data collection error: {e}\")\n",
    "            return\n",
    "        \n",
    "        # Clear only the axes, not the entire figure\n",
    "        self.ax1.clear()\n",
    "        self.ax2.clear()\n",
    "        self.ax3.clear()\n",
    "        self.ax4.clear()\n",
    "        \n",
    "        # Convert deques to lists for reliable plotting\n",
    "        times = list(self.timestamps)\n",
    "        hiscroll_temps = list(self.hiscroll_temp)\n",
    "        hiscroll_powers = list(self.hiscroll_power)\n",
    "        hipace_t_temps = list(self.hipace_t_temp)\n",
    "        hipace_t_powers = list(self.hipace_t_power)\n",
    "        hipace_t_rpms = list(self.hipace_t_rpm)\n",
    "        hipace_t_pressures = list(self.hipace_t_pressure)\n",
    "        hipace_d_temps = list(self.hipace_d_temp)\n",
    "        hipace_d_powers = list(self.hipace_d_power)\n",
    "        hipace_d_rpms = list(self.hipace_d_rpm)\n",
    "        hipace_d_pressures = list(self.hipace_d_pressure)\n",
    "        \n",
    "        # Only plot if we have data\n",
    "        if not times:\n",
    "            return\n",
    "        try:\n",
    "            # Plot 1: Temperature & Power (HiScroll + HiPace)\n",
    "            self.ax1.plot(times, hiscroll_temps, 'b-', label='HiScroll Temp', marker='o')\n",
    "            self.ax1.plot(times, hipace_t_temps, 'r-', label='HiPace-T Temp', marker='s')\n",
    "            self.ax1.plot(times, hipace_d_temps, 'g-', label='HiPace-D Temp', marker='^')\n",
    "            #ax1_twin = self.ax1.twinx()\n",
    "            #ax1_twin.plot(times, hiscroll_powers, 'b--', alpha=0.7, label='HiScroll Power')\n",
    "            #ax1_twin.plot(times, hipace_t_powers, 'r--', alpha=0.7, label='HiPace-T Power')\n",
    "            #ax1_twin.plot(times, hipace_d_powers, 'g--', alpha=0.7, label='HiPace-D Power')\n",
    "            self.ax1.set_ylabel('Temperature (°C)')\n",
    "            #ax1_twin.set_ylabel('Power (W)')\n",
    "            self.ax1.set_title('Temperature & Power')\n",
    "            self.ax1.legend(loc='upper left')\n",
    "            #ax1_twin.legend(loc='upper right')\n",
    "            self.ax1.grid(True)\n",
    "\n",
    "            # Plot 2: HiPace Rotation Speed\n",
    "            self.ax2.plot(times, hipace_t_rpms, 'r-', label='Transfer RPM', marker='s')\n",
    "            self.ax2.plot(times, hipace_d_rpms, 'g-', label='Depo RPM', marker='^')\n",
    "            self.ax2.set_ylabel('RPM')\n",
    "            self.ax2.set_title('HiPace300 Rotation Speed')\n",
    "            self.ax2.legend()\n",
    "            self.ax2.grid(True)\n",
    "\n",
    "            # Plot 3: Pressure (Log scale)\n",
    "            self.ax3.plot(times, hipace_t_pressures, 'r-', label='Transfer Pressure', marker='s')\n",
    "            self.ax3.plot(times, hipace_d_pressures, 'g-', label='Depo Pressure', marker='^')\n",
    "            self.ax3.set_yscale('log')\n",
    "            self.ax3.set_ylabel('Pressure (log scale)')\n",
    "            self.ax3.set_title('Chamber Pressures')\n",
    "            self.ax3.legend()\n",
    "            self.ax3.grid(True)\n",
    "\n",
    "            # Plot 4: Power Comparison\n",
    "            self.ax4.plot(times, hiscroll_powers, 'b-', label='HiScroll Power', marker='o')\n",
    "            self.ax4.plot(times, hipace_t_powers, 'r-', label='HiPace-T Power', marker='s')\n",
    "            self.ax4.plot(times, hipace_d_powers, 'g-', label='HiPace-D Power', marker='^')\n",
    "            self.ax4.set_ylabel('Power (W)')\n",
    "            self.ax4.set_xlabel('Time')\n",
    "            self.ax4.set_title('Power Consumption Comparison')\n",
    "            self.ax4.legend()\n",
    "            self.ax4.grid(True)\n",
    "\n",
    "        except Exception as e:\n",
    "            print(\"failed plotting\")\n",
    "        \n",
    "        # Format all plots\n",
    "        for ax in [self.ax1, self.ax2, self.ax3, self.ax4]:\n",
    "            ax.tick_params(axis='x', rotation=45)\n",
    "        \n",
    "        self.fig.tight_layout()\n",
    "    \n",
    "    def start_live_plot(self):\n",
    "        self.ani = FuncAnimation(\n",
    "            self.fig,\n",
    "            self.update_plot,\n",
    "            interval=self.update_interval,\n",
    "            blit=False,\n",
    "            cache_frame_data=False\n",
    "        )\n",
    "\n",
    "        plt.show()\n",
    "        print(\"Live plotting started - Close window to stop\")\n",
    "\n",
    "        #return self.timestamps, self.hiscroll_temp, self.hipace_t_temp, self.hipace_d_temp, self.hiscroll_power, self.hipace_t_power, self.hipace_d_power\n",
    "    \n",
    "    def stop_live_plot(self):\n",
    "        if hasattr(self, 'ani'):\n",
    "            self.ani.event_source.stop()\n",
    "            print(\"Live plotting stopped.\")\n",
    "        else:\n",
    "            print(\"No animation to stop.\")\n",
    "\n",
    "print(\"✅ Multi-pump plotter class ready\")\n"
   ]
  },
  {
   "cell_type": "code",
   "execution_count": 28,
   "id": "73149d4261cf4d26",
   "metadata": {
    "ExecuteTime": {
     "end_time": "2025-08-18T07:06:02.312506Z",
     "start_time": "2025-08-18T07:06:02.260854Z"
    }
   },
   "outputs": [],
   "source": [
    "hiscroll.enable_pump()"
   ]
  },
  {
   "cell_type": "code",
   "execution_count": 14,
   "id": "54c8ba244d5ed095",
   "metadata": {
    "ExecuteTime": {
     "end_time": "2025-08-15T13:22:32.045742Z",
     "start_time": "2025-08-15T13:22:31.992878Z"
    }
   },
   "outputs": [],
   "source": [
    "hiscroll.disable_pump()"
   ]
  },
  {
   "cell_type": "code",
   "execution_count": 37,
   "id": "6605e4ae4c597066",
   "metadata": {
    "ExecuteTime": {
     "end_time": "2025-08-18T07:18:47.426051Z",
     "start_time": "2025-08-18T07:18:47.270775Z"
    }
   },
   "outputs": [],
   "source": [
    "hipace_transfer.enable_motor_pump()\n",
    "hipace_depo.enable_motor_pump()"
   ]
  },
  {
   "cell_type": "code",
   "execution_count": 38,
   "id": "b848ad55d64a2280",
   "metadata": {
    "ExecuteTime": {
     "end_time": "2025-08-18T07:18:49.232432Z",
     "start_time": "2025-08-18T07:18:49.120796Z"
    }
   },
   "outputs": [],
   "source": [
    "hipace_transfer.enable_pumpStatn()\n",
    "hipace_depo.enable_pumpStatn()"
   ]
  },
  {
   "cell_type": "code",
   "execution_count": 45,
   "id": "d70b496eaa1c4aec",
   "metadata": {
    "ExecuteTime": {
     "end_time": "2025-08-18T11:52:42.234134Z",
     "start_time": "2025-08-18T11:52:42.180884Z"
    }
   },
   "outputs": [],
   "source": [
    "hiscroll.disable_pump()"
   ]
  },
  {
   "cell_type": "code",
   "execution_count": 46,
   "id": "246193281021a09",
   "metadata": {
    "ExecuteTime": {
     "end_time": "2025-08-18T11:52:49.452713Z",
     "start_time": "2025-08-18T11:52:49.305504Z"
    }
   },
   "outputs": [],
   "source": [
    "hipace_transfer.disable_pumpStatn()\n",
    "hipace_depo.disable_pumpStatn()"
   ]
  },
  {
   "cell_type": "code",
   "execution_count": 12,
   "id": "265d5b53d91fd160",
   "metadata": {
    "ExecuteTime": {
     "end_time": "2025-08-18T06:58:53.115767Z",
     "start_time": "2025-08-18T06:58:53.097916Z"
    }
   },
   "outputs": [],
   "source": [
    "%matplotlib notebook"
   ]
  },
  {
   "cell_type": "code",
   "execution_count": 44,
   "id": "7852041f",
   "metadata": {
    "ExecuteTime": {
     "end_time": "2025-08-18T11:39:22.218437Z",
     "start_time": "2025-08-18T11:39:22.183780Z"
    }
   },
   "outputs": [
    {
     "data": {
      "application/javascript": "/* Put everything inside the global mpl namespace */\n/* global mpl */\nwindow.mpl = {};\n\nmpl.get_websocket_type = function () {\n    if (typeof WebSocket !== 'undefined') {\n        return WebSocket;\n    } else if (typeof MozWebSocket !== 'undefined') {\n        return MozWebSocket;\n    } else {\n        alert(\n            'Your browser does not have WebSocket support. ' +\n                'Please try Chrome, Safari or Firefox ≥ 6. ' +\n                'Firefox 4 and 5 are also supported but you ' +\n                'have to enable WebSockets in about:config.'\n        );\n    }\n};\n\nmpl.figure = function (figure_id, websocket, ondownload, parent_element) {\n    this.id = figure_id;\n\n    this.ws = websocket;\n\n    this.supports_binary = this.ws.binaryType !== undefined;\n\n    if (!this.supports_binary) {\n        var warnings = document.getElementById('mpl-warnings');\n        if (warnings) {\n            warnings.style.display = 'block';\n            warnings.textContent =\n                'This browser does not support binary websocket messages. ' +\n                'Performance may be slow.';\n        }\n    }\n\n    this.imageObj = new Image();\n\n    this.context = undefined;\n    this.message = undefined;\n    this.canvas = undefined;\n    this.rubberband_canvas = undefined;\n    this.rubberband_context = undefined;\n    this.format_dropdown = undefined;\n\n    this.image_mode = 'full';\n\n    this.root = document.createElement('div');\n    this.root.setAttribute('style', 'display: inline-block');\n    this._root_extra_style(this.root);\n\n    parent_element.appendChild(this.root);\n\n    this._init_header(this);\n    this._init_canvas(this);\n    this._init_toolbar(this);\n\n    var fig = this;\n\n    this.waiting = false;\n\n    this.ws.onopen = function () {\n        fig.send_message('supports_binary', { value: fig.supports_binary });\n        fig.send_message('send_image_mode', {});\n        if (fig.ratio !== 1) {\n            fig.send_message('set_device_pixel_ratio', {\n                device_pixel_ratio: fig.ratio,\n            });\n        }\n        fig.send_message('refresh', {});\n    };\n\n    this.imageObj.onload = function () {\n        if (fig.image_mode === 'full') {\n            // Full images could contain transparency (where diff images\n            // almost always do), so we need to clear the canvas so that\n            // there is no ghosting.\n            fig.context.clearRect(0, 0, fig.canvas.width, fig.canvas.height);\n        }\n        fig.context.drawImage(fig.imageObj, 0, 0);\n    };\n\n    this.imageObj.onunload = function () {\n        fig.ws.close();\n    };\n\n    this.ws.onmessage = this._make_on_message_function(this);\n\n    this.ondownload = ondownload;\n};\n\nmpl.figure.prototype._init_header = function () {\n    var titlebar = document.createElement('div');\n    titlebar.classList =\n        'ui-dialog-titlebar ui-widget-header ui-corner-all ui-helper-clearfix';\n    var titletext = document.createElement('div');\n    titletext.classList = 'ui-dialog-title';\n    titletext.setAttribute(\n        'style',\n        'width: 100%; text-align: center; padding: 3px;'\n    );\n    titlebar.appendChild(titletext);\n    this.root.appendChild(titlebar);\n    this.header = titletext;\n};\n\nmpl.figure.prototype._canvas_extra_style = function (_canvas_div) {};\n\nmpl.figure.prototype._root_extra_style = function (_canvas_div) {};\n\nmpl.figure.prototype._init_canvas = function () {\n    var fig = this;\n\n    var canvas_div = (this.canvas_div = document.createElement('div'));\n    canvas_div.setAttribute('tabindex', '0');\n    canvas_div.setAttribute(\n        'style',\n        'border: 1px solid #ddd;' +\n            'box-sizing: content-box;' +\n            'clear: both;' +\n            'min-height: 1px;' +\n            'min-width: 1px;' +\n            'outline: 0;' +\n            'overflow: hidden;' +\n            'position: relative;' +\n            'resize: both;' +\n            'z-index: 2;'\n    );\n\n    function on_keyboard_event_closure(name) {\n        return function (event) {\n            return fig.key_event(event, name);\n        };\n    }\n\n    canvas_div.addEventListener(\n        'keydown',\n        on_keyboard_event_closure('key_press')\n    );\n    canvas_div.addEventListener(\n        'keyup',\n        on_keyboard_event_closure('key_release')\n    );\n\n    this._canvas_extra_style(canvas_div);\n    this.root.appendChild(canvas_div);\n\n    var canvas = (this.canvas = document.createElement('canvas'));\n    canvas.classList.add('mpl-canvas');\n    canvas.setAttribute(\n        'style',\n        'box-sizing: content-box;' +\n            'pointer-events: none;' +\n            'position: relative;' +\n            'z-index: 0;'\n    );\n\n    this.context = canvas.getContext('2d');\n\n    var backingStore =\n        this.context.backingStorePixelRatio ||\n        this.context.webkitBackingStorePixelRatio ||\n        this.context.mozBackingStorePixelRatio ||\n        this.context.msBackingStorePixelRatio ||\n        this.context.oBackingStorePixelRatio ||\n        this.context.backingStorePixelRatio ||\n        1;\n\n    this.ratio = (window.devicePixelRatio || 1) / backingStore;\n\n    var rubberband_canvas = (this.rubberband_canvas = document.createElement(\n        'canvas'\n    ));\n    rubberband_canvas.setAttribute(\n        'style',\n        'box-sizing: content-box;' +\n            'left: 0;' +\n            'pointer-events: none;' +\n            'position: absolute;' +\n            'top: 0;' +\n            'z-index: 1;'\n    );\n\n    // Apply a ponyfill if ResizeObserver is not implemented by browser.\n    if (this.ResizeObserver === undefined) {\n        if (window.ResizeObserver !== undefined) {\n            this.ResizeObserver = window.ResizeObserver;\n        } else {\n            var obs = _JSXTOOLS_RESIZE_OBSERVER({});\n            this.ResizeObserver = obs.ResizeObserver;\n        }\n    }\n\n    this.resizeObserverInstance = new this.ResizeObserver(function (entries) {\n        // There's no need to resize if the WebSocket is not connected:\n        // - If it is still connecting, then we will get an initial resize from\n        //   Python once it connects.\n        // - If it has disconnected, then resizing will clear the canvas and\n        //   never get anything back to refill it, so better to not resize and\n        //   keep something visible.\n        if (fig.ws.readyState != 1) {\n            return;\n        }\n        var nentries = entries.length;\n        for (var i = 0; i < nentries; i++) {\n            var entry = entries[i];\n            var width, height;\n            if (entry.contentBoxSize) {\n                if (entry.contentBoxSize instanceof Array) {\n                    // Chrome 84 implements new version of spec.\n                    width = entry.contentBoxSize[0].inlineSize;\n                    height = entry.contentBoxSize[0].blockSize;\n                } else {\n                    // Firefox implements old version of spec.\n                    width = entry.contentBoxSize.inlineSize;\n                    height = entry.contentBoxSize.blockSize;\n                }\n            } else {\n                // Chrome <84 implements even older version of spec.\n                width = entry.contentRect.width;\n                height = entry.contentRect.height;\n            }\n\n            // Keep the size of the canvas and rubber band canvas in sync with\n            // the canvas container.\n            if (entry.devicePixelContentBoxSize) {\n                // Chrome 84 implements new version of spec.\n                canvas.setAttribute(\n                    'width',\n                    entry.devicePixelContentBoxSize[0].inlineSize\n                );\n                canvas.setAttribute(\n                    'height',\n                    entry.devicePixelContentBoxSize[0].blockSize\n                );\n            } else {\n                canvas.setAttribute('width', width * fig.ratio);\n                canvas.setAttribute('height', height * fig.ratio);\n            }\n            /* This rescales the canvas back to display pixels, so that it\n             * appears correct on HiDPI screens. */\n            canvas.style.width = width + 'px';\n            canvas.style.height = height + 'px';\n\n            rubberband_canvas.setAttribute('width', width);\n            rubberband_canvas.setAttribute('height', height);\n\n            // And update the size in Python. We ignore the initial 0/0 size\n            // that occurs as the element is placed into the DOM, which should\n            // otherwise not happen due to the minimum size styling.\n            if (width != 0 && height != 0) {\n                fig.request_resize(width, height);\n            }\n        }\n    });\n    this.resizeObserverInstance.observe(canvas_div);\n\n    function on_mouse_event_closure(name) {\n        /* User Agent sniffing is bad, but WebKit is busted:\n         * https://bugs.webkit.org/show_bug.cgi?id=144526\n         * https://bugs.webkit.org/show_bug.cgi?id=181818\n         * The worst that happens here is that they get an extra browser\n         * selection when dragging, if this check fails to catch them.\n         */\n        var UA = navigator.userAgent;\n        var isWebKit = /AppleWebKit/.test(UA) && !/Chrome/.test(UA);\n        if(isWebKit) {\n            return function (event) {\n                /* This prevents the web browser from automatically changing to\n                 * the text insertion cursor when the button is pressed. We\n                 * want to control all of the cursor setting manually through\n                 * the 'cursor' event from matplotlib */\n                event.preventDefault()\n                return fig.mouse_event(event, name);\n            };\n        } else {\n            return function (event) {\n                return fig.mouse_event(event, name);\n            };\n        }\n    }\n\n    canvas_div.addEventListener(\n        'mousedown',\n        on_mouse_event_closure('button_press')\n    );\n    canvas_div.addEventListener(\n        'mouseup',\n        on_mouse_event_closure('button_release')\n    );\n    canvas_div.addEventListener(\n        'dblclick',\n        on_mouse_event_closure('dblclick')\n    );\n    // Throttle sequential mouse events to 1 every 20ms.\n    canvas_div.addEventListener(\n        'mousemove',\n        on_mouse_event_closure('motion_notify')\n    );\n\n    canvas_div.addEventListener(\n        'mouseenter',\n        on_mouse_event_closure('figure_enter')\n    );\n    canvas_div.addEventListener(\n        'mouseleave',\n        on_mouse_event_closure('figure_leave')\n    );\n\n    canvas_div.addEventListener('wheel', function (event) {\n        if (event.deltaY < 0) {\n            event.step = 1;\n        } else {\n            event.step = -1;\n        }\n        on_mouse_event_closure('scroll')(event);\n    });\n\n    canvas_div.appendChild(canvas);\n    canvas_div.appendChild(rubberband_canvas);\n\n    this.rubberband_context = rubberband_canvas.getContext('2d');\n    this.rubberband_context.strokeStyle = '#000000';\n\n    this._resize_canvas = function (width, height, forward) {\n        if (forward) {\n            canvas_div.style.width = width + 'px';\n            canvas_div.style.height = height + 'px';\n        }\n    };\n\n    // Disable right mouse context menu.\n    canvas_div.addEventListener('contextmenu', function (_e) {\n        event.preventDefault();\n        return false;\n    });\n\n    function set_focus() {\n        canvas.focus();\n        canvas_div.focus();\n    }\n\n    window.setTimeout(set_focus, 100);\n};\n\nmpl.figure.prototype._init_toolbar = function () {\n    var fig = this;\n\n    var toolbar = document.createElement('div');\n    toolbar.classList = 'mpl-toolbar';\n    this.root.appendChild(toolbar);\n\n    function on_click_closure(name) {\n        return function (_event) {\n            return fig.toolbar_button_onclick(name);\n        };\n    }\n\n    function on_mouseover_closure(tooltip) {\n        return function (event) {\n            if (!event.currentTarget.disabled) {\n                return fig.toolbar_button_onmouseover(tooltip);\n            }\n        };\n    }\n\n    fig.buttons = {};\n    var buttonGroup = document.createElement('div');\n    buttonGroup.classList = 'mpl-button-group';\n    for (var toolbar_ind in mpl.toolbar_items) {\n        var name = mpl.toolbar_items[toolbar_ind][0];\n        var tooltip = mpl.toolbar_items[toolbar_ind][1];\n        var image = mpl.toolbar_items[toolbar_ind][2];\n        var method_name = mpl.toolbar_items[toolbar_ind][3];\n\n        if (!name) {\n            /* Instead of a spacer, we start a new button group. */\n            if (buttonGroup.hasChildNodes()) {\n                toolbar.appendChild(buttonGroup);\n            }\n            buttonGroup = document.createElement('div');\n            buttonGroup.classList = 'mpl-button-group';\n            continue;\n        }\n\n        var button = (fig.buttons[name] = document.createElement('button'));\n        button.classList = 'mpl-widget';\n        button.setAttribute('role', 'button');\n        button.setAttribute('aria-disabled', 'false');\n        button.addEventListener('click', on_click_closure(method_name));\n        button.addEventListener('mouseover', on_mouseover_closure(tooltip));\n\n        var icon_img = document.createElement('img');\n        icon_img.src = '_images/' + image + '.png';\n        icon_img.srcset = '_images/' + image + '_large.png 2x';\n        icon_img.alt = tooltip;\n        button.appendChild(icon_img);\n\n        buttonGroup.appendChild(button);\n    }\n\n    if (buttonGroup.hasChildNodes()) {\n        toolbar.appendChild(buttonGroup);\n    }\n\n    var fmt_picker = document.createElement('select');\n    fmt_picker.classList = 'mpl-widget';\n    toolbar.appendChild(fmt_picker);\n    this.format_dropdown = fmt_picker;\n\n    for (var ind in mpl.extensions) {\n        var fmt = mpl.extensions[ind];\n        var option = document.createElement('option');\n        option.selected = fmt === mpl.default_extension;\n        option.innerHTML = fmt;\n        fmt_picker.appendChild(option);\n    }\n\n    var status_bar = document.createElement('span');\n    status_bar.classList = 'mpl-message';\n    toolbar.appendChild(status_bar);\n    this.message = status_bar;\n};\n\nmpl.figure.prototype.request_resize = function (x_pixels, y_pixels) {\n    // Request matplotlib to resize the figure. Matplotlib will then trigger a resize in the client,\n    // which will in turn request a refresh of the image.\n    this.send_message('resize', { width: x_pixels, height: y_pixels });\n};\n\nmpl.figure.prototype.send_message = function (type, properties) {\n    properties['type'] = type;\n    properties['figure_id'] = this.id;\n    this.ws.send(JSON.stringify(properties));\n};\n\nmpl.figure.prototype.send_draw_message = function () {\n    if (!this.waiting) {\n        this.waiting = true;\n        this.ws.send(JSON.stringify({ type: 'draw', figure_id: this.id }));\n    }\n};\n\nmpl.figure.prototype.handle_save = function (fig, _msg) {\n    var format_dropdown = fig.format_dropdown;\n    var format = format_dropdown.options[format_dropdown.selectedIndex].value;\n    fig.ondownload(fig, format);\n};\n\nmpl.figure.prototype.handle_resize = function (fig, msg) {\n    var size = msg['size'];\n    if (size[0] !== fig.canvas.width || size[1] !== fig.canvas.height) {\n        fig._resize_canvas(size[0], size[1], msg['forward']);\n        fig.send_message('refresh', {});\n    }\n};\n\nmpl.figure.prototype.handle_rubberband = function (fig, msg) {\n    var x0 = msg['x0'] / fig.ratio;\n    var y0 = (fig.canvas.height - msg['y0']) / fig.ratio;\n    var x1 = msg['x1'] / fig.ratio;\n    var y1 = (fig.canvas.height - msg['y1']) / fig.ratio;\n    x0 = Math.floor(x0) + 0.5;\n    y0 = Math.floor(y0) + 0.5;\n    x1 = Math.floor(x1) + 0.5;\n    y1 = Math.floor(y1) + 0.5;\n    var min_x = Math.min(x0, x1);\n    var min_y = Math.min(y0, y1);\n    var width = Math.abs(x1 - x0);\n    var height = Math.abs(y1 - y0);\n\n    fig.rubberband_context.clearRect(\n        0,\n        0,\n        fig.canvas.width / fig.ratio,\n        fig.canvas.height / fig.ratio\n    );\n\n    fig.rubberband_context.strokeRect(min_x, min_y, width, height);\n};\n\nmpl.figure.prototype.handle_figure_label = function (fig, msg) {\n    // Updates the figure title.\n    fig.header.textContent = msg['label'];\n};\n\nmpl.figure.prototype.handle_cursor = function (fig, msg) {\n    fig.canvas_div.style.cursor = msg['cursor'];\n};\n\nmpl.figure.prototype.handle_message = function (fig, msg) {\n    fig.message.textContent = msg['message'];\n};\n\nmpl.figure.prototype.handle_draw = function (fig, _msg) {\n    // Request the server to send over a new figure.\n    fig.send_draw_message();\n};\n\nmpl.figure.prototype.handle_image_mode = function (fig, msg) {\n    fig.image_mode = msg['mode'];\n};\n\nmpl.figure.prototype.handle_history_buttons = function (fig, msg) {\n    for (var key in msg) {\n        if (!(key in fig.buttons)) {\n            continue;\n        }\n        fig.buttons[key].disabled = !msg[key];\n        fig.buttons[key].setAttribute('aria-disabled', !msg[key]);\n    }\n};\n\nmpl.figure.prototype.handle_navigate_mode = function (fig, msg) {\n    if (msg['mode'] === 'PAN') {\n        fig.buttons['Pan'].classList.add('active');\n        fig.buttons['Zoom'].classList.remove('active');\n    } else if (msg['mode'] === 'ZOOM') {\n        fig.buttons['Pan'].classList.remove('active');\n        fig.buttons['Zoom'].classList.add('active');\n    } else {\n        fig.buttons['Pan'].classList.remove('active');\n        fig.buttons['Zoom'].classList.remove('active');\n    }\n};\n\nmpl.figure.prototype.updated_canvas_event = function () {\n    // Called whenever the canvas gets updated.\n    this.send_message('ack', {});\n};\n\n// A function to construct a web socket function for onmessage handling.\n// Called in the figure constructor.\nmpl.figure.prototype._make_on_message_function = function (fig) {\n    return function socket_on_message(evt) {\n        if (evt.data instanceof Blob) {\n            var img = evt.data;\n            if (img.type !== 'image/png') {\n                /* FIXME: We get \"Resource interpreted as Image but\n                 * transferred with MIME type text/plain:\" errors on\n                 * Chrome.  But how to set the MIME type?  It doesn't seem\n                 * to be part of the websocket stream */\n                img.type = 'image/png';\n            }\n\n            /* Free the memory for the previous frames */\n            if (fig.imageObj.src) {\n                (window.URL || window.webkitURL).revokeObjectURL(\n                    fig.imageObj.src\n                );\n            }\n\n            fig.imageObj.src = (window.URL || window.webkitURL).createObjectURL(\n                img\n            );\n            fig.updated_canvas_event();\n            fig.waiting = false;\n            return;\n        } else if (\n            typeof evt.data === 'string' &&\n            evt.data.slice(0, 21) === 'data:image/png;base64'\n        ) {\n            fig.imageObj.src = evt.data;\n            fig.updated_canvas_event();\n            fig.waiting = false;\n            return;\n        }\n\n        var msg = JSON.parse(evt.data);\n        var msg_type = msg['type'];\n\n        // Call the  \"handle_{type}\" callback, which takes\n        // the figure and JSON message as its only arguments.\n        try {\n            var callback = fig['handle_' + msg_type];\n        } catch (e) {\n            console.log(\n                \"No handler for the '\" + msg_type + \"' message type: \",\n                msg\n            );\n            return;\n        }\n\n        if (callback) {\n            try {\n                // console.log(\"Handling '\" + msg_type + \"' message: \", msg);\n                callback(fig, msg);\n            } catch (e) {\n                console.log(\n                    \"Exception inside the 'handler_\" + msg_type + \"' callback:\",\n                    e,\n                    e.stack,\n                    msg\n                );\n            }\n        }\n    };\n};\n\nfunction getModifiers(event) {\n    var mods = [];\n    if (event.ctrlKey) {\n        mods.push('ctrl');\n    }\n    if (event.altKey) {\n        mods.push('alt');\n    }\n    if (event.shiftKey) {\n        mods.push('shift');\n    }\n    if (event.metaKey) {\n        mods.push('meta');\n    }\n    return mods;\n}\n\n/*\n * return a copy of an object with only non-object keys\n * we need this to avoid circular references\n * https://stackoverflow.com/a/24161582/3208463\n */\nfunction simpleKeys(original) {\n    return Object.keys(original).reduce(function (obj, key) {\n        if (typeof original[key] !== 'object') {\n            obj[key] = original[key];\n        }\n        return obj;\n    }, {});\n}\n\nmpl.figure.prototype.mouse_event = function (event, name) {\n    if (name === 'button_press') {\n        this.canvas.focus();\n        this.canvas_div.focus();\n    }\n\n    // from https://stackoverflow.com/q/1114465\n    var boundingRect = this.canvas.getBoundingClientRect();\n    var x = (event.clientX - boundingRect.left) * this.ratio;\n    var y = (event.clientY - boundingRect.top) * this.ratio;\n\n    this.send_message(name, {\n        x: x,\n        y: y,\n        button: event.button,\n        step: event.step,\n        buttons: event.buttons,\n        modifiers: getModifiers(event),\n        guiEvent: simpleKeys(event),\n    });\n\n    return false;\n};\n\nmpl.figure.prototype._key_event_extra = function (_event, _name) {\n    // Handle any extra behaviour associated with a key event\n};\n\nmpl.figure.prototype.key_event = function (event, name) {\n    // Prevent repeat events\n    if (name === 'key_press') {\n        if (event.key === this._key) {\n            return;\n        } else {\n            this._key = event.key;\n        }\n    }\n    if (name === 'key_release') {\n        this._key = null;\n    }\n\n    var value = '';\n    if (event.ctrlKey && event.key !== 'Control') {\n        value += 'ctrl+';\n    }\n    else if (event.altKey && event.key !== 'Alt') {\n        value += 'alt+';\n    }\n    else if (event.shiftKey && event.key !== 'Shift') {\n        value += 'shift+';\n    }\n\n    value += 'k' + event.key;\n\n    this._key_event_extra(event, name);\n\n    this.send_message(name, { key: value, guiEvent: simpleKeys(event) });\n    return false;\n};\n\nmpl.figure.prototype.toolbar_button_onclick = function (name) {\n    if (name === 'download') {\n        this.handle_save(this, null);\n    } else {\n        this.send_message('toolbar_button', { name: name });\n    }\n};\n\nmpl.figure.prototype.toolbar_button_onmouseover = function (tooltip) {\n    this.message.textContent = tooltip;\n};\n\n///////////////// REMAINING CONTENT GENERATED BY embed_js.py /////////////////\n// prettier-ignore\nvar _JSXTOOLS_RESIZE_OBSERVER=function(A){var t,i=new WeakMap,n=new WeakMap,a=new WeakMap,r=new WeakMap,o=new Set;function s(e){if(!(this instanceof s))throw new TypeError(\"Constructor requires 'new' operator\");i.set(this,e)}function h(){throw new TypeError(\"Function is not a constructor\")}function c(e,t,i,n){e=0 in arguments?Number(arguments[0]):0,t=1 in arguments?Number(arguments[1]):0,i=2 in arguments?Number(arguments[2]):0,n=3 in arguments?Number(arguments[3]):0,this.right=(this.x=this.left=e)+(this.width=i),this.bottom=(this.y=this.top=t)+(this.height=n),Object.freeze(this)}function d(){t=requestAnimationFrame(d);var s=new WeakMap,p=new Set;o.forEach((function(t){r.get(t).forEach((function(i){var r=t instanceof window.SVGElement,o=a.get(t),d=r?0:parseFloat(o.paddingTop),f=r?0:parseFloat(o.paddingRight),l=r?0:parseFloat(o.paddingBottom),u=r?0:parseFloat(o.paddingLeft),g=r?0:parseFloat(o.borderTopWidth),m=r?0:parseFloat(o.borderRightWidth),w=r?0:parseFloat(o.borderBottomWidth),b=u+f,F=d+l,v=(r?0:parseFloat(o.borderLeftWidth))+m,W=g+w,y=r?0:t.offsetHeight-W-t.clientHeight,E=r?0:t.offsetWidth-v-t.clientWidth,R=b+v,z=F+W,M=r?t.width:parseFloat(o.width)-R-E,O=r?t.height:parseFloat(o.height)-z-y;if(n.has(t)){var k=n.get(t);if(k[0]===M&&k[1]===O)return}n.set(t,[M,O]);var S=Object.create(h.prototype);S.target=t,S.contentRect=new c(u,d,M,O),s.has(i)||(s.set(i,[]),p.add(i)),s.get(i).push(S)}))})),p.forEach((function(e){i.get(e).call(e,s.get(e),e)}))}return s.prototype.observe=function(i){if(i instanceof window.Element){r.has(i)||(r.set(i,new Set),o.add(i),a.set(i,window.getComputedStyle(i)));var n=r.get(i);n.has(this)||n.add(this),cancelAnimationFrame(t),t=requestAnimationFrame(d)}},s.prototype.unobserve=function(i){if(i instanceof window.Element&&r.has(i)){var n=r.get(i);n.has(this)&&(n.delete(this),n.size||(r.delete(i),o.delete(i))),n.size||r.delete(i),o.size||cancelAnimationFrame(t)}},A.DOMRectReadOnly=c,A.ResizeObserver=s,A.ResizeObserverEntry=h,A}; // eslint-disable-line\nmpl.toolbar_items = [[\"Home\", \"Reset original view\", \"fa fa-home\", \"home\"], [\"Back\", \"Back to previous view\", \"fa fa-arrow-left\", \"back\"], [\"Forward\", \"Forward to next view\", \"fa fa-arrow-right\", \"forward\"], [\"\", \"\", \"\", \"\"], [\"Pan\", \"Left button pans, Right button zooms\\nx/y fixes axis, CTRL fixes aspect\", \"fa fa-arrows\", \"pan\"], [\"Zoom\", \"Zoom to rectangle\\nx/y fixes axis\", \"fa fa-square-o\", \"zoom\"], [\"\", \"\", \"\", \"\"], [\"Download\", \"Download plot\", \"fa fa-floppy-o\", \"download\"]];\n\nmpl.extensions = [\"eps\", \"jpeg\", \"pgf\", \"pdf\", \"png\", \"ps\", \"raw\", \"svg\", \"tif\", \"webp\"];\n\nmpl.default_extension = \"png\";/* global mpl */\n\nvar comm_websocket_adapter = function (comm) {\n    // Create a \"websocket\"-like object which calls the given IPython comm\n    // object with the appropriate methods. Currently this is a non binary\n    // socket, so there is still some room for performance tuning.\n    var ws = {};\n\n    ws.binaryType = comm.kernel.ws.binaryType;\n    ws.readyState = comm.kernel.ws.readyState;\n    function updateReadyState(_event) {\n        if (comm.kernel.ws) {\n            ws.readyState = comm.kernel.ws.readyState;\n        } else {\n            ws.readyState = 3; // Closed state.\n        }\n    }\n    comm.kernel.ws.addEventListener('open', updateReadyState);\n    comm.kernel.ws.addEventListener('close', updateReadyState);\n    comm.kernel.ws.addEventListener('error', updateReadyState);\n\n    ws.close = function () {\n        comm.close();\n    };\n    ws.send = function (m) {\n        //console.log('sending', m);\n        comm.send(m);\n    };\n    // Register the callback with on_msg.\n    comm.on_msg(function (msg) {\n        //console.log('receiving', msg['content']['data'], msg);\n        var data = msg['content']['data'];\n        if (data['blob'] !== undefined) {\n            data = {\n                data: new Blob(msg['buffers'], { type: data['blob'] }),\n            };\n        }\n        // Pass the mpl event to the overridden (by mpl) onmessage function.\n        ws.onmessage(data);\n    });\n    return ws;\n};\n\nmpl.mpl_figure_comm = function (comm, msg) {\n    // This is the function which gets called when the mpl process\n    // starts-up an IPython Comm through the \"matplotlib\" channel.\n\n    var id = msg.content.data.id;\n    // Get hold of the div created by the display call when the Comm\n    // socket was opened in Python.\n    var element = document.getElementById(id);\n    var ws_proxy = comm_websocket_adapter(comm);\n\n    function ondownload(figure, _format) {\n        window.open(figure.canvas.toDataURL());\n    }\n\n    var fig = new mpl.figure(id, ws_proxy, ondownload, element);\n\n    // Call onopen now - mpl needs it, as it is assuming we've passed it a real\n    // web socket which is closed, not our websocket->open comm proxy.\n    ws_proxy.onopen();\n\n    fig.parent_element = element;\n    fig.cell_info = mpl.find_output_cell(\"<div id='\" + id + \"'></div>\");\n    if (!fig.cell_info) {\n        console.error('Failed to find cell for figure', id, fig);\n        return;\n    }\n    fig.cell_info[0].output_area.element.on(\n        'cleared',\n        { fig: fig },\n        fig._remove_fig_handler\n    );\n};\n\nmpl.figure.prototype.handle_close = function (fig, msg) {\n    var width = fig.canvas.width / fig.ratio;\n    fig.cell_info[0].output_area.element.off(\n        'cleared',\n        fig._remove_fig_handler\n    );\n    fig.resizeObserverInstance.unobserve(fig.canvas_div);\n\n    // Update the output cell to use the data from the current canvas.\n    fig.push_to_output();\n    var dataURL = fig.canvas.toDataURL();\n    // Re-enable the keyboard manager in IPython - without this line, in FF,\n    // the notebook keyboard shortcuts fail.\n    IPython.keyboard_manager.enable();\n    fig.parent_element.innerHTML =\n        '<img src=\"' + dataURL + '\" width=\"' + width + '\">';\n    fig.close_ws(fig, msg);\n};\n\nmpl.figure.prototype.close_ws = function (fig, msg) {\n    fig.send_message('closing', msg);\n    // fig.ws.close()\n};\n\nmpl.figure.prototype.push_to_output = function (_remove_interactive) {\n    // Turn the data on the canvas into data in the output cell.\n    var width = this.canvas.width / this.ratio;\n    var dataURL = this.canvas.toDataURL();\n    this.cell_info[1]['text/html'] =\n        '<img src=\"' + dataURL + '\" width=\"' + width + '\">';\n};\n\nmpl.figure.prototype.updated_canvas_event = function () {\n    // Tell IPython that the notebook contents must change.\n    IPython.notebook.set_dirty(true);\n    this.send_message('ack', {});\n    var fig = this;\n    // Wait a second, then push the new image to the DOM so\n    // that it is saved nicely (might be nice to debounce this).\n    setTimeout(function () {\n        fig.push_to_output();\n    }, 1000);\n};\n\nmpl.figure.prototype._init_toolbar = function () {\n    var fig = this;\n\n    var toolbar = document.createElement('div');\n    toolbar.classList = 'btn-toolbar';\n    this.root.appendChild(toolbar);\n\n    function on_click_closure(name) {\n        return function (_event) {\n            return fig.toolbar_button_onclick(name);\n        };\n    }\n\n    function on_mouseover_closure(tooltip) {\n        return function (event) {\n            if (!event.currentTarget.disabled) {\n                return fig.toolbar_button_onmouseover(tooltip);\n            }\n        };\n    }\n\n    fig.buttons = {};\n    var buttonGroup = document.createElement('div');\n    buttonGroup.classList = 'btn-group';\n    var button;\n    for (var toolbar_ind in mpl.toolbar_items) {\n        var name = mpl.toolbar_items[toolbar_ind][0];\n        var tooltip = mpl.toolbar_items[toolbar_ind][1];\n        var image = mpl.toolbar_items[toolbar_ind][2];\n        var method_name = mpl.toolbar_items[toolbar_ind][3];\n\n        if (!name) {\n            /* Instead of a spacer, we start a new button group. */\n            if (buttonGroup.hasChildNodes()) {\n                toolbar.appendChild(buttonGroup);\n            }\n            buttonGroup = document.createElement('div');\n            buttonGroup.classList = 'btn-group';\n            continue;\n        }\n\n        button = fig.buttons[name] = document.createElement('button');\n        button.classList = 'btn btn-default';\n        button.href = '#';\n        button.title = name;\n        button.innerHTML = '<i class=\"fa ' + image + ' fa-lg\"></i>';\n        button.addEventListener('click', on_click_closure(method_name));\n        button.addEventListener('mouseover', on_mouseover_closure(tooltip));\n        buttonGroup.appendChild(button);\n    }\n\n    if (buttonGroup.hasChildNodes()) {\n        toolbar.appendChild(buttonGroup);\n    }\n\n    // Add the status bar.\n    var status_bar = document.createElement('span');\n    status_bar.classList = 'mpl-message pull-right';\n    toolbar.appendChild(status_bar);\n    this.message = status_bar;\n\n    // Add the close button to the window.\n    var buttongrp = document.createElement('div');\n    buttongrp.classList = 'btn-group inline pull-right';\n    button = document.createElement('button');\n    button.classList = 'btn btn-mini btn-primary';\n    button.href = '#';\n    button.title = 'Stop Interaction';\n    button.innerHTML = '<i class=\"fa fa-power-off icon-remove icon-large\"></i>';\n    button.addEventListener('click', function (_evt) {\n        fig.handle_close(fig, {});\n    });\n    button.addEventListener(\n        'mouseover',\n        on_mouseover_closure('Stop Interaction')\n    );\n    buttongrp.appendChild(button);\n    var titlebar = this.root.querySelector('.ui-dialog-titlebar');\n    titlebar.insertBefore(buttongrp, titlebar.firstChild);\n};\n\nmpl.figure.prototype._remove_fig_handler = function (event) {\n    var fig = event.data.fig;\n    if (event.target !== this) {\n        // Ignore bubbled events from children.\n        return;\n    }\n    fig.close_ws(fig, {});\n};\n\nmpl.figure.prototype._root_extra_style = function (el) {\n    el.style.boxSizing = 'content-box'; // override notebook setting of border-box.\n};\n\nmpl.figure.prototype._canvas_extra_style = function (el) {\n    // this is important to make the div 'focusable\n    el.setAttribute('tabindex', 0);\n    // reach out to IPython and tell the keyboard manager to turn it's self\n    // off when our div gets focus\n\n    // location in version 3\n    if (IPython.notebook.keyboard_manager) {\n        IPython.notebook.keyboard_manager.register_events(el);\n    } else {\n        // location in version 2\n        IPython.keyboard_manager.register_events(el);\n    }\n};\n\nmpl.figure.prototype._key_event_extra = function (event, _name) {\n    // Check for shift+enter\n    if (event.shiftKey && event.which === 13) {\n        this.canvas_div.blur();\n        // select the cell after this one\n        var index = IPython.notebook.find_cell_index(this.cell_info[0]);\n        IPython.notebook.select(index + 1);\n    }\n};\n\nmpl.figure.prototype.handle_save = function (fig, _msg) {\n    fig.ondownload(fig, null);\n};\n\nmpl.find_output_cell = function (html_output) {\n    // Return the cell and output element which can be found *uniquely* in the notebook.\n    // Note - this is a bit hacky, but it is done because the \"notebook_saving.Notebook\"\n    // IPython event is triggered only after the cells have been serialised, which for\n    // our purposes (turning an active figure into a static one), is too late.\n    var cells = IPython.notebook.get_cells();\n    var ncells = cells.length;\n    for (var i = 0; i < ncells; i++) {\n        var cell = cells[i];\n        if (cell.cell_type === 'code') {\n            for (var j = 0; j < cell.output_area.outputs.length; j++) {\n                var data = cell.output_area.outputs[j];\n                if (data.data) {\n                    // IPython >= 3 moved mimebundle to data attribute of output\n                    data = data.data;\n                }\n                if (data['text/html'] === html_output) {\n                    return [cell, data, j];\n                }\n            }\n        }\n    }\n};\n\n// Register the function which deals with the matplotlib target/channel.\n// The kernel may be null if the page has been refreshed.\nif (IPython.notebook.kernel !== null) {\n    IPython.notebook.kernel.comm_manager.register_target(\n        'matplotlib',\n        mpl.mpl_figure_comm\n    );\n}\n",
      "text/plain": [
       "<IPython.core.display.Javascript object>"
      ]
     },
     "metadata": {},
     "output_type": "display_data"
    },
    {
     "data": {
      "text/html": [
       "<div id='0df4b51a-9b92-4ee8-ab8c-658f9e9d1c48'></div>"
      ],
      "text/plain": [
       "<IPython.core.display.HTML object>"
      ]
     },
     "metadata": {},
     "output_type": "display_data"
    },
    {
     "name": "stdout",
     "output_type": "stream",
     "text": [
      "Live plotting started - Close window to stop\n"
     ]
    }
   ],
   "source": [
    "# Create and start live plotting\n",
    "plotter = MultiPumpPlotter(update_interval=250)  # Update every 2 seconds\n",
    "plotter.start_live_plot()\n",
    "\n",
    "# To stop plotting later, run: plotter.stop_live_plot()"
   ]
  },
  {
   "cell_type": "code",
   "execution_count": 47,
   "id": "9ce77083e3417423",
   "metadata": {
    "ExecuteTime": {
     "end_time": "2025-08-18T11:59:11.436491Z",
     "start_time": "2025-08-18T11:59:11.433002Z"
    }
   },
   "outputs": [
    {
     "name": "stdout",
     "output_type": "stream",
     "text": [
      "Live plotting stopped.\n"
     ]
    }
   ],
   "source": [
    "plotter.stop_live_plot()"
   ]
  },
  {
   "cell_type": "markdown",
   "id": "506362e482d78edf",
   "metadata": {},
   "source": [
    "# 8. Disconnect"
   ]
  },
  {
   "cell_type": "code",
   "execution_count": 49,
   "id": "b94cfe47b38a6294",
   "metadata": {
    "ExecuteTime": {
     "end_time": "2025-08-18T11:59:33.256291Z",
     "start_time": "2025-08-18T11:59:32.909047Z"
    }
   },
   "outputs": [
    {
     "name": "stderr",
     "output_type": "stream",
     "text": [
      "2025-08-18 13:59:33 | INFO | Disconnected from Pfeiffer device hiscroll12\n",
      "2025-08-18 13:59:33 | INFO | Disconnected from Pfeiffer device hipace_transfer\n",
      "2025-08-18 13:59:33 | INFO | Disconnected from Pfeiffer device hipace_depo\n"
     ]
    },
    {
     "data": {
      "text/plain": [
       "True"
      ]
     },
     "execution_count": 49,
     "metadata": {},
     "output_type": "execute_result"
    }
   ],
   "source": [
    "hiscroll.disconnect()\n",
    "hipace_transfer.disconnect()\n",
    "hipace_depo.disconnect()"
   ]
  },
  {
   "cell_type": "code",
   "execution_count": null,
   "id": "944f7f61eec54e06",
   "metadata": {},
   "outputs": [],
   "source": []
  }
 ],
 "metadata": {
  "kernelspec": {
   "display_name": "Python 3 (ipykernel)",
   "language": "python",
   "name": "python3"
  },
  "language_info": {
   "name": "python"
  }
 },
 "nbformat": 4,
 "nbformat_minor": 5
}
