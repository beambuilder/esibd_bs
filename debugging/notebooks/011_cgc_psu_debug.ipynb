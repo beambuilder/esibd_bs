{
 "cells": [
  {
   "cell_type": "markdown",
   "id": "c26b45a6",
   "metadata": {},
   "source": [
    "# CGC PSU Debug Test\n",
    "\n",
    "Simple notebook to test PSU connection and basic functionality."
   ]
  },
  {
   "cell_type": "markdown",
   "id": "1b95341e",
   "metadata": {},
   "source": [
    "## Import the PSU class"
   ]
  },
  {
   "cell_type": "code",
   "execution_count": null,
   "id": "234084d5",
   "metadata": {},
   "outputs": [],
   "source": [
    "import sys\n",
    "sys.path.append(r'c:\\Users\\Niclas\\Desktop\\esibd_bs\\src')\n",
    "\n",
    "from devices.cgc.psu import PSU"
   ]
  },
  {
   "cell_type": "markdown",
   "id": "2959d783",
   "metadata": {},
   "source": [
    "## Initialize PSU instance\n",
    "\n",
    "Set COM port and port number according to your hardware configuration."
   ]
  },
  {
   "cell_type": "code",
   "execution_count": null,
   "id": "f5ce1841",
   "metadata": {},
   "outputs": [],
   "source": [
    "# Initialize PSU\n",
    "# Adjust COM and port numbers as needed\n",
    "com_port = 3  # COM3\n",
    "port_number = 0  # Software port 0\n",
    "\n",
    "psu = PSU(com=com_port, port=port_number, idn=\"PSU_Test\")"
   ]
  },
  {
   "cell_type": "markdown",
   "id": "b19ff403",
   "metadata": {},
   "source": [
    "## Open connection to PSU"
   ]
  },
  {
   "cell_type": "code",
   "execution_count": null,
   "id": "081abdca",
   "metadata": {},
   "outputs": [],
   "source": [
    "# Open port\n",
    "psu.open_port(com=com_port, port=port_number)"
   ]
  },
  {
   "cell_type": "markdown",
   "id": "03156d5a",
   "metadata": {},
   "source": [
    "## Get device information"
   ]
  },
  {
   "cell_type": "code",
   "execution_count": null,
   "id": "a02cbeac",
   "metadata": {},
   "outputs": [],
   "source": [
    "# Get firmware version\n",
    "status, fw_version = psu.get_fw_version()\n",
    "print(f\"Status: {status}, Firmware Version: {fw_version}\")"
   ]
  },
  {
   "cell_type": "code",
   "execution_count": null,
   "id": "a0aef5ee",
   "metadata": {},
   "outputs": [],
   "source": [
    "# Get product ID\n",
    "status, product_id = psu.get_product_id()\n",
    "print(f\"Status: {status}, Product ID: {product_id}\")"
   ]
  },
  {
   "cell_type": "markdown",
   "id": "a81c9cbd",
   "metadata": {},
   "source": [
    "## Get device state"
   ]
  },
  {
   "cell_type": "code",
   "execution_count": null,
   "id": "0741feff",
   "metadata": {},
   "outputs": [],
   "source": [
    "# Get main state\n",
    "status, main_state = psu.get_main_state()\n",
    "print(f\"Status: {status}, Main State: 0x{main_state:04X}\")"
   ]
  },
  {
   "cell_type": "markdown",
   "id": "6a83033c",
   "metadata": {},
   "source": [
    "## Close connection"
   ]
  },
  {
   "cell_type": "code",
   "execution_count": null,
   "id": "374bac55",
   "metadata": {},
   "outputs": [],
   "source": [
    "# Close port when done\n",
    "psu.close_port()"
   ]
  }
 ],
 "metadata": {
  "language_info": {
   "name": "python"
  }
 },
 "nbformat": 4,
 "nbformat_minor": 5
}
