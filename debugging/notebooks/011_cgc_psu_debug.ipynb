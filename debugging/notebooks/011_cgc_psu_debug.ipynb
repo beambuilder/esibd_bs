{
 "cells": [
  {
   "cell_type": "markdown",
   "id": "c26b45a6",
   "metadata": {},
   "source": [
    "# CGC PSU Debug Test\n",
    "\n",
    "Simple notebook to test PSU connection and basic functionality."
   ]
  },
  {
   "cell_type": "markdown",
   "id": "1b95341e",
   "metadata": {},
   "source": [
    "## Import the PSU class"
   ]
  },
  {
   "cell_type": "code",
   "execution_count": 3,
   "id": "234084d5",
   "metadata": {
    "ExecuteTime": {
     "end_time": "2025-10-27T09:55:52.066921Z",
     "start_time": "2025-10-27T09:55:52.039455Z"
    }
   },
   "outputs": [],
   "source": [
    "import sys\n",
    "import os\n",
    "#sys.path.append(r'c:\\Users\\Niclas\\Desktop\\esibd_bs\\src')\n",
    "sys.path.append(os.path.join(os.getcwd(), '..', '..', 'src'))\n",
    "\n",
    "from devices.cgc.psu import PSU"
   ]
  },
  {
   "cell_type": "markdown",
   "id": "2959d783",
   "metadata": {},
   "source": [
    "## Initialize PSU instance\n",
    "\n",
    "Set COM port and port number according to your hardware configuration."
   ]
  },
  {
   "cell_type": "code",
   "execution_count": 4,
   "id": "f5ce1841",
   "metadata": {
    "ExecuteTime": {
     "end_time": "2025-10-27T09:57:11.737725Z",
     "start_time": "2025-10-27T09:57:11.571029Z"
    }
   },
   "outputs": [
    {
     "ename": "FileNotFoundError",
     "evalue": "Could not find module 'C:\\Users\\ESIBDlab\\PycharmProjects\\esibd_bs\\debugging\\notebooks\\PSU-CTRL-2D_1-01\\x64\\COM-HVPSU2D.dll' (or one of its dependencies). Try using the full path with constructor syntax.",
     "output_type": "error",
     "traceback": [
      "\u001b[31m---------------------------------------------------------------------------\u001b[39m",
      "\u001b[31mFileNotFoundError\u001b[39m                         Traceback (most recent call last)",
      "\u001b[36mCell\u001b[39m\u001b[36m \u001b[39m\u001b[32mIn[4]\u001b[39m\u001b[32m, line 6\u001b[39m\n\u001b[32m      3\u001b[39m com_port = \u001b[32m6\u001b[39m  \u001b[38;5;66;03m# COM3\u001b[39;00m\n\u001b[32m      4\u001b[39m port_number = \u001b[32m1\u001b[39m  \u001b[38;5;66;03m# Software port 0\u001b[39;00m\n\u001b[32m----> \u001b[39m\u001b[32m6\u001b[39m psu = PSU(com=com_port, port=port_number, idn=\u001b[33m\"\u001b[39m\u001b[33mPSU_Test\u001b[39m\u001b[33m\"\u001b[39m)\n",
      "\u001b[36mFile \u001b[39m\u001b[32m~\\PycharmProjects\\esibd_bs\\debugging\\notebooks\\..\\..\\src\\devices\\cgc\\psu\\psu.py:32\u001b[39m, in \u001b[36mPSU.__init__\u001b[39m\u001b[34m(self, com, port, log, idn)\u001b[39m\n\u001b[32m     30\u001b[39m \u001b[38;5;66;03m# Importing dll for hardware control\u001b[39;00m\n\u001b[32m     31\u001b[39m \u001b[38;5;28mself\u001b[39m.psu_dll_path = (\u001b[33mr\u001b[39m\u001b[33m\"\u001b[39m\u001b[33mPSU-CTRL-2D_1-01\u001b[39m\u001b[33m\\\u001b[39m\u001b[33mx64\u001b[39m\u001b[33m\\\u001b[39m\u001b[33mCOM-HVPSU2D.dll\u001b[39m\u001b[33m\"\u001b[39m)\n\u001b[32m---> \u001b[39m\u001b[32m32\u001b[39m \u001b[38;5;28mself\u001b[39m.rf_psu_dll = ctypes.WinDLL(\u001b[38;5;28mself\u001b[39m.psu_dll_path)\n\u001b[32m     34\u001b[39m \u001b[38;5;66;03m#Importing error messages. See PSU manual.\u001b[39;00m\n\u001b[32m     35\u001b[39m \u001b[38;5;28mself\u001b[39m.err_path = \u001b[33mr\u001b[39m\u001b[33m\"\u001b[39m\u001b[33mAdd_Ons\u001b[39m\u001b[33m\\\u001b[39m\u001b[33mjson_res\u001b[39m\u001b[33m\\\u001b[39m\u001b[33merror_codes.json\u001b[39m\u001b[33m\"\u001b[39m\n",
      "\u001b[36mFile \u001b[39m\u001b[32m~\\anaconda3\\envs\\esibd\\Lib\\ctypes\\__init__.py:379\u001b[39m, in \u001b[36mCDLL.__init__\u001b[39m\u001b[34m(self, name, mode, handle, use_errno, use_last_error, winmode)\u001b[39m\n\u001b[32m    376\u001b[39m \u001b[38;5;28mself\u001b[39m._FuncPtr = _FuncPtr\n\u001b[32m    378\u001b[39m \u001b[38;5;28;01mif\u001b[39;00m handle \u001b[38;5;129;01mis\u001b[39;00m \u001b[38;5;28;01mNone\u001b[39;00m:\n\u001b[32m--> \u001b[39m\u001b[32m379\u001b[39m     \u001b[38;5;28mself\u001b[39m._handle = _dlopen(\u001b[38;5;28mself\u001b[39m._name, mode)\n\u001b[32m    380\u001b[39m \u001b[38;5;28;01melse\u001b[39;00m:\n\u001b[32m    381\u001b[39m     \u001b[38;5;28mself\u001b[39m._handle = handle\n",
      "\u001b[31mFileNotFoundError\u001b[39m: Could not find module 'C:\\Users\\ESIBDlab\\PycharmProjects\\esibd_bs\\debugging\\notebooks\\PSU-CTRL-2D_1-01\\x64\\COM-HVPSU2D.dll' (or one of its dependencies). Try using the full path with constructor syntax."
     ]
    }
   ],
   "source": [
    "# Initialize PSU\n",
    "# Adjust COM and port numbers as needed\n",
    "com_port = 6  # COM3\n",
    "port_number = 1  # Software port 0\n",
    "\n",
    "psu = PSU(com=com_port, port=port_number, idn=\"PSU_Test\")"
   ]
  },
  {
   "cell_type": "markdown",
   "id": "b19ff403",
   "metadata": {},
   "source": [
    "## Open connection to PSU"
   ]
  },
  {
   "cell_type": "code",
   "execution_count": null,
   "id": "081abdca",
   "metadata": {},
   "outputs": [],
   "source": [
    "# Open port\n",
    "psu.open_port(com=com_port, port=port_number)"
   ]
  },
  {
   "cell_type": "markdown",
   "id": "03156d5a",
   "metadata": {},
   "source": [
    "## Get device information"
   ]
  },
  {
   "cell_type": "code",
   "execution_count": null,
   "id": "a02cbeac",
   "metadata": {},
   "outputs": [],
   "source": [
    "# Get firmware version\n",
    "status, fw_version = psu.get_fw_version()\n",
    "print(f\"Status: {status}, Firmware Version: {fw_version}\")"
   ]
  },
  {
   "cell_type": "code",
   "execution_count": null,
   "id": "a0aef5ee",
   "metadata": {},
   "outputs": [],
   "source": [
    "# Get product ID\n",
    "status, product_id = psu.get_product_id()\n",
    "print(f\"Status: {status}, Product ID: {product_id}\")"
   ]
  },
  {
   "cell_type": "markdown",
   "id": "a81c9cbd",
   "metadata": {},
   "source": [
    "## Get device state"
   ]
  },
  {
   "cell_type": "code",
   "execution_count": null,
   "id": "0741feff",
   "metadata": {},
   "outputs": [],
   "source": [
    "# Get main state\n",
    "status, main_state = psu.get_main_state()\n",
    "print(f\"Status: {status}, Main State: 0x{main_state:04X}\")"
   ]
  },
  {
   "cell_type": "markdown",
   "id": "6a83033c",
   "metadata": {},
   "source": [
    "## Close connection"
   ]
  },
  {
   "cell_type": "code",
   "execution_count": null,
   "id": "374bac55",
   "metadata": {},
   "outputs": [],
   "source": [
    "# Close port when done\n",
    "psu.close_port()"
   ]
  }
 ],
 "metadata": {
  "kernelspec": {
   "display_name": "Python 3 (ipykernel)",
   "language": "python",
   "name": "python3"
  },
  "language_info": {
   "name": "python"
  }
 },
 "nbformat": 4,
 "nbformat_minor": 5
}
