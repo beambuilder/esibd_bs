{
 "cells": [
  {
   "cell_type": "markdown",
   "id": "c26b45a6",
   "metadata": {},
   "source": [
    "# CGC PSU Debug Test\n",
    "\n",
    "Simple notebook to test PSU connection and basic functionality."
   ]
  },
  {
   "cell_type": "markdown",
   "id": "1b95341e",
   "metadata": {},
   "source": [
    "## Import the PSU class"
   ]
  },
  {
   "cell_type": "code",
   "id": "234084d5",
   "metadata": {
    "ExecuteTime": {
     "end_time": "2025-10-27T09:55:52.066921Z",
     "start_time": "2025-10-27T09:55:52.039455Z"
    }
   },
   "source": [
    "import sys\n",
    "import os\n",
    "#sys.path.append(r'c:\\Users\\Niclas\\Desktop\\esibd_bs\\src')\n",
    "sys.path.append(os.path.join(os.getcwd(), '..', '..', 'src'))\n",
    "\n",
    "from devices.cgc.psu import PSU"
   ],
   "outputs": [],
   "execution_count": 3
  },
  {
   "cell_type": "markdown",
   "id": "2959d783",
   "metadata": {},
   "source": [
    "## Initialize PSU instance\n",
    "\n",
    "Set COM port and port number according to your hardware configuration."
   ]
  },
  {
   "cell_type": "code",
   "id": "f5ce1841",
   "metadata": {
    "ExecuteTime": {
     "end_time": "2025-10-27T09:57:11.737725Z",
     "start_time": "2025-10-27T09:57:11.571029Z"
    }
   },
   "source": [
    "# Initialize PSU\n",
    "# Adjust COM and port numbers as needed\n",
    "com_port = 6  # COM3\n",
    "port_number = 1  # Software port 0\n",
    "\n",
    "psu = PSU(com=com_port, port=port_number, idn=\"PSU_Test\")"
   ],
   "outputs": [
    {
     "ename": "FileNotFoundError",
     "evalue": "Could not find module 'C:\\Users\\ESIBDlab\\PycharmProjects\\esibd_bs\\debugging\\notebooks\\PSU-CTRL-2D_1-01\\x64\\COM-HVPSU2D.dll' (or one of its dependencies). Try using the full path with constructor syntax.",
     "output_type": "error",
     "traceback": [
      "\u001B[31m---------------------------------------------------------------------------\u001B[39m",
      "\u001B[31mFileNotFoundError\u001B[39m                         Traceback (most recent call last)",
      "\u001B[36mCell\u001B[39m\u001B[36m \u001B[39m\u001B[32mIn[4]\u001B[39m\u001B[32m, line 6\u001B[39m\n\u001B[32m      3\u001B[39m com_port = \u001B[32m6\u001B[39m  \u001B[38;5;66;03m# COM3\u001B[39;00m\n\u001B[32m      4\u001B[39m port_number = \u001B[32m1\u001B[39m  \u001B[38;5;66;03m# Software port 0\u001B[39;00m\n\u001B[32m----> \u001B[39m\u001B[32m6\u001B[39m psu = PSU(com=com_port, port=port_number, idn=\u001B[33m\"\u001B[39m\u001B[33mPSU_Test\u001B[39m\u001B[33m\"\u001B[39m)\n",
      "\u001B[36mFile \u001B[39m\u001B[32m~\\PycharmProjects\\esibd_bs\\debugging\\notebooks\\..\\..\\src\\devices\\cgc\\psu\\psu.py:32\u001B[39m, in \u001B[36mPSU.__init__\u001B[39m\u001B[34m(self, com, port, log, idn)\u001B[39m\n\u001B[32m     30\u001B[39m \u001B[38;5;66;03m# Importing dll for hardware control\u001B[39;00m\n\u001B[32m     31\u001B[39m \u001B[38;5;28mself\u001B[39m.psu_dll_path = (\u001B[33mr\u001B[39m\u001B[33m\"\u001B[39m\u001B[33mPSU-CTRL-2D_1-01\u001B[39m\u001B[33m\\\u001B[39m\u001B[33mx64\u001B[39m\u001B[33m\\\u001B[39m\u001B[33mCOM-HVPSU2D.dll\u001B[39m\u001B[33m\"\u001B[39m)\n\u001B[32m---> \u001B[39m\u001B[32m32\u001B[39m \u001B[38;5;28mself\u001B[39m.rf_psu_dll = ctypes.WinDLL(\u001B[38;5;28mself\u001B[39m.psu_dll_path)\n\u001B[32m     34\u001B[39m \u001B[38;5;66;03m#Importing error messages. See PSU manual.\u001B[39;00m\n\u001B[32m     35\u001B[39m \u001B[38;5;28mself\u001B[39m.err_path = \u001B[33mr\u001B[39m\u001B[33m\"\u001B[39m\u001B[33mAdd_Ons\u001B[39m\u001B[33m\\\u001B[39m\u001B[33mjson_res\u001B[39m\u001B[33m\\\u001B[39m\u001B[33merror_codes.json\u001B[39m\u001B[33m\"\u001B[39m\n",
      "\u001B[36mFile \u001B[39m\u001B[32m~\\anaconda3\\envs\\esibd\\Lib\\ctypes\\__init__.py:379\u001B[39m, in \u001B[36mCDLL.__init__\u001B[39m\u001B[34m(self, name, mode, handle, use_errno, use_last_error, winmode)\u001B[39m\n\u001B[32m    376\u001B[39m \u001B[38;5;28mself\u001B[39m._FuncPtr = _FuncPtr\n\u001B[32m    378\u001B[39m \u001B[38;5;28;01mif\u001B[39;00m handle \u001B[38;5;129;01mis\u001B[39;00m \u001B[38;5;28;01mNone\u001B[39;00m:\n\u001B[32m--> \u001B[39m\u001B[32m379\u001B[39m     \u001B[38;5;28mself\u001B[39m._handle = _dlopen(\u001B[38;5;28mself\u001B[39m._name, mode)\n\u001B[32m    380\u001B[39m \u001B[38;5;28;01melse\u001B[39;00m:\n\u001B[32m    381\u001B[39m     \u001B[38;5;28mself\u001B[39m._handle = handle\n",
      "\u001B[31mFileNotFoundError\u001B[39m: Could not find module 'C:\\Users\\ESIBDlab\\PycharmProjects\\esibd_bs\\debugging\\notebooks\\PSU-CTRL-2D_1-01\\x64\\COM-HVPSU2D.dll' (or one of its dependencies). Try using the full path with constructor syntax."
     ]
    }
   ],
   "execution_count": 4
  },
  {
   "cell_type": "markdown",
   "id": "b19ff403",
   "metadata": {},
   "source": [
    "## Open connection to PSU"
   ]
  },
  {
   "cell_type": "code",
   "execution_count": null,
   "id": "081abdca",
   "metadata": {},
   "outputs": [],
   "source": [
    "# Open port\n",
    "psu.open_port(com=com_port, port=port_number)"
   ]
  },
  {
   "cell_type": "markdown",
   "id": "03156d5a",
   "metadata": {},
   "source": [
    "## Get device information"
   ]
  },
  {
   "cell_type": "code",
   "execution_count": null,
   "id": "a02cbeac",
   "metadata": {},
   "outputs": [],
   "source": [
    "# Get firmware version\n",
    "status, fw_version = psu.get_fw_version()\n",
    "print(f\"Status: {status}, Firmware Version: {fw_version}\")"
   ]
  },
  {
   "cell_type": "code",
   "execution_count": null,
   "id": "a0aef5ee",
   "metadata": {},
   "outputs": [],
   "source": [
    "# Get product ID\n",
    "status, product_id = psu.get_product_id()\n",
    "print(f\"Status: {status}, Product ID: {product_id}\")"
   ]
  },
  {
   "cell_type": "markdown",
   "id": "a81c9cbd",
   "metadata": {},
   "source": [
    "## Get device state"
   ]
  },
  {
   "cell_type": "code",
   "execution_count": null,
   "id": "0741feff",
   "metadata": {},
   "outputs": [],
   "source": [
    "# Get main state\n",
    "status, main_state = psu.get_main_state()\n",
    "print(f\"Status: {status}, Main State: 0x{main_state:04X}\")"
   ]
  },
  {
   "cell_type": "markdown",
   "id": "6a83033c",
   "metadata": {},
   "source": [
    "## Close connection"
   ]
  },
  {
   "cell_type": "code",
   "execution_count": null,
   "id": "374bac55",
   "metadata": {},
   "outputs": [],
   "source": [
    "# Close port when done\n",
    "psu.close_port()"
   ]
  }
 ],
 "metadata": {
  "language_info": {
   "name": "python"
  },
  "kernelspec": {
   "name": "python3",
   "language": "python",
   "display_name": "Python 3 (ipykernel)"
  }
 },
 "nbformat": 4,
 "nbformat_minor": 5
}
