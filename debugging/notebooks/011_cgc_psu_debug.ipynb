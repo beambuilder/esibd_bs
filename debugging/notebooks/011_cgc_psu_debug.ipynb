{
 "cells": [
  {
   "cell_type": "markdown",
   "id": "c26b45a6",
   "metadata": {},
   "source": [
    "# CGC PSU Debug Test\n",
    "\n",
    "Simple notebook to test PSU connection and basic functionality."
   ]
  },
  {
   "cell_type": "markdown",
   "id": "1b95341e",
   "metadata": {},
   "source": [
    "## Import the PSU class"
   ]
  },
  {
   "cell_type": "code",
   "id": "234084d5",
   "metadata": {},
   "source": [
    "import sys\n",
    "import os\n",
    "#sys.path.append(r'c:\\Users\\Niclas\\Desktop\\esibd_bs\\src')\n",
    "sys.path.append(os.path.join(os.getcwd(), '..', '..', 'src'))\n",
    "\n",
    "from devices.cgc.psu import PSU"
   ],
   "outputs": [],
   "execution_count": null
  },
  {
   "cell_type": "markdown",
   "id": "2959d783",
   "metadata": {},
   "source": [
    "## Initialize PSU instance\n",
    "\n",
    "Set COM port and port number according to your hardware configuration."
   ]
  },
  {
   "cell_type": "code",
   "id": "f5ce1841",
   "metadata": {},
   "source": [
    "# Initialize PSU\n",
    "# Adjust COM and port numbers as needed\n",
    "com_port = 6  # COM3\n",
    "port_number = 1  # Software port 0\n",
    "\n",
    "psu = PSU(com=com_port, port=port_number, idn=\"PSU_Test\")"
   ],
   "outputs": [],
   "execution_count": null
  },
  {
   "cell_type": "markdown",
   "id": "b19ff403",
   "metadata": {},
   "source": [
    "## Open connection to PSU"
   ]
  },
  {
   "cell_type": "code",
   "id": "081abdca",
   "metadata": {},
   "source": [
    "# Open port\n",
    "psu.open_port(com=com_port, port=port_number)"
   ],
   "outputs": [],
   "execution_count": null
  },
  {
   "cell_type": "markdown",
   "id": "03156d5a",
   "metadata": {},
   "source": [
    "## Get device information"
   ]
  },
  {
   "cell_type": "code",
   "id": "a02cbeac",
   "metadata": {},
   "source": [
    "# Get firmware version\n",
    "status, fw_version = psu.get_fw_version()\n",
    "print(f\"Status: {status}, Firmware Version: {fw_version}\")"
   ],
   "outputs": [],
   "execution_count": null
  },
  {
   "cell_type": "code",
   "id": "a0aef5ee",
   "metadata": {},
   "source": [
    "# Get product ID\n",
    "status, product_id = psu.get_product_id()\n",
    "print(f\"Status: {status}, Product ID: {product_id}\")"
   ],
   "outputs": [],
   "execution_count": null
  },
  {
   "cell_type": "markdown",
   "id": "a81c9cbd",
   "metadata": {},
   "source": [
    "## Get device state"
   ]
  },
  {
   "cell_type": "code",
   "id": "0741feff",
   "metadata": {},
   "source": [
    "# Get main state\n",
    "status, main_state = psu.get_main_state()\n",
    "print(f\"Status: {status}, Main State: 0x{main_state:04X}\")"
   ],
   "outputs": [],
   "execution_count": null
  },
  {
   "metadata": {},
   "cell_type": "code",
   "source": "",
   "id": "9b77409342a4e2aa",
   "outputs": [],
   "execution_count": null
  },
  {
   "metadata": {},
   "cell_type": "code",
   "source": "psu.get_housekeeping()",
   "id": "1e19f7fe5e7f74cf",
   "outputs": [],
   "execution_count": null
  },
  {
   "metadata": {},
   "cell_type": "code",
   "source": "psu.get_io_error_message()",
   "id": "a3239dc24256cb71",
   "outputs": [],
   "execution_count": null
  },
  {
   "metadata": {},
   "cell_type": "code",
   "source": "",
   "id": "da107b85bdec933c",
   "outputs": [],
   "execution_count": null
  },
  {
   "cell_type": "markdown",
   "id": "6a83033c",
   "metadata": {},
   "source": [
    "## Close connection"
   ]
  },
  {
   "cell_type": "code",
   "id": "374bac55",
   "metadata": {},
   "source": [
    "# Close port when done\n",
    "psu.close_port()"
   ],
   "outputs": [],
   "execution_count": null
  },
  {
   "metadata": {},
   "cell_type": "code",
   "source": "",
   "id": "e418db4a5bfb2cac",
   "outputs": [],
   "execution_count": null
  },
  {
   "metadata": {},
   "cell_type": "code",
   "source": "",
   "id": "f84725fd209753e8",
   "outputs": [],
   "execution_count": null
  },
  {
   "metadata": {},
   "cell_type": "code",
   "source": "psu.get_buffer_state()",
   "id": "69f1926442c34ca4",
   "outputs": [],
   "execution_count": null
  },
  {
   "metadata": {},
   "cell_type": "code",
   "source": "psu.get_interlock_enable()",
   "id": "74e8d237c44f3208",
   "outputs": [],
   "execution_count": null
  },
  {
   "metadata": {},
   "cell_type": "code",
   "source": "psu.get_main_state()",
   "id": "3828b137bbb573d",
   "outputs": [],
   "execution_count": null
  },
  {
   "metadata": {},
   "cell_type": "code",
   "source": "psu.get_device_state()",
   "id": "f83c3dbffc3c5325",
   "outputs": [],
   "execution_count": null
  },
  {
   "metadata": {},
   "cell_type": "code",
   "source": "psu.get_housekeeping()",
   "id": "504a1d8b34c54434",
   "outputs": [],
   "execution_count": null
  },
  {
   "metadata": {},
   "cell_type": "code",
   "source": "psu.get_sensor_data()",
   "id": "bd18039a592511e3",
   "outputs": [],
   "execution_count": null
  },
  {
   "metadata": {},
   "cell_type": "code",
   "source": "psu.get_fan_data()",
   "id": "73812f79bcd06cce",
   "outputs": [],
   "execution_count": null
  },
  {
   "metadata": {},
   "cell_type": "code",
   "source": "psu.get_led_data()",
   "id": "84bbc88f84f2032e",
   "outputs": [],
   "execution_count": null
  },
  {
   "metadata": {},
   "cell_type": "code",
   "source": "psu.get_psu0_adc_housekeeping()",
   "id": "3e507d81412e2b9",
   "outputs": [],
   "execution_count": null
  },
  {
   "metadata": {},
   "cell_type": "code",
   "source": "psu.get_psu1_adc_housekeeping()",
   "id": "30c85dec5c2af825",
   "outputs": [],
   "execution_count": null
  },
  {
   "metadata": {},
   "cell_type": "code",
   "source": "psu.get_psu0_housekeeping()",
   "id": "dd5fd57d8659a964",
   "outputs": [],
   "execution_count": null
  },
  {
   "metadata": {},
   "cell_type": "code",
   "source": "psu.get_psu1_housekeeping()",
   "id": "4ea7e881d6860c9",
   "outputs": [],
   "execution_count": null
  },
  {
   "metadata": {},
   "cell_type": "code",
   "source": "psu.get_psu0_data()",
   "id": "978f62d4b7f80620",
   "outputs": [],
   "execution_count": null
  },
  {
   "metadata": {},
   "cell_type": "code",
   "source": "psu.get_psu1_data()",
   "id": "ee40c5ba568912b6",
   "outputs": [],
   "execution_count": null
  },
  {
   "metadata": {},
   "cell_type": "code",
   "source": "psu.get_psu0_output_voltage()",
   "id": "61a740a93c076931",
   "outputs": [],
   "execution_count": null
  },
  {
   "metadata": {},
   "cell_type": "code",
   "source": "psu.get_psu1_output_voltage()",
   "id": "171b147b4a496fb1",
   "outputs": [],
   "execution_count": null
  },
  {
   "metadata": {},
   "cell_type": "code",
   "source": "psu.get_psu0_set_output_voltage()",
   "id": "f7d0cc7555238490",
   "outputs": [],
   "execution_count": null
  },
  {
   "metadata": {},
   "cell_type": "code",
   "source": "psu.get_psu1_set_output_voltage()",
   "id": "5fcaa37f87ed7bdc",
   "outputs": [],
   "execution_count": null
  },
  {
   "metadata": {},
   "cell_type": "code",
   "source": "psu.get_psu0_output_current()",
   "id": "63b0eb7a221403a2",
   "outputs": [],
   "execution_count": null
  },
  {
   "metadata": {},
   "cell_type": "code",
   "source": "psu.get_psu1_output_current()",
   "id": "feb43647bd799c02",
   "outputs": [],
   "execution_count": null
  },
  {
   "metadata": {},
   "cell_type": "code",
   "source": "psu.get_psu0_set_output_current()",
   "id": "6e91b281305431d3",
   "outputs": [],
   "execution_count": null
  },
  {
   "metadata": {},
   "cell_type": "code",
   "source": "psu.get_psu1_set_output_current()",
   "id": "7cee9c5d02a40e22",
   "outputs": [],
   "execution_count": null
  },
  {
   "metadata": {},
   "cell_type": "code",
   "source": "psu.has_psu_full_range()",
   "id": "2c352c16c6f7cf46",
   "outputs": [],
   "execution_count": null
  },
  {
   "metadata": {},
   "cell_type": "code",
   "source": "psu.get_psu_full_range()",
   "id": "10b74864bb79bc50",
   "outputs": [],
   "execution_count": null
  },
  {
   "metadata": {},
   "cell_type": "code",
   "source": "psu.get_psu_state()",
   "id": "2554da46448cd5c7",
   "outputs": [],
   "execution_count": null
  },
  {
   "metadata": {},
   "cell_type": "code",
   "source": "psu.get_device_enable()",
   "id": "b0c1756a2bcef96f",
   "outputs": [],
   "execution_count": null
  },
  {
   "metadata": {},
   "cell_type": "code",
   "source": "psu.get_config_name(1)",
   "id": "b72116feb48e7d80",
   "outputs": [],
   "execution_count": null
  },
  {
   "metadata": {},
   "cell_type": "code",
   "source": "psu.get_config_list()",
   "id": "54f5f747d7a996d4",
   "outputs": [],
   "execution_count": null
  },
  {
   "metadata": {},
   "cell_type": "code",
   "source": "psu.get_cpu_data()",
   "id": "db508b93ed756ce2",
   "outputs": [],
   "execution_count": null
  },
  {
   "metadata": {},
   "cell_type": "code",
   "source": "psu.get_uptime()",
   "id": "7d34ba782ce4e211",
   "outputs": [],
   "execution_count": null
  },
  {
   "metadata": {},
   "cell_type": "code",
   "source": "psu.get_hw_type()",
   "id": "14ae8e44669acd37",
   "outputs": [],
   "execution_count": null
  },
  {
   "metadata": {},
   "cell_type": "code",
   "source": "psu.get_hw_version()",
   "id": "2b709ff32a2bc19b",
   "outputs": [],
   "execution_count": null
  },
  {
   "metadata": {},
   "cell_type": "code",
   "source": "psu.get_fw_version()",
   "id": "f2804eb453347d7c",
   "outputs": [],
   "execution_count": null
  },
  {
   "metadata": {},
   "cell_type": "code",
   "source": "psu.get_fw_date()",
   "id": "16e37b48d514b803",
   "outputs": [],
   "execution_count": null
  },
  {
   "metadata": {},
   "cell_type": "code",
   "source": "psu.get_product_id()",
   "id": "e7bc9019dd3873d3",
   "outputs": [],
   "execution_count": null
  },
  {
   "metadata": {},
   "cell_type": "code",
   "source": "psu.get_product_no()",
   "id": "57d35c56e8f7788f",
   "outputs": [],
   "execution_count": null
  },
  {
   "metadata": {},
   "cell_type": "code",
   "source": "psu.get_interface_state()",
   "id": "7e25964dd3157525",
   "outputs": [],
   "execution_count": null
  },
  {
   "metadata": {},
   "cell_type": "code",
   "source": "psu.get_error_message()",
   "id": "b1bf2e8de15d069",
   "outputs": [],
   "execution_count": null
  },
  {
   "metadata": {},
   "cell_type": "code",
   "source": "psu.get_io_state()",
   "id": "7598b46f85965f80",
   "outputs": [],
   "execution_count": null
  },
  {
   "metadata": {},
   "cell_type": "code",
   "source": "psu.get_io_error_message()",
   "id": "2bc5d6e101f4a453",
   "outputs": [],
   "execution_count": null
  },
  {
   "metadata": {},
   "cell_type": "code",
   "source": "",
   "id": "14a31c54f360aa3a",
   "outputs": [],
   "execution_count": null
  }
 ],
 "metadata": {
  "kernelspec": {
   "display_name": "Python 3 (ipykernel)",
   "language": "python",
   "name": "python3"
  },
  "language_info": {
   "name": "python"
  }
 },
 "nbformat": 4,
 "nbformat_minor": 5
}
