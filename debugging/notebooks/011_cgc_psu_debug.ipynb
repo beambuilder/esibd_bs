{
 "cells": [
  {
   "cell_type": "markdown",
   "id": "c26b45a6",
   "metadata": {},
   "source": [
    "# CGC PSU Debug Test\n",
    "\n",
    "Simple notebook to test PSU connection and basic functionality."
   ]
  },
  {
   "cell_type": "markdown",
   "id": "1b95341e",
   "metadata": {},
   "source": [
    "## Import the PSU class"
   ]
  },
  {
   "cell_type": "code",
   "id": "234084d5",
   "metadata": {
    "ExecuteTime": {
     "end_time": "2025-10-27T10:10:13.134922Z",
     "start_time": "2025-10-27T10:10:13.117845Z"
    }
   },
   "source": [
    "import sys\n",
    "import os\n",
    "#sys.path.append(r'c:\\Users\\Niclas\\Desktop\\esibd_bs\\src')\n",
    "sys.path.append(os.path.join(os.getcwd(), '..', '..', 'src'))\n",
    "\n",
    "from devices.cgc.psu import PSU"
   ],
   "outputs": [],
   "execution_count": 1
  },
  {
   "cell_type": "markdown",
   "id": "2959d783",
   "metadata": {},
   "source": [
    "## Initialize PSU instance\n",
    "\n",
    "Set COM port and port number according to your hardware configuration."
   ]
  },
  {
   "cell_type": "code",
   "id": "f5ce1841",
   "metadata": {
    "ExecuteTime": {
     "end_time": "2025-10-27T10:10:15.303618Z",
     "start_time": "2025-10-27T10:10:15.300242Z"
    }
   },
   "source": [
    "# Initialize PSU\n",
    "# Adjust COM and port numbers as needed\n",
    "com_port = 6  # COM3\n",
    "port_number = 1  # Software port 0\n",
    "\n",
    "psu = PSU(com=com_port, port=port_number, idn=\"PSU_Test\")"
   ],
   "outputs": [],
   "execution_count": 2
  },
  {
   "cell_type": "markdown",
   "id": "b19ff403",
   "metadata": {},
   "source": [
    "## Open connection to PSU"
   ]
  },
  {
   "cell_type": "code",
   "id": "081abdca",
   "metadata": {
    "ExecuteTime": {
     "end_time": "2025-10-27T10:10:17.444248Z",
     "start_time": "2025-10-27T10:10:17.312742Z"
    }
   },
   "source": [
    "# Open port\n",
    "psu.open_port(com=com_port, port=port_number)"
   ],
   "outputs": [
    {
     "name": "stdout",
     "output_type": "stream",
     "text": [
      "Port 1 + Com 6 opened\n"
     ]
    }
   ],
   "execution_count": 3
  },
  {
   "cell_type": "markdown",
   "id": "03156d5a",
   "metadata": {},
   "source": [
    "## Get device information"
   ]
  },
  {
   "cell_type": "code",
   "id": "a02cbeac",
   "metadata": {
    "ExecuteTime": {
     "end_time": "2025-10-27T10:10:19.761421Z",
     "start_time": "2025-10-27T10:10:19.748111Z"
    }
   },
   "source": [
    "# Get firmware version\n",
    "status, fw_version = psu.get_fw_version()\n",
    "print(f\"Status: {status}, Firmware Version: {fw_version}\")"
   ],
   "outputs": [
    {
     "name": "stdout",
     "output_type": "stream",
     "text": [
      "Firmware version: 286\n",
      "Status: 0, Firmware Version: 286\n"
     ]
    }
   ],
   "execution_count": 4
  },
  {
   "cell_type": "code",
   "id": "a0aef5ee",
   "metadata": {
    "ExecuteTime": {
     "end_time": "2025-10-27T10:10:22.591014Z",
     "start_time": "2025-10-27T10:10:22.530006Z"
    }
   },
   "source": [
    "# Get product ID\n",
    "status, product_id = psu.get_product_id()\n",
    "print(f\"Status: {status}, Product ID: {product_id}\")"
   ],
   "outputs": [
    {
     "name": "stdout",
     "output_type": "stream",
     "text": [
      "Product ID: HV-PSU-CTRL-2D, Rev.1-00\n",
      "Status: 0, Product ID: HV-PSU-CTRL-2D, Rev.1-00\n"
     ]
    }
   ],
   "execution_count": 5
  },
  {
   "cell_type": "markdown",
   "id": "a81c9cbd",
   "metadata": {},
   "source": [
    "## Get device state"
   ]
  },
  {
   "cell_type": "code",
   "id": "0741feff",
   "metadata": {
    "ExecuteTime": {
     "end_time": "2025-10-27T10:06:03.002226Z",
     "start_time": "2025-10-27T10:06:02.989756Z"
    }
   },
   "source": [
    "# Get main state\n",
    "status, main_state = psu.get_main_state()\n",
    "print(f\"Status: {status}, Main State: 0x{main_state:04X}\")"
   ],
   "outputs": [
    {
     "name": "stdout",
     "output_type": "stream",
     "text": [
      "Main state: 0x8004\n",
      "Status: 0, Main State: 0x8004\n"
     ]
    }
   ],
   "execution_count": 7
  },
  {
   "metadata": {},
   "cell_type": "code",
   "outputs": [],
   "execution_count": null,
   "source": "",
   "id": "9b77409342a4e2aa"
  },
  {
   "metadata": {
    "ExecuteTime": {
     "end_time": "2025-10-27T10:33:22.190724Z",
     "start_time": "2025-10-27T10:33:22.163655Z"
    }
   },
   "cell_type": "code",
   "source": "psu.get_housekeeping()",
   "id": "1e19f7fe5e7f74cf",
   "outputs": [
    {
     "name": "stdout",
     "output_type": "stream",
     "text": [
      "Housekeeping - VRect: 10.018V, V5V0: 4.984V, V3V3: 3.296V, TempCPU: 22.82°C\n"
     ]
    },
    {
     "data": {
      "text/plain": [
       "(0, 10.018, 4.984, 3.296, 22.82)"
      ]
     },
     "execution_count": 63,
     "metadata": {},
     "output_type": "execute_result"
    }
   ],
   "execution_count": 63
  },
  {
   "metadata": {
    "ExecuteTime": {
     "end_time": "2025-10-27T10:33:30.082431Z",
     "start_time": "2025-10-27T10:33:30.041174Z"
    }
   },
   "cell_type": "code",
   "source": "psu.get_io_error_message()",
   "id": "a3239dc24256cb71",
   "outputs": [
    {
     "ename": "AttributeError",
     "evalue": "'int' object has no attribute 'decode'",
     "output_type": "error",
     "traceback": [
      "\u001B[31m---------------------------------------------------------------------------\u001B[39m",
      "\u001B[31mAttributeError\u001B[39m                            Traceback (most recent call last)",
      "\u001B[36mCell\u001B[39m\u001B[36m \u001B[39m\u001B[32mIn[64]\u001B[39m\u001B[32m, line 1\u001B[39m\n\u001B[32m----> \u001B[39m\u001B[32m1\u001B[39m psu.get_io_error_message()\n",
      "\u001B[36mFile \u001B[39m\u001B[32m~\\PycharmProjects\\esibd_bs\\debugging\\notebooks\\..\\..\\src\\devices\\cgc\\psu\\psu.py:1291\u001B[39m, in \u001B[36mPSU.get_io_error_message\u001B[39m\u001B[34m(self)\u001B[39m\n\u001B[32m   1289\u001B[39m msg_ptr = \u001B[38;5;28mself\u001B[39m.rf_psu_dll.COM_HVPSU2D_GetIOErrorMessage(\u001B[38;5;28mself\u001B[39m.port)\n\u001B[32m   1290\u001B[39m \u001B[38;5;28mself\u001B[39m.rf_psu_dll.COM_HVPSU2D_GetIOErrorMessage.restype = ctypes.c_char_p\n\u001B[32m-> \u001B[39m\u001B[32m1291\u001B[39m message = msg_ptr.decode() \u001B[38;5;28;01mif\u001B[39;00m msg_ptr \u001B[38;5;28;01melse\u001B[39;00m \u001B[33m\"\u001B[39m\u001B[33mNo error\u001B[39m\u001B[33m\"\u001B[39m\n\u001B[32m   1292\u001B[39m \u001B[38;5;28mprint\u001B[39m(\u001B[33mf\u001B[39m\u001B[33m\"\u001B[39m\u001B[33mIO error message: \u001B[39m\u001B[38;5;132;01m{\u001B[39;00mmessage\u001B[38;5;132;01m}\u001B[39;00m\u001B[33m\"\u001B[39m)\n\u001B[32m   1293\u001B[39m \u001B[38;5;28;01mreturn\u001B[39;00m message\n",
      "\u001B[31mAttributeError\u001B[39m: 'int' object has no attribute 'decode'"
     ]
    }
   ],
   "execution_count": 64
  },
  {
   "metadata": {},
   "cell_type": "code",
   "outputs": [],
   "execution_count": null,
   "source": "",
   "id": "da107b85bdec933c"
  },
  {
   "cell_type": "markdown",
   "id": "6a83033c",
   "metadata": {},
   "source": [
    "## Close connection"
   ]
  },
  {
   "cell_type": "code",
   "id": "374bac55",
   "metadata": {
    "ExecuteTime": {
     "end_time": "2025-10-27T10:33:54.604920Z",
     "start_time": "2025-10-27T10:33:54.575443Z"
    }
   },
   "source": [
    "# Close port when done\n",
    "psu.close_port()"
   ],
   "outputs": [
    {
     "name": "stdout",
     "output_type": "stream",
     "text": [
      "Port 1 + Com 6 closed\n"
     ]
    }
   ],
   "execution_count": 65
  },
  {
   "metadata": {},
   "cell_type": "code",
   "outputs": [],
   "execution_count": null,
   "source": "",
   "id": "e418db4a5bfb2cac"
  }
 ],
 "metadata": {
  "kernelspec": {
   "display_name": "Python 3 (ipykernel)",
   "language": "python",
   "name": "python3"
  },
  "language_info": {
   "name": "python"
  }
 },
 "nbformat": 4,
 "nbformat_minor": 5
}
