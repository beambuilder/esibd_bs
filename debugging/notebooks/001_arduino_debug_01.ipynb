{
 "cells": [
  {
   "metadata": {},
   "cell_type": "markdown",
   "source": "# Testing Arduino with internal logging and internal thread",
   "id": "e346104680b77c8d"
  },
  {
   "metadata": {
    "ExecuteTime": {
     "end_time": "2025-08-04T06:53:13.371800Z",
     "start_time": "2025-08-04T06:53:13.358293Z"
    }
   },
   "cell_type": "code",
   "source": [
    "import sys\n",
    "import logging\n",
    "from pathlib import Path\n",
    "import datetime\n",
    "# Add project source to Python path\n",
    "project_root = Path.cwd().parent.parent\n",
    "src_path = project_root / \"src\"\n",
    "sys.path.insert(0, str(src_path))\n",
    "\n",
    "print(f\"Project root: {project_root}\")\n",
    "print(f\"Source path: {src_path}\")\n",
    "print(f\"Python path updated: {str(src_path) in sys.path}\")\n",
    "# Import arduino class\n",
    "try:\n",
    "    from devices.arduino.arduino import Arduino\n",
    "    print(\"✅ Successfully imported Arduino class\")\n",
    "except ImportError as e:\n",
    "    print(f\"❌ Failed to import Arduino class: {e}\")\n",
    "    print(\"Check that the src/devices/arduino/arduino.py file exists\")\n",
    "\n"
   ],
   "id": "5dc43d0f65cc86bf",
   "outputs": [
    {
     "name": "stdout",
     "output_type": "stream",
     "text": [
      "Project root: C:\\Users\\ESIBDlab\\PycharmProjects\\esibd_bs\n",
      "Source path: C:\\Users\\ESIBDlab\\PycharmProjects\\esibd_bs\\src\n",
      "Python path updated: True\n",
      "✅ Successfully imported Arduino class\n"
     ]
    }
   ],
   "execution_count": 1
  },
  {
   "metadata": {
    "ExecuteTime": {
     "end_time": "2025-08-04T06:53:43.587820Z",
     "start_time": "2025-08-04T06:53:43.584188Z"
    }
   },
   "cell_type": "code",
   "source": [
    "\n",
    "pump_ard = Arduino(\"Pump_Arduino\", 'COM33', baudrate=115200)\n"
   ],
   "id": "e451bf850b1d00c0",
   "outputs": [],
   "execution_count": 2
  },
  {
   "metadata": {
    "ExecuteTime": {
     "end_time": "2025-08-04T06:59:04.711505Z",
     "start_time": "2025-08-04T06:59:04.707351Z"
    }
   },
   "cell_type": "code",
   "source": "pump_ard.enable_file_logging()",
   "id": "29128af720f36712",
   "outputs": [
    {
     "data": {
      "text/plain": [
       "True"
      ]
     },
     "execution_count": 5,
     "metadata": {},
     "output_type": "execute_result"
    }
   ],
   "execution_count": 5
  },
  {
   "metadata": {
    "ExecuteTime": {
     "end_time": "2025-08-04T06:59:36.469744Z",
     "start_time": "2025-08-04T06:59:36.456636Z"
    }
   },
   "cell_type": "code",
   "source": "pump_ard.connect()",
   "id": "9c253825b28aca1",
   "outputs": [
    {
     "data": {
      "text/plain": [
       "True"
      ]
     },
     "execution_count": 6,
     "metadata": {},
     "output_type": "execute_result"
    }
   ],
   "execution_count": 6
  },
  {
   "metadata": {
    "ExecuteTime": {
     "end_time": "2025-08-04T06:59:38.769408Z",
     "start_time": "2025-08-04T06:59:38.766658Z"
    }
   },
   "cell_type": "code",
   "source": "pump_ard.hk_interval = 1",
   "id": "1ba221345249b1be",
   "outputs": [],
   "execution_count": 7
  },
  {
   "metadata": {
    "ExecuteTime": {
     "end_time": "2025-08-04T06:59:54.783938Z",
     "start_time": "2025-08-04T06:59:54.780417Z"
    }
   },
   "cell_type": "code",
   "source": "pump_ard.get_status()",
   "id": "2945ba3cd678a0fd",
   "outputs": [
    {
     "data": {
      "text/plain": [
       "{'device_id': 'Pump_Arduino',\n",
       " 'port': 'COM33',\n",
       " 'baudrate': 115200,\n",
       " 'connected': True,\n",
       " 'timeout': 1.0,\n",
       " 'data_parser': 'pump_locker',\n",
       " 'hk_running': False,\n",
       " 'hk_interval': 1,\n",
       " 'external_thread': False}"
      ]
     },
     "execution_count": 8,
     "metadata": {},
     "output_type": "execute_result"
    }
   ],
   "execution_count": 8
  },
  {
   "metadata": {
    "ExecuteTime": {
     "end_time": "2025-08-04T07:04:21.601944Z",
     "start_time": "2025-08-04T07:04:21.596941Z"
    }
   },
   "cell_type": "code",
   "source": "pump_ard.read_arduino_data()",
   "id": "777dbfbe073561a2",
   "outputs": [
    {
     "data": {
      "text/plain": [
       "{'temperature': 19.37,\n",
       " 'fan_power': 0,\n",
       " 'waterflow': 0.0,\n",
       " 'raw_data': 'Temperature: 19.37 °C | Fan_PWR: 0 % | H2O_FRate: 0.0 L/min'}"
      ]
     },
     "execution_count": 26,
     "metadata": {},
     "output_type": "execute_result"
    }
   ],
   "execution_count": 26
  },
  {
   "metadata": {
    "ExecuteTime": {
     "end_time": "2025-08-04T07:04:36.190844Z",
     "start_time": "2025-08-04T07:04:36.186669Z"
    }
   },
   "cell_type": "code",
   "source": "pump_ard.start_housekeeping()",
   "id": "2ebecefb51844c54",
   "outputs": [
    {
     "data": {
      "text/plain": [
       "True"
      ]
     },
     "execution_count": 27,
     "metadata": {},
     "output_type": "execute_result"
    }
   ],
   "execution_count": 27
  },
  {
   "metadata": {
    "ExecuteTime": {
     "end_time": "2025-08-04T07:06:35.246531Z",
     "start_time": "2025-08-04T07:06:35.243179Z"
    }
   },
   "cell_type": "code",
   "source": "pump_ard.stop_housekeeping()",
   "id": "95bc2afcb8230e75",
   "outputs": [
    {
     "data": {
      "text/plain": [
       "True"
      ]
     },
     "execution_count": 28,
     "metadata": {},
     "output_type": "execute_result"
    }
   ],
   "execution_count": 28
  },
  {
   "metadata": {
    "ExecuteTime": {
     "end_time": "2025-08-04T07:06:36.473181Z",
     "start_time": "2025-08-04T07:06:36.466718Z"
    }
   },
   "cell_type": "code",
   "source": "pump_ard.disconnect()",
   "id": "6d2b64810319a9d1",
   "outputs": [
    {
     "data": {
      "text/plain": [
       "True"
      ]
     },
     "execution_count": 29,
     "metadata": {},
     "output_type": "execute_result"
    }
   ],
   "execution_count": 29
  },
  {
   "metadata": {
    "ExecuteTime": {
     "end_time": "2025-08-04T07:13:20.381490Z",
     "start_time": "2025-08-04T07:13:20.361638Z"
    }
   },
   "cell_type": "code",
   "source": "pump_ard.logger.shutdown()\n",
   "id": "ee1dcd5e2a98d2b",
   "outputs": [
    {
     "ename": "AttributeError",
     "evalue": "'Logger' object has no attribute 'shutdown'",
     "output_type": "error",
     "traceback": [
      "\u001B[31m---------------------------------------------------------------------------\u001B[39m",
      "\u001B[31mAttributeError\u001B[39m                            Traceback (most recent call last)",
      "\u001B[36mCell\u001B[39m\u001B[36m \u001B[39m\u001B[32mIn[35]\u001B[39m\u001B[32m, line 1\u001B[39m\n\u001B[32m----> \u001B[39m\u001B[32m1\u001B[39m pump_ard.logger.shutdown()\n",
      "\u001B[31mAttributeError\u001B[39m: 'Logger' object has no attribute 'shutdown'"
     ]
    }
   ],
   "execution_count": 35
  },
  {
   "metadata": {},
   "cell_type": "markdown",
   "source": "# Testing Arduino Class with external log File and internal thread",
   "id": "4f338759c823cbab"
  },
  {
   "metadata": {
    "ExecuteTime": {
     "end_time": "2025-07-29T13:26:59.403808Z",
     "start_time": "2025-07-29T13:26:59.398829Z"
    }
   },
   "cell_type": "code",
   "source": [
    "import sys\n",
    "import logging\n",
    "from pathlib import Path\n",
    "from datetime import datetime\n",
    "# Add project source to Python path\n",
    "project_root = Path.cwd().parent.parent\n",
    "src_path = project_root / \"src\"\n",
    "sys.path.insert(0, str(src_path))\n",
    "\n",
    "print(f\"Project root: {project_root}\")\n",
    "print(f\"Source path: {src_path}\")\n",
    "print(f\"Python path updated: {str(src_path) in sys.path}\")\n",
    "# Import Arduino class\n",
    "try:\n",
    "    from devices.arduino.arduino import Arduino\n",
    "    print(\"✅ Successfully imported Arduino class\")\n",
    "except ImportError as e:\n",
    "    print(f\"❌ Failed to import Arduino class: {e}\")\n",
    "    print(\"Check that the src/devices/arduino/arduino.py file exists\")"
   ],
   "id": "1c476911f098a6c9",
   "outputs": [
    {
     "name": "stdout",
     "output_type": "stream",
     "text": [
      "Project root: C:\\Users\\ESIBDlab\\PycharmProjects\\esibd_bs\n",
      "Source path: C:\\Users\\ESIBDlab\\PycharmProjects\\esibd_bs\\src\n",
      "Python path updated: True\n",
      "✅ Successfully imported Arduino class\n"
     ]
    }
   ],
   "execution_count": 17
  },
  {
   "metadata": {
    "ExecuteTime": {
     "end_time": "2025-07-29T13:27:00.116925Z",
     "start_time": "2025-07-29T13:27:00.113186Z"
    }
   },
   "cell_type": "code",
   "source": [
    "PUMP_ARD_CONFIG = {\n",
    "    \"device_id\": \"debug_pump_ard_extlog\",\n",
    "    \"port\": \"COM27\",\n",
    "    \"baudrate\": 115200,\n",
    "    \"timeout\": 1.0\n",
    "}"
   ],
   "id": "a0f8b20cc8ce50fb",
   "outputs": [],
   "execution_count": 18
  },
  {
   "metadata": {
    "ExecuteTime": {
     "end_time": "2025-07-29T13:27:00.869081Z",
     "start_time": "2025-07-29T13:27:00.860343Z"
    }
   },
   "cell_type": "code",
   "source": [
    "# Create logs directory if it doesn't exist\n",
    "logs_dir = project_root / \"debugging\" / \"logs\"\n",
    "logs_dir.mkdir(parents=True, exist_ok=True)\n",
    "\n",
    "# Create custom logger with timestamped filename\n",
    "device_id = PUMP_ARD_CONFIG[\"device_id\"]\n",
    "timestamp = datetime.now().strftime(\"%d_%m_%Y_%H_%M_%S\")\n",
    "log_filename = f\"{device_id}_{timestamp}.log\"\n",
    "log_filepath = logs_dir / log_filename\n",
    "\n",
    "print(f\"\\n Creating custom logger...\")\n",
    "print(f\"  Log file: {log_filename}\")\n",
    "\n",
    "# Create custom logger\n",
    "custom_logger = logging.getLogger(f\"notebook.{device_id}\")\n",
    "custom_logger.setLevel(logging.DEBUG)\n",
    "\n",
    "# Clear any existing handlers\n",
    "custom_logger.handlers.clear()\n",
    "\n",
    "# Create file handler with timestamped filename\n",
    "file_handler = logging.FileHandler(log_filepath)\n",
    "file_handler.setLevel(logging.DEBUG)\n",
    "\n",
    "# Create console handler for immediate feedback\n",
    "console_handler = logging.StreamHandler()\n",
    "console_handler.setLevel(logging.INFO)\n",
    "\n",
    "# Create formatter\n",
    "formatter = logging.Formatter(\n",
    "    '%(asctime)s - %(name)s - %(levelname)s - %(message)s',\n",
    "    datefmt='%Y-%m-%d %H:%M:%S'\n",
    ")\n",
    "\n",
    "# Set formatter for both handlers\n",
    "file_handler.setFormatter(formatter)\n",
    "console_handler.setFormatter(formatter)\n",
    "\n",
    "# Add handlers to logger\n",
    "custom_logger.addHandler(file_handler)\n",
    "custom_logger.addHandler(console_handler)\n",
    "\n",
    "print(f\"  ✅ Logger created: {custom_logger.name}\")\n",
    "print(f\"  📁 Log path: {log_filepath}\")\n",
    "\n",
    "# Initialize single Arduino instance with custom logger\n",
    "try:\n",
    "    print(f\"\\n📊 Creating chiller instance...\")\n",
    "\n",
    "    arduino = Arduino(\n",
    "        device_id=PUMP_ARD_CONFIG[\"device_id\"],\n",
    "        port=PUMP_ARD_CONFIG[\"port\"],\n",
    "        baudrate=PUMP_ARD_CONFIG[\"baudrate\"],\n",
    "        timeout=PUMP_ARD_CONFIG[\"timeout\"],\n",
    "        logger=custom_logger\n",
    "    )\n",
    "\n",
    "    print(f\"  ✅ Arduino created successfully\")\n",
    "\n",
    "    # Log the initialization\n",
    "    custom_logger.info(f\"Arduino initialized - Device: {device_id}\")\n",
    "    custom_logger.info(f\"Configuration: Port={PUMP_ARD_CONFIG['port']}, Baudrate={PUMP_ARD_CONFIG['baudrate']}, Timeout={PUMP_ARD_CONFIG['timeout']}\")\n",
    "\n",
    "    # Display initialization details\n",
    "    status = arduino.get_status()\n",
    "\n",
    "    print(f\"\\n🎯 Arduino initialization completed successfully!\")\n",
    "\n",
    "except Exception as e:\n",
    "    print(f\"  ❌ Failed to create Arduino: {str(e)}\")\n",
    "    print(f\"     Error type: {type(e).__name__}\")\n",
    "    custom_logger.error(f\"Arduino initialization failed: {e}\")\n",
    "    arduino = None"
   ],
   "id": "9d689d9ee0a592f5",
   "outputs": [
    {
     "name": "stderr",
     "output_type": "stream",
     "text": [
      "2025-07-29 15:27:00 - notebook.debug_pump_ard_extlog - INFO - Arduino initialized - Device: debug_pump_ard_extlog\n",
      "2025-07-29 15:27:00 - notebook.debug_pump_ard_extlog - INFO - Configuration: Port=COM27, Baudrate=115200, Timeout=1.0\n"
     ]
    },
    {
     "name": "stdout",
     "output_type": "stream",
     "text": [
      "\n",
      " Creating custom logger...\n",
      "  Log file: debug_pump_ard_extlog_29_07_2025_15_27_00.log\n",
      "  ✅ Logger created: notebook.debug_pump_ard_extlog\n",
      "  📁 Log path: C:\\Users\\ESIBDlab\\PycharmProjects\\esibd_bs\\debugging\\logs\\debug_pump_ard_extlog_29_07_2025_15_27_00.log\n",
      "\n",
      "📊 Creating chiller instance...\n",
      "  ✅ Arduino created successfully\n",
      "\n",
      "🎯 Arduino initialization completed successfully!\n"
     ]
    }
   ],
   "execution_count": 19
  },
  {
   "metadata": {
    "ExecuteTime": {
     "end_time": "2025-07-29T13:27:11.249072Z",
     "start_time": "2025-07-29T13:27:11.212916Z"
    }
   },
   "cell_type": "code",
   "source": "arduino.connect()",
   "id": "a46081a5f565c058",
   "outputs": [
    {
     "name": "stderr",
     "output_type": "stream",
     "text": [
      "2025-07-29 15:27:11 - notebook.debug_pump_ard_extlog - INFO - Connecting to Arduino debug_pump_ard_extlog on COM27\n"
     ]
    },
    {
     "data": {
      "text/plain": [
       "True"
      ]
     },
     "execution_count": 20,
     "metadata": {},
     "output_type": "execute_result"
    }
   ],
   "execution_count": 20
  },
  {
   "metadata": {
    "ExecuteTime": {
     "end_time": "2025-07-29T13:27:26.892760Z",
     "start_time": "2025-07-29T13:27:26.887848Z"
    }
   },
   "cell_type": "code",
   "source": "arduino.read_arduino_data()",
   "id": "888765f099ac96e9",
   "outputs": [
    {
     "data": {
      "text/plain": [
       "{'temperature': 22.31,\n",
       " 'fan_power': 40,\n",
       " 'waterflow': 0.0,\n",
       " 'raw_data': 'Temperature: 22.31 °C | Fan_PWR: 40 % | H2O_FRate: 0.0 L/min'}"
      ]
     },
     "execution_count": 21,
     "metadata": {},
     "output_type": "execute_result"
    }
   ],
   "execution_count": 21
  },
  {
   "metadata": {
    "ExecuteTime": {
     "end_time": "2025-07-29T13:28:03.087016Z",
     "start_time": "2025-07-29T13:28:03.084076Z"
    }
   },
   "cell_type": "code",
   "source": "arduino.hk_interval",
   "id": "9a364d98ae2db854",
   "outputs": [
    {
     "data": {
      "text/plain": [
       "30.0"
      ]
     },
     "execution_count": 22,
     "metadata": {},
     "output_type": "execute_result"
    }
   ],
   "execution_count": 22
  },
  {
   "metadata": {
    "ExecuteTime": {
     "end_time": "2025-07-29T13:28:17.801469Z",
     "start_time": "2025-07-29T13:28:17.793953Z"
    }
   },
   "cell_type": "code",
   "source": "arduino.start_housekeeping(interval = 1)",
   "id": "83f211901de40152",
   "outputs": [
    {
     "name": "stderr",
     "output_type": "stream",
     "text": [
      "2025-07-29 15:28:17 - notebook.debug_pump_ard_extlog - INFO - File logging already enabled\n",
      "2025-07-29 15:28:17 - notebook.debug_pump_ard_extlog - INFO - Housekeeping worker started for debug_pump_ard_extlog\n",
      "2025-07-29 15:28:17 - notebook.debug_pump_ard_extlog - INFO - Housekeeping started (internal mode) - interval: 1s\n"
     ]
    },
    {
     "data": {
      "text/plain": [
       "True"
      ]
     },
     "execution_count": 23,
     "metadata": {},
     "output_type": "execute_result"
    }
   ],
   "execution_count": 23
  },
  {
   "metadata": {
    "ExecuteTime": {
     "end_time": "2025-07-29T13:28:41.625786Z",
     "start_time": "2025-07-29T13:28:41.618845Z"
    }
   },
   "cell_type": "code",
   "source": [
    "arduino.stop_housekeeping()\n",
    "arduino.disconnect()"
   ],
   "id": "dac33561259b6d24",
   "outputs": [
    {
     "name": "stderr",
     "output_type": "stream",
     "text": [
      "2025-07-29 15:28:41 - notebook.debug_pump_ard_extlog - INFO - Housekeeping stopped (internal mode)\n",
      "2025-07-29 15:28:41 - notebook.debug_pump_ard_extlog - INFO - Disconnected from Arduino debug_pump_ard_extlog\n"
     ]
    },
    {
     "data": {
      "text/plain": [
       "True"
      ]
     },
     "execution_count": 24,
     "metadata": {},
     "output_type": "execute_result"
    }
   ],
   "execution_count": 24
  },
  {
   "metadata": {},
   "cell_type": "code",
   "outputs": [],
   "execution_count": null,
   "source": "",
   "id": "352a99a4d5b99dc9"
  }
 ],
 "metadata": {
  "kernelspec": {
   "display_name": "Python 3",
   "language": "python",
   "name": "python3"
  },
  "language_info": {
   "codemirror_mode": {
    "name": "ipython",
    "version": 2
   },
   "file_extension": ".py",
   "mimetype": "text/x-python",
   "name": "python",
   "nbconvert_exporter": "python",
   "pygments_lexer": "ipython2",
   "version": "2.7.6"
  }
 },
 "nbformat": 4,
 "nbformat_minor": 5
}
